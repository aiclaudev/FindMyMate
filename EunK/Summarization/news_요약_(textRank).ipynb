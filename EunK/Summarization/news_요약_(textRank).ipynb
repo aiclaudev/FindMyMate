{
  "nbformat": 4,
  "nbformat_minor": 0,
  "metadata": {
    "colab": {
      "provenance": []
    },
    "kernelspec": {
      "name": "python3",
      "display_name": "Python 3"
    },
    "language_info": {
      "name": "python"
    }
  },
  "cells": [
    {
      "cell_type": "code",
      "execution_count": null,
      "metadata": {
        "colab": {
          "base_uri": "https://localhost:8080/"
        },
        "id": "NyMHrfDRrpB_",
        "outputId": "c8bd0f21-9d19-4140-d7e8-3d92c73b935c"
      },
      "outputs": [
        {
          "output_type": "stream",
          "name": "stdout",
          "text": [
            "Looking in indexes: https://pypi.org/simple, https://us-python.pkg.dev/colab-wheels/public/simple/\n",
            "Requirement already satisfied: gensim in /usr/local/lib/python3.7/dist-packages (3.6.0)\n",
            "Requirement already satisfied: smart-open>=1.2.1 in /usr/local/lib/python3.7/dist-packages (from gensim) (5.2.1)\n",
            "Requirement already satisfied: six>=1.5.0 in /usr/local/lib/python3.7/dist-packages (from gensim) (1.15.0)\n",
            "Requirement already satisfied: numpy>=1.11.3 in /usr/local/lib/python3.7/dist-packages (from gensim) (1.21.6)\n",
            "Requirement already satisfied: scipy>=0.18.1 in /usr/local/lib/python3.7/dist-packages (from gensim) (1.7.3)\n"
          ]
        }
      ],
      "source": [
        "pip install gensim"
      ]
    },
    {
      "cell_type": "code",
      "source": [
        "#pip install newspaper3k "
      ],
      "metadata": {
        "id": "B09997ZFr11l"
      },
      "execution_count": null,
      "outputs": []
    },
    {
      "cell_type": "code",
      "source": [
        "from gensim.summarization import summarize\n",
        "#from newspaper import Article"
      ],
      "metadata": {
        "id": "lQYaVBCFsLSu"
      },
      "execution_count": null,
      "outputs": []
    },
    {
      "cell_type": "code",
      "source": [
        "url ='https://n.news.naver.com/article/018/0005342194?cds=news_media_pc&type=editn'\n",
        "news = Article(url, language='ko')\n",
        "news.download()\n",
        "news.parse()"
      ],
      "metadata": {
        "id": "1Zdq6AJlrxw0"
      },
      "execution_count": null,
      "outputs": []
    },
    {
      "cell_type": "code",
      "source": [
        "news.text"
      ],
      "metadata": {
        "colab": {
          "base_uri": "https://localhost:8080/",
          "height": 217
        },
        "id": "5HoHS8Fysadn",
        "outputId": "3cc8406a-70a5-41a3-8cdf-b5c2d40e5935"
      },
      "execution_count": null,
      "outputs": [
        {
          "output_type": "execute_result",
          "data": {
            "text/plain": [
              "'(사진=연합뉴스)\\n\\n(사진=연합뉴스)\\n\\n[이데일리 김영환 기자] “돈 없고 권력 없이는 못 사는 게 이 사회다. 대한민국의 비리를 밝히겠다. 돈이 있으면 판검사도 살 수 있다. 유전무죄 무전유죄, 우리 법이 이렇다.”‘유전무죄 무전유죄.’ 돈 있는 사람은 죄가 없고, 돈 없는 사람은 죄가 있다는 이 말은, 부패한 사법부와 황금만능주의를 비판하는 표현으로 탈주범 지강헌이 외쳐 유명해졌다. 2012년 영국 경제지 더 이코노미스트에서 한국어 발음 그대로를 따와 ‘Yujeon mujwai mujeon yujwai’라고 싣기도 했다.서울올림픽이 성공적으로 마무리된 1988년 10월 16일 때아닌 인질극이 TV를 통해 전국에 생중계됐다. 지강헌을 비롯한 탈옥범 4인이 서울 서대문의 한 가정집에 침입해 가족들을 인질로 삼고 인질극을 벌였다.지강헌은 목적이 있었다. 사건이 발생하기 일주일 전인 1988년 10월 8일 지강헌은 영등포교도소에서 공주교도소로 이송되던 중 교도관을 흉기로 찌르고 탈주해 서울 시내로 잠입했다.교도관을 흉기로 찌르면서 지강헌은 흉악범이 됐지만 그 이전까지는 잡범에 불과했다. 가정집에서 556만원을 훔친 죗값으로 징역과 보호감호를 포함해 17년간 자유를 박탈당해야 했다.지강헌은 반면 73억원을 횡령한 전두환 대통령의 동생 전경환이 겨우 7년 선고에, 그마저도 3년도 지나지 않아 풀려난 사실에 분개했다. “모든 국민은 법 앞에 평등하다.” 대한민국 헌법 11조 1항은 그저 구호일 뿐이었다.전경환은 새마을운동협회 중앙본부 명예회장 겸 명예총재를 지내면서 73억 6000만원 횡령, 새마을신문사의 10억원 탈세 등으로 기소돼 1989년 5월 징역 7년을 받았다. 그러나 2년 1개월이 지난 1991년 6월 가석방 됐으며, 고작 반년여가 지난 1992년 1월 사면 복권됐다.형벌의 무게가 가벼워서였을까. 전경환은 2000년 5월 빌린 돈 20억원을 갚지 못해 소송을 당한 끝에 패소했고 2004년에도 모 건설업체 대표에게 외자 1억 달러를 유치해 주겠다고 약속하고 15억원과 7만 달러를 가로챘다가 다시 징역 5년형을 선고받았다. 이마저도 2개월 수감생활을 하다가 건강을 이유로 ‘형집행정지’를 신청해 구치소를 나왔다.인질극을 벌이던 4명 중 두 명은 자살하고, 지강헌도 자살을 시도하다가 경찰특공대의 저격에 끝내 사망했다. 한 명만이 경찰에 다시 체포됐다. 강영일씨다. 그는 19년을 복역한 뒤 석방됐다.2006년에는 해당 사건을 토대로 가공 설정을 덧붙인 영화 ‘홀리데이’가 제작돼 전국 125만명의 관객을 동원했다. 비록 범죄자의 문제제기이지만 ‘유전무죄 무전유죄’에 공감하고 있던 우리 사회의 반응이다.'"
            ],
            "application/vnd.google.colaboratory.intrinsic+json": {
              "type": "string"
            }
          },
          "metadata": {},
          "execution_count": 12
        }
      ]
    },
    {
      "cell_type": "code",
      "source": [
        "summarize(news.text, word_count=30)"
      ],
      "metadata": {
        "colab": {
          "base_uri": "https://localhost:8080/",
          "height": 53
        },
        "id": "g5dQYrtNsTX9",
        "outputId": "6ca20bce-ba89-4bd1-82b2-8be514721993"
      },
      "execution_count": null,
      "outputs": [
        {
          "output_type": "execute_result",
          "data": {
            "text/plain": [
              "'전경환은 2000년 5월 빌린 돈 20억원을 갚지 못해 소송을 당한 끝에 패소했고 2004년에도 모 건설업체 대표에게 외자 1억 달러를 유치해 주겠다고 약속하고 15억원과 7만 달러를 가로챘다가 다시 징역 5년형을 선고받았다.'"
            ],
            "application/vnd.google.colaboratory.intrinsic+json": {
              "type": "string"
            }
          },
          "metadata": {},
          "execution_count": 14
        }
      ]
    },
    {
      "cell_type": "code",
      "source": [
        "import pandas as pd\n",
        "df = pd.read_csv('summarization.csv')\n",
        "df"
      ],
      "metadata": {
        "colab": {
          "base_uri": "https://localhost:8080/",
          "height": 728
        },
        "id": "h3PR1e3IsWng",
        "outputId": "eaa193fc-ec8c-4858-d033-30e3a564fd99"
      },
      "execution_count": null,
      "outputs": [
        {
          "output_type": "execute_result",
          "data": {
            "text/plain": [
              "        Unnamed: 0                                          utterance  \\\n",
              "0                0  이모랑 사촌동생 파도 쓸려가서 큰일날 뻔함 안가고 일한 나 칭찬해         헐...   \n",
              "1                1  얼척없다 야구 중계해야되서 무궁화급 장사 결정전 방송 안하네  ㅁㅊ 헐 너무해   ...   \n",
              "2                2    시스템 검색  이거 칭구추가해서 공부하는거 시간도 같이 볼수있도 이거 유료같은데...   \n",
              "3                3  저 포켓몬고 다시 하구 잇더요 최애캐 누구얌 이브이 나 같이 귀여운 여우입니당 여우...   \n",
              "4                4  아 음 그래 저 얼굴이면 서사고 뭐고 아 진짜 나는 응팔 뒤늦게 봤거든 저 얼굴로 ...   \n",
              "...            ...                                                ...   \n",
              "279987      279987  가스검침 하고 기록후 연락바람 오늘해요  내일할까요 내일 해도 되고 날짜도썼던가  ...   \n",
              "279988      279988  나도 제습기 세탁기 냉장고 티비 등등 사야되   ㅋㅋㅋㅋㅋㅋㅋ진짜 혼수가전 이야 ㅋ...   \n",
              "279989      279989  알바갈때 화산체육관에 야외 주차장에 주차하는데 ㅇㅇㅇㅇㅇㅇ 화산체육관이 임시 선별소...   \n",
              "279990      279990  아니   나 방금 엄마와서 대화해봤는데 엄마가 나랑 엄마만 원룸같은거 잡아서 이주간...   \n",
              "279991      279991    시스템 사진  밧델없낭 아닌데 2칸있는데 안켜쳣네 꾹누라네까 켜지네 참나 켜진지...   \n",
              "\n",
              "                                                  summary  numberOfTurns  \\\n",
              "0       이모와 사촌동생이 파도에 쓸려가서 큰일 날 뻔했다며 안 가고 일한 자기를 칭찬한다고...              5   \n",
              "1                      야구 중계를 해야 돼서 무궁화급 장사 결정전 방송을 안 한다.              6   \n",
              "2                       무료인 열공시간을 통해서 공부하는 시간을 같이 볼 수 있다.              4   \n",
              "3                     포켓몬고의 최애캐릭터(최애캐) 이브이에 대해서 이야기하고 있다.              6   \n",
              "4                   응답하라 1988을 뒤늦게 보고 배우 얼굴이 본인을 홀렸다고 한다.              7   \n",
              "...                                                   ...            ...   \n",
              "279987                       내일  저녁에 가스 검침하고 기록 후 연락을 한다.              7   \n",
              "279988  혼수가전을 사야 하는 사람에게 5년 뒤에 새 거로 바꿀 테니 중고로 사라고 권하자 ...              7   \n",
              "279989  아르바이트(알바)를 갈 때 화산체육관 야외 주차장에 주차를 하는데 화산체육관이 며칠...              7   \n",
              "279990         엄마와 원룸에서 2주 동안 있어야 하는데 청소비 포함 55만 원이라고 한다.              4   \n",
              "279991  배터리(밧델)가 없는 게 아니라 켜지지 않은 거라 해서 전원을 켜고 이제 연결해서 ...              6   \n",
              "\n",
              "        numberOfUtterances  numberOfParticipants  \n",
              "0                       12                     2  \n",
              "1                       10                     2  \n",
              "2                        8                     2  \n",
              "3                       11                     2  \n",
              "4                        9                     2  \n",
              "...                    ...                   ...  \n",
              "279987                  10                     2  \n",
              "279988                   8                     2  \n",
              "279989                  14                     2  \n",
              "279990                  14                     2  \n",
              "279991                   9                     2  \n",
              "\n",
              "[279992 rows x 6 columns]"
            ],
            "text/html": [
              "\n",
              "  <div id=\"df-77a14b3d-beaa-4fb1-87c5-a6018b676b6e\">\n",
              "    <div class=\"colab-df-container\">\n",
              "      <div>\n",
              "<style scoped>\n",
              "    .dataframe tbody tr th:only-of-type {\n",
              "        vertical-align: middle;\n",
              "    }\n",
              "\n",
              "    .dataframe tbody tr th {\n",
              "        vertical-align: top;\n",
              "    }\n",
              "\n",
              "    .dataframe thead th {\n",
              "        text-align: right;\n",
              "    }\n",
              "</style>\n",
              "<table border=\"1\" class=\"dataframe\">\n",
              "  <thead>\n",
              "    <tr style=\"text-align: right;\">\n",
              "      <th></th>\n",
              "      <th>Unnamed: 0</th>\n",
              "      <th>utterance</th>\n",
              "      <th>summary</th>\n",
              "      <th>numberOfTurns</th>\n",
              "      <th>numberOfUtterances</th>\n",
              "      <th>numberOfParticipants</th>\n",
              "    </tr>\n",
              "  </thead>\n",
              "  <tbody>\n",
              "    <tr>\n",
              "      <th>0</th>\n",
              "      <td>0</td>\n",
              "      <td>이모랑 사촌동생 파도 쓸려가서 큰일날 뻔함 안가고 일한 나 칭찬해         헐...</td>\n",
              "      <td>이모와 사촌동생이 파도에 쓸려가서 큰일 날 뻔했다며 안 가고 일한 자기를 칭찬한다고...</td>\n",
              "      <td>5</td>\n",
              "      <td>12</td>\n",
              "      <td>2</td>\n",
              "    </tr>\n",
              "    <tr>\n",
              "      <th>1</th>\n",
              "      <td>1</td>\n",
              "      <td>얼척없다 야구 중계해야되서 무궁화급 장사 결정전 방송 안하네  ㅁㅊ 헐 너무해   ...</td>\n",
              "      <td>야구 중계를 해야 돼서 무궁화급 장사 결정전 방송을 안 한다.</td>\n",
              "      <td>6</td>\n",
              "      <td>10</td>\n",
              "      <td>2</td>\n",
              "    </tr>\n",
              "    <tr>\n",
              "      <th>2</th>\n",
              "      <td>2</td>\n",
              "      <td>시스템 검색  이거 칭구추가해서 공부하는거 시간도 같이 볼수있도 이거 유료같은데...</td>\n",
              "      <td>무료인 열공시간을 통해서 공부하는 시간을 같이 볼 수 있다.</td>\n",
              "      <td>4</td>\n",
              "      <td>8</td>\n",
              "      <td>2</td>\n",
              "    </tr>\n",
              "    <tr>\n",
              "      <th>3</th>\n",
              "      <td>3</td>\n",
              "      <td>저 포켓몬고 다시 하구 잇더요 최애캐 누구얌 이브이 나 같이 귀여운 여우입니당 여우...</td>\n",
              "      <td>포켓몬고의 최애캐릭터(최애캐) 이브이에 대해서 이야기하고 있다.</td>\n",
              "      <td>6</td>\n",
              "      <td>11</td>\n",
              "      <td>2</td>\n",
              "    </tr>\n",
              "    <tr>\n",
              "      <th>4</th>\n",
              "      <td>4</td>\n",
              "      <td>아 음 그래 저 얼굴이면 서사고 뭐고 아 진짜 나는 응팔 뒤늦게 봤거든 저 얼굴로 ...</td>\n",
              "      <td>응답하라 1988을 뒤늦게 보고 배우 얼굴이 본인을 홀렸다고 한다.</td>\n",
              "      <td>7</td>\n",
              "      <td>9</td>\n",
              "      <td>2</td>\n",
              "    </tr>\n",
              "    <tr>\n",
              "      <th>...</th>\n",
              "      <td>...</td>\n",
              "      <td>...</td>\n",
              "      <td>...</td>\n",
              "      <td>...</td>\n",
              "      <td>...</td>\n",
              "      <td>...</td>\n",
              "    </tr>\n",
              "    <tr>\n",
              "      <th>279987</th>\n",
              "      <td>279987</td>\n",
              "      <td>가스검침 하고 기록후 연락바람 오늘해요  내일할까요 내일 해도 되고 날짜도썼던가  ...</td>\n",
              "      <td>내일  저녁에 가스 검침하고 기록 후 연락을 한다.</td>\n",
              "      <td>7</td>\n",
              "      <td>10</td>\n",
              "      <td>2</td>\n",
              "    </tr>\n",
              "    <tr>\n",
              "      <th>279988</th>\n",
              "      <td>279988</td>\n",
              "      <td>나도 제습기 세탁기 냉장고 티비 등등 사야되   ㅋㅋㅋㅋㅋㅋㅋ진짜 혼수가전 이야 ㅋ...</td>\n",
              "      <td>혼수가전을 사야 하는 사람에게 5년 뒤에 새 거로 바꿀 테니 중고로 사라고 권하자 ...</td>\n",
              "      <td>7</td>\n",
              "      <td>8</td>\n",
              "      <td>2</td>\n",
              "    </tr>\n",
              "    <tr>\n",
              "      <th>279989</th>\n",
              "      <td>279989</td>\n",
              "      <td>알바갈때 화산체육관에 야외 주차장에 주차하는데 ㅇㅇㅇㅇㅇㅇ 화산체육관이 임시 선별소...</td>\n",
              "      <td>아르바이트(알바)를 갈 때 화산체육관 야외 주차장에 주차를 하는데 화산체육관이 며칠...</td>\n",
              "      <td>7</td>\n",
              "      <td>14</td>\n",
              "      <td>2</td>\n",
              "    </tr>\n",
              "    <tr>\n",
              "      <th>279990</th>\n",
              "      <td>279990</td>\n",
              "      <td>아니   나 방금 엄마와서 대화해봤는데 엄마가 나랑 엄마만 원룸같은거 잡아서 이주간...</td>\n",
              "      <td>엄마와 원룸에서 2주 동안 있어야 하는데 청소비 포함 55만 원이라고 한다.</td>\n",
              "      <td>4</td>\n",
              "      <td>14</td>\n",
              "      <td>2</td>\n",
              "    </tr>\n",
              "    <tr>\n",
              "      <th>279991</th>\n",
              "      <td>279991</td>\n",
              "      <td>시스템 사진  밧델없낭 아닌데 2칸있는데 안켜쳣네 꾹누라네까 켜지네 참나 켜진지...</td>\n",
              "      <td>배터리(밧델)가 없는 게 아니라 켜지지 않은 거라 해서 전원을 켜고 이제 연결해서 ...</td>\n",
              "      <td>6</td>\n",
              "      <td>9</td>\n",
              "      <td>2</td>\n",
              "    </tr>\n",
              "  </tbody>\n",
              "</table>\n",
              "<p>279992 rows × 6 columns</p>\n",
              "</div>\n",
              "      <button class=\"colab-df-convert\" onclick=\"convertToInteractive('df-77a14b3d-beaa-4fb1-87c5-a6018b676b6e')\"\n",
              "              title=\"Convert this dataframe to an interactive table.\"\n",
              "              style=\"display:none;\">\n",
              "        \n",
              "  <svg xmlns=\"http://www.w3.org/2000/svg\" height=\"24px\"viewBox=\"0 0 24 24\"\n",
              "       width=\"24px\">\n",
              "    <path d=\"M0 0h24v24H0V0z\" fill=\"none\"/>\n",
              "    <path d=\"M18.56 5.44l.94 2.06.94-2.06 2.06-.94-2.06-.94-.94-2.06-.94 2.06-2.06.94zm-11 1L8.5 8.5l.94-2.06 2.06-.94-2.06-.94L8.5 2.5l-.94 2.06-2.06.94zm10 10l.94 2.06.94-2.06 2.06-.94-2.06-.94-.94-2.06-.94 2.06-2.06.94z\"/><path d=\"M17.41 7.96l-1.37-1.37c-.4-.4-.92-.59-1.43-.59-.52 0-1.04.2-1.43.59L10.3 9.45l-7.72 7.72c-.78.78-.78 2.05 0 2.83L4 21.41c.39.39.9.59 1.41.59.51 0 1.02-.2 1.41-.59l7.78-7.78 2.81-2.81c.8-.78.8-2.07 0-2.86zM5.41 20L4 18.59l7.72-7.72 1.47 1.35L5.41 20z\"/>\n",
              "  </svg>\n",
              "      </button>\n",
              "      \n",
              "  <style>\n",
              "    .colab-df-container {\n",
              "      display:flex;\n",
              "      flex-wrap:wrap;\n",
              "      gap: 12px;\n",
              "    }\n",
              "\n",
              "    .colab-df-convert {\n",
              "      background-color: #E8F0FE;\n",
              "      border: none;\n",
              "      border-radius: 50%;\n",
              "      cursor: pointer;\n",
              "      display: none;\n",
              "      fill: #1967D2;\n",
              "      height: 32px;\n",
              "      padding: 0 0 0 0;\n",
              "      width: 32px;\n",
              "    }\n",
              "\n",
              "    .colab-df-convert:hover {\n",
              "      background-color: #E2EBFA;\n",
              "      box-shadow: 0px 1px 2px rgba(60, 64, 67, 0.3), 0px 1px 3px 1px rgba(60, 64, 67, 0.15);\n",
              "      fill: #174EA6;\n",
              "    }\n",
              "\n",
              "    [theme=dark] .colab-df-convert {\n",
              "      background-color: #3B4455;\n",
              "      fill: #D2E3FC;\n",
              "    }\n",
              "\n",
              "    [theme=dark] .colab-df-convert:hover {\n",
              "      background-color: #434B5C;\n",
              "      box-shadow: 0px 1px 3px 1px rgba(0, 0, 0, 0.15);\n",
              "      filter: drop-shadow(0px 1px 2px rgba(0, 0, 0, 0.3));\n",
              "      fill: #FFFFFF;\n",
              "    }\n",
              "  </style>\n",
              "\n",
              "      <script>\n",
              "        const buttonEl =\n",
              "          document.querySelector('#df-77a14b3d-beaa-4fb1-87c5-a6018b676b6e button.colab-df-convert');\n",
              "        buttonEl.style.display =\n",
              "          google.colab.kernel.accessAllowed ? 'block' : 'none';\n",
              "\n",
              "        async function convertToInteractive(key) {\n",
              "          const element = document.querySelector('#df-77a14b3d-beaa-4fb1-87c5-a6018b676b6e');\n",
              "          const dataTable =\n",
              "            await google.colab.kernel.invokeFunction('convertToInteractive',\n",
              "                                                     [key], {});\n",
              "          if (!dataTable) return;\n",
              "\n",
              "          const docLinkHtml = 'Like what you see? Visit the ' +\n",
              "            '<a target=\"_blank\" href=https://colab.research.google.com/notebooks/data_table.ipynb>data table notebook</a>'\n",
              "            + ' to learn more about interactive tables.';\n",
              "          element.innerHTML = '';\n",
              "          dataTable['output_type'] = 'display_data';\n",
              "          await google.colab.output.renderOutput(dataTable, element);\n",
              "          const docLink = document.createElement('div');\n",
              "          docLink.innerHTML = docLinkHtml;\n",
              "          element.appendChild(docLink);\n",
              "        }\n",
              "      </script>\n",
              "    </div>\n",
              "  </div>\n",
              "  "
            ]
          },
          "metadata": {},
          "execution_count": 3
        }
      ]
    },
    {
      "cell_type": "code",
      "source": [
        "df.iloc[0,1]"
      ],
      "metadata": {
        "colab": {
          "base_uri": "https://localhost:8080/",
          "height": 72
        },
        "id": "hMq9VtG1ERxM",
        "outputId": "00287f66-5f3a-4312-d0e8-ea98b06dc112"
      },
      "execution_count": null,
      "outputs": [
        {
          "output_type": "execute_result",
          "data": {
            "text/plain": [
              "'이모랑 사촌동생 파도 쓸려가서 큰일날 뻔함 안가고 일한 나 칭찬해         헐        넘나 놀람 아무일 없어서 다행이다   물놀이 은근 위험해 그러니까        갑자기 파도가 쓸고 지나간듯 다행히 수영 잘하시는 분이 주변에 계셔서 튜브 끌어주셨대 어휴 천만다행이다 바다 진짜 조심해야겠어 엄청 놀라셨겠다   응응 수영 잘하는 사람도 무서워하는디    '"
            ],
            "application/vnd.google.colaboratory.intrinsic+json": {
              "type": "string"
            }
          },
          "metadata": {},
          "execution_count": 4
        }
      ]
    },
    {
      "cell_type": "code",
      "source": [
        "type(df.iloc[0,2])"
      ],
      "metadata": {
        "colab": {
          "base_uri": "https://localhost:8080/"
        },
        "id": "tIA6Ij1jExHo",
        "outputId": "a2b47970-0cef-441a-845c-9d8a33f62d0b"
      },
      "execution_count": null,
      "outputs": [
        {
          "output_type": "execute_result",
          "data": {
            "text/plain": [
              "str"
            ]
          },
          "metadata": {},
          "execution_count": 12
        }
      ]
    },
    {
      "cell_type": "code",
      "source": [
        "df.iloc[0,2] = df.iloc[0,2].replace('^ +', \" ' \",regex=True) # 공백은 empty 값으로 변경"
      ],
      "metadata": {
        "colab": {
          "base_uri": "https://localhost:8080/",
          "height": 172
        },
        "id": "7d4qsA70FD4X",
        "outputId": "8422de0c-4796-4635-db22-a1f0c9c55a71"
      },
      "execution_count": null,
      "outputs": [
        {
          "output_type": "error",
          "ename": "AttributeError",
          "evalue": "ignored",
          "traceback": [
            "\u001b[0;31m---------------------------------------------------------------------------\u001b[0m",
            "\u001b[0;31mAttributeError\u001b[0m                            Traceback (most recent call last)",
            "\u001b[0;32m<ipython-input-14-2184ac330cdd>\u001b[0m in \u001b[0;36m<module>\u001b[0;34m\u001b[0m\n\u001b[0;32m----> 1\u001b[0;31m \u001b[0mdf\u001b[0m\u001b[0;34m.\u001b[0m\u001b[0miloc\u001b[0m\u001b[0;34m[\u001b[0m\u001b[0;36m0\u001b[0m\u001b[0;34m,\u001b[0m\u001b[0;36m2\u001b[0m\u001b[0;34m]\u001b[0m \u001b[0;34m=\u001b[0m \u001b[0mdf\u001b[0m\u001b[0;34m.\u001b[0m\u001b[0miloc\u001b[0m\u001b[0;34m[\u001b[0m\u001b[0;36m0\u001b[0m\u001b[0;34m,\u001b[0m\u001b[0;36m2\u001b[0m\u001b[0;34m]\u001b[0m\u001b[0;34m.\u001b[0m\u001b[0mstr\u001b[0m\u001b[0;34m.\u001b[0m\u001b[0mreplace\u001b[0m\u001b[0;34m(\u001b[0m\u001b[0;34m'^ +'\u001b[0m\u001b[0;34m,\u001b[0m \u001b[0;34m\" ' \"\u001b[0m\u001b[0;34m,\u001b[0m\u001b[0mregex\u001b[0m\u001b[0;34m=\u001b[0m\u001b[0;32mTrue\u001b[0m\u001b[0;34m)\u001b[0m \u001b[0;31m# 공백은 empty 값으로 변경\u001b[0m\u001b[0;34m\u001b[0m\u001b[0;34m\u001b[0m\u001b[0m\n\u001b[0m",
            "\u001b[0;31mAttributeError\u001b[0m: 'str' object has no attribute 'str'"
          ]
        }
      ]
    },
    {
      "cell_type": "code",
      "source": [
        "import pandas as pd\n",
        "\n",
        "df2 = pd.read_csv('senior_dialogue.csv')"
      ],
      "metadata": {
        "id": "zuARBJc6ElZj"
      },
      "execution_count": null,
      "outputs": []
    },
    {
      "cell_type": "code",
      "source": [
        "df2"
      ],
      "metadata": {
        "colab": {
          "base_uri": "https://localhost:8080/",
          "height": 658
        },
        "id": "t1lDG2iGILh-",
        "outputId": "b14cf7fe-5383-4ec5-eb19-5793ccdcb674"
      },
      "execution_count": null,
      "outputs": [
        {
          "output_type": "execute_result",
          "data": {
            "text/plain": [
              "       Unnamed: 0                                           sentence  \\\n",
              "0               0  밥 한끼를 제대로 된 밥 한끼를 먹을 수 있다고 생각하면서 감사하게 감사하게 생각하...   \n",
              "1               1  그거 먹고 살아야 되는 거지 자식 물려줄 필요없고요 그걸로 모자라는 부분은 다른 곳...   \n",
              "2               2  결국 주차 요금을 올릴 수밖에 없어요 결국 최씨는 수리를 삼십일로 미뤄야 했습니다 ...   \n",
              "3               3  저 사람이 나한테 저렇게 행동을 하는구나 저 사람이 원하는 게 무엇인가를 내가 생각...   \n",
              "4               4  이 사람의 입장은 이럴 수 있구나 라고 배울 수 있는거지 그런건 정말 중요하고 꼭 ...   \n",
              "...           ...                                                ...   \n",
              "13086       13086  늘 사 먹게 되는데 그런 세태가 바뀌어야 할텐데 쉽지 않은 (SP:일이) 일이지요 ...   \n",
              "13087       13087  세단 외에 우리가 차를 가지게 된 것이 (SP:놀) 놀러가려는 이유도 (NO:있었지...   \n",
              "13088       13088  기술이 계속 발전하고 (SP:있으니) 있으니까 그런 식으로 새로운 기술을 접목시키게...   \n",
              "13089       13089     엄마는 내가 힘들다고 그러는데 주말에 자만 푹 자면 힘든 일이 (SP:없) 없거든    \n",
              "13090       13090         그때도 일하기 전에 마지막으로 여행 가자고 (SP:해) 해서 갔는데 좋았지    \n",
              "\n",
              "                                                  tokens cityCode convrsThema  \\\n",
              "0      밥 끼 제대로 밥 끼 수 생각 생각 노후 제 가장 연예인 별 온 그대 전지현 잔디 ...       경상      방송/연예    \n",
              "1      그거 거지 자식 걸 부분 다른 곳 충당 백세 시대 요즘 자식 부모 자기 자기 자식 ...       경상     경제/재태크    \n",
              "2      주차 요금 수 최씨 수리 삼십일 최종 결론 연말 퇴진 시점 알 수가 필자 인상 편이...       경상         PBS   \n",
              "3      저 사람 나 행동 저 사람 게 무엇 를 내 생각 사람 일이 생각 극 달 화가 내 좀...       기타         휴일    \n",
              "4      이 사람 입장 수 수 정말 꼭 것 친구 옛날 사람 손 맛 우리 쪽 다슬기 거 전혀 ...       기타        먹거리    \n",
              "...                                                  ...      ...         ...   \n",
              "13086                     늘 사 세태 이지 올해 감 감자 별로 인기 상자 올해        전라         건강식   \n",
              "13087   세단 외 우리 차 가지 것 놀 이유 누구 렌트 유지 필요 것 개인 부 부과 아무나 막        전라         자동차   \n",
              "13088                기술 계속 발전 식 기술 접목 기술 계속 발전 발전 우리 얘기        전라          운전   \n",
              "13089                                      엄마 내 주말 자만 푹        전라          휴일   \n",
              "13090                                   그때 일 전 마지막 여행 해        전라          일화   \n",
              "\n",
              "      gender  age  \n",
              "0          여   60  \n",
              "1          여   60  \n",
              "2          여   60  \n",
              "3          여   60  \n",
              "4          여   60  \n",
              "...      ...  ...  \n",
              "13086      남   76  \n",
              "13087      남   76  \n",
              "13088      남   76  \n",
              "13089      남   76  \n",
              "13090      남   76  \n",
              "\n",
              "[13091 rows x 7 columns]"
            ],
            "text/html": [
              "\n",
              "  <div id=\"df-a66b9452-851c-4774-9815-ab8a053f43aa\">\n",
              "    <div class=\"colab-df-container\">\n",
              "      <div>\n",
              "<style scoped>\n",
              "    .dataframe tbody tr th:only-of-type {\n",
              "        vertical-align: middle;\n",
              "    }\n",
              "\n",
              "    .dataframe tbody tr th {\n",
              "        vertical-align: top;\n",
              "    }\n",
              "\n",
              "    .dataframe thead th {\n",
              "        text-align: right;\n",
              "    }\n",
              "</style>\n",
              "<table border=\"1\" class=\"dataframe\">\n",
              "  <thead>\n",
              "    <tr style=\"text-align: right;\">\n",
              "      <th></th>\n",
              "      <th>Unnamed: 0</th>\n",
              "      <th>sentence</th>\n",
              "      <th>tokens</th>\n",
              "      <th>cityCode</th>\n",
              "      <th>convrsThema</th>\n",
              "      <th>gender</th>\n",
              "      <th>age</th>\n",
              "    </tr>\n",
              "  </thead>\n",
              "  <tbody>\n",
              "    <tr>\n",
              "      <th>0</th>\n",
              "      <td>0</td>\n",
              "      <td>밥 한끼를 제대로 된 밥 한끼를 먹을 수 있다고 생각하면서 감사하게 감사하게 생각하...</td>\n",
              "      <td>밥 끼 제대로 밥 끼 수 생각 생각 노후 제 가장 연예인 별 온 그대 전지현 잔디 ...</td>\n",
              "      <td>경상</td>\n",
              "      <td>방송/연예</td>\n",
              "      <td>여</td>\n",
              "      <td>60</td>\n",
              "    </tr>\n",
              "    <tr>\n",
              "      <th>1</th>\n",
              "      <td>1</td>\n",
              "      <td>그거 먹고 살아야 되는 거지 자식 물려줄 필요없고요 그걸로 모자라는 부분은 다른 곳...</td>\n",
              "      <td>그거 거지 자식 걸 부분 다른 곳 충당 백세 시대 요즘 자식 부모 자기 자기 자식 ...</td>\n",
              "      <td>경상</td>\n",
              "      <td>경제/재태크</td>\n",
              "      <td>여</td>\n",
              "      <td>60</td>\n",
              "    </tr>\n",
              "    <tr>\n",
              "      <th>2</th>\n",
              "      <td>2</td>\n",
              "      <td>결국 주차 요금을 올릴 수밖에 없어요 결국 최씨는 수리를 삼십일로 미뤄야 했습니다 ...</td>\n",
              "      <td>주차 요금 수 최씨 수리 삼십일 최종 결론 연말 퇴진 시점 알 수가 필자 인상 편이...</td>\n",
              "      <td>경상</td>\n",
              "      <td>PBS</td>\n",
              "      <td>여</td>\n",
              "      <td>60</td>\n",
              "    </tr>\n",
              "    <tr>\n",
              "      <th>3</th>\n",
              "      <td>3</td>\n",
              "      <td>저 사람이 나한테 저렇게 행동을 하는구나 저 사람이 원하는 게 무엇인가를 내가 생각...</td>\n",
              "      <td>저 사람 나 행동 저 사람 게 무엇 를 내 생각 사람 일이 생각 극 달 화가 내 좀...</td>\n",
              "      <td>기타</td>\n",
              "      <td>휴일</td>\n",
              "      <td>여</td>\n",
              "      <td>60</td>\n",
              "    </tr>\n",
              "    <tr>\n",
              "      <th>4</th>\n",
              "      <td>4</td>\n",
              "      <td>이 사람의 입장은 이럴 수 있구나 라고 배울 수 있는거지 그런건 정말 중요하고 꼭 ...</td>\n",
              "      <td>이 사람 입장 수 수 정말 꼭 것 친구 옛날 사람 손 맛 우리 쪽 다슬기 거 전혀 ...</td>\n",
              "      <td>기타</td>\n",
              "      <td>먹거리</td>\n",
              "      <td>여</td>\n",
              "      <td>60</td>\n",
              "    </tr>\n",
              "    <tr>\n",
              "      <th>...</th>\n",
              "      <td>...</td>\n",
              "      <td>...</td>\n",
              "      <td>...</td>\n",
              "      <td>...</td>\n",
              "      <td>...</td>\n",
              "      <td>...</td>\n",
              "      <td>...</td>\n",
              "    </tr>\n",
              "    <tr>\n",
              "      <th>13086</th>\n",
              "      <td>13086</td>\n",
              "      <td>늘 사 먹게 되는데 그런 세태가 바뀌어야 할텐데 쉽지 않은 (SP:일이) 일이지요 ...</td>\n",
              "      <td>늘 사 세태 이지 올해 감 감자 별로 인기 상자 올해</td>\n",
              "      <td>전라</td>\n",
              "      <td>건강식</td>\n",
              "      <td>남</td>\n",
              "      <td>76</td>\n",
              "    </tr>\n",
              "    <tr>\n",
              "      <th>13087</th>\n",
              "      <td>13087</td>\n",
              "      <td>세단 외에 우리가 차를 가지게 된 것이 (SP:놀) 놀러가려는 이유도 (NO:있었지...</td>\n",
              "      <td>세단 외 우리 차 가지 것 놀 이유 누구 렌트 유지 필요 것 개인 부 부과 아무나 막</td>\n",
              "      <td>전라</td>\n",
              "      <td>자동차</td>\n",
              "      <td>남</td>\n",
              "      <td>76</td>\n",
              "    </tr>\n",
              "    <tr>\n",
              "      <th>13088</th>\n",
              "      <td>13088</td>\n",
              "      <td>기술이 계속 발전하고 (SP:있으니) 있으니까 그런 식으로 새로운 기술을 접목시키게...</td>\n",
              "      <td>기술 계속 발전 식 기술 접목 기술 계속 발전 발전 우리 얘기</td>\n",
              "      <td>전라</td>\n",
              "      <td>운전</td>\n",
              "      <td>남</td>\n",
              "      <td>76</td>\n",
              "    </tr>\n",
              "    <tr>\n",
              "      <th>13089</th>\n",
              "      <td>13089</td>\n",
              "      <td>엄마는 내가 힘들다고 그러는데 주말에 자만 푹 자면 힘든 일이 (SP:없) 없거든</td>\n",
              "      <td>엄마 내 주말 자만 푹</td>\n",
              "      <td>전라</td>\n",
              "      <td>휴일</td>\n",
              "      <td>남</td>\n",
              "      <td>76</td>\n",
              "    </tr>\n",
              "    <tr>\n",
              "      <th>13090</th>\n",
              "      <td>13090</td>\n",
              "      <td>그때도 일하기 전에 마지막으로 여행 가자고 (SP:해) 해서 갔는데 좋았지</td>\n",
              "      <td>그때 일 전 마지막 여행 해</td>\n",
              "      <td>전라</td>\n",
              "      <td>일화</td>\n",
              "      <td>남</td>\n",
              "      <td>76</td>\n",
              "    </tr>\n",
              "  </tbody>\n",
              "</table>\n",
              "<p>13091 rows × 7 columns</p>\n",
              "</div>\n",
              "      <button class=\"colab-df-convert\" onclick=\"convertToInteractive('df-a66b9452-851c-4774-9815-ab8a053f43aa')\"\n",
              "              title=\"Convert this dataframe to an interactive table.\"\n",
              "              style=\"display:none;\">\n",
              "        \n",
              "  <svg xmlns=\"http://www.w3.org/2000/svg\" height=\"24px\"viewBox=\"0 0 24 24\"\n",
              "       width=\"24px\">\n",
              "    <path d=\"M0 0h24v24H0V0z\" fill=\"none\"/>\n",
              "    <path d=\"M18.56 5.44l.94 2.06.94-2.06 2.06-.94-2.06-.94-.94-2.06-.94 2.06-2.06.94zm-11 1L8.5 8.5l.94-2.06 2.06-.94-2.06-.94L8.5 2.5l-.94 2.06-2.06.94zm10 10l.94 2.06.94-2.06 2.06-.94-2.06-.94-.94-2.06-.94 2.06-2.06.94z\"/><path d=\"M17.41 7.96l-1.37-1.37c-.4-.4-.92-.59-1.43-.59-.52 0-1.04.2-1.43.59L10.3 9.45l-7.72 7.72c-.78.78-.78 2.05 0 2.83L4 21.41c.39.39.9.59 1.41.59.51 0 1.02-.2 1.41-.59l7.78-7.78 2.81-2.81c.8-.78.8-2.07 0-2.86zM5.41 20L4 18.59l7.72-7.72 1.47 1.35L5.41 20z\"/>\n",
              "  </svg>\n",
              "      </button>\n",
              "      \n",
              "  <style>\n",
              "    .colab-df-container {\n",
              "      display:flex;\n",
              "      flex-wrap:wrap;\n",
              "      gap: 12px;\n",
              "    }\n",
              "\n",
              "    .colab-df-convert {\n",
              "      background-color: #E8F0FE;\n",
              "      border: none;\n",
              "      border-radius: 50%;\n",
              "      cursor: pointer;\n",
              "      display: none;\n",
              "      fill: #1967D2;\n",
              "      height: 32px;\n",
              "      padding: 0 0 0 0;\n",
              "      width: 32px;\n",
              "    }\n",
              "\n",
              "    .colab-df-convert:hover {\n",
              "      background-color: #E2EBFA;\n",
              "      box-shadow: 0px 1px 2px rgba(60, 64, 67, 0.3), 0px 1px 3px 1px rgba(60, 64, 67, 0.15);\n",
              "      fill: #174EA6;\n",
              "    }\n",
              "\n",
              "    [theme=dark] .colab-df-convert {\n",
              "      background-color: #3B4455;\n",
              "      fill: #D2E3FC;\n",
              "    }\n",
              "\n",
              "    [theme=dark] .colab-df-convert:hover {\n",
              "      background-color: #434B5C;\n",
              "      box-shadow: 0px 1px 3px 1px rgba(0, 0, 0, 0.15);\n",
              "      filter: drop-shadow(0px 1px 2px rgba(0, 0, 0, 0.3));\n",
              "      fill: #FFFFFF;\n",
              "    }\n",
              "  </style>\n",
              "\n",
              "      <script>\n",
              "        const buttonEl =\n",
              "          document.querySelector('#df-a66b9452-851c-4774-9815-ab8a053f43aa button.colab-df-convert');\n",
              "        buttonEl.style.display =\n",
              "          google.colab.kernel.accessAllowed ? 'block' : 'none';\n",
              "\n",
              "        async function convertToInteractive(key) {\n",
              "          const element = document.querySelector('#df-a66b9452-851c-4774-9815-ab8a053f43aa');\n",
              "          const dataTable =\n",
              "            await google.colab.kernel.invokeFunction('convertToInteractive',\n",
              "                                                     [key], {});\n",
              "          if (!dataTable) return;\n",
              "\n",
              "          const docLinkHtml = 'Like what you see? Visit the ' +\n",
              "            '<a target=\"_blank\" href=https://colab.research.google.com/notebooks/data_table.ipynb>data table notebook</a>'\n",
              "            + ' to learn more about interactive tables.';\n",
              "          element.innerHTML = '';\n",
              "          dataTable['output_type'] = 'display_data';\n",
              "          await google.colab.output.renderOutput(dataTable, element);\n",
              "          const docLink = document.createElement('div');\n",
              "          docLink.innerHTML = docLinkHtml;\n",
              "          element.appendChild(docLink);\n",
              "        }\n",
              "      </script>\n",
              "    </div>\n",
              "  </div>\n",
              "  "
            ]
          },
          "metadata": {},
          "execution_count": 5
        }
      ]
    },
    {
      "cell_type": "code",
      "source": [
        "text = df2.iloc[801,1]\n",
        "text"
      ],
      "metadata": {
        "colab": {
          "base_uri": "https://localhost:8080/",
          "height": 1000
        },
        "id": "mmpiBeMxIMly",
        "outputId": "a06f75c4-a7cb-4ce0-9675-6bd8de64fff0"
      },
      "execution_count": null,
      "outputs": [
        {
          "output_type": "execute_result",
          "data": {
            "text/plain": [
              "'아니 제가 작년에 자연휴양림을 갔었어요 우리나라의 대전에 있는 장태산 휴양림이었어요 (SN:장태산) 휴양림은 가니까 나무가 굉장히 쭉쭉 뻗어 나무가 (SN:굉장히 예뻤어 )그리고 그 안에만 있어도 좋아 미리 예약 하면 방은 예약할 수 있으니까 방에서 밥 같은 걸 해 먹을 수 있더라고요 아침 해 먹고 점심은 근교에서 사서 먹고 저녁에 왔어 사서 먹고 그렇게 왔는데 서울서 멀지 않는 곳이야 대전이니까 서울서 두 시간밖에 안 걸려요 그래서 자연휴양림이 굉장히 좋더라고요 아 휴양림을 언니는 어디를 가 보셨어요  저는 십 년 전에 가 봤는데 기억이 잘 안나요 장가계를 십 년 전에 애들 데리고 갔었어요 장가계의 경치는 우리나라에서는 상상도 할 수 없는 곳 그런 경관에다가 또 케이블카 이런 것들이 굉장히 좋아 그래서 그 당시 굉장히 아름다워서 말을 못했어요 해외에 경치를 보고 여행을 다녔는데 가장 기억에 남아요 저는 그런 굉장히 웅대한 자연경관에 빠졌어요 그 호텔 같은 그런 것이 많이 미흡했던 그런 경우에요 몇년후에 또 가야겠다고 생각했어요 저기 뭐지 나이 드면 중국에 많이 가게 된다고 해 여행 갈 때 패키지 갈 때 중국을 많이 가라고 하잖아요 장가계 여행도 걷는 데가 워낙 많더라고요 태양산은 또 몇 년 전 부터 인기가 있대요 칠팔 년 전부터 그게 여행 패키지 상품으로 많이 떠오르잖아요 중국에서 태항산을 또 갔었는데 좋았어요 그 당시 관광지로서 개발이 되고 있었어요 많이 공사를 하고 있어 가지고 황사가 많았어요 길에서 차 안으로 황사가 다 들어왔어요 입으로 다 들어오고 그랬는지 고생을 엄청 했어요 그래 가지고 이제 공사를 하는 곳은 지나가지 않아요 황사가 온 데를 다 덮어 가지고 앞이 보이지 않아요 비닐옷을 다 입어서 황사를 막기로 했어요 옷을 다 입고 마스크 쓰고 그렇게 패키지를 다녔어요 그때 진짜 그 여행을 즐길 수 있게 되었어요 어느 정도 그래도 갈고 닦은 다음에 여행을 해야지 그 부분에 있어서 태항산이 관광지로서 좋았어요 너무 공기도 안 좋고 미세먼지를 많이 마셨어요 많이 너무 많이 마셔서 건강에도 많이 안 좋았던 기억 그래서 그때도 친구랑 같이 고생을 했어요 그때는 꽤 고생을 많이 했고 장가계 여행을 갔어요 여행은 애들 학교 다닐 때 큰 딸하고 막내 아들하고 갔어요 아 근데 걷는 데가 너무 많고 또 험난했어요 애들은 그런 경치보다는 다른 여행을 또 즐겨했어요 좋아하지 않는 상태에서 갔기 때문에 굉장히 짜증났어요 짜증을 부리고 그랬던 기억이 아직도 생생하게 나요 저도 중국의 장가계도 갔었고 항산도 다녀왔거든요 아 근데 장가계 여행 굉장히 힘들었어요 아 근데 장가계 가면 천문산 올라가잖아요 제가 가기 전에는 그래도 천문산을 올라가는 길이 있어서 다행히 갈 때는 에스컬레이터 타고 갔지만요 올라가고 내려올 때는 그냥 걸어서 내려왔습니다 그때 그게 경치가 좋았는데 또 중국에서는 그게 아니래요 천문산의 바위를 관통한 비행기가 있었대요 거기를 또 다시 뒤쪽으로 뭐를 공사 한다고 하네요 그래 가지고 정말 중국인들이 반발했다고 하네요 (SN:)뭐든지 크게 하려고 세계 최고로 하려는 그런 마음이 있어요 장가계 밑에 엘리베이터도 세계에서 가장 크고 엘리베이터가 얼마나 크고 깊은지 보면 알아요 엘리베이터를 독일에서 수입해 왔다고 하네요 그러니까 우리가 중국에 가보기 전까지는 몰라요 우리나라보다 굉장히 후진국이고 별거 아니겠지 그랬는데 여행을 하면서 보면 볼수록 굉장히 대륙이구나 느꼈죠 굉장히 노력을 많이 하는 중국이더라고요 보니까 근데 제가 올 봄에 중국에 다시 가게 되었습니다 하지만 저는 여행을 동유럽을 다녀왔어요 근데 마침 제가 갔다 온 동유럽은 매우 복잡했어요 제가 다 예약하고 갔다 왔는데 어지간히 힘들었죠 (SN:)그런데 제가 얼마 전에 뉴스에서 보고 깜짝 놀랐어요 근데 제가 밤에 배 타고 다니고 그렜던 곳에서 사진 찍고 했던 그 헝가리 다뉴브강에서 사고가 났잖아요 저는 딱 삼개월 전에 갔다 왔는데 진짜 깜짝 놀랐어요 근데 여행  해 보니까 우리가 운이 참 좋았어요 그게 맞아요 우리 갔을때도 굉장히 예뻣거든요 거기 있는 다뉴강이 잔잔하고 굉장히 예뻤어요 배 타고 조끼를 입고 강을 구경하고 있었어요 (NO:그리고 다녀도) 저는 굉장히 편하고 안전하게 여행했어요 지금 서울 와서 생각하니까 굉장히 아찔하더라고요 우리가 만약에 그 배를 타고 갔다면 어땠을까 싶어요 다른 큰 크루즈가 와서 박았으면 우리도 전몰 했을 거에요 이걸 보면서 진짜 여행 갈 때 조심해야겠구나 생각했어요 굉장히 안전 같은 문제에다 지금까지는 신경을 안 썼는데 좀 신경을 써야 되겠다 그런 생각이 들어요 응 저도 그 뉴스를 보고 온 몸에 소름이 끼쳤어요 생각하고 했었는데 앞으로 좀 두려움이 생기더라고요 그리고 또 요즘에 티비를(NO: 보고) 그러니까 재미있었어요 핑클의 효리하고 옥주현하고 이진 그리고 성유리가 나왔어요 캠핑카를 타고 계속 거기서 재밌게 시간을 보냈어요 재미있게 즐기는 모습이 나와요 그거 혹시 보셨나요 근데 여자들 넷이 그렇게 캠핑카를 직접 몰고 갔다니 아 아마 옥주현만 빼고는 다 결혼을 했지요 이효리하고 거기서 밥도 직접 지어서 먹었어요 제대로 못 씻고 같이 즐기면서 옛날을 추억했어요 회사에 가면서 저는 그때의 장면이 기억이 났어요 거기서 그걸 촬영을 하고 여기저기 다녔다고 해요 촬영을 한다고 그래요 그래서 그걸 보고 있었어요(NO:) (SN:)앞으로 우리 가족도 시간이 되면 해외여행을 갈거에요 국내 여행도 재밌지만 좀 색다르게 애들하고 있을거에요 좀 더 나이 먹기 전에 그런 캠핑차를 대여해서 놀거에요 이제 다니고 싶은 곳에서 멋진 경치를 보고 올거에요 좋은 곳에 머물면서 며칠을 이렇게 보내고 올거에요 휴가를 여유롭고 새롭게 지내고 싶은 마음이 있어요 근데 아라씨는 그런 거 어떻게 생각하고 있나요 해외여행이 아직은 더 많이 가고 싶은 생각이 있나요 해외 쪽에 가고 싶은 곳이 많이 있나 봐요 아 맞다 저 같은 경우는 올해 동유럽 갔다 왔습니다 프랑스하고 어디지 프랑스 옆에 이태리에요 그쪽을 안 가봤기 때문에 거기에 대한 환상이 있어요 프랑스 가서 니기산 케이블카 타고 산을 올랐어요 다 돌아보고 그리고 알프스산맥 근처까지도 가 봤죠 여행을 많이 갔는데 저는 그런 게 굉장히 좋더라고요 저는 도시 위주로 성당 위주로 다니면서 지냈어요 성당이 처음에 갔을 때 너무너무 오래되어 보였어요 멋있고 어마어마했는데 집에 와서 생각해 보니까 별로에요 거기가 거기 같고 막 그런 생각이 들었어요 나 잘 모르겠어요 그냥 멋있다는 생각만 들었어요 딱히 기억에 안 남는데 그냥 캠핑 여행이 더 좋았어요 가볍게 떠난 국내여행은 훨씬 더 기억에 좋더라고요  그 로키산맥을 가장 근접한 거리까지 갔다 왔어요 거기도 그렇고 캐나다의 벤포 공원도 좋았어요 제가 생각하니까 그런 자연이 아주 멋있는 거 같아요 자연을 보고 그러니까 굉장히 머리에 많이 남아요 뭐 그랜드 캐년이나 브라이언 캐년 같은데도 멋있어요 훨씬 멋있는게 있을거라는 생각도 들긴 했지요 국내 여행을 가고 싶다는 그런 생각이 들었어요 예 그게 좋더라고요 그래서 저는 성당도 갔어요 물론 오래 된 성당도 한 번 정도는 가 봐야 되겠지만요 그런 시내에 있는 오래된 고적 성당보다 이게 좋아요 저는 이제 완전히 자연을 접한 데가 좋더라고요  그냥 하늘에서 지형을 보면서 느끼는게 많아요 어떻게 만들어 냈는지 자연이 굉장히 경이롭더라고요 그게 훨씬 기억에 남더라고요 최근에 갔던 거기도 그렇고 작년에 보러 간 건물들도 아주 예쁘더라고요 다 물로 깎여져 가지고 모습이 아주 아름다웠어요 되였더라고요 이끼처럼 된 게 다 물에서 이렇게 바닷물에서 깎여서 된 그런 것들이 저는 훨씬 더 보기가 좋아요 에도 많이 남고 그래서 저는 인상 깊었어요 자연을 접한 그런 여행을 더하고 싶어요 앞으로도 저는 삼년 전에 서유럽을 갔었는데 역시 서유업이었어요 프랑스 이태리 또 영국 이런 데는 둘 다 성당이 많아요 왜 그렇게 많은지 뭐 모나리자 있는 데도 갔어요 여러 성당 미술관을 다녀봤는데 진짜 너무 다 예뻐요 그게 그거 같고 진짜 그냥 그린 그림도 예뻤어요 가이드의 그 설명도 귀에 잘 들리지도 않았습니다 미켈란젤로만 귀에 엥엥돼 가지고 머릿속에 남았어요 별로 없었던 것 같아요 그래서 말씀대로 했습니다 여행은 갔다 오면 경치가 좋은 곳이 인상에 깊어요 두고두고 살아가면서 기억에 남을 것 같아요 아 그리고 저는 여행이 터키도 좋다고 해요 아 무슨 풍선만 날라 다니고 그런 곳인줄 알았어요 또 다녀오신 분들 얘기 들어보면 터키도 좋은거 같아요 새로운 경치도 있고 또 여러 가지 자연경관도 있어요 저는 이제 스웨덴처럼 좋은 곳이 많다고 들었어요 포르투갈 이런 쪽으로 좀 한 번 가볼까 생각중이에요 남편과 좀 단둘이 좀 한 번 다녀오고 싶은 그런 마음이에요 그래서 한 번 내년에는 시간을 내서 꼭 갈거에요 한 번 다녀오고 싶어서 지금 여행 상품을 많이 물색해요 그래서 보미씨는 다음에는 여행 코스가 어떻게 되나요 그럼 이태리하고 프랑스 여행이 될까요 저도 지금 검색 폭풍 검색하고 있는데 잘 모르겠네요 그래도 제가 먼저 하나의 상품을 검색 해봤어요 제가 보니까 영국하고 그 상품이 있더라고요 일단은 프랑스 니기산 가 보고 루브르 박물관 그런 데도 한번 갈거에요 세계적으로 유명한 곳이니까 한 번씩 가죠 아 맞다 저는 이탈리아 가서 베네치아도 좋아요 갔다 오신 분들은 별거 아니다라고 하지만요 또 안 가 봤기 때문에 베네치아도 궁금해요 그리고 그쪽에도 한 번 돌아보고 싶어졌어요 예 내년에는 서유럽 쪽으로 한 번 가보고 싶어요 가 볼려고 지금 열심히 돈을 모으고 있습니다 하지만 부족해서 더 모으려고 지금 애를 쓰고 있어요 제가 열심히 모아 가지고 올해 동유럽 갔었잖아요 그러니까 일 년에 한 번 정도는 자신을 위하고 싶어요 저는 저를 위해서 힐링 여행을 하고 싶어요 이렇게 본인이 여행 자금을 조달을 해서 다니는 것이에요 저는 이태리에 가는 일이 참 좋은 일인 것 같아요 쓸 때 그때  패키지 상품이 사 개국에 십 이일 동안이었어요 근데 너무 구경할 것도 많고 그래서 힘들었어요 영국이나 이런 데는 잠깐 잠깐 이렇게 찍고 오잖아요 그런 정도의 짧은 시간이었어요 많이 아쉬웠습니다 기억에 남는 거는 그래도 융푸라호가 들어간 곳이었어요 스위스의 그쪽 경관은 아주 아름다웠습니다 가장 아름다웠던 곳인 것 같아요 융푸라호 근처가 제일 제가 열차를 타고 알프스 산맥 거기 올라갔습니다 세상 어느 곳에서도 그런 경치가 있을까 싶네요 그런 마을들이 너무너무 멋있고 아름다웠어요 눈이 막 이렇게 많이 쌓여 있는데 내 앞에는 달랐어요 그 새 봄이 일어난 것 마냥 온도가 높아 가지고 정말 신기하게 들꽃들이 많이 피어 있더라고요 멀리 보이는 곳에 눈이 쌓인 산과 들꽃들이 피어 있죠 그 곳이 아주 대조적으로 되어 있어 가지고 참 신기했어요 제가 봤던 기억이 나고 그런 경관은 사진을 많이 찍었어요 두고 두고 보면 그때의 기억이 되살아 오르고 좋았어요 같이 갔었는데 그때 일행들도 생각이 났습니다 는 서유럽이 참 뜻 깊은 여행이었던 것 같아요 서유럽이 아주 경관도 좋고 많이 좋았던 것 같아요 근데 스위스죠 융프라호 있는 데가 맞아요 스위스하고 그쪽으로 해서 같이 갔어요 온도가 많이 낮더라고요 온도 차이가 많이 났어요 사개국 이태리 갔을 때는 사십도 이상이었습니다 너무 온도가 높아 가지고 로마도 관광을 해야 했어요 이런 데는 관광을 해야 되는데 너무도 더우니까 날씨도 걷는 곳이 많다 보니까 날씨도 잘 봐가면서 가요 그쪽 지역의 날씨도 봐 가면서 여행을 잘 선택해 저는 그런데 스위스 쪽으로 해야 되겠더라고요 또 춥고 산 속이라 이태리 쪽에는 안될 것 같아요 막 차 안에서조차도 가이드에 따라서 했어요 들으러 가야 되는데 차에서조차 너무 너무 내리기 싫었어 그때 이제 애가 싫어 가지고 아주 곤욕이었어요 직장을 다니니까 늦게 간다고 해서 피해갔어 저는 춥고 덥고 이런 차이가 좀 나더라고요 아 맞다 근데 성수기라면 몇 월에 갔었어요 아이 휴가 때문에 좀 비켜나가서 성수기를 비켜갔어요 시월 말 정도에 갔거든요 근데 춥고 더웠어요 차이가 많이 나서 한 군데는 또 가니까 너무 추웠어요 근데 이렇게 애 옷도 갑자기 필요하더라고요 저녁때 또 야경을 봐야 하는 곳이 있었어요 옷도 사고 사전에 준비 없이 갔더니 많이 불편했어요 근데 아무튼 이태리 쪽은 이렇게 기억이 나요 거기는 우리나라보다 꽤나 폭염이 상당하더라고요 지열도 있고 그래서 구경을 제대로 못했어요 로마 쪽은 지열이 막 돌이 되었던 것 같아요 그러다보니까 유럽에 지열이 많이 있잖아요 올라와가지고 우리나라에서 느껴보지 못했던 거였어요 아주 차에서도 폭염을 제가 느꼈던 거 기억이 나요 패키지 상품이라 차에서 내리려면 겁이 나는 거예요 그래서 내리지 않고 좀 몇 군데를 걷고 너무 힘들었죠 그랬던 기억이 나는데 그쪽의 날씨를 봤어요 잘 선택하면 성수기에는 직장 다니는 사람이 있죠 없으면 좀 저렴하게 날짜와 시기를 잘 선택해야 해요 조금 저렴한 그런 것도 꽤나 도움이 될 것 같아요 네 맞아요 그런데 여행이 날씨가 굉장히 중요하잖아요 그래서 그런데 저는 항상 비수기 때 많이 가요 왜 그러냐면 저는 제 친구들이랑 가기 때문이에요 여행이 겨울 방학 때 굉장히 비싸기 때문이에요 십 이월달에 들어서면 굉장히 가격이 싸지거든요 삼월 십 일월이 최고 비성수기라고 그러더라고요 그래서 삼월 말쯤 가는 게 저는 좋더라고요 삼월 말에서 사월 초까지가 가격도 싸면서 약간 좋아요 춥지도 덥지도 않은 봄이 올라오는 그런 때더라고요 저는 그때가 좋아 가지고 저는 항상 삼월에 갔어요 삼월 말에서 사월초로 많이 다녔던 것 같아요 좀 싸고 이렇게 너무 덥지도 않고 너무 춥지도 않아요 이번에 동유럽도 저는 그 계절이 좋더라고요 어디지 체코는 삼월 말에서 사월 초로 갔어요 체코는 추워서 밤에 벌벌 떨면서 굉장히 추웠어요 봤는데 또 크로아티아 가니까 너무 덥더라고요 한여름이라서 거기는 짧은 팔 입고 다녔어요 그러니까 여행 갈 때 진짜 옷을 긴 거 가져가야 해요 잠바 정도는 항상 갖고 다녀야 하고 바람막이도요 자켓 같은 것도 갖고 다녀야 하고 또 짧은 것도 말이에요 스카프도 갖고 다녀야 하고 정말 다양하게 들고가요 앞으로는 두루두루 챙겨서 다녀야 될 것 같더라고요 그때 크로아티아 쪽에 갔을 때 체리가 있었어요 우리는 그때 유월이라 체리가 많이 있었는지 몰라요 그때 크로아티아 갈 때는 (FP:저) 그런데 많이 있었어요 체리가 얼마나 지천으로 나무에 열려있고 저렴한지 말이에요 아주 체리를 평생 그때만큼 실컷 먹어 본 적은 없어요 그리고 많이 저렴하고 싱싱해서 아주 좋았던 기억이 있어요 그 체리를 먹으러 또 한 번 그쪽을 가고 싶어요 가 보고 싶은 생각이 들 정도로 너무 마음껏 먹었어요 그러다 보니까 우리나라에서는 체리가 비쌌어요 체리를 지금 사먹으려고 하니까 뭐 저렴해도 별로에요 구백그램에 만원 이상 되고 그런 상황이더라고요 그래서 체리를 먹을 때마다 그때의 기억이 났어요 지천에 깔려있던 크로아티아의 시장이 생각나요 여기저기 쌓여있고 굉장히 저렴하게 사먹었어요 저는 그리고 체리나무 이쪽에서의 기억도 나요 근데 그쪽은 수입 과일이라서 나무를 못 보잖아요 체리나무가 가정집 안에도 많이 자라 있어요 많이 길러서 체리가 풍성하게 그렇게 열려있던 모습이에요 그래서 크로아티아의 모습도 많이 인상적이더라고요 한 번 기회가 되면 또 한 번 가고 싶은 생각이에요 다뉴브 강도 저도 그런 여행지라고 생각이 들고요 이제 그런 여행지에서 두 번이나 배를 타고 했어요 이제 안전 불감증으로 인해가지고 저희도 방심했어요 그때 당시는 다른 배도 그렇게 구명장비가 있었어요 이런게 미비한 상태에서 그런 배를 이용하곤 했어요 저도 그 당시에는 위험하리라곤 감히 상상 못했어요 그 나라에서 알아서 그렇게 대처 했을까요 많은 관광객들을 위해서 대처를 했을까는 생각이 들어요 너무 뜻밖에 그런 사고를 접하고 보니까 놀랐어요 이제 그런 것도 다 여행을 계획할 때 참고 해야겠어요 배 타는 곳에 대한 안전성이라든가 그런 것을 (SP:해)봐야해요 그런 검증이 되어있는 곳으로 가고 찾아봐야 해요 그리고 참 좋은 여행을 가고싶다는 생각이 들고요 참 여행이란 것이 정말 좋을 것 같다는 생각이 들어요 그건 참 좋은 여행사뿐만 아니라 저도 주의해야 해요 다른 곳 여행사라도 사고가 나지 않게 주의해야죠 사고가 날 수 있는 그런 사고였다고 생각이 들었어요. 그 여행사에서 대처를 잘 했지만 그렇게 됐어요. 그 당시 제 기억에는 뉴스에서 대처를 잘했다고 했어요. 생각해보면 잘 대처했던 것으로 좀 기억에 남거든요. 근데 아직도 그 여행지에서 시신 한구를 못 찾았다고 해요. 아 그 다음부터는 저도 기억이 잘 안 나네요. 흐지부지되고 뉴스에 (SP:과해서) 관심이 없어지다 보니까요 얼마 전까지의 기억으로는 한구를 못 찾았다고 해요. 저는 그런 안타까운 마지막의 기억이 있기는 해요. 거기는 저도 뉴스가 안나오면 모를 수 밖에 없잖아요. 그에 대한 뉴스는 이제 거의 안 나오잖아요 뉴스를 끝까지 이렇게 해 가지고 알려줘야 하는 되는데요 뉴스를 보내줘야 하는데 요즘엔 아예 모르게 됐었어요 어떻게 하고 안 나오고 무상문제든지 그런 문제요 다 그런 거까지도 보여주는 게 원래 뉴스잖아요 근데 딱 거기에 대해서 끝맺음이 없더라고요 분명하게 요즘 거의 한마디도 없더라고요 처음에는 그렇게 뉴스를 그렇게 떠들고 했었는데요 근데 크로아티아 갔을 때 체리 나무도 보고 있었어요 그 쪽에서 사월에 체리를 실컷 드시고 오셨겠군요 그 때문에 저는 되게 따뜻하게 여행을 다녔어요 체리는 구경 못 했어요 오렌지 나무는 봤어요 두브니크인가 그 쪽에 가니까 오렌지 나무가 있더라고요 오렌지가 주렁주렁 달렸더라고요 그래서 먹었어요 오렌지도 따먹지는 않고 그냥 보기는 봤네요 있는 것만 보고 그랬는데 저는 정말 체리 좋아해요 체리 나무를 보고 싶었는데 그때 가이드가 그러더라고요 체리를 보려면은 유월 달이나 칠월에 오래요 저에게 칠월 달에 오라고 그때 그랬어요 체리를 보러면 열 시간씩 걸리는데 또 갈 수 없잖아요 근데 정말 체리 주렁주렁 달린 거 보고 싶어졌어요 시장에 체리 파는 것도 보고 여러가지를 보고 싶어요 너무 좋아하는데 한 번 더 가서 보고 싶긴 하네요 그리고 저 얼마 전에 친구랑 둘이서 일박 이 일로 갔어요 저는 친구랑 오래간만에 홍콩을 다녀왔어요 그 지방의 먹거리를 굉장히 좋아하는데 홍콩에 갔어요 정말 이번에 자유여행을 둘이서 갔기 때문에 좋았어요 일박 이일이지만 거의 이박 정도 이틀을 보냈어요 왜냐 그러면 서울에서 거의 첫 비행기를 탔으니까요 여섯 시 반 비행기를 타니까 홍콩에 빨리 도착했어요 세시간 반 걸리니까 한 아홉 시 반밖에 안됐더라고요 그래서 홍콩 가서 아침을 먹고 점심을 먹었네요 저녁을 먹고 밤에는 이제 공연 보고 그랬어요  밤에 공연 보고 그 다음에 아침에 일어났습니다 한국에는 아침 먹고 점심 먹고 그러고 왔어요 일박 이 일 이지만 거의 이틀을 홍콩에서 있었어요 친구랑 저는 딤섬을 굉장히 좋아했었어요 근데 이번에는 딤섬 맛집을 네 군데나 가서 기뻤어요 그랬더니 그걸 먹었던 기억이 기억에 남더라고요 그래서 친구가 또 다시 좋은 경연이 있으면 홍콩에 가래요 저는 일박 이 일 이박 삼 일 정도는 갔다오고 싶어요 정말 딤섬만 먹어도 홍콩에 갈 수 있을 것 같아요 우리끼리 너무 싸서 딤섬 맛집을 찾아다녔거든요 인터넷 찾아가면서 다녔는데 딤섬이 진짜 계속 나왔어요 국물이 팍팍 터지면서 샤롱빠롱 같은 것도 있었죠 너무 맛있고 진짜 한국에서 저는 그런 딤섬을 못 봤어요 친구가 그러더라고 한국에도 있기는 하대요 그 지점이 여의도도 있고 있긴 있는데 비싸대요 홍콩보다 굉장히 비싸게 판다고 그러더라고요 역시 딤섬이 홍콩에서는 굉장히 비싸더라고요 그러니까 상대적으로 뭐 그렇게 비싸보였어요 홍콩이 그러니까 정말 딤섬 여행을 가도 될 정도에요 홍콩에서는 그런 여행도 손색이 없을 것 같아요 그렇게 하는 데 비용이 한 삼사십 만원 정도 드나요 그거보다 적게 드는지 그것도 좀 궁금하네요 저번에도 홍콩 다녀오신 거로 아는데 또 가려고요 요번에 친구분이랑 새롭게 가서 짧은 시간을 보냈어요 그리고 저도 짧게나마 여행을 하고 오신 것 같아요 저도 홍콩 같은 데를 또 다시 한 번 가고 싶어요 그런 생각이 들고 야경 같은 게 저는 예쁜 것 같아요 홍콩에 갔을 때 야경이 그렇게 기억에 남더라고요 바다에 비치는 그 불빛야경이 아주 예뻤어요 저녁에 야경에 그래서 그런게 아주 예쁘잖아요 굉장히 기억에 남는데 그런걸 눈에 담아왔어요 살면서 계속 그게 간간히 기억에 남을 것 같아요 그런데 먹는 게 많이 남는 거는 사실이더라고요 저는 딤섬을 말씀하시니까 침이 넘어가네요 딤섬을 먹으러 저도 한 번씩은 가 봤어요 근데 갯벌 같은 그런 곳도 가 보고 싶어요 제부도의 갯벌은 서해안도 한 번 가 보셨나요  조개 잡는 거는 그 쪽에 갯벌이 많잖아요 그런 것도 구멍이 뻥뻥 뚫린 상태로 있었어요 그 쪽에 조개 같은 거 그런 것이 많이 있어요 당신이 제부도를 혹시 가 보셨나 모르겠네요 네 가까우니까 제부도 대부도 다 가 봤어요 저도 가 봤는데 아이들이 어릴 때 갔었어요 저는 초등학교 때 자연 체험도 하고 많이 잡아봤어요 그랬는데 정말 요즘은 제가 아이들같아 보여요 이제 대학교를 졸업하고 사회인이 되었어요 그러니까 요즘은 둘 다 사회인이 되었거든요 요즘에는 저는 갯벌을 거의 못 가고 있어요 애들하고 (SP:갯벌) 가자 할 수도 없고 요즘은 안돼요 다 컸기 때문에 둘째 아들도 저번에 벌써 여행 갔어요 휴가를 갔다와서 이 번에 차를 하나 뽑았어요 자기 직원이라 그걸 직원가로 싸게 뽑는다고 해요 차를 기아 리롤을 뽑았는데 삼천백에 샀어요 거제도에 차를 가지고 가서 좀 싸게 뽑았어요  저는 차를 산게 굉장히 걱정이 되었어요 차 뽑자마자 그렇게 멀리까지 가겠나 싶었어요 네 걱정하지 마세요 잘 다녀오겠습니다 거제도 다녀오고 친구 두 명 태워서 갔어요 거제도에 이박 삼 일 잘 다녀왔더라고요 거기까지는 왕복이 거의 천 키로더라 고요 지금까지 보니 어제 그 차를 타 보니까 알겠어요 차를 뽑은 지 얼마 안 됐기 때문에 이천백을 갔어요 그런데 거제도에 차를 갖고 가면서 이상했어요 잘 모르니까 하이패스를 그냥 통과했어요 하이패스를 안 달고 그런데 하이패스를 지나간거에요 그랬더니 결국 집에 벌금이 날아왔어요  거제도에 해안 도로를 다녔는데 제가 또 실수했어요 그랬더니 또 삼만 이천 원 정도가 날아왔어요 그래서 어제께 두 개를 보니까 제가 속이 터졌어요 제가 집에서 우편함에 있는 두 개를 꺼냈어요 방에 갖다 놓으면서 너 처음이니까 이렇게 하지말라고 정말 돈이 아깝다 너가 지킬 수 있는거는 지켜야지 지켜 가지고 돈을 아껴야지 하고 어제 혼났어요 어제 막 아들하고 그랬던 게 생각나네요 저도 참 지난주에 큰딸이 여행을 좋아하는데요 제가 차를 사는 거를 굉장히 반대를 했어요 여태까지 직장도 그다지 멀지도 않고 그랬으니까요 출퇴근에는 별로 차가 필요하지 않다고 생각했어요 아빠랑 아침에 같이 출근을 하고 그랬으니까요 그래서 굳이 차가 필요 없는 상태에서 운동도 해야 해요 이제 될 수 있으면 버티는 데까지 버티고 싶어요 걷기도 해야 되고 여러 가지 상황으로 봤을 때 말이에요 차를 굳이 구매할 필요는 없다고 생각을 해요 어느 날 집에 있는데 아빠가 그 딸 방에 가서 물어봤어요 큰딸 방에 가 가지고 유심을 선물해줬어요 비밀번호 뭐 이렇게 하는 거 누르는 거 있어요 그걸 갖다가 불러 주더라고요 그래서 뭘 하나 봤어요 얘가 갑자기 무슨 돈이 필요해서 그러나 그랬어요 그렇게 하고 말았어요 남편도 얘기를 안 하고 그러네요 그 이튿날 아침 됐는데 남편이 그냥 있었대 딸을 안 태우고 나가도 된다는 거예요 그러나 그랬더니 무슨 차를 마티즈를 중고를 샀대 그래서 여행을 가기 위해서 여기저기 다녀봤대 그 차를 샀다고 하는데 너무 속이 상했어요 이렇게 같이 한집에서 있는 상황에 있었어요 조금 배신감이 들어서 많이 속상했어요 차를 사지는 못하게는 했어도 굳이 차를 샀어요 산다고 얘기를 했으면 여행지 이런 데 다니고 싶었어요 산다고 했으면 같이 상의를 해서 좀 더 좋은 차를 샀죠 좀 보태주고도 싶었는데 그렇게 자기 마음대로 했어요 결정을 해 버리고 그냥 그런 차를 샀다는 거에요 그래서 이제 그 다음부터는 참 많이 속상하더라고요 이제 제가 이제 여행을 다니더라도 딸 차는 타죠 아직까지는 왠지 불안하고 그런 마음이 있어요 여행지를 다닐 때도 가까운 곳을 가더라고요 딸 차는 불안한 것 같고 타고 싶지가 않아요 그런 마음이 생기는지 왜 그러는지 모르겠어요 너가 바닷가를 안가봤는데 처음으로 갔지 응 근데 애들 때문에 니가 한 번도 못 갔잖아 그렇게 좋아하는 걸 보니까 진짜 엄마도 마음 뿌듯하다 그래서 다음에 기회 되면은 또 한번 다른데 가자 다른 데 더 좋은 데 있으면은 가도 괜찮을 거 같아 월요일부터 니가 행군하니까 출근하고 이제 휴가가야지 '"
            ],
            "application/vnd.google.colaboratory.intrinsic+json": {
              "type": "string"
            }
          },
          "metadata": {},
          "execution_count": 31
        }
      ]
    },
    {
      "cell_type": "code",
      "source": [
        "#summarize(text, word_count=20)"
      ],
      "metadata": {
        "colab": {
          "base_uri": "https://localhost:8080/",
          "height": 300
        },
        "id": "YMIdIYy8Edla",
        "outputId": "2d60755e-f390-43d0-8a82-328b1ec703b6"
      },
      "execution_count": null,
      "outputs": [
        {
          "output_type": "error",
          "ename": "ValueError",
          "evalue": "ignored",
          "traceback": [
            "\u001b[0;31m---------------------------------------------------------------------------\u001b[0m",
            "\u001b[0;31mValueError\u001b[0m                                Traceback (most recent call last)",
            "\u001b[0;32m<ipython-input-19-928e8a4a02b3>\u001b[0m in \u001b[0;36m<module>\u001b[0;34m\u001b[0m\n\u001b[0;32m----> 1\u001b[0;31m \u001b[0msummarize\u001b[0m\u001b[0;34m(\u001b[0m\u001b[0mdf2\u001b[0m\u001b[0;34m.\u001b[0m\u001b[0miloc\u001b[0m\u001b[0;34m[\u001b[0m\u001b[0;36m0\u001b[0m\u001b[0;34m,\u001b[0m\u001b[0;36m1\u001b[0m\u001b[0;34m]\u001b[0m\u001b[0;34m,\u001b[0m \u001b[0mword_count\u001b[0m\u001b[0;34m=\u001b[0m\u001b[0;36m20\u001b[0m\u001b[0;34m)\u001b[0m\u001b[0;34m\u001b[0m\u001b[0;34m\u001b[0m\u001b[0m\n\u001b[0m",
            "\u001b[0;32m/usr/local/lib/python3.7/dist-packages/gensim/summarization/summarizer.py\u001b[0m in \u001b[0;36msummarize\u001b[0;34m(text, ratio, word_count, split)\u001b[0m\n\u001b[1;32m    420\u001b[0m     \u001b[0;31m# If only one sentence is present, the function raises an error (Avoids ZeroDivisionError).\u001b[0m\u001b[0;34m\u001b[0m\u001b[0;34m\u001b[0m\u001b[0;34m\u001b[0m\u001b[0m\n\u001b[1;32m    421\u001b[0m     \u001b[0;32mif\u001b[0m \u001b[0mlen\u001b[0m\u001b[0;34m(\u001b[0m\u001b[0msentences\u001b[0m\u001b[0;34m)\u001b[0m \u001b[0;34m==\u001b[0m \u001b[0;36m1\u001b[0m\u001b[0;34m:\u001b[0m\u001b[0;34m\u001b[0m\u001b[0;34m\u001b[0m\u001b[0m\n\u001b[0;32m--> 422\u001b[0;31m         \u001b[0;32mraise\u001b[0m \u001b[0mValueError\u001b[0m\u001b[0;34m(\u001b[0m\u001b[0;34m\"input must have more than one sentence\"\u001b[0m\u001b[0;34m)\u001b[0m\u001b[0;34m\u001b[0m\u001b[0;34m\u001b[0m\u001b[0m\n\u001b[0m\u001b[1;32m    423\u001b[0m \u001b[0;34m\u001b[0m\u001b[0m\n\u001b[1;32m    424\u001b[0m     \u001b[0;31m# Warns if the text is too short.\u001b[0m\u001b[0;34m\u001b[0m\u001b[0;34m\u001b[0m\u001b[0;34m\u001b[0m\u001b[0m\n",
            "\u001b[0;31mValueError\u001b[0m: input must have more than one sentence"
          ]
        }
      ]
    },
    {
      "cell_type": "code",
      "source": [
        "pip install kss"
      ],
      "metadata": {
        "colab": {
          "base_uri": "https://localhost:8080/"
        },
        "id": "T9XPUzD6IQ--",
        "outputId": "97e220d8-7a97-4c8e-ea41-f33b3b3feec6"
      },
      "execution_count": null,
      "outputs": [
        {
          "output_type": "stream",
          "name": "stdout",
          "text": [
            "Looking in indexes: https://pypi.org/simple, https://us-python.pkg.dev/colab-wheels/public/simple/\n",
            "Collecting kss\n",
            "  Downloading kss-3.6.4.tar.gz (42.4 MB)\n",
            "\u001b[K     |████████████████████████████████| 42.4 MB 1.3 MB/s \n",
            "\u001b[?25hCollecting emoji==1.2.0\n",
            "  Downloading emoji-1.2.0-py3-none-any.whl (131 kB)\n",
            "\u001b[K     |████████████████████████████████| 131 kB 40.3 MB/s \n",
            "\u001b[?25hRequirement already satisfied: regex in /usr/local/lib/python3.7/dist-packages (from kss) (2022.6.2)\n",
            "Requirement already satisfied: more_itertools in /usr/local/lib/python3.7/dist-packages (from kss) (8.14.0)\n",
            "Building wheels for collected packages: kss\n",
            "  Building wheel for kss (setup.py) ... \u001b[?25l\u001b[?25hdone\n",
            "  Created wheel for kss: filename=kss-3.6.4-py3-none-any.whl size=42448613 sha256=c0f7a69fc489739ccf23a02a3636688ca155e09faa2077292a8ec9ddb09ef7d5\n",
            "  Stored in directory: /root/.cache/pip/wheels/32/53/7c/76bdf098c2a6c5cd4c4c29648da30ad4793d604314b2aeb26f\n",
            "Successfully built kss\n",
            "Installing collected packages: emoji, kss\n",
            "Successfully installed emoji-1.2.0 kss-3.6.4\n"
          ]
        }
      ]
    },
    {
      "cell_type": "code",
      "source": [
        "import kss\n",
        "\n",
        "text = kss.split_sentences(text)"
      ],
      "metadata": {
        "id": "zZpHZsV4JWnu"
      },
      "execution_count": null,
      "outputs": []
    },
    {
      "cell_type": "code",
      "source": [
        "text_ = text[:100]\n",
        "text_"
      ],
      "metadata": {
        "colab": {
          "base_uri": "https://localhost:8080/"
        },
        "id": "5UYj48SLwBi0",
        "outputId": "2c5310c3-4364-46c0-8cd5-90c6ad5b535f"
      },
      "execution_count": null,
      "outputs": [
        {
          "output_type": "execute_result",
          "data": {
            "text/plain": [
              "['아니 제가 작년에 자연휴양림을 갔었어요',\n",
              " '우리나라의 대전에 있는 장태산 휴양림이었어요 (SN:장태산) 휴양림은 가니까 나무가 굉장히 쭉쭉 뻗어 나무가 (SN:굉장히 예뻤어 )그리고 그 안에만 있어도 좋아 미리 예약 하면 방은 예약할 수 있으니까 방에서 밥 같은 걸 해 먹을 수 있더라고요 아침 해 먹고 점심은 근교에서 사서 먹고 저녁에 왔어 사서 먹고 그렇게 왔는데 서울서 멀지 않는 곳이야 대전이니까 서울서 두 시간밖에 안 걸려요',\n",
              " '그래서 자연휴양림이 굉장히 좋더라고요 아 휴양림을 언니는 어디를 가 보셨어요',\n",
              " '저는 십 년 전에 가 봤는데 기억이 잘 안나요 장가계를 십 년 전에 애들 데리고 갔었어요',\n",
              " '장가계의 경치는 우리나라에서는 상상도 할 수 없는 곳 그런 경관에다가 또 케이블카 이런 것들이 굉장히 좋아 그래서 그 당시 굉장히 아름다워서 말을 못했어요',\n",
              " '해외에 경치를 보고 여행을 다녔는데 가장 기억에 남아요',\n",
              " '저는 그런 굉장히 웅대한 자연경관에 빠졌어요',\n",
              " '그 호텔 같은 그런 것이 많이 미흡했던 그런 경우에요 몇년후에 또 가야겠다고 생각했어요',\n",
              " '저기 뭐지 나이 드면 중국에 많이 가게 된다고 해 여행 갈 때 패키지 갈 때 중국을 많이 가라고 하잖아요 장가계 여행도 걷는 데가 워낙 많더라고요 태양산은 또 몇 년 전 부터 인기가 있대요 칠팔 년 전부터 그게 여행 패키지 상품으로 많이 떠오르잖아요 중국에서 태항산을 또 갔었는데 좋았어요',\n",
              " '그 당시 관광지로서 개발이 되고 있었어요',\n",
              " '많이 공사를 하고 있어 가지고 황사가 많았어요',\n",
              " '길에서 차 안으로 황사가 다 들어왔어요',\n",
              " '입으로 다 들어오고 그랬는지 고생을 엄청 했어요',\n",
              " '그래 가지고 이제 공사를 하는 곳은 지나가지 않아요',\n",
              " '황사가 온 데를 다 덮어 가지고 앞이 보이지 않아요',\n",
              " '비닐옷을 다 입어서 황사를 막기로 했어요',\n",
              " '옷을 다 입고 마스크 쓰고 그렇게 패키지를 다녔어요',\n",
              " '그때 진짜 그 여행을 즐길 수 있게 되었어요',\n",
              " '어느 정도 그래도 갈고 닦은 다음에 여행을 해야지',\n",
              " '그 부분에 있어서 태항산이 관광지로서 좋았어요',\n",
              " '너무 공기도 안 좋고 미세먼지를 많이 마셨어요',\n",
              " '많이 너무 많이 마셔서 건강에도 많이 안 좋았던 기억 그래서 그때도 친구랑 같이 고생을 했어요',\n",
              " '그때는 꽤 고생을 많이 했고 장가계 여행을 갔어요',\n",
              " '여행은 애들 학교 다닐 때 큰 딸하고 막내 아들하고 갔어요',\n",
              " '아 근데 걷는 데가 너무 많고 또 험난했어요',\n",
              " '애들은 그런 경치보다는 다른 여행을 또 즐겨했어요',\n",
              " '좋아하지 않는 상태에서 갔기 때문에 굉장히 짜증났어요',\n",
              " '짜증을 부리고 그랬던 기억이 아직도 생생하게 나요',\n",
              " '저도 중국의 장가계도 갔었고 항산도 다녀왔거든요',\n",
              " '아 근데 장가계 여행 굉장히 힘들었어요',\n",
              " '아 근데 장가계 가면 천문산 올라가잖아요',\n",
              " '제가 가기 전에는 그래도 천문산을 올라가는 길이 있어서 다행히 갈 때는 에스컬레이터 타고 갔지만요 올라가고 내려올 때는 그냥 걸어서 내려왔습니다',\n",
              " '그때 그게 경치가 좋았는데 또 중국에서는 그게 아니래요 천문산의 바위를 관통한 비행기가 있었대요 거기를 또 다시 뒤쪽으로 뭐를 공사 한다고 하네요 그래 가지고 정말 중국인들이 반발했다고 하네요 (SN:)뭐든지 크게 하려고 세계 최고로 하려는 그런 마음이 있어요',\n",
              " '장가계 밑에 엘리베이터도 세계에서 가장 크고 엘리베이터가 얼마나 크고 깊은지 보면 알아요',\n",
              " '엘리베이터를 독일에서 수입해 왔다고 하네요',\n",
              " '그러니까 우리가 중국에 가보기 전까지는 몰라요 우리나라보다 굉장히 후진국이고 별거 아니겠지 그랬는데 여행을 하면서 보면 볼수록 굉장히 대륙이구나',\n",
              " '느꼈죠 굉장히 노력을 많이 하는 중국이더라고요 보니까 근데 제가 올 봄에 중국에 다시 가게 되었습니다 하지만 저는 여행을 동유럽을 다녀왔어요',\n",
              " '근데 마침 제가 갔다 온 동유럽은 매우 복잡했어요',\n",
              " '제가 다 예약하고 갔다 왔는데 어지간히 힘들었죠 (SN:)그런데 제가 얼마 전에 뉴스에서 보고 깜짝 놀랐어요',\n",
              " '근데 제가 밤에 배 타고 다니고 그렜던 곳에서 사진 찍고 했던 그 헝가리 다뉴브강에서 사고가 났잖아요',\n",
              " '저는 딱 삼개월 전에 갔다 왔는데 진짜 깜짝 놀랐어요',\n",
              " '근데 여행 해 보니까 우리가 운이 참 좋았어요',\n",
              " '그게 맞아요',\n",
              " '우리 갔을때도 굉장히 예뻣거든요',\n",
              " '거기 있는 다뉴강이 잔잔하고 굉장히 예뻤어요',\n",
              " '배 타고 조끼를 입고 강을 구경하고 있었어요 (NO:그리고 다녀도) 저는 굉장히 편하고 안전하게 여행했어요',\n",
              " '지금 서울 와서 생각하니까 굉장히 아찔하더라고요 우리가 만약에 그 배를 타고 갔다면 어땠을까 싶어요',\n",
              " '다른 큰 크루즈가 와서 박았으면 우리도 전몰 했을 거에요',\n",
              " '이걸 보면서 진짜 여행 갈 때 조심해야겠구나 생각했어요',\n",
              " '굉장히 안전 같은 문제에다 지금까지는 신경을 안 썼는데 좀 신경을 써야 되겠다',\n",
              " '그런 생각이 들어요',\n",
              " '응 저도 그 뉴스를 보고 온 몸에 소름이 끼쳤어요',\n",
              " '생각하고 했었는데 앞으로 좀 두려움이 생기더라고요 그리고 또 요즘에 티비를(NO: 보고) 그러니까 재미있었어요',\n",
              " '핑클의 효리하고 옥주현하고 이진 그리고 성유리가 나왔어요',\n",
              " '캠핑카를 타고 계속 거기서 재밌게 시간을 보냈어요',\n",
              " '재미있게 즐기는 모습이 나와요 그거 혹시 보셨나요',\n",
              " '근데 여자들 넷이 그렇게 캠핑카를 직접 몰고 갔다',\n",
              " '니 아 아마 옥주현만 빼고는 다 결혼을 했지요',\n",
              " '이효리하고 거기서 밥도 직접 지어서 먹었어요',\n",
              " '제대로 못 씻고 같이 즐기면서 옛날을 추억했어요',\n",
              " '회사에 가면서 저는 그때의 장면이 기억이 났어요',\n",
              " '거기서 그걸 촬영을 하고 여기저기 다녔다고 해요',\n",
              " '촬영을 한다고 그래요 그래서 그걸 보고 있었어요(NO:) (SN:)앞으로 우리 가족도 시간이 되면 해외여행을 갈거에요',\n",
              " '국내 여행도 재밌지만 좀 색다르게 애들하고 있을거에요',\n",
              " '좀 더 나이 먹기 전에 그런 캠핑차를 대여해서 놀거에요',\n",
              " '이제 다니고 싶은 곳에서 멋진 경치를 보고 올거에요',\n",
              " '좋은 곳에 머물면서 며칠을 이렇게 보내고 올거에요',\n",
              " '휴가를 여유롭고 새롭게 지내고 싶은 마음이 있어요',\n",
              " '근데 아라씨는 그런 거 어떻게 생각하고 있나요 해외여행이 아직은 더 많이 가고 싶은 생각이 있나요 해외 쪽에 가고 싶은 곳이 많이 있나 봐요 아 맞다',\n",
              " '저 같은 경우는 올해 동유럽 갔다 왔습니다',\n",
              " '프랑스하고 어디지',\n",
              " '프랑스 옆에 이태리에요 그쪽을 안 가봤기 때문에 거기에 대한 환상이 있어요',\n",
              " '프랑스 가서 니기산 케이블카 타고 산을 올랐어요',\n",
              " '다 돌아보고 그리고 알프스산맥 근처까지도 가 봤죠',\n",
              " '여행을 많이 갔는데 저는 그런 게 굉장히 좋더라고요 저는 도시 위주로 성당 위주로 다니면서 지냈어요',\n",
              " '성당이 처음에 갔을 때 너무너무 오래되어 보였어요',\n",
              " '멋있고 어마어마했는데 집에 와서 생각해 보니까 별로에요 거기가 거기 같고 막 그런 생각이 들었어요',\n",
              " '나 잘 모르겠어요',\n",
              " '그냥 멋있다는 생각만 들었어요',\n",
              " '딱히 기억에 안 남는데 그냥 캠핑 여행이 더 좋았어요',\n",
              " '가볍게 떠난 국내여행은 훨씬 더 기억에 좋더라고요 그 로키산맥을 가장 근접한 거리까지 갔다 왔어요',\n",
              " '거기도 그렇고 캐나다의 벤포 공원도 좋았어요',\n",
              " '제가 생각하니까 그런 자연이 아주 멋있는 거 같아요',\n",
              " '자연을 보고 그러니까 굉장히 머리에 많이 남아요',\n",
              " '뭐 그랜드 캐년이나 브라이언 캐년 같은데도 멋있어요',\n",
              " '훨씬 멋있는게 있을거라는 생각도 들긴 했지요',\n",
              " '국내 여행을 가고 싶다는 그런 생각이 들었어요',\n",
              " '예 그게 좋더라고요 그래서 저는 성당도 갔어요',\n",
              " '물론 오래 된 성당도 한 번 정도는 가 봐야 되겠지만요 그런 시내에 있는 오래된 고적 성당보다 이게 좋아요',\n",
              " '저는 이제 완전히 자연을 접한 데가 좋더라고요 그냥 하늘에서 지형을 보면서 느끼는게 많아요',\n",
              " '어떻게 만들어 냈는지 자연이 굉장히 경이롭더라고요 그게 훨씬 기억에 남더라고요 최근에 갔던 거기도 그렇고 작년에 보러 간 건물들도 아주 예쁘더라고요 다 물로 깎여져 가지고 모습이 아주 아름다웠어요',\n",
              " '되였더라고요 이끼처럼 된 게 다 물에서 이렇게 바닷물에서 깎여서 된 그런 것들이 저는 훨씬 더 보기가 좋아요',\n",
              " '에도 많이 남고 그래서 저는 인상 깊었어요',\n",
              " '자연을 접한 그런 여행을 더하고 싶어요',\n",
              " '앞으로도 저는 삼년 전에 서유럽을 갔었는데 역시 서유업이었어요',\n",
              " '프랑스 이태리 또 영국 이런 데는 둘 다 성당이 많아요',\n",
              " '왜 그렇게 많은지 뭐 모나리자 있는 데도 갔어요',\n",
              " '여러 성당 미술관을 다녀봤는데 진짜 너무 다 예뻐요 그게 그거 같고 진짜 그냥 그린 그림도 예뻤어요',\n",
              " '가이드의 그 설명도 귀에 잘 들리지도 않았습니다',\n",
              " '미켈란젤로만 귀에 엥엥돼 가지고 머릿속에 남았어요']"
            ]
          },
          "metadata": {},
          "execution_count": 43
        }
      ]
    },
    {
      "cell_type": "code",
      "source": [
        "text = text.str.replace(\"[^ㄱ-ㅎㅏ-ㅣ가-힣 ]\",\"\",regex=True) # 정규 표현식 수행"
      ],
      "metadata": {
        "colab": {
          "base_uri": "https://localhost:8080/",
          "height": 172
        },
        "id": "Tu_F0ei-wDlO",
        "outputId": "5114e581-bfc4-47ab-f20b-ce38df5ca5d1"
      },
      "execution_count": null,
      "outputs": [
        {
          "output_type": "error",
          "ename": "AttributeError",
          "evalue": "ignored",
          "traceback": [
            "\u001b[0;31m---------------------------------------------------------------------------\u001b[0m",
            "\u001b[0;31mAttributeError\u001b[0m                            Traceback (most recent call last)",
            "\u001b[0;32m<ipython-input-21-8d4cb366a079>\u001b[0m in \u001b[0;36m<module>\u001b[0;34m\u001b[0m\n\u001b[0;32m----> 1\u001b[0;31m \u001b[0mtext\u001b[0m \u001b[0;34m=\u001b[0m \u001b[0mtext\u001b[0m\u001b[0;34m.\u001b[0m\u001b[0mstr\u001b[0m\u001b[0;34m.\u001b[0m\u001b[0mreplace\u001b[0m\u001b[0;34m(\u001b[0m\u001b[0;34m\"[^ㄱ-ㅎㅏ-ㅣ가-힣 ]\"\u001b[0m\u001b[0;34m,\u001b[0m\u001b[0;34m\"\"\u001b[0m\u001b[0;34m,\u001b[0m\u001b[0mregex\u001b[0m\u001b[0;34m=\u001b[0m\u001b[0;32mTrue\u001b[0m\u001b[0;34m)\u001b[0m \u001b[0;31m# 정규 표현식 수행\u001b[0m\u001b[0;34m\u001b[0m\u001b[0;34m\u001b[0m\u001b[0m\n\u001b[0m",
            "\u001b[0;31mAttributeError\u001b[0m: 'list' object has no attribute 'str'"
          ]
        }
      ]
    },
    {
      "cell_type": "code",
      "source": [
        "text_str = '.'' '.join(text_)"
      ],
      "metadata": {
        "id": "J576JCJFK2h8"
      },
      "execution_count": null,
      "outputs": []
    },
    {
      "cell_type": "code",
      "source": [
        "text_str"
      ],
      "metadata": {
        "colab": {
          "base_uri": "https://localhost:8080/",
          "height": 217
        },
        "id": "nrZ_9ZamLLjj",
        "outputId": "863f8603-4770-4587-d299-71d14d45bc7b"
      },
      "execution_count": null,
      "outputs": [
        {
          "output_type": "execute_result",
          "data": {
            "text/plain": [
              "'아니 제가 작년에 자연휴양림을 갔었어요. 우리나라의 대전에 있는 장태산 휴양림이었어요 (SN:장태산) 휴양림은 가니까 나무가 굉장히 쭉쭉 뻗어 나무가 (SN:굉장히 예뻤어 )그리고 그 안에만 있어도 좋아 미리 예약 하면 방은 예약할 수 있으니까 방에서 밥 같은 걸 해 먹을 수 있더라고요 아침 해 먹고 점심은 근교에서 사서 먹고 저녁에 왔어 사서 먹고 그렇게 왔는데 서울서 멀지 않는 곳이야 대전이니까 서울서 두 시간밖에 안 걸려요. 그래서 자연휴양림이 굉장히 좋더라고요 아 휴양림을 언니는 어디를 가 보셨어요. 저는 십 년 전에 가 봤는데 기억이 잘 안나요 장가계를 십 년 전에 애들 데리고 갔었어요. 장가계의 경치는 우리나라에서는 상상도 할 수 없는 곳 그런 경관에다가 또 케이블카 이런 것들이 굉장히 좋아 그래서 그 당시 굉장히 아름다워서 말을 못했어요. 해외에 경치를 보고 여행을 다녔는데 가장 기억에 남아요. 저는 그런 굉장히 웅대한 자연경관에 빠졌어요. 그 호텔 같은 그런 것이 많이 미흡했던 그런 경우에요 몇년후에 또 가야겠다고 생각했어요. 저기 뭐지 나이 드면 중국에 많이 가게 된다고 해 여행 갈 때 패키지 갈 때 중국을 많이 가라고 하잖아요 장가계 여행도 걷는 데가 워낙 많더라고요 태양산은 또 몇 년 전 부터 인기가 있대요 칠팔 년 전부터 그게 여행 패키지 상품으로 많이 떠오르잖아요 중국에서 태항산을 또 갔었는데 좋았어요. 그 당시 관광지로서 개발이 되고 있었어요. 많이 공사를 하고 있어 가지고 황사가 많았어요. 길에서 차 안으로 황사가 다 들어왔어요. 입으로 다 들어오고 그랬는지 고생을 엄청 했어요. 그래 가지고 이제 공사를 하는 곳은 지나가지 않아요. 황사가 온 데를 다 덮어 가지고 앞이 보이지 않아요. 비닐옷을 다 입어서 황사를 막기로 했어요. 옷을 다 입고 마스크 쓰고 그렇게 패키지를 다녔어요. 그때 진짜 그 여행을 즐길 수 있게 되었어요. 어느 정도 그래도 갈고 닦은 다음에 여행을 해야지. 그 부분에 있어서 태항산이 관광지로서 좋았어요. 너무 공기도 안 좋고 미세먼지를 많이 마셨어요. 많이 너무 많이 마셔서 건강에도 많이 안 좋았던 기억 그래서 그때도 친구랑 같이 고생을 했어요. 그때는 꽤 고생을 많이 했고 장가계 여행을 갔어요. 여행은 애들 학교 다닐 때 큰 딸하고 막내 아들하고 갔어요. 아 근데 걷는 데가 너무 많고 또 험난했어요. 애들은 그런 경치보다는 다른 여행을 또 즐겨했어요. 좋아하지 않는 상태에서 갔기 때문에 굉장히 짜증났어요. 짜증을 부리고 그랬던 기억이 아직도 생생하게 나요. 저도 중국의 장가계도 갔었고 항산도 다녀왔거든요. 아 근데 장가계 여행 굉장히 힘들었어요. 아 근데 장가계 가면 천문산 올라가잖아요. 제가 가기 전에는 그래도 천문산을 올라가는 길이 있어서 다행히 갈 때는 에스컬레이터 타고 갔지만요 올라가고 내려올 때는 그냥 걸어서 내려왔습니다. 그때 그게 경치가 좋았는데 또 중국에서는 그게 아니래요 천문산의 바위를 관통한 비행기가 있었대요 거기를 또 다시 뒤쪽으로 뭐를 공사 한다고 하네요 그래 가지고 정말 중국인들이 반발했다고 하네요 (SN:)뭐든지 크게 하려고 세계 최고로 하려는 그런 마음이 있어요. 장가계 밑에 엘리베이터도 세계에서 가장 크고 엘리베이터가 얼마나 크고 깊은지 보면 알아요. 엘리베이터를 독일에서 수입해 왔다고 하네요. 그러니까 우리가 중국에 가보기 전까지는 몰라요 우리나라보다 굉장히 후진국이고 별거 아니겠지 그랬는데 여행을 하면서 보면 볼수록 굉장히 대륙이구나. 느꼈죠 굉장히 노력을 많이 하는 중국이더라고요 보니까 근데 제가 올 봄에 중국에 다시 가게 되었습니다 하지만 저는 여행을 동유럽을 다녀왔어요. 근데 마침 제가 갔다 온 동유럽은 매우 복잡했어요. 제가 다 예약하고 갔다 왔는데 어지간히 힘들었죠 (SN:)그런데 제가 얼마 전에 뉴스에서 보고 깜짝 놀랐어요. 근데 제가 밤에 배 타고 다니고 그렜던 곳에서 사진 찍고 했던 그 헝가리 다뉴브강에서 사고가 났잖아요. 저는 딱 삼개월 전에 갔다 왔는데 진짜 깜짝 놀랐어요. 근데 여행 해 보니까 우리가 운이 참 좋았어요. 그게 맞아요. 우리 갔을때도 굉장히 예뻣거든요. 거기 있는 다뉴강이 잔잔하고 굉장히 예뻤어요. 배 타고 조끼를 입고 강을 구경하고 있었어요 (NO:그리고 다녀도) 저는 굉장히 편하고 안전하게 여행했어요. 지금 서울 와서 생각하니까 굉장히 아찔하더라고요 우리가 만약에 그 배를 타고 갔다면 어땠을까 싶어요. 다른 큰 크루즈가 와서 박았으면 우리도 전몰 했을 거에요. 이걸 보면서 진짜 여행 갈 때 조심해야겠구나 생각했어요. 굉장히 안전 같은 문제에다 지금까지는 신경을 안 썼는데 좀 신경을 써야 되겠다. 그런 생각이 들어요. 응 저도 그 뉴스를 보고 온 몸에 소름이 끼쳤어요. 생각하고 했었는데 앞으로 좀 두려움이 생기더라고요 그리고 또 요즘에 티비를(NO: 보고) 그러니까 재미있었어요. 핑클의 효리하고 옥주현하고 이진 그리고 성유리가 나왔어요. 캠핑카를 타고 계속 거기서 재밌게 시간을 보냈어요. 재미있게 즐기는 모습이 나와요 그거 혹시 보셨나요. 근데 여자들 넷이 그렇게 캠핑카를 직접 몰고 갔다. 니 아 아마 옥주현만 빼고는 다 결혼을 했지요. 이효리하고 거기서 밥도 직접 지어서 먹었어요. 제대로 못 씻고 같이 즐기면서 옛날을 추억했어요. 회사에 가면서 저는 그때의 장면이 기억이 났어요. 거기서 그걸 촬영을 하고 여기저기 다녔다고 해요. 촬영을 한다고 그래요 그래서 그걸 보고 있었어요(NO:) (SN:)앞으로 우리 가족도 시간이 되면 해외여행을 갈거에요. 국내 여행도 재밌지만 좀 색다르게 애들하고 있을거에요. 좀 더 나이 먹기 전에 그런 캠핑차를 대여해서 놀거에요. 이제 다니고 싶은 곳에서 멋진 경치를 보고 올거에요. 좋은 곳에 머물면서 며칠을 이렇게 보내고 올거에요. 휴가를 여유롭고 새롭게 지내고 싶은 마음이 있어요. 근데 아라씨는 그런 거 어떻게 생각하고 있나요 해외여행이 아직은 더 많이 가고 싶은 생각이 있나요 해외 쪽에 가고 싶은 곳이 많이 있나 봐요 아 맞다. 저 같은 경우는 올해 동유럽 갔다 왔습니다. 프랑스하고 어디지. 프랑스 옆에 이태리에요 그쪽을 안 가봤기 때문에 거기에 대한 환상이 있어요. 프랑스 가서 니기산 케이블카 타고 산을 올랐어요. 다 돌아보고 그리고 알프스산맥 근처까지도 가 봤죠. 여행을 많이 갔는데 저는 그런 게 굉장히 좋더라고요 저는 도시 위주로 성당 위주로 다니면서 지냈어요. 성당이 처음에 갔을 때 너무너무 오래되어 보였어요. 멋있고 어마어마했는데 집에 와서 생각해 보니까 별로에요 거기가 거기 같고 막 그런 생각이 들었어요. 나 잘 모르겠어요. 그냥 멋있다는 생각만 들었어요. 딱히 기억에 안 남는데 그냥 캠핑 여행이 더 좋았어요. 가볍게 떠난 국내여행은 훨씬 더 기억에 좋더라고요 그 로키산맥을 가장 근접한 거리까지 갔다 왔어요. 거기도 그렇고 캐나다의 벤포 공원도 좋았어요. 제가 생각하니까 그런 자연이 아주 멋있는 거 같아요. 자연을 보고 그러니까 굉장히 머리에 많이 남아요. 뭐 그랜드 캐년이나 브라이언 캐년 같은데도 멋있어요. 훨씬 멋있는게 있을거라는 생각도 들긴 했지요. 국내 여행을 가고 싶다는 그런 생각이 들었어요. 예 그게 좋더라고요 그래서 저는 성당도 갔어요. 물론 오래 된 성당도 한 번 정도는 가 봐야 되겠지만요 그런 시내에 있는 오래된 고적 성당보다 이게 좋아요. 저는 이제 완전히 자연을 접한 데가 좋더라고요 그냥 하늘에서 지형을 보면서 느끼는게 많아요. 어떻게 만들어 냈는지 자연이 굉장히 경이롭더라고요 그게 훨씬 기억에 남더라고요 최근에 갔던 거기도 그렇고 작년에 보러 간 건물들도 아주 예쁘더라고요 다 물로 깎여져 가지고 모습이 아주 아름다웠어요. 되였더라고요 이끼처럼 된 게 다 물에서 이렇게 바닷물에서 깎여서 된 그런 것들이 저는 훨씬 더 보기가 좋아요. 에도 많이 남고 그래서 저는 인상 깊었어요. 자연을 접한 그런 여행을 더하고 싶어요. 앞으로도 저는 삼년 전에 서유럽을 갔었는데 역시 서유업이었어요. 프랑스 이태리 또 영국 이런 데는 둘 다 성당이 많아요. 왜 그렇게 많은지 뭐 모나리자 있는 데도 갔어요. 여러 성당 미술관을 다녀봤는데 진짜 너무 다 예뻐요 그게 그거 같고 진짜 그냥 그린 그림도 예뻤어요. 가이드의 그 설명도 귀에 잘 들리지도 않았습니다. 미켈란젤로만 귀에 엥엥돼 가지고 머릿속에 남았어요'"
            ],
            "application/vnd.google.colaboratory.intrinsic+json": {
              "type": "string"
            }
          },
          "metadata": {},
          "execution_count": 46
        }
      ]
    },
    {
      "cell_type": "code",
      "source": [
        "summarize_text = kss.split_sentences(summarize(text_str, word_count=200))\n",
        "summarize_text"
      ],
      "metadata": {
        "colab": {
          "base_uri": "https://localhost:8080/"
        },
        "id": "i5ci9TlrKkR6",
        "outputId": "41636eef-c5c2-4ed3-e91b-0955ae2b2355"
      },
      "execution_count": null,
      "outputs": [
        {
          "output_type": "execute_result",
          "data": {
            "text/plain": [
              "['우리나라의 대전에 있는 장태산 휴양림이었어요 (SN:장태산) 휴양림은 가니까 나무가 굉장히 쭉쭉 뻗어 나무가 (SN:굉장히 예뻤어 )그리고 그 안에만 있어도 좋아 미리 예약 하면 방은 예약할 수 있으니까 방에서 밥 같은 걸 해 먹을 수 있더라고요 아침 해 먹고 점심은 근교에서 사서 먹고 저녁에 왔어 사서 먹고 그렇게 왔는데 서울서 멀지 않는 곳이야 대전이니까 서울서 두 시간밖에 안 걸려요.']"
            ]
          },
          "metadata": {},
          "execution_count": 48
        }
      ]
    },
    {
      "cell_type": "code",
      "source": [
        "print(summarize_text)"
      ],
      "metadata": {
        "colab": {
          "base_uri": "https://localhost:8080/"
        },
        "id": "pbEhr5suLMch",
        "outputId": "f43f8d61-ac66-4eaf-91c7-305f22dc287b"
      },
      "execution_count": null,
      "outputs": [
        {
          "output_type": "stream",
          "name": "stdout",
          "text": [
            "['그런데 세 장씩 한꺼 번에 하면 큰 팬에다가 (NO:)이렇게 둥그렇게 모양이 딱 나와요 (NO:)그럼 이렇게 잘라서 양념간장을 끼얹어서 먹어야 맛있더라고요 (SN:)그래서 아까도 집에 오징어 있어서(SN:) (NO:)근데 김치전은 뭐 어지간하면 거의 다 맛있더라고요 (NO:)나는 한 번 씻어서 김치를 좀 짜서 해요 (NO:)튀김가루로 이런 식으로 하는데 (NO:)내가 하는 건 그렇게 맛있는 것 같지가 않아서 (NO:이미 간이 되어 있기 때문에) 더 짤 수가 있어요 (NO:)또 저 같은 경우에는 밀가루로 하니까 (FP:아) 그럴 것 같네요.']\n"
          ]
        }
      ]
    },
    {
      "cell_type": "code",
      "source": [],
      "metadata": {
        "id": "-BrmIknTw3mL"
      },
      "execution_count": null,
      "outputs": []
    }
  ]
}