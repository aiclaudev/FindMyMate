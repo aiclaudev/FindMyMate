{
  "cells": [
    {
      "cell_type": "code",
      "execution_count": null,
      "metadata": {
        "colab": {
          "base_uri": "https://localhost:8080/"
        },
        "id": "QeCLcMoLafc2",
        "outputId": "ec9dc0fc-d786-48e3-e65d-917ebb7ed9fc"
      },
      "outputs": [
        {
          "name": "stdout",
          "output_type": "stream",
          "text": [
            "Looking in indexes: https://pypi.org/simple, https://us-python.pkg.dev/colab-wheels/public/simple/\n",
            "Collecting mxnet\n",
            "  Downloading mxnet-1.9.1-py3-none-manylinux2014_x86_64.whl (49.1 MB)\n",
            "\u001b[K     |████████████████████████████████| 49.1 MB 143 kB/s \n",
            "\u001b[?25hRequirement already satisfied: requests<3,>=2.20.0 in /usr/local/lib/python3.7/dist-packages (from mxnet) (2.23.0)\n",
            "Collecting graphviz<0.9.0,>=0.8.1\n",
            "  Downloading graphviz-0.8.4-py2.py3-none-any.whl (16 kB)\n",
            "Requirement already satisfied: numpy<2.0.0,>1.16.0 in /usr/local/lib/python3.7/dist-packages (from mxnet) (1.21.6)\n",
            "Requirement already satisfied: idna<3,>=2.5 in /usr/local/lib/python3.7/dist-packages (from requests<3,>=2.20.0->mxnet) (2.10)\n",
            "Requirement already satisfied: urllib3!=1.25.0,!=1.25.1,<1.26,>=1.21.1 in /usr/local/lib/python3.7/dist-packages (from requests<3,>=2.20.0->mxnet) (1.24.3)\n",
            "Requirement already satisfied: chardet<4,>=3.0.2 in /usr/local/lib/python3.7/dist-packages (from requests<3,>=2.20.0->mxnet) (3.0.4)\n",
            "Requirement already satisfied: certifi>=2017.4.17 in /usr/local/lib/python3.7/dist-packages (from requests<3,>=2.20.0->mxnet) (2022.9.24)\n",
            "Installing collected packages: graphviz, mxnet\n",
            "  Attempting uninstall: graphviz\n",
            "    Found existing installation: graphviz 0.10.1\n",
            "    Uninstalling graphviz-0.10.1:\n",
            "      Successfully uninstalled graphviz-0.10.1\n",
            "Successfully installed graphviz-0.8.4 mxnet-1.9.1\n",
            "Looking in indexes: https://pypi.org/simple, https://us-python.pkg.dev/colab-wheels/public/simple/\n",
            "Collecting gluonnlp\n",
            "  Downloading gluonnlp-0.10.0.tar.gz (344 kB)\n",
            "\u001b[K     |████████████████████████████████| 344 kB 8.3 MB/s \n",
            "\u001b[?25hRequirement already satisfied: pandas in /usr/local/lib/python3.7/dist-packages (1.3.5)\n",
            "Requirement already satisfied: tqdm in /usr/local/lib/python3.7/dist-packages (4.64.1)\n",
            "Requirement already satisfied: numpy>=1.16.0 in /usr/local/lib/python3.7/dist-packages (from gluonnlp) (1.21.6)\n",
            "Requirement already satisfied: cython in /usr/local/lib/python3.7/dist-packages (from gluonnlp) (0.29.32)\n",
            "Requirement already satisfied: packaging in /usr/local/lib/python3.7/dist-packages (from gluonnlp) (21.3)\n",
            "Requirement already satisfied: python-dateutil>=2.7.3 in /usr/local/lib/python3.7/dist-packages (from pandas) (2.8.2)\n",
            "Requirement already satisfied: pytz>=2017.3 in /usr/local/lib/python3.7/dist-packages (from pandas) (2022.6)\n",
            "Requirement already satisfied: six>=1.5 in /usr/local/lib/python3.7/dist-packages (from python-dateutil>=2.7.3->pandas) (1.15.0)\n",
            "Requirement already satisfied: pyparsing!=3.0.5,>=2.0.2 in /usr/local/lib/python3.7/dist-packages (from packaging->gluonnlp) (3.0.9)\n",
            "Building wheels for collected packages: gluonnlp\n",
            "  Building wheel for gluonnlp (setup.py) ... \u001b[?25l\u001b[?25hdone\n",
            "  Created wheel for gluonnlp: filename=gluonnlp-0.10.0-cp37-cp37m-linux_x86_64.whl size=595753 sha256=a332a507ea92daeb072786ddf3f1afd44aebf26d23369a485976a13a9584bba6\n",
            "  Stored in directory: /root/.cache/pip/wheels/be/b4/06/7f3fdfaf707e6b5e98b79c041e023acffbe395d78a527eae00\n",
            "Successfully built gluonnlp\n",
            "Installing collected packages: gluonnlp\n",
            "Successfully installed gluonnlp-0.10.0\n",
            "Looking in indexes: https://pypi.org/simple, https://us-python.pkg.dev/colab-wheels/public/simple/\n",
            "Collecting sentencepiece\n",
            "  Downloading sentencepiece-0.1.97-cp37-cp37m-manylinux_2_17_x86_64.manylinux2014_x86_64.whl (1.3 MB)\n",
            "\u001b[K     |████████████████████████████████| 1.3 MB 7.1 MB/s \n",
            "\u001b[?25hInstalling collected packages: sentencepiece\n",
            "Successfully installed sentencepiece-0.1.97\n",
            "Looking in indexes: https://pypi.org/simple, https://us-python.pkg.dev/colab-wheels/public/simple/\n",
            "Collecting transformers==3\n",
            "  Downloading transformers-3.0.0-py3-none-any.whl (754 kB)\n",
            "\u001b[K     |████████████████████████████████| 754 kB 8.2 MB/s \n",
            "\u001b[?25hCollecting sacremoses\n",
            "  Downloading sacremoses-0.0.53.tar.gz (880 kB)\n",
            "\u001b[K     |████████████████████████████████| 880 kB 55.7 MB/s \n",
            "\u001b[?25hCollecting tokenizers==0.8.0-rc4\n",
            "  Downloading tokenizers-0.8.0rc4-cp37-cp37m-manylinux1_x86_64.whl (3.0 MB)\n",
            "\u001b[K     |████████████████████████████████| 3.0 MB 48.6 MB/s \n",
            "\u001b[?25hRequirement already satisfied: filelock in /usr/local/lib/python3.7/dist-packages (from transformers==3) (3.8.0)\n",
            "Requirement already satisfied: sentencepiece in /usr/local/lib/python3.7/dist-packages (from transformers==3) (0.1.97)\n",
            "Requirement already satisfied: requests in /usr/local/lib/python3.7/dist-packages (from transformers==3) (2.23.0)\n",
            "Requirement already satisfied: numpy in /usr/local/lib/python3.7/dist-packages (from transformers==3) (1.21.6)\n",
            "Requirement already satisfied: packaging in /usr/local/lib/python3.7/dist-packages (from transformers==3) (21.3)\n",
            "Requirement already satisfied: regex!=2019.12.17 in /usr/local/lib/python3.7/dist-packages (from transformers==3) (2022.6.2)\n",
            "Requirement already satisfied: tqdm>=4.27 in /usr/local/lib/python3.7/dist-packages (from transformers==3) (4.64.1)\n",
            "Requirement already satisfied: pyparsing!=3.0.5,>=2.0.2 in /usr/local/lib/python3.7/dist-packages (from packaging->transformers==3) (3.0.9)\n",
            "Requirement already satisfied: urllib3!=1.25.0,!=1.25.1,<1.26,>=1.21.1 in /usr/local/lib/python3.7/dist-packages (from requests->transformers==3) (1.24.3)\n",
            "Requirement already satisfied: chardet<4,>=3.0.2 in /usr/local/lib/python3.7/dist-packages (from requests->transformers==3) (3.0.4)\n",
            "Requirement already satisfied: idna<3,>=2.5 in /usr/local/lib/python3.7/dist-packages (from requests->transformers==3) (2.10)\n",
            "Requirement already satisfied: certifi>=2017.4.17 in /usr/local/lib/python3.7/dist-packages (from requests->transformers==3) (2022.9.24)\n",
            "Requirement already satisfied: six in /usr/local/lib/python3.7/dist-packages (from sacremoses->transformers==3) (1.15.0)\n",
            "Requirement already satisfied: click in /usr/local/lib/python3.7/dist-packages (from sacremoses->transformers==3) (7.1.2)\n",
            "Requirement already satisfied: joblib in /usr/local/lib/python3.7/dist-packages (from sacremoses->transformers==3) (1.2.0)\n",
            "Building wheels for collected packages: sacremoses\n",
            "  Building wheel for sacremoses (setup.py) ... \u001b[?25l\u001b[?25hdone\n",
            "  Created wheel for sacremoses: filename=sacremoses-0.0.53-py3-none-any.whl size=895260 sha256=6ca69ac0789f20f07e6a4100620efcc8df87e9af7428ab51889c911a1b5de454\n",
            "  Stored in directory: /root/.cache/pip/wheels/87/39/dd/a83eeef36d0bf98e7a4d1933a4ad2d660295a40613079bafc9\n",
            "Successfully built sacremoses\n",
            "Installing collected packages: tokenizers, sacremoses, transformers\n",
            "Successfully installed sacremoses-0.0.53 tokenizers-0.8.0rc4 transformers-3.0.0\n",
            "Looking in indexes: https://pypi.org/simple, https://us-python.pkg.dev/colab-wheels/public/simple/\n",
            "Requirement already satisfied: torch in /usr/local/lib/python3.7/dist-packages (1.12.1+cu113)\n",
            "Requirement already satisfied: typing-extensions in /usr/local/lib/python3.7/dist-packages (from torch) (4.1.1)\n",
            "Looking in indexes: https://pypi.org/simple, https://us-python.pkg.dev/colab-wheels/public/simple/\n",
            "Collecting git+https://****@github.com/SKTBrain/KoBERT.git@master\n",
            "  Cloning https://****@github.com/SKTBrain/KoBERT.git (to revision master) to /tmp/pip-req-build-py36ppvy\n",
            "  Running command git clone -q 'https://****@github.com/SKTBrain/KoBERT.git' /tmp/pip-req-build-py36ppvy\n",
            "Collecting boto3<=1.15.18\n",
            "  Downloading boto3-1.15.18-py2.py3-none-any.whl (129 kB)\n",
            "\u001b[K     |████████████████████████████████| 129 kB 7.2 MB/s \n",
            "\u001b[?25hRequirement already satisfied: gluonnlp<=0.10.0,>=0.6.0 in /usr/local/lib/python3.7/dist-packages (from kobert==0.2.3) (0.10.0)\n",
            "Collecting mxnet<=1.7.0.post2,>=1.4.0\n",
            "  Downloading mxnet-1.7.0.post2-py2.py3-none-manylinux2014_x86_64.whl (54.7 MB)\n",
            "\u001b[K     |████████████████████████████████| 54.7 MB 22 kB/s \n",
            "\u001b[?25hCollecting onnxruntime<=1.8.0,==1.8.0\n",
            "  Downloading onnxruntime-1.8.0-cp37-cp37m-manylinux_2_17_x86_64.manylinux2014_x86_64.whl (4.5 MB)\n",
            "\u001b[K     |████████████████████████████████| 4.5 MB 47.8 MB/s \n",
            "\u001b[?25hCollecting sentencepiece<=0.1.96,>=0.1.6\n",
            "  Downloading sentencepiece-0.1.96-cp37-cp37m-manylinux_2_17_x86_64.manylinux2014_x86_64.whl (1.2 MB)\n",
            "\u001b[K     |████████████████████████████████| 1.2 MB 58.9 MB/s \n",
            "\u001b[?25hCollecting torch<=1.10.1,>=1.7.0\n",
            "  Downloading torch-1.10.1-cp37-cp37m-manylinux1_x86_64.whl (881.9 MB)\n",
            "\u001b[K     |██████████████████████████████▎ | 834.1 MB 1.2 MB/s eta 0:00:42tcmalloc: large alloc 1147494400 bytes == 0x39b0e000 @  0x7f22f76c2615 0x58ead6 0x4f355e 0x4d222f 0x51041f 0x5b4ee6 0x58ff2e 0x510325 0x5b4ee6 0x58ff2e 0x50d482 0x4d00fb 0x50cb8d 0x4d00fb 0x50cb8d 0x4d00fb 0x50cb8d 0x4bac0a 0x538a76 0x590ae5 0x510280 0x5b4ee6 0x58ff2e 0x50d482 0x5b4ee6 0x58ff2e 0x50c4fc 0x58fd37 0x50ca37 0x5b4ee6 0x58ff2e\n",
            "\u001b[K     |████████████████████████████████| 881.9 MB 16 kB/s \n",
            "\u001b[?25hCollecting transformers<=4.8.1,>=4.8.1\n",
            "  Downloading transformers-4.8.1-py3-none-any.whl (2.5 MB)\n",
            "\u001b[K     |████████████████████████████████| 2.5 MB 47.3 MB/s \n",
            "\u001b[?25hRequirement already satisfied: protobuf in /usr/local/lib/python3.7/dist-packages (from onnxruntime<=1.8.0,==1.8.0->kobert==0.2.3) (3.19.6)\n",
            "Requirement already satisfied: numpy>=1.16.6 in /usr/local/lib/python3.7/dist-packages (from onnxruntime<=1.8.0,==1.8.0->kobert==0.2.3) (1.21.6)\n",
            "Requirement already satisfied: flatbuffers in /usr/local/lib/python3.7/dist-packages (from onnxruntime<=1.8.0,==1.8.0->kobert==0.2.3) (1.12)\n",
            "Collecting botocore<1.19.0,>=1.18.18\n",
            "  Downloading botocore-1.18.18-py2.py3-none-any.whl (6.7 MB)\n",
            "\u001b[K     |████████████████████████████████| 6.7 MB 51.6 MB/s \n",
            "\u001b[?25hCollecting s3transfer<0.4.0,>=0.3.0\n",
            "  Downloading s3transfer-0.3.7-py2.py3-none-any.whl (73 kB)\n",
            "\u001b[K     |████████████████████████████████| 73 kB 2.3 MB/s \n",
            "\u001b[?25hCollecting jmespath<1.0.0,>=0.7.1\n",
            "  Downloading jmespath-0.10.0-py2.py3-none-any.whl (24 kB)\n",
            "Requirement already satisfied: python-dateutil<3.0.0,>=2.1 in /usr/local/lib/python3.7/dist-packages (from botocore<1.19.0,>=1.18.18->boto3<=1.15.18->kobert==0.2.3) (2.8.2)\n",
            "Requirement already satisfied: urllib3<1.26,>=1.20 in /usr/local/lib/python3.7/dist-packages (from botocore<1.19.0,>=1.18.18->boto3<=1.15.18->kobert==0.2.3) (1.24.3)\n",
            "Requirement already satisfied: cython in /usr/local/lib/python3.7/dist-packages (from gluonnlp<=0.10.0,>=0.6.0->kobert==0.2.3) (0.29.32)\n",
            "Requirement already satisfied: packaging in /usr/local/lib/python3.7/dist-packages (from gluonnlp<=0.10.0,>=0.6.0->kobert==0.2.3) (21.3)\n",
            "Requirement already satisfied: graphviz<0.9.0,>=0.8.1 in /usr/local/lib/python3.7/dist-packages (from mxnet<=1.7.0.post2,>=1.4.0->kobert==0.2.3) (0.8.4)\n",
            "Requirement already satisfied: requests<3,>=2.20.0 in /usr/local/lib/python3.7/dist-packages (from mxnet<=1.7.0.post2,>=1.4.0->kobert==0.2.3) (2.23.0)\n",
            "Requirement already satisfied: six>=1.5 in /usr/local/lib/python3.7/dist-packages (from python-dateutil<3.0.0,>=2.1->botocore<1.19.0,>=1.18.18->boto3<=1.15.18->kobert==0.2.3) (1.15.0)\n",
            "Requirement already satisfied: chardet<4,>=3.0.2 in /usr/local/lib/python3.7/dist-packages (from requests<3,>=2.20.0->mxnet<=1.7.0.post2,>=1.4.0->kobert==0.2.3) (3.0.4)\n",
            "Requirement already satisfied: idna<3,>=2.5 in /usr/local/lib/python3.7/dist-packages (from requests<3,>=2.20.0->mxnet<=1.7.0.post2,>=1.4.0->kobert==0.2.3) (2.10)\n",
            "Requirement already satisfied: certifi>=2017.4.17 in /usr/local/lib/python3.7/dist-packages (from requests<3,>=2.20.0->mxnet<=1.7.0.post2,>=1.4.0->kobert==0.2.3) (2022.9.24)\n",
            "Requirement already satisfied: typing-extensions in /usr/local/lib/python3.7/dist-packages (from torch<=1.10.1,>=1.7.0->kobert==0.2.3) (4.1.1)\n",
            "Requirement already satisfied: importlib-metadata in /usr/local/lib/python3.7/dist-packages (from transformers<=4.8.1,>=4.8.1->kobert==0.2.3) (4.13.0)\n",
            "Collecting huggingface-hub==0.0.12\n",
            "  Downloading huggingface_hub-0.0.12-py3-none-any.whl (37 kB)\n",
            "Requirement already satisfied: filelock in /usr/local/lib/python3.7/dist-packages (from transformers<=4.8.1,>=4.8.1->kobert==0.2.3) (3.8.0)\n",
            "Requirement already satisfied: pyyaml in /usr/local/lib/python3.7/dist-packages (from transformers<=4.8.1,>=4.8.1->kobert==0.2.3) (6.0)\n",
            "Collecting tokenizers<0.11,>=0.10.1\n",
            "  Downloading tokenizers-0.10.3-cp37-cp37m-manylinux_2_5_x86_64.manylinux1_x86_64.manylinux_2_12_x86_64.manylinux2010_x86_64.whl (3.3 MB)\n",
            "\u001b[K     |████████████████████████████████| 3.3 MB 9.3 MB/s \n",
            "\u001b[?25hRequirement already satisfied: tqdm>=4.27 in /usr/local/lib/python3.7/dist-packages (from transformers<=4.8.1,>=4.8.1->kobert==0.2.3) (4.64.1)\n",
            "Requirement already satisfied: regex!=2019.12.17 in /usr/local/lib/python3.7/dist-packages (from transformers<=4.8.1,>=4.8.1->kobert==0.2.3) (2022.6.2)\n",
            "Requirement already satisfied: sacremoses in /usr/local/lib/python3.7/dist-packages (from transformers<=4.8.1,>=4.8.1->kobert==0.2.3) (0.0.53)\n",
            "Requirement already satisfied: pyparsing!=3.0.5,>=2.0.2 in /usr/local/lib/python3.7/dist-packages (from packaging->gluonnlp<=0.10.0,>=0.6.0->kobert==0.2.3) (3.0.9)\n",
            "Requirement already satisfied: zipp>=0.5 in /usr/local/lib/python3.7/dist-packages (from importlib-metadata->transformers<=4.8.1,>=4.8.1->kobert==0.2.3) (3.10.0)\n",
            "Requirement already satisfied: joblib in /usr/local/lib/python3.7/dist-packages (from sacremoses->transformers<=4.8.1,>=4.8.1->kobert==0.2.3) (1.2.0)\n",
            "Requirement already satisfied: click in /usr/local/lib/python3.7/dist-packages (from sacremoses->transformers<=4.8.1,>=4.8.1->kobert==0.2.3) (7.1.2)\n",
            "Building wheels for collected packages: kobert\n",
            "  Building wheel for kobert (setup.py) ... \u001b[?25l\u001b[?25hdone\n",
            "  Created wheel for kobert: filename=kobert-0.2.3-py3-none-any.whl size=15708 sha256=d406184680e5615ff5eac082d306df97819b247a57950638e1fe2ae67a105571\n",
            "  Stored in directory: /tmp/pip-ephem-wheel-cache-3_xbxlpe/wheels/d3/68/ca/334747dfb038313b49cf71f84832a33372f3470d9ddfd051c0\n",
            "Successfully built kobert\n",
            "Installing collected packages: jmespath, botocore, tokenizers, s3transfer, huggingface-hub, transformers, torch, sentencepiece, onnxruntime, mxnet, boto3, kobert\n",
            "  Attempting uninstall: tokenizers\n",
            "    Found existing installation: tokenizers 0.8.0rc4\n",
            "    Uninstalling tokenizers-0.8.0rc4:\n",
            "      Successfully uninstalled tokenizers-0.8.0rc4\n",
            "  Attempting uninstall: transformers\n",
            "    Found existing installation: transformers 3.0.0\n",
            "    Uninstalling transformers-3.0.0:\n",
            "      Successfully uninstalled transformers-3.0.0\n",
            "  Attempting uninstall: torch\n",
            "    Found existing installation: torch 1.12.1+cu113\n",
            "    Uninstalling torch-1.12.1+cu113:\n",
            "      Successfully uninstalled torch-1.12.1+cu113\n",
            "  Attempting uninstall: sentencepiece\n",
            "    Found existing installation: sentencepiece 0.1.97\n",
            "    Uninstalling sentencepiece-0.1.97:\n",
            "      Successfully uninstalled sentencepiece-0.1.97\n",
            "  Attempting uninstall: mxnet\n",
            "    Found existing installation: mxnet 1.9.1\n",
            "    Uninstalling mxnet-1.9.1:\n",
            "      Successfully uninstalled mxnet-1.9.1\n",
            "\u001b[31mERROR: pip's dependency resolver does not currently take into account all the packages that are installed. This behaviour is the source of the following dependency conflicts.\n",
            "torchvision 0.13.1+cu113 requires torch==1.12.1, but you have torch 1.10.1 which is incompatible.\n",
            "torchtext 0.13.1 requires torch==1.12.1, but you have torch 1.10.1 which is incompatible.\n",
            "torchaudio 0.12.1+cu113 requires torch==1.12.1, but you have torch 1.10.1 which is incompatible.\u001b[0m\n",
            "Successfully installed boto3-1.15.18 botocore-1.18.18 huggingface-hub-0.0.12 jmespath-0.10.0 kobert-0.2.3 mxnet-1.7.0.post2 onnxruntime-1.8.0 s3transfer-0.3.7 sentencepiece-0.1.96 tokenizers-0.10.3 torch-1.10.1 transformers-4.8.1\n"
          ]
        }
      ],
      "source": [
        "!pip install mxnet\n",
        "!pip install gluonnlp pandas tqdm\n",
        "!pip install sentencepiece\n",
        "!pip install transformers==3 \n",
        "!pip install torch\n",
        "\n",
        "!pip install git+https://git@github.com/SKTBrain/KoBERT.git@master"
      ]
    },
    {
      "cell_type": "code",
      "execution_count": null,
      "metadata": {
        "colab": {
          "base_uri": "https://localhost:8080/"
        },
        "id": "IR4N3mG58HcP",
        "outputId": "d796775c-e4e7-4629-8a18-566187efa127"
      },
      "outputs": [
        {
          "name": "stdout",
          "output_type": "stream",
          "text": [
            "Looking in indexes: https://pypi.org/simple, https://us-python.pkg.dev/colab-wheels/public/simple/\n",
            "Collecting split-folders\n",
            "  Downloading split_folders-0.5.1-py3-none-any.whl (8.4 kB)\n",
            "Installing collected packages: split-folders\n",
            "Successfully installed split-folders-0.5.1\n"
          ]
        }
      ],
      "source": [
        "!pip install split-folders"
      ]
    },
    {
      "cell_type": "code",
      "execution_count": null,
      "metadata": {
        "id": "Mg-Zhthmage0"
      },
      "outputs": [],
      "source": [
        "import torch\n",
        "from torch import nn\n",
        "import torch.nn.functional as F\n",
        "import torch.optim as optim\n",
        "from torch.utils.data import Dataset, DataLoader\n",
        "import gluonnlp as nlp\n",
        "import numpy as np\n",
        "from tqdm import tqdm, tqdm_notebook\n",
        "\n",
        "from kobert.utils import get_tokenizer\n",
        "from kobert.pytorch_kobert import get_pytorch_kobert_model\n",
        "\n",
        "from transformers import AdamW\n",
        "from transformers.optimization import get_cosine_schedule_with_warmup"
      ]
    },
    {
      "cell_type": "code",
      "execution_count": null,
      "metadata": {
        "colab": {
          "base_uri": "https://localhost:8080/"
        },
        "id": "542BNKcOamdz",
        "outputId": "25493e65-6c81-4704-b045-47f087550f58"
      },
      "outputs": [
        {
          "name": "stdout",
          "output_type": "stream",
          "text": [
            "/content/.cache/kobert_v1.zip[██████████████████████████████████████████████████]\n",
            "/content/.cache/kobert_news_wiki_ko_cased-1087f8699e.spiece[██████████████████████████████████████████████████]\n"
          ]
        }
      ],
      "source": [
        "##GPU 사용 시\n",
        "device = torch.device(\"cuda:0\")\n",
        "\n",
        "bertmodel, vocab = get_pytorch_kobert_model()"
      ]
    },
    {
      "cell_type": "code",
      "execution_count": null,
      "metadata": {
        "colab": {
          "base_uri": "https://localhost:8080/"
        },
        "id": "c85bYU8f6khx",
        "outputId": "c1b76da1-f909-488a-f690-d197432c59b3"
      },
      "outputs": [
        {
          "name": "stdout",
          "output_type": "stream",
          "text": [
            "Mounted at /content/drive\n"
          ]
        }
      ],
      "source": [
        "from google.colab import drive\n",
        "drive.mount('/content/drive')"
      ]
    },
    {
      "cell_type": "code",
      "execution_count": null,
      "metadata": {
        "colab": {
          "base_uri": "https://localhost:8080/"
        },
        "id": "-pa3b4pw6oGd",
        "outputId": "384d0ba8-d2f0-4d55-f3eb-88b4467a3957"
      },
      "outputs": [
        {
          "name": "stdout",
          "output_type": "stream",
          "text": [
            "/content/drive/My Drive/nlp_liflow\n"
          ]
        }
      ],
      "source": [
        "%cd /content/drive/My Drive/nlp_liflow/"
      ]
    },
    {
      "cell_type": "code",
      "execution_count": null,
      "metadata": {
        "colab": {
          "base_uri": "https://localhost:8080/"
        },
        "id": "1rmQB_5w6qAt",
        "outputId": "1fb8fe2c-0663-4eea-bdc2-6dc5ddfadce7"
      },
      "outputs": [
        {
          "name": "stdout",
          "output_type": "stream",
          "text": [
            "자연어처리_1.ipynb\t\t  item_all_GloVe_DBSCAN.csv\n",
            "자연어처리_2.ipynb\t\t  item_all_glove_k-means.csv\n",
            "all_df_with_tokens.csv\t\t  ko.bin\n",
            "all_sen.csv\t\t\t  list_to_csv.csv\n",
            "cc.ko.300.bin.gz\t\t  nlp_tokenizer.ipynb\n",
            "df_all\t\t\t\t  스포츠_sen.csv\n",
            "df_all.csv\t\t\t  sen.csv\n",
            "df_all_GloVe.csv\t\t  sen_preprocessig.csv\n",
            "df_all_tfidf.csv\t\t  스포츠_sen_prerprocessing.csv\n",
            "doc2vec_100.model\t\t  sentence_Summarizer.ipynb\n",
            "feature.pkl\t\t\t  textrank\n",
            "feature.pkl.mtx\t\t\t  textrank_git\n",
            "first_embedding_clustering.model  tfidftransformer.pkl\n",
            "glove_model_100.model\t\t  자연어처리_tomotopy_HDPModel.ipynb\n",
            "glove_model.model\t\t  자연어처리_tomotopy.ipynb\n",
            "glove_word_dict_128.pickle\t  자연어처리_tomotopy_modeling.ipynb\n",
            "item_1.csv\t\t\t  vectorizer.pkl\n",
            "item_all.csv\t\t\t  word2vec_model\n",
            "item_all_doc2vec_k-means.csv\n"
          ]
        }
      ],
      "source": [
        "!ls"
      ]
    },
    {
      "cell_type": "code",
      "execution_count": null,
      "metadata": {
        "colab": {
          "base_uri": "https://localhost:8080/",
          "height": 424
        },
        "id": "e9VkPsd30zAS",
        "outputId": "1f5223a4-5357-4fa9-e02b-59d63f57f4d7"
      },
      "outputs": [
        {
          "data": {
            "text/html": [
              "\n",
              "  <div id=\"df-a5b98f3f-8b67-4471-a964-27ceb57373dc\">\n",
              "    <div class=\"colab-df-container\">\n",
              "      <div>\n",
              "<style scoped>\n",
              "    .dataframe tbody tr th:only-of-type {\n",
              "        vertical-align: middle;\n",
              "    }\n",
              "\n",
              "    .dataframe tbody tr th {\n",
              "        vertical-align: top;\n",
              "    }\n",
              "\n",
              "    .dataframe thead th {\n",
              "        text-align: right;\n",
              "    }\n",
              "</style>\n",
              "<table border=\"1\" class=\"dataframe\">\n",
              "  <thead>\n",
              "    <tr style=\"text-align: right;\">\n",
              "      <th></th>\n",
              "      <th>convrs</th>\n",
              "      <th>cluster</th>\n",
              "    </tr>\n",
              "  </thead>\n",
              "  <tbody>\n",
              "    <tr>\n",
              "      <th>0</th>\n",
              "      <td>침피언스 리그 올해 일등을 했으면 한다 그런 나의 바람이 또 있는 거지</td>\n",
              "      <td>0</td>\n",
              "    </tr>\n",
              "    <tr>\n",
              "      <th>1</th>\n",
              "      <td>올래는 아무래도 받쳐 주는 힘이 조금 많이 약했으니까 외국인 투수들이 더 분발하면 좋겠어</td>\n",
              "      <td>0</td>\n",
              "    </tr>\n",
              "    <tr>\n",
              "      <th>2</th>\n",
              "      <td>참피언 리그 올해 일등을 했으면 한다  그런 나의 바램도 또 있는 거지</td>\n",
              "      <td>0</td>\n",
              "    </tr>\n",
              "    <tr>\n",
              "      <th>3</th>\n",
              "      <td>챔피언 리그 올해 일등을 했으면 한다 그런 나의 바람이 또 있는 거지</td>\n",
              "      <td>0</td>\n",
              "    </tr>\n",
              "    <tr>\n",
              "      <th>4</th>\n",
              "      <td>저는 아까 말씀하신 것처럼 우승할 때는  그 외국인 투수들이 잘 해왔잖아요</td>\n",
              "      <td>0</td>\n",
              "    </tr>\n",
              "    <tr>\n",
              "      <th>...</th>\n",
              "      <td>...</td>\n",
              "      <td>...</td>\n",
              "    </tr>\n",
              "    <tr>\n",
              "      <th>3762</th>\n",
              "      <td>세계 상금 랭킹 일위가 우리나라 선수고  그리고 다승 일위도 우리나라 선수야</td>\n",
              "      <td>12</td>\n",
              "    </tr>\n",
              "    <tr>\n",
              "      <th>3763</th>\n",
              "      <td>이번에 수영대회는 유니버설 대회만 몬하더라고 홍보가 덜 됐나</td>\n",
              "      <td>12</td>\n",
              "    </tr>\n",
              "    <tr>\n",
              "      <th>3764</th>\n",
              "      <td>이번에 많이 깨달았고 그래서 이번에는 정말로 내 자신과 약속도 했어</td>\n",
              "      <td>12</td>\n",
              "    </tr>\n",
              "    <tr>\n",
              "      <th>3765</th>\n",
              "      <td>너 덕분에 이번에는 정말 나도 잘할 수 있을 것 같아 자신감이 생겼어</td>\n",
              "      <td>12</td>\n",
              "    </tr>\n",
              "    <tr>\n",
              "      <th>3766</th>\n",
              "      <td>나는 나래 선수를 되게 좋아하는데 그 이유가 그 왜 운동선수들은 문신 많이 하잖아</td>\n",
              "      <td>12</td>\n",
              "    </tr>\n",
              "  </tbody>\n",
              "</table>\n",
              "<p>3767 rows × 2 columns</p>\n",
              "</div>\n",
              "      <button class=\"colab-df-convert\" onclick=\"convertToInteractive('df-a5b98f3f-8b67-4471-a964-27ceb57373dc')\"\n",
              "              title=\"Convert this dataframe to an interactive table.\"\n",
              "              style=\"display:none;\">\n",
              "        \n",
              "  <svg xmlns=\"http://www.w3.org/2000/svg\" height=\"24px\"viewBox=\"0 0 24 24\"\n",
              "       width=\"24px\">\n",
              "    <path d=\"M0 0h24v24H0V0z\" fill=\"none\"/>\n",
              "    <path d=\"M18.56 5.44l.94 2.06.94-2.06 2.06-.94-2.06-.94-.94-2.06-.94 2.06-2.06.94zm-11 1L8.5 8.5l.94-2.06 2.06-.94-2.06-.94L8.5 2.5l-.94 2.06-2.06.94zm10 10l.94 2.06.94-2.06 2.06-.94-2.06-.94-.94-2.06-.94 2.06-2.06.94z\"/><path d=\"M17.41 7.96l-1.37-1.37c-.4-.4-.92-.59-1.43-.59-.52 0-1.04.2-1.43.59L10.3 9.45l-7.72 7.72c-.78.78-.78 2.05 0 2.83L4 21.41c.39.39.9.59 1.41.59.51 0 1.02-.2 1.41-.59l7.78-7.78 2.81-2.81c.8-.78.8-2.07 0-2.86zM5.41 20L4 18.59l7.72-7.72 1.47 1.35L5.41 20z\"/>\n",
              "  </svg>\n",
              "      </button>\n",
              "      \n",
              "  <style>\n",
              "    .colab-df-container {\n",
              "      display:flex;\n",
              "      flex-wrap:wrap;\n",
              "      gap: 12px;\n",
              "    }\n",
              "\n",
              "    .colab-df-convert {\n",
              "      background-color: #E8F0FE;\n",
              "      border: none;\n",
              "      border-radius: 50%;\n",
              "      cursor: pointer;\n",
              "      display: none;\n",
              "      fill: #1967D2;\n",
              "      height: 32px;\n",
              "      padding: 0 0 0 0;\n",
              "      width: 32px;\n",
              "    }\n",
              "\n",
              "    .colab-df-convert:hover {\n",
              "      background-color: #E2EBFA;\n",
              "      box-shadow: 0px 1px 2px rgba(60, 64, 67, 0.3), 0px 1px 3px 1px rgba(60, 64, 67, 0.15);\n",
              "      fill: #174EA6;\n",
              "    }\n",
              "\n",
              "    [theme=dark] .colab-df-convert {\n",
              "      background-color: #3B4455;\n",
              "      fill: #D2E3FC;\n",
              "    }\n",
              "\n",
              "    [theme=dark] .colab-df-convert:hover {\n",
              "      background-color: #434B5C;\n",
              "      box-shadow: 0px 1px 3px 1px rgba(0, 0, 0, 0.15);\n",
              "      filter: drop-shadow(0px 1px 2px rgba(0, 0, 0, 0.3));\n",
              "      fill: #FFFFFF;\n",
              "    }\n",
              "  </style>\n",
              "\n",
              "      <script>\n",
              "        const buttonEl =\n",
              "          document.querySelector('#df-a5b98f3f-8b67-4471-a964-27ceb57373dc button.colab-df-convert');\n",
              "        buttonEl.style.display =\n",
              "          google.colab.kernel.accessAllowed ? 'block' : 'none';\n",
              "\n",
              "        async function convertToInteractive(key) {\n",
              "          const element = document.querySelector('#df-a5b98f3f-8b67-4471-a964-27ceb57373dc');\n",
              "          const dataTable =\n",
              "            await google.colab.kernel.invokeFunction('convertToInteractive',\n",
              "                                                     [key], {});\n",
              "          if (!dataTable) return;\n",
              "\n",
              "          const docLinkHtml = 'Like what you see? Visit the ' +\n",
              "            '<a target=\"_blank\" href=https://colab.research.google.com/notebooks/data_table.ipynb>data table notebook</a>'\n",
              "            + ' to learn more about interactive tables.';\n",
              "          element.innerHTML = '';\n",
              "          dataTable['output_type'] = 'display_data';\n",
              "          await google.colab.output.renderOutput(dataTable, element);\n",
              "          const docLink = document.createElement('div');\n",
              "          docLink.innerHTML = docLinkHtml;\n",
              "          element.appendChild(docLink);\n",
              "        }\n",
              "      </script>\n",
              "    </div>\n",
              "  </div>\n",
              "  "
            ],
            "text/plain": [
              "                                                 convrs  cluster\n",
              "0               침피언스 리그 올해 일등을 했으면 한다 그런 나의 바람이 또 있는 거지        0\n",
              "1     올래는 아무래도 받쳐 주는 힘이 조금 많이 약했으니까 외국인 투수들이 더 분발하면 좋겠어        0\n",
              "2               참피언 리그 올해 일등을 했으면 한다  그런 나의 바램도 또 있는 거지        0\n",
              "3                챔피언 리그 올해 일등을 했으면 한다 그런 나의 바람이 또 있는 거지        0\n",
              "4             저는 아까 말씀하신 것처럼 우승할 때는  그 외국인 투수들이 잘 해왔잖아요        0\n",
              "...                                                 ...      ...\n",
              "3762         세계 상금 랭킹 일위가 우리나라 선수고  그리고 다승 일위도 우리나라 선수야       12\n",
              "3763                  이번에 수영대회는 유니버설 대회만 몬하더라고 홍보가 덜 됐나       12\n",
              "3764              이번에 많이 깨달았고 그래서 이번에는 정말로 내 자신과 약속도 했어       12\n",
              "3765             너 덕분에 이번에는 정말 나도 잘할 수 있을 것 같아 자신감이 생겼어       12\n",
              "3766      나는 나래 선수를 되게 좋아하는데 그 이유가 그 왜 운동선수들은 문신 많이 하잖아       12\n",
              "\n",
              "[3767 rows x 2 columns]"
            ]
          },
          "execution_count": 134,
          "metadata": {},
          "output_type": "execute_result"
        }
      ],
      "source": [
        "import pandas as pd\n",
        "df = pd.read_csv('item_all_doc2vec_k-means.csv')\n",
        "df = df.iloc[:,[2, 1]]\n",
        "df"
      ]
    },
    {
      "cell_type": "code",
      "execution_count": null,
      "metadata": {
        "colab": {
          "base_uri": "https://localhost:8080/"
        },
        "id": "ZtfSrEzwnndy",
        "outputId": "f39c9d36-dbd0-4407-c1b7-4b0bb70b9479"
      },
      "outputs": [
        {
          "data": {
            "text/plain": [
              "convrs     0\n",
              "cluster    0\n",
              "dtype: int64"
            ]
          },
          "execution_count": 135,
          "metadata": {},
          "output_type": "execute_result"
        }
      ],
      "source": [
        "df.isnull().sum()"
      ]
    },
    {
      "cell_type": "code",
      "execution_count": null,
      "metadata": {
        "colab": {
          "base_uri": "https://localhost:8080/"
        },
        "id": "Heux1ClLnw4b",
        "outputId": "953becbb-d421-4a35-d872-844a6328acd6"
      },
      "outputs": [
        {
          "data": {
            "text/plain": [
              "array([ 0,  1,  2,  3,  4,  5,  6,  7,  8,  9, 10, 11, 12])"
            ]
          },
          "execution_count": 136,
          "metadata": {},
          "output_type": "execute_result"
        }
      ],
      "source": [
        "np.unique(df.cluster)"
      ]
    },
    {
      "cell_type": "code",
      "execution_count": null,
      "metadata": {
        "id": "kKcCmTlOTUmS"
      },
      "outputs": [],
      "source": [
        "idx = df[df['cluster']==5].index\n",
        "df = df.drop(idx)"
      ]
    },
    {
      "cell_type": "code",
      "execution_count": null,
      "metadata": {
        "colab": {
          "base_uri": "https://localhost:8080/"
        },
        "id": "LDqlGD_4Gucr",
        "outputId": "d73f2ab1-6f00-4dd0-a64b-867b5a026213"
      },
      "outputs": [
        {
          "data": {
            "text/plain": [
              "array([ 0,  1,  2,  3,  4,  6,  7,  8,  9, 10, 11, 12])"
            ]
          },
          "execution_count": 138,
          "metadata": {},
          "output_type": "execute_result"
        }
      ],
      "source": [
        "np.unique(df.cluster)"
      ]
    },
    {
      "cell_type": "code",
      "execution_count": null,
      "metadata": {
        "colab": {
          "base_uri": "https://localhost:8080/"
        },
        "id": "BzUY463CDoQ0",
        "outputId": "4c4ad73c-04de-44e0-b1d9-34d5395511a0"
      },
      "outputs": [
        {
          "data": {
            "text/plain": [
              "array([ 0,  1,  2,  3,  4,  5,  6,  9, 10, 11, 12])"
            ]
          },
          "execution_count": 139,
          "metadata": {},
          "output_type": "execute_result"
        }
      ],
      "source": [
        "#df.loc[(df['cluster']== 5), 'cluster'] = 4\n",
        "df.loc[(df['cluster']== 6), 'cluster'] = 5\n",
        "df.loc[(df['cluster']== 7), 'cluster'] = 6\n",
        "df.loc[(df['cluster']== 8), 'cluster'] = 0\n",
        "np.unique(df.cluster)\n"
      ]
    },
    {
      "cell_type": "code",
      "execution_count": null,
      "metadata": {
        "id": "eFqSYB3BG_PS"
      },
      "outputs": [],
      "source": [
        "df.loc[(df['cluster']== 9), 'cluster'] = 7\n",
        "df.loc[(df['cluster']== 10), 'cluster'] = 8\n",
        "df.loc[(df['cluster']== 11), 'cluster'] = 9\n",
        "df.loc[(df['cluster']== 12), 'cluster'] = 10"
      ]
    },
    {
      "cell_type": "code",
      "execution_count": null,
      "metadata": {
        "colab": {
          "base_uri": "https://localhost:8080/"
        },
        "id": "Z9NCSgt5EkZv",
        "outputId": "75426863-bf7a-4511-965b-28edc06e8e69"
      },
      "outputs": [
        {
          "data": {
            "text/plain": [
              "array([ 0,  1,  2,  3,  4,  5,  6,  7,  8,  9, 10])"
            ]
          },
          "execution_count": 141,
          "metadata": {},
          "output_type": "execute_result"
        }
      ],
      "source": [
        "np.unique(df.cluster)"
      ]
    },
    {
      "cell_type": "code",
      "execution_count": null,
      "metadata": {
        "id": "tgdgXx11oNqr"
      },
      "outputs": [],
      "source": [
        "from sklearn.model_selection import train_test_split\n",
        "x_train, x_test, y_train, y_test = train_test_split(df['convrs'], df['cluster'], stratify=df['cluster'], test_size=0.2, shuffle=True, random_state=34)\n",
        "x_val, x_test, y_val, y_test = train_test_split(x_test, y_test, stratify=y_test, test_size=0.5, shuffle=True, random_state=34)"
      ]
    },
    {
      "cell_type": "code",
      "execution_count": null,
      "metadata": {
        "id": "ce3gl3OdcnMy"
      },
      "outputs": [],
      "source": [
        "train = []\n",
        "for q, label in zip(x_train, y_train)  :\n",
        "    data = []\n",
        "    data.append(q)\n",
        "    data.append(str(label))\n",
        "\n",
        "    train.append(data)"
      ]
    },
    {
      "cell_type": "code",
      "execution_count": null,
      "metadata": {
        "id": "oqLA_ON_dNth"
      },
      "outputs": [],
      "source": [
        "test = []\n",
        "for q, label in zip(x_test, y_test)  :\n",
        "    data = []\n",
        "    data.append(q)\n",
        "    data.append(str(label))\n",
        "\n",
        "    test.append(data)"
      ]
    },
    {
      "cell_type": "code",
      "execution_count": null,
      "metadata": {
        "id": "jegW4Vm280C2"
      },
      "outputs": [],
      "source": [
        "val = []\n",
        "for q, label in zip(x_val, y_val)  :\n",
        "    data = []\n",
        "    data.append(q)\n",
        "    data.append(str(label))\n",
        "\n",
        "    val.append(data)"
      ]
    },
    {
      "cell_type": "code",
      "execution_count": null,
      "metadata": {
        "colab": {
          "base_uri": "https://localhost:8080/"
        },
        "id": "xXhdT__Yc27g",
        "outputId": "01e807e4-efec-468b-c4de-b2c4f10cd4b6"
      },
      "outputs": [
        {
          "data": {
            "text/plain": [
              "2313"
            ]
          },
          "execution_count": 146,
          "metadata": {},
          "output_type": "execute_result"
        }
      ],
      "source": [
        "len(train)"
      ]
    },
    {
      "cell_type": "code",
      "execution_count": null,
      "metadata": {
        "colab": {
          "base_uri": "https://localhost:8080/"
        },
        "id": "I4mFImJTXD7H",
        "outputId": "8299c524-62c3-45fd-f90e-8d7f2c74e073"
      },
      "outputs": [
        {
          "data": {
            "text/plain": [
              "[['그래서 그걸 생각하면서  다른 거 아무것도 생각 안 하고 리듬만 신경 썼어', '9'],\n",
              " ['전에 우리 같이 당구 쳤었잖아  솔직히 기분이 별로 안 좋았었어', '7'],\n",
              " ['친구들한테 한번 알아봐요 나도 골프 한번 해 보려고 한다  뭐부터 해야 되냐', '9'],\n",
              " ['내가 봤을 때에는 동생도 팔십대 중반이나 싱글 이정도 칠수 있을 것 같아', '9'],\n",
              " ['당신이 야구 좋아하는 거 알지 나도 좋아해 근데 너무 거기에만 집중하는 것 같아', '0'],\n",
              " ['완전히 종아리가 팽창되어서 다리에 물이랑 피가 차서 너무 아팠어', '3'],\n",
              " ['우리 정말 끝까지 포기하지 않고 이  끈기 있게 평생 동안 해보자', '1'],\n",
              " ['나이도 나도 많이 먹어갖구 그렇게 다른 사람마냥 잘할지는 모르겠네', '9'],\n",
              " ['조금씩 쪼개고 조금씩 모아 가면서 또 쓰고 하면 그걸로 되겠지', '1'],\n",
              " ['자네가 야구에 대한 관심이 많다 보니까 나도 요즘에 야구를 조금 보게 돼', '0'],\n",
              " ['집이는 건강 유지를 어떻게 하고는 거여 어떻게 관리하고 있어', '1'],\n",
              " ['나중에는 시장도 봐 오더라고 놀랐어 정말 걷기에 효과가 있는 모양이야', '1'],\n",
              " ['그런데 다시 또 건강이 별로 안 좋다 보니까 스포츠를 권장을 안 하더라고', '1'],\n",
              " ['나도 그동안에는 피곤하니까 항상 힘들다는 생각이 먼저 들었던 것 같아', '1'],\n",
              " ['이 부분에서 이렇게 하면 좋겠다  근데 그게 안 되는 거니까 스트레스를 받는 거지', '0'],\n",
              " ['쇼트트랙도 우리나라 선수들이 얼마나 잘 하냐고 금메달 밭이야', '10'],\n",
              " ['왜 그렇게 하냐면 떨어진 거리가 오르막일 때가 있고 내리막일 때가 있어', '8'],\n",
              " ['그랬는데 히딩크 감독이 오면서 이천이 월드컵에서 사 강에 올라갔잖아', '4'],\n",
              " ['그럴 수도 있는데  어쨌든 그거는 좀 아닌 거 같고  좀 인성에 문제가 있는 것 같아', '5'],\n",
              " ['그런 거는  괜찮은데 연령대가 생각보다 상당히 높더라고 거의 다 할머니지 ', '9'],\n",
              " ['태권도도 있잖아 우리나라 전통 무술을 세계적으로 알리고 있잖아', '10'],\n",
              " ['그러면 그분들또 강아지가 엄청 순하게 생겼네요 이렇게 대화가 이어지잖아요', '9'],\n",
              " ['내 친구들이 스크린 꼴프를 많이 하니까  같이 가서 꼴프도 해야지', '9'],\n",
              " ['나중에 네 배우자랑 같이 그거 해 봐 같이 팀을 이루어서 하면 보기 안 좋겠어', '1'],\n",
              " ['그라고 웃어가면서 치니까 활력소도 생기고 좋기는 좋더라고', '2'],\n",
              " ['그러니까 따로 시간 내서 하는 건 일주일에 세번 차밍댄스 가서 운동하고요', '1'],\n",
              " ['나이 더 먹기 전에 몸이 더 굳으면 더 못 하니까 친구들이랑 같이 하니 좋아', '9'],\n",
              " ['우리 나이에 운동으로 할 만한 것이 골프보다 수영이 나은지 고민이지', '9'],\n",
              " ['그건 진짜 편하긴 하겠다  반으로 접어서 안에 들어갔을 때도 들고 다니기 편하고', '8'],\n",
              " ['그래서 지금 다음 주에도 시간이 되려나 모르겠다 왜 이렇게 바쁜지 몰라', '5'],\n",
              " ['한화는 초창기 때는 잘 하다가 왜   문제점이 뭔지 모르겠네', '0'],\n",
              " ['날 더울 때  가서 수영하기도 하고 운동을 아예 끊은 건 아니야', '1'],\n",
              " ['그러면서 게임하면서도 사람들이 다 틀리잖아', '2'],\n",
              " ['그리고 좀 인기 있는 구단들의 성적이 일단은 좋아야 돼요 근데 지금 보면은 안 그렇잖아', '0'],\n",
              " ['한라산에 여섯시에 들어갔다가 한 여덟시 반 정도 산행을 해야 되거든', '1'],\n",
              " ['약간   원래 스포츠라는 게 승부욕이 있어야 ', '7'],\n",
              " ['자네 얘기가 항상 맞는 말인데  그래도 그건 어디까지나 자네의 생각인 거잖아', '9'],\n",
              " ['굴렁쇠 돌리기를 하고 그러는데  아까 니가 말했던 대로 이제는', '3'],\n",
              " ['우리 한화 출신 중에 지금 류현진이 미국에서 너무 잘 해주고 있거든', '0'],\n",
              " ['아니 나도 마찬가지야 나도 똑같애', '7'],\n",
              " ['네가 참석해서 좀 활기 넣어주고  대화도 하고 좋은 얘기도 해 주고 하자고', '7'],\n",
              " ['수영은 실내에서 하니까 눈이 오나 비가 오나 그런 구애 안 받고 할 수 있잖아', '2'],\n",
              " ['근데 일정이 이박 삼일이라 힘들 수도 있어 술만 많이 안 먹으면 상관없지', '1'],\n",
              " ['심하게 해서 단기간에  고작 한달 동일에 오키로가 빠졌으니까', '3'],\n",
              " ['지방질이 소모가 되고 그게 또 건강 관리에 있어 중요할 거란 생각이 들어요', '1'],\n",
              " ['너도 탁구 라켓 있으면 가지고 다니면서 언제 한번 같이 치기로 하자', '8'],\n",
              " ['직접 물어보면 그것도 아니래 그냥 스크린 꼴프 가볍게 가서 치더라고', '9'],\n",
              " ['문화센터에 강좌가 열려있는 수영 같은 스포쯔 정도 밖에는 없잖아', '1'],\n",
              " ['티비나 방송에서 보여주는 것을 보며 스포츠 종류가 많아졌구나 생각하는데', '6'],\n",
              " ['날마다 배우는 게 조금씩 다르기는 하지만 치는 기초부터 배워', '9'],\n",
              " ['내가 물을 무서워해서 이제 어쩔지는 모르겠다만은  다른 스포츠도 생각을 해 봐', '2'],\n",
              " ['걔가 십 오분만 뛰어 준다고 얘기를 하나 봐 이것도 한번 자세히 봐야 될 것 같아', '9'],\n",
              " ['그러긴 한데  홈런볼을 제가 많이 못 주워보고 파울볼만 주으러 다니고 그랬었거든요', '8'],\n",
              " ['걷지도 못하고 계속 병원만 다니고 물리 치료만 해야 되는 거야', '3'],\n",
              " ['문제가 나오면 그게 선수로서는 치명적이기 때문에 위에 있는 분들이 잘 해야겠지', '5'],\n",
              " ['다 해 본 것 같아요 그동안 우리는 다 했어요', '1'],\n",
              " ['지금은 좀 나름대로 좀 많이 건강해진 것 같아', '1'],\n",
              " ['히딩크도 마찬 가지고 스타가 되기 힘들지만  삼박자가 맞아야 된다는 거야', '4'],\n",
              " ['그랬다면 한화가 이 지경까지 되지 않았지 않았을까 싶은데 어떻게 생각해', '0'],\n",
              " ['그런 모습을 보면서  앞으로 또 우리 축구가 굉장히 큰 힘이 되겠구나 싶었어요', '6'],\n",
              " ['이제는 시간 여유가 조금 생겼으니까   해야겠어  정말', '1'],\n",
              " ['야구장에서 야구볼이 날아오는 거를 잡겠다고 하다가  잘못하면 다치잖아요 그 공을 맞으면', '0'],\n",
              " ['시작한 지 몇 개월 안 된 것 같아 그전에 스피닝만 하고 난이도가 약한 거야', '1'],\n",
              " ['전혀 여유 없어서 생계  의식주 해결이 안 되는데 스포츠는 상상도 못하지', '2'],\n",
              " ['지금 세계적으로 유명한 호날두도 있겠지만 호날두 이번에 친선 경기 했잖아', '10'],\n",
              " ['근데 다시 시작했다고 해도  준비 안 된 상태에서 치니까 의미가 없더라고', '3'],\n",
              " ['어렸을 때부터 그 과정들을 보면  프로야구가 일년에 전반기 후반기 그 리그를 하잖아요', '0'],\n",
              " ['그때는 그  쪽에 떨어졌는데 나는 이제 줍고 그래서 집에 갈까 말까 고민하고 있었거든', '1'],\n",
              " ['난 그건 좀 아니라고 봐 손흥민  류승현  추신수 이렇게 몇 명 있잖아', '10'],\n",
              " ['전국이 그냥 흥분의 도가니 속으로 들어가가지고 난리도 아니었잖아', '10'],\n",
              " ['골프 선생님은 내가 운동의 이응자도 모른다고 해도 잘 가르쳐준다고', '3'],\n",
              " ['그러면 나하고 한번 시간 내서  자전거를 대여해가지고 남평까지 갔다 오자', '5'],\n",
              " ['지금도 이미 늦었지만 그래도 해 볼 여지는 있다라고 생각을 하고 싶단 말이지', '2'],\n",
              " ['어 운동은 많이 했지 대단한 것은 아니고 당구나 볼링 ', '7'],\n",
              " ['그리고 평상시에 저녁때 운동을 하거나 아침 일찍 조깅을 하는 편이에요', '1'],\n",
              " ['건강이 더 나빠지기 전에 너도 시작하길 참 잘한 것 같아 마음먹길 잘했네', '1'],\n",
              " ['다른 팀의 경기를 보면서 결과만 보는 또 그런 것도 없지 않아 있는 것 같다는 생각이 들어', '0'],\n",
              " ['컨디션을 조절하는 부분에서 여름 철에는 내가 산에 안 갈 수 있는 거고', '0'],\n",
              " ['내가 자네가 야구를 상당히 좋아한다고 알고 있는데 야구 얘기를 해 보자고', '0'],\n",
              " ['당구를 치면 이기고 싶어가지고    수업 빼먹고 그저 당구만 치고', '7'],\n",
              " ['지금은 네저 스포츠라 하고 춤을 춰도 댄스 스포츠라고 하니까', '2'],\n",
              " ['시간도 안 나고 수요일마다 바빴던 것 같아 시골에 내려가느라', '1'],\n",
              " ['근데 게임하면 그게 아니잖아 공이 잘 어디로 튈지 모르잖아', '2'],\n",
              " ['이십 사시간 집에 같이 붙어 있는데 골프까지 할 필요가 있나', '1'],\n",
              " ['거기다가 그다음에 정규리그 엠브이피에 그렇게 다 잘 나갔는데 올해도 그런 기대를 했었지', '0'],\n",
              " ['그랬구나 요즘 사람들이 야구에 관심이 많잖아 그런데 난 야구를 안 봐', '0'],\n",
              " ['나보고 볼링 배우라고 하는데 볼링은 공이 너무 빨리 들어가서 못 치겠더라', '7'],\n",
              " ['일곱시지 일곱시에 데려다주고 보라 보내고 그리고 여덟 아홉시쯤 시작하는 걸로', '8'],\n",
              " ['또 유능한 지도자들을 많이 배출해야 되지 않느냐  나는 이런 생각이 들어', '10'],\n",
              " ['스승의 말이라면 그림자도 안 밟는다고 할 정도로 감독을 존경한다더라고', '4'],\n",
              " ['그리고 좀 인기 있는 구단들의 성적이 일단은 좋아야 돼요 근데 지금 보면은 안 그러잖아', '0'],\n",
              " ['내가 잘못  알고 있는 걸 수도 있는데 필라테스가 이렇게 막 공중에서 하는 건가', '1'],\n",
              " ['오전에 단전호흡하고 오후에 가서 두시간을 강변을 돌고 오거든', '1'],\n",
              " ['그러다 보니까 팬들이 엄청 떠난 거는 사실이야 그렇게 생각하는 게 한두사람이 아니야', '9'],\n",
              " ['세계적으로 프로 축구를 많이들 하니까 우리나라도 프로 축구가 많이 발전됐지', '6'],\n",
              " ['그전에는 애들을 봐주다 보니까 운동을 할 시간도 없었잖아', '1'],\n",
              " ['정말 좋은 말이고  맞는 말이야 그런데 사실 안 해 본 종목을 시작하려면 겁나잖아', '0'],\n",
              " ['너도 알바 다니느라 힘드니까 엄마가 또 어디 가자 어디 가자 하기도 좀 그렇잖아', '8'],\n",
              " ['너도 알다시피 회사에서 지금  하고 있잖아 볼링 예전에는 안 했던 것 같은데', '7'],\n",
              " ['그때는 그 좌익수 쪽에 떨어졌는데 나는 이제 춥고 그래서 집에 갈까 말까 고민하고 있었거든', '1'],\n",
              " ['심하게 해서 단기간에 고작 한달 정도에 오키로가 빠졌으니까', '3'],\n",
              " ['생각하는 것  그래서  내가 원래 축구는 별로 좋아하진 않았거든', '6'],\n",
              " ['나도 너무 안타까웠어 그것 때문에 우승권에서 밀려나버렸잖아', '0'],\n",
              " ['그래서 나도 탁구장에 가서 친구를 만나고 인제 친구도 새기고', '7'],\n",
              " ['나는 친구 믿고서는 하여튼 열심히 해 갖고 같이 한 번 나가 보자고', '9'],\n",
              " ['나는 파크 골프 거기가 좋더라고 그래서 그곳은 저렴하게 운동할 수 있어', '9'],\n",
              " ['동생은 내기는 잘 안 하던데  사람들이랑 골프 치면서 재미었던 일은 없었어', '9'],\n",
              " ['두번째가 박지성이 히딩크 감독을 만났듯이 코치를 잘 만나야 되는 거지', '4'],\n",
              " ['이제 그 우리 라인 댄스 음악을 들으면서 걷다 보면  신날 거 같아', '1'],\n",
              " ['관심을 많이 받고 심지어는 후보급이다 제 이의 양현종이다 라고 그렇게 관심을 가졌었거든', '0'],\n",
              " ['그렇게 하면서 우리나라를 더욱 빛나게 만들었고  너무 대단한 거야', '10'],\n",
              " ['자기가 먼저 하고 시간이 좀 흘러서 주변을 돌아 볼 때 해봐야겠다 했거든', '9'],\n",
              " ['그런데 옛날부터 배구는 여자 배구가 잘 했지  남자 배구는 별로 못 하더라고', '10'],\n",
              " ['그래서 지금 망설이고 있어 배워 보고는 싶은데 돈이나 시간 문제가 있잖아', '5'],\n",
              " ['그래서 경기 도중에 너무 떨리니까  나도 모르게 밑으로 주저 앉게 되더라고요', '0'],\n",
              " ['나중에 간 가족이 너는 뭘 하든 하면 끝까지 하는 성격이라고', '9'],\n",
              " ['내가 일한 만큼의 대가는 회사에서 지급해주니 팁은 안 줘도 된다고 했어요', '7'],\n",
              " ['나는 나래 선수를 되게 좋아하는데 그 이유가 그 왜 운동선수들은 문신 많이 하잖아', '10'],\n",
              " ['그런데 그것도 이제 다리가 불편하니까 지금은 못 하고  할 운동이 없어', '3'],\n",
              " ['엄청 아팠어 뿐만 아니라 던지는 볼에 맞기도 하고  좀 격하잖아', '0'],\n",
              " ['기다려서 이제 보기도 하고 실제로 이제 야구를 하면 여름 같은 경우엔 또 여섯시에 하잖아', '0'],\n",
              " ['수영은 좋은데 너무 힘들고 폭식을 하게 되니까 그것도 힘들더라고', '1'],\n",
              " ['명예의 전당에 들어갈 수 있는 우리나라의 선수들이 지금 박세리뿐이 아니잖아', '10'],\n",
              " ['그 세사람은 등산 장비를 해갖고 왔으니까 올라갔다 온 것 같고', '8'],\n",
              " ['그리고 이게 어느 상대랑 쳐도 자신감 있게 칠 수 있는 방법이 되기도 해', '1'],\n",
              " ['야구장 가서 봤었을 때  잘할 때는 한 없이 잘하고  못할 때는 또 그 반대야', '0'],\n",
              " ['오늘도  회사 일이 좀 별로 없잖아  그래서 혼자  보링이라도 치러 갈까  했는데', '7'],\n",
              " ['근데 해 보면 재밌을 거 같아 남이 치는 걸 보고 있으면 그렇게 재밌어 보이더라고', '2'],\n",
              " ['근데 나는 몇 년간 아침에 스트레칭을 해서 그냥 따라 했을 뿐인데', '1'],\n",
              " ['나는 거의 항상 대입을 하면서 경기를 보는 거야 몰립을 해서 경기를 본다고', '0'],\n",
              " ['근데 땀을 흘리고 나면 처음에는 피로함을 많이 느끼게 돼요', '5'],\n",
              " ['그 사람들 보면은 한편으로는 참 안타깝기도 하고 또 한편으로는 또 대단하기도 하드라고', '0'],\n",
              " ['사실은 내가 탁구 레슨을 받다가 또 요새 바빠져서 레슨을 안 받고 있거든', '1'],\n",
              " [' 같아 티비도 보고 골프 연습장 가서 뒤에서 구경도 해 보고', '9'],\n",
              " ['골프도 골프지만  같이 간 팀들이랑 같이 놀고  술도 한잔 마시면서 친해졌어요', '9'],\n",
              " ['그런데 너무 힘들고 체력이 딸려서 병원에 몇 번 실려 가고 나니깐', '3'],\n",
              " ['나는 그 시멘트 길이 너무 뭐라고 할까 이게 걸을 때 무릎에 타격이 크더라고', '3'],\n",
              " ['야구장 가서 그 꿈을 키울 수 있는 그러한 부분들을 찾을 수 있으니까 참 좋은 것 같아', '0'],\n",
              " ['그래서 더 깨끗하고 올바른 스포츠계로 바뀌어 나가게 되면 좋지 않을까 싶어 나는', '4'],\n",
              " ['애들도 당신을 아니까 당신한테 안 권하는 거야 본인은 아니라고 하지', '3'],\n",
              " [' 존  사각에 정확하게 모서리에만 던진다는 건 일반인은 절대 못 하지', '0'],\n",
              " ['숫자를 헤아려 가면서 몇 번 푸시업도 하고 그러고 쇼파에 앉아서 티비도 보고', '6'],\n",
              " ['너는 요즘 골프를 안 친다고 하던데  특별히 안 치는 이유가 있는 거야', '9'],\n",
              " ['당뇨는 차라리 소식으로 여러 번 먹어 줘야 혈당이 안 떨어져요', '0'],\n",
              " ['동네를 한바퀴 돌아도 되고 아빠트 단지를 한바퀴 돌아도 되고', '2'],\n",
              " [' 실내에서 하니까 눈이 오나 비가 오나 그런 구애 안 받고 할 수 있잖아', '2'],\n",
              " ['몸매가 좋아지던데  우리는 하니까 근육도 제대로 발달 안 되는 것 같고', '3'],\n",
              " ['창피하기도 하고  내가 왜 이걸 해서 이렇게 스트레스를 받나  하는데', '9'],\n",
              " ['헬스를 조금 하긴 했었어 그러고 보니  조금이 아니다 한 삼십년  했었나', '3'],\n",
              " ['운동하는 것이 정말로 자기와의 싸움이야 꾸준하게 해야 돼', '1'],\n",
              " ['네살 때 아빠가 운전을 하다가 사고가 나서 무릎 이하를 못 쓰신대', '3'],\n",
              " ['도대체 한화 이글스는 맨날 수비 실책이야 그래도 요새 임중석이 잘하더라', '0'],\n",
              " ['누가 옆에서 이야기하면서 같이 가면 한번씩 가 보고 싶기는 해', '4'],\n",
              " ['그것도 몇 장 과제도 해왔는데  스포츠도 요즘은 현대화가 되어서', '2'],\n",
              " ['이년차 밖에 안 됐는데  그냥 안타도 잘 치고 홈런도 많이 치니까 멋지더라', '0'],\n",
              " ['불안할 때도 많더라고  멘탈이 좀 약한가봐 나도 봤어  정말 멋있었지', '0'],\n",
              " ['그래서 나는 일하다가도  한번씩 나가서 운동하는 것을 휴일처럼 그냥 써', '8'],\n",
              " ['스트레칭은 좋은데 요가는 스트레칭보다 강도가 더 쎄서 하기 힘들지', '1'],\n",
              " ['그런 거 보면 난 그 생각이 들어 당신이 스포츠를 잘 하긴 뭘 더 잘 해', '2'],\n",
              " ['솔직히 말해서 그런 운동을 한다고 해서 모든 사람들이 그러고 다니는 건 아냐', '8'],\n",
              " ['요즘 친구들 중에 주말 같은 시간  배우는 애들 있잖아', '9'],\n",
              " ['요즘에 헬스라든가 정기적으로 운동 같은 거 계속하고 있는 거야', '3'],\n",
              " ['거기 가서 즐기는 게 사람들하고 어울리는 게 더 좋은가 봐', '9'],\n",
              " ['자세가 나쁘니까 어깨가 너무 아파서 오랫동안 치료를 하다가', '3'],\n",
              " ['아무 생각 없이 할 때에는 잘 되다가  머리를 쓰려니까 쉽지 않더라고요', '1'],\n",
              " ['운동에 너무 큰 의미를 두려고 그러지 말고 내가 일상처럼 해야 된다고 생각해', '1'],\n",
              " ['골프랑 자식  이 두가지는 자기 마음대로 할 수 없어서 어렵고 힘들대', '9'],\n",
              " ['들어왔다가 정말 말 그대로 진짜 반짝 혜성처럼 나타나서 이제 삼루 주전 자리를 꿰찼잖아', '0'],\n",
              " ['나잇대에 따라 운동이나 스포츠를 어떻게 생각하는지에 대해 알게 되어서 좋네', '2'],\n",
              " ['저는 아까 말씀하신 것처럼 우승할 때는 핵터라든가 그 외국인 투수들이 잘 해왔잖아요', '0'],\n",
              " ['이게 진짜 일과가 재밌고 마무리가 잘되는데 이게 게임을 졌다 하면 좀 우울하드라고', '2'],\n",
              " ['앞으로 나이 먹으면 친구들하고 수영을 하겠어요  마라톤을 하겠어요', '9'],\n",
              " ['작년에 네가 같이 수영 강습 듣자고 했었잖아 그 때 같이 할 걸 후회했어', '0'],\n",
              " ['나는 골프를 이십년 전에 처음 쳤는데 그 당시에는 사람들이 거의 없었어', '9'],\n",
              " ['뭐 이제  다 알고  관중석에서 종종  많이 오는 모습을 볼 수 있더라고', '0'],\n",
              " [' 폴 댄스를 배워  그래서 집에서 폴을 설치해 놓고 밤마다 막  해', '3'],\n",
              " ['아무튼 그렇게 딱 떨어져 가지고 홈런볼 한번 주워 봤고 그다음에 또 한번은 유한준 선수 있지', '0'],\n",
              " ['어렸을 때부터 수영장에 가면 창피할 거 같아 가지고 그래서 못 가 봤지', '2'],\n",
              " [' 좋고 산악도 괜찮고 액티비티하게 그것도 한번 해봤으면 좋겠는데', '1'],\n",
              " ['한 아홉시부터 시작해서 열두시 전에 끝나는 걸로 알아보자 말만 하지 말고', '5'],\n",
              " ['여기는 산책이라고 보면 돼 그렇게 힘든 데가 없어 마지막만 좀 올라 가', '0'],\n",
              " ['지금은 이제 그런 생각을 내려 놓은지 오래니까  이젠 단순히 걱정만 되거든', '1'],\n",
              " ['쪼금씩 쪼금씩 하고 있는데  운동을 한다고는 얘길 못할 것 같아  이 정도로는', '1'],\n",
              " ['화면 틀어져 있는 거 보고 얘기하고  할 말이 없더라고', '9'],\n",
              " ['팔년이라는 긴 세월에  그 완봉승 한번 했다는 게 참 대단한 것 같아', '0'],\n",
              " ['앳날부터 골프가 우리 서민들이 쉽게 배울 수 있는 건 아니라고 그러기는 했거든', '9'],\n",
              " ['나는 지금 혈압도 없는데 우리 엄마는 고혈압으로 돌아가셨잖아', '3'],\n",
              " ['근데 내가 딱 보면 어떤 운동이든 상황이든  그 사람만 풍기는 분위기가 있어', '7'],\n",
              " ['기구를 어디에서 설치했는지는 알아봐야겠지만  나는 잘 모르겠고', '3'],\n",
              " ['너무 약해서 거의 무슨 방금 시작한 사람들 수준으로 수업을 하더라고', '7'],\n",
              " ['그러니까 지금 하고 있는 걸 꾸준히 해서 체중이나 건강을 잘 유지해야겠다 싶어', '1'],\n",
              " ['그런 것들이 좀 안 되고 하다 보니까 굉장히 아쉽더라고요 그리고 올해 외국인 투수들 있잖아', '0'],\n",
              " ['오늘 조금 예를 들어서 삼십 분 한 시간 치잖아', '1'],\n",
              " ['생각하니까 조금 긴장이 되기도 하는데 기초부터 천천히 배우면 될 것 같아', '9'],\n",
              " ['이전에는 운동이 건강에 좋을 거라고 생각은 했지만 막상 실천하기가 어려웠어', '1'],\n",
              " ['그냥 뭐 나의 바램이고  글쎄 나는 그 배경이 뒷받침이 안 되어 있어서 정확히는 모르겠어', '0'],\n",
              " ['잘 되는 거랑 안 되는 경우하고 너무 차이가 많으니까 근데 보통은 이제 어릴 때부터 하잖아', '5'],\n",
              " ['들어왔다가 정말 말 그대로 진짜 반짝 혜성처럼 나타나서 이제 삼루 주전 자리를 꿰차잖아', '0'],\n",
              " ['스쿠버 자격증 있어야 하고 그래서 시간적 여유가 있으면 해 보고 싶었어', '1'],\n",
              " ['나는 회장님한테 그 소리를 못 들었거든요', '9'],\n",
              " ['같이 재밌게 치면 좋을 건데 왜 그렇게 안 치냐고 얘기한 게 맞는 얘기야', '7'],\n",
              " ['큰 재미가 없으니까 안 치게 되는 것 같고  또 다른 사정이 있어서 안 쳤어', '7'],\n",
              " ['지금 세계적으로 유명한  호날두도 있겠지만   호날두 이번 친선경기 했잖아', '10'],\n",
              " ['요즘  친구는 앞으로  해보고 싶다는 계획이 있어', '9'],\n",
              " ['내 나잇대가 골프를 많이 쳐 그렇다고 예전처럼 비용이 많이 드는가  하면', '9'],\n",
              " ['그래서 또 이런 데도 관심을 가져야 되나 그런 생각이 문득 들더라고', '0'],\n",
              " ['이제 엄마가 자꾸 말만 하잖아 둘이 시작하자고 주 이회 정도면 딱 좋을 것 같아', '1'],\n",
              " ['근데 그러려면 내가 마음을 먹어야 하지 그치 그리고 요즘에 그 타는 거 있잖아', '9'],\n",
              " ['어쩌면 축구뿐만 아니라 모든 스포츠에서 대한민국이 서열에 들지 않을까 싶네', '6'],\n",
              " ['삼십 칠년 전이죠 삼십 칠년 전 그때 막 시작할 때는 솔찌기 크게 관심이 없었거든요 저도', '0'],\n",
              " ['또 그 베테랑 선수들이 자기 역할을 생각보다 그렇게 많이 못 해줬다는 생각이 들더라고요', '10'],\n",
              " ['그때는 그렇게 생각을 했었는데  언제 한번 가서 당구 다시 쳤으면 좋겠어', '7'],\n",
              " ['지금 대한민국의 스포츠를 잠깐 얘기를 하잖아 그러면 개선할 부분이 많아', '4'],\n",
              " ['그리고 탁구 이런 것도 어렵더라고요 제가 유일하고 공으로 하는 게 골프에요', '9'],\n",
              " ['내가 그때 배드민턴 더 안 하겠다고 그랬잖아 당신은 더 하고 싶어요', '8'],\n",
              " ['나도 이용규 좋아했어 장운호 못지 않게  우리 한화를 위해서 열심히 해줬지', '0'],\n",
              " ['어느 날 나는  할까 봐 수영은 못 하겠어  이랬더니 같이 하는 사람이', '9'],\n",
              " ['그래도 주위에 보니까 부부 동반 골프 가는 것을 보니 좋긴 하겠더라', '9'],\n",
              " ['조금씩 실력이 향상이 되고 또 하여튼 열심히 반복해서 해야지', '5'],\n",
              " ['과수원 쪽 방향으로 가다 보면 실외 골프장이 있어 거기를 자주 갔었지', '2'],\n",
              " ['그리고 스포츠지만 우리나라 문물이 아니고 서양 문물이 들어왔잖아', '10'],\n",
              " ['스포츠라는 것이 바쁜 와중에도 가는 사람이 있고  안 하는 사람도 있는데', '9'],\n",
              " ['내가 장담하는데   절대 후회는 안 해 망설이지 말고 도전해봐', '1'],\n",
              " ['그런데 주변 사람들의 얘기를 들어보면 가서  친다는 얘길 못 들어 봤거든', '9'],\n",
              " ['내가 인터넷으로 검색해보고 괜찮은 거 있나 찾아서 오늘 저녁에 말해줄게', '1'],\n",
              " ['그리고 또 외국 무대에서 뛸 수 있는 그런 조건을 만들어 주기도 했고', '10'],\n",
              " ['그래서 열심히 하고 싶은데  살다 보니까  직장 일도 그렇고 잘 되지가 않더라고', '7'],\n",
              " ['다저스에서 타자들이 수비까지 열심히 해주니까  류현진이 기운이 나는 거야', '0'],\n",
              " ['근데 걔는 폐경기가 돼서인지 아니면 폐경기 준비 단계가 돼서인지 모르겠는데', '1'],\n",
              " ['여섯시면 뭐 두시간 세시간 전에 나와서 이제 연습을 해요 타격  뭐든 간에', '5'],\n",
              " ['싸면 싸다고 할 수 있고 비싸면 비싸다고 할 수 있는데 한 이십만 이십 삼만원 정도 하잖아', '9'],\n",
              " ['집이는 또 어떻게 시골 가서 일을 하면 좀 힘들고 그렇지 않아', '1'],\n",
              " ['그 사람이 좋은 얘기 해줄 거야 그 나이에 그렇게 운동하는 사람 드물어', '9'],\n",
              " ['그러니까 그걸 억지로 가서 할 필요가 없다  이 말이야 컨디션 조절도 해야지', '1'],\n",
              " ['즐거운 분위기에서 자기가진짜 마음껏  자기 역량을 펼쳐야지 ', '7'],\n",
              " ['스포츠 하니까 아까도 잠깐 얘기했지만 스포츠라는 ', '2'],\n",
              " ['걔네는 이제 막 성장한 팀인데도 불구하고 우리나라가 여자 수구에서 이겼잖아', '10'],\n",
              " ['내가 허리가 안 좋잖아 근데 물속에서 하니까 안 힘들고 그냥 노는 것 같아', '3'],\n",
              " ['그래서 너무 기뻐서 끝나 거의 한시간씩은 연습을 했던 것 같아', '5'],\n",
              " ['물론 처음에 시작할 때 초기 비용을 최대한 적게 들여서 하고 싶은 걸 하면 좋지', '5'],\n",
              " ['골프도 하고 싶고  볼링  수영 뭐 그런 것은 그냥 늘상 접하는 걸로 하고 싶어', '7'],\n",
              " ['그런 걸 보면서 한선수가 이 정말 치열한 경쟁 속에서 멋지게 은퇴 하는구나 라고 느꼈어', '10'],\n",
              " ['언제 뭐 성당에서도 그런걸 많이 추천하더라', '9'],\n",
              " ['재정 생각은 안 하고 야구장만 크게 지어 놓으면  그게 되겠냐는 얘기야', '0'],\n",
              " ['그래서 야구를 좋아하는 팬들이 조금 많이 떠났다고나 할까요 요즘 그런 것 같아요', '0'],\n",
              " ['알았어 그라고 나는 요즘에는 좀 허리가 별로 조금 안 좋거든', '3'],\n",
              " ['그 프로그램 항상 제 시간에 하지 않나', '6'],\n",
              " ['나는 이천 이년 월드컵 때 세계적인 선수가 나올 거라고 믿어 의심치 않았어', '10'],\n",
              " ['동솅은 다른 것도 배워본다꼬 하는데  저는 몸치라서 엄두도 못 내요', '9'],\n",
              " ['이제 그 우리 라인 댄스 음악을 들으면서 걷다 보면 신날 것 같아', '1'],\n",
              " ['나도 지금보다 조금만 더 잘 쳐 갖고 아무 때나껴서 그냥 계속 이기고 싶어', '2'],\n",
              " ['근육이 이렇게 생겨있고 그래서 나는 운동을 하는 사람인 줄 알았어', '3'],\n",
              " ['절대 승부 조작이라는 것이 전혀 없었는데 지금 와서 그 얘길 하니 조금 그렇네', '7'],\n",
              " ['나도 고등학교 일학년 때부터 쳤는데  나는 운동을 항상 잘하려고 안 해', '0'],\n",
              " ['혈압약도 안 먹어 그러니까 생각해보면 다 운동 덕분이구나  하지', '3'],\n",
              " ['류현진이 사이영 상인가 탈 수 있다고 생각해 어떻게 되고 있는 거야', '0'],\n",
              " ['또 우리 집에 운동 최고로 잘하는 사람이 있잖아 근력 운동을 매일 하는데', '3'],\n",
              " ['나는 이제 그렇게까지는 욕심리지 않아 자네 말마따나 나도 내 주제를 알거든', '9'],\n",
              " ['그날의 상태가 안 좋거나 그러면 완전히 무너지는 게 골프인 것 같아', '3'],\n",
              " ['근데 너는 왜 스포츠가 좋다고 해서 골프는 끊어 놓고 안 나가는 거야', '9'],\n",
              " ['한라산에 여섯시 들어갔다가 한 여덟시간 정도 산행을 해야 되거든', '1'],\n",
              " ['그 효과를 봤으니까 운동이 얼마나 중요한지 겪어 봤으니까 더 알겠네', '1'],\n",
              " ['그래서 요새는 내가 되도록이면 한시간씩이라도 걸어 주려고 노력을 해', '1'],\n",
              " ['친구들하고 많이 모여 가지고 그런데 한번은 야구를 하다가 다치는 바람에', '7'],\n",
              " [' 우리나라가 여자 ', '10'],\n",
              " ['이어폰을 끼고 자기가 듣고 싶은 음악을 틀고 운동장을 도는 거야', '1'],\n",
              " ['기념으로 야구를 하는 사람이 야구장에서 자기가 좋아하는 팀의 경기를 추억하는 거니까', '0'],\n",
              " ['일단 중고를 사던지  주변에서 구할 수 있는 걸로 하면 가격은 정하기 나름이지', '9'],\n",
              " ['생각보다 이수근이 정말 잘 치더라 나도 중계 끝나고 당구 한번 쳐야지', '7'],\n",
              " ['지금 세계적으로 유명한  있겠지만 호날두 이번에 친선 경기했잖아', '10'],\n",
              " ['사람들이 자기에게 맞는 용량을  되는데  무리해서 다치는 사람이 많거든', '3'],\n",
              " ['상대방이 때리고 나니까 쫌 그것도 안 좋기는 안 좋더라고', '7'],\n",
              " ['내가 스포츠를 보면서 물론 자네한테 화도 내고 짜증또 부리고  하지', '2'],\n",
              " ['그러니까 우리가 목표를 잡고 종목도 한번 정해서  운동을 추진을 해 보자고', '2'],\n",
              " ['나는 최대한 몸을 늘이는 동작이 가능하니까 이게 되게 시원하더라고', '1'],\n",
              " ['우리 남편은 나이 먹어서 점점 말을 더 안 들으니 더 애기 되는 것 같아요', '9'],\n",
              " ['그런데 그 친구하고 지금 사이가 조금 틀어져서 안 본지가 오래됐는데', '9'],\n",
              " ['그러니까 그 선수들이 잘 해주면 좋겠고  또 성장할 수 있었으면 하는 거지', '10'],\n",
              " ['혼자 운동한다는 것이 힘들지  힘든데 그 힘든 운동을 몇 년째 하고 있는 거야', '1'],\n",
              " ['가서 해 보니까 나는 다리가 아프니까  요가도 무리가 가더라고', '3'],\n",
              " ['지금 대부분의 사람들은 야구장을 돔구장으로 크게만 짓기를 원한단 말이야', '0'],\n",
              " ['보면 일반인들 생각에도 납득이 돼야 되는데 납득이 안 되는 경기들을 상당히 많이 하드라고', '0'],\n",
              " ['예전에 운동했던 거는 야구인데  ', '0'],\n",
              " ['맥주 마시면서 스트레스를 푸는지  나는 에이컨을 틀어놓고 집에서 보는 게 나아', '9'],\n",
              " [' 할 겸 가보자고 거기 저번에 가니까 경치도 좋고 상당히 마음에 들던데', '1'],\n",
              " ['일단 내가 일을 하면서 운동도 같이 해봤잖아 수영을 해보니까 확실히 알겠어', '1'],\n",
              " ['나도 아까 아침에 그 말을 들었는데 이 말이 제일 감명 깊었어', '1'],\n",
              " ['그런데 보니까 뉘우치는 기색이 없어 나도 그 기사를 보니까 엄청 화가 나더라고', '0'],\n",
              " ['왜 말씀 들어보니까 진짜 야구를 좋아하는 팬인 것 같아요 집도 야구장 주변이시잖아요', '0'],\n",
              " ['특히 프로야구를 많이 좋아하는 그런 편인데 요즘 들어서는 계속 재미가 없더라고요', '0'],\n",
              " ['자네는 항상 퇴근하면 힘드니까 에어로빅하고  스쿼시하고  자전거 타고 하잖아', '5'],\n",
              " ['탁구에 대해서도 얘기하고 하다 보면 시간이 잘가거든', '7'],\n",
              " ['나이도 나도 많이 먹어갖구 그렇게 다른 사람마냥 잘할지를 모르겄네', '9'],\n",
              " ['야구팬의 한 사람으로서 또 이쪽  기아가 후반기에 좋은 모습을 보여줬으믄 좋겠어', '0'],\n",
              " ['근데 다음 주에 또 차를 뽑으려고 그러거든 어제 결국 결정은 못 했어', '5'],\n",
              " ['저도  어렸을 때 해태 타이거즈 때부터 그걸 바라보면서 커왔죠 물론 선수는 아니었지만요', '0'],\n",
              " ['다치는 것도 그렇게 심하게 다치지는 않는 거 같고 할 수 있으면 하면 좋지', '3'],\n",
              " ['탁구 치는 게 재미는 있더라고 왜냐하면 친구도 만날수 있잖아', '7'],\n",
              " ['근데 그래도 조심은 해야지 이제 나이가 있잖아', '9'],\n",
              " ['그런 애로사항이 있어 누가 선뜻 같이 해 보자는 사람도 없는 상태이고', '0'],\n",
              " ['그래서 고인 물을 빼고 물리 치료 같은 치료를 계속 받고 있어', '1'],\n",
              " ['우리 집 앞에 공원이라도 좀 돌아다니면서 단련을 좀 하고 움직여야 할 것 같아', '1'],\n",
              " ['나중에 할 때 거기 따라가고 싶어 그래  너도 그렇게 여러 사람과 즐겨 봐', '9'],\n",
              " ['그냥 입단 첫해부터 그렇게 잘할 거라고 누가 생각을 했겠습니까   받았고', '0'],\n",
              " ['유산소 운동이랑 스트레칭만 하는데  이것만 해도 건강은 유지가 되거든', '1'],\n",
              " ['욕심 많은 사람은 막 이길라고 하는사람도 있고 그냥 생각 없이 칠 때도 있어', '9'],\n",
              " ['또 일하는 데 힘들지도 않고 그래서 더 좋아진 것 같아 나는 완전 만족해', '9'],\n",
              " ['당신이 사람들하고 어울리는 거 좋아하고  술 좋아하는데 골프만 치겠어', '9'],\n",
              " ['그래도 젊은 사람들은 좀 탁구치는 것도 예쁘고 한데 나는 자신이 없어', '1'],\n",
              " ['일거삼득으로 하고는 있는데 그래도 내가 더 관심이 있는 운동을 하고 싶어', '0'],\n",
              " ['난 구기를 좋아하니까  공으로 하는 것이 재밌고  한데 골프는 관심이 안 가', '0'],\n",
              " ['진짜 상상만 해도 그 어두컴컴한 밤하늘에 하얀 공이 허공 허공을 쫙 가르면서 이렇게 오잖아요', '0'],\n",
              " ['어 운동은 많이 했지 대단한 것은 아니고  당구나 볼링 야구 정도', '7'],\n",
              " ['아무튼 스포츠가 됐든 레저가 됐든 뭐든지 너무 과하게  하다 보면', '9'],\n",
              " ['그런데 레저 스포쯔는 너무 힘들고 나이 먹어서 할 것이 아니더라꼬', '9'],\n",
              " ['한국에 와서 한국 프로  한 경기 원래는 계약이 되어 있었대', '0'],\n",
              " ['그러니까 더 나이 먹으면 더 힘들 것 같으니까 지금이라도 시도해 봤으면 좋겠어', '7'],\n",
              " ['나도 내 머리에 항상 그 생각이 있으면서도  못하는 것 있지', '1'],\n",
              " ['그냥 도시락 하나 짊어지고  하이킹 하면서 돌아다니면 운동이 될 것 같아', '1'],\n",
              " ['우리 아빠트에는 탁구장이 있거든 가서 가족들이랑 탁구를 많이 치거든', '7'],\n",
              " ['올해는 아마 진짜 대박을 날 줄 알았는데 뜻바케 올해는 작년보다 성적이 안 나오더라고', '0'],\n",
              " ['내가 가서 근력운동하는 것도 아니고 스트레칭하고 유산소 운동만 하고 오는데', '3'],\n",
              " ['근데 너는 왜 스포츠가 좋다고 해서 골프는 끊어 놓고 안 가는 거야', '9'],\n",
              " ['그러니까 친구들하고 더 많이  여유로워졌지  ', '7'],\n",
              " ['그 친구들도 없고 나밖에 없으니까  취미생활을 해봐야 쓸만한가 ', '9'],\n",
              " ['너무 잘 한다고 접영 하기가 힘들잖아 너무 잘 한다고 시범을 보인 적도 있다', '1'],\n",
              " ['다리만 딱 반듯이 고정되면 얼마나 좋겠어요  그런데 이게 정말 쉽지 않아요', '3'],\n",
              " ['그런데 나이가 들으니까 그런가 끝까지 보지 못하니 나이 탓인가 싶어', '9'],\n",
              " ['실제로 보면은 그래 그래서 한번은 김주영 선수가 그 무등 경기장에서 홈런을 쳤었거든', '0'],\n",
              " ['그런데 어느 운동을 해도 들어가는 게 다 있어 볼링도 마찬가지고', '7'],\n",
              " ['대단한 걸 하는 게 아니고 스쿼트 팔굽혀펴기 아니면  턱걸이 같은 거', '3'],\n",
              " ['우리 나이에는 요가 같은 너무 격한 운동은 삼가해야할 것 같아', '9'],\n",
              " ['나이 먹어 갖고 덥기나 하고  가지도 못하겠다고 티비나 보면서 이야기하고 살아', '6'],\n",
              " ['난 그건 좀 아니라고 봐 손흥민  류현진  추신수 이렇게 몇 명 있잖아', '10'],\n",
              " ['이번에 많이 깨달았고 그래서 이번에는 정말로 내 자신과 약속도 했어', '10'],\n",
              " ['스쿠버 자격증 있어야 하고 그래서 시간적  있으면 해 보고 싶었어', '1'],\n",
              " ['이렇게 뭐 또  서로 바꿔 입고 이러는 게 되게 축구에선 일종의 자존심이잖아', '6'],\n",
              " ['나도 내 머리에 항상 그 생각이 있으면서도 실천을 못하는 것 있지', '1'],\n",
              " [' 게 한도 끝도 없잖아 수영장을 가게 되면 조금 미뤄둘 수 있어', '2'],\n",
              " ['내가 이걸 들어야 세계적인 선수가 될 수 있다고 생각하며 운동을 했대', '10'],\n",
              " ['주민센터 그쪽 이용해서 하면 저렴하기도 한데 일단 제일 하고 싶은 건 줌바', '2'],\n",
              " ['학교에서 옛날 문화를 다시 살려서 계승하자는 의도로 하거든', '2'],\n",
              " ['이것저것 보기도 하고 구경도 하고  더불어 운동도 되면 좋을 것 같거든', '9'],\n",
              " ['그래서 나도 이렇게 해 보니까 마음이 어제 가르킨 게', '9'],\n",
              " ['근데 걔가 합격하면 며칠이나 제정신에 살라나 그것도 참 걱정이다 그치', '1'],\n",
              " ['손흥민이 이렇다   비교된다  하는 것 보니까 보기 좋드라고', '10'],\n",
              " ['근데 물속에서 노는 게 재미있는 것 같아  없이 근육이 생기는 느낌이야', '2'],\n",
              " ['그러니까 이십승까지 갔으면 좋겠고  또 월드시리즈  에 가면 좋겠어', '0'],\n",
              " ['몇 년 동안 옥상에서 다른 운동도 해봤지만 꾸준히 하기가 정말 어렵더라고', '1'],\n",
              " ['아 저 정도 등산을 좋아하긴 해요 그런데 안가게 되요', '8'],\n",
              " ['기아도 감독 바뀌고 막 올라갔지  그리고 또 롯데도 감독 바뀌니 올라갔어', '4'],\n",
              " ['나이대에 따라 운동이나 스포츠를 어떻게 생각하는지에대해 알게되어서 좋네', '9'],\n",
              " ['내가 스포츠를 보면서 물론 자네한테 화도 내고 짜증도 부리고 그렇긴 하지', '2'],\n",
              " ['저거 절은 내가 옛날에 갔던 절이였어 기억 나', '2'],\n",
              " ['그러신 분들을 은 주로 이제 자전거를 많이 이렇게 타', '5'],\n",
              " ['우리가 앞으로는 자가용을 타고  전국을 여러 군데 다니면서 운동을 나가보자', '8'],\n",
              " ['그래서 나는 탁구 같은 운동도 전신운동이니까  한번씩 해도 될 것 같아', '7'],\n",
              " ['우리 나이 때는 운동을 해도  조금 과격한 거나  이런 것보다는  근강을 생각하면서', '9'],\n",
              " ['오늘도 그 회사 일이 좀 별로 없잖아 그래서 혼자 볼링이라도 치러 갈까 했는데', '7'],\n",
              " ['그렇잖아  나는 삼십대부터 여러 스포츠를 시작해서 계속 해왔는데', '9'],\n",
              " ['그래써 요즘 고민 중인데  어쨌든 너무 내가 운동 안 한다고 걱정하지 마', '3'],\n",
              " ['수영을 적극 추천하더라고 진짜 우리가 어깨도 아프고 무릎도 아프고', '3'],\n",
              " ['그래서 수영을 또 해 볼까 요즘은 그런 생각이 드는데 쉽지는 않아', '9'],\n",
              " ['그러니까 이제 그 둘은 좀 비교 할 바가 아니지 않나 싶은 생각이 들더라고', '10'],\n",
              " ['배드민턴은 젊었을 때 친구가 했고 내가 순발력이 있으니까 배우기가 쉬웠겠지', '9'],\n",
              " ['나는 그런 생각을 한 거야 산책하면서 얘기도 하고 차도 마시러 가고 하는 거지', '7'],\n",
              " ['내가 지금까지 했던 운동 중에 제일 살 빼는데 효과 봤던 것은', '2'],\n",
              " ['그렇긴 한데 홈런볼을 제가 많이 못 주워보고 파울볼만 주우러 다니고 그랬었거든요', '8'],\n",
              " ['정말 수영을 전혀 못해도 걱정할 게 하나도 없어 시작도 전에 겁 먹진 마', '1'],\n",
              " ['싸인도 잘해주고 매너 좋고 그런 사진이 인터넷에 여러 번 올라오더라고', '10'],\n",
              " ['그러니까 전에 이동국이 그랬대 호날두 보다는 메시가 좋다고 막 그랬다는 거야', '10'],\n",
              " [' 그런 소통이 전혀 없어서 아마 걔하고 이렇게 비교가 되는 게 아닌가 싶어', '10'],\n",
              " [' 나가는 선수였는데 그런데 ', '10'],\n",
              " ['이용구가 한화를 위해 봉사한다는 생각으로 한해 더 해줬으면 좋았겠다', '0'],\n",
              " ['사람들이 야구 얘기를 많이 해  어디 가면 야구  같이 식당에 가도 야구', '0'],\n",
              " ['시간이 꽤 다양하게 나뉘어져 있어 나도 출근 전에 가거든 아마 가능할거야', '8'],\n",
              " ['이렇게 치니까 그 운동도 괜찮기는 괜찮을 것 같은 마음도 들어갔어', '1'],\n",
              " ['잠깐 가서 배울 수 있는 골프를 한다면 골프 교실 그런데 다니면 좋겠네', '9'],\n",
              " ['꼴프 하면 박세리 저리가라인데 하면서 맨날 골프 하자고 꼬시거든  ', '10'],\n",
              " ['우리 집 애가  준비를 하는데 면접에 이십 오메다 자유수영 시험이 있대', '1'],\n",
              " ['처음에 칠 때에는 연습도 하고 그래서 팔십대까지는 칠 수 있었어요', '5'],\n",
              " ['앞으로 우리 후손들도 스포츠에 더 많은 관심을 가지고 지켜보면 좋겠고', '2'],\n",
              " ['내 생각에는 여러 운동 중에서도 수영이 나이 들어서 하기 좋은 운동 같아', '9'],\n",
              " ['매칠 동안 너무 안 되던 것이 오늘은 되는 거야 정말 너무 기뻤어', '1'],\n",
              " ['해외 여행을 가려고 맘을 먹으면  일주일 전부터 요가를 해', '9'],\n",
              " ['수많은 사람들이 그렇게 생각하고 있다는 건 그게 좀 맞지 않는 행태이지 않나 싶어요', '10'],\n",
              " ['우리가 향교에서 지금 방과후 수업을 하거든 거기에서도 스포츠가 있어', '2'],\n",
              " ['또 내가 배워보니까  못하는 대로 배우는 맛이 있어서 괜찮더라고', '9'],\n",
              " ['그러니까 허리가 아파서 두코스 세코스 걷는 것은 기본이고', '3'],\n",
              " ['아직은 좀 더 시간이 필요하다는 것이지 자기도 충분히 할 수 있어', '1'],\n",
              " ['다른 일 때문에 그냥 운동 평일 날 저녁때나 운동하고 휴일에는 쉬는 편이야', '8'],\n",
              " ['이번에 보니까  최영호가 홈번을 때려 가지고 일 대 영으로 끝났더라고', '10'],\n",
              " ['그런데 네가 만약에 몸이 안 좋다고 하면  필요할 때 도와줄 수가 없지', '1'],\n",
              " ['등산하는데 몸만  건강하믄  둘째 치고 그 화려한 ', '8'],\n",
              " ['꼴프 선수가 너무 상세히 잘 가르쳐줘서 한번 배우고는 싶더라', '9'],\n",
              " ['그래서 그걸 가지고 버티이 연습을 했던 것 같고  어프로치는 뭐 그냥 했어', '5'],\n",
              " ['습관이 잘 안 되고 실천을   건강을 위해서는 이 필요할 것 같다', '1'],\n",
              " ['저번에 그냥 여행을 가서  레저 스포쯔를 한번 해보기는 했거든', '9'],\n",
              " ['나는 보니까 팬으로서도 굉장히 부럽고 좋아보였드라고 그런데 대부분 보면은 그렇잖아', '9'],\n",
              " ['그렇게 때문에 항상 돌아다니면서 운동으로 체력 단련을 시켜야 할 것 같아', '1'],\n",
              " ['강도도 제일 센 걸로 했는데 위에서 이렇게 딱 꺼내 보니까 끊어지기 직전이야', '1'],\n",
              " ['나도 요가 학원을 한 삼사개월 전에 옮겼잖아 전에 다니던 학원하고 ', '1'],\n",
              " ['일단 날씨가 안 좋다면  우리가 도시락을 갖고 한번 하이킹을 다녀와보자', '1'],\n",
              " ['그래서 이젠 못 하겠지  이런 걱정을 크게 하고 있지는 않아 언젠간 찾겠지', '1'],\n",
              " ['특히 남들이 자주하는 당구 같이  공 가지고 노는 건 잘 몬하는 것 같아요', '7'],\n",
              " ['신인들을 키운다고 엘에이  돈을 투자를 더 안 할 모양이더라고', '0'],\n",
              " ['아무것도 모르는 상태로 와서 내가 운동을 가르쳐주면 스폰지처럼', '3'],\n",
              " ['보기에는 라인도 잘 타면서 자유롭게 잘 했던 것 같은데 말이야', '1'],\n",
              " ['그러면은 그 씽씽이는 모자를 쓰고 타야 되나 빌릴 때 옆에 모자도 없어', '1'],\n",
              " ['잘 이제 나이 먹고 그라면 눈도 찜찜했거든', '9'],\n",
              " ['그게 참 대단해 근데 우리가 사실 고등학교 때 야구 글러브까지 샀었는데', '0'],\n",
              " ['이제 나이가 는 것 같아 누워서 티비를 봐도 흥미가 없어지니 큰일이야', '6'],\n",
              " ['너도 알다시피 다른 분야에 관심 가질 틈 없이 나는 계속 일만 해왔잖아', '0'],\n",
              " ['참피언 리그 올해 일등을 했으면 한다  그런 나의 바램도 또 있는 거지', '0'],\n",
              " ['그렇지 않아도 친구가 자꾸 수영이 정말 좋다면서 나한테 추천하더라고', '9'],\n",
              " ['손은 앞으로 나가고 아휴 진짜 그게 어렵더라고', '1'],\n",
              " ['운동을 조금 더 강도를 높이면 더 빨리 올르겠지만 거기 상당히 가파르거든', '1'],\n",
              " ['헬스를 쪼금 하긴 했었어 그러고 보니 쪼금이 아니다  한 삼년 정도 했었나', '3'],\n",
              " ['아무튼 시간이 되면 그쪽으로 합류를 해야겠다는 생각이 들어', '1'],\n",
              " ['삼십 계단 그래 갖고 셨다가 아침마다 한 번 씩 하거든', '1'],\n",
              " ['골프 천재들이 이렇게 많이 나오니 또 그것도 이제 약간 씁쓸한 거 같고 그렇더라고', '9'],\n",
              " ['골프도 자기가 관심을 갖고 해 보고 싶어 하니까 나도 해 볼까 한 거지', '0'],\n",
              " [' 있어야 하고 그래서 시간적 여유가 있으면 해 보고 싶었어', '1'],\n",
              " ['스매싱을 그렇게 해 보라고 친구는 잘 들어갔어', '9'],\n",
              " ['조금씩 조금씩 하고 있는데 운동을 한다고 얘기를 못 할 것 같아 이 정도로는', '7'],\n",
              " ['나도 배드민턴 해봤지만  배드민턴 채 하나에  기본적으로 최소 이십만원이야', '8'],\n",
              " ['운동 많이 하고 걷고 햇빛을 많이 보는 운동을 하라고 그러더라고', '3'],\n",
              " ['그러다 보니까 허리가 아프니까 수영이 좋다고 해 갖고  수영도 하고 헬스도 하고', '3'],\n",
              " ['다섯바퀴를 돌아서 땀이 안 난다고 하면 한바퀴를 더 돌아 주는 거지', '0'],\n",
              " ['우리 아파트에는 탁구장이 있거든 가서 가족들이랑 탁구를 많이 치거든', '7'],\n",
              " ['현충원 같은 경우는 한 두세시간이거든 거기는 너무도 좋고 시원해', '5'],\n",
              " ['게이트볼은 나이를 더 먹고 한참 있다가 해야지 아직 우린 너무 젊잖아', '9'],\n",
              " ['또 물론 다솜도 좋아하긴 하지만  두 사람이 앞으로 진짜 차세대 한국의 스타가 되지 않을까', '10'],\n",
              " ['내가 계속 바쁘다고 핑계는 대는데  진짜 내 생각은 창피할까 봐 안 가는 거야', '1'],\n",
              " ['제주도를 지금 몇 번째를 가는데  지금 나이 때 하지 않으면 못할 것 같아서', '9'],\n",
              " ['더운데 땀 흘려 가면서 열심히 야구를 관람하는 사람들 보면 참 대단한 것 같아', '0'],\n",
              " ['그리고 박 감독이 선수를 사랑하는 게 자기 친자식처럼 사랑한다고 그래', '4'],\n",
              " ['의사 선생님도 걷는 것이 최고 좋다고 하면서 내가 너무 안 걷는다고 했거든', '3'],\n",
              " ['처음에 무슨 소리인지 몰랐어 뱃삯을 낸다는 말이 무슨 뜻인지를', '9'],\n",
              " ['그 말을 듣고 좀 나는 저 사람이 정말 굉장히 멋진 사람이다라는 생각이 들더라고', '9'],\n",
              " ['예전에 경기할 때  누구를 비방하는 건 쫌 그렇지만 일반인들이 보기에도 쫌 그렇더라고', '0'],\n",
              " ['나도 아침에 한번 시작해봐야겠다 너랑 같이 해보고 싶어 같이 가자', '1'],\n",
              " ['우리한테는  그 큰돈을 투자해서 선수를 또 교체를 하니까 답답하더라고 진짜', '0'],\n",
              " ['근육이 정말 많고  뱃살이 하나도 없어 나잇살도 없더라니까', '3'],\n",
              " ['그 플레이도 플레이지만 예를 들면  이해할 수 없는 이상한 경기 운영 같은 거 있잖아', '0'],\n",
              " ['한번 골프 배워보는 것을 생각해봐 배우자랑 같이 가면 되잖아', '1'],\n",
              " ['옛날에 앞산에 열심히 다니고 할 때 살이 그냥 저절로 빠졌었어', '8'],\n",
              " ['그게 그래서 그 회장님이 그 얘기 했자너', '9'],\n",
              " ['시간을 아무리 친다 해도 느는 게 속도가 반복돼', '5'],\n",
              " ['어차피 직업상 너무 장거리를 다니기 때문에 그렇게 하기가 힘들어요', '8'],\n",
              " ['자유시간은 일곱시 반부터 시작해서 여덟시 반에 끝나 출근 전에 딱이야', '1'],\n",
              " ['한잔만 마신다고 해 놓고는 이제 열시까지 진탕 마시고 취해 가지고', '9'],\n",
              " [' 같이 모여서 볼링 하는 건 하다 보니까 분위기도 굉장히 좋아지고', '7'],\n",
              " ['네 몸만 건강하면 애들이 필요할 때 얼마든지 가서 도와줄 수 있잖아', '1'],\n",
              " ['너 같이 시간 맞추고 얽매이는 거 싫어하는 사람은  ', '1'],\n",
              " ['그래도 저 사람은 나이가 들어도 저렇게 열심히 운동을 하니 잘하는 거 같아', '9'],\n",
              " [' 경기 도중에 너무 떨리니까  나도 모르게 밑으로 주저앉게 되더라고요', '0'],\n",
              " ['그러다 보니까 요즘은 관중들 사이에서 운 좋게 그런  줍기는 쉽지가 않드라고요', '0'],\n",
              " ['그라는 거를 재미를 느끼나 봐', '7'],\n",
              " ['한국 겨울이 워낙 추워서  외국에서 보내는 겨울은 그닥 추운 것 같지 않아요', '8'],\n",
              " ['저기 아파트 꼴푸 연습장에서 돈 내고 하는 거 있어 열심히 하더라고', '5'],\n",
              " ['우리가 공유할 수 있는 걸 하면 좋겠어 나는 골프를 하고 싶은 생각이 없거든', '9'],\n",
              " ['축구는 더 말할 것도 없지 골프도 보면 우리가 아이엠에프 때 힘들었잖아', '6'],\n",
              " ['그리고 신기하게도 다른 일에도 더 적극적이고 활기차게 임하게 되는 것 같아', '3'],\n",
              " ['아까 골프 얘기했지  골프도  채 하나가 굉장히 비싸 살 엄두도 못 낼만큼', '9'],\n",
              " ['골프 천재들이 이렇게 많이 나오니 또 그것도 이제 약간 씁쓸한 거 같고 그러더라고', '9'],\n",
              " ['그렇게 하고 볼링도 해 보니까  하기가 좋은 운동  같더라고  ', '7'],\n",
              " ['이제는 나이가 드는것 같아 누워서 티비를 봐도 흥미가 없어지니 큰일이야', '6'],\n",
              " ['그냥 같이 이렇게 동아리를 만들어 가지고 같이 게임하면 좋고', '2'],\n",
              " ['그래서 우리나라에서 음식은 다 갖고 가야 되지 않을까 싶더라고 응 그건 왜', '10'],\n",
              " ['홈런을  나와 있을 때 그게 장외로 넘어와서 내 앞에 딱 떨어졌어', '0'],\n",
              " ['내가 봐도 한국 여자 선수분들이 골프에서 많은 두각을 나타내고 있는 것 같아', '10'],\n",
              " ['너무 기분이 좋았다고 얘기를 하는 거야 그래서 너무 부러웠어', '7'],\n",
              " ['내가 그걸 옛날에 본 적이 있었거든  걔가 쟤였구나 싶었지', '2'],\n",
              " [' 내 나이 때가 골프를  많이 쳐  예전처럼 비용이 많이  드는가 하면', '9'],\n",
              " ['얼마든지 도와줄 수 있지 내가 해보니까 수영은 정말 도움이 많이 돼', '1'],\n",
              " ['그래서 지금 무릎도 안 좋고 몸도 좋지 않은 증세를 보인다고 하는데', '3'],\n",
              " ['탁구가 정신 운동이라서  무리 없이 살 빼는 데는 최고 좋을 것 같아', '3'],\n",
              " ['그럼 수영으로 아예 정해야겠다 생각만으로 건강해질 것 같은 느낌이야', '1'],\n",
              " ['한시간쯤 지나니까 얼굴이 벌게서 들왔데 그러더니 스쿼트를 했다나', '3'],\n",
              " ['나머지는 계단 걸어다니고 우리 막둥이  운동시키면서 걷고', '8'],\n",
              " ['나보다 못하는 사람들도 많고 나이가 더 많은 사람도 곧잘 하더라고', '9'],\n",
              " ['자네도 알다시피 조기 교육이라든가 그런 부분에서 많이 개선을 해야지', '10'],\n",
              " ['그래  나중에 한번 따라가 보든가 할게 가서 구경 하는 것도 재밌겠다', '2'],\n",
              " ['그래서 실력이 다들 늘었어 처음에는 공도 못 잡아서 막 헛손질하고 그랬었는데', '5'],\n",
              " ['가을 야구에 나갈 수 없는 그런 상황까지 이제 오다 보니까 결국은 이런 사단이 난 거지', '0'],\n",
              " ['자꾸 운동을 해야 돼 혈압이 있어서 운동 안 하면 우리 건강이 안 좋아질 거야', '3'],\n",
              " ['우리나라 사람들 보면 그렇게 보여주기식으로 하는 사람이 많거든', '10'],\n",
              " ['땀도 나고 운동도 되는 것 같더라고 도는데 삼십분 정도 걸려', '1'],\n",
              " ['보니까 다른 스포츠하고 다르게 이상하게 정이 드는 거 같애', '2'],\n",
              " ['내가 저녁에 따로   또 자네 운동한다고 하면 따라가고 하잖아요', '8'],\n",
              " ['골프를 치는 사람들도 연령대가 있거든 젊었을 때부터 배워서 친 사람일텐데', '9'],\n",
              " ['우리 나이 때는 운동을 해도   거나 이런 것보다는 건강을 위해서', '1'],\n",
              " ['요새 무슨 운동해 허리 아프다더니 할만한 괜찮은 운동 있어', '3'],\n",
              " ['내가 수영복 사려고 찾아봤었는데 인터넷이 제일 저렴한 것 같더라고', '1'],\n",
              " ['정말 시간이 없어서 운동을 못 한다기보다는 일하느라 힘드니까 못 한 것 같아', '1'],\n",
              " ['지금 대중화가 많이 되었지만  경제적인 여건이 받쳐 주는 사람들이 하는', '9'],\n",
              " ['그리고 저도  많이 없는 편인데 그래도 골프는 괜찮아요', '9'],\n",
              " ['그래서 딴 거 없어 아까 꼴프도  얘기했지만은  볼링이 나은 거 같아', '7'],\n",
              " ['내가 스포츠를 보면서 물론 자네한테 화도 내고 짜증도 부리고 그러긴 하지', '2'],\n",
              " ['손흥민  축구도 진짜 잘하잖아  우리 지점장도 경기 다 본다더라고', '10'],\n",
              " ['오늘또 뭐  선수가 메이저리그에서 승은 결국 못 했지만 그래도 방어율은 일위라드라고', '0'],\n",
              " ['믿을만 하다라는 생각이 들지만 그분한테까지 가는 거는 무리인 것 같은데', '3'],\n",
              " ['스트레칭 종류도 같이 하면 훨씬 나을 것 같은데  어떻게 생각해', '1'],\n",
              " ['너가 보는 거랑은 또 다르지 나 혼자 하는 일에는 게으르게 되더라고', '2'],\n",
              " ['달리기야 연습하면 되는 것이고  자전거도 탈 줄  알고 수영도 하니까', '5'],\n",
              " ['하여튼 참 안 좋아 솔직히 나도 호날두  팬이었거든  나뿐만 아니라 많이들 그랬겠지', '10'],\n",
              " ['처음 시작할 때만 해도 아빠가 이렇게 길게 할 것이라고는 생각도 못 했고', '0'],\n",
              " ['역기 잘못 들어서 손을 다쳐서 병원가는 사람이 많이 있더라고', '3'],\n",
              " ['나는 골프를 이십년 전 처음 쳤는데 그 당시에는 사람들이 거의 없었어', '9'],\n",
              " ['주로 하는 운동은 걷기 정도 그런 의미에서 월요일에 같이 산행 갈까', '1'],\n",
              " ['속도를 일정하게 해 주면 거의 삼사미더 차이만 나게 되거나', '5'],\n",
              " ['또 거기서 좀 적다 싶으면 한바퀴 더 돌아주고  강도를 조절해야되는 거야', '3'],\n",
              " ['그런 상황이 이제 많이 있었는데 보면 그 야구팬들의 그 정열이 참 강한 것 같더라고요', '0'],\n",
              " ['결국에는 수영은 나는 체질이 아닌가 보다  못  하고', '0'],\n",
              " [' 안정환이 뛸 때 안정환  응 그때 당시에 많이 ', '2'],\n",
              " ['탁구는 가벼운 운동이니까  또 우리가 탁구를 제법 잘 하는 편에 속하잖아', '7'],\n",
              " ['탄성이 다르거든 하다 보면 운동이라는 것이  욕심이라는 것이 생기잖아', '2'],\n",
              " ['그래도 하여튼 나는 못 치더라도 타 구장에 갈 때는 기분은 좋더라고', '2'],\n",
              " ['그냥 생각도 안 하는 공이 날라다니고 그러니께 그런 재미도 나는 것 같어', '7'],\n",
              " ['평일 날 가면 일 안 하고 골프 치러 왔다고 엄청 뭐라고 하셨던 것 같아', '9'],\n",
              " ['나도 엊그제 야구 중계를 시청했는데  양윤정이 팔년 만에 완봉승을 했어', '0'],\n",
              " ['그래서 얼마 전에 제가 하루 종일 연습해보니까  그걸 깨닫게 되더라고요', '5'],\n",
              " ['그 사람들이 자기한테 내가 이거 사 줄게 같이 골프 칩시다 말했다고 쳐', '9'],\n",
              " ['골프나 자치기나 규칙은 유사하단 말이야  개념은 흡사하잖아', '9'],\n",
              " ['어떤 날은 내가 안 쓰던 근육을 쓰게 하는 날이 있어 처음엔 좀 아팠지', '3'],\n",
              " ['생각보다 주변에 운동하는 사람들이 별로 없더라고요 많지 않아요', '9'],\n",
              " ['주전 자리도 꿰찼고  이범호 선수의 배번까지 부여를 받았으니까 진짜 앞길이 창창하지', '0'],\n",
              " ['그게 큰 무리가 안 가고 재미도 있고 또 성부 걸고 내기하기도 좋고', '3'],\n",
              " ['근데 정말 눈꼴 시린 사람도 많아 막 배우기 시작했는에 옷 사입고 그런다고', '9'],\n",
              " ['나 혼자 음악을 들으며 걸으면  배우자가 귀에 안 좋다고 듣지 말라고 해', '1'],\n",
              " ['한번 찾아보니까 온라인이 더 저렴하긴 한데 시간이 더 걸리는 게 문제야', '5'],\n",
              " ['너는 한번 시작하면 꾸준히 할 거라고 봐 평소에도 하나를 오래 했잖아', '1'],\n",
              " ['처음에는 몇 개월 동안 헬스를 했는데 헬스는 자기 자신과의 싸움 같더라', '3'],\n",
              " ['베트남이나  다낭 이런데 가려고 하면 그쪽에서도  레저 같은 걸 찾아봐야지', '4'],\n",
              " ['난 제대로 본 적은 없어 일찍 일어나는 것도 힘들고 보는 시간이 아깝기도 하고', '1'],\n",
              " ['박성현은 흔들려도 다시 끝까지 가서 우승을 몇 번 했었지만', '0'],\n",
              " ['그 느낌하고 호흡법이 좀 같은 것 같아', '1'],\n",
              " ['부모들이 너무 열정적으로 프로 야구  프로 골프에만 치중되어 있잖아', '0'],\n",
              " ['그런 부분들 보면은 정말 이 프로의 세계는 냉정하고 냉혹하고 처절하다라는 생각이 들어', '6'],\n",
              " ['생각해 보면  우리 한화 고참급에서 이용구하고 장운호하고 아주 잘 나갔잖아', '0'],\n",
              " ['그 이외에는 여가가 없어서 이제 스포츠를 하고 있는 것은 없고', '2'],\n",
              " ['그래서 그걸 가지고 퍼티이 연습을 했던 것 같고  어프로치는 뭘 그냥 했어', '5'],\n",
              " ['진짜 생각만 해도 내가 벌써 건강해진 느낌이 든다 너가 있어서 든든하고 좋아', '1'],\n",
              " ['그다음에 두번째로를 이걸 보면은 이제 또 이 심판 프로 야구에 심판들이 있잖아', '0'],\n",
              " ['옛날에 대학교 다닐 때  친구들하고 같이 당구를 제법 많이 쳤는데', '7'],\n",
              " ['요새 기아 야구가 잘 못하더라니까 감독 바뀐 뒤로 잘 할 줄 알았더니', '4'],\n",
              " ['맞아  적당한 것이 정말 중요해 작년에 건강검진을 받았었는데', '0'],\n",
              " ['어떻게 너는 또 가족들하고 같이 다닐 생각을 했어 우리 집은 못 해', '9'],\n",
              " ['지금 우리가 당구장에 매주 두번 씩 만나서  당구를 재미있게 치고 있잖아', '7'],\n",
              " ['그것도 되게 좋고 어쨌든 그런 거지 뭐 또 최근에는 골프도 많이 뜨는 것 같더라고', '0'],\n",
              " ['물론 나이는 저보다 어리지만 이제 그렇게 해서 열심히 하라고 하고 나왔었던 적이 있거든요', '9'],\n",
              " ['다음에 연습장에 같이 가면 내가 하는 방법을 한번 가르쳐 줄게', '5'],\n",
              " ['화면 틀어져 있는 거 보고  얘기하고 그러는데 그때마다 할 말이 없더라고', '7'],\n",
              " ['나는 최대한 몸을 늘리는 동작이 가능하니까  이게 되게 시원하더라고', '1'],\n",
              " ['우리 옛날 사람들은 운동을 많이 좋아 안 하니까  당구나 볼링을 쳐 봤겠어', '7'],\n",
              " ['타선 타율 홈런 순위 이런 거 다 외울 정도로 좋아했었는데  지금은 일부러 안 봐', '0'],\n",
              " ['아니면 동호회 들어가서 같이 쳐도 되고 시간에 얽매이지 않을 수 있잖아', '5'],\n",
              " ['나는 그걸 해 보니까 육신이 다 아프고 그렇던데 너는 해 보니까 어때', '3'],\n",
              " ['줌바  그다음엔 스쿼시 이제 수영이 그다음인데 사실 일순위는 자전거지', '5'],\n",
              " ['심장이 좀 강하고 멘탈도 강해야 하는데  나도 약해서 힘들긴 했어요', '1'],\n",
              " ['그 정도로 박항서가 베트남에서 최고의 인기를 끌고 있더라고', '4'],\n",
              " ['그니까 요새 테니스는 내가 어깨 아파서 못 하니까 정말 너무 아쉬운 거 같아', '3'],\n",
              " [' 경험했던 스포츠 중에 제일 기억에 남는 것이 있니', '2'],\n",
              " ['우리 사무실 앞에 아는 사람이 한달 정도 배웠는데 살이 엄청 빠졌어', '3'],\n",
              " ['특히 이강인 선수가 세계적으로 명성을 떨치고 해서 참 대단하다고 생각하네', '10'],\n",
              " ['나는 이게 탁구를 못 쳐서 자신감이 없어', '1'],\n",
              " ['그런데 사실 생각해 보면  당구는 그렇게 우리가 정신운동이라고 말할 수는 없어', '7'],\n",
              " ['혹시 이놈들이 우리나라 애들한테만 방사능 노출된 음식을 먹이지 않을까', '10'],\n",
              " ['나는 필라테스를 저번에 티비에서 한번 봤거든 요가보다는 덜 어렵고', '6'],\n",
              " ['그래서 한번은 다른 사람과 같이 자전거를 타러 갔대  갔는데', '5'],\n",
              " ['너 약속 많다며  근데 갈 수 있는 거야 나도 요즘 약속도 있고 그렇거든', '10'],\n",
              " ['음악에 맞춰서 각종 춤 동작이 다 나오기 때문에 너무 재미있어요', '2'],\n",
              " ['저는 그걸로도 참 굉장히 감사해 제가 건강하니까 운동도 하는 거잖아요', '1'],\n",
              " ['야구팬의 한사람으로서 또 이쪽 프랜차이즈인 기아가 후반기에 좋은 모습을 보여줬으면 좋겠어', '0'],\n",
              " ['지금 오로지 골프만 생각하니까 우리 주위에 보면 진짜 운동할 게 많거든', '9'],\n",
              " ['그래서 골프를 배워 볼까 하고 있는데  어때  한번 골프 배워볼래', '9'],\n",
              " ['사실 아빠한테 얘기는 안 했는데 지금 팔을 이렇게 세우는 게 안되더라고', '9'],\n",
              " ['좀 원정이든  홈 선수든 좋아하는 야구선수는 다들 있으니까 그래서 그렇게 하는 거지', '0'],\n",
              " ['동네 형들한테 어렸을 때  배운 건데  그렇게  수영은 잘 해', '2'],\n",
              " ['축구나 야구를  보려고 하면  경기를 다 보고 있어야 되는 거야', '6'],\n",
              " ['내가 저녁에 따로 다니고  또 자네 운동 한다고 하면 따라가고 하잖아요', '8'],\n",
              " ['결국은 못가더라고요 그래서 지금 올해 이제 또 에프에이가 될 김선빈 선수가 있잖아요', '0'],\n",
              " ['요즘 친구는 앞으로 이런 스포츠니 운동을 해 보고 싶다는 계획이 있어', '9'],\n",
              " ['보면 이제 자기가 응원하는 팀이 이기면 좋고 또 지면 또 스트레스받고 그러잖아요', '2'],\n",
              " ['볼링은 그다지 돈이 많이 들어가는 운동도 아니고 둘이 가서 쳐도 되잖아', '7'],\n",
              " ['작년에는 우리가 거의 팔회 그때 역전을 하는 야구를 했었다는 말이야', '0'],\n",
              " ['근데 라켓을 샀는데도 남는 시간이 없어서 탁구를 안 치게 되더라고', '1'],\n",
              " ['그래서 너한테도 추천하는 거야 저번에 아팠을 때에도 마음이 안 좋았어', '9'],\n",
              " ['꼭 햇볕을 보는 운동을 하라고 하는데  네시간 동안 보는 것이 좀 그렇잖아', '1'],\n",
              " ['근데 메시는 우리나라에 와서 상당히 성실하게 그때 와서 인터뷰도 해 줬던데', '10'],\n",
              " ['열심히 하다 보면 또 상위권에 오르지 않겠는가  기대해보자고', '0'],\n",
              " ['경제적인 요건으로 자살하는 사람이 많으니까  스포츠도 격차가 있잖아', '9'],\n",
              " ['그런데 류현진은 점수를 한점을 주더라도 다저스에서는 두세점을 내줬잖아', '0'],\n",
              " ['오늘 이렇게 대화를 나누어 보니까  스포쯔에 대한 관점이나', '9'],\n",
              " ['그래서 더 깨끗하고 올바른 스포츠계로 바꾸어 나가게 되면 좋지 않을까 싶어 나는', '4'],\n",
              " ['그다음해 이천 십팔년도에 그거를 이어서 기세를 갖고 가야 되는데  그렇지를 못했어요', '5'],\n",
              " ['이제 거기에 관여를 하고 관심을 갖다 보면 시간이 참 빨리 갔던 그런 기억이 있어요', '0'],\n",
              " ['맨날 안 좋은 선수 데리고 와서  우수한 선수들이 들어와야 성적도 오르지', '0'],\n",
              " ['근데 그래도 볼링은 부부끼리 같이 했던 취미였으니까 계속하면 좋을 거 같아', '7'],\n",
              " ['아침마다 우리 같이 갈 수 있겠다 내가 가는 길에 니네 집 갱유해서 갈게', '1'],\n",
              " ['아직까지 마음에 와닿지는 않아서 막상 선택하기는 참 힘들어', '1'],\n",
              " ['어 운동은 많이 했지  것은 아니고 당구나 볼링 야구 ', '7'],\n",
              " ['나 요즘 다른 사람들이랑 운동장 가서 트랙 다섯바퀴 돌고 있거든', '8'],\n",
              " ['그러니까  운동을 할 때는 항상 자기 몸에 맞게  그리고 나이에 맞게', '9'],\n",
              " ['공중에 막 이렇게 천에서 날아다니는 게 필라테스야 그 우리집 앞에 광고하던데', '1'],\n",
              " ['그런데 보니까 뉘우치는 기색이 없이 나도 그 기사를 보니까 엄청 화나더라고', '0'],\n",
              " ['아무튼 기아에서도 그 공로를 인정을 해 주고 마지막으로 은퇴식을 해줬으니 참 대단한 거지', '0'],\n",
              " ['아니면 스크린 골프  스크린  경우는 좀 배울만하던데', '9'],\n",
              " ['나는 아직은 시간이 그렇게 많지 않기 때문에 이것저것 운동을 할 수가 없어', '1'],\n",
              " ['자네는 항상 좋은 생각을 하지 스포츠랑 나름 깊은 생각을 하는 건 알아', '2'],\n",
              " ['우리 정말 끝까지 포기하지 않고 이 운동은 끈기 있게 평생 동안 해보자', '1'],\n",
              " ['너가 옆에서 나한테 맞는 운동도 추천해주고 좋은 점을 얘기해줘서 좋아', '9'],\n",
              " ['나도 그 생각은 해 우리가 걷기만 하니까 다리 운동이 안 되는 것 같아', '3'],\n",
              " ['갖추고 왔는데 둘레길을 걷기는 좀 싫었나 봐  장비가 있으니까', '8'],\n",
              " [' 이제 주전으로 야구선수 생활을 하다가 프로에서 마무리까지 하면 얼마나 좋아', '0'],\n",
              " ['근데 또 그런건 있어요 이게 운동을 떠나서 게임이라고 인식되기도 해요', '2'],\n",
              " ['나는 운동이라 생각 안 했지만  계속 서서 걸어 다니면서 집중을 하니까', '8'],\n",
              " ['우리가 예약하는 사람들한테 돈을 주니까  오후에 올라와서 또 쳤던 거죠', '1'],\n",
              " ['등산은 엄마가 워낙에 이제 도봉산 같은 데는 거의  거기서 살다시피 했잖아', '8'],\n",
              " ['내가 많이 아프고 나서 생각하니까 이제껏 내가 잘못  것 같았어', '3'],\n",
              " [' 직장 동료들하고도 당구 같은 거 쳐 보고 싶었고', '7'],\n",
              " ['이렇게 얘기하다 보면 또 좋은 방법이 생기기도 하고 그러는 것 같아', '7'],\n",
              " ['운동만 한다 해서 건강을 지킬 수가 없어 그러니까 먹는 것도 중요하단 말이야', '1'],\n",
              " ['그런데 사실 생각해 보면  당구는 그렇게 우리가 전신운동이라고 말할 수 없어', '7'],\n",
              " ['골프가 나이를 먹더라도 모든 사람하고 즐길 수 있는 운동인 것 같아요', '9'],\n",
              " ['그래서 아마 그런 시너지 효과가 더 많이 나오지 않나 그런 생각도 들더라고 나는', '1'],\n",
              " ['그러면서 같이 다니는 사람들이 길게 보고 다니라고 그런 얘기를 하더라고', '8'],\n",
              " ['체력이 받쳐주질 않아서  그 후로는  되도록이면 들 움직이는 운동을 하려고 해', '1'],\n",
              " ['어떤 병원에 가니까 몸이 많이 차다고 해서 수영도 생각해봐야 될 것 같고', '3'],\n",
              " ['제가 진짜  댄스를 해 보니까 산행을 해도 이렇게 머리에 땀이 안 나요', '1'],\n",
              " ['그런데 레저 스포츠는 너무 힘들고 나이 먹어서 할 것이 아니더라고', '9'],\n",
              " ['지금은 레저 스포츠라 하고 춤을 춰도 댄스 스포츠라고 하니까', '2'],\n",
              " ['어디 한번 주차하기 좋은 데 찾아봐서 그런 멀티 스포츠 센터로 가자고', '2'],\n",
              " ['먼저번에  축구할 때 티비에 뭐였더라 요번에 누구 축구 선수 나왔잖아', '6'],\n",
              " ['나도 그러니까 그렇게 내 몸을 관리하고 있다고 당신이 봐줬으면 좋겠고', '1'],\n",
              " ['그거 또 엄마도 타고 다니면 아무래도 운동이 좀 되니까 살도 좀 빠지면 좋겠다', '8'],\n",
              " ['볼링 했을 때는 어땠니 체형이나  재미있었던 것 같은데', '7'],\n",
              " ['자기 자신을 위해서 굉장히 투자 많이 하고 있는데  그런 건 좋은 생각이야', '1'],\n",
              " ['마찬가지로 게임을 하면 막  싶어 그러니까 또 재밌는 것 같아', '2'],\n",
              " ['몇 명이서 어디로 갔었는지 누가 이겼는지 얘기하는 데만 서너시간 걸려요', '7'],\n",
              " ['그러니까 지금 남녀노소 등산   등 안하는 운동이 없는 것 같더라고', '8'],\n",
              " ['내 실력이 조금씩 느는 거 같지 않아', '5'],\n",
              " ['당구를 치면 이기고 싶어가지고  밤새고  수업 빼먹고 그저 ', '7'],\n",
              " ['친구 조언대로 다시 생각해 보니까  제가 자기화를 못 시켰던 것 같아요', '9'],\n",
              " ['류현진도 거기서 그만두면  우리 한화로 돌아올 거라고 나는 믿고 있어', '0'],\n",
              " ['그것도 연습을 좀 많이 해야겠더라고', '5'],\n",
              " ['유도도 그런 것 같아서 남자들이 좀 더 분발해야 되겠다 그런 생각이 들었어', '10'],\n",
              " ['많이 쳤는데 이제 나이가 있으니까 배드민턴은 이렇게 뛰어야 하거든', '9'],\n",
              " ['나이 더 먹기 전에 몸이 더 굳으면 더 몬하니까 친구들이랑 같이 하니 좋아', '9'],\n",
              " ['평소에 계속 다니다 보니까 몸이 좋아져 그래서 운동으로 단련을 시켜야 돼', '8'],\n",
              " ['또 내가 배워보니까 몬하면 몬하는 대로 배우는 맛이 있어서 괜찮더라고', '9'],\n",
              " ['거기서 우리나라가 이겨 가지고 그 중학생이 막 눈 동그랗게 뜨고 놀래고 그러더라고', '10'],\n",
              " ['세계 상금 랭킹 일위가 우리나라 선수고  그리고 다승 일위도 우리나라 선수야', '10'],\n",
              " ['아까 자네가 요가 이야기했는데 나도 요가를 한번 배워 봐야 될 것 같아', '3'],\n",
              " ['나도 이용구 좋아했어 장운호 못지 않게  우리 한화를 위해 열심히 해줬지', '0'],\n",
              " ['노을은 일주일에 한 두 번 요즘에는 계속 안 오던데 계속', '3'],\n",
              " ['직접적으로    탁구도 많이 쳤던 거 같아요', '9'],\n",
              " ['그 선수가 예전에  거기에 나왔었더라고', '0'],\n",
              " ['체력이 받쳐주질 않아서  그 후로는 되도록이면 덜 움직이는 운동을 하려고 해', '1'],\n",
              " ['내가 생각하는 가장 멋진 경험이라고 하면 패려글라이딩일 것 같은데', '2'],\n",
              " ['나는 평일 날 운동을 많이 하니까 휴일 때 다른 일 없으면 쉬는 시간이 많지', '8'],\n",
              " ['등산도 다녀봐야지 하면 등산도 한달에 한번 갔다 올까 말까였던 것 같아', '8'],\n",
              " ['지금은 게임도  있고', '2'],\n",
              " ['집이는 그렇구나 나는 탁구를 치다 보면은 여러 사람의 성격이 다 틀리잖아', '9'],\n",
              " ['그냥 오직 운동을 계속 하는 것밖에 없어 시간 맞춰서 운동을 가야돼', '1'],\n",
              " ['들고 다니려면 무거워서 어떡해 그거 들고 나가면 버스도 타야지 지하철 타야 되는데', '8'],\n",
              " ['몸 더 굳기 전에 요가를  보면 온몸이  되고 하면서 좋으니까', '1'],\n",
              " ['골프 스윙은 고정되어 있는 채를 맞추는 운동이라 조금 달라요', '9'],\n",
              " ['그런데 연습을 한시간 정도 하면서 교정을 하니깐 ', '5'],\n",
              " ['외국인 선수들이 굉장히 부진을 면치 못하고 또 거기에 따라서 성적이 부진하게 됐잖아', '0'],\n",
              " ['남은 선수들한테도 하나하나 마지막 송별식 하면서  불러주면서 그렇게 했던 게 기억나드라고', '0'],\n",
              " ['저추고 왔는데 둘렛길을 걷기는 좀 싫었나 봐 등산 장비가 있으니까', '8'],\n",
              " ['그러니까 그냥  왔다 갔다 하면서 내가 그냥 시간 정리만 잘 하면 괜찮을 것 같아', '1'],\n",
              " ['그래서 좀 보고 굉장히 기억에 남는 은퇴 경기가 아니었나  그런 생각이 들더라고요', '0'],\n",
              " ['그 선수가 예전에 티비에 축구  프로그램  거기에 나왔었더라고', '6'],\n",
              " ['그냥 지금은 한밤 중에 한시간이고 두시간이고 걸을 수 있을 정도가 됐어', '1'],\n",
              " ['에이스에서 한 번 치자고 들어오라고 해도 내가 잘 안 들어가는 편이거든요', '0'],\n",
              " ['왜냐하면 가면 매일 지고 또 재미가 없고 여러 가지 상황 있겠지마는 첫번째가 그거야', '7'],\n",
              " ['진짜 시합을 할 때 빽 서브도 좋지만 화 서브도 놓고 그치', '5'],\n",
              " ['그래서 외국으로 많이 나갈 수 있도록 국가 시책으로 그런 걸 하면 좋겠네', '10'],\n",
              " ['그래서 그냥 말없이 내 맘대로 수영복이랑 필요한 물품 다 사서 보냈어', '1'],\n",
              " ['그래서 요즘은 그런 식으로 하고 있고 또 뭐 할 얘기가 있어', '9'],\n",
              " ['그리고 이제 와서 다시 결국은 그 선수가 이제 조금씩 그나마 경기력이 받쳐주고 하더라고', '0'],\n",
              " ['우리가 둘 다 그런 성향은 아니니까 일단은 결정을 내리는 게 좋을 거 같아', '0'],\n",
              " ['피겨 스케이팅의 여왕  김연아 선수도 우리나라 선수인데 세계 일위 아니냐', '10'],\n",
              " ['자기 관리를 엄청 열심히 하고  또 그 환경을 지켜 나갈 수 있는 힘이 있다는 거잖아', '1'],\n",
              " ['꼭 햇빛을 보는 운동을 하라고 그러는데  네시간 동안 보는 것이 좀 그렇잖아', '3'],\n",
              " ['네가 아까 서창에서 자전거를 대여해서  그곳에서 운동 한다고 그랬잖아', '5'],\n",
              " ['너가 나랑 같이 운동해서 건강해진다고 하면 나는 더할 나위 없이 좋아', '1'],\n",
              " [' 어느 정도 근력 운동도 할 수 있는 수준으로 해달라고 했어', '3'],\n",
              " ['왜냐하면 아까 구슬이가 얘기했듯이  의 모든 게 감독 탓은 아니거든', '4'],\n",
              " ['보통 두세시간 산 타는 곳은 일반 등산화 신고도 충분히 갈 수 있어', '8'],\n",
              " ['그러면 우리 둘 다 자전거를 사서 운동을 다니는 게 제일 좋을 것 같아', '8'],\n",
              " ['나중에 노후에 좋지 않겠어 너 탁구 잘 치니까 게이트볼만 하지 말아', '9'],\n",
              " ['근데 야구는 우리도 할 수는 있는데  축구는 했다가 잘 못 넘어지면 큰일 나', '6'],\n",
              " ['그래서 수영도 지금 치료를 해서 몸이 낫고 나면 그에 맞춰서 해야겠어', '3'],\n",
              " ['야구를 통해서 뭐 또 야구만을 했지만 그 인생을 참 잘 살았다 라는 생각이 들더라고요', '0'],\n",
              " ['천천히 걷는 것도 괜찮은데 일단 수영도 좋고 근력도 키워야 되겠지', '3'],\n",
              " ['사람들 보면 무리하게 근력운동을 한다고 ', '3'],\n",
              " ['축구나 야구를 경기로 보려고 하면  처음부터 경기를 다 보고 있어야 되는 거야', '6'],\n",
              " ['그래서 그 사람이 그렇게 한 마디 했구만 나은이 이동국이가 나은이를', '10'],\n",
              " ['차범근이 후배들을 많이 키워서 우리나라에 정말 좋은 선수들이 많이 나왔지', '10'],\n",
              " ['그렇게 못하는 나라는 우리나라 처음 봤네 육십 사대 영이라고 하데', '6'],\n",
              " ['그런데 폴 댄스는 옷을 벗고 해야 되잖아 맨살로 운동하는 게 우습더라고', '1'],\n",
              " ['그래서 그냥 말없이 내 맘대로 수영복이랑 필료한 물품 다 사서 보냈어', '1'],\n",
              " ['그리고 또 그중에서도 이제 나이 어린 나래가 별명이 막내 형이라고 하는 것 같더라고', '10'],\n",
              " ['나한테도 수요일에 아무 때나 시간 나면 아침 일찍 오기만 하면 된다는데', '1'],\n",
              " ['필료하다고도 생각은 했지만 바쁘다는 핑계로 항상 일이 먼저라고 말했었어', '1'],\n",
              " ['서로 이기려고 막 이렇게 눈을 아주 저기를 해싸 갖어', '2'],\n",
              " ['그리고 자기는 업무 시간이 조금 불규칙하다 보니까 일찍 끝날 때도 있잖아', '8'],\n",
              " ['나이를 먹다 보니까 비지니스보다도 친구들하고 얘기하면 골프 얘기가 나와요', '9'],\n",
              " ['그런데 우리나라는 보면 확실히 스포츠에서는 여자들이 더 잘 하는 것 같아', '10'],\n",
              " ['선생님이 옆에서 잡아줘서 천천히 걸었는데 그렇게라도 걸어야 하는데 말이야', '3'],\n",
              " ['볼을 던지는 것에 있어서 스피드는 썩 빠르지 않은데 기술이 엄청 좋잖아요', '0'],\n",
              " ['그래서 나도 탁구장에 가서 친구를 만나고 인제 친구도 생기고', '7'],\n",
              " ['왜 그릏게 하는지 모르겠어 몸 근강할려고 운동을 시작해놓고 말이야', '7'],\n",
              " ['그 문신을 새기면 이제 다른 사람한테 헌혈을 할 수가 없어서  문신을 안 새긴다더라고', '10'],\n",
              " ['처음 배울 때는 물속에서 한시간 하고 나오니까 몸이 천근만근이더라고', '1'],\n",
              " ['무슨 말이야 수영 할 수 있어 왜 그만두려고 해  이러는 거야', '1'],\n",
              " ['특히 너도 건강이 안 좋으니까 그것 때문에 운동을 적극적으로 추천하고 싶어', '3'],\n",
              " ['거기다가 그다음에  엠브이피에 그렇게 다 잘 나갔는데 올해도 그런 기대를 했었지', '0'],\n",
              " ['우리 올라가 보니까  등산도 얼마나 상쾌하고 좋은 운동인지 알겠더라고', '8'],\n",
              " ['어라 근데 저기 지나가는 사람 한명 저기 씽씽이 타고 인도로 훅 지나갔다', '5'],\n",
              " ['하여간 그냥 있는 것 보다도 뭐라고 해야해 골프를 치든  수영을 하든', '9'],\n",
              " ['그러면 도구는 이렇게 비싼 게 아니어도 되겠다  이런 요령이 생기잖아', '7'],\n",
              " ['우리 다음 주 월요일 날 제주도 가려면  미리 운동 좀 해야 되는 거 아니야', '5'],\n",
              " ['그러니까 이십승까지 갔으면 좋겠고  또 월드시리즈  챔피언쉽에 가면 좋겠어', '0'],\n",
              " ['차라리 당구를 한번 씩 그냥 재미 삼아 쳐도 몸 전체적으로 운동이 되거든', '7'],\n",
              " ['나로 인해서 너가  시작하고  건강해진다는 게 정말 좋은 것 같아', '1'],\n",
              " ['그러게 내가 수영 배우라 그랬잖아 당신만 수영을 못 하니까 돈이 ', '9'],\n",
              " ['직원들하고 같이 모여서 볼링 하는 건 하다 보니까 분위기도 굉장히 좋아지고', '7'],\n",
              " ['참 생각해보면 손흥민도 우리나라를 위해서 경기를 열심히 뛰는 사람이야', '6'],\n",
              " ['사람들이 많이 운동을 한다고는 하지만  정보를 모르는 사람도 많고', '9'],\n",
              " ['한시간쯤 지나니까 얼굴이 벌게져서 들어왔네 그러더니 스퀘트를 했대', '1'],\n",
              " ['꼭 햇빛을 보는 운동을 하라고 하는데  네시간 동안 보는 것이 좀 그렇잖아', '1'],\n",
              " ['객관적으로 스포츠라는 게 어트케 보면 실적이야 숫자가 다 뜨니까', '2'],\n",
              " ['역시 마찬가지야 나도 그 보미한테 배우고 싶은데', '7'],\n",
              " ['그리고 집에서 가볍게 탁구 조금씩 치는 것까지 해서  도움이 많이 돼', '9'],\n",
              " ['운동을 하려고 노력을 해야 될 것 같아요 네 실천을 해야겠죠', '1'],\n",
              " ['올해는 아마 진짜 대박을 날 줄 알았는데 뜻밖에 올해는 작년보다 성적이 안 나오더라고', '0'],\n",
              " ['우리가 학교에서 지금 방과후 수업을 하거든 거기에서도 스포츠가 있어', '2'],\n",
              " ['내가 그때 다솜하고 같이 갔더니  걔는 수영 자세도 좋고 참 잘하더라고', '3'],\n",
              " ['이달부터 수영 시작해 봐 우리 나이 때는 수영만 한 운동이 없는 것 같아', '9'],\n",
              " ['거꾸로 살았는데 건강 진단을 받았더니 골다공증 검사로 연결을 해줬어', '1'],\n",
              " ['요즘 팬들이 승패를 굳이 따지진 않는 거 같아요 물론 아무리  안 따져도 이제 이기먼 좋지', '2'],\n",
              " ['나가서 운동을 하고 들어와야 해 꼭 한시간을 하고 와야 되니까', '1'],\n",
              " ['진심으로 팬으로서 진짜 그냥 일반적인 마음이 아니라 그런 얘기를 좀 전하고 싶어', '9'],\n",
              " ['그걸 보면 이 사람들이 있기 때문에 우리 한국이 이름을 떨친 거 아니냐 싶고', '10'],\n",
              " ['그러니까 애들도 절대 당신한테 그걸 배우라고 적극적으로 권하지 않잖아', '9'],\n",
              " ['앞으로 건강한 미래를 위해 신경을 쓰자고 야구에 너무  받지 말고', '0'],\n",
              " [' 그런 것도 운동 하면은 재밌기는 하지 일단 우리는 지금 너 쉬고 있을 때 정해야지', '2'],\n",
              " ['그런 분들이 함께하시는 모습 이르케 보믄 너무 부럽더라고요', '10'],\n",
              " ['베트남에서 온 국민 중에 박항서를 사랑하지 않는 사람이 없다는 거야', '4'],\n",
              " ['골프도 골프 교실에서 기초부터 천천히 배우고 많이 걷는 운동이기도 하니까', '9'],\n",
              " ['맞아  적당한 것이 정말 중요해 작년에 건강진단을 받았는데', '0'],\n",
              " ['그냥 바닷가도 좋고 산악도 괜찮고 액티비티하게 그것도 한번 해 봤으면 좋겠는데', '1'],\n",
              " ['그래서 나도 이제는 시간날 때 등산을 갈까 집 근처에 마니산이 있거든', '8'],\n",
              " ['취미가 같다는 게 좋은 거 같아 우리는 나이 들어서 할 수 있는 게 볼링이었어', '7'],\n",
              " ['나도 이용구 좋아했어 장운호 못지않게  우리 한화를 위해서 열심히 해줬지', '0'],\n",
              " ['골프는 나 혼자 하는 거니까 부담이 없는데 팀으로 하는 스포츠는 부담돼요', '9'],\n",
              " ['그리고 그게 작은 공으로 하는 스포츠지만 라켓 하나로 세계를 제패할 수 있잖아', '10'],\n",
              " [' 어느 운동을 해도  마찬가지고', '2'],\n",
              " ['한국에 와서  한국 프로 축구팀하고 한 경기 원래는  있었대', '0'],\n",
              " ['잘 하는데 그래서 내가 그 사람한테 물어봤어', '9'],\n",
              " ['그랬는데 요즘에는 이게 교통 사고 난 이후로 무릎이 너무 안 좋아져서 못 가고 있지', '3'],\n",
              " ['요가 같은 것이랑 나랑 같이 다니면서 좀 하지 남자들도 하면 그게 좋아', '8'],\n",
              " ['손흥민이 이렇다 호날두하고 비교된다 하는 것 보니까  보기 좋더라고', '10'],\n",
              " ['아차산은 근데 하나 또 문제가 있는 게 거기가 가다 보면 죄다 아파트 길이잖아', '5'],\n",
              " ['아무튼 수영을 하면서 삶의 활력소가 되는 거 같아 하기를 너무 잘 한 것 같아', '2'],\n",
              " ['또 그런 걸 보면 감독이 다 잘하고 있다라는 생각을 하게 되더라고', '4'],\n",
              " ['내 건강을 위해서 한다고 나는 그렇게 생각하는데 당신은 너무 몰립을 하잖아', '1'],\n",
              " ['우리가 골프도 얘기했으니까 우리나라가 제일 잘하는 양궁 한번 얘기해보자', '9'],\n",
              " ['올림픽은 재밌거든 스포츠 중에 제일 재미있어  왜냐하면 종목이 많잖아', '2'],\n",
              " ['그래서 그냥 말없이 내 맘대로 수영복이랑  물품 다 사서 보냈어', '1'],\n",
              " ['그런데 결혼한 애들이 부모 뒷바라지까지 얘기를 한다고 그걸 하겠어 안 하지', '4'],\n",
              " ['박지성이 히딩크를 안 만났으면  맨유의 박지성은 존재하지 않았겠지', '4'],\n",
              " ['저녁 시간이든 언제가 됐든 시간을 할애해 가지고 운동을 해야 돼요', '1'],\n",
              " ['대학교 다닐 때는 야구를 진짜 좋아했었어 그래서 야구  이름도 다 외우고', '0'],\n",
              " ['그렇게 안 하면 돈을 잃으니까  사람들이 생존 게임이라고 말하더라고', '2'],\n",
              " ['프로로 이제 주전으로 야구선수 생활을 하다가  마무리까지 하면 얼마나 좋아', '0'],\n",
              " ['저녁에 퇴근하고 오면 비가 오나 눈이 오나 운동장을 한시간을 돌아', '8'],\n",
              " ['당신도 옛날에 축구 못 한 꿈이 있잖아 그래서 애들한테 시키고 싶어 하는 거잖아', '6'],\n",
              " ['물론 보편화 됐고 대중화 됐지 지금도 내 주위에 골프 치는 사람들이 많이 있어', '9'],\n",
              " ['그리고 이것저것 신경 써서 아까 당신이 얘기한 것처럼 수영도 배워야지', '7'],\n",
              " ['그렇게 바꾸려고 노력하다 보면 그런 것도 역사가 되겠지 뭐 나도 그 생각에는 동감이야', '4'],\n",
              " ['그래 아크로바틱 수영장에서 그 하는 거 구경 했는데 운동이 많이 되겠더라고', '2'],\n",
              " ['허리에는 차분한 운동 천천히 하는 운동이 좋다고 하더라고', '3'],\n",
              " ['전에 우리 수영선수권 대회 가서 더워서 혼났네 선수들이 수구를 하는데', '10'],\n",
              " ['어떤 날에는 어프로치가 좀 안 돼서 까먹고  퍼팅이 안 되기도 하고 그래', '5'],\n",
              " ['그런데 처음부터 골프 치면 스트레스를 정말 많이 받는다고 하더라고', '9'],\n",
              " ['지금 보면 계속 골프 얘기만 하잖아 골프  골프  골프  계속 얘기하잖아', '9'],\n",
              " ['내가 끈기도 없어서 그렇지만 근력운동은 나이가 젊었을 때 하면', '3'],\n",
              " ['그냥 나 나름대로 운동도 하고 건강 거시기도 관리도 하고 그라거든', '3'],\n",
              " ['내가 스스로한테 약속한 거를 꼭 지키고 싶었는데 그럴 수 있을 것 같아', '10'],\n",
              " ['그래도 나는 당신이 좀 더 시간을 두고 다른 스포츠를 했으면 좋겠어', '2'],\n",
              " [' 우리 안 간다고 뭐 하러 가냐고 이렇게 해서 일본에 강경하게 나가면 좋겠지만 어렵지', '1'],\n",
              " ['나머지는 계단 걸어 다니고 우리 막둥이 아침저녁 운동시키면서 걷고', '8'],\n",
              " ['그런데 평상시에 활동을 하고 그러면 움직임이 있으니까 움직임이 늘잖아요', '8'],\n",
              " [' 조금 더 강도를 높이면 더 빨리 오르겠지만 거기 상당히 가파르거든  ', '1'],\n",
              " ['근데 요새는 남자 배구도 여자 배구 못지 않게 또 엄청 잘하는 것 같아', '10'],\n",
              " ['헬스도 삼개월 등록해놓고 막상 한 열흘도 안 나간 것 같아 너무 힘들었어', '3'],\n",
              " ['한 번 나가 보고 싶고 탁구로 그래서 이제 어느 정도 내 실력이 되는지', '7'],\n",
              " ['히딩크 감독 밑에 배워서 가지고  그냥 체력 키우고 지구력 키워서 나간 거였어', '4'],\n",
              " ['왜냐하면 우리 배우자가 운동광이잖아 운동을 안 하면 게으르다고 생각하고', '1'],\n",
              " ['이제 막 그런 생각 하는데 우리 동네는 그래도 운동하기는 참 좋잖아', '1'],\n",
              " ['그러니까 이제 스포츠들이 삼십년 전과는 차이가 나게 된 것이지', '0'],\n",
              " ['한달 동안 쉬었는데 한달만에 모임에 한번 나갔는데 정말 덥더라', '8'],\n",
              " ['도대체 김태균이라든지 고참급 선수들은 연봉만 높고 잘 몬하는 거 같아', '10'],\n",
              " ['그러니까 일부러 시간 맞춰서 하는 것도 좋지만 일상처럼 시간을 할애해야 돼요', '5'],\n",
              " ['아니면 다른 포지션에 가서 이 부분을 이렇게 했으면 좋겠다고 대입을 하는 거야', '0'],\n",
              " ['야구는 그 아픈 추억 때문에  지금은 안 해  나랑은 맞지 않는 것 같으니까', '0'],\n",
              " ['나는 그렇게 생각하는데 다른 사람들은 어떻게 생각하는지 모르겠네', '9'],\n",
              " ['그리고 이것저것 신경 써서 아까 당신이  것처럼 수영도 배워야지', '9'],\n",
              " ['남은 선수들한테도 하나하나 마지막 송별식 하면서 불러주면서  했던 게 기억나더라고', '0'],\n",
              " ['왜냐하면 에이스에서 치는 사람들 이렇게 보면 너무 삭막혀', '0'],\n",
              " ['너처럼 나도 하루를 조금 더 부지런하게 살면서 보람을 느끼고 싶어', '5'],\n",
              " ['어 근데 예전엔 저도 요가 운동을 해 봤어요', '1'],\n",
              " ['그리고 나는 감독 바꾸자는 이야기하는 우리 팬들 보면 좀 안타까운 거야', '4'],\n",
              " ['나는 골프를 못 치니까 좀 그런데  너도 직접하는 것보다 구경하는 편이잖아', '9'],\n",
              " ['우리 나이대는 진짜 운동이 절실하게 필요한 것 같아 열심히 해보자', '1'],\n",
              " ['근데 우리 한화 애들이 장은원 제외하고  근성이 없어졌다고 생각 해', '10'],\n",
              " ['한국 사람들은 등산으로 겨울 산에  장비가 완전 에레베스트 급이라고', '8'],\n",
              " ['그래서 내가 운동한다고 생각을 하고  어떻게 보면 경기에 이입을 하는 거지', '6'],\n",
              " ['엄마가 하고 싶어서 같이 하자고 한 것이 정말 가족 스포츠가 되었잖아', '2'],\n",
              " ['산을 간다고 해서 꼭 비싼 아웃도어 의류  등산화는 굳이 필요 없어', '8'],\n",
              " ['헤엄을 이렇게 치는 게  수영을 할 때 더 빨리 배우는 거 같기는 하더라고', '9'],\n",
              " ['근데 그건 그 이상도  이하도 아닌 거고 그냥 잘 하면 좋고 못 하면 못 하는 거고', '2'],\n",
              " ['나이 드신 분들이 전부였어서  젊은 사람들이 들어가면 욕먹고 그랬어', '7'],\n",
              " ['그래서 그때 운동을 많이  가지구 몸에 제법 다친 데가 많아', '1'],\n",
              " ['지금 우리 나이 때가 제일 바쁜 거 같더라고 애들 다 키우고 시간이 많잖아', '1'],\n",
              " ['스포츠에 대한 인식도 달라지고  접근도 달라지게 되는 것이잖아', '2'],\n",
              " ['동아리를 이렇게', '10'],\n",
              " ['걔네들이 또 우리나라에 돈을 많이 벌어다 갖다 주는 것 같거든', '10'],\n",
              " ['탁구도 그냥 전신 운동 한다고 생각하면  가벼운 운동이 돼서 좋을 것 같아', '7'],\n",
              " ['예전에 운동했던 거는 야구인데 야구를 처음에 밤낫으로 많이 했어', '0'],\n",
              " ['친구는 내가 이러게 같이 난타를 쳐 봤어', '7'],\n",
              " ['내가 계속 받아 주니까  탁구도 제법 잘 쳐 이제 서로 사이도 좋아지고', '9'],\n",
              " ['결국은 하락의 그런 길을 걷고 근데 결국은 리빌딩 하면서 우승을 하고 상승세를 탔지', '0'],\n",
              " ['지금 그래서 백개는 안 넘지만  바디플레이 할 수 있는 데로 내려왔어요', '10'],\n",
              " ['괜히 짜고 치는 거 같아서  그래서 이것들하고 다시는 당구를 치지 말아야지', '7'],\n",
              " ['나도 옛날같이 여러 게임하고  이렇게는 못 하겠더라고 한두게임이 딱 좋아', '2'],\n",
              " ['그래서 지금은 스스로 운동을 꾸준히 해야 된다는 게 습관이 되어 버렸어', '1'],\n",
              " ['같이 일 선발이 나와서 이렇게 게임을 했는데  하고  시작할 때 비가 엄청 오는거 야', '2'],\n",
              " ['우리는 호날두를 보려고 티켓을 사고 돈을 내고 갔는데  아무 해명도 없이', '10'],\n",
              " ['이거를 역학적으로 공부를 하고  연구한다고 되는 게 아닌 것 같았어요', '9'],\n",
              " ['난 지금까지 수영을 단 한번도 해본 적이 없는데 나도 쉽게 할 수 있을까', '2'],\n",
              " ['거기서 움직이고 운동 하고 나와서 집에 오고 하면 시간이 딱 맞을 것 같아', '1'],\n",
              " ['그런데 보면 사람들이 서브 넣을 때 때릴 때도 공이 날라 가고 그러잖아', '5'],\n",
              " ['탁구도 배우면 좋을 것 같은데 몸을 너무 많이 써서 힘들지 않을까 싶어', '9'],\n",
              " [' 해 보니까 근육이 파열돼서 피가 나오는 바람에 고생하고 있거든', '3'],\n",
              " ['아까 탁구 얘기를 했는데  사실 탁구가 굉장히 정신에 좋은 운동이거든', '7'],\n",
              " ['이제 후반기에 접어 들었으니  좀 더 분발을 해서 앞으로 좋은 모습을 보여줬으면 좋겠어요', '0'],\n",
              " ['두번째로는  너가 운동 신경이 있는 데에도 못 하면  내 걸로 못 만드는 거야', '9'],\n",
              " ['옛날에는 또랑에서 멱을 감고 못을 건너는 것이 수영이었거든', '2'],\n",
              " ['자네도 욕심을 그만 부리고 조금은 내려놨으면 좋겠다  항상 생각한다고', '3'],\n",
              " ['스포쯔라는 것이 바쁜 와중에도 가는 사람이 있고  안 하는 사람도 있는데', '9'],\n",
              " ['그러고 있는데 갑자기 홈런볼이 딱 나한테 오는데 그래 가지고 그 볼을 운 좋게 주웠지', '0'],\n",
              " ['근데 이건 나이가 먹으니까 아무래도 몸이 둔하니까 그래서 그런 거 아니야', '9'],\n",
              " ['아이엠에프 와 가지고 큰 실망에 빠져 있을 때 박세리 선수가 바지를 걷었어', '10'],\n",
              " ['줌바 그 다음에 스쿼시 그 다음에 이제 수영인데 사실 일 순위는 자전거지', '5'],\n",
              " ['허구연은 대전에서 돔구장 짓자고 말하던데  우리 대전에 그렇게 돈이 많아', '0'],\n",
              " ['그니까 스포츠는 흐름 싸움인 것 같아 항상 스포츠는 하나가 돼야 해', '2'],\n",
              " ['뭐 그런 것도 운동 하면은 재미있기는 하지 일단 우리는 지금 너 쉬고 있을 때 정해야지', '7'],\n",
              " ['산에 가는 것보다는 근력 운동이 더 낫지', '3'],\n",
              " ['너무 우습고 하여튼 활력소가 생기는 거 같더라고', '2'],\n",
              " ['내가 계속 바쁘다고  창피할까 봐 안 가는 거야  ', '1'],\n",
              " ['한국은 그런 거 다 아직 못 하잖아 유럽 그런 데 같은 게 아니고', '10'],\n",
              " ['갱기 때 다 이기고 싶었다고 하는 것을 보니까 수영할 때는 어땠니', '2'],\n",
              " ['다음에는 한 번 시합도 한 번 나가 나갈 수 있으면 좋겠어 진짜', '5'],\n",
              " ['난이도를 높여서 어느 정도 근력 운동도 할 수 있는 수준으로 해달라고 했어', '3'],\n",
              " ['아니면 스크린 골프 스크린 골프 같은 경우는 쫌 배울 만하던데', '9'],\n",
              " ['자네 의견은 또 어떤지 모르겠네 자네 의견이 어떤지 한번 들어 보자고', '2'],\n",
              " ['나는 그냥 우리 같은 보통 사람들이 할 수 있는 실내 스포츠를 훨씬 더 좋아해', '2'],\n",
              " ['하여튼 참 안 좋아 솔직히 나도  호날두 팬이었거든  나뿐만 아니라 많이들 그렇겠지', '10'],\n",
              " ['절대 승부 조작이라는 것이  전혀 없었는데   지금 와서  얘길 하니  조금 그러네', '7'],\n",
              " ['출근해야 하니까 아침에  맞춰서 같이 다니고 집에 같이 가면 되겠다', '8'],\n",
              " ['왜냐하면 우리가 나이를 먹어 가지고  관절에 안 좋은 영향을 줄 수 있거든', '9'],\n",
              " ['우리 한화는 실책이 없이 근성 있게 해주기만 하면  나는 꼴찌도 상관없어', '0'],\n",
              " ['왜 그런가 모르겠어 돈이 많이 들어서 그런가 주위에 치는 사람들은 많거든', '9'],\n",
              " ['그리고 아까 스포츠 하는 사람들이 외적으로 치장하는 것을 말했는데', '2'],\n",
              " ['참 우리 토요일 날 마니산 갈 거지 마니산 가면 호떡이랑 ', '8'],\n",
              " ['좋은 건지 나쁜 건지 모르겠지만  가끔은 상대방에게 신경질을 내기도 하거든', '2'],\n",
              " ['그래도 특별히 주로 했던 운동이 있을 거 아니야 친구들하고도', '9'],\n",
              " ['지끔은 이제 그런 생각을 내려놓은지 오래니까  이제는 단순히 걱정만 되거든', '1'],\n",
              " ['물론 일부 사람들이  주장하는 걸 수도 있지만  대부분의 사람들이 그렇더라고', '9'],\n",
              " ['근데 그럴려면 내가 마음을 먹어야 하지 그치 그리고 요즘에 그 타는 거 있잖아', '9'],\n",
              " [' 골프 치는 사람들이 상당히 많드라고 요즘 스크린 골프 포함해서', '9'],\n",
              " ['집이는 마음이 착해 갖고 농사지어 갖고 친척들 주고 친구들 줬어', '9'],\n",
              " ['골프도 운동 중에 운동이지만 골프는 이제 돈이 좀 드는 편이잖아', '9'],\n",
              " ['자네도 그런 부분을 아마 많이 느낄 거야 나는 그런 면에서 스포츠를 좋아해', '0'],\n",
              " ['하여튼 그런데 이 원정 온 팀들은 버스가 다 있잖아요 그래서 그 앞으로 지나가거든요', '0'],\n",
              " [' 사막 같은 데 이런 데도 그런데서 요즘 하도 사고들이 많이 나서 걱정이긴 하네', '1'],\n",
              " ['다들 바쁘겠지 바쁘겠지만 그래도 탁구가 좋아서 오는 사람들이 잖아', '9'],\n",
              " ['친구들이랑 같이 가게 되면 내기를 자주 하니까 저는 불청객인 셈이죠', '9'],\n",
              " ['이렇게 마음에 맞는 친구들하고 같이 운동을 하니까', '9'],\n",
              " ['그래서 이제 친구들하고 대화를 하려고 하면 꼴프 얘기가 꼭 들어가', '9'],\n",
              " ['진짜 시합을 할 때 빽 서브도 좋지만 화 서브도 놓고 그지', '5'],\n",
              " ['그런데 내가 그동안 말은 안 했지만 당신을 내가 너무 잘 안다는 게 문제라니까', '5'],\n",
              " ['운동은 물론 처음 시작한다는 것 자체가 조금 어려운 것 같긴 해', '6'],\n",
              " ['그래서 근력운동 위주로 지금 많이 하고 있어', '3'],\n",
              " ['그런데 선배들이 어쨌든 간에 삼개월만 버티면 기본자세는 나온다고', '3'],\n",
              " ['탁구를 치면 정신 운동이 되고  당구는 한시간 치면 사키로 걷는 것 같대', '7'],\n",
              " ['그게 상대방이 있는 탁구가 상대방이 있잖아', '7'],\n",
              " ['근데 요즘 아예 관심 자체가 멀어져 버린 게  그만큼 이제 야구를 보다 보면 화가 난단 거지', '0'],\n",
              " ['지금은 게임도 스포츠야  이 스포츠더라고 그래도 거기도 관심이 있고', '2'],\n",
              " ['한 편으로 또 우리가 기아 타이거즈 게임을 하는 걸 봐야 되는데 다른 팀 결과를 보잖아', '2'],\n",
              " ['아무래도 내가 다리도 아프고 그러니까 슬슬 하고 걷고 그러는 중이지', '3'],\n",
              " ['근데 자기가 골프도 치고 싶어 하니까 골프 배우는 것도 좋을 거 같아', '9'],\n",
              " ['그런 점에서 대중화된 것은 사실이기는 한데 일단 멀리 나가야 되고', '9'],\n",
              " ['그냥 차 타고 조용하게 가서 산에 올라 갔다가 오는 그런건 괜찮다고 생각해', '1'],\n",
              " [' 이제 네가 수영이 마음에 안 들면  내가 수영을 갔다 오도록 할게', '1'],\n",
              " ['나는 그건 또 몰랐네 그러면 씽씽이는 면허가 있어야 탈 수 있는 거라고', '5'],\n",
              " ['그래서 우리나라 사람이 앞으로 베트남에 가면 큰 대접을 받을 거야', '4'],\n",
              " ['그래서 수영하는 것이 훨씬 어렵지 그북이 등인가 그것을 한 육개월 찼나 봐', '1'],\n",
              " ['원 아웃이 되고  박찬호가 수비를 엄청 잘해줘서 자기 꿈을 이뤄낸 거야', '0'],\n",
              " ['내가 보니까 건강을 잃으면 모든 것을 한순간에 다 잃은 것 같은 느낌이더라고', '1'],\n",
              " ['동시에 자식들한테도 금전적으로 도움이 되는 일이  되잖아', '1'],\n",
              " ['이십 이일부턴가 등록을 하는데 아침 일곱시부터 줄을 서서 등록하더라고', '1'],\n",
              " ['너는 테니스하고 몸 안 아팠어 나도 안 쓰던 근육을 쓰니까 몸이 아프지', '3'],\n",
              " [' 어느 운동을 해도 들어가는 게 다 있어  마찬가지고', '7'],\n",
              " ['원인을 찾아야 될 거 아니야 올해 스카우트를 돈 안 들이고 해서 그런가 봐', '0'],\n",
              " ['그리고 선수들이 열심히 하니까 우리나라 축구도 앞으로 많이 발전하겠더라고', '6'],\n",
              " ['전체 일위라고 돼 있는데  선수가 한화에 입단해 가지고 바로 잘할 줄 누가 알았겠어', '0'],\n",
              " ['그래서 선수 사인도 받고 나오면은  그렇게 즐기고  그런 식인 거죠', '0'],\n",
              " ['이것도 내 일상의 한 부분이라고 생각해야 몸을 밖으로 끌어내게 되더라고', '1'],\n",
              " ['운동장에서 걷기 운동 아니면가서 유산소 운동을 하거나', '1'],\n",
              " ['집에서 심심하면 우리 탁구나 한번 칠까 나가서 탁구 한번 치면 몸두 개운하고', '9'],\n",
              " ['하지만 골프 치고 싶은 마음이 아예 없어지는 것도 아닐 것이고 만족도 못 할 거야', '9'],\n",
              " ['다리를 쓰지 않는 근육 운동을 할 수 있는 요가 같은 운동도 있잖아', '3'],\n",
              " ['할 줄 아는 것이 일단은 그거잖아 우리 나이도 있어서 오래는 못 하지', '9'],\n",
              " ['막 허리도 아프고 막 햇빛에 너무 못 이겨 갖고 내가 못 하거든', '3'],\n",
              " ['우리나라는 스포츠에 대한 근성이 있다니까  그래서 어쨌든 이번에 수영 대회가 개최됐잖아', '10'],\n",
              " ['저한테도  정서상의 어떤 그런 부분에도 많은 기여를 했다고 생각을 하고 있어요', '0'],\n",
              " ['근데 못 할 거 같은 느낌이라 이제 곧 어지럽고 이러면은 못 타잖아', '1'],\n",
              " ['엄청 위험하게 다니잖아 학생들이 많이 타기는 타는데 자전거도 위험한 편이지', '8'],\n",
              " ['근데 마에다가 삼회에 강판 당했든 홈런을 맞았든 그게 무슨 상관이야', '0'],\n",
              " ['물론 내가 봐도 내가 요즘 등산도 안 다니고 운동을 하나도 안 하지', '8'],\n",
              " ['우리나라가 크기는 작지만 스포츠 강국으로 발돋움하지 않을까 싶네', '10'],\n",
              " ['그러니까 아무래도 잘할 수밖에 없어 그래서 박세리도 부모님이 골프만 시켰대', '6'],\n",
              " ['오늘도 그 회사 일이 좀 별로 없잖아 그래서  혼자  치러 갈까 했는데', '7'],\n",
              " ['지금 베트남에 가 있는 박항서 감독을 한번 이야기를 해 보자고', '4'],\n",
              " [' 다 아직 몬 하잖아 외국  유럽 그런 데 같은 게 아니고', '10'],\n",
              " ['그런데 야구 한번  세시간이잖아 ', '0'],\n",
              " ['뭐  나한테 잘 맞는 필라테스나 이런 걸 해서 건강을 유지하는 게 더 좋지 않나', '1'],\n",
              " ['뭐 건강에 워낙 관심이 많으신 것 같애요', '0'],\n",
              " ['그런데 시작보다도 계속 유지하는 것이 어려우니까 그런 말을 했겠지', '1'],\n",
              " ['우리 집 애가 승무원 준비를 하는데  이십오미터 자유 수영 시험이 있대', '1'],\n",
              " ['엊그제께는 핸드폰에 유튜브를 봤는데 거기에서 유남규 선수 있잖아', '10'],\n",
              " ['커서는 활용할 곳도 있고 괜찮은 것 같은데 시작할 때는 어땠었나 궁금하네', '1'],\n",
              " ['이번에 수영대회는 유니버설 대회만 몬하더라고 홍보가 덜 됐나', '10'],\n",
              " ['너도 알다시피 회사에서 지금 볼링 하고 있잖아 볼링 예전에는 안 했던 것 같은데', '7'],\n",
              " ['근데 제가 최근에 야구장을 갔던 게   한화의 이범호 선수 은퇴 경기를 보러 갔었거든요', '0'],\n",
              " ['마니산에 운동 하러 갈까 아침에 일찍 가면 숲이 우거져 가지고 그늘이 져', '1'],\n",
              " ['그러면 식사하고 운동을 어 인제 시작하거든요', '1'],\n",
              " ['그때 같이 갔던 모임  그 모임은 등산 장비를 다 왔더라고', '8'],\n",
              " ['근데 그렇게 비슷한 실력이 비슷한 사람들끼리 그렇게 치면 좋아 좋지', '5'],\n",
              " ['그때는 스뽀쯔나 체육이나 고도화되지 않아서 특별한 스뽀쯔란 것이 없이', '2'],\n",
              " ['부모들이 너무 열성적으로 프로 야구  프로 골프에만 치중되어 있잖아', '0'],\n",
              " ['운동은 일상 생활이니까 그러지 정말 배우고 싶다면 가서 배워도 돼', '7'],\n",
              " ['몸이 늘어나다 보면 재미가 있으니까 또 하게 되고  그럴 것 같아', '7'],\n",
              " ['다른 사람들 빼고 둘이서만 커피  내기를 하던지 해야겠네 아니면  내기', '9'],\n",
              " ['또 운동이라는 게  잘해야 재밌지 못 하면 재미가 없어서 할 수가 없어요', '2'],\n",
              " ['그래서 우리는 저렴하게 할 수 있는 볼링 같은  우리 볼링 하잖아 그렇지', '7'],\n",
              " ['그것도 연락해서 시간을 한번 잡아보고 해야지 옷 그런 거는  괜찮아', '1'],\n",
              " ['그래서 같이 시작했는데 정말 좋아서 우리 집 막내까지 같이 다니는 거야', '8'],\n",
              " ['근데 보통 우리 기아 선수들은 끝나고 나면은 어디로 사라지는지 그냥 잘 가 버려요', '0'],\n",
              " ['그리고 하다 보면 경험이 생기고 그러니까 당신도 어느정도 판단이 되겠지', '7'],\n",
              " ['손흥민  김연아  박세리 등 우리나라에서 국위를 선양하는 사람들은 많지', '10'],\n",
              " ['우리가 빨리 운동하는 것보다 천천히 움직이는 게 너무 힘들더라고', '1'],\n",
              " ['내 나이 때가 골프를 많이 쳐  그렇다고  예전처럼 비용이 많이 드는가 하면', '9'],\n",
              " ['보면 이제 자기가 응원하는 팀이 이기면 좋고 또 지면 또 스트레스받고 그렇잖아요', '7'],\n",
              " ['삼십분 매일 하는 것은 괜찮은데 너무 운동장만 도는 것 말고도', '3'],\n",
              " ['나도 그러니까 일년 정도 됐는데 한참 재미있어서 막 하다가', '2'],\n",
              " ['그런데 뜻하지 않게 이렇게 볼 하나씩 주워서 가면은 굉장히 재미있고 추억으로 남아', '2'],\n",
              " ['그래서 내 경험상으로  운동을 하다 보니까 내 건강이 참 좋아 지더라고', '1'],\n",
              " ['그러니까 내가 지금 얘기할 때 골프를  생각해요', '9'],\n",
              " [' 이제 룰도 다 알고 관중석에서 종종 커플끼리도 많이 오는 모습을 볼 수 있더라고', '0'],\n",
              " ['아니 골프는 아직까지는 별 관심 없어 난 별로 관심이 안 가', '9'],\n",
              " ['나도 가끔가다 그걸 보거든 근데 볼 때는 그게 좀 내가 할 것 같은데', '6'],\n",
              " ['당신이 자꾸 그런 식으로 애들한테 부담 주면 더이상 애들이 집에 안 와', '2'],\n",
              " ['키도 크고 덩치가 있는 있는데도 혈압 약도 안 먹는 사람 많고', '3'],\n",
              " ['경제적인 요인이 안 되는 사람들에게 복지 개념으로 보급하는 것이고', '9'],\n",
              " ['못하고 있더라고 젊은 시절에 야구장에도 한번 가 보고 해야 되지', '0'],\n",
              " ['거기서 우리나라가 이겨 가지고 그 중학생이 막 눈 똥그랗게 뜨고 놀래고 그러더라고', '10'],\n",
              " ['그래도 요가는 안 해 본 것이라 자네가 집에서 좀 가르쳐 줘야 될 거 같아', '1'],\n",
              " ['시간을 마무리 많이 친다 해도 느는 게 계속 반복돼', '5'],\n",
              " ['거기에 이제 전국에서 골프 하겠다고 몰려온 사람들이 다 있었던 것 같아', '9'],\n",
              " ['지금은 활동 시간으로 그렇게 긴 시간을 낼 수 있는 것은 아니니까', '1'],\n",
              " ['우리가 보기에도 좀 프로다운 면보나 적극적인 부분이 없어서  많이 떨어진 것 같아', '0'],\n",
              " ['자네 이야기는 항상 맞는 말인데  그래도 그건 어디까지나 자네 생각인 거잖아', '4'],\n",
              " ['하나도 지루해하지 않고 잘 다녀 보통 육개월까지는 재밌다더라고', '2'],\n",
              " ['처럼 올라갔다 내려오면  땀이 나는데 하루가 그렇게 뿌듯할 수가 없어', '5'],\n",
              " ['남자든 여자든 우리나라 양궁 선수들이 국위 선양에 굉장한 도움을 주고 있고', '10'],\n",
              " ['운동을 안 하면 교통사고  많이 힘들 거라고 했었어', '1'],\n",
              " ['뿐만 아니라 많은 팬들이 안타까움들을 많이 하는데 저도 마찬가지로 그렇게 생각하거든요', '2'],\n",
              " ['그런 점은 스포츠나 운동의 본질과는 약간 떨어진 거 같아 운동을 해야 하는데', '2'],\n",
              " ['당구 얘기도 하고 볼링 얘기도 하고  참 너는 ', '7'],\n",
              " ['우리랑 못 치는 사람끼리 하면 맨날 치면 그이도 재미없어', '9'],\n",
              " ['챔피언 리그 올해 일등을 했으면 한다 그런 나의 바람이 또 있는 거지', '0'],\n",
              " ...]"
            ]
          },
          "execution_count": 147,
          "metadata": {},
          "output_type": "execute_result"
        }
      ],
      "source": [
        "train"
      ]
    },
    {
      "cell_type": "code",
      "execution_count": null,
      "metadata": {
        "colab": {
          "base_uri": "https://localhost:8080/"
        },
        "id": "cKviJHW4dYpI",
        "outputId": "95c52377-92f9-4ad8-abf4-d50fdce9b254"
      },
      "outputs": [
        {
          "data": {
            "text/plain": [
              "290"
            ]
          },
          "execution_count": 148,
          "metadata": {},
          "output_type": "execute_result"
        }
      ],
      "source": [
        "len(test)"
      ]
    },
    {
      "cell_type": "code",
      "execution_count": null,
      "metadata": {
        "colab": {
          "base_uri": "https://localhost:8080/"
        },
        "id": "hHtvHzvl6IwL",
        "outputId": "6400bef2-317d-435f-fa81-fcd2be559421"
      },
      "outputs": [
        {
          "data": {
            "text/plain": [
              "[['그치 좀 근력을 좀 키우고 할 수 있는 운동을 찾아 가지고 적극적으로 좀 알아 봐', '3'],\n",
              " ['그런데  어쨌든 간에 삼개월만 버티면 기본자세는 나온다고', '3'],\n",
              " ['그렇게 바라보고는 있지만 정말 볼 때마다 좀 안타깝기도 하고 답답하기도 하드라고', '0'],\n",
              " ['그러니까 유럽이나 아프리카  이쪽에서 태권도가 아주 선양하고 있을 거 같아', '10'],\n",
              " [' 그래서 결과 보고 하다 보면 전반기 후반기 해서 일년이 금방 지나가 버린 것 같아요', '0'],\n",
              " ['그동안 운동을 안 했구나  호흡이 중요하구나  라는 생각은 드네', '1'],\n",
              " ['시골에 가서 일도 좀 하고 주중에는 탁구도 치고 하는 게 좋은 거 같애', '1'],\n",
              " ['그러니까 일부러 시간을 맞춰서 하는 것도 좋지만 일상처럼 시간을  돼요', '1'],\n",
              " ['이번에 수영대회는 유니버설  못하더라고 홍보가 덜 됐나', '10'],\n",
              " ['정부 자체에서도 지금 많이 보급하고 있지만  혜택을 못 보는  있고', '10'],\n",
              " [' 소송 중이라고 하더라고', '10'],\n",
              " ['계속 밖에서 걸어 다니며 운동하고 싶으면   골프 그게 괜찮은 거 같아', '8'],\n",
              " ['아침에 제가 우리 막둥이 운동시킬 때 명암지 쪽으로 가 보면 사람이 많아요', '1'],\n",
              " ['그래도 괜찮았는데 이거는 위에다 띄어놓고 치는 거잖아', '1'],\n",
              " ['저번에는 야영장에 놀러 갔다 온 적 있거든  간 김에 수영을 해 봤어', '1'],\n",
              " ['일주일 동안 치료를 하는데 피가 빠지고 나면 물이 고인다 하더라고', '3'],\n",
              " ['그런데 어느 운동을 해도 들어가는 게 다 있어  보링도 마찬가지고', '7'],\n",
              " ['같이 다닐 수 있을 정도로는 자네가 신경 써서 집에서 많이 가르쳐 줘', '7'],\n",
              " ['스쿼트를 백 팔십번을 했대 깜짝 놀랐어 걔는 요가도 한번 하고 나오잖아', '3'],\n",
              " ['막 청주씨씨도 가서 치고 그랬었는데  지금은 씨씨 이름이 다른 걸로 바뀌었대', '4'],\n",
              " ['그래서 뭔가 더 잘치고 싶은 생각이 강하게 들고  승부욕도 엄청 생겨요', '7'],\n",
              " ['진짜 철저하게 잘하는 사람만 살아남는 그런 세계이기 때문에 아무리 기대를 해도 안 되더라고', '10'],\n",
              " ['쉬는 날 뭔가 운동이든 뭐든지 한가지 취미를 정해서 즐기면 굉장히 좋거든', '8'],\n",
              " ['손흥민  김연아  박세리 우리나라에 국위를 선양하는 사람들은 많지', '10'],\n",
              " ['그러니까 좋아하는 운동을 하는 게 좋다는 거지 모두 다 그런 생각을 하잖아', '1'],\n",
              " ['주위에 다 사장인데 그 사이에 회사원이 가가지고 하기도 좀 그렇더라고', '9'],\n",
              " ['대학교 다닐 때는 야구를 진짜 좋아했었어 그래서 야구 선수들 이름도 다 에우고', '0'],\n",
              " ['앞으로 우리가 강대국 대열에 끼려면 유능한 선수들을 더 많이 배출해야 되겠지', '10'],\n",
              " ['걷는 것도 호흡이 맞아야 산에 둘이 가는 것도 발이 맞아야 재미가 있지', '7'],\n",
              " ['근데 다시 시작했다고 해도  준비개 안 된 상태에서 치니까 의미가 없더라고', '1'],\n",
              " ['골프 하면 박세리 저리가라인데 하면서 맨날 골프 하자고 꼬시거든', '9'],\n",
              " ['항상 그 사진을 보면  진짜 축구를 하는 사람들은 몸에도 엄청 좋은 것 같아', '6'],\n",
              " ['운동장에서 걷기 운동 아니면 헬스장 가서 유산소 운동을 하거나', '3'],\n",
              " ['시간도 안 나고 수요일마다 바빴던 것 같다 시골에 내려', '1'],\n",
              " ['나는 내가 요즘 휴일에 운동을 한번 시작해 보는 게 좋겠다는 생각을 해', '8'],\n",
              " ['나는 그래서 좀 너무 안 되 갖고 레슨을 조금 받는데', '1'],\n",
              " ['내가 보기에 수영대회는 그래 저쪽 응원 간 사람들 더워서 죽겠다고 하네', '10'],\n",
              " ['근데 실질적으로 가서 보면은 그 선수하고 팬하고 소통을 할 기회가 많이 없더라고요', '0'],\n",
              " ['잘하는 동생이 말하기를  공이 아니라 그 밑에 검은 거를 쳐야 잘 할 수 있대요', '9'],\n",
              " ['그렇게 바꾸려고 ', '4'],\n",
              " ['나이를 먹다 보니까 비즈니스보다도 친구들하고 골프 얘기가 나와요', '9'],\n",
              " ['거이 십년 전이니까  그 당시만해도 골프가 대중적인 스포츠는 아니었어요', '9'],\n",
              " ['내 나이대 친구들 꼴프 많이 치고 꼴프 얘기도 많이 하긴 하는데 글쎄', '9'],\n",
              " ['큰 애는 어렸을 때부터 야구를 좋아해서  키가 자기보다 큰 야구 방망이를 들고', '0'],\n",
              " ['난 구기를 좋아하니까 공으로 하는 것이 재미있고 한데  골프는 관심이 안 가', '0'],\n",
              " ['자식한테 돈을 물려줄 생각할 필요 없어 있는 돈도 없지만', '1'],\n",
              " ['아까 얘기하다 보니까 옛날에 야구하다가 다쳤다고 그랬잖아', '7'],\n",
              " ['그래서 수영도 생각했는데  수영은 시간대를 굳이 맞출 필요 없잖아', '1'],\n",
              " ['우리 정말 끝까지 포기하지 않고 이 운동은 끈기 있게 평생 해보자', '1'],\n",
              " ['이동국이 운동하는 선수니까 우리나라에서는 또 뭐랄까 많이 알려진 공인이잖아', '10'],\n",
              " ['내가 저녁때 따로 다니고  또 자네 운동한다꼬 하면 따라가고 하잖아요', '8'],\n",
              " ['갖추고 왔는데 둘레길을 걷기는 좀 싫었나 봐 등산 장비르가 있으니까', '8'],\n",
              " ['아까  얘기했지  채 하나가 굉장히 비싸 살 엄두도 못 낼만큼', '9'],\n",
              " ['근데 요새 또 지금 코로나 때문에 도쿄 올림픽을 내년으로 연기를 해 버렸잖아', '10'],\n",
              " ['이렇게 일상에서 운동을 하지 일부러 따로 시간을 낼 수가 없어요', '1'],\n",
              " ['자네는 우리나라 축구 선수들을 이렇게 보면 어떤 생각이 드는가', '6'],\n",
              " ['아까 그런데 식구가  그랬잖아 우리도 지금은 집에서 자전거 ', '5'],\n",
              " ['요새 그런 생각도 하게 되고 그러더라고 그냥 할 마음을 접는 게 나으려나', '9'],\n",
              " ['근데 육개월 이후에는 조금 주춤한다고 그러더라고 그때는 더 힘든가 봐', '3'],\n",
              " ['내가 내일모레 퇴직인데 그때는 같이 할 수 있는 스포츠를  좋겠어', '2'],\n",
              " ['시작한 지 몇 개월 안 된 거 같아 그전에 스프닝만 하고 난이도가 약한 거야', '1'],\n",
              " ['시작할 때 기분은 어땠니 혹시 하기 싫었는데 우리  억지로 한 건 아니지', '1'],\n",
              " ['걔네들이랑 나랑 시간대는 좀 안 맞고  애들은 시간 조절이 가능하잖아', '1'],\n",
              " ['나는 운동을 안 해 봤지만 안 해 보고 탁구를 배웠거든', '7'],\n",
              " ['바람부터 넣어야 되는데 그 바람에 바람 넣는 기계는 다 어디로 갔나 모르겠네', '0'],\n",
              " ['맨날 안 좋은 선수 데리고 와서  우수한 선수들이 들어와야 성적도 좋겠지', '0'],\n",
              " ['이 사람들을 보면 한국이 작지만 스포츠에서는 아주 큰 나라가 될 수 있겠고', '10'],\n",
              " ['태건도도 있잖아 우리나라 전통 무술을 세계적으로 알리고 있잖아', '10'],\n",
              " ['내가 내일 모레 퇴직인데 그때는 같이 할 수 있는 스포츠를 배우면 좋겠어', '2'],\n",
              " ['김연아도 공부보다는 무조건 스케이트만 한 거야 한 우물만 제대로 판 거지', '10'],\n",
              " ['생각보다 근육에 많이 힘을 주고 동작을 해야 되는 건가 봐', '3'],\n",
              " ['지금도 난 왜 그런지 내가 모르겠어  너무 승부욕이 많아 승부욕이', '7'],\n",
              " ['나는 파크 골프는 잘 모르겠고  거기 골프 하는곳 있으면 한번 해보고 싶어', '9'],\n",
              " ['그래서 너는 스포쯔에 대해 앞으로  어떤 방향으로 갈지  의견이 있니', '2'],\n",
              " ['아 그래 많이 하는 편이네 그래서 나는 헬스 클럽에 갔어', '3'],\n",
              " ['근데 이 사람도 참 이렇게 인기가 많고 우리나라 사람들도 엄청 좋아했었잖아', '9'],\n",
              " ['스포즈를 찾아서  골프나 그런 것은 조금  늦었다는 생각이 들지만', '9'],\n",
              " ['왜 그런거냐면  사람마다 연습하는 거에서 차이가 나기 때문에 그래요', '5'],\n",
              " ['머릿속으로 생각만 하다가  같이하게 되니까 동기부여도 더 되는 것 같아', '0'],\n",
              " ['그러면 지금 한화가 못 하는 가장 큰 이유가 한용덕 때문이라는 거야', '0'],\n",
              " ['올림픽은 재밌거든 스포츠 중에 제일 재밌어 왜냐하면  종목이 많잖아', '2'],\n",
              " ['접영이나 평영은 따라 하기가 어려워 보이는 것 같은데 꼭 배워야 하는 걸까', '1'],\n",
              " ['그렇게 해서 그냥 탁구를 못 치는데 그냥 계속 칠라고', '9'],\n",
              " ['우리 배우자도 자세를 다시 교정하는 데 진짜 애를 먹었거든', '3'],\n",
              " ['그래서 골프에 돈 내기를 하면 못 써 근데 또 어울리다 보면 안 할 수도 없고', '9'],\n",
              " ['여유로울 때는 집에 다시 와서 밥 먹고 출근해도 늦지 않는 것 같아', '1'],\n",
              " ['물론 그게 나쁜 건 아니야 그런데 맨 처음에 운동 시작할 때는 스트레스를 받았어', '9'],\n",
              " ['옛날에 나도 박성현도 좋았고 유소연도 좋았는데 이정은 식스는', '10'],\n",
              " ['내가 십년 동안 밤에 일하고 낮에는 자면서 꺼꾸로 살았단 말이야', '1'],\n",
              " ['객관적으로 스포츠라는 게 어띃게 보면 실적이야 숫자가 다 뜨니까', '2'],\n",
              " ['또 아무래도 재미있는 그런 스포츠가 되고 결과도 더 확실하게 잘 나올 수도 있잖아', '2'],\n",
              " ['사무실에서도 서서 업무를 본 달지 엘리베이터를 타지 않고  올라가고', '3'],\n",
              " ['이상하다게 느껴지면서 몇 번 쳤는데  하다 보니까 그냥 끝나버렸어요', '2'],\n",
              " ['그 양현종 기아 타이거즈 투수 에이스가 나와서 두산하고 했는데 일회에 우천 취소가 됐어', '0'],\n",
              " ['지금은 잠깐 끊었어 그런데  운동은 아까도 얘기했지만  구경하는 걸 좋아했는데', '7'],\n",
              " ['나도 이제 운동을 해야 되나 그래서 집으로 퇴근하고  나서 윗몸 일으키기를 하거든', '1'],\n",
              " ['이용규가 이적 시켜 달라고 말한 건가 근데 그렇게 하면 안 되는 거 아니야', '0'],\n",
              " ['그러니까 우리 몸에 자꾸 근이 빠지니까 틈틈이 이렇게 챙겨서 해야 돼요', '1'],\n",
              " ['나는 거기 가고 싶은데  나중에 같이 파크 골프하러 가 보는 건 어떻게 생각해', '9'],\n",
              " ['사람들도 골프 많이  부부가 같이하기 좋은 스포츠라고 들었어', '9'],\n",
              " ['그래서 내가 자네의 의견은 충분히 아는데 내 관점에서 스포츠는 그렇다는 거야', '2'],\n",
              " ['이번에 메인 선수도 올라왔는데 아주 잘하고 있더라 아까 오전에 봤거든', '10'],\n",
              " ['제가 그리고 어쩌다 한번 함평 갈 일이 있어 가지고 함평에 이군 구장을 가봤거든요', '0'],\n",
              " ['어쨌든 나도 나이 먹으면 지금은 할 수 있는 운동도 거의 다 못하게 될 거 아냐', '9'],\n",
              " ['그리고 클럽 가져오는 정도는 하더라고요 근데 걔네들은 라인은 잘 못 봐요', '3'],\n",
              " ['그런데 나는 요새 배영이 잘 안 됐어 팔 꺾기를 하면 잘 안나간다는 거야', '1'],\n",
              " ['삼촌들 따라 다니면서 그렇게 야구를 잘 하더니  크고 나서는 다른 길로 가더라고요', '0'],\n",
              " ['우리는 그나마 서울 가서 접하다 보니까  실내 운동을 자주 하게 되었지', '2'],\n",
              " ['바윗돌 하나 달고 다니는 느낌이었는데 피를 빼고 나니까 가벼워지더라고', '8'],\n",
              " ['우리 같은 사람들은 평일이 좋지  주말에는 이십 오륙만원이  들어가더라고', '7'],\n",
              " ['엄청 부모가 밀어주고 지원도 많이 해주고 돈도 많은 사람들이 많잖아', '0'],\n",
              " ['우리 동네 사람 하는 거 보니까 팀을 이뤄서 하는 거 보니까 재밌겠더라고', '2'],\n",
              " ['그분이 내 친구보다도 나보고 골프를 배우라고 자꾸 권유하는 거야', '9'],\n",
              " ['볼링도 잘 치고 몸도 운동한 사람처럼 생겨서  운동 많이 하나 보다 생각했는데', '7'],\n",
              " ['그러니까 이제 스포쯔들이 삼십년 전과는 차이가 나게 된 것이지', '5'],\n",
              " ['나보다 몬하는 사람들도 많고  나이가 더 많은 사람도 곧 잘 하더라고', '9'],\n",
              " ['당신 요즘 등산 안 다니잖아 그러니까 등산도 하고 헬스클럽도 다니라는 거야', '8'],\n",
              " ['그래서 사인을 하나 받았는데 키는 저보다 훨씬 더 크고 덩치도 엄청 좋고 그렇더라고요', '0'],\n",
              " ['그것도 춤이지만 일종의 운동인데  이제는 대중화가 되어서 다 할 수 있어', '6'],\n",
              " ['절대 승부 이라는 것이 전혀 없었는데  지금 와서 그 얘기를 하니 조금 그렇네', '7'],\n",
              " ['스포쯔라는 것이 이상하게 끈끈한 정이 생기드라꼬 매일 만나고 부대끼니까', '2'],\n",
              " ['이런 식으로 계속 하니까 내 근력이 어느 정도 유지가 되는 것 같아', '1'],\n",
              " ['얼마나 열심히 했느냐면 별명이 탱크였다고 그러더라고 명선수였어', '10'],\n",
              " ['삼개월 해 보고 안 되면 때려치라고 했는데 다리 때문에 다 접게 생겼네', '3'],\n",
              " ['나는 숲속을 도는 것도 힘드니까 천천히 꽃 구경 다 하고 먹을 것도 먹고', '9'],\n",
              " ['아까 그런데  집에서 운동한다  우리도 지금은 집에서 자전거 타거든', '5'],\n",
              " ['세계대회라 문턱이 높은 것 같아 한국이 아직  몬 따라가네', '10'],\n",
              " ['골프를 쳐 보니까  사람들한테 칭찬받을 정도로 뛰어난 점수를 낸 적이 없어', '9'],\n",
              " ['그 양현종 기아 타이거즈  에이스가 나와서 두산하고 했는데 일회에 우천 취소가 됐어', '0'],\n",
              " ['그래서 아는 사람 같은 경우에는 다리가 아파서 아쿠아로 좋아졌다면서', '3'],\n",
              " ['그래서 참다 참다  며칠 전에 너무 쉽다고 얘기를 했지', '7'],\n",
              " ['그래도 비용이 많이 들긴 들어 진짜 열심히 다니면 많이 들지', '9'],\n",
              " ['그런데 나는 항상 골프 프로그램도 보거든 보고 있으면 지루하지가 않아요', '9'],\n",
              " ['수영에 대해서 조금 찾아봤는데 몇 가지 어려운 동작들이 있더라고', '9'],\n",
              " ['자기한테 맞는 것을 하고 여유가 없으면 없는 대로 할 수 있는 것', '1'],\n",
              " ['전에는 내 실력에 문제가 있다고 생각하고 하루 종일 연습하기도 했어요', '5'],\n",
              " ['근데 한 가지 걱정이 되는 건 내가 잘할 수 있을까라는 생각이 자꾸 들어', '1'],\n",
              " [' 딱 갖는 거기에서 이제 프로야구가 상당히 우리에게 기여를 했다고 봐야죠', '0'],\n",
              " ['운동도 계속 내가 나가야 운동이 되는 거지 그러니까 여지를 주면 좋겠다는 거야', '1'],\n",
              " ['같이 한번 해 보자 산도 많이 타지 말고 산 타는 게 무릎에 그리 좋지만은 않아', '3'],\n",
              " ['그리고 걷는 자세도 많이 교정이 된 것 같아 허리가 좀 펴진 것 같아', '3'],\n",
              " ['병원에서도 그래서 지금은 그냥 간간하게 무리하지 않고 헬스만 하고 있지', '3'],\n",
              " ['세계적으로 이런 선수들이 아주  걸 보면 유능한 인재들이지', '10'],\n",
              " ['그런데  한 오십분  머리가 다 젖도록 땀이 나더라고', '1'],\n",
              " ['한번 찾아보니까  온라인이 더 저렴하긴 한데 시간이 더 걸리는 거 같아', '5'],\n",
              " ['그러니까 잠영 비슷하게  스타트 연습을 많이 했는데', '5'],\n",
              " ['그래야 팬들이 팀을 응원하고 또 경기장을 자꾸 찾지 않을까 그렇게 생각합니다 저는', '0'],\n",
              " ['축구 동호회를 보면 주로 젊은 층인데  그 중에 한 오십대 된 남자가 껴 있어', '6'],\n",
              " ['몸도 굉장히 다부지고 혹시 옛날에 뭐 운동 같은 거 해 본 적 있었어', '2'],\n",
              " ['최근 말고 예전 전반기 초에 경기들을 보면 상당히 이제 일반인들도 이해할 수 없는 걸 해', '0'],\n",
              " ['거기 나이 좀 많이 드신 분들도 면허증 있는 사람들은 탈 수 있기는 하겠다', '9'],\n",
              " ['그 어디야 우익수 그쪽으로 넘어서 장외로 넘어와 가지고 딱 이렇게 ', '0'],\n",
              " ['올해는 아무래도 받쳐 주는 힘이 조금 많이 약했으니까  애국은 투수들이 더 분발하면 좋겠어', '0'],\n",
              " ['정말 수영을 전혀 못 해도 걱정할 게 하나도 없어 시작도 전에 겁먹지 마', '1'],\n",
              " ['그런데 평상시에 생활을 하고 그러면 움직임이 있으니까 움직임이 늘잖아요', '8'],\n",
              " ['덕분에 아주 좋네 근데 자네가 야구에 관심이 많다 보니까 나도 보게 돼', '0'],\n",
              " ['여섯시에 밥을 먹고 난 뒤에 배우자랑 함께 앞산에 산책하러 갔어', '1'],\n",
              " ['옛날에 안정환이 뛸 때  안정환 알지  응  그때 당시에 많이 봤던 것 같은데', '2'],\n",
              " ['병원에 가면 엄마가 혈압으로 돌아가셨는데  나는 멀쩡하다고 하지', '3'],\n",
              " ['문화센터에 강좌가 열려있는 수영장 같은 스포츠 정도 밖에는 없잖아', '2'],\n",
              " ['다들 바쁘겠지 그렇지만 그래도 탁구가 좋아서 오는 사람들이잖아', '9'],\n",
              " ['우리나라는 앞으로 발전할 수 있는 기회가 많이 있다고 생각을 하거든', '6'],\n",
              " ['그래도 여름에는 수영을 해야지 사람은 많은데 수영하는 사람은 드물더라고', '9'],\n",
              " ['근데 애나 어른 다 할 것 없이 그걸 무서워하지 않고 야구에 대한 집념으로 그걸 잡더라고요', '0'],\n",
              " ['그런 것들이 좀 안 되고 하다 보니까  굉장히 아쉽더라고요 그리고 올해 외국인 선수들 있잖아', '0'],\n",
              " ['이렇게 일상에서 운동을 허지  일부러 따로 시간을 낼 수가 없어요', '1'],\n",
              " ['요즘 운동장이나 공원 쪽에 가면 운동기구를 많이 설치해 놓았잖아', '3'],\n",
              " ['세계대회라 문턱이 높은 것 같아 ', '10'],\n",
              " ['약간  생기고 원래 스포츠라는 게 승부욕이 있어야 되잖아', '7'],\n",
              " ['가만히 이제 밥을 다 해 놓고 생각해 보면 낮에 그 탁구 쳤던 그 생각이 났어', '9'],\n",
              " ['그런데 내가 걷는 것을 좋아하니까   펭지를 선호하지', '0'],\n",
              " ['빙판의 여왕이 피겨 스케이팅에서 세계적으로 명성을 떨쳤잖아', '10'],\n",
              " ['골프 프로그램 보면서 스포츠 야구도 보고 안 치더라도 보면 지루하지 않아', '6'],\n",
              " ['얼마나 열심히 했느냐면 별명이 땡크였다고 그러더라고 명선수였어', '10'],\n",
              " ['나는 세계적인 강호 이태리를 격파했을 때 얼마나 흥분했는지 몰라', '10'],\n",
              " [' 다치고 그래서 자전거는 이제 못 타겠더라 싶었지', '5'],\n",
              " ['문화센터에 강좌가 열려있는 수영 같은 스포츠 정도밖에는 없잖아', '2'],\n",
              " ['그런데 본인은 이제 그거를 억누르고 그렇지 이제 정말 그런 존경을 표하는 거지', '4'],\n",
              " ['자전거 한번 일단 타고 한샘이가 방학 중이니까 걔 시간에 맞춰서 해야 되거든', '5'],\n",
              " ['나도 마음먹은 지는 오래 됐는데 어떤 운동을 ', '1'],\n",
              " ['가게 되면 그쪽에서 찾아 봐야지 그 우리가 갈려고 하는 데가 지금 베트남이잖아', '4'],\n",
              " ['굉장히 넓은 강도 단숨에 왔다 갔다 할 수 있을 정도로 수영을 잘하거든', '1'],\n",
              " ['그렇게 하고 볼링두 해 보니까 나이가 들어서 하기가 ', '7'],\n",
              " ['그런 분들이 함께하시는 모습 이렇게 보면 너무 부럽더라고요', '6'],\n",
              " ['자전거는 면허가 없어도 되고 아 전기 자전거도 면허가 없어도 되는 거야', '5'],\n",
              " ['요새 나오는 것 중에도 그 옛날 씽씽이처럼 뒤에 브레이크가 있는 것들도 있더라고', '2'],\n",
              " ['그래서 요즘 고민 중인데  어쨌든 너무 내가 운동 안 한다꼬 걱정하지 마', '1'],\n",
              " ['너는 수영을 나에게 추천을 해줬는데  그래도 골프에 대해 생각해보면', '9'],\n",
              " ['옷부터 모자까지 신경을 쓰는데 나하고 성향이 안 맞는 것 같고', '0'],\n",
              " ['그 친구가 꼴프를 치는데 레슨하면서 한시간 반 동안 같이 있어 보니까', '7'],\n",
              " ['그래서 걔네 따라가고 하려면 내가 더 스트레스 받을 것 같아서 좀 그래', '9'],\n",
              " ['둘이 한 번 나가 보자고 가을에 안 되면 내년에라도 한 번 열심히 운 연습을 하자', '5'],\n",
              " ['그런 상황이 이제 많이 있었는데 보면 그 야구팬들의 그 열정이 참 강한 것 같더라고요', '0'],\n",
              " ['기대했던 만큼의 그런 성장을 거둘 선수가 들어와서 바로 두각을 내는 게 쉽지는 않잖아', '0'],\n",
              " ['아무튼 그래도 최선을 다 하는 모습을 바라보고 있는데  그 예전에는 경기를 이렇게 보잖아요', '0'],\n",
              " ['그래서 나는 올해는 십위로 보고 있어 내 말이 맞을 지  틀릴 지 봐봐', '0'],\n",
              " ['사무실에서도 서서 업무를 본다든지  엘리베이터를 타지 않고 계단으로 올라 가고', '3'],\n",
              " ['정부 자체에서도 지금 많이 보급하고 있지만 혜택을 못 보는 사람들도 있고', '6'],\n",
              " ['내가 정말 운동을 이것저것 해봤는데 수영만한 운동이 없는 거 같아', '1'],\n",
              " ['우리 남편은 나이 먹어서 점점 말을 더 안 들으니 더 애가 되는 것 같아요', '9'],\n",
              " ['안 그래도 그 꼴프 선수가 하는 말이 힘으로 하면 절대 안 되고', '10'],\n",
              " ['밖으로 나오니까 몸이 정말 무겁게 느껴지긴 했는데  물속에서는 재미있었어', '2'],\n",
              " ['솔직히 그래서 그 박행식 감독 대행을 만나면은 나는 그런 얘기라도 좀 하고 싶드라고', '4'],\n",
              " ['그러면 좀 다니기 편하지 않을까 근데 그거 들고 다니기도 힘들겠다 무거워서', '8'],\n",
              " ['난 구기를  공으로 하는 것이  한데  관심이 안 가', '0'],\n",
              " ['아직 한달은 안 됐고 삼주 만에 이렇게 되어버렸으니까는 고민이야', '1'],\n",
              " ['우리는 팔을 무리하게 돌리면 연골이 다 낡아 있기 때문에 안 좋다고 그래', '3'],\n",
              " ['그냥 그런 거는  괜찮은 것 같아 맞아 근데 생각보다 아는 사람은 없더라', '9'],\n",
              " ['그래서 내가 보기는 볼링을 한 칠십살 까지는 할 수 있지 않을까 싶어', '7'],\n",
              " ['내가 겪어본 바로는  골프 말고 다른 운동은 그다지 그런 것 같지는 않아', '9'],\n",
              " ['지금 그래서 백개는 안 넘지만  버디플레이 할 수 있는 데로 내려왔어요', '10'],\n",
              " ['또 폴 땐스를 배워 그래서 집에서  폴을 설치해놓고 밤마다 막 낑낑거리면서 해', '1'],\n",
              " ['허리에 좋은 수영을 하려고 하고 있고 근력을 키워야 되는 나이니까', '3'],\n",
              " ['그래서 한번 유심히 쳐다보긴 했어 그런데  솔직히 관심은 없어', '0'],\n",
              " ['우리가 보기에도 좀 프로다운  적극적인 부분이 없어서 관중이 많이 떨어진 것 같아', '0'],\n",
              " ['어쨌든 혼자  있는데 그 위에 선발투수들이 좀 받쳐 줄 수 있으면 참 좋겠어', '0'],\n",
              " ['그래서 참다 참다 강사님한테 메칠 전에 너무 쉽다고 얘기를 했지', '9'],\n",
              " ['골프 같은 스포츠는 문화적으로 고도로 발전한 스포츠가 되었는데', '2'],\n",
              " ['마지막으로 매번 이십 오번을 올해 그냥 말 그대로 샛별처럼 등장한 신인 선수한테 넘겨주고', '0'],\n",
              " ['내가 에전에 육상에서 운동할 때에는 정말 한시간도 버티기 힘들었었거든', '1'],\n",
              " ['그래서 다른 스포츠를 찾으려니까 뭐가 보이지도 않고 없더라고', '2'],\n",
              " ['요즘 야구장에 사람들이 통 없더라고 여름 되고 나서 날이 더워서 그런가', '0'],\n",
              " ['제대로 배우려면 어디서 배워야 되는지 찾아야 되고 하니까 고민이야', '9'],\n",
              " ['한팀이 되야 칠 수 있으니까   골프 할 기회도 잘 없어요', '9'],\n",
              " ['나는 차에서 술 먹는 그 분위기가 싫어 가지고  등산을 가기 싫더라고', '8'],\n",
              " ['우리 나이에는 얼마나 오래 살려고 저러나 싶은 생각도 들겠지만', '9'],\n",
              " ['배구도 다른 나라하고 비교했을 때 상당히 높은 점수를 얻고 있더라고', '6'],\n",
              " ['그것도 실력이 없어서 그런가 공을 오는 거를 못 보겠더라 친구는 어때', '7'],\n",
              " ['지금 대한민국의 스포츠를 잠깐 이야기를 하잖아 그러면 개선할 부분이 많아', '4'],\n",
              " ['나도 이제 운동을 해야 되나 그래서 집으로 퇴근하고 나서 위몸 일으키기를 하거든', '1'],\n",
              " ['그러니까 나보고 산에는 가지 말라꼬 하면서 그냥 평지만 걸어 다니래', '8'],\n",
              " ['돈도 안 들고 신체적으로도 별로 무리가 안 되니까 그게 가장 좋은 방법이지', '3'],\n",
              " ['스포츠를 찾아서  골프나 그런 것은 조금 늦었다는 생각이 들지만', '9'],\n",
              " ['집안일이라는 게 한도 끝도 없잖아 수영장을 가게 되면 조금 미뤄둘 수 있어', '2'],\n",
              " ['그래서 물에 안 뜨고 그런 적은 없는데 수영을 따로 배우지는 않았어', '9'],\n",
              " ['그러니까 친구들하고 더 많이 만나고 이곳저곳 놀러 다니고 ', '8'],\n",
              " ['그래  나 운동장 돌기만 하는 것은 아니고  거기 운동기구가 있거든', '3'],\n",
              " ['축구도 많이 발전했지만 배구도 보니까 상당히 수준급으로 올라갔더라고', '10'],\n",
              " ['정말 수영을 전혀 못해도 걱정할 게 하나도 없어  전에 겁 먹지 마', '1'],\n",
              " ['정말 시간이 없어서 운동을 못 한다기보다는 일하느라 힘드니까 모단 것 같아', '1'],\n",
              " ['나는 하루에 한 번 씩만 이렇게 잡아주면 실력이 엄청 늘을 것 같은디도', '5'],\n",
              " ['나도 스포츠를 제일로 하고 싶지만 현실적으로 그렇게 살 수 없잖아요', '2'],\n",
              " ['나는 맨날 운동을 해 아침 다섯시 반에 일어나서 뒷동산을 등산하거든', '8'],\n",
              " ['유산소 운동이은 좋긴 좋다고 하는데 매일 습관처럼 해야한다고 하고', '1'],\n",
              " ['첫 번째로는  선천적으로 운동신경이 없는 편이면 골프를 못하는 건 사실이야', '9'],\n",
              " ['어쨌든 그래서 방향을 그런 쪽으로 좀 하면 좋지 않을까 하는 생각도 들고 그래요', '2'],\n",
              " [' 운동을 즐기기보다 내 건강을 챙기기 위해서 운동을 했거든', '1'],\n",
              " ['그때  그랬는데 보통 팬으로서 좋아하는 선수들이 있잖아', '0'],\n",
              " ['체력이  않아서 그 후로는 되도록이믄 덜  운동을  하려고 해', '1'],\n",
              " ['이루수에 정은원 봐봐 얼마나 잘하는지  체구가 작은 데도 참 잘하더라니까', '0'],\n",
              " ['그래서 일부러 스포츠를 아예 접하지를 않고 일체의 관심을 끊었어', '0'],\n",
              " ['자유형은 많이 돌았는데  은 나이 먹고 힘드니까 오십 겨우 하나 했다', '9'],\n",
              " ['너도 여기 수영 하러 주말에 이쪽으로 넘어와 총무 토요일 날은 뭐해', '7'],\n",
              " ['그래서 주위 사람 보기도 좀 그렇고  성질이 나서 그냥 포기를 했었어', '9'],\n",
              " ['거기서는 박항서 감독이 아주 영웅이 되어 있더라고  영웅이래', '4'],\n",
              " ['내가 산에 갈 때마다 그 친구가 생각이 나 같이 갈 때가 좋았는데 싶어서', '9'],\n",
              " ['저는 아까 말씀하신 것처럼 우승할 때는 헥터라든가 그 외국인 투수들이 잘 해왔잖아요', '0'],\n",
              " ['그니까 그렇게 보면 동적인 운동인 거 같은데 이상해', '2'],\n",
              " ['멀쩡하게 생겨서 못 걸으니까 이상하게 쳐다보는 사람도 있고', '2'],\n",
              " ['그래서 좀 마음을 딱 다잡고 해야 되는데 그게 돈 주고 가야 운동도 하겠지', '1'],\n",
              " ['초보 딱지를 떼어야 그걸 따라 다니지  나는 뒤에서 못 따라가잖아', '8'],\n",
              " [' 그런데 폴 댄스는 옷을 벗고 해야 되잖아  맨살로 운동하는 게  ', '1'],\n",
              " ['그러면 진짜 가끔씩 산에도 다니고 너랑 같이 여러 가지 운동하러 다니고 싶어', '8'],\n",
              " ['그런데 지금은 팔  구 삐 에이 에스는 정확하게 떨어진다고 했잖아', '0'],\n",
              " ['참 갑자기 생각난  우리  요즘에는 또 골프를  하더라', '9'],\n",
              " ['요즘 아무리 대중화가 됐다 그래도 그게 그렇게 적은 돈이 드는 게 아니더라고', '9'],\n",
              " [' 팔십 이년도 그러니까 한 삼십년도 더 된 얘기죠 그때는 저도 아마 꽤 젊었을 때니까', '7'],\n",
              " ['어뜬 쪽이 좋은지는 모르겠어 요즘 특별히 관심  종목 있어', '0'],\n",
              " ['골프 같은 스포츠는 문화적으로 고도로 발전한 스포쯔가 되었는데', '2'],\n",
              " ['우리 집에도 자전거 타는 사람 한명 있잖아 어제도 타러 간다고 하는 거야', '5'],\n",
              " ['그럴 필요는 없다고 생각해 오히려 하고 싶으면 난 더 당당하게 치겠어', '1'],\n",
              " ['그것도 가 보니까 내가 유지를 할 수 있는 시간이 여의치 않아서 그만뒀거든', '1'],\n",
              " [' 수영이 없거든 그래서 산에 가는 친구들이 몇 명 있어', '9'],\n",
              " ['한순간에 때리니까 잘 들어가더라고', '7'],\n",
              " [' 때 되면 위 아랫마을 나눠서 경기를 하면 동네 사람들 다 나와서', '0'],\n",
              " ['골프에 관심을 먼저 가진 사람이 자기니까 자기가 먼저 배우는 게 낫지', '9'],\n",
              " ['내가 항상 당신한테 걱정하는 것은 스포츠를 두루 보고 그런 게 아니야', '1'],\n",
              " ['보니까 다른 스포쯔하고 다르게 이상하게 이 정이 드는 거 같아', '2'],\n",
              " ['남은 선수들한테도 하나하나 마지막 송별식 하면서 불러주면서 그렇게 했던 게 기억이 나더라고', '0'],\n",
              " ['운동해야 된다고 하면서 치료하면서 운동하는 방법도 가르쳐준대', '3'],\n",
              " ['이런 경기는 누스에도 별로 안 나오지  그러니까 모르겠더라고', '0'],\n",
              " ['자네도 나이가 적지 않으니까 좀 조심했으면 좋겠다  내가 그런 생각도 들어', '9'],\n",
              " ['열심히 걷고 운동 기구하고 이런 거 보면 정말 건강을 잃으면 다 잃는다잖아요', '1'],\n",
              " ['그런 모습을 보면서 앞으로 또  굉장히 큰 힘이 되겠구나 ', '0'],\n",
              " ['어쨌든 그 정도로 이제 하는데 지금은 이제 관중들이 그래도 많이 오고 있잖아요', '0'],\n",
              " ['그러면 신기하게도 또 잘 쳐져요 근데 문제는 다음 날 가면 잘 안 풀려요', '5'],\n",
              " ['근데 박항서를 보니까 젊었을 때부터 자기가 얼마나 열심히 공부했는지 모른대', '4'],\n",
              " ['골프 이렇게 많이 나오니  또 그것도 이제 약간 씁쓸한 거 같고 그렇더라고 ', '9'],\n",
              " ['해외여행을 가려고 마음 먹으면  일주일 전부터 요가를 해', '1'],\n",
              " ['나는 지금 요가만 하고 있지 대신 이제 근력 운동도 병행하려고 해', '3']]"
            ]
          },
          "execution_count": 149,
          "metadata": {},
          "output_type": "execute_result"
        }
      ],
      "source": [
        "test"
      ]
    },
    {
      "cell_type": "code",
      "execution_count": null,
      "metadata": {
        "colab": {
          "base_uri": "https://localhost:8080/"
        },
        "id": "w2WLlN8o9DKo",
        "outputId": "237afa9f-b2da-4fb8-f8d1-61f1d627a978"
      },
      "outputs": [
        {
          "data": {
            "text/plain": [
              "289"
            ]
          },
          "execution_count": 150,
          "metadata": {},
          "output_type": "execute_result"
        }
      ],
      "source": [
        "len(val)"
      ]
    },
    {
      "cell_type": "code",
      "execution_count": null,
      "metadata": {
        "colab": {
          "base_uri": "https://localhost:8080/"
        },
        "id": "itSYcViW9EgA",
        "outputId": "72b3816f-7162-48dc-bf93-6e259029f956"
      },
      "outputs": [
        {
          "data": {
            "text/plain": [
              "[['그리고 운동은 조금 과하다 싶을 정도로 중독이 되어 있어야 돼', '1'],\n",
              " ['한국 사람들은 등산으로 겨울 산에 올라가는데 장비가 완전 에레베스트 급이라고', '10'],\n",
              " ['괜히 짜고 치는 것 같아서 그래서 이것들하고는 다시는 당구를 치지 ', '7'],\n",
              " ['지금 중국에 김신욱 걔도 네게임인가 여섯개인가에 열골 이상 넣었잖아', '2'],\n",
              " ['계속 밖에서 걸어 다니며 운동하고 싶으면  파크 골프 그게 괜찮은 거 같아', '9'],\n",
              " ['그래서 그런 거 보면 박항서 감독은 진짜 대한민국 애국자다  그런 생각이 들어', '4'],\n",
              " ['그래서  없어 아까  골프도 잠깐  볼링이 나은 거 같아', '7'],\n",
              " ['날마다 배우는 게 조금씩 다르기는 하지만 물장구치는 기초부터 배워', '9'],\n",
              " ['골프도 집중력이나 근력 향상에 좋은 운동이니까 한번 해보는 게 좋을 것 같아', '3'],\n",
              " ['여러 가지로 도움   내가 건강해지면 맛있는 것도 먹으러 가자', '1'],\n",
              " ['근데 그게 공보기가 엄청 어렵더라고', '1'],\n",
              " ['우리 집에도 자전거 타는 사람 한사람 있잖아 어제도 타러 간다고 하는 거야', '5'],\n",
              " ['멀리 갈 수 있는 상황이 아니었으니까 계룡산 근처에 있는 곳을 많이 갔었어', '0'],\n",
              " ['탁구가 나이 먹어서는 할 수 있는 운동 중에 그래도 제일 괜찮은 것 같애', '9'],\n",
              " ['수영장 한번도 가 본 적이 없어서 너 도움이 필요할 것 같아 도와줘', '1'],\n",
              " ['두명 있는데 일단은 둘렛길을 잘 걸을 수 있도록 워밍업을 해보자', '8'],\n",
              " ['거기에 맛 들이면 그 숲에 대한 추억도 생겨', '0'],\n",
              " ['올림픽에서 우리나라 최초로 금메달을 딴 선수 이름이 뭐더라', '10'],\n",
              " ['너무 진짜 시간도 잘 가고 건강에도 좋고 너무 좋은 것 같애', '1'],\n",
              " ['올래는 아무래도 받쳐 주는 힘이 조금 많이 약했으니까 외국인 투수들이 더 분발하면 좋겠어', '0'],\n",
              " ['그런데 그게 또 안 좋은 점이 있더라고 스포츠에 대해 잘 모르게 된 것이', '2'],\n",
              " [' 제대로  없어 일찍 일어나는 것도 힘들고  시간이  하고', '1'],\n",
              " ['그런데 네저 스포츠는 너무 힘들고 나이 먹어서 할 것이 아니더라고', '9'],\n",
              " ['이제 뭐 스쿼트나 런치 같은 거 요런 거 해서 다리가 좋아', '3'],\n",
              " ['아무튼 그런 걸 보면은 정말 게임의 질이 좀 많이 떨어지지 않느냐 그런 생각이 들더라고요', '2'],\n",
              " ['일주일 내내 하는 거는 너무 힘들고 좀 나눠서 하면은 충분히 할 수 있을 것 같은데', '1'],\n",
              " ['근데 우리나라는 아예 뭐 그런 팀이 있지도 않거니와 예를 들어 뭐 수구 팀은 있지도 않잖아', '10'],\n",
              " ['그러니까 스포츠는 그냥 스포츠고  내가 할 수 있는 운동은 또 따로 있어야 돼', '2'],\n",
              " ['거기 보다는 집에서 가까운 도솔산 가면 많이 걸려야 한시간 반 정도야', '1'],\n",
              " ['실제로 보면은 그래 그래서 한번은 김주영 선수가 그 무등 경기장에서  쳤었거든', '0'],\n",
              " ['나는 최대한 몸을 높이는 동작이 가능하니까  이게 되게 시원하더라고', '1'],\n",
              " ['그런 사람들이 제대로 된 벌을 받아서  다시는 이제 어떤 곳에서도 그런 일이 못 일어나게', '1'],\n",
              " ['여러 가지로 도움 줘서 고맙고 내가  맛있는 것도 먹으러 가자', '1'],\n",
              " ['거의 친구처럼 플레이 하는데  누구는 잘하는데 나는 못하면 부끄럽기도 하고', '9'],\n",
              " ['그런 잠재력을 가진 선수가 자기 잠재력을 충분히 발휘할 수 있다는 게 참 대단해', '10'],\n",
              " ['그러니까 지금 남녀노소 등산  배드민턴 등 안하는 운동이 없는 것 같더라고', '8'],\n",
              " ['그러면 집에서 아령 하시고 저는 집 팔층인데 짐 있을 때만 엘리베이터를 타요', '3'],\n",
              " ['나도 이제 운동을 해야 되나 그래서 집으로 퇴근하고 나서  하거든', '1'],\n",
              " ['이제 그렇게 이야기도 해 주고 나와서 이제 경기에서 공을 던지는 모습을 봤었거든요', '6'],\n",
              " ['운동선수들은 자기 몸에 왜 문신을 새겨 가지고 이렇게 하는데  수찬은 문신이 전혀 없어', '10'],\n",
              " ['체육 시설이나 이런 것들에 대해 하는 생각이나 관점이 있을 것 아니야', '2'],\n",
              " ['우승은 말해 뭐해 당연히 하는 것이고 리그 우승도 하고 그랬으면 좋겠어', '0'],\n",
              " ['그러니까 내가 화도 내고 그러는 거지 그 순간만 지나면 또 없어지는 거거든', '1'],\n",
              " ['클럽마다 몇 미터  몇 미터 다 해 놓고 연습을 엄청 많이 했거든', '5'],\n",
              " ['엣날 유니버셜 대회 때는 잘하고 멋졌는데 응원도 많이 하고', '10'],\n",
              " ['근데 사이클이 비싸더라고 가격대도 굉장히 다양하고 시간도 많이 들잖아', '1'],\n",
              " ['결혼도 안 하고 혼자 있는 것이 아니라 가족이 생기게 되면', '7'],\n",
              " ['효과가 없다고 하더라고 몸이 효과를 보려면 땀이 배일 정도로 해야한대', '1'],\n",
              " ['주변에서 보면 정말 대단한 거 같아 그걸 어떻게 다 챙겨서 보는지 ', '9'],\n",
              " ['좋은 생각이네 스포츠라는 게 항상 그러잖아 영원한 성적이 없다고 그러잖아', '0'],\n",
              " ['이런 팀들은  계속 팀을 리빌딩 해서 계속 키워갔잖아요 근데 우리 기아는 그러질 못했지', '0'],\n",
              " ['대부분 아이언  드라이브  어프로치  퍼팅 이렇게 네가지를 하는 거야', '5'],\n",
              " ['그래서 물에 안 뜨고 그런 적은 없는데 수영을 따로 배운 적은 없었어', '1'],\n",
              " ['골프 치는 사람이 거의 없다 보니까  옛날에는 자랑거리 중에 하나였어', '9'],\n",
              " ['우리 동네 사람 하는 거 보니까 팀을 이뤄서 하는 거 보니까 재미있겠더라고', '2'],\n",
              " ['그러니까 차 한곳에 파킹해 놓고 가까운 거리는 다 걸어 다니니까', '8'],\n",
              " ['나도 운동신경이 있는 줄 알았거든 근데 수영은 별개의 영역인 것 같아', '9'],\n",
              " ['바깥에서 하는 골프는 많이들 하더라고 운동이 되기는 하나봐', '9'],\n",
              " ['하루에 십분씩이라도 매일 같이 우리 집에서 홈플러스까지 갔다 오고', '5'],\n",
              " ['전부 그냥 사오십대 아줌마 같은데 나오시는데 보니까 연령대가 상당히 높더라고', '2'],\n",
              " ['너무 기분이 좋았다고 이야기를 하는 거야 그래서 너무 부러웠어', '4'],\n",
              " ['그 우순생인가 그렇게 세계 제패하고 그랬던 것처럼  우리나라는 진짜 근성이 있는 것 같아', '10'],\n",
              " ['이년을 했는데 아직도 힘들어 운동 중에서 수영이 이렇게 힘들 줄 몰랐어', '1'],\n",
              " ['그래서 내가 자네의 의견을 충분히 아는데 내 관심에서 스포츠는 그렇다는 거야', '2'],\n",
              " ['그래서 우리나라 사람이 앞으로 에 가면 큰 대접을 받을 거야', '10'],\n",
              " ['진짜 야구를 좋아하는 팬들은 그 공 값이 얼마 되지는 않겠지만 그 기념으로 하는 거죠', '0'],\n",
              " ['우리 동네에 가까운 수영장이 생겨서 일주일에 세번  갈 수 있을 것 같아', '2'],\n",
              " ['아무튼 요즘  열심히 야구를  즐겁게 잘 보고 있는 팬 중의 한사람입니다', '0'],\n",
              " ['작년에 우리 한화가 그렇게 인기가 좋았단 말이야 한용덕이 치켜 세웠었지', '0'],\n",
              " ['그래서 노인들은 친구도 없고 나가려고 하지도 않으니까 외로워지는 거잖아', '9'],\n",
              " ['그래서 또 운동할 시간도 잘 안 나니까 가끔씩 빠지게 되거든', '1'],\n",
              " ['박항서가 유능한 지도자로 너무나 멋진 장면들을 많이 만들어 내고 있고', '4'],\n",
              " ['사실 그래서 빠져들잖아요 이게 뭐 그런 분들이 이 팬들하고 일반인하고의 차이인 거죠', '0'],\n",
              " ['티비 뭐 뉴스 보시면서도 아령 이런 거 들고 간단한 운동이라도 하셔요', '6'],\n",
              " [' 골프 얘기했지  채 하나가 굉장히 비싸 살 ', '9'],\n",
              " [' 그 아픈  지금은 안 해 나랑은 맞지 않는 것 같으니까', '2'],\n",
              " ['그런데 너를 가만히 생각해보면 너는 쉴 때 운동을 너무 안 하는 편이야', '1'],\n",
              " ['병원에서도 그래서 지금은 그냥 간간하게  않고 헬스만 하고 있지', '3'],\n",
              " ['너는 참 승부욕이 많은 거 같더라 볼링도 많이 늘었고 자주 쳐야 되는데', '7'],\n",
              " ['사람들이 말을 그렇게 하면서  막상 왜 그런지는 이해를 못하고 모르더라고요', '0'],\n",
              " ['네 가지 모두가 잘 돼야 스코어가 잘 나오는 게 골프인데  그게 쉽지 않아', '9'],\n",
              " ['결국은 신인들이 반짝 나와서 한두게임 잘해서 올라갈 수도 있지만 매일 그럴 수는 없잖아', '0'],\n",
              " ['그 세 사람은 등산 준비를 해 갖고 왔으니까 올라갔다 온 것 같고', '8'],\n",
              " ['안 그래도 그 골프 선수가 하는 말이 힘으로 하면 절대 안 되고', '9'],\n",
              " ['아까 대화 주제가 스포츠였으니까 내가 다시 스포츠에 대해 얘기해 볼게요', '9'],\n",
              " ['그러면 걷는 운동도 안 되나 산보나 걷는 거나 무리가 안가잖아', '3'],\n",
              " ['내가 많이 아프고 나서 생각하니까 이제껏 내가 잘못 생각해온 것 같았어', '3'],\n",
              " ['머리속으로 생각만 하다가 같이하게 되니까 동기부여도 더 되는 것 같아', '0'],\n",
              " ['내가 요가 하면서 허리도 부드러워진 거 같고 무릎도 나은 것 같으니까', '3'],\n",
              " ['그리고 같이 운동할 수 있다는 게 얼마나 좋을지 모를 거야 그지', '1'],\n",
              " ['그것도 좋지 그러면 수영복이랑 그런 것들 사야겠네 같이 고르러 가자', '1'],\n",
              " ['나이를 먹다 보니까 비즈니스보다도 친구들하고 얘기하면 골프 얘기가 나와요', '9'],\n",
              " ['우리나라도 보면 점차적으로 스포츠 강국으로 발전해 나가는 것 같아', '10'],\n",
              " ['골프 치려면은 또 돈이 많아야 되는데  한국에 돈 많은 사람이 되게 많은가 보다  싶기도 해', '9'],\n",
              " ['맞아  김효주도 사실 우승권에 몇 번을 갔었는데 이등 삼등으로 밀려나잖아', '0'],\n",
              " ['네가 못 본 사이에 많이 성숙해져서 이렇게 대화도 하고  아는 것도 많아지고', '9'],\n",
              " ['근데  우리 기아 선수들은 끝나고 나면은 어디로 사라지는지 그냥 잘 가 버려요', '0'],\n",
              " ['공중에 막 이렇게 천에서 날라다니는 게 필라테스야 그 우리집 앞에 광고하던데', '1'],\n",
              " ['그런 선수가 있었어요 그런데 이제 결국은  이군도 왔다 갔다 하고 두각을  않았어', '0'],\n",
              " ['옛날에는 스포츠라는 소리도 안 하고  그냥 놀이 문화라고 했잖아', '2'],\n",
              " ['거의 칠팔십대 할머니들인데 수영장에서 보면 전부 사오십대 아줌마 같더라', '2'],\n",
              " ['내가 헬스를 십년째 다니잖아 다녀보니까 근력운동은 우리한테는 안 맞더라고', '8'],\n",
              " ['자네가 맨날 나한테 스포츠 경기만 본다고 하는데 그걸 보다 보면 그러거든', '0'],\n",
              " ['그냥 티비 보면서도 아령 갖다 이렇게 운동하셔요 이렇게 하시면 돼', '6'],\n",
              " ['그러니까 돈이 많으면 얼마나 좋을까  뭐 그런 생각을 계속하게 되더라고', '1'],\n",
              " ['그래서 내가 너무 힘들다고 하면 하는 말이 나 지금 운동 가는데 같이 가자', '1'],\n",
              " ['그리고 자네가 아까 얘기한 베트남도 작은 나라지만 박항서 감독이 이끌었잖아', '4'],\n",
              " ['그런데 카트로 수비도 잘해야지만 공', '0'],\n",
              " ['기념으로 야구를 좋아하는 사람이 야구장에서 자기가 좋아하는 팀의 경기를 추억하는 거니까', '0'],\n",
              " ['이겨야지 조금 자신감도 생기고 좋을 텐데 그게 잘 안 돼', '7'],\n",
              " ['요즘은 우리 집 앞에 있는 그 하상도로 그곳도 되게 공원처럼 잘해놨잖아', '9'],\n",
              " ['돈 많은 사람들이 이거다 싶으면 다 개발해서 전부 엉망으로 만들어 버리잖아', '10'],\n",
              " ['그 우생순인가 그렇게 세계 제패하고 그랬던 것처럼  우리나라는 진짜 근성 있는 것 같아', '10'],\n",
              " ['따라서 해보니까 크게 무리가 가지 않는데 운동은 되고 좋더라고', '3'],\n",
              " ['거꾸로 살았는데 건강 진단을 받았더니  검사로 연결을 해줬어', '1'],\n",
              " ['며칠 동안 너무 안 되는 것 같이 오늘은 되는것이야 정말 너무 기뻤어', '1'],\n",
              " ['그런데 지금은 팔구피 에스 에스는 정확하게 떨어진다고 했잖아', '0'],\n",
              " ['병원에 매일 다니는데 근력 운동을 조금씩 하고 걷기도 해야 한다고 하더라고', '3'],\n",
              " ['그 정도로 물속에서 힘든 운동을 한 거지 그래도 운동하는 동안 재미있었어', '7'],\n",
              " ['침피언스 리그 올해 일등을 했으면 한다 그런 나의 바람이 또 있는 거지', '0'],\n",
              " ['정말 연세가 많으신  등도 굽고 이러신 분들이  아침 운동을 같이 하세요', '1'],\n",
              " ['그러게 난 계속하고 싶거든 하고 싶은데 의사가 안 된다고 하면', '3'],\n",
              " ['그런데 내 주변에 보면 골프 치는 사람들이 다 사업하는 사람들이야', '9'],\n",
              " ['우리 구슬이랑 같이 등산 한번 가야 될 것 같네 나는 배드민턴도 좋아', '8'],\n",
              " ['알았어 그러고 나는 요즘에는 좀 허리가 별로 안 좋거든', '3'],\n",
              " ['그래서 나도 이제 시간 날 때 등산을 갈까 집 근처에 마니산이 있거든', '8'],\n",
              " ['마음만 먹으면 누구나 할 수 있고 애전에는 골프 배우는 건 상위층만 됐지', '9'],\n",
              " ['탁구를 이렇게 치다 보면 많이 웃게 되고 그렇더라고', '7'],\n",
              " ['앞에서 말한 이유 때문에 내가 너한테 수영을 꼭 추천하고 싶었어', '9'],\n",
              " ['어떻게 보면  나라 자체를 무시하는 행태가 아니야', '10'],\n",
              " ['그런데 구경하는 거는 참 재밌어', '2'],\n",
              " ['그래서 그냥 말 없이 내 마음대로 수영복이랑 필요한 물품 다 사서 보냈어', '1'],\n",
              " ['몸으로 느껴지지만 이제 무릎도 안 좋고 연골도 많이 닳아 있으니까', '3'],\n",
              " ['대학교 다닐 때는 야구를 진짜 좋아했었어 그래서  야구 선수들 이름도 다 외우고', '0'],\n",
              " ['이용구가 이적 시켜 달라고 말한 건가 근데 그렇게 하면 안 되는 거 아니야', '0'],\n",
              " ['꼭 요가를 가지 않더라도 집에서 할만한 운동을 한번 생각해 봐', '1'],\n",
              " ['그냥 듣기에 비용이 많이 든단 얘기만 듣고 그래서 계속 망설이고 있어', '7'],\n",
              " ['아까 이범호 선수 얘기를 하셨는데 그 선수가 보면은 참 모범적인 선수였던 거 같아요', '4'],\n",
              " ['나도 마음먹은 지는 오래됐는데 어떤 운동을 어떻게 시작해야 될지 몰랐어', '1'],\n",
              " ['맨날 집에 있으면 이것저것 생각하는 것도 많고 하니까 병이 나는데', '1'],\n",
              " ['생각하는 것 자체도 되게 진실하고 그래서  내가 원래 축구는 별로 좋아하진 않았거든', '6'],\n",
              " ['예전에 운동했던 거는  야구인데 야구를 처음에 밤낮으로 많이 했어', '0'],\n",
              " ['이제 그 구단의 경기를 보면서 기념으로 할 수 있는 게 상당히 좋은 추억이 될 수 있을 것 같아', '0'],\n",
              " ['어떻게 보면 우리가 더 나이 먹으면 진짜 아예 못 할 수도 있어 시작도 못 한다고', '9'],\n",
              " ['골프를 치는  연령대가 있거든 젊었을 때부터 배워서 친 사람일 텐데', '9'],\n",
              " ['시간 내서 너랑 같이 한번 인터넷 검색도 해보고 매장도 가보긴 해야겠어', '1'],\n",
              " ['그런 스크린 콜프는 아무래도 밖에 나가는 것에 비해 한계가 있잖아', '9'],\n",
              " [' 기아 타이거즈가 상위권에서 쳐져 있는 그 부분을 보면 외국인 선수들이 부진하더라고', '0'],\n",
              " ['재미없을 거 같아  티비도 보고 골프 연습장 가서 뒤에서 구경해도 보고', '6'],\n",
              " ['동네 한바퀴도 돌고 했었는데 과식을 많이 한 상태에서 했었어요', '3'],\n",
              " ['자네도 알다시피 이게 세이브가 안 되는 게 상당히 민감한 부분이거든', '0'],\n",
              " ['그래서 우리 동생은  골프 치면서 가장 어렵거나 잘 안 됐던 게 뭐지', '9'],\n",
              " ['운동도 나이에 맞게 해야되는 거잖아 그냥 있다고 하면 무리가 온대', '3'],\n",
              " ['그 투수일 때 우연히 그 야구장에서 마주칠 기회가 있어 가지고 사인을 한장 받았어요', '0'],\n",
              " ['엄청 아팠어 뿐만 아니라 던진 볼에 맞기도 하고 야구가 좀 격하잖아', '0'],\n",
              " ['저는 좀 그런 행태를 보면서 참 좀 아쉽다 라는 그런 부분이 좀 없지 않아 있더라고요', '0'],\n",
              " ['지금은 게임도 스포츠야   이 스포츠드라고 그래서  거기도 관심이 있고', '2'],\n",
              " ['그 에프에이로 해서 이제 기아로 들어와 가지고 십년 넘게 뛰었는데 어쨌든 공로가 있잖아', '0'],\n",
              " ['카페에서 친구들 만나서 수다 떤다고 하면 서로 말 많이 하고 노는 편이잖아', '4'],\n",
              " ['지금이 아니면 더 늦게 가서는 못 배운다는 것도 알아 내가 몰라서 반대가 아니야', '2'],\n",
              " ['자네도 열정적이고 정열적으로 운동을 하는데 너무 무리하는 것 같기도 하거든', '3'],\n",
              " ['헬스 크럽에 가서는 다른 사람이 들기 힘든 백키로를 들어버렸대', '3'],\n",
              " ['날 떠울 때 수영장 가서 수영하기도 하고 운동을 아예 끊은 건 아니야', '1'],\n",
              " ['맥주 마시면서 스트레스를 푸는지  나는 에어컨 틀어놓고 집에서 보는 게 나아', '9'],\n",
              " ['그래서 친구들하고 직장 동료들하고도 당구 같은 거 쳐 보고 싶었고', '7'],\n",
              " ['중국하고 겨뤄도 손색이 없을 정도로 잘 하는 우리나라 선수들이 많이 있지', '10'],\n",
              " ['금메달 몇 개 뉴스로 이기고 진 결과가 쭉 나오잖아 그러면  계속 보게 되더라고', '2'],\n",
              " ['근데 이제 통상 지금 원했던  팔백만명 이상의 관중이 오는 거였단 말이야', '0'],\n",
              " ['이렇게 운동하는 사람이 있으니까  같이 하게 되는 것 같아', '9'],\n",
              " ['나도 이렇게 텔레비나 이렇게 탁구 저기한 사람들 이렇게 봤어', '9'],\n",
              " ['진짜 나는 수영을 하기 잘한 것 같아 나는 자녀 둘하고 같이 다니잖아', '8'],\n",
              " ['하지만 작심삼일을 계속하다 보면 요가 같은 경우  몸이 적응을 하겠지', '3'],\n",
              " ['마니산에 운동 하러 갈까 아침에 일찍 가면 숲이 우거져 가지고 그늘져', '1'],\n",
              " ['둘이 다니니까 말동무도 하면서  특산물도 먹으며 등산하면 좋을 것 같아', '8'],\n",
              " ['저는 좀 그런 형태를 보면서 참 아쉽다 라는 그런 부분이 좀 없지 않아 있더라고요', '0'],\n",
              " ['내가 보더라도 당신이 못 이룬 꿈은 아쉽기도 하고 그러거든요', '0'],\n",
              " ['나는 당구를 백 이십 정도 치는데  너는 이백을 쳤고 그리고 그 친구는 삼백', '7'],\n",
              " ['그런데 골프든 뭐든 나하고 안 맞으면 그런 경우가 있다고 하더라고', '9'],\n",
              " ['항상 건강진단을 하면  근력은 부족한데 체지방은 항상 많게 나왔었거든', '3'],\n",
              " ['근데 사실 나이를 먹을수록 과격한 운동보다는 안 다치는 게 제일 좋을 것 같은데', '9'],\n",
              " ['내가  제일 좋아하는 스포츠는 옛날에는 당구였었어', '2'],\n",
              " ['자기도 모르게 고정되어 있는 지지대를 연습 때 치게 될 거예요', '5'],\n",
              " ['수영을 하지 않아도 되니까 물 속에서 걷기만 해도 관절에 좋다고', '3'],\n",
              " ['그래서 상당히 프로야구도 이제 일반인들에게  흥미를 갖게 해주는 것 같아', '0'],\n",
              " ['지금 아이티 시대가 왔으니 옛날 같은 놀이가 없는 것은 당연하고', '2'],\n",
              " ['산을 타면 공기의 시원한 맛과 정상에 올라갔을 때  뿌듯한 있고', '10'],\n",
              " ['챔피언스 리그 올해 일등을 했으면 한다  그런 나의 바람이 또 있는 거지', '0'],\n",
              " ['왜냐하면 아까 구슬이가 얘기했듯이  부진의 모든 게 감독 탓은 아니거든', '4'],\n",
              " ['즐거운 분위기에서 자기가 좋아하는 운동을 진짜 마음껏 해서 자기 역량을 펼쳐야지', '7'],\n",
              " ['수영 갔다 왔는데 오늘은 조금  최선을 다해 열심히 했는데', '2'],\n",
              " ['생각보다 이수근이 정말 잘 치더라 나도 중계 끝나고 탁구 한번 쳐야지', '7'],\n",
              " ['동네를 한바퀴 돌아도 되고 아파트 단지를 한바퀴 돌아도 되고', '2'],\n",
              " ['내가 몸이 너무 갑자기 살이 쪄서 처음 했던 건 헬스 ', '3'],\n",
              " ['우리 나이에는 요가 ', '3'],\n",
              " ['그런데 같이 갑시다  같이 가서 연습합시다  이렇게 말한 사람은 아직 없어', '5'],\n",
              " ['그러니까 내가 지금 얘기할 때 골프를 시작합시다 어떻게 생각해요', '9'],\n",
              " ['시간이 꽤 다양하게 나눠져 있어 나도 출근 전에 가거든 아마 가능할 거야', '8'],\n",
              " ['그리고  우리나라 문물이 아니고 서양 문물이 들어왔잖아', '10'],\n",
              " ['그리고 진짜 이제는 몸이 파으면 치료도 잘 안 듣는 것 같은 기분이 들어', '1'],\n",
              " ['나름대로 걷기 운동을 꾸준히 하시고 그러면 그래도 건강하시더라고요', '1'],\n",
              " ['그리고 한국 사람이  여행을 가면    하면서 엄청 좋아한대', '10'],\n",
              " ['저도 수영 같은 운동도  그냥 따로 배우지 않아도 곧잘 따라하고 그랬어요', '9'],\n",
              " ['여기 비슷한 사람끼리 재미있게 치면 좋을 건데', '2'],\n",
              " ['박찬호 선수를 비롯해서 지금 미국 엘에이 다저스의 류현진 선수가 있잖아요', '0'],\n",
              " ['또 접영을 넘 못했었는데 어느 날 수영 끝나고 했더니 다들 ', '1'],\n",
              " ['그리고 주로 내가 직접 하기보다도  구경하는 것을 좋아하는 편이지', '0'],\n",
              " ['그래서 운동을 하기는 해야겠다 우리 나이가 있으니까 생각을 했지', '9'],\n",
              " ['그래서 꾸준히 노력을 한다면 또 그런 세계적인 선수들 대열에 끼지 않을까 싶어', '10'],\n",
              " ['내가 인터넷으로 검색해보고 괜찮은 거 있나 찾아서 ', '1'],\n",
              " ['둘이 만났을 때는 이천이년도 월드컵을 우리나라에서 개최했다는 거지', '10'],\n",
              " ['내 나이대 친구들 골프 많이 치고 골프 이야기도 많이 하긴 하는데 글쎄', '9'],\n",
              " ['나이 먹어 갖고 덥기나 하고  가지도 못하겠고 티브이나 보면서 이야기하고 살아', '6'],\n",
              " ['그런 점은 스포츠나 운동의  약간 떨어진 거 같아 ', '2'],\n",
              " ['그런 생각이 들어서 지금 수영을 배운다 이런 거는 선뜻 못 할 것 같아', '1'],\n",
              " ['우리  탁구장이 있거든 가서 가족들이랑 탁구를 많이 치거든', '7'],\n",
              " ['어프로치가 내가 원하는 대로 딱딱 떨어져 주니까 재미있기는 해서 치는데', '5'],\n",
              " ['저기 아파트 골프  돈 내고 하는 거 있어 열심히 하더라고', '9'],\n",
              " ['그런 것들이 쫌 안 되고 하다 보니까 굉장히 아쉽더라고요  그리고 올래  투수들 있잖아', '0'],\n",
              " ['주민센터 그쪽 이용해서 하면 저렴하기도 한데  일단 제일 하고 싶은 건 줌바야', '2'],\n",
              " ['그런데 주변 사람들 얘기를 들어보면 가서 골프만 친다는 얘기 못 들어 봤거든', '9'],\n",
              " ['하나의 팀을 만들어서 가지고 이렇게 했던 것들이 결국은 박자가 안 맞으니깐 못 가드라고', '0'],\n",
              " ['근데 사실 걔네들하고 같이 맞추는 건 내가 별로 안 내켜 친구라고 해도 그래', '9'],\n",
              " ['기아도 감독 바꾸고 막 올라갔지  그리고 또 롯데도 감독 바꾸니 올라갔어', '4'],\n",
              " ['그리고 시간 될 때는 한 삼십 분 정도 스트레칭 해도 해', '1'],\n",
              " ['차후 문제라고  우리 너무 오래 살았어 당신도 나도 서로를 너무 잘 알아', '5'],\n",
              " ['그런 선수가 있었어요 그런데 이제 결국은  이군도 왔다 갔다 하고 두각을 드러내진 않았어', '0'],\n",
              " ['칠십살 전까지 해외를 많이 다녔던 게  인생을 참 잘 보냈다는 생각이 들어', '6'],\n",
              " ['예전에  야구인데 야구를 처음에 밤낫으로 많이 ', '0'],\n",
              " ['내 친구 하나는 또 볼링에 미쳐있는 애가 있거든 걔는 완전 ', '7'],\n",
              " ['그라고 가 갖고 나야 뭐 직장도 암데도 안 다니고 거기 가서 보내니까', '8'],\n",
              " ['운동하러 가는 게 아니고  샤워하러 가는 그런 마음으로 가니까 잘 안돼', '1'],\n",
              " ['그리고 평상시에 저녁때 운동을 하거나 아침 일찍  하는 편이에요', '8'],\n",
              " ['베트남이나 뭐 다낭 이런데 가려고 하면 그쪽에서도 뭐 레저 같은 걸 찾아봐야지', '4'],\n",
              " ['요새 한별이가 자꾸 골프 치러 한번 가자는데  골프 치러 다니고 있지', '9'],\n",
              " ['이제 나이가 든 것 같아 누워서 티브이를 봐도 흥미가 없어지니 큰일이야', '6'],\n",
              " ['바닷속에 들어가서 우리가 접하지 않았던 생물체를 직접 눈으로 보는 거야', '7'],\n",
              " ['한때는 굉장히 잘 나가는 선수였는데 그런데 외국 정상적인 선수 많은데', '10'],\n",
              " ['가을 야구에 나갈 수 없는 그런 상황까지 이제 오다 보니까 결국은 이런 사달이 난 거지', '0'],\n",
              " ['운동할 겸 가보자고 거기 저번에 가니까 경치도 좋고 상당히 마음에 들던데', '1'],\n",
              " ['여러 가지로 도움 줘서 고맙고 내가 근강해지면 맛있는 것도 먹으러 가자', '1'],\n",
              " ['그래스 너무 기뻐서 끝나고 그이 한시간씩은 연습을 했던 것 같아', '5'],\n",
              " ['네가 아까 선창에서 자전거를 대여해서  그곳에서 운동 한다고 그랬잖아', '5'],\n",
              " ['신체의 리듬도 좋아지고  나름대로 에너지를 얻을 수도 있고  좋은 영향이 있잖아', '1'],\n",
              " ['그리고 또 다솜이는 어렸을 때 심장병을 앓아서 축구를 못 한다고 했던 때도 있었대', '6'],\n",
              " ['잘 못 타는 사람이 속력에 맞추다 보니까  심하게 넘어진 거야', '1'],\n",
              " ['그리고 하나 더 얘기하자면  골프를 치다 보면 여러 가지 에피소드가 많아요', '9'],\n",
              " ['또 뭐 어쨌든 그런 여러 가지 능력들이 대단하고  또 이 골프를 치려면 돈이 많아야 되잖아', '9'],\n",
              " ['동네 형들한테  어렸을 때 개헤엄으로 배운 건데  그렇게 배웠어도 수영은 잘해', '2'],\n",
              " ['이런 식으로 계속하니까 내 근력이 어느 정도 유지가 되는 거 같아', '3'],\n",
              " ['그리고 집에서 가볍게 탁구 조금 치는 것까지 해서 도움이 많이 돼', '9'],\n",
              " ['팔십 대 정도로 나오면  우리가 선수를 할 것은 아니니까 좋을 것 같아', '6'],\n",
              " ['그냥 지금은 한 밤중에 한시간이고 두 시간이고 ', '1'],\n",
              " ['그래도 운동장에 가서 돈다고 하니까 걷기라도 꾸준히 하면 좋겠어', '1'],\n",
              " ['그러니까 골프를 시작한지는 오래 됐는데  중간에 너무 안쳤으니까 힘이 들어', '9'],\n",
              " ['그게 잘 들어가던데 빽 서브 넣는데', '5'],\n",
              " ['그냥 내 짧은 식견으로는 그런 생각을 하게 되고  어쨌든 그게 한가지 문제잖아요', '5'],\n",
              " ['그래서 내가 그 사람한테 미안하고 그렇더라고', '9'],\n",
              " ['뭐 그런 팀들이 다 팔 구 십위 등 항상 밑으로 가 있으니까 사실 야구 보는 재미가 떨어지지', '0'],\n",
              " ['자전거 타는 길도 잘 돼 있긴 한데 왕숙천 쪽으로 좀 벗어나야 되니까 좀 그렇지', '5'],\n",
              " ['주위에 꼴프 치는 사람들이 상당히 많더라고 요즘 스크린 꼴프를 포함해서', '9'],\n",
              " ['그러니까 우리 둘 다 자전거를 사서 운동을 다닌게 제일 좋을 것 같아', '5'],\n",
              " ['부럽다기보다는 좀 이렇게 대견하다고 느꼈고  또 구슬 선수가 뭐 발렌시아에서 뛴다며', '10'],\n",
              " ['아무것도 모르는 상태로 와서 내가 운동을 가르쳐주면 ', '3'],\n",
              " ['그런데 그 중에 팔을 돌리는 기구가 있어 그 기구가 우리 나이에는 안 좋대', '9'],\n",
              " ['손흥민은 매너가 좋기로 유명하잖아 소속된 팀에 있을 때도 팬들에게 잘해 주고', '10'],\n",
              " ['사람 인기가 너무 좋아 갖고 좀 그 사람한테 잡기는 좀 어렵기는 어렵더라고', '9'],\n",
              " ['그래도 현재까지는 투수로서  방어율이 일점 오 정도로 일위 위더라고', '0'],\n",
              " ['그리고 저도 운동신경이 많이 없는 편인데 그래도 골프는 괜찮아요', '9'],\n",
              " ['당신이 이제는 너무 돈 걱정만 하지 말고 긍정적으로 생각을 해 봐', '1'],\n",
              " ['그치 그렇게 이용할 수 있고 그거는 우리가 좀 고민을 해 봐야 될 것 같긴 하다', '1'],\n",
              " ['그래서 수영하는 것이 훨씬 어렵지 거북 등인가 그것을 한 육개월 찼나 봐', '1'],\n",
              " ['너는 산에도 자주 가잖아 거기다가 볼링도 하고 휴일을 유용하게 보내는 거 같아', '7'],\n",
              " ['또 유능한 선수들을 많이 배출해야 되지 않느냐  나는 이런 생각이 들어', '10'],\n",
              " ['너는 갓바위를 가 본 지 얼마나 됐어 한참 됐지  사람들 갈 때 따라가는 정도야', '8'],\n",
              " ['그 분은 자전거가 추미인 것 같아 그렇게 자신에게 맞는 운동을 찾아봐야겠지', '5'],\n",
              " ['그렇게 헤엄치는 것을 깨구리헤엄이라 그러는데 지금도 잘해', '2'],\n",
              " ['너 덕분에 이번에는 정말 나도 잘할 수 있을 것 같아 자신감이 생겼어', '10'],\n",
              " ['그래도 하여튼 나는 못 치더라도  탁구장에 갈 때는 기분이 좋더라고', '7'],\n",
              " ['당신 요즘 등산 안 다니잖아 그러니까 등산또 하고 헬스크럽도 다니라는 거야', '8'],\n",
              " ['근데 가구 갖고 하는 운동이 그니까 우리는 사실 런닝머신도 안하잖아', '1'],\n",
              " ['근데 당신이 너무 좋아해 너무 스포츠 선수들에 몰입해서 있어가지고 좀 그래', '0'],\n",
              " ['보링도 잘 치고  몸도 운동한 사람처럼 생겨서  운동 많이 하나 보다 생각했는데', '7'],\n",
              " ['네가 골프는 그냥 하면 된다고 했고  수영을 할 생각도 가지고 있고', '9'],\n",
              " ['중계를 보면 저렇게 운동을 하면서 힘을 길러야 되겠구나 하고 자극을 받지', '2'],\n",
              " ['그러면 집에 왔던 차림으로 가면 되는데  골프는 옷을 갖춰야 돼', '9'],\n",
              " ['아까 탁구 얘기를 했는데  사실 탁구가 굉장히 전신에 좋은 운동이거든', '7'],\n",
              " [' 이렇다  비교된다 하는 것 보니까 보기 ', '10'],\n",
              " ['이제 좀 괜찮아지고 그러면 뭐 할 수 있는 게 수영이나 요가 같은 거겠지', '3'],\n",
              " ['탁구가 더 나이 더 먹어서도 할 수도 있고 무리도 별로 없고 좋은 거 같애', '3']]"
            ]
          },
          "execution_count": 151,
          "metadata": {},
          "output_type": "execute_result"
        }
      ],
      "source": [
        "val"
      ]
    },
    {
      "cell_type": "code",
      "execution_count": null,
      "metadata": {
        "id": "PROVLskrgGsz"
      },
      "outputs": [],
      "source": [
        "class BERTDataset(Dataset):\n",
        "    def __init__(self, dataset, sent_idx, label_idx, bert_tokenizer, max_len, pad, pair):\n",
        "        transform = nlp.data.BERTSentenceTransform(bert_tokenizer, max_seq_length=max_len, pad=pad, pair=pair)\n",
        "        self.sentences = [transform([i[sent_idx]]) for i in dataset]\n",
        "        self.labels = [np.int32(i[label_idx]) for i in dataset]\n",
        "\n",
        "    def __getitem__(self, i):\n",
        "        return (self.sentences[i] + (self.labels[i], ))\n",
        "\n",
        "    def __len__(self):\n",
        "        return (len(self.labels))"
      ]
    },
    {
      "cell_type": "code",
      "execution_count": null,
      "metadata": {
        "id": "qV8EQzxuhuBQ"
      },
      "outputs": [],
      "source": [
        "# Setting parameters\n",
        "max_len = 64\n",
        "batch_size = 64\n",
        "warmup_ratio = 0.1\n",
        "num_epochs = 30\n",
        "max_grad_norm = 1\n",
        "log_interval = 200\n",
        "learning_rate = 5e-5"
      ]
    },
    {
      "cell_type": "code",
      "execution_count": null,
      "metadata": {
        "colab": {
          "base_uri": "https://localhost:8080/"
        },
        "id": "PRoSNjxHiChm",
        "outputId": "a83572b9-c2b0-4f3b-b371-327bba6ec566"
      },
      "outputs": [
        {
          "name": "stdout",
          "output_type": "stream",
          "text": [
            "using cached model. /content/drive/MyDrive/nlp_liflow/.cache/kobert_news_wiki_ko_cased-1087f8699e.spiece\n"
          ]
        }
      ],
      "source": [
        "#토큰화\n",
        "tokenizer = get_tokenizer()\n",
        "tok = nlp.data.BERTSPTokenizer(tokenizer, vocab, lower=False)\n",
        "\n",
        "data_train = BERTDataset(train, 0, 1, tok, max_len, True, False)\n",
        "data_val = BERTDataset(val, 0, 1, tok, max_len, True, False)\n",
        "data_test = BERTDataset(test, 0, 1, tok, max_len, True, False)"
      ]
    },
    {
      "cell_type": "code",
      "execution_count": null,
      "metadata": {
        "colab": {
          "base_uri": "https://localhost:8080/"
        },
        "id": "fkQtatrJaPSy",
        "outputId": "6ba0b037-cec2-4959-80f1-780febc75c61"
      },
      "outputs": [
        {
          "name": "stderr",
          "output_type": "stream",
          "text": [
            "/usr/local/lib/python3.7/dist-packages/torch/utils/data/dataloader.py:481: UserWarning: This DataLoader will create 5 worker processes in total. Our suggested max number of worker in current system is 2, which is smaller than what this DataLoader is going to create. Please be aware that excessive worker creation might get DataLoader running slow or even freeze, lower the worker number to avoid potential slowness/freeze if necessary.\n",
            "  cpuset_checked))\n"
          ]
        }
      ],
      "source": [
        "# pytorch용 DataLoader 사용\n",
        "train_dataloader = torch.utils.data.DataLoader(data_train, batch_size=batch_size, num_workers=5)\n",
        "val_dataloader = torch.utils.data.DataLoader(data_val, batch_size=batch_size, num_workers=5)\n",
        "test_dataloader = torch.utils.data.DataLoader(data_test, batch_size=batch_size, num_workers=5)"
      ]
    },
    {
      "cell_type": "code",
      "execution_count": null,
      "metadata": {
        "id": "Z2KRp19xaPhu"
      },
      "outputs": [],
      "source": [
        "class BERTClassifier(nn.Module):\n",
        "    def __init__(self,\n",
        "                 bert,\n",
        "                 hidden_size = 768,\n",
        "                 num_classes = 11, \n",
        "                 dr_rate=None,\n",
        "                 params=None):\n",
        "        super(BERTClassifier, self).__init__()\n",
        "        self.bert = bert\n",
        "        self.dr_rate = dr_rate\n",
        "                 \n",
        "        self.classifier = nn.Linear(hidden_size , num_classes)\n",
        "        if dr_rate:\n",
        "            self.dropout = nn.Dropout(p=dr_rate)\n",
        "    \n",
        "    def gen_attention_mask(self, token_ids, valid_length):\n",
        "        attention_mask = torch.zeros_like(token_ids)\n",
        "        for i, v in enumerate(valid_length):\n",
        "            attention_mask[i][:v] = 1\n",
        "        return attention_mask.float()\n",
        "\n",
        "    def forward(self, token_ids, valid_length, segment_ids):\n",
        "        attention_mask = self.gen_attention_mask(token_ids, valid_length)\n",
        "        \n",
        "        _, pooler = self.bert(input_ids = token_ids, token_type_ids = segment_ids.long(), attention_mask = attention_mask.float().to(token_ids.device))\n",
        "        if self.dr_rate:\n",
        "            out = self.dropout(pooler)\n",
        "        return self.classifier(out)\n",
        "      "
      ]
    },
    {
      "cell_type": "code",
      "execution_count": null,
      "metadata": {
        "id": "z85td9QZafe_"
      },
      "outputs": [],
      "source": [
        "model = BERTClassifier(bertmodel, dr_rate=0.5).to(device)"
      ]
    },
    {
      "cell_type": "code",
      "execution_count": null,
      "metadata": {
        "id": "6d3Bp82salIe"
      },
      "outputs": [],
      "source": [
        "no_decay = ['bias', 'LayerNorm.weight']\n",
        "optimizer_grouped_parameters = [\n",
        "    {'params': [p for n, p in model.named_parameters() if not any(nd in n for nd in no_decay)], 'weight_decay': 0.01},\n",
        "    {'params': [p for n, p in model.named_parameters() if any(nd in n for nd in no_decay)], 'weight_decay': 0.0}\n",
        "]"
      ]
    },
    {
      "cell_type": "code",
      "execution_count": null,
      "metadata": {
        "id": "rJotW9ewancd"
      },
      "outputs": [],
      "source": [
        "# 옵티마이저 선언\n",
        "optimizer = AdamW(optimizer_grouped_parameters, lr=learning_rate)\n",
        "loss_fn = nn.CrossEntropyLoss() # softmax용 Loss Function 정하기 <- binary classification도 해당 loss function 사용 가능\n",
        "\n",
        "t_total = len(train_dataloader) * num_epochs\n",
        "warmup_step = int(t_total * warmup_ratio)\n",
        "\n",
        "scheduler = get_cosine_schedule_with_warmup(optimizer, num_warmup_steps=warmup_step, num_training_steps=t_total)\n"
      ]
    },
    {
      "cell_type": "code",
      "execution_count": null,
      "metadata": {
        "id": "t2a2H2zkaq0l"
      },
      "outputs": [],
      "source": [
        "# 학습 평가 지표인 accuracy 계산 \n",
        "def calc_accuracy(X,Y):\n",
        "    max_vals, max_indices = torch.max(X, 1)\n",
        "    train_acc = (max_indices == Y).sum().data.cpu().numpy()/max_indices.size()[0]\n",
        "    return train_acc"
      ]
    },
    {
      "cell_type": "code",
      "execution_count": null,
      "metadata": {
        "id": "hAn-WJCkETyh"
      },
      "outputs": [],
      "source": [
        "import torch, gc\n",
        "gc.collect()\n",
        "torch.cuda.empty_cache()"
      ]
    },
    {
      "cell_type": "code",
      "execution_count": null,
      "metadata": {
        "colab": {
          "background_save": true,
          "base_uri": "https://localhost:8080/",
          "height": 1000,
          "referenced_widgets": [
            "be5f27e51e4f41c8a34cc70ee8e42e14",
            "40a43231f3e846d1864b9e9adedd4ac1",
            "852f6197521843cb89aa1b712f6faa06",
            "71dca087110f4291a3bb470a6c989ae4",
            "80f35e7b359c4c1cb28f92bda80be63d",
            "818e01a80ff94700b08c9e3760eb4cea",
            "ca9bc3b4128e49a4b024bc2079082f3d",
            "55a93ef638264fa2a47efd58d6c2eb68",
            "9ea36484f14f404a9ea31f8f8bdbd04d",
            "c03d91ff24d84cb5920523cbf4fc76d6",
            "508518572d2a46589074609d0966361b",
            "b4bc0f999049478cbe162712b34983fb",
            "b3e553839226499d9aff1bf78d9fd4d4",
            "fbeff5321e28415c9c368b5032270bb0",
            "bc48a050af7e4722a879ad8b1d1903c4",
            "f58e60ae966240f09d97764a91691dde",
            "5e9930fb60e1427b9934d5a7846d68db",
            "2bb7c0b5c1ae4521b65720139b0e5979",
            "f06488146e044800be32a9394cdd4529",
            "ca0a7d194f1b44e6912c9cd73c95e20c",
            "3d19bad849914010a6c4d45c99ebd5b5",
            "4685ee1c7af34428b748e2c13420946a",
            "e04fa6688a8e462185e74cac4d8442ff",
            "87ba2e044b0b4a9a8b083734c2e2b7cb",
            "7c7063bbdced4ff2955f13282020f093",
            "a77cfce9a5cf476497590975dd4f6b52",
            "4be4ad052e784051ba37d790aef146f1",
            "2ba32875064948d4bbea9e5292e95618",
            "94943e90c16542f9b4e3116aea2ebaf0",
            "72fcc602b81f4151a01a65b2187da5a6",
            "ad0cd196e3a24b8897c615ddfba538cb",
            "391c36e621b7436bab934f884b361275",
            "8f041d37f73b4d45bab65b8508143882",
            "ec87a7726acf4cf59d38c98bea9609e7",
            "9642d2bc669e4596bef486e5b79678f0",
            "83e128637ee446ad818cf670474ea36c",
            "08f45b9fff07409ea635a402e81e7c9b",
            "3cb2c1b7d06145efac85778212af6e25",
            "a0d243d3bbbf440a8a2a01533f01f09a",
            "6c0b774a1df84e3b86680f6e4ad8eee3",
            "f0b56f7b732148428081d223d01702a4",
            "03311d4f999247149e334db500b404c3",
            "99ef9f7b65e54ae3b1b1c4e249d274eb",
            "0ee374f4cd004a24a311e109c204853d",
            "4221863965cc449a8850f689f084c2a4",
            "3acf1288d1984cefa0f760becdeba9ba",
            "68b35456500e463c8c4620e3d5c35026",
            "aaf036a92c754086a17048f2eadbc36d",
            "2b47b4854d8e4e6ea7cced20901c1aec",
            "67cc37770af54233a516553e6777c647",
            "18e6ec2dfc7046bfa0806964000ed42a",
            "b8050c629690428ebf7a4689a05b181a",
            "d9e97dc88b574c71a53f15b8368ba28e",
            "4e1c04a7d50b4a849f7c814bcf6f2e04",
            "5dafdcab8aad4386a45b527b4799b85d",
            "42544fc5e11448abaf45b0a8ac6ae01a",
            "b5a231c2dc484f53b5bc3f1590647f78",
            "b6e34770e13c4fcdb051094a2f865ec7",
            "b844dfdb3b1644a5b59f1f16a9b4a994",
            "4d008551aadf4292b7ffa80561abf797",
            "9bdd34677d7442aaafa9a1c7c65deccc",
            "5ed1fac6ea3a441ead259e84595b821a",
            "ead90f3a43294073bad8f02251a8297c",
            "3569e60754a74cfebb5084e7f894df0c",
            "0490dd5e88f146dc9b8f75817870bac4",
            "eb7fa2d470a84b44986d7971f4305407",
            "9d9fb63ddfd14fffb1887b55d214d0f3",
            "f8b5c1f77ef74b37a8666ced29f0ab0d",
            "2d1c9dafbd8d46778fbaa668a0b2886e",
            "ab8f80c3d48c4e45939803c36f9ab367",
            "d9aae206a4d140b4a5f812d3550bfb9e",
            "06a6d3e9c6a04d569b84e869a9f89889",
            "9ae50e148162482ea8457f5b3c247e37",
            "3eaaa75821934375920e3541b43bfb21",
            "0993a14c60cb4d99bba2990ca03a647a",
            "e0ad7d3e3e0b4ce4aa6d1fa8a639c463",
            "0d1c7bf2264d4eabb82ad140e91ec74e",
            "4db1fc784b3343c98665a82d4ba6a9c6",
            "4c8cba566a7d431c81697cab450f45b6",
            "576d8a0aa61e4d2b984284e1b6a4d779",
            "f0cb4ddddb394212b36780a635dfdb17",
            "3a04ff3f8e30490fa018ff8c71072b6f",
            "2ceea09f2aa84ab3b03c76d63dd031c3",
            "d1f6573f01314276b465650fcc975adb",
            "ee8f9199b58641f3bae191e531f42abe",
            "632b465feb154de387bfe9aabf5aca36",
            "a13752f6ff3c4b78934997bd559faf76",
            "a6b717c8a9ed4e65a44d25ca0e4e99d8",
            "445d409c68bd40279a272233a3ef0af8",
            "60467c4a801f4ae7bf084b8a7339f6ce",
            "e02dd1d4a30949ebbefdf142222d42aa",
            "3008875106204778a1dabf91ee5b7683",
            "1f95915671574dedb11c2adbff1bccbd",
            "42983301604b4a44bc6bc7803b758c91",
            "2483afae182f4b5eb88894a10c997fd5",
            "6f1017f2b9b94cce8a95a9f1d300c98f",
            "63af15a6534a45f7ab2822e67880c75e",
            "f1ddb511322346d18108f3e231664993",
            "824e95b2f0124263a86186205a08f6aa",
            "da9e45179eaa4bb6a88e5dc0500d88a4",
            "04d6596481e542e2a6a239803c31eb9a",
            "621f9a2a5e2441d9a5d890f90c547400",
            "fd858d486a3b4f978f494e9374c22a30",
            "f60883e62b5d4b26871cb857646a87e5",
            "9adcc3aea7394ab0846c494843fcbee1",
            "bb4a711fb8ab4f4bb2c83692049a26f4",
            "9518698ad67c48498e97b288b9385ede",
            "70f21e6e866b4567ae1786ed83ea7184",
            "1fe7d3a4910343a0947d6bbb74280496",
            "982510f450b148f0a264854f101507f6",
            "7564efe402154b8f9a17abcaea7b1d9c",
            "12f6b52421764c32b0af1919eb98a5b2",
            "2e1623ce78b544a7934d67928159f0e5",
            "fb29c235ff2442d0ae1fba0b1fa949e4",
            "ab85fe80e5154b72ba8d9908c6b9003d",
            "8fb61b893f6d40a2b893d94c1c25539a",
            "c7270f09f7ea433c9f05de825ee87d16",
            "a428a545dec64840a0b44c97d0254e81",
            "bce4ca6cc5174c918b416daef4c9e41d",
            "cbb35b2be6cc49c5812a01e91f51a21f",
            "445a970c2fba44e893fedbc1559eb613",
            "a8a67dc8f4154d33bc12db42c93ef4ab",
            "34fc9876ef1b4f5e997d46e4ea975491",
            "cc598e58c6664e04ba2ec3c547ed30cc",
            "b482234b29dd46698a3e500939f856d6",
            "c1e1209ccf8440bbafbd6fe87a7a57b7",
            "93bad4b415fc49b780a45580530fcc44",
            "a622069c9d8d434592ae00eb8f532d82",
            "04c2d51544bc41d19af03456356bfc58",
            "cbc416a6061c46d2a23d26e8513b5d6c",
            "fa27f4b46ebb49f28c8f64b06f2e4334",
            "eb7a26525be84a67ae07057bebcfa36f",
            "b877cdd74326419e8e96eb6d69ee6d19",
            "c6754a3e57af4b36a971470c075c058a",
            "fa0e9a3328ef4e958f5e0f8f7b930530",
            "4a6a918bbefb4e9595acc68157088196",
            "66bc2202e16548d8926be99dddcf08b6",
            "aa3159e0dc7c4b588b2cc1032562cd10",
            "843c871386ad4b38aab76ada9fe63902",
            "dd3629dff14a40e7a9c5667b86b838ac",
            "9ce932a483644d23a536eda4c755e049",
            "33474490ddd749a7ba28815a7eec1e72",
            "c237a5d829ca4ff2853f729c23480dab",
            "85dbcf4f82b846759a2aab0ecdd0e444",
            "b9dae52a5211492197ba1bf2496c88c9",
            "b0d6d99b9dac4f27b85f0bd4e3788c52",
            "ca4fa4fc5b6b47cc8ef149145039307f",
            "a1d8c6e7c25f43119e2acf1bd95d9efa",
            "e105193b43c34fc8962af3abc43efbc5",
            "fd071944805b42ca8ba6e058fef0fc24",
            "2aef01e8019a4381ac18eb51c66f03df",
            "b551e785b1b8406ab840b9f8cba13377",
            "a9a5d3d1428f4cdfb3b7fad761c1223b",
            "15542e0a01f64c9a9c2823575802ee8f",
            "2d9344180c064661ba21494873e595f7",
            "2b588f6a56c141ed9ca77d7a926d86c0",
            "da1d307742f447118e033eb83b084933",
            "266658a1e39b4f099b8d48cd31b8cbc3",
            "4862b69931e4493c8e2cfeb36ad203e6",
            "f13bf87fd7a6435c95c46ecec0501da2",
            "5c5a06913433444c8353ef94633fc044",
            "04e3c0459b75400eb83bc837dd2bc99c",
            "7e4b99f1db5d465ba35f5146bd995bc9",
            "51784dea0dac49339a0f354423860ca3",
            "e8ba6ce1d3db449f8b713e3e5548dfe2",
            "b37a4a7c8de042c6be3dddca5f6bda1f",
            "0cac8956fe964a9fad1f3533e2069c4f",
            "1956a25a59db48579b3ba7f6efb9974c",
            "233ff228be9e4fd5b3fd681d5efa4478",
            "b474ec22b9e14b5b8b13631b45b20ed7",
            "7910b57ee1604a94a98fca899a1f1d23",
            "a40b6dcc27dc4bc39478bdf06635d3d5",
            "cce739605eaf4673a58dce4d76c655e4",
            "c171bcd9f8ea400587d5848a148f4fb0",
            "12dec72733ad46578d41ff3ada905719",
            "72ec75c8d8704b2aa2a60ac10a9e10d0",
            "ea96316a2fea4f1ebede8a39a2bef75c",
            "9e3898d4f110491b9f4cd18a53ae4d29",
            "177a26fb5d1340158780c6f5698e81e5",
            "4b006230c1ca4d78beae68fdcb06529b",
            "24e8402b13ee4654a01e25d652e82993",
            "373cc6f1f086487ca06da891aa086985",
            "6cb27dc65ba4441d8e72fa4e81fd7661",
            "d2d62bdd7d544d1383f67ef8d315f8bf",
            "45881798c32c42509933d7781703e389",
            "0964093bcb1a477ca666c424e84e3d43",
            "6d5ddc7bd63c481887e968ff503af538",
            "a80175c3c5874e4f8652418aa2a2e19e",
            "ef5f393611fe451cb53fa1cc9b5dd2e7",
            "824404b55eef4cfb9b13ffd67aa73805",
            "df255e13d33e46a1a943be4716e0cdbe",
            "8ed5976236ff4639a45867c1f64ce439",
            "6b3aaaa79f304755be6e1ce16485ba9e",
            "bdaf3e3402a4408fa0572d6922f8f1df",
            "0129feaf428541bfbd6e2b39cd34e57a",
            "75ff8ff02e90411e9d042d1feb96f48b",
            "b7f3d49e38b248d1b6c4308fa712ecde",
            "8e84c0336e674bda8e3340213c0d928d",
            "fcd6715c4efc4841bb158699a7fa3ef0",
            "4a6b087b1fd748fd907911e148fe35a0",
            "0a335b09cb844c51999b5e3ff3e1a38d",
            "807e1b4eafeb403d8b0cd96cd5d6230a",
            "3ef233530ad345949747fad95e06a261",
            "2c01f72e985541ed81e2f93854b0fbd6",
            "82864a1c9a0f48a3b3611cab45f82fbd",
            "1dd8053b44654bebbc1b35bb7bf4117d",
            "82ffa783a7274d29b98a9b27558ed062",
            "84b6059c42314a89a2571974527cdb9e",
            "6c62478b06d24db49f40176f00f016cf",
            "09d3e2465d2f4280ba9142f19d55548a",
            "d2dbc0e4a4f8486b96e2d9a148e40ffd",
            "b71e89cdeb81449abfcbeeccbb35f7ea",
            "faadf6b09846483ebf6f59d93679426f",
            "f9d4b4bd59804a39964ba711d53e79d2",
            "79ecb85426ff4493a9262e233f2a444c",
            "9955cbed8c4a4ef988b81f68d2ccee65",
            "4d400b57beb14f3fa1a155c2cfede552",
            "6b8eede91ddd470caa0c3c80957ff0b6",
            "d2bc9420a4e045d28a45451738319c65",
            "592b2305dff1496186a4dd9652feefeb",
            "831c51d2c7aa4259835d91da0d9de53c",
            "2f31b89771d448a9b605edc57b61fb9f",
            "003e7a1b48d74895b4b2ffc2fdb00f3c",
            "9442ae7fe992407abec9087fb8028064",
            "c79283203a55447498fccb60b1652410",
            "fa49b62955d24795b8dcac0a3e5797b8",
            "ffaad55cb90d44cfa7e22b5f6da9a635",
            "78b1c43da1684f36a58f280fcf9e5b26",
            "9544e01d3bed4d0f9cbf5f1dbe1542a9",
            "819184196a33462da92b20078490b1e2",
            "4f794698ca864679bbe45c0b3127ef32",
            "7d87a310a2e8431ea22117d5121d6f85",
            "3c7ffab7645947228e7056369e5d9548",
            "3928b68916394f22aca604a9b68e3324",
            "00f00e45c8d64f368490202d35426bd9",
            "2d1776673cec4adc84ea92c248b422d3",
            "8c5af8534b81461a941dd37d55a995ab",
            "3950c2c32c2a499a8f9ecf9a03270c8a",
            "2a92f72f8c7a40539679fbf6b9e99431",
            "1e46a7049e2f4f6abe489118c64a9575",
            "6a637534c38a4cd1961bd2512d1df527",
            "b75fa76b5dbc437b9b4ddae9f3110ca8",
            "d2c35bae32534c51928f089f371494d7",
            "39b5481451a24261a68c72f2f9b6c291",
            "21b8db7e17e444d19464b60e43699aac",
            "e78f8132292f4cf1b5acb45b58dce76f",
            "bf415ba267694091b41daf8596d929b7",
            "deacbaaad35a4eb48c3bde6ef19a8777",
            "18d25e35e62e4f45b2123a2281cd258d",
            "25fbfe5d06e145b99a1265f02038a9a8",
            "242973ec8189432bb63fc48a4833f4f5",
            "d2dc3143f7a14c9d9750d66372733f4d",
            "94f168b1ed8c4ba69922a548f558f1f7",
            "1c72111ea97e4fff9b33efc03b0be637",
            "9790282f6881401a9dc8e9b1a301a41f",
            "b258e390d41c4813a9fab60741a4a2f4",
            "5f5ac6d2ef2a4c6cb03832ef1cdecf73",
            "8da58b68d90f4d43be9752036b556f66",
            "16910c7443ac424ab7cda1d15a1bb843",
            "90715807589d4326974cc772f73bac86",
            "fc2a4f5a069f475a8d56e8b3738e19e5",
            "d08674fa85cd4d7898d05e24e166a7fa",
            "f7b0229f96434410b075cf9ad9997adc",
            "8df0e0bed5ed4684894b22752b5f02b1",
            "1a1a83c108dc4309a27aaaeb0a236e1c",
            "774914440b23405f9afeba4035164e22",
            "d28fe0b67194488cbdbc61f800294751",
            "f4ed1421d0c446ebaf76064f0eba60ca",
            "e06759bec4cb4a89b43fee4d6a921cb6",
            "b07f0886dbc04092bfc4e4f0db974ef4",
            "48cf827847b54dc3a5eedc1faef0601a",
            "27be575647414d21afa27101b8e844bb",
            "9eab3a12a2ac4764bb7fa13fea3bbdf9",
            "a6673e1627eb44a4b580aad7d98de1be",
            "5d63b8c311cd420f859176225e61c37a",
            "4cf5fa119e7e43169d8102001b775448",
            "cd7d53baf46e4249b502ee7edcfb51ca",
            "78c5f60c230543bd9e81c0274639fe40",
            "8c190f9038474a74971c2440f58d94cd",
            "619c73d035614b779b8f59e4414635c8",
            "51ad6976702346c897a562fb97b556ef",
            "a8499f3cf68441e59376be2ce281baff",
            "cb6b72c1372341bb92d347ce6f055208",
            "e480477885d64ae991f8a6fef9ab81f7",
            "d96825ad038841889987e4100eaf2463",
            "c07ec67d62ee44e399e12dccedb8c90e",
            "fe19ee2eaf7e4c909d36035fed3a238b",
            "2f84533ad19f4a87981df887b85709bc",
            "0463e28ca3ec4a5f8bbe6c0e6faffec6",
            "92d37b2173e447ac804168bb7c98150b",
            "4e30b3fe8eba4fe8be8374592e4e69bd",
            "6b52727c343d480884883334f463d3c4",
            "00de55608b4b476ca30c0988a9f8fe11",
            "7ff610aed7c846afbd6022370d47c6ff",
            "610d26ed5f8c47a6b675605ee39c4d9f",
            "1f46de0eadee4017bb0da5f394d79a86",
            "988c3c0ae24149a0a425420e53db2433",
            "8568a775dff144e996cb9b0ea1e703fa",
            "b4b57b9b1f17433bb39858f34abf87fb",
            "d018642989584e39a8f76afe48d29e78",
            "26cbc3daaf5e4e9f8abe0b32c7576909",
            "b6bb28e84463402693df6c9ffa0aa1cb",
            "5fcce067acf143aab118fee1c63148c2",
            "f92ee0dc15194b1baaa950e750b087e0",
            "137423fc8bd049a1aa04f0b6ec72e2a9",
            "0d57994d865a4df6ae519d11eb7a5359",
            "5929adfda84e42c99d78c3d056244709",
            "b78d445bc65f4d6895f2e4cd4bcfb7ca",
            "c752b719298b4004ad2bd5859b49facc",
            "f5c61b30fb804ebf9cc9144873b43743",
            "407188fb22c14dee8d984a35b0506379",
            "97d27154c2a046108032b757da53f285",
            "421a469217204aad9eccb66856ba3257",
            "cb7da7e63ab74d89952ee8d7c118b5ea",
            "cb162091fa7b44599289663622e54895",
            "a17512405bf945e3b4b6ab580afef0a1",
            "293f8fa0366746429e18146577c981f1",
            "4741a9f08309419984788bc6e562b904",
            "6863409dc6594560b6950cdcd530387a",
            "60c8f43f52df4e929db6c626ad6ba4c4",
            "1d122c9217ab4b0f888fef8bcf811b49",
            "62277943ec0b49ce91ed805010e1f845",
            "f01bc7bfa53642b7bc5361f1cf632a0a",
            "98c11d18d8b64df2ade3b66eb2d09934",
            "bfd330075e8343e8bc3070655708b0e4",
            "0f6523b44cd14868ac9d4d992e6faf19",
            "12e97c45f1da48bebd8e7d958a99fc8b",
            "e8cbacd1fb654fdea9c51bbf4066a38e",
            "6051416676a64096a7bd232cc1dc2417",
            "5446ddd3d4414b8b9afb0ac441328c5c",
            "216f1a4616f842b2b355a80415cd9c2a",
            "1603a844183a46a88f63099b92cc940e",
            "a19ea13789654834ab3af09197331301",
            "7ef9f408ca164d46b76981e2dc830fc4",
            "ccc948d341f04376826175a3fb57ae01",
            "69b2d1dbbc7d41e585c0c3e140684cf3",
            "9ea35f466e944b76a15d1a57a48c7621",
            "8a9431f4c41e4b4bbf7019b102b83425",
            "459bcaf0668a418a909c3f6c486b67a7",
            "8a6100be510549c9acbbe90172d5c700",
            "3ed7cac34ef543568613de4004da6d1d",
            "81c04a71fbdd409ea7ff7ad8e40bad12",
            "6bc89510f5554348aba339c9bd399a04",
            "24c53da83b004349be41ae1798a02ef1",
            "44724d09de384370b63fb26c36276cb0",
            "9093bede0f1f4ce993268813f2e7e303",
            "a7d4bf4b2e3640ee975f7f4171490a8c",
            "a940f39cee7647b1ad3d73ca0b0588b4",
            "b27e99c6f6234048a34e0eb9b400cb8d",
            "ea4d380b22f54c199af86aa5fdcce186",
            "1423c246316f4209927e47699122e396",
            "a31a9b5515274381ae556130b456b2d4",
            "e1d00d1306904aa4865cc7c979a32f4f",
            "a13710a4b18543508b7d9204b66254b6",
            "b948add6a510457882ca5a9f49628857",
            "3b3e0ed46f6d443984497b9004f43e4d",
            "e67f2cc688334088a18a3d6b41c94455",
            "3622d09d719840da8ddfc14a930bf781",
            "51cb087c80334577af8dae4b7441f519",
            "16575558d59643e4a732165b1df8c053",
            "68a5fff6ccfb4132a7b367ea44f54b0c",
            "81e39f4863974b1aa2804ca56bc8400e",
            "51da38b491da42b5a6dc0385e08042ea",
            "22e76db1c4eb44119b5b127ed928dd5e",
            "6ae8dff5955241719052aca675aa9b91",
            "d2d9c4eb29ca4020bd8c3ae103b3618c",
            "56e54b7cc080432f9b62a446ee06b34c",
            "ae326aecd89f4437aa2c3d20a3c8950b",
            "b51d65da452c47d591542b9ca40a5045",
            "1a88a9433ad94818a4fd492c1a35aabc",
            "d7503cdaae83450bad2a6386cf76bda5",
            "803580c1ae8c4a36b2e8f68bf873ba3d",
            "056ad315c0d84d0483faa6bc3bcc67b8",
            "e22dc7adf34d4db485ed3139ca8ae262",
            "1dda33ec2bda4972a69e8b3d69b25772",
            "d65636d273c140cbb97fc96eb3eabc8d",
            "fbb09beae98741ee977225fba6b4eef9",
            "21489c6101714396b961e2eb814e3095",
            "4ed1d475a9954548b58e17eafda6aba6",
            "6ac25cd14ddf4ebf8df3d3a9c45559f2",
            "e34c2374c719442b915c88d4918a215e",
            "7a2d719cc19043fb8e986dc5c0ddc2d3",
            "73ee6a911c8741ce9ffdd2f840172ad2",
            "d4b83f09aaa940c597b0b87917ffe0ff",
            "459eb3f50dcd487dbf848d76670a7483",
            "c505876618c74a8f8025f1539d2f7bad",
            "496d1167b90245cc815aff0d894bdb08",
            "c0d6ab0e05e3451092a3a5f2ff34fddc",
            "2d3899089b7748c4a64e812abb24d6dc",
            "37468a4a6c344848a1be9d72c33a5313",
            "b1d837e1d95c4a0080ebbb290965437a",
            "db0e849353cb492899916ed540fc1627",
            "16084215ebdd499ca5ebfcde7bb4d46e",
            "cc9532a66b3b4170a813e68bdebb985c",
            "25b94b38f5f444cabaf1fab4ae0b85e7",
            "1d057dda8ff74f608b04a899712c0a57",
            "4a6e990c7c414b2d8c224f828848f64f",
            "f13e920cd52e4907a92465f6e826e2c3",
            "7614bbd4363f4630a7c09818b187ffe8",
            "9c97cd4da58c439b82ce05e4a0eaa527",
            "74c3be53c5444ba9985f3ff14b29d83a",
            "e4fb5737178e4080b623dfb041d9ff5d",
            "e66b5765bc21421f9d21fdac1c46ce75",
            "3d63ee394e264eab993e2b358c709b06",
            "c8c3c3ee0c41441196d0aeaa9b3d4a34",
            "917bfcfefdab4b79ab9b07a7d0972522",
            "9d854973f5ee4c97984ed28a31da8633",
            "c811a6fccd0147b9941597343a53c041",
            "6d0512f504d04a56b60542be03b493fe",
            "01f5814725504973ad583f4b651b0027",
            "39e90435fc05467b88db6eede4afe6b9",
            "703318e8a2424974bd89d232efc288c8",
            "b1cb148225814a4999b7d65a1ca60e5c",
            "ce49244d63d94707a5989d1fd054a300",
            "d089cd1956134cabb8566f3616441c54",
            "289504dc351f4dc3abe9825000e75d8f",
            "b26fe5b277ea486a8f63cf12899fdcc9",
            "c9e0363a84674696b5ecc075e2a0076e",
            "6da184c4ac554e9b8df4b088d37e71c5",
            "ccac1f32de844b2db8e259f2490c5a0c",
            "01768c5c262e4b5cb6b19d24c7d38ea5",
            "6d2a8c02d9f14f96a47a792f1398550a",
            "dc75a262cb074c39936a12a5b96f8ff3",
            "67193d7526ce440791230a40326847fa",
            "f66e7fc32ad6440ca939b7f77c2e54cc",
            "6ec4906ef66b4dc4b89978b0e5796552",
            "a2b1be8a04114178be7ee5cab2f994df",
            "3de8d605b9ba40ed9556981edd489ffe",
            "de34297046ea4debbf8b4616a71c773a",
            "483251483cdc425c98ef91441492f2e1"
          ]
        },
        "id": "JOMSk-MPaq-z",
        "outputId": "6ca2edad-b52d-47df-e35c-5922409bc9e2"
      },
      "outputs": [
        {
          "name": "stderr",
          "output_type": "stream",
          "text": [
            "/usr/local/lib/python3.7/dist-packages/ipykernel_launcher.py:7: TqdmDeprecationWarning: This function will be removed in tqdm==5.0.0\n",
            "Please use `tqdm.notebook.tqdm` instead of `tqdm.tqdm_notebook`\n",
            "  import sys\n"
          ]
        },
        {
          "data": {
            "application/vnd.jupyter.widget-view+json": {
              "model_id": "be5f27e51e4f41c8a34cc70ee8e42e14",
              "version_major": 2,
              "version_minor": 0
            },
            "text/plain": [
              "  0%|          | 0/37 [00:00<?, ?it/s]"
            ]
          },
          "metadata": {},
          "output_type": "display_data"
        },
        {
          "name": "stdout",
          "output_type": "stream",
          "text": [
            "epoch 1 batch id 1 loss 2.4874608516693115 train acc 0.109375\n",
            "epoch 1 train acc 0.33628941441441446\n"
          ]
        },
        {
          "name": "stderr",
          "output_type": "stream",
          "text": [
            "/usr/local/lib/python3.7/dist-packages/ipykernel_launcher.py:26: TqdmDeprecationWarning: This function will be removed in tqdm==5.0.0\n",
            "Please use `tqdm.notebook.tqdm` instead of `tqdm.tqdm_notebook`\n"
          ]
        },
        {
          "data": {
            "application/vnd.jupyter.widget-view+json": {
              "model_id": "b4bc0f999049478cbe162712b34983fb",
              "version_major": 2,
              "version_minor": 0
            },
            "text/plain": [
              "  0%|          | 0/5 [00:00<?, ?it/s]"
            ]
          },
          "metadata": {},
          "output_type": "display_data"
        },
        {
          "name": "stdout",
          "output_type": "stream",
          "text": [
            "epoch 1 test acc 0.7542613636363636\n"
          ]
        },
        {
          "data": {
            "application/vnd.jupyter.widget-view+json": {
              "model_id": "e04fa6688a8e462185e74cac4d8442ff",
              "version_major": 2,
              "version_minor": 0
            },
            "text/plain": [
              "  0%|          | 0/37 [00:00<?, ?it/s]"
            ]
          },
          "metadata": {},
          "output_type": "display_data"
        },
        {
          "name": "stdout",
          "output_type": "stream",
          "text": [
            "epoch 2 batch id 1 loss 1.4790350198745728 train acc 0.921875\n",
            "epoch 2 train acc 0.9704391891891891\n"
          ]
        },
        {
          "data": {
            "application/vnd.jupyter.widget-view+json": {
              "model_id": "ec87a7726acf4cf59d38c98bea9609e7",
              "version_major": 2,
              "version_minor": 0
            },
            "text/plain": [
              "  0%|          | 0/5 [00:00<?, ?it/s]"
            ]
          },
          "metadata": {},
          "output_type": "display_data"
        },
        {
          "name": "stdout",
          "output_type": "stream",
          "text": [
            "epoch 2 test acc 0.8318181818181818\n"
          ]
        },
        {
          "data": {
            "application/vnd.jupyter.widget-view+json": {
              "model_id": "4221863965cc449a8850f689f084c2a4",
              "version_major": 2,
              "version_minor": 0
            },
            "text/plain": [
              "  0%|          | 0/37 [00:00<?, ?it/s]"
            ]
          },
          "metadata": {},
          "output_type": "display_data"
        },
        {
          "name": "stdout",
          "output_type": "stream",
          "text": [
            "epoch 3 batch id 1 loss 0.5205844640731812 train acc 1.0\n",
            "epoch 3 train acc 0.987331081081081\n"
          ]
        },
        {
          "data": {
            "application/vnd.jupyter.widget-view+json": {
              "model_id": "42544fc5e11448abaf45b0a8ac6ae01a",
              "version_major": 2,
              "version_minor": 0
            },
            "text/plain": [
              "  0%|          | 0/5 [00:00<?, ?it/s]"
            ]
          },
          "metadata": {},
          "output_type": "display_data"
        },
        {
          "name": "stdout",
          "output_type": "stream",
          "text": [
            "epoch 3 test acc 0.7489583333333333\n"
          ]
        },
        {
          "data": {
            "application/vnd.jupyter.widget-view+json": {
              "model_id": "9d9fb63ddfd14fffb1887b55d214d0f3",
              "version_major": 2,
              "version_minor": 0
            },
            "text/plain": [
              "  0%|          | 0/37 [00:00<?, ?it/s]"
            ]
          },
          "metadata": {},
          "output_type": "display_data"
        },
        {
          "name": "stdout",
          "output_type": "stream",
          "text": [
            "epoch 4 batch id 1 loss 0.27649495005607605 train acc 0.96875\n",
            "epoch 4 train acc 0.9780405405405406\n"
          ]
        },
        {
          "data": {
            "application/vnd.jupyter.widget-view+json": {
              "model_id": "4db1fc784b3343c98665a82d4ba6a9c6",
              "version_major": 2,
              "version_minor": 0
            },
            "text/plain": [
              "  0%|          | 0/5 [00:00<?, ?it/s]"
            ]
          },
          "metadata": {},
          "output_type": "display_data"
        },
        {
          "name": "stdout",
          "output_type": "stream",
          "text": [
            "epoch 4 test acc 0.7610795454545455\n"
          ]
        },
        {
          "data": {
            "application/vnd.jupyter.widget-view+json": {
              "model_id": "445d409c68bd40279a272233a3ef0af8",
              "version_major": 2,
              "version_minor": 0
            },
            "text/plain": [
              "  0%|          | 0/37 [00:00<?, ?it/s]"
            ]
          },
          "metadata": {},
          "output_type": "display_data"
        },
        {
          "name": "stdout",
          "output_type": "stream",
          "text": [
            "epoch 5 batch id 1 loss 0.09837335348129272 train acc 1.0\n",
            "epoch 5 train acc 0.980152027027027\n"
          ]
        },
        {
          "data": {
            "application/vnd.jupyter.widget-view+json": {
              "model_id": "da9e45179eaa4bb6a88e5dc0500d88a4",
              "version_major": 2,
              "version_minor": 0
            },
            "text/plain": [
              "  0%|          | 0/5 [00:00<?, ?it/s]"
            ]
          },
          "metadata": {},
          "output_type": "display_data"
        },
        {
          "name": "stdout",
          "output_type": "stream",
          "text": [
            "epoch 5 test acc 0.8009469696969698\n"
          ]
        },
        {
          "data": {
            "application/vnd.jupyter.widget-view+json": {
              "model_id": "7564efe402154b8f9a17abcaea7b1d9c",
              "version_major": 2,
              "version_minor": 0
            },
            "text/plain": [
              "  0%|          | 0/37 [00:00<?, ?it/s]"
            ]
          },
          "metadata": {},
          "output_type": "display_data"
        },
        {
          "name": "stdout",
          "output_type": "stream",
          "text": [
            "epoch 6 batch id 1 loss 0.052218567579984665 train acc 1.0\n",
            "epoch 6 train acc 0.9793074324324325\n"
          ]
        },
        {
          "data": {
            "application/vnd.jupyter.widget-view+json": {
              "model_id": "a8a67dc8f4154d33bc12db42c93ef4ab",
              "version_major": 2,
              "version_minor": 0
            },
            "text/plain": [
              "  0%|          | 0/5 [00:00<?, ?it/s]"
            ]
          },
          "metadata": {},
          "output_type": "display_data"
        },
        {
          "name": "stdout",
          "output_type": "stream",
          "text": [
            "epoch 6 test acc 0.7520833333333333\n"
          ]
        },
        {
          "data": {
            "application/vnd.jupyter.widget-view+json": {
              "model_id": "b877cdd74326419e8e96eb6d69ee6d19",
              "version_major": 2,
              "version_minor": 0
            },
            "text/plain": [
              "  0%|          | 0/37 [00:00<?, ?it/s]"
            ]
          },
          "metadata": {},
          "output_type": "display_data"
        },
        {
          "name": "stdout",
          "output_type": "stream",
          "text": [
            "epoch 7 batch id 1 loss 0.22204409539699554 train acc 0.921875\n",
            "epoch 7 train acc 0.9771959459459459\n"
          ]
        },
        {
          "data": {
            "application/vnd.jupyter.widget-view+json": {
              "model_id": "85dbcf4f82b846759a2aab0ecdd0e444",
              "version_major": 2,
              "version_minor": 0
            },
            "text/plain": [
              "  0%|          | 0/5 [00:00<?, ?it/s]"
            ]
          },
          "metadata": {},
          "output_type": "display_data"
        },
        {
          "name": "stdout",
          "output_type": "stream",
          "text": [
            "epoch 7 test acc 0.7550189393939395\n"
          ]
        },
        {
          "data": {
            "application/vnd.jupyter.widget-view+json": {
              "model_id": "2d9344180c064661ba21494873e595f7",
              "version_major": 2,
              "version_minor": 0
            },
            "text/plain": [
              "  0%|          | 0/37 [00:00<?, ?it/s]"
            ]
          },
          "metadata": {},
          "output_type": "display_data"
        },
        {
          "name": "stdout",
          "output_type": "stream",
          "text": [
            "epoch 8 batch id 1 loss 0.1945650726556778 train acc 0.953125\n",
            "epoch 8 train acc 0.9708614864864865\n"
          ]
        },
        {
          "data": {
            "application/vnd.jupyter.widget-view+json": {
              "model_id": "b37a4a7c8de042c6be3dddca5f6bda1f",
              "version_major": 2,
              "version_minor": 0
            },
            "text/plain": [
              "  0%|          | 0/5 [00:00<?, ?it/s]"
            ]
          },
          "metadata": {},
          "output_type": "display_data"
        },
        {
          "name": "stdout",
          "output_type": "stream",
          "text": [
            "epoch 8 test acc 0.7983901515151516\n"
          ]
        },
        {
          "data": {
            "application/vnd.jupyter.widget-view+json": {
              "model_id": "ea96316a2fea4f1ebede8a39a2bef75c",
              "version_major": 2,
              "version_minor": 0
            },
            "text/plain": [
              "  0%|          | 0/37 [00:00<?, ?it/s]"
            ]
          },
          "metadata": {},
          "output_type": "display_data"
        },
        {
          "name": "stdout",
          "output_type": "stream",
          "text": [
            "epoch 9 batch id 1 loss 0.03650231286883354 train acc 1.0\n",
            "epoch 9 train acc 0.9818412162162162\n"
          ]
        },
        {
          "data": {
            "application/vnd.jupyter.widget-view+json": {
              "model_id": "a80175c3c5874e4f8652418aa2a2e19e",
              "version_major": 2,
              "version_minor": 0
            },
            "text/plain": [
              "  0%|          | 0/5 [00:00<?, ?it/s]"
            ]
          },
          "metadata": {},
          "output_type": "display_data"
        },
        {
          "name": "stdout",
          "output_type": "stream",
          "text": [
            "epoch 9 test acc 0.7886363636363637\n"
          ]
        },
        {
          "data": {
            "application/vnd.jupyter.widget-view+json": {
              "model_id": "fcd6715c4efc4841bb158699a7fa3ef0",
              "version_major": 2,
              "version_minor": 0
            },
            "text/plain": [
              "  0%|          | 0/37 [00:00<?, ?it/s]"
            ]
          },
          "metadata": {},
          "output_type": "display_data"
        },
        {
          "name": "stdout",
          "output_type": "stream",
          "text": [
            "epoch 10 batch id 1 loss 0.12120579183101654 train acc 0.96875\n",
            "epoch 10 train acc 0.9864864864864865\n"
          ]
        },
        {
          "data": {
            "application/vnd.jupyter.widget-view+json": {
              "model_id": "09d3e2465d2f4280ba9142f19d55548a",
              "version_major": 2,
              "version_minor": 0
            },
            "text/plain": [
              "  0%|          | 0/5 [00:00<?, ?it/s]"
            ]
          },
          "metadata": {},
          "output_type": "display_data"
        },
        {
          "name": "stdout",
          "output_type": "stream",
          "text": [
            "epoch 10 test acc 0.7767045454545455\n"
          ]
        },
        {
          "data": {
            "application/vnd.jupyter.widget-view+json": {
              "model_id": "831c51d2c7aa4259835d91da0d9de53c",
              "version_major": 2,
              "version_minor": 0
            },
            "text/plain": [
              "  0%|          | 0/37 [00:00<?, ?it/s]"
            ]
          },
          "metadata": {},
          "output_type": "display_data"
        },
        {
          "name": "stdout",
          "output_type": "stream",
          "text": [
            "epoch 11 batch id 1 loss 0.03408466652035713 train acc 1.0\n",
            "epoch 11 train acc 0.9894425675675675\n"
          ]
        },
        {
          "data": {
            "application/vnd.jupyter.widget-view+json": {
              "model_id": "7d87a310a2e8431ea22117d5121d6f85",
              "version_major": 2,
              "version_minor": 0
            },
            "text/plain": [
              "  0%|          | 0/5 [00:00<?, ?it/s]"
            ]
          },
          "metadata": {},
          "output_type": "display_data"
        },
        {
          "name": "stdout",
          "output_type": "stream",
          "text": [
            "epoch 11 test acc 0.7886363636363637\n"
          ]
        },
        {
          "data": {
            "application/vnd.jupyter.widget-view+json": {
              "model_id": "d2c35bae32534c51928f089f371494d7",
              "version_major": 2,
              "version_minor": 0
            },
            "text/plain": [
              "  0%|          | 0/37 [00:00<?, ?it/s]"
            ]
          },
          "metadata": {},
          "output_type": "display_data"
        },
        {
          "name": "stdout",
          "output_type": "stream",
          "text": [
            "epoch 12 batch id 1 loss 0.12652726471424103 train acc 0.984375\n",
            "epoch 12 train acc 0.9890202702702703\n"
          ]
        },
        {
          "data": {
            "application/vnd.jupyter.widget-view+json": {
              "model_id": "1c72111ea97e4fff9b33efc03b0be637",
              "version_major": 2,
              "version_minor": 0
            },
            "text/plain": [
              "  0%|          | 0/5 [00:00<?, ?it/s]"
            ]
          },
          "metadata": {},
          "output_type": "display_data"
        },
        {
          "name": "stdout",
          "output_type": "stream",
          "text": [
            "epoch 12 test acc 0.8079545454545455\n"
          ]
        },
        {
          "data": {
            "application/vnd.jupyter.widget-view+json": {
              "model_id": "1a1a83c108dc4309a27aaaeb0a236e1c",
              "version_major": 2,
              "version_minor": 0
            },
            "text/plain": [
              "  0%|          | 0/37 [00:00<?, ?it/s]"
            ]
          },
          "metadata": {},
          "output_type": "display_data"
        },
        {
          "name": "stdout",
          "output_type": "stream",
          "text": [
            "epoch 13 batch id 1 loss 0.1388915628194809 train acc 0.96875\n",
            "epoch 13 train acc 0.9894425675675675\n"
          ]
        },
        {
          "data": {
            "application/vnd.jupyter.widget-view+json": {
              "model_id": "4cf5fa119e7e43169d8102001b775448",
              "version_major": 2,
              "version_minor": 0
            },
            "text/plain": [
              "  0%|          | 0/5 [00:00<?, ?it/s]"
            ]
          },
          "metadata": {},
          "output_type": "display_data"
        },
        {
          "name": "stdout",
          "output_type": "stream",
          "text": [
            "epoch 13 test acc 0.8073863636363636\n"
          ]
        },
        {
          "data": {
            "application/vnd.jupyter.widget-view+json": {
              "model_id": "fe19ee2eaf7e4c909d36035fed3a238b",
              "version_major": 2,
              "version_minor": 0
            },
            "text/plain": [
              "  0%|          | 0/37 [00:00<?, ?it/s]"
            ]
          },
          "metadata": {},
          "output_type": "display_data"
        },
        {
          "name": "stdout",
          "output_type": "stream",
          "text": [
            "epoch 14 batch id 1 loss 0.01479235477745533 train acc 1.0\n",
            "epoch 14 train acc 0.9911317567567568\n"
          ]
        },
        {
          "data": {
            "application/vnd.jupyter.widget-view+json": {
              "model_id": "8568a775dff144e996cb9b0ea1e703fa",
              "version_major": 2,
              "version_minor": 0
            },
            "text/plain": [
              "  0%|          | 0/5 [00:00<?, ?it/s]"
            ]
          },
          "metadata": {},
          "output_type": "display_data"
        },
        {
          "name": "stdout",
          "output_type": "stream",
          "text": [
            "epoch 14 test acc 0.8228219696969697\n"
          ]
        },
        {
          "data": {
            "application/vnd.jupyter.widget-view+json": {
              "model_id": "c752b719298b4004ad2bd5859b49facc",
              "version_major": 2,
              "version_minor": 0
            },
            "text/plain": [
              "  0%|          | 0/37 [00:00<?, ?it/s]"
            ]
          },
          "metadata": {},
          "output_type": "display_data"
        },
        {
          "name": "stdout",
          "output_type": "stream",
          "text": [
            "epoch 15 batch id 1 loss 0.012010881677269936 train acc 1.0\n",
            "epoch 15 train acc 0.9949324324324325\n"
          ]
        },
        {
          "data": {
            "application/vnd.jupyter.widget-view+json": {
              "model_id": "60c8f43f52df4e929db6c626ad6ba4c4",
              "version_major": 2,
              "version_minor": 0
            },
            "text/plain": [
              "  0%|          | 0/5 [00:00<?, ?it/s]"
            ]
          },
          "metadata": {},
          "output_type": "display_data"
        },
        {
          "name": "stdout",
          "output_type": "stream",
          "text": [
            "epoch 15 test acc 0.8136363636363637\n"
          ]
        },
        {
          "data": {
            "application/vnd.jupyter.widget-view+json": {
              "model_id": "216f1a4616f842b2b355a80415cd9c2a",
              "version_major": 2,
              "version_minor": 0
            },
            "text/plain": [
              "  0%|          | 0/37 [00:00<?, ?it/s]"
            ]
          },
          "metadata": {},
          "output_type": "display_data"
        },
        {
          "name": "stdout",
          "output_type": "stream",
          "text": [
            "epoch 16 batch id 1 loss 0.010890023782849312 train acc 1.0\n",
            "epoch 16 train acc 0.9940878378378378\n"
          ]
        },
        {
          "data": {
            "application/vnd.jupyter.widget-view+json": {
              "model_id": "81c04a71fbdd409ea7ff7ad8e40bad12",
              "version_major": 2,
              "version_minor": 0
            },
            "text/plain": [
              "  0%|          | 0/5 [00:00<?, ?it/s]"
            ]
          },
          "metadata": {},
          "output_type": "display_data"
        },
        {
          "name": "stdout",
          "output_type": "stream",
          "text": [
            "epoch 16 test acc 0.8167613636363636\n"
          ]
        },
        {
          "data": {
            "application/vnd.jupyter.widget-view+json": {
              "model_id": "e1d00d1306904aa4865cc7c979a32f4f",
              "version_major": 2,
              "version_minor": 0
            },
            "text/plain": [
              "  0%|          | 0/37 [00:00<?, ?it/s]"
            ]
          },
          "metadata": {},
          "output_type": "display_data"
        },
        {
          "name": "stdout",
          "output_type": "stream",
          "text": [
            "epoch 17 batch id 1 loss 0.008183221332728863 train acc 1.0\n",
            "epoch 17 train acc 0.995777027027027\n"
          ]
        },
        {
          "data": {
            "application/vnd.jupyter.widget-view+json": {
              "model_id": "22e76db1c4eb44119b5b127ed928dd5e",
              "version_major": 2,
              "version_minor": 0
            },
            "text/plain": [
              "  0%|          | 0/5 [00:00<?, ?it/s]"
            ]
          },
          "metadata": {},
          "output_type": "display_data"
        },
        {
          "name": "stdout",
          "output_type": "stream",
          "text": [
            "epoch 17 test acc 0.8105113636363637\n"
          ]
        },
        {
          "data": {
            "application/vnd.jupyter.widget-view+json": {
              "model_id": "1dda33ec2bda4972a69e8b3d69b25772",
              "version_major": 2,
              "version_minor": 0
            },
            "text/plain": [
              "  0%|          | 0/37 [00:00<?, ?it/s]"
            ]
          },
          "metadata": {},
          "output_type": "display_data"
        },
        {
          "name": "stdout",
          "output_type": "stream",
          "text": [
            "epoch 18 batch id 1 loss 0.008260716684162617 train acc 1.0\n",
            "epoch 18 train acc 0.997043918918919\n"
          ]
        },
        {
          "data": {
            "application/vnd.jupyter.widget-view+json": {
              "model_id": "c505876618c74a8f8025f1539d2f7bad",
              "version_major": 2,
              "version_minor": 0
            },
            "text/plain": [
              "  0%|          | 0/5 [00:00<?, ?it/s]"
            ]
          },
          "metadata": {},
          "output_type": "display_data"
        },
        {
          "name": "stdout",
          "output_type": "stream",
          "text": [
            "epoch 18 test acc 0.8263257575757577\n"
          ]
        },
        {
          "data": {
            "application/vnd.jupyter.widget-view+json": {
              "model_id": "4a6e990c7c414b2d8c224f828848f64f",
              "version_major": 2,
              "version_minor": 0
            },
            "text/plain": [
              "  0%|          | 0/37 [00:00<?, ?it/s]"
            ]
          },
          "metadata": {},
          "output_type": "display_data"
        },
        {
          "name": "stdout",
          "output_type": "stream",
          "text": [
            "epoch 19 batch id 1 loss 0.007702122442424297 train acc 1.0\n",
            "epoch 19 train acc 0.9966216216216216\n"
          ]
        },
        {
          "data": {
            "application/vnd.jupyter.widget-view+json": {
              "model_id": "c811a6fccd0147b9941597343a53c041",
              "version_major": 2,
              "version_minor": 0
            },
            "text/plain": [
              "  0%|          | 0/5 [00:00<?, ?it/s]"
            ]
          },
          "metadata": {},
          "output_type": "display_data"
        },
        {
          "name": "stdout",
          "output_type": "stream",
          "text": [
            "epoch 19 test acc 0.8169507575757576\n"
          ]
        },
        {
          "data": {
            "application/vnd.jupyter.widget-view+json": {
              "model_id": "6d0512f504d04a56b60542be03b493fe",
              "version_major": 2,
              "version_minor": 0
            },
            "text/plain": [
              "  0%|          | 0/37 [00:00<?, ?it/s]"
            ]
          },
          "metadata": {},
          "output_type": "display_data"
        },
        {
          "name": "stdout",
          "output_type": "stream",
          "text": [
            "epoch 20 batch id 1 loss 0.007376731373369694 train acc 1.0\n",
            "epoch 20 train acc 0.997043918918919\n"
          ]
        },
        {
          "data": {
            "application/vnd.jupyter.widget-view+json": {
              "model_id": "01f5814725504973ad583f4b651b0027",
              "version_major": 2,
              "version_minor": 0
            },
            "text/plain": [
              "  0%|          | 0/5 [00:00<?, ?it/s]"
            ]
          },
          "metadata": {},
          "output_type": "display_data"
        },
        {
          "name": "stdout",
          "output_type": "stream",
          "text": [
            "epoch 20 test acc 0.7982007575757576\n"
          ]
        },
        {
          "data": {
            "application/vnd.jupyter.widget-view+json": {
              "model_id": "39e90435fc05467b88db6eede4afe6b9",
              "version_major": 2,
              "version_minor": 0
            },
            "text/plain": [
              "  0%|          | 0/37 [00:00<?, ?it/s]"
            ]
          },
          "metadata": {},
          "output_type": "display_data"
        },
        {
          "name": "stdout",
          "output_type": "stream",
          "text": [
            "epoch 21 batch id 1 loss 0.007344976998865604 train acc 1.0\n",
            "epoch 21 train acc 0.9987331081081081\n"
          ]
        },
        {
          "data": {
            "application/vnd.jupyter.widget-view+json": {
              "model_id": "703318e8a2424974bd89d232efc288c8",
              "version_major": 2,
              "version_minor": 0
            },
            "text/plain": [
              "  0%|          | 0/5 [00:00<?, ?it/s]"
            ]
          },
          "metadata": {},
          "output_type": "display_data"
        },
        {
          "name": "stdout",
          "output_type": "stream",
          "text": [
            "epoch 21 test acc 0.8292613636363637\n"
          ]
        },
        {
          "data": {
            "application/vnd.jupyter.widget-view+json": {
              "model_id": "b1cb148225814a4999b7d65a1ca60e5c",
              "version_major": 2,
              "version_minor": 0
            },
            "text/plain": [
              "  0%|          | 0/37 [00:00<?, ?it/s]"
            ]
          },
          "metadata": {},
          "output_type": "display_data"
        },
        {
          "name": "stdout",
          "output_type": "stream",
          "text": [
            "epoch 22 batch id 1 loss 0.005699374713003635 train acc 1.0\n",
            "epoch 22 train acc 0.9991554054054054\n"
          ]
        },
        {
          "data": {
            "application/vnd.jupyter.widget-view+json": {
              "model_id": "ce49244d63d94707a5989d1fd054a300",
              "version_major": 2,
              "version_minor": 0
            },
            "text/plain": [
              "  0%|          | 0/5 [00:00<?, ?it/s]"
            ]
          },
          "metadata": {},
          "output_type": "display_data"
        },
        {
          "name": "stdout",
          "output_type": "stream",
          "text": [
            "epoch 22 test acc 0.8230113636363636\n"
          ]
        },
        {
          "data": {
            "application/vnd.jupyter.widget-view+json": {
              "model_id": "d089cd1956134cabb8566f3616441c54",
              "version_major": 2,
              "version_minor": 0
            },
            "text/plain": [
              "  0%|          | 0/37 [00:00<?, ?it/s]"
            ]
          },
          "metadata": {},
          "output_type": "display_data"
        },
        {
          "name": "stdout",
          "output_type": "stream",
          "text": [
            "epoch 23 batch id 1 loss 0.005181225016713142 train acc 1.0\n",
            "epoch 23 train acc 0.9987331081081081\n"
          ]
        },
        {
          "data": {
            "application/vnd.jupyter.widget-view+json": {
              "model_id": "289504dc351f4dc3abe9825000e75d8f",
              "version_major": 2,
              "version_minor": 0
            },
            "text/plain": [
              "  0%|          | 0/5 [00:00<?, ?it/s]"
            ]
          },
          "metadata": {},
          "output_type": "display_data"
        },
        {
          "name": "stdout",
          "output_type": "stream",
          "text": [
            "epoch 23 test acc 0.8200757575757576\n"
          ]
        },
        {
          "data": {
            "application/vnd.jupyter.widget-view+json": {
              "model_id": "b26fe5b277ea486a8f63cf12899fdcc9",
              "version_major": 2,
              "version_minor": 0
            },
            "text/plain": [
              "  0%|          | 0/37 [00:00<?, ?it/s]"
            ]
          },
          "metadata": {},
          "output_type": "display_data"
        },
        {
          "name": "stdout",
          "output_type": "stream",
          "text": [
            "epoch 24 batch id 1 loss 0.005696567706763744 train acc 1.0\n",
            "epoch 24 train acc 0.9987331081081081\n"
          ]
        },
        {
          "data": {
            "application/vnd.jupyter.widget-view+json": {
              "model_id": "c9e0363a84674696b5ecc075e2a0076e",
              "version_major": 2,
              "version_minor": 0
            },
            "text/plain": [
              "  0%|          | 0/5 [00:00<?, ?it/s]"
            ]
          },
          "metadata": {},
          "output_type": "display_data"
        },
        {
          "name": "stdout",
          "output_type": "stream",
          "text": [
            "epoch 24 test acc 0.8167613636363636\n"
          ]
        },
        {
          "data": {
            "application/vnd.jupyter.widget-view+json": {
              "model_id": "6da184c4ac554e9b8df4b088d37e71c5",
              "version_major": 2,
              "version_minor": 0
            },
            "text/plain": [
              "  0%|          | 0/37 [00:00<?, ?it/s]"
            ]
          },
          "metadata": {},
          "output_type": "display_data"
        },
        {
          "name": "stdout",
          "output_type": "stream",
          "text": [
            "epoch 25 batch id 1 loss 0.005026538390666246 train acc 1.0\n",
            "epoch 25 train acc 0.9995777027027027\n"
          ]
        },
        {
          "data": {
            "application/vnd.jupyter.widget-view+json": {
              "model_id": "ccac1f32de844b2db8e259f2490c5a0c",
              "version_major": 2,
              "version_minor": 0
            },
            "text/plain": [
              "  0%|          | 0/5 [00:00<?, ?it/s]"
            ]
          },
          "metadata": {},
          "output_type": "display_data"
        },
        {
          "name": "stdout",
          "output_type": "stream",
          "text": [
            "epoch 25 test acc 0.8167613636363636\n"
          ]
        },
        {
          "data": {
            "application/vnd.jupyter.widget-view+json": {
              "model_id": "01768c5c262e4b5cb6b19d24c7d38ea5",
              "version_major": 2,
              "version_minor": 0
            },
            "text/plain": [
              "  0%|          | 0/37 [00:00<?, ?it/s]"
            ]
          },
          "metadata": {},
          "output_type": "display_data"
        },
        {
          "name": "stdout",
          "output_type": "stream",
          "text": [
            "epoch 26 batch id 1 loss 0.005206624045968056 train acc 1.0\n",
            "epoch 26 train acc 0.9995777027027027\n"
          ]
        },
        {
          "data": {
            "application/vnd.jupyter.widget-view+json": {
              "model_id": "6d2a8c02d9f14f96a47a792f1398550a",
              "version_major": 2,
              "version_minor": 0
            },
            "text/plain": [
              "  0%|          | 0/5 [00:00<?, ?it/s]"
            ]
          },
          "metadata": {},
          "output_type": "display_data"
        },
        {
          "name": "stdout",
          "output_type": "stream",
          "text": [
            "epoch 26 test acc 0.8167613636363636\n"
          ]
        },
        {
          "data": {
            "application/vnd.jupyter.widget-view+json": {
              "model_id": "dc75a262cb074c39936a12a5b96f8ff3",
              "version_major": 2,
              "version_minor": 0
            },
            "text/plain": [
              "  0%|          | 0/37 [00:00<?, ?it/s]"
            ]
          },
          "metadata": {},
          "output_type": "display_data"
        },
        {
          "name": "stdout",
          "output_type": "stream",
          "text": [
            "epoch 27 batch id 1 loss 0.0055521344766020775 train acc 1.0\n",
            "epoch 27 train acc 0.9991554054054054\n"
          ]
        },
        {
          "data": {
            "application/vnd.jupyter.widget-view+json": {
              "model_id": "67193d7526ce440791230a40326847fa",
              "version_major": 2,
              "version_minor": 0
            },
            "text/plain": [
              "  0%|          | 0/5 [00:00<?, ?it/s]"
            ]
          },
          "metadata": {},
          "output_type": "display_data"
        },
        {
          "name": "stdout",
          "output_type": "stream",
          "text": [
            "epoch 27 test acc 0.8167613636363636\n"
          ]
        },
        {
          "data": {
            "application/vnd.jupyter.widget-view+json": {
              "model_id": "f66e7fc32ad6440ca939b7f77c2e54cc",
              "version_major": 2,
              "version_minor": 0
            },
            "text/plain": [
              "  0%|          | 0/37 [00:00<?, ?it/s]"
            ]
          },
          "metadata": {},
          "output_type": "display_data"
        },
        {
          "name": "stdout",
          "output_type": "stream",
          "text": [
            "epoch 28 batch id 1 loss 0.005258344579488039 train acc 1.0\n",
            "epoch 28 train acc 0.9995777027027027\n"
          ]
        },
        {
          "data": {
            "application/vnd.jupyter.widget-view+json": {
              "model_id": "6ec4906ef66b4dc4b89978b0e5796552",
              "version_major": 2,
              "version_minor": 0
            },
            "text/plain": [
              "  0%|          | 0/5 [00:00<?, ?it/s]"
            ]
          },
          "metadata": {},
          "output_type": "display_data"
        },
        {
          "name": "stdout",
          "output_type": "stream",
          "text": [
            "epoch 28 test acc 0.8167613636363636\n"
          ]
        },
        {
          "data": {
            "application/vnd.jupyter.widget-view+json": {
              "model_id": "a2b1be8a04114178be7ee5cab2f994df",
              "version_major": 2,
              "version_minor": 0
            },
            "text/plain": [
              "  0%|          | 0/37 [00:00<?, ?it/s]"
            ]
          },
          "metadata": {},
          "output_type": "display_data"
        },
        {
          "name": "stdout",
          "output_type": "stream",
          "text": [
            "epoch 29 batch id 1 loss 0.004629016853868961 train acc 1.0\n",
            "epoch 29 train acc 0.9995777027027027\n"
          ]
        },
        {
          "data": {
            "application/vnd.jupyter.widget-view+json": {
              "model_id": "3de8d605b9ba40ed9556981edd489ffe",
              "version_major": 2,
              "version_minor": 0
            },
            "text/plain": [
              "  0%|          | 0/5 [00:00<?, ?it/s]"
            ]
          },
          "metadata": {},
          "output_type": "display_data"
        },
        {
          "name": "stdout",
          "output_type": "stream",
          "text": [
            "epoch 29 test acc 0.8167613636363636\n"
          ]
        },
        {
          "data": {
            "application/vnd.jupyter.widget-view+json": {
              "model_id": "de34297046ea4debbf8b4616a71c773a",
              "version_major": 2,
              "version_minor": 0
            },
            "text/plain": [
              "  0%|          | 0/37 [00:00<?, ?it/s]"
            ]
          },
          "metadata": {},
          "output_type": "display_data"
        },
        {
          "name": "stdout",
          "output_type": "stream",
          "text": [
            "epoch 30 batch id 1 loss 0.004441448953002691 train acc 1.0\n",
            "epoch 30 train acc 0.9991554054054054\n"
          ]
        },
        {
          "data": {
            "application/vnd.jupyter.widget-view+json": {
              "model_id": "483251483cdc425c98ef91441492f2e1",
              "version_major": 2,
              "version_minor": 0
            },
            "text/plain": [
              "  0%|          | 0/5 [00:00<?, ?it/s]"
            ]
          },
          "metadata": {},
          "output_type": "display_data"
        },
        {
          "name": "stdout",
          "output_type": "stream",
          "text": [
            "epoch 30 test acc 0.8167613636363636\n"
          ]
        }
      ],
      "source": [
        "# 모델 학습 시작\n",
        "for e in range(num_epochs):\n",
        "    train_acc = 0.0\n",
        "    val_acc = 0.0\n",
        "    \n",
        "    model.train()\n",
        "    for batch_id, (token_ids, valid_length, segment_ids, label) in enumerate(tqdm_notebook(train_dataloader)):\n",
        "        optimizer.zero_grad()\n",
        "        token_ids = token_ids.long().to(device)\n",
        "        segment_ids = segment_ids.long().to(device)\n",
        "        valid_length= valid_length\n",
        "        label = label.long().to(device)\n",
        "        out = model(token_ids, valid_length, segment_ids)\n",
        "        loss = loss_fn(out, label)\n",
        "        loss.backward()\n",
        "        torch.nn.utils.clip_grad_norm_(model.parameters(), max_grad_norm) # gradient clipping\n",
        "        optimizer.step()\n",
        "        scheduler.step()  # Update learning rate schedule\n",
        "        train_acc += calc_accuracy(out, label)\n",
        "        if batch_id % log_interval == 0:\n",
        "            print(\"epoch {} batch id {} loss {} train acc {}\".format(e+1, batch_id+1, loss.data.cpu().numpy(), train_acc / (batch_id+1)))\n",
        "    print(\"epoch {} train acc {}\".format(e+1, train_acc / (batch_id+1)))\n",
        "  \n",
        "    model.eval() # 평가 모드로 변경\n",
        "    \n",
        "    for batch_id, (token_ids, valid_length, segment_ids, label) in enumerate(tqdm_notebook(val_dataloader)):\n",
        "        token_ids = token_ids.long().to(device)\n",
        "        segment_ids = segment_ids.long().to(device)\n",
        "        valid_length= valid_length\n",
        "        label = label.long().to(device)\n",
        "        out = model(token_ids, valid_length, segment_ids)\n",
        "        val_acc += calc_accuracy(out, label)\n",
        "    print(\"epoch {} test acc {}\".format(e+1, val_acc / (batch_id+1)))\n",
        "  "
      ]
    },
    {
      "cell_type": "code",
      "execution_count": null,
      "metadata": {
        "colab": {
          "background_save": true
        },
        "id": "moQ3DLVW_9hB"
      },
      "outputs": [],
      "source": [
        "def calc_max(X):\n",
        "  max_vals, max_indices = torch.max(X, 1)\n",
        "  return max_indices"
      ]
    },
    {
      "cell_type": "code",
      "execution_count": null,
      "metadata": {
        "colab": {
          "background_save": true
        },
        "id": "E0vW79R_A07Q"
      },
      "outputs": [],
      "source": [
        "test_df = pd.DataFrame(test, columns = ['convra', 'cluster'])"
      ]
    },
    {
      "cell_type": "code",
      "execution_count": null,
      "metadata": {
        "colab": {
          "background_save": true
        },
        "id": "QR7Rk4zuB9Yl",
        "outputId": "e560f8bf-1b8b-447f-b2ae-ffa4a2997beb"
      },
      "outputs": [
        {
          "data": {
            "text/html": [
              "\n",
              "  <div id=\"df-b19e931b-0e74-4f77-b5da-6a10cebe47a8\">\n",
              "    <div class=\"colab-df-container\">\n",
              "      <div>\n",
              "<style scoped>\n",
              "    .dataframe tbody tr th:only-of-type {\n",
              "        vertical-align: middle;\n",
              "    }\n",
              "\n",
              "    .dataframe tbody tr th {\n",
              "        vertical-align: top;\n",
              "    }\n",
              "\n",
              "    .dataframe thead th {\n",
              "        text-align: right;\n",
              "    }\n",
              "</style>\n",
              "<table border=\"1\" class=\"dataframe\">\n",
              "  <thead>\n",
              "    <tr style=\"text-align: right;\">\n",
              "      <th></th>\n",
              "      <th>convra</th>\n",
              "      <th>cluster</th>\n",
              "    </tr>\n",
              "  </thead>\n",
              "  <tbody>\n",
              "    <tr>\n",
              "      <th>0</th>\n",
              "      <td>그치 좀 근력을 좀 키우고 할 수 있는 운동을 찾아 가지고 적극적으로 좀 알아 봐</td>\n",
              "      <td>3</td>\n",
              "    </tr>\n",
              "    <tr>\n",
              "      <th>1</th>\n",
              "      <td>그런데  어쨌든 간에 삼개월만 버티면 기본자세는 나온다고</td>\n",
              "      <td>3</td>\n",
              "    </tr>\n",
              "    <tr>\n",
              "      <th>2</th>\n",
              "      <td>그렇게 바라보고는 있지만 정말 볼 때마다 좀 안타깝기도 하고 답답하기도 하드라고</td>\n",
              "      <td>0</td>\n",
              "    </tr>\n",
              "    <tr>\n",
              "      <th>3</th>\n",
              "      <td>그러니까 유럽이나 아프리카  이쪽에서 태권도가 아주 선양하고 있을 거 같아</td>\n",
              "      <td>10</td>\n",
              "    </tr>\n",
              "    <tr>\n",
              "      <th>4</th>\n",
              "      <td>그래서 결과 보고 하다 보면 전반기 후반기 해서 일년이 금방 지나가 버린 것 같아요</td>\n",
              "      <td>0</td>\n",
              "    </tr>\n",
              "    <tr>\n",
              "      <th>...</th>\n",
              "      <td>...</td>\n",
              "      <td>...</td>\n",
              "    </tr>\n",
              "    <tr>\n",
              "      <th>285</th>\n",
              "      <td>그러면 신기하게도 또 잘 쳐져요 근데 문제는 다음 날 가면 잘 안 풀려요</td>\n",
              "      <td>5</td>\n",
              "    </tr>\n",
              "    <tr>\n",
              "      <th>286</th>\n",
              "      <td>근데 박항서를 보니까 젊었을 때부터 자기가 얼마나 열심히 공부했는지 모른대</td>\n",
              "      <td>4</td>\n",
              "    </tr>\n",
              "    <tr>\n",
              "      <th>287</th>\n",
              "      <td>골프 이렇게 많이 나오니  또 그것도 이제 약간 씁쓸한 거 같고 그렇더라고</td>\n",
              "      <td>9</td>\n",
              "    </tr>\n",
              "    <tr>\n",
              "      <th>288</th>\n",
              "      <td>해외여행을 가려고 마음 먹으면  일주일 전부터 요가를 해</td>\n",
              "      <td>1</td>\n",
              "    </tr>\n",
              "    <tr>\n",
              "      <th>289</th>\n",
              "      <td>나는 지금 요가만 하고 있지 대신 이제 근력 운동도 병행하려고 해</td>\n",
              "      <td>3</td>\n",
              "    </tr>\n",
              "  </tbody>\n",
              "</table>\n",
              "<p>290 rows × 2 columns</p>\n",
              "</div>\n",
              "      <button class=\"colab-df-convert\" onclick=\"convertToInteractive('df-b19e931b-0e74-4f77-b5da-6a10cebe47a8')\"\n",
              "              title=\"Convert this dataframe to an interactive table.\"\n",
              "              style=\"display:none;\">\n",
              "        \n",
              "  <svg xmlns=\"http://www.w3.org/2000/svg\" height=\"24px\"viewBox=\"0 0 24 24\"\n",
              "       width=\"24px\">\n",
              "    <path d=\"M0 0h24v24H0V0z\" fill=\"none\"/>\n",
              "    <path d=\"M18.56 5.44l.94 2.06.94-2.06 2.06-.94-2.06-.94-.94-2.06-.94 2.06-2.06.94zm-11 1L8.5 8.5l.94-2.06 2.06-.94-2.06-.94L8.5 2.5l-.94 2.06-2.06.94zm10 10l.94 2.06.94-2.06 2.06-.94-2.06-.94-.94-2.06-.94 2.06-2.06.94z\"/><path d=\"M17.41 7.96l-1.37-1.37c-.4-.4-.92-.59-1.43-.59-.52 0-1.04.2-1.43.59L10.3 9.45l-7.72 7.72c-.78.78-.78 2.05 0 2.83L4 21.41c.39.39.9.59 1.41.59.51 0 1.02-.2 1.41-.59l7.78-7.78 2.81-2.81c.8-.78.8-2.07 0-2.86zM5.41 20L4 18.59l7.72-7.72 1.47 1.35L5.41 20z\"/>\n",
              "  </svg>\n",
              "      </button>\n",
              "      \n",
              "  <style>\n",
              "    .colab-df-container {\n",
              "      display:flex;\n",
              "      flex-wrap:wrap;\n",
              "      gap: 12px;\n",
              "    }\n",
              "\n",
              "    .colab-df-convert {\n",
              "      background-color: #E8F0FE;\n",
              "      border: none;\n",
              "      border-radius: 50%;\n",
              "      cursor: pointer;\n",
              "      display: none;\n",
              "      fill: #1967D2;\n",
              "      height: 32px;\n",
              "      padding: 0 0 0 0;\n",
              "      width: 32px;\n",
              "    }\n",
              "\n",
              "    .colab-df-convert:hover {\n",
              "      background-color: #E2EBFA;\n",
              "      box-shadow: 0px 1px 2px rgba(60, 64, 67, 0.3), 0px 1px 3px 1px rgba(60, 64, 67, 0.15);\n",
              "      fill: #174EA6;\n",
              "    }\n",
              "\n",
              "    [theme=dark] .colab-df-convert {\n",
              "      background-color: #3B4455;\n",
              "      fill: #D2E3FC;\n",
              "    }\n",
              "\n",
              "    [theme=dark] .colab-df-convert:hover {\n",
              "      background-color: #434B5C;\n",
              "      box-shadow: 0px 1px 3px 1px rgba(0, 0, 0, 0.15);\n",
              "      filter: drop-shadow(0px 1px 2px rgba(0, 0, 0, 0.3));\n",
              "      fill: #FFFFFF;\n",
              "    }\n",
              "  </style>\n",
              "\n",
              "      <script>\n",
              "        const buttonEl =\n",
              "          document.querySelector('#df-b19e931b-0e74-4f77-b5da-6a10cebe47a8 button.colab-df-convert');\n",
              "        buttonEl.style.display =\n",
              "          google.colab.kernel.accessAllowed ? 'block' : 'none';\n",
              "\n",
              "        async function convertToInteractive(key) {\n",
              "          const element = document.querySelector('#df-b19e931b-0e74-4f77-b5da-6a10cebe47a8');\n",
              "          const dataTable =\n",
              "            await google.colab.kernel.invokeFunction('convertToInteractive',\n",
              "                                                     [key], {});\n",
              "          if (!dataTable) return;\n",
              "\n",
              "          const docLinkHtml = 'Like what you see? Visit the ' +\n",
              "            '<a target=\"_blank\" href=https://colab.research.google.com/notebooks/data_table.ipynb>data table notebook</a>'\n",
              "            + ' to learn more about interactive tables.';\n",
              "          element.innerHTML = '';\n",
              "          dataTable['output_type'] = 'display_data';\n",
              "          await google.colab.output.renderOutput(dataTable, element);\n",
              "          const docLink = document.createElement('div');\n",
              "          docLink.innerHTML = docLinkHtml;\n",
              "          element.appendChild(docLink);\n",
              "        }\n",
              "      </script>\n",
              "    </div>\n",
              "  </div>\n",
              "  "
            ],
            "text/plain": [
              "                                              convra cluster\n",
              "0      그치 좀 근력을 좀 키우고 할 수 있는 운동을 찾아 가지고 적극적으로 좀 알아 봐       3\n",
              "1                    그런데  어쨌든 간에 삼개월만 버티면 기본자세는 나온다고       3\n",
              "2       그렇게 바라보고는 있지만 정말 볼 때마다 좀 안타깝기도 하고 답답하기도 하드라고       0\n",
              "3          그러니까 유럽이나 아프리카  이쪽에서 태권도가 아주 선양하고 있을 거 같아      10\n",
              "4     그래서 결과 보고 하다 보면 전반기 후반기 해서 일년이 금방 지나가 버린 것 같아요       0\n",
              "..                                               ...     ...\n",
              "285         그러면 신기하게도 또 잘 쳐져요 근데 문제는 다음 날 가면 잘 안 풀려요       5\n",
              "286        근데 박항서를 보니까 젊었을 때부터 자기가 얼마나 열심히 공부했는지 모른대       4\n",
              "287       골프 이렇게 많이 나오니  또 그것도 이제 약간 씁쓸한 거 같고 그렇더라고        9\n",
              "288                  해외여행을 가려고 마음 먹으면  일주일 전부터 요가를 해       1\n",
              "289             나는 지금 요가만 하고 있지 대신 이제 근력 운동도 병행하려고 해       3\n",
              "\n",
              "[290 rows x 2 columns]"
            ]
          },
          "execution_count": 165,
          "metadata": {},
          "output_type": "execute_result"
        }
      ],
      "source": [
        "test_df"
      ]
    },
    {
      "cell_type": "code",
      "execution_count": null,
      "metadata": {
        "colab": {
          "background_save": true,
          "referenced_widgets": [
            "94563fa0d8b64e2ba301d08f0d5aa551"
          ]
        },
        "id": "ezfMs4CxAAg4",
        "outputId": "1aa5623d-8872-4b8f-a358-a6ef2c2fa855"
      },
      "outputs": [
        {
          "name": "stderr",
          "output_type": "stream",
          "text": [
            "/usr/local/lib/python3.7/dist-packages/torch/utils/data/dataloader.py:481: UserWarning: This DataLoader will create 5 worker processes in total. Our suggested max number of worker in current system is 2, which is smaller than what this DataLoader is going to create. Please be aware that excessive worker creation might get DataLoader running slow or even freeze, lower the worker number to avoid potential slowness/freeze if necessary.\n",
            "  cpuset_checked))\n",
            "/usr/local/lib/python3.7/dist-packages/ipykernel_launcher.py:11: TqdmDeprecationWarning: This function will be removed in tqdm==5.0.0\n",
            "Please use `tqdm.notebook.tqdm` instead of `tqdm.tqdm_notebook`\n",
            "  # This is added back by InteractiveShellApp.init_path()\n"
          ]
        },
        {
          "data": {
            "application/vnd.jupyter.widget-view+json": {
              "model_id": "94563fa0d8b64e2ba301d08f0d5aa551",
              "version_major": 2,
              "version_minor": 0
            },
            "text/plain": [
              "  0%|          | 0/290 [00:00<?, ?it/s]"
            ]
          },
          "metadata": {},
          "output_type": "display_data"
        }
      ],
      "source": [
        "# 테스트 문장 예측\n",
        "\n",
        "y_pred = []\n",
        "y_true = []\n",
        "\n",
        "unseen_test = test_df\n",
        "unseen_values = unseen_test.values\n",
        "test_set = BERTDataset(unseen_values, 0, 1, tok, max_len, True, False)\n",
        "test_input = torch.utils.data.DataLoader(test_set, batch_size=1, num_workers=5)\n",
        "\n",
        "for batch_id, (token_ids, valid_length, segment_ids, label) in enumerate(tqdm_notebook(test_input)):\n",
        "  token_ids = token_ids.long().to(device)\n",
        "  segment_ids = segment_ids.long().to(device)\n",
        "  valid_length= valid_length\n",
        "  label = label.long().to(device)\n",
        "  out = model(token_ids, valid_length, segment_ids)\n",
        "  #test_acc += calc_accuracy(out, label)\n",
        "  #print(out)\n",
        "  prediction = calc_max(out)\n",
        "  y_pred.append(prediction)\n",
        "  y_true.append(label)\n",
        "\n",
        "#print(y_pred)\n",
        "#print(y_true)"
      ]
    },
    {
      "cell_type": "code",
      "execution_count": null,
      "metadata": {
        "colab": {
          "background_save": true
        },
        "id": "ecxUPXVQCKaF"
      },
      "outputs": [],
      "source": [
        "y_trues = []\n",
        "for i in range(len(y_true)):\n",
        "  true = y_true[i].data.cpu().numpy()\n",
        "  y_trues.append(true)"
      ]
    },
    {
      "cell_type": "code",
      "execution_count": null,
      "metadata": {
        "colab": {
          "background_save": true
        },
        "id": "Vx3ksiG3CMTU"
      },
      "outputs": [],
      "source": [
        "y_predictions = []\n",
        "for i in range(len(y_pred)):\n",
        "  pred = y_pred[i].data.cpu().numpy()\n",
        "  y_predictions.append(pred)"
      ]
    },
    {
      "cell_type": "code",
      "execution_count": null,
      "metadata": {
        "colab": {
          "background_save": true
        },
        "id": "qFc2mxlWCOX8",
        "outputId": "63df1fed-6b1c-4b2b-c2bd-27d645b40531"
      },
      "outputs": [
        {
          "data": {
            "text/html": [
              "\n",
              "  <div id=\"df-25e05e3a-202b-4804-9ddd-0f6a70e8609f\">\n",
              "    <div class=\"colab-df-container\">\n",
              "      <div>\n",
              "<style scoped>\n",
              "    .dataframe tbody tr th:only-of-type {\n",
              "        vertical-align: middle;\n",
              "    }\n",
              "\n",
              "    .dataframe tbody tr th {\n",
              "        vertical-align: top;\n",
              "    }\n",
              "\n",
              "    .dataframe thead th {\n",
              "        text-align: right;\n",
              "    }\n",
              "</style>\n",
              "<table border=\"1\" class=\"dataframe\">\n",
              "  <thead>\n",
              "    <tr style=\"text-align: right;\">\n",
              "      <th></th>\n",
              "      <th>convra</th>\n",
              "      <th>cluster</th>\n",
              "      <th>y_true</th>\n",
              "      <th>y_prediction</th>\n",
              "    </tr>\n",
              "  </thead>\n",
              "  <tbody>\n",
              "    <tr>\n",
              "      <th>0</th>\n",
              "      <td>그치 좀 근력을 좀 키우고 할 수 있는 운동을 찾아 가지고 적극적으로 좀 알아 봐</td>\n",
              "      <td>3</td>\n",
              "      <td>[3]</td>\n",
              "      <td>[3]</td>\n",
              "    </tr>\n",
              "    <tr>\n",
              "      <th>1</th>\n",
              "      <td>그런데  어쨌든 간에 삼개월만 버티면 기본자세는 나온다고</td>\n",
              "      <td>3</td>\n",
              "      <td>[3]</td>\n",
              "      <td>[3]</td>\n",
              "    </tr>\n",
              "    <tr>\n",
              "      <th>2</th>\n",
              "      <td>그렇게 바라보고는 있지만 정말 볼 때마다 좀 안타깝기도 하고 답답하기도 하드라고</td>\n",
              "      <td>0</td>\n",
              "      <td>[0]</td>\n",
              "      <td>[0]</td>\n",
              "    </tr>\n",
              "    <tr>\n",
              "      <th>3</th>\n",
              "      <td>그러니까 유럽이나 아프리카  이쪽에서 태권도가 아주 선양하고 있을 거 같아</td>\n",
              "      <td>10</td>\n",
              "      <td>[10]</td>\n",
              "      <td>[10]</td>\n",
              "    </tr>\n",
              "    <tr>\n",
              "      <th>4</th>\n",
              "      <td>그래서 결과 보고 하다 보면 전반기 후반기 해서 일년이 금방 지나가 버린 것 같아요</td>\n",
              "      <td>0</td>\n",
              "      <td>[0]</td>\n",
              "      <td>[0]</td>\n",
              "    </tr>\n",
              "    <tr>\n",
              "      <th>...</th>\n",
              "      <td>...</td>\n",
              "      <td>...</td>\n",
              "      <td>...</td>\n",
              "      <td>...</td>\n",
              "    </tr>\n",
              "    <tr>\n",
              "      <th>285</th>\n",
              "      <td>그러면 신기하게도 또 잘 쳐져요 근데 문제는 다음 날 가면 잘 안 풀려요</td>\n",
              "      <td>5</td>\n",
              "      <td>[5]</td>\n",
              "      <td>[5]</td>\n",
              "    </tr>\n",
              "    <tr>\n",
              "      <th>286</th>\n",
              "      <td>근데 박항서를 보니까 젊었을 때부터 자기가 얼마나 열심히 공부했는지 모른대</td>\n",
              "      <td>4</td>\n",
              "      <td>[4]</td>\n",
              "      <td>[4]</td>\n",
              "    </tr>\n",
              "    <tr>\n",
              "      <th>287</th>\n",
              "      <td>골프 이렇게 많이 나오니  또 그것도 이제 약간 씁쓸한 거 같고 그렇더라고</td>\n",
              "      <td>9</td>\n",
              "      <td>[9]</td>\n",
              "      <td>[9]</td>\n",
              "    </tr>\n",
              "    <tr>\n",
              "      <th>288</th>\n",
              "      <td>해외여행을 가려고 마음 먹으면  일주일 전부터 요가를 해</td>\n",
              "      <td>1</td>\n",
              "      <td>[1]</td>\n",
              "      <td>[9]</td>\n",
              "    </tr>\n",
              "    <tr>\n",
              "      <th>289</th>\n",
              "      <td>나는 지금 요가만 하고 있지 대신 이제 근력 운동도 병행하려고 해</td>\n",
              "      <td>3</td>\n",
              "      <td>[3]</td>\n",
              "      <td>[3]</td>\n",
              "    </tr>\n",
              "  </tbody>\n",
              "</table>\n",
              "<p>290 rows × 4 columns</p>\n",
              "</div>\n",
              "      <button class=\"colab-df-convert\" onclick=\"convertToInteractive('df-25e05e3a-202b-4804-9ddd-0f6a70e8609f')\"\n",
              "              title=\"Convert this dataframe to an interactive table.\"\n",
              "              style=\"display:none;\">\n",
              "        \n",
              "  <svg xmlns=\"http://www.w3.org/2000/svg\" height=\"24px\"viewBox=\"0 0 24 24\"\n",
              "       width=\"24px\">\n",
              "    <path d=\"M0 0h24v24H0V0z\" fill=\"none\"/>\n",
              "    <path d=\"M18.56 5.44l.94 2.06.94-2.06 2.06-.94-2.06-.94-.94-2.06-.94 2.06-2.06.94zm-11 1L8.5 8.5l.94-2.06 2.06-.94-2.06-.94L8.5 2.5l-.94 2.06-2.06.94zm10 10l.94 2.06.94-2.06 2.06-.94-2.06-.94-.94-2.06-.94 2.06-2.06.94z\"/><path d=\"M17.41 7.96l-1.37-1.37c-.4-.4-.92-.59-1.43-.59-.52 0-1.04.2-1.43.59L10.3 9.45l-7.72 7.72c-.78.78-.78 2.05 0 2.83L4 21.41c.39.39.9.59 1.41.59.51 0 1.02-.2 1.41-.59l7.78-7.78 2.81-2.81c.8-.78.8-2.07 0-2.86zM5.41 20L4 18.59l7.72-7.72 1.47 1.35L5.41 20z\"/>\n",
              "  </svg>\n",
              "      </button>\n",
              "      \n",
              "  <style>\n",
              "    .colab-df-container {\n",
              "      display:flex;\n",
              "      flex-wrap:wrap;\n",
              "      gap: 12px;\n",
              "    }\n",
              "\n",
              "    .colab-df-convert {\n",
              "      background-color: #E8F0FE;\n",
              "      border: none;\n",
              "      border-radius: 50%;\n",
              "      cursor: pointer;\n",
              "      display: none;\n",
              "      fill: #1967D2;\n",
              "      height: 32px;\n",
              "      padding: 0 0 0 0;\n",
              "      width: 32px;\n",
              "    }\n",
              "\n",
              "    .colab-df-convert:hover {\n",
              "      background-color: #E2EBFA;\n",
              "      box-shadow: 0px 1px 2px rgba(60, 64, 67, 0.3), 0px 1px 3px 1px rgba(60, 64, 67, 0.15);\n",
              "      fill: #174EA6;\n",
              "    }\n",
              "\n",
              "    [theme=dark] .colab-df-convert {\n",
              "      background-color: #3B4455;\n",
              "      fill: #D2E3FC;\n",
              "    }\n",
              "\n",
              "    [theme=dark] .colab-df-convert:hover {\n",
              "      background-color: #434B5C;\n",
              "      box-shadow: 0px 1px 3px 1px rgba(0, 0, 0, 0.15);\n",
              "      filter: drop-shadow(0px 1px 2px rgba(0, 0, 0, 0.3));\n",
              "      fill: #FFFFFF;\n",
              "    }\n",
              "  </style>\n",
              "\n",
              "      <script>\n",
              "        const buttonEl =\n",
              "          document.querySelector('#df-25e05e3a-202b-4804-9ddd-0f6a70e8609f button.colab-df-convert');\n",
              "        buttonEl.style.display =\n",
              "          google.colab.kernel.accessAllowed ? 'block' : 'none';\n",
              "\n",
              "        async function convertToInteractive(key) {\n",
              "          const element = document.querySelector('#df-25e05e3a-202b-4804-9ddd-0f6a70e8609f');\n",
              "          const dataTable =\n",
              "            await google.colab.kernel.invokeFunction('convertToInteractive',\n",
              "                                                     [key], {});\n",
              "          if (!dataTable) return;\n",
              "\n",
              "          const docLinkHtml = 'Like what you see? Visit the ' +\n",
              "            '<a target=\"_blank\" href=https://colab.research.google.com/notebooks/data_table.ipynb>data table notebook</a>'\n",
              "            + ' to learn more about interactive tables.';\n",
              "          element.innerHTML = '';\n",
              "          dataTable['output_type'] = 'display_data';\n",
              "          await google.colab.output.renderOutput(dataTable, element);\n",
              "          const docLink = document.createElement('div');\n",
              "          docLink.innerHTML = docLinkHtml;\n",
              "          element.appendChild(docLink);\n",
              "        }\n",
              "      </script>\n",
              "    </div>\n",
              "  </div>\n",
              "  "
            ],
            "text/plain": [
              "                                              convra cluster y_true  \\\n",
              "0      그치 좀 근력을 좀 키우고 할 수 있는 운동을 찾아 가지고 적극적으로 좀 알아 봐       3    [3]   \n",
              "1                    그런데  어쨌든 간에 삼개월만 버티면 기본자세는 나온다고       3    [3]   \n",
              "2       그렇게 바라보고는 있지만 정말 볼 때마다 좀 안타깝기도 하고 답답하기도 하드라고       0    [0]   \n",
              "3          그러니까 유럽이나 아프리카  이쪽에서 태권도가 아주 선양하고 있을 거 같아      10   [10]   \n",
              "4     그래서 결과 보고 하다 보면 전반기 후반기 해서 일년이 금방 지나가 버린 것 같아요       0    [0]   \n",
              "..                                               ...     ...    ...   \n",
              "285         그러면 신기하게도 또 잘 쳐져요 근데 문제는 다음 날 가면 잘 안 풀려요       5    [5]   \n",
              "286        근데 박항서를 보니까 젊었을 때부터 자기가 얼마나 열심히 공부했는지 모른대       4    [4]   \n",
              "287       골프 이렇게 많이 나오니  또 그것도 이제 약간 씁쓸한 거 같고 그렇더라고        9    [9]   \n",
              "288                  해외여행을 가려고 마음 먹으면  일주일 전부터 요가를 해       1    [1]   \n",
              "289             나는 지금 요가만 하고 있지 대신 이제 근력 운동도 병행하려고 해       3    [3]   \n",
              "\n",
              "    y_prediction  \n",
              "0            [3]  \n",
              "1            [3]  \n",
              "2            [0]  \n",
              "3           [10]  \n",
              "4            [0]  \n",
              "..           ...  \n",
              "285          [5]  \n",
              "286          [4]  \n",
              "287          [9]  \n",
              "288          [9]  \n",
              "289          [3]  \n",
              "\n",
              "[290 rows x 4 columns]"
            ]
          },
          "execution_count": 169,
          "metadata": {},
          "output_type": "execute_result"
        }
      ],
      "source": [
        "test_df['y_true'] = y_trues\n",
        "test_df['y_prediction'] = y_predictions\n",
        "test_df"
      ]
    },
    {
      "cell_type": "code",
      "execution_count": null,
      "metadata": {
        "colab": {
          "background_save": true
        },
        "id": "gPUNLXroH6E1",
        "outputId": "5ea566cc-c4ee-452d-916d-45b863e13582"
      },
      "outputs": [
        {
          "data": {
            "text/plain": [
              "array([[35,  1,  4,  1,  0,  1,  0,  1,  1,  1,  3],\n",
              "       [ 2, 40,  1,  4,  0,  1,  0,  0,  1,  2,  0],\n",
              "       [ 2,  2, 20,  0,  0,  0,  1,  1,  0,  0,  0],\n",
              "       [ 0,  4,  0, 19,  0,  1,  0,  0,  1,  0,  0],\n",
              "       [ 1,  0,  0,  0,  7,  0,  0,  0,  0,  0,  0],\n",
              "       [ 1,  0,  0,  0,  0, 13,  0,  0,  0,  0,  0],\n",
              "       [ 1,  0,  1,  0,  1,  1,  2,  0,  0,  1,  2],\n",
              "       [ 0,  2,  1,  0,  0,  1,  0, 11,  1,  4,  0],\n",
              "       [ 0,  0,  0,  0,  0,  0,  0,  0, 14,  1,  0],\n",
              "       [ 0,  4,  0,  0,  0,  0,  1,  2,  2, 40,  0],\n",
              "       [ 2,  1,  1,  0,  0,  1,  1,  0,  0,  1, 18]])"
            ]
          },
          "execution_count": 170,
          "metadata": {},
          "output_type": "execute_result"
        }
      ],
      "source": [
        "from sklearn.metrics import precision_score, recall_score, confusion_matrix, f1_score\n",
        "confusion_matrix(y_trues, y_predictions)"
      ]
    },
    {
      "cell_type": "code",
      "execution_count": null,
      "metadata": {
        "colab": {
          "background_save": true
        },
        "id": "qO_Aai_EIhg-",
        "outputId": "46525a42-f7bc-4267-a401-a9c58cbaf1ed"
      },
      "outputs": [
        {
          "data": {
            "image/png": "[encoded data removed]",
            "text/plain": [
              "<Figure size 432x288 with 1 Axes>"
            ]
          },
          "metadata": {},
          "output_type": "display_data"
        }
      ],
      "source": [
        "from sklearn.metrics import confusion_matrix\n",
        "import seaborn as sns\n",
        "import matplotlib.pyplot as plt\n",
        "mat = confusion_matrix(y_trues, y_predictions)\n",
        "sns.heatmap(mat.T, square=True, annot=True, fmt='d', cbar=False)\n",
        "plt.xlabel('true label')\n",
        "plt.ylabel('predicted label');"
      ]
    },
    {
      "cell_type": "code",
      "execution_count": null,
      "metadata": {
        "colab": {
          "background_save": true
        },
        "id": "LFA_1DK4JKsh",
        "outputId": "52226448-4e8a-4f05-f211-5e311201197c"
      },
      "outputs": [
        {
          "data": {
            "text/plain": [
              "0.7532190435313216"
            ]
          },
          "execution_count": 172,
          "metadata": {},
          "output_type": "execute_result"
        }
      ],
      "source": [
        "precision = precision_score(y_trues, y_predictions, average = 'weighted')\n",
        "precision"
      ]
    },
    {
      "cell_type": "code",
      "execution_count": null,
      "metadata": {
        "colab": {
          "background_save": true
        },
        "id": "JM9oT5ykJNoY",
        "outputId": "0fa7dfa2-d571-4e55-8a8c-6346d645a3f4"
      },
      "outputs": [
        {
          "data": {
            "text/plain": [
              "0.7551724137931034"
            ]
          },
          "execution_count": 173,
          "metadata": {},
          "output_type": "execute_result"
        }
      ],
      "source": [
        "recall = recall_score(y_trues, y_predictions, average = 'weighted')\n",
        "recall"
      ]
    },
    {
      "cell_type": "code",
      "execution_count": null,
      "metadata": {
        "colab": {
          "background_save": true
        },
        "id": "qulGytVDJP84",
        "outputId": "6d8d4b47-7975-4d59-9165-e10c95d339e3"
      },
      "outputs": [
        {
          "data": {
            "text/plain": [
              "0.7501552279930948"
            ]
          },
          "execution_count": 174,
          "metadata": {},
          "output_type": "execute_result"
        }
      ],
      "source": [
        "f1score = f1_score(y_trues, y_predictions, average= 'weighted')\n",
        "f1score"
      ]
    },
    {
      "cell_type": "code",
      "execution_count": null,
      "metadata": {
        "colab": {
          "background_save": true,
          "referenced_widgets": [
            "c64ac944c458434b821fe9ea0a4b218d"
          ]
        },
        "id": "2vY9PJya_l23",
        "outputId": "f6888c7f-a712-41dd-adb9-551b94c88f74"
      },
      "outputs": [
        {
          "name": "stderr",
          "output_type": "stream",
          "text": [
            "/usr/local/lib/python3.7/dist-packages/torch/utils/data/dataloader.py:481: UserWarning: This DataLoader will create 5 worker processes in total. Our suggested max number of worker in current system is 2, which is smaller than what this DataLoader is going to create. Please be aware that excessive worker creation might get DataLoader running slow or even freeze, lower the worker number to avoid potential slowness/freeze if necessary.\n",
            "  cpuset_checked))\n",
            "/usr/local/lib/python3.7/dist-packages/ipykernel_launcher.py:10: TqdmDeprecationWarning: This function will be removed in tqdm==5.0.0\n",
            "Please use `tqdm.notebook.tqdm` instead of `tqdm.tqdm_notebook`\n",
            "  # Remove the CWD from sys.path while we load stuff.\n"
          ]
        },
        {
          "data": {
            "application/vnd.jupyter.widget-view+json": {
              "model_id": "c64ac944c458434b821fe9ea0a4b218d",
              "version_major": 2,
              "version_minor": 0
            },
            "text/plain": [
              "  0%|          | 0/1 [00:00<?, ?it/s]"
            ]
          },
          "metadata": {},
          "output_type": "display_data"
        },
        {
          "name": "stdout",
          "output_type": "stream",
          "text": [
            "tensor([[-0.5598, -0.8594,  7.1713, -1.2698, -0.4973, -1.2610, -0.7661, -0.1728,\n",
            "         -0.8273, -0.7362, -0.7935]], device='cuda:0',\n",
            "       grad_fn=<AddmmBackward0>)\n"
          ]
        }
      ],
      "source": [
        "# 테스트 문장 예측\n",
        "test_sentence = '요즘 자전거가 재미있어'\n",
        "test_label = 6\n",
        "\n",
        "unseen_test = pd.DataFrame([[test_sentence, test_label]], columns = [['convrs', 'cluster']])\n",
        "unseen_values = unseen_test.values\n",
        "test_set = BERTDataset(unseen_values, 0, 1, tok, max_len, True, False)\n",
        "test_input = torch.utils.data.DataLoader(test_set, batch_size=1, num_workers=5)\n",
        "\n",
        "for batch_id, (token_ids, valid_length, segment_ids, label) in enumerate(tqdm_notebook(test_input)):\n",
        "  token_ids = token_ids.long().to(device)\n",
        "  segment_ids = segment_ids.long().to(device)\n",
        "  valid_length= valid_length\n",
        "  out = model(token_ids, valid_length, segment_ids)\n",
        "  print(out)"
      ]
    },
    {
      "cell_type": "code",
      "execution_count": null,
      "metadata": {
        "colab": {
          "background_save": true
        },
        "id": "UZ5toDpl-Q-1"
      },
      "outputs": [],
      "source": [
        "class summarization():\n",
        "  def __init__(self,convrs,model):\n",
        "        self.model = model\n",
        "        self.convrs = convrs\n",
        "\n",
        "  def summarize(self):\n",
        "    self.summ_result = [0 for i in range(11)]\n",
        "    self.len = len(self.convrs)\n",
        "    for i in self.convrs:\n",
        "      print(i)\n",
        "      data = [i, '0']\n",
        "      dataset_another = [data]\n",
        "      another_test = BERTDataset(dataset_another, 0, 1, tok, max_len, True, False)\n",
        "      test_dataloader = torch.utils.data.DataLoader(another_test, batch_size=batch_size, num_workers=5)\n",
        "     \n",
        "      model.eval()\n",
        "\n",
        "      for batch_id, (token_ids, valid_length, segment_ids, label) in enumerate(tqdm_notebook(test_dataloader)):\n",
        "        token_ids = token_ids.long().to(device)\n",
        "        segment_ids = segment_ids.long().to(device)\n",
        "\n",
        "        valid_length= valid_length\n",
        "        label = label.long().to(device)\n",
        "\n",
        "        out = model(token_ids, valid_length, segment_ids)\n",
        "\n",
        "        print(out)\n",
        "\n",
        "        for i in out:\n",
        "          logits=i\n",
        "          logits = logits.detach().cpu().numpy()\n",
        "          print(\"주제 : \" , np.argmax(logits))\n",
        "          self.summ_result[np.argmax(logits)]+=1\n",
        "          print()\n",
        "    for i in range(len(self.summ_result)):\n",
        "      print(i, \"번째 주제가\", self.summ_result[i]/self.len*100, \"% 차지합니다.\" )"
      ]
    },
    {
      "cell_type": "markdown",
      "metadata": {
        "id": "E_s-_2-2_jTa"
      },
      "source": [
        "## 새로운 문장으로 분류"
      ]
    },
    {
      "cell_type": "code",
      "execution_count": null,
      "metadata": {
        "colab": {
          "background_save": true,
          "referenced_widgets": [
            "091a3106ea584ea0bd10a5df6e8377b6",
            "ea5eeeb551f943728741bc129be23d44",
            "947bab7917f541a1b9f83c754ea7aa06",
            "347a95487bc348df865f360607f47593",
            "d53f9315806c4854a60270de3bbc93b0",
            "4aefb679b1ff410cbad3362f8e57e587"
          ]
        },
        "id": "nJR95_fBCZf3",
        "outputId": "f063c01b-a2f1-4517-a6fc-4361800c35d9"
      },
      "outputs": [
        {
          "name": "stdout",
          "output_type": "stream",
          "text": [
            "내가 어제 뭘 했냐면\n"
          ]
        },
        {
          "name": "stderr",
          "output_type": "stream",
          "text": [
            "/usr/local/lib/python3.7/dist-packages/ipykernel_launcher.py:18: TqdmDeprecationWarning: This function will be removed in tqdm==5.0.0\n",
            "Please use `tqdm.notebook.tqdm` instead of `tqdm.tqdm_notebook`\n"
          ]
        },
        {
          "data": {
            "application/vnd.jupyter.widget-view+json": {
              "model_id": "091a3106ea584ea0bd10a5df6e8377b6",
              "version_major": 2,
              "version_minor": 0
            },
            "text/plain": [
              "  0%|          | 0/1 [00:00<?, ?it/s]"
            ]
          },
          "metadata": {},
          "output_type": "display_data"
        },
        {
          "name": "stdout",
          "output_type": "stream",
          "text": [
            "tensor([[-0.8770, -0.8044, -0.6465, -1.5444, -0.6034, -0.3297, -0.1381, -0.3907,\n",
            "         -1.2982,  7.4030, -0.3587]], device='cuda:0',\n",
            "       grad_fn=<AddmmBackward0>)\n",
            "주제 :  9\n",
            "\n",
            "자전거를 탔는데\n"
          ]
        },
        {
          "data": {
            "application/vnd.jupyter.widget-view+json": {
              "model_id": "ea5eeeb551f943728741bc129be23d44",
              "version_major": 2,
              "version_minor": 0
            },
            "text/plain": [
              "  0%|          | 0/1 [00:00<?, ?it/s]"
            ]
          },
          "metadata": {},
          "output_type": "display_data"
        },
        {
          "name": "stdout",
          "output_type": "stream",
          "text": [
            "tensor([[-0.5061, -0.3586, -1.0002, -0.5722, -0.5326,  7.1297, -0.2432, -0.4940,\n",
            "         -0.4668, -0.7423, -0.6745]], device='cuda:0',\n",
            "       grad_fn=<AddmmBackward0>)\n",
            "주제 :  5\n",
            "\n",
            "넘어질 것 같더라고\n"
          ]
        },
        {
          "data": {
            "application/vnd.jupyter.widget-view+json": {
              "model_id": "947bab7917f541a1b9f83c754ea7aa06",
              "version_major": 2,
              "version_minor": 0
            },
            "text/plain": [
              "  0%|          | 0/1 [00:00<?, ?it/s]"
            ]
          },
          "metadata": {},
          "output_type": "display_data"
        },
        {
          "name": "stdout",
          "output_type": "stream",
          "text": [
            "tensor([[-0.7016,  2.9452, -1.6431,  6.1300, -0.7272, -1.2586, -0.6044, -0.7795,\n",
            "         -0.8417, -0.3793, -1.5925]], device='cuda:0',\n",
            "       grad_fn=<AddmmBackward0>)\n",
            "주제 :  3\n",
            "\n",
            "그래서 연습을 얼마나 했는지 몰라\n"
          ]
        },
        {
          "data": {
            "application/vnd.jupyter.widget-view+json": {
              "model_id": "347a95487bc348df865f360607f47593",
              "version_major": 2,
              "version_minor": 0
            },
            "text/plain": [
              "  0%|          | 0/1 [00:00<?, ?it/s]"
            ]
          },
          "metadata": {},
          "output_type": "display_data"
        },
        {
          "name": "stdout",
          "output_type": "stream",
          "text": [
            "tensor([[-0.4834, -0.4400, -0.9515, -0.5570, -0.5511,  7.1264, -0.2847, -0.4669,\n",
            "         -0.4317, -0.7403, -0.6947]], device='cuda:0',\n",
            "       grad_fn=<AddmmBackward0>)\n",
            "주제 :  5\n",
            "\n",
            "꾸준히 하면 괜찮아 지겠지?\n"
          ]
        },
        {
          "data": {
            "application/vnd.jupyter.widget-view+json": {
              "model_id": "d53f9315806c4854a60270de3bbc93b0",
              "version_major": 2,
              "version_minor": 0
            },
            "text/plain": [
              "  0%|          | 0/1 [00:00<?, ?it/s]"
            ]
          },
          "metadata": {},
          "output_type": "display_data"
        },
        {
          "name": "stdout",
          "output_type": "stream",
          "text": [
            "tensor([[-0.5672,  7.9918, -0.6342,  0.0109, -1.0134, -0.4366, -0.9235, -0.3407,\n",
            "         -0.7662, -0.4372, -0.9736]], device='cuda:0',\n",
            "       grad_fn=<AddmmBackward0>)\n",
            "주제 :  1\n",
            "\n",
            "잘 해보고 싶은데 그게 잘 안돼\n"
          ]
        },
        {
          "data": {
            "application/vnd.jupyter.widget-view+json": {
              "model_id": "4aefb679b1ff410cbad3362f8e57e587",
              "version_major": 2,
              "version_minor": 0
            },
            "text/plain": [
              "  0%|          | 0/1 [00:00<?, ?it/s]"
            ]
          },
          "metadata": {},
          "output_type": "display_data"
        },
        {
          "name": "stdout",
          "output_type": "stream",
          "text": [
            "tensor([[ 6.4133,  1.9811, -1.2319, -0.6146, -1.5356, -0.4184, -1.0034, -0.9837,\n",
            "          0.2576, -1.1864, -1.0224]], device='cuda:0',\n",
            "       grad_fn=<AddmmBackward0>)\n",
            "주제 :  0\n",
            "\n",
            "0 번째 주제가 16.666666666666664 % 차지합니다.\n",
            "1 번째 주제가 16.666666666666664 % 차지합니다.\n",
            "2 번째 주제가 0.0 % 차지합니다.\n",
            "3 번째 주제가 16.666666666666664 % 차지합니다.\n",
            "4 번째 주제가 0.0 % 차지합니다.\n",
            "5 번째 주제가 33.33333333333333 % 차지합니다.\n",
            "6 번째 주제가 0.0 % 차지합니다.\n",
            "7 번째 주제가 0.0 % 차지합니다.\n",
            "8 번째 주제가 0.0 % 차지합니다.\n",
            "9 번째 주제가 16.666666666666664 % 차지합니다.\n",
            "10 번째 주제가 0.0 % 차지합니다.\n"
          ]
        }
      ],
      "source": [
        "lst = ['내가 어제 뭘 했냐면', '자전거를 탔는데', '넘어질 것 같더라고', '그래서 연습을 얼마나 했는지 몰라', '꾸준히 하면 괜찮아 지겠지?', '잘 해보고 싶은데 그게 잘 안돼']\n",
        "conv1 = summarization(lst, model)\n",
        "conv1.summarize()"
      ]
    },
    {
      "cell_type": "code",
      "execution_count": null,
      "metadata": {
        "colab": {
          "background_save": true,
          "referenced_widgets": [
            "e7b84f8f59714cf2be6c19141339441f",
            "d03b13c9bc164df79798af11f803d5a2",
            "8bdcb5f44e0849e69b2ab11cee92bb7e",
            "1607fe04967c400f8a9db20802d44326",
            "ea2ac51ee75346c890ed0a673b1d9489",
            "68c857cd1a034d3cb2e725ad1921c8b8",
            "99c616539980411f9a213349f12836b3",
            "fbd33b524ec548818f93dd54b1e4a6a7",
            "acd9817b51fc4372a92589b0dab10d51",
            "b7016854ef1b4c77b5d7025bf8003399",
            "ad23e5bee1d54735843061f84d30fc4e",
            "ee016e039f484fedb149441f5368436b",
            "d7b1738a29c84a508446e28c135acc25",
            "1b18acd1dc2f4a519a33196b36db9ab5",
            "52ca0c96dc834decb5a19da94550c185",
            "a0ec6cf96f924bda8eb93a0f59dc1af8",
            "02a6cbd74a864bb6a5e4231c9f47f5c1",
            "66d0264ed59449d8bf420622d475700e",
            "460fe5c4be8146d8ac00c5cff65e439c",
            "6e7cbf8b3a0e4bb283ac4ea76acdf6c8",
            "879179b4fa7b4870a86d9263cf4736dc",
            "c3626a5dc7b442ecb7f581c9b42a363a",
            "130759cb91d045bea78b64d8bbe70197",
            "e5f3c10e38e6420c9ad7cf3745f41d63",
            "463d4135940a4b27b7eef98ab6385cfb",
            "df35f5354b5e499e9e450f5903bc038d",
            "24cd015530544a8995c55dfc3995bb40",
            "75054fbedae249fdb99640c3b2d266c0",
            "51a316cfc2174951960af2bdf52793b1",
            "e61a5ca69ea94ab283385b9a099e779b",
            "cbbf649076e74ee592f06ce783ebbc97",
            "f3cbded4fee34f3c8e6df216c53be12c",
            "b981fe3c6a2e4590955b6f240b491a75",
            "e9f364533a6b43bab0dd9d863ad775d2",
            "159ad221260f4816a2b6558f415bac04",
            "e04facdc54f24e7480273bdbc1826d23",
            "4aed4d11a8de43d088ae3493efe43a98",
            "812b95b4961f4130b1548089df46dbc9",
            "f59e913cb6074c8ca91a128b981523b4",
            "6b359c4fe31c4add8903d6120978893a",
            "36cd01c1efd945b9b996180394c56575",
            "c842bacc30d5466a9451716298d9a8cb",
            "52737fc5d8a64cd097bc61451d413db7",
            "ee1aed6dbbec4c77bfe4fc8515a543b3",
            "0c922ac457074d98be0ca77e32a6adf7",
            "d5ae38ef9703416c84c41cd33a77d4eb",
            "7a95b70267ef4fb1848c6a7fb358548e",
            "6d2eefd479fd4d11981f8214d376f80f",
            "2878007d3a8e4b73bdf8b7c2208ee1cb",
            "8386c6eff4524eaca589ae736e044de7",
            "63c6c2cabfc44426a40e8c3ad9607515",
            "aae67e74d1684c13884676e80a84bf90",
            "c260d7b59c9f4bfbb2b513f3d3bd32aa",
            "de140e33b37d4d189e676fae156a4c8a",
            "fab7bd284a7b4c88b31b053a1494e5df",
            "f197a23c31a941098f11fc9708a4e956",
            "af9e7b2ccd984addb45861e31e6a62c1",
            "3c5c4d1cb265456cbf91b2b304e2ce5a",
            "b0f068a6b54e4918a407a4c945707c83",
            "158a26790a364bf7b8ab8b57891cde1d",
            "941736a1ba554ed08f006618b4fcb234",
            "14076ab91a344ca08d251eaa44eece8d",
            "5d3829173c4a4fa89177f64237de310e",
            "bb62e0d970534478ac6fa219b9341bde",
            "f4643b5b22a8436497592af5ca7933d2",
            "8abcf299d2054f00814308ddabbad2fd",
            "2fab247b7dca4256902e7aca01892582",
            "c1e1ff477dea4fa39aba4abf99304704",
            "37e9664287ac4e9ca08f603cbe64e1b5",
            "1746022387be481fa9183b15eb6aee16",
            "f74218594e3e41f9b792e5ff81028b0e",
            "53d0b6b2b5784194b073db057d3e8b5f",
            "d313d557a81b494198fba4f58cf7440e",
            "7984b512d05d4af697f3f83e3e792321",
            "8095a972403345b3b58d43be1ef02234",
            "f442ff90d1454687b986de0771e7d097",
            "dc677857c74a4d74b173fa857a650f7d",
            "94dfb6e1fdb140768803a43a83e3ede4",
            "becdbdfbbc5341a1a608229836e3e9ae",
            "2036240d2b564b0fa8e03065c772f40c",
            "09802cf115a24dea87828f4a6bd9ef70",
            "42e2d6ef51df46a7b543621f3162f054",
            "01de593d4fac4dea9c47a8c36e566f59",
            "e89946d2c9ca4b9ebbf67973d20d77eb",
            "2ad50186d65f45f281dfa271be2c4390",
            "132a84de435e4e38957d6a94d6e06d9c",
            "a24dbbb924094d708b41099fb6d61c64",
            "4e5d0fdb35044557906870a0b953ab74",
            "521920d8c50e41e29f821d9303a2c66a",
            "07120ef31d5542cab5732b3b18078d5a",
            "f6fb2f7f867e4aa9840c10eaaf517cb3",
            "7ffbf8ca666b41989ddde60963edf8a3",
            "c177fe93cee747d5bff7c7dccd81d5df",
            "72be54b63dd147a3a17e9cc6dc5c9f8d",
            "1e0b20bb2d2b458fba40bf7446c3ef4e",
            "b1d35923accf4c05878c9bd97dd3347a",
            "89e816a99d9c462fb3920ff8080fa38a",
            "0c95a58b2c4a4d2c9ac005f603e311de",
            "6c760a03678d4ab4ae202b75eb4239c2",
            "397c1a377c234a598eeb2ce2ed0b0566",
            "7cd36dd645ba4250bb31f7a8a93a9ada",
            "55e263a332c44171a69cae24291b07a3"
          ]
        },
        "id": "rVihWAHJCzNT",
        "outputId": "858117c7-3a7e-4818-9c53-15e2fe7c085f"
      },
      "outputs": [
        {
          "name": "stdout",
          "output_type": "stream",
          "text": [
            "어제 탁구 시합할 때 빽 서브 연습을 안 하고 하니까 서브가 그게 잘 들어가던데 잘 안되더라 연습을 하고 가야겠어 연습을 조금만 하니까 공이 허공으로 뜨고 그러니까 상대방이 바로 때리니까 안 좋기는 안 좋더라고\n"
          ]
        },
        {
          "name": "stderr",
          "output_type": "stream",
          "text": [
            "/usr/local/lib/python3.7/dist-packages/ipykernel_launcher.py:18: TqdmDeprecationWarning: This function will be removed in tqdm==5.0.0\n",
            "Please use `tqdm.notebook.tqdm` instead of `tqdm.tqdm_notebook`\n"
          ]
        },
        {
          "data": {
            "application/vnd.jupyter.widget-view+json": {
              "model_id": "e7b84f8f59714cf2be6c19141339441f",
              "version_major": 2,
              "version_minor": 0
            },
            "text/plain": [
              "  0%|          | 0/1 [00:00<?, ?it/s]"
            ]
          },
          "metadata": {},
          "output_type": "display_data"
        },
        {
          "name": "stdout",
          "output_type": "stream",
          "text": [
            "tensor([[-0.4827, -0.4814, -0.9499, -0.6487, -0.6629,  7.0660, -0.4110,  0.0666,\n",
            "         -0.4736, -0.8331, -0.7132]], device='cuda:0',\n",
            "       grad_fn=<AddmmBackward0>)\n",
            "주제 :  5\n",
            "\n",
            "가끔가다 한 번씩 때려주면 좋을 텐데 진짜 시합 할 때 빽 서브도 좋지만 화서브도 넣고 커트도 잘 되는데 커트가 잘 안될 때도 있잖 근데 빽 서브만 넣으면 안 되겠어 화서브 넣어도 상대방이 잘 알아서 때리니까 좀 그렇더라고 처음에 서브 넣으면 막 때리고 그러니까 한 번 때려 갖고 들어가면 기분이 안좋고 그날 진짜 플레이가 안 되더라고\n"
          ]
        },
        {
          "data": {
            "application/vnd.jupyter.widget-view+json": {
              "model_id": "d03b13c9bc164df79798af11f803d5a2",
              "version_major": 2,
              "version_minor": 0
            },
            "text/plain": [
              "  0%|          | 0/1 [00:00<?, ?it/s]"
            ]
          },
          "metadata": {},
          "output_type": "display_data"
        },
        {
          "name": "stdout",
          "output_type": "stream",
          "text": [
            "tensor([[-0.4600, -0.4060, -0.9952, -0.5733, -0.5671,  7.1303, -0.2938, -0.4744,\n",
            "         -0.4171, -0.7236, -0.6841]], device='cuda:0',\n",
            "       grad_fn=<AddmmBackward0>)\n",
            "주제 :  5\n",
            "\n",
            "그런데 커트로 수비도 잘 하고 스매싱도 잘 하는데 단식보다 이제 복식 하면 뒤에서 스매싱으로 때려주면 되고 앞에서 수비 잘 하면 게임이 유리한 것 같은데 때리고 그러면 좀 실수가 많은 거 같지 않아 엊그제는 유튜브를 봤는데 유남규 선수 있잖아\n"
          ]
        },
        {
          "data": {
            "application/vnd.jupyter.widget-view+json": {
              "model_id": "8bdcb5f44e0849e69b2ab11cee92bb7e",
              "version_major": 2,
              "version_minor": 0
            },
            "text/plain": [
              "  0%|          | 0/1 [00:00<?, ?it/s]"
            ]
          },
          "metadata": {},
          "output_type": "display_data"
        },
        {
          "name": "stdout",
          "output_type": "stream",
          "text": [
            "tensor([[ 7.3441, -0.9840, -0.5872, -1.6639, -1.3891, -0.6486, -0.6074,  0.5987,\n",
            "         -0.3341, -1.2901, -0.4580]], device='cuda:0',\n",
            "       grad_fn=<AddmmBackward0>)\n",
            "주제 :  0\n",
            "\n",
            "유남규 선수가 설명을 잘해 주더라고\n"
          ]
        },
        {
          "data": {
            "application/vnd.jupyter.widget-view+json": {
              "model_id": "1607fe04967c400f8a9db20802d44326",
              "version_major": 2,
              "version_minor": 0
            },
            "text/plain": [
              "  0%|          | 0/1 [00:00<?, ?it/s]"
            ]
          },
          "metadata": {},
          "output_type": "display_data"
        },
        {
          "name": "stdout",
          "output_type": "stream",
          "text": [
            "tensor([[-0.2178, -1.2492, -0.4823, -0.6104, -0.6511, -0.8117, -0.4799, -0.4749,\n",
            "         -0.5029, -0.7427,  7.3265]], device='cuda:0',\n",
            "       grad_fn=<AddmmBackward0>)\n",
            "주제 :  10\n",
            "\n",
            "나도 유튜브를 본지 얼마 안됐는데 그게 도움이 많이 되는 거 같더라고\n"
          ]
        },
        {
          "data": {
            "application/vnd.jupyter.widget-view+json": {
              "model_id": "ea2ac51ee75346c890ed0a673b1d9489",
              "version_major": 2,
              "version_minor": 0
            },
            "text/plain": [
              "  0%|          | 0/1 [00:00<?, ?it/s]"
            ]
          },
          "metadata": {},
          "output_type": "display_data"
        },
        {
          "name": "stdout",
          "output_type": "stream",
          "text": [
            "tensor([[-0.1560, -0.2828,  3.5973, -1.0329, -1.1782, -1.7287, -0.8655, -0.2882,\n",
            "         -1.2728, -1.0688,  4.5309]], device='cuda:0',\n",
            "       grad_fn=<AddmmBackward0>)\n",
            "주제 :  10\n",
            "\n",
            "나도 가끔씩 보면 충분히 나도 할 수 있을 것 같은데 막상 게임 할 때는 잘 안 되더라고 맞아 그래서 연습을 많이 해야 할 것 같아 근데 나는 너무 안되서 레슨을 조금 받는데 하루에 십분 씩해서 일주일에 두 번 받거든\n"
          ]
        },
        {
          "data": {
            "application/vnd.jupyter.widget-view+json": {
              "model_id": "68c857cd1a034d3cb2e725ad1921c8b8",
              "version_major": 2,
              "version_minor": 0
            },
            "text/plain": [
              "  0%|          | 0/1 [00:00<?, ?it/s]"
            ]
          },
          "metadata": {},
          "output_type": "display_data"
        },
        {
          "name": "stdout",
          "output_type": "stream",
          "text": [
            "tensor([[-0.4693, -0.4705, -0.9498, -0.5725, -0.5966,  7.1211, -0.2536, -0.3907,\n",
            "         -0.4612, -0.7806, -0.6894]], device='cuda:0',\n",
            "       grad_fn=<AddmmBackward0>)\n",
            "주제 :  5\n",
            "\n",
            "확실히 받아보니까 조금 낫긴 하더라고\n"
          ]
        },
        {
          "data": {
            "application/vnd.jupyter.widget-view+json": {
              "model_id": "99c616539980411f9a213349f12836b3",
              "version_major": 2,
              "version_minor": 0
            },
            "text/plain": [
              "  0%|          | 0/1 [00:00<?, ?it/s]"
            ]
          },
          "metadata": {},
          "output_type": "display_data"
        },
        {
          "name": "stdout",
          "output_type": "stream",
          "text": [
            "tensor([[-0.6787,  2.6971, -1.5325,  6.3298, -0.6537, -1.2960, -0.5541, -0.7443,\n",
            "         -0.9181, -0.5954, -1.4960]], device='cuda:0',\n",
            "       grad_fn=<AddmmBackward0>)\n",
            "주제 :  3\n",
            "\n",
            "근데 육만 원이야\n"
          ]
        },
        {
          "data": {
            "application/vnd.jupyter.widget-view+json": {
              "model_id": "fbd33b524ec548818f93dd54b1e4a6a7",
              "version_major": 2,
              "version_minor": 0
            },
            "text/plain": [
              "  0%|          | 0/1 [00:00<?, ?it/s]"
            ]
          },
          "metadata": {},
          "output_type": "display_data"
        },
        {
          "name": "stdout",
          "output_type": "stream",
          "text": [
            "tensor([[-0.9463, -0.5026, -0.5987, -1.1553, -0.6120, -0.7983, -0.7432, -0.4178,\n",
            "         -0.9575,  7.6996, -0.4204]], device='cuda:0',\n",
            "       grad_fn=<AddmmBackward0>)\n",
            "주제 :  9\n",
            "\n",
            "그게 확 티는 안나도 레슨 받은게 도움이 되고 오래 친 사람들도 계속 연습하면서 일 년에 한두 번씩 레슨을 받는다니까 그러니까 그렇게 잘 치는 거 같애\n"
          ]
        },
        {
          "data": {
            "application/vnd.jupyter.widget-view+json": {
              "model_id": "acd9817b51fc4372a92589b0dab10d51",
              "version_major": 2,
              "version_minor": 0
            },
            "text/plain": [
              "  0%|          | 0/1 [00:00<?, ?it/s]"
            ]
          },
          "metadata": {},
          "output_type": "display_data"
        },
        {
          "name": "stdout",
          "output_type": "stream",
          "text": [
            "tensor([[-0.4382, -0.4656, -1.0252, -0.6507, -0.5852,  7.1069, -0.3123, -0.2014,\n",
            "         -0.4738, -0.7576, -0.7200]], device='cuda:0',\n",
            "       grad_fn=<AddmmBackward0>)\n",
            "주제 :  5\n",
            "\n",
            "잘 하는 분인데 내가 물어봤어 요즘에 많이 좋아졌더라고\n"
          ]
        },
        {
          "data": {
            "application/vnd.jupyter.widget-view+json": {
              "model_id": "b7016854ef1b4c77b5d7025bf8003399",
              "version_major": 2,
              "version_minor": 0
            },
            "text/plain": [
              "  0%|          | 0/1 [00:00<?, ?it/s]"
            ]
          },
          "metadata": {},
          "output_type": "display_data"
        },
        {
          "name": "stdout",
          "output_type": "stream",
          "text": [
            "tensor([[-0.8970, -0.7221, -0.5268, -0.9758, -0.5730, -0.8504, -0.7532, -0.3236,\n",
            "         -0.9599,  7.7242, -0.6497]], device='cuda:0',\n",
            "       grad_fn=<AddmmBackward0>)\n",
            "주제 :  9\n",
            "\n",
            "십분 정도 레슨을 받는데 잘하는 사람이랑 하니까 그 사람이 실수가 많이 줄었더라고\n"
          ]
        },
        {
          "data": {
            "application/vnd.jupyter.widget-view+json": {
              "model_id": "ad23e5bee1d54735843061f84d30fc4e",
              "version_major": 2,
              "version_minor": 0
            },
            "text/plain": [
              "  0%|          | 0/1 [00:00<?, ?it/s]"
            ]
          },
          "metadata": {},
          "output_type": "display_data"
        },
        {
          "name": "stdout",
          "output_type": "stream",
          "text": [
            "tensor([[-0.9365, -1.0054, -0.6846, -1.5394, -1.1144,  0.2856, -1.0995,  2.2202,\n",
            "         -1.1542,  6.5299, -0.8685]], device='cuda:0',\n",
            "       grad_fn=<AddmmBackward0>)\n",
            "주제 :  9\n",
            "\n",
            "그런데 또 잘 치는 사람들을 구경을 하는 것도 큰 도움이 되는 거 같애\n"
          ]
        },
        {
          "data": {
            "application/vnd.jupyter.widget-view+json": {
              "model_id": "ee016e039f484fedb149441f5368436b",
              "version_major": 2,
              "version_minor": 0
            },
            "text/plain": [
              "  0%|          | 0/1 [00:00<?, ?it/s]"
            ]
          },
          "metadata": {},
          "output_type": "display_data"
        },
        {
          "name": "stdout",
          "output_type": "stream",
          "text": [
            "tensor([[-0.8236, -1.1214, -0.8230, -0.6201, -0.3816, -0.6050,  6.3000, -0.6079,\n",
            "         -1.0570, -0.8277, -0.8107]], device='cuda:0',\n",
            "       grad_fn=<AddmmBackward0>)\n",
            "주제 :  6\n",
            "\n",
            "그지 나도 비슷하게라도 흉내를 낼라고 하면서 그것도 맞는 거 같어 내가상대방이 치는걸 보는데 내가 좀 해 볼라고 하면 잘 안 되고 좀 그렇더라\n"
          ]
        },
        {
          "data": {
            "application/vnd.jupyter.widget-view+json": {
              "model_id": "d7b1738a29c84a508446e28c135acc25",
              "version_major": 2,
              "version_minor": 0
            },
            "text/plain": [
              "  0%|          | 0/1 [00:00<?, ?it/s]"
            ]
          },
          "metadata": {},
          "output_type": "display_data"
        },
        {
          "name": "stdout",
          "output_type": "stream",
          "text": [
            "tensor([[-0.5410, -0.6148,  0.8699, -0.9653, -1.0239, -1.3499, -0.7996,  6.7339,\n",
            "         -1.3897,  0.0208, -1.0520]], device='cuda:0',\n",
            "       grad_fn=<AddmmBackward0>)\n",
            "주제 :  7\n",
            "\n",
            "다른 사람이 치는건 잘 보이는데 내가 칠 땐 잘 안되니까 어려워 생활 체육이지만 되게 탁구가 어려운거 같아 내가 배드민턴을 오래 쳐서 그런가 그건 좀 쉬운 거 같은데 탁구는 어렵더라고 사람들이 그러다라고 꾸준히 나가도 어떨 때 속상할때가 많아 내가 너무 못 치는거 같으니까 그래서 그만 둘까 하니까 사람들이 그러더라고 치라고 여러모로 운동 되고 머리 쓰니까 좋다고 하더라\n"
          ]
        },
        {
          "data": {
            "application/vnd.jupyter.widget-view+json": {
              "model_id": "1b18acd1dc2f4a519a33196b36db9ab5",
              "version_major": 2,
              "version_minor": 0
            },
            "text/plain": [
              "  0%|          | 0/1 [00:00<?, ?it/s]"
            ]
          },
          "metadata": {},
          "output_type": "display_data"
        },
        {
          "name": "stdout",
          "output_type": "stream",
          "text": [
            "tensor([[-0.9398, -0.6962, -0.5465, -1.2618, -0.5589, -0.6473, -0.8443, -0.3731,\n",
            "         -0.7324,  7.6335, -0.5587]], device='cuda:0',\n",
            "       grad_fn=<AddmmBackward0>)\n",
            "주제 :  9\n",
            "\n",
            "이렇게 마음 맞는 친구들하고 같이 운동을 하니까 너무 시간도 잘 가고 건강에도 좋고 너무 너무 좋아 그러니까 좋기는 좋더라고\n"
          ]
        },
        {
          "data": {
            "application/vnd.jupyter.widget-view+json": {
              "model_id": "52ca0c96dc834decb5a19da94550c185",
              "version_major": 2,
              "version_minor": 0
            },
            "text/plain": [
              "  0%|          | 0/1 [00:00<?, ?it/s]"
            ]
          },
          "metadata": {},
          "output_type": "display_data"
        },
        {
          "name": "stdout",
          "output_type": "stream",
          "text": [
            "tensor([[-0.6738,  7.9836, -0.7085,  0.1341, -1.0571, -0.4840, -1.0529, -0.2925,\n",
            "         -0.8839, -0.0168, -1.0430]], device='cuda:0',\n",
            "       grad_fn=<AddmmBackward0>)\n",
            "주제 :  1\n",
            "\n",
            "그리고 웃으면서 치니까 활력도 생기고 좋기는 좋더라고\n"
          ]
        },
        {
          "data": {
            "application/vnd.jupyter.widget-view+json": {
              "model_id": "a0ec6cf96f924bda8eb93a0f59dc1af8",
              "version_major": 2,
              "version_minor": 0
            },
            "text/plain": [
              "  0%|          | 0/1 [00:00<?, ?it/s]"
            ]
          },
          "metadata": {},
          "output_type": "display_data"
        },
        {
          "name": "stdout",
          "output_type": "stream",
          "text": [
            "tensor([[-0.4976, -0.7198,  7.1712, -1.2278, -0.4977, -1.2730, -0.8399, -0.2447,\n",
            "         -0.7443, -0.7244, -0.9294]], device='cuda:0',\n",
            "       grad_fn=<AddmmBackward0>)\n",
            "주제 :  2\n",
            "\n",
            "근데 내가 탁구 실력이 늘었으면 좋겠다는 마음이 들더라고 꾸준히 나가서 열심히 치면 늘겠지 정리동 탁구장에는 사람들이 많이 쳐줘서 좋아 그래야 또 잘 치는 사람들이랑 어울려서 웃고 놀지 그렇게 하고 싶은데 잘 안 되더라고 그래도 처음부터 잘 하는 사람은 많이 없을 거 같아 벌써 그렇게 되니 게임도 많이 하고 연습도 하잖아\n"
          ]
        },
        {
          "data": {
            "application/vnd.jupyter.widget-view+json": {
              "model_id": "02a6cbd74a864bb6a5e4231c9f47f5c1",
              "version_major": 2,
              "version_minor": 0
            },
            "text/plain": [
              "  0%|          | 0/1 [00:00<?, ?it/s]"
            ]
          },
          "metadata": {},
          "output_type": "display_data"
        },
        {
          "name": "stdout",
          "output_type": "stream",
          "text": [
            "tensor([[-1.0144, -0.7875, -0.5520, -1.0487, -0.6984, -0.7569, -0.9021,  0.6041,\n",
            "         -1.1150,  7.5700, -0.7559]], device='cuda:0',\n",
            "       grad_fn=<AddmmBackward0>)\n",
            "주제 :  9\n",
            "\n",
            "나는 이제는 조금 늘겠라는 생각이 들더라구 한 번 나가고 싶어 내 탁구 실력이 어느정도 되는지 궁금해 그런 데 한 번 나가 보면 지더라도 되게 실력이 오르더라구\n"
          ]
        },
        {
          "data": {
            "application/vnd.jupyter.widget-view+json": {
              "model_id": "66d0264ed59449d8bf420622d475700e",
              "version_major": 2,
              "version_minor": 0
            },
            "text/plain": [
              "  0%|          | 0/1 [00:00<?, ?it/s]"
            ]
          },
          "metadata": {},
          "output_type": "display_data"
        },
        {
          "name": "stdout",
          "output_type": "stream",
          "text": [
            "tensor([[-0.2952, -0.9923, -0.5836, -1.4837, -1.5927,  2.6977, -1.0505,  5.4682,\n",
            "         -1.0571, -0.1877, -0.5824]], device='cuda:0',\n",
            "       grad_fn=<AddmmBackward0>)\n",
            "주제 :  7\n",
            "\n",
            "그래서 한 번 시도를 해 보는 게 좋을 것 같은데 모르겠네\n"
          ]
        },
        {
          "data": {
            "application/vnd.jupyter.widget-view+json": {
              "model_id": "460fe5c4be8146d8ac00c5cff65e439c",
              "version_major": 2,
              "version_minor": 0
            },
            "text/plain": [
              "  0%|          | 0/1 [00:00<?, ?it/s]"
            ]
          },
          "metadata": {},
          "output_type": "display_data"
        },
        {
          "name": "stdout",
          "output_type": "stream",
          "text": [
            "tensor([[ 7.1297, -0.3763, -0.9214, -1.6231, -1.3947,  0.2602, -1.0077, -0.3262,\n",
            "          0.5687, -1.3907, -0.7175]], device='cuda:0',\n",
            "       grad_fn=<AddmmBackward0>)\n",
            "주제 :  0\n",
            "\n",
            "사람들이 내 실력이 많이 늘어서 대회 나가는걸 추천 하더라구\n"
          ]
        },
        {
          "data": {
            "application/vnd.jupyter.widget-view+json": {
              "model_id": "6e7cbf8b3a0e4bb283ac4ea76acdf6c8",
              "version_major": 2,
              "version_minor": 0
            },
            "text/plain": [
              "  0%|          | 0/1 [00:00<?, ?it/s]"
            ]
          },
          "metadata": {},
          "output_type": "display_data"
        },
        {
          "name": "stdout",
          "output_type": "stream",
          "text": [
            "tensor([[-0.4215, -0.4795, -0.9891, -0.6208, -0.5834,  7.1218, -0.2842, -0.4415,\n",
            "         -0.4583, -0.6408, -0.7072]], device='cuda:0',\n",
            "       grad_fn=<AddmmBackward0>)\n",
            "주제 :  5\n",
            "\n",
            "내가 자신이 없으니까 나가는게 두렵더라구\n"
          ]
        },
        {
          "data": {
            "application/vnd.jupyter.widget-view+json": {
              "model_id": "879179b4fa7b4870a86d9263cf4736dc",
              "version_major": 2,
              "version_minor": 0
            },
            "text/plain": [
              "  0%|          | 0/1 [00:00<?, ?it/s]"
            ]
          },
          "metadata": {},
          "output_type": "display_data"
        },
        {
          "name": "stdout",
          "output_type": "stream",
          "text": [
            "tensor([[-0.6900,  7.8118, -0.5925, -0.0961, -1.1337, -0.5695, -1.3442, -0.3831,\n",
            "         -0.9297,  0.7343, -0.8422]], device='cuda:0',\n",
            "       grad_fn=<AddmmBackward0>)\n",
            "주제 :  1\n",
            "\n",
            "그런데 대회 같은 데 가서 구경하는 거는 재밌더라\n"
          ]
        },
        {
          "data": {
            "application/vnd.jupyter.widget-view+json": {
              "model_id": "c3626a5dc7b442ecb7f581c9b42a363a",
              "version_major": 2,
              "version_minor": 0
            },
            "text/plain": [
              "  0%|          | 0/1 [00:00<?, ?it/s]"
            ]
          },
          "metadata": {},
          "output_type": "display_data"
        },
        {
          "name": "stdout",
          "output_type": "stream",
          "text": [
            "tensor([[-0.5244, -0.7023,  7.1796, -1.2467, -0.5108, -1.3500, -0.8124, -0.1702,\n",
            "         -0.8167, -0.7651, -0.8219]], device='cuda:0',\n",
            "       grad_fn=<AddmmBackward0>)\n",
            "주제 :  2\n",
            "\n",
            "근데 한 번이 힘들지 계속 나가니까 재밌더라구\n"
          ]
        },
        {
          "data": {
            "application/vnd.jupyter.widget-view+json": {
              "model_id": "130759cb91d045bea78b64d8bbe70197",
              "version_major": 2,
              "version_minor": 0
            },
            "text/plain": [
              "  0%|          | 0/1 [00:00<?, ?it/s]"
            ]
          },
          "metadata": {},
          "output_type": "display_data"
        },
        {
          "name": "stdout",
          "output_type": "stream",
          "text": [
            "tensor([[-0.5658, -0.6520,  7.1737, -1.2755, -0.5224, -1.2876, -0.7799, -0.2299,\n",
            "         -0.8255, -0.7682, -0.7947]], device='cuda:0',\n",
            "       grad_fn=<AddmmBackward0>)\n",
            "주제 :  2\n",
            "\n",
            "조금씩 실력이 늘면 자꾸 나가고 싶을 것 같기도 해 나도 다음에는 한 번 나갈 수 있으면 좋겠어\n"
          ]
        },
        {
          "data": {
            "application/vnd.jupyter.widget-view+json": {
              "model_id": "e5f3c10e38e6420c9ad7cf3745f41d63",
              "version_major": 2,
              "version_minor": 0
            },
            "text/plain": [
              "  0%|          | 0/1 [00:00<?, ?it/s]"
            ]
          },
          "metadata": {},
          "output_type": "display_data"
        },
        {
          "name": "stdout",
          "output_type": "stream",
          "text": [
            "tensor([[-0.4300, -0.4394, -0.9808, -0.5782, -0.5758,  7.1276, -0.2679, -0.4350,\n",
            "         -0.4330, -0.8016, -0.6756]], device='cuda:0',\n",
            "       grad_fn=<AddmmBackward0>)\n",
            "주제 :  5\n",
            "\n",
            "진짜 친구가 권하니까 나도 용기를 내보고 싶긴해\n"
          ]
        },
        {
          "data": {
            "application/vnd.jupyter.widget-view+json": {
              "model_id": "463d4135940a4b27b7eef98ab6385cfb",
              "version_major": 2,
              "version_minor": 0
            },
            "text/plain": [
              "  0%|          | 0/1 [00:00<?, ?it/s]"
            ]
          },
          "metadata": {},
          "output_type": "display_data"
        },
        {
          "name": "stdout",
          "output_type": "stream",
          "text": [
            "tensor([[-0.8924, -0.6993, -0.5323, -0.9472, -0.5536, -0.8309, -0.7365, -0.4227,\n",
            "         -0.9746,  7.7201, -0.6485]], device='cuda:0',\n",
            "       grad_fn=<AddmmBackward0>)\n",
            "주제 :  9\n",
            "\n",
            "그리고 잘할지 못 할지 몰라도 한 번 생각해 볼게 구 대회도 나가고 잘 하다보면 시 대회도 나갈 있잖아\n"
          ]
        },
        {
          "data": {
            "application/vnd.jupyter.widget-view+json": {
              "model_id": "df35f5354b5e499e9e450f5903bc038d",
              "version_major": 2,
              "version_minor": 0
            },
            "text/plain": [
              "  0%|          | 0/1 [00:00<?, ?it/s]"
            ]
          },
          "metadata": {},
          "output_type": "display_data"
        },
        {
          "name": "stdout",
          "output_type": "stream",
          "text": [
            "tensor([[-0.3221, -1.2804, -0.7043, -0.6086, -0.6916, -0.6844, -0.3328, -0.5525,\n",
            "         -0.4936, -0.4891,  7.3677]], device='cuda:0',\n",
            "       grad_fn=<AddmmBackward0>)\n",
            "주제 :  10\n",
            "\n",
            "같이 운동할 수 있다는 게 얼마나 좋아 그치 나도 나이가 많아서 남들처럼 잘 할려나 모르겠네\n"
          ]
        },
        {
          "data": {
            "application/vnd.jupyter.widget-view+json": {
              "model_id": "24cd015530544a8995c55dfc3995bb40",
              "version_major": 2,
              "version_minor": 0
            },
            "text/plain": [
              "  0%|          | 0/1 [00:00<?, ?it/s]"
            ]
          },
          "metadata": {},
          "output_type": "display_data"
        },
        {
          "name": "stdout",
          "output_type": "stream",
          "text": [
            "tensor([[-0.8943, -0.6473, -0.5184, -1.0716, -0.5372, -0.8846, -0.6990, -0.4211,\n",
            "         -0.9646,  7.7239, -0.5919]], device='cuda:0',\n",
            "       grad_fn=<AddmmBackward0>)\n",
            "주제 :  9\n",
            "\n",
            "젊은 사람들이 탁구치는거 보면 잘하는데 난 자신이 없네\n"
          ]
        },
        {
          "data": {
            "application/vnd.jupyter.widget-view+json": {
              "model_id": "75054fbedae249fdb99640c3b2d266c0",
              "version_major": 2,
              "version_minor": 0
            },
            "text/plain": [
              "  0%|          | 0/1 [00:00<?, ?it/s]"
            ]
          },
          "metadata": {},
          "output_type": "display_data"
        },
        {
          "name": "stdout",
          "output_type": "stream",
          "text": [
            "tensor([[-0.9041, -0.5860, -0.5328, -0.9968, -0.5510, -0.8688, -0.7279, -0.4472,\n",
            "         -1.0007,  7.7240, -0.6109]], device='cuda:0',\n",
            "       grad_fn=<AddmmBackward0>)\n",
            "주제 :  9\n",
            "\n",
            "언제 한 번 우리도 나가 볼까\n"
          ]
        },
        {
          "data": {
            "application/vnd.jupyter.widget-view+json": {
              "model_id": "51a316cfc2174951960af2bdf52793b1",
              "version_major": 2,
              "version_minor": 0
            },
            "text/plain": [
              "  0%|          | 0/1 [00:00<?, ?it/s]"
            ]
          },
          "metadata": {},
          "output_type": "display_data"
        },
        {
          "name": "stdout",
          "output_type": "stream",
          "text": [
            "tensor([[-0.7889, -0.5335,  0.0721, -2.0468, -0.2972,  0.3639, -1.4495, -1.7953,\n",
            "          2.5447,  5.2927, -0.6403]], device='cuda:0',\n",
            "       grad_fn=<AddmmBackward0>)\n",
            "주제 :  9\n",
            "\n",
            "하여튼 한 번 나가 보면 같애\n"
          ]
        },
        {
          "data": {
            "application/vnd.jupyter.widget-view+json": {
              "model_id": "e61a5ca69ea94ab283385b9a099e779b",
              "version_major": 2,
              "version_minor": 0
            },
            "text/plain": [
              "  0%|          | 0/1 [00:00<?, ?it/s]"
            ]
          },
          "metadata": {},
          "output_type": "display_data"
        },
        {
          "name": "stdout",
          "output_type": "stream",
          "text": [
            "tensor([[-0.9730, -0.6229, -0.3756, -1.2084, -0.5710, -0.8239, -0.6180, -0.5337,\n",
            "         -1.0037,  7.6710, -0.4989]], device='cuda:0',\n",
            "       grad_fn=<AddmmBackward0>)\n",
            "주제 :  9\n",
            "\n",
            "내가 친구 믿고 열심히 해서 한 번 나가 보자고 좋은 생각이야\n"
          ]
        },
        {
          "data": {
            "application/vnd.jupyter.widget-view+json": {
              "model_id": "cbbf649076e74ee592f06ce783ebbc97",
              "version_major": 2,
              "version_minor": 0
            },
            "text/plain": [
              "  0%|          | 0/1 [00:00<?, ?it/s]"
            ]
          },
          "metadata": {},
          "output_type": "display_data"
        },
        {
          "name": "stdout",
          "output_type": "stream",
          "text": [
            "tensor([[-0.9050, -0.6628, -0.5186, -0.9865, -0.5474, -0.8813, -0.7323, -0.3959,\n",
            "         -0.9744,  7.7263, -0.6269]], device='cuda:0',\n",
            "       grad_fn=<AddmmBackward0>)\n",
            "주제 :  9\n",
            "\n",
            "또 시합 나가면 다른 친구들도 보잖아\n"
          ]
        },
        {
          "data": {
            "application/vnd.jupyter.widget-view+json": {
              "model_id": "f3cbded4fee34f3c8e6df216c53be12c",
              "version_major": 2,
              "version_minor": 0
            },
            "text/plain": [
              "  0%|          | 0/1 [00:00<?, ?it/s]"
            ]
          },
          "metadata": {},
          "output_type": "display_data"
        },
        {
          "name": "stdout",
          "output_type": "stream",
          "text": [
            "tensor([[-7.2729e-01, -1.1599e+00, -6.6224e-01, -1.5274e+00, -7.2271e-01,\n",
            "          7.7745e-01, -9.4843e-01, -6.7141e-03, -7.3204e-01,  7.2021e+00,\n",
            "         -8.1751e-01]], device='cuda:0', grad_fn=<AddmmBackward0>)\n",
            "주제 :  9\n",
            "\n",
            "확실히 동사무소에서만 치는 탁구하고는 다르거든\n"
          ]
        },
        {
          "data": {
            "application/vnd.jupyter.widget-view+json": {
              "model_id": "b981fe3c6a2e4590955b6f240b491a75",
              "version_major": 2,
              "version_minor": 0
            },
            "text/plain": [
              "  0%|          | 0/1 [00:00<?, ?it/s]"
            ]
          },
          "metadata": {},
          "output_type": "display_data"
        },
        {
          "name": "stdout",
          "output_type": "stream",
          "text": [
            "tensor([[-0.9207, -0.6861, -0.5298, -0.9335, -0.5533, -0.8558, -0.7538, -0.3574,\n",
            "         -1.0040,  7.7235, -0.6377]], device='cuda:0',\n",
            "       grad_fn=<AddmmBackward0>)\n",
            "주제 :  9\n",
            "\n",
            "그러니까 한 번 나가 보는 것도 좋을 것 같애\n"
          ]
        },
        {
          "data": {
            "application/vnd.jupyter.widget-view+json": {
              "model_id": "e9f364533a6b43bab0dd9d863ad775d2",
              "version_major": 2,
              "version_minor": 0
            },
            "text/plain": [
              "  0%|          | 0/1 [00:00<?, ?it/s]"
            ]
          },
          "metadata": {},
          "output_type": "display_data"
        },
        {
          "name": "stdout",
          "output_type": "stream",
          "text": [
            "tensor([[-0.8965, -0.5568, -0.5497, -1.0711, -0.5653, -0.8732, -0.7044, -0.4061,\n",
            "         -0.9819,  7.7228, -0.6045]], device='cuda:0',\n",
            "       grad_fn=<AddmmBackward0>)\n",
            "주제 :  9\n",
            "\n",
            "친구 믿고 내가 열심히 해서 한 번 나가 볼께 다른 사람들 치는거 보면서 매일 연습하면 될 거야\n"
          ]
        },
        {
          "data": {
            "application/vnd.jupyter.widget-view+json": {
              "model_id": "159ad221260f4816a2b6558f415bac04",
              "version_major": 2,
              "version_minor": 0
            },
            "text/plain": [
              "  0%|          | 0/1 [00:00<?, ?it/s]"
            ]
          },
          "metadata": {},
          "output_type": "display_data"
        },
        {
          "name": "stdout",
          "output_type": "stream",
          "text": [
            "tensor([[-0.4742, -0.4820, -0.9770, -0.5892, -0.5994,  7.1151, -0.3462, -0.2821,\n",
            "         -0.3809, -0.7881, -0.6862]], device='cuda:0',\n",
            "       grad_fn=<AddmmBackward0>)\n",
            "주제 :  5\n",
            "\n",
            "그렇게 하다 보면 실력이 늘겠지 알겠어\n"
          ]
        },
        {
          "data": {
            "application/vnd.jupyter.widget-view+json": {
              "model_id": "e04facdc54f24e7480273bdbc1826d23",
              "version_major": 2,
              "version_minor": 0
            },
            "text/plain": [
              "  0%|          | 0/1 [00:00<?, ?it/s]"
            ]
          },
          "metadata": {},
          "output_type": "display_data"
        },
        {
          "name": "stdout",
          "output_type": "stream",
          "text": [
            "tensor([[-0.4017, -0.4157, -0.9770, -0.5984, -0.5554,  7.1271, -0.2706, -0.4696,\n",
            "         -0.4464, -0.7812, -0.7045]], device='cuda:0',\n",
            "       grad_fn=<AddmmBackward0>)\n",
            "주제 :  5\n",
            "\n",
            "그리고 나는 요즘에 허리가 조금 안 좋거든\n"
          ]
        },
        {
          "data": {
            "application/vnd.jupyter.widget-view+json": {
              "model_id": "4aed4d11a8de43d088ae3493efe43a98",
              "version_major": 2,
              "version_minor": 0
            },
            "text/plain": [
              "  0%|          | 0/1 [00:00<?, ?it/s]"
            ]
          },
          "metadata": {},
          "output_type": "display_data"
        },
        {
          "name": "stdout",
          "output_type": "stream",
          "text": [
            "tensor([[-1.1198, -0.2240, -1.2369,  7.3937, -0.3905, -0.6825, -0.4366, -0.8596,\n",
            "         -0.7260, -1.0210, -0.5499]], device='cuda:0',\n",
            "       grad_fn=<AddmmBackward0>)\n",
            "주제 :  3\n",
            "\n",
            "우리 집이 십이 층이여 그렇게 하니까 좋아지는 거 같더라\n"
          ]
        },
        {
          "data": {
            "application/vnd.jupyter.widget-view+json": {
              "model_id": "812b95b4961f4130b1548089df46dbc9",
              "version_major": 2,
              "version_minor": 0
            },
            "text/plain": [
              "  0%|          | 0/1 [00:00<?, ?it/s]"
            ]
          },
          "metadata": {},
          "output_type": "display_data"
        },
        {
          "name": "stdout",
          "output_type": "stream",
          "text": [
            "tensor([[-0.9863, -0.4257, -0.4816, -1.1924, -0.6045, -0.8791, -0.6196, -0.5861,\n",
            "         -1.0181,  7.6434, -0.3554]], device='cuda:0',\n",
            "       grad_fn=<AddmmBackward0>)\n",
            "주제 :  9\n",
            "\n",
            "누가 그러더라 다리랑 허리에 좋은 운동이 계단 타는거라고 뭐 안 좋은데는 아직 없거든\n"
          ]
        },
        {
          "data": {
            "application/vnd.jupyter.widget-view+json": {
              "model_id": "f59e913cb6074c8ca91a128b981523b4",
              "version_major": 2,
              "version_minor": 0
            },
            "text/plain": [
              "  0%|          | 0/1 [00:00<?, ?it/s]"
            ]
          },
          "metadata": {},
          "output_type": "display_data"
        },
        {
          "name": "stdout",
          "output_type": "stream",
          "text": [
            "tensor([[-1.1207, -0.2424, -1.2290,  7.3918, -0.3752, -0.6745, -0.4513, -0.8660,\n",
            "         -0.7127, -1.0319, -0.5428]], device='cuda:0',\n",
            "       grad_fn=<AddmmBackward0>)\n",
            "주제 :  3\n",
            "\n",
            "근데 이제 조심은 해야지 나이가 있잖 그냥 일주일에 한 번 정도는 산에 가면 좋을 거 같애\n"
          ]
        },
        {
          "data": {
            "application/vnd.jupyter.widget-view+json": {
              "model_id": "6b359c4fe31c4add8903d6120978893a",
              "version_major": 2,
              "version_minor": 0
            },
            "text/plain": [
              "  0%|          | 0/1 [00:00<?, ?it/s]"
            ]
          },
          "metadata": {},
          "output_type": "display_data"
        },
        {
          "name": "stdout",
          "output_type": "stream",
          "text": [
            "tensor([[-0.9121, -0.7134, -0.5341, -1.0441, -0.5538, -0.8389, -0.7759, -0.2216,\n",
            "         -0.9692,  7.7233, -0.6425]], device='cuda:0',\n",
            "       grad_fn=<AddmmBackward0>)\n",
            "주제 :  9\n",
            "\n",
            "시골가서 일 좀 하고 주중에 탁구 치는 게 좋은 거 같애\n"
          ]
        },
        {
          "data": {
            "application/vnd.jupyter.widget-view+json": {
              "model_id": "36cd01c1efd945b9b996180394c56575",
              "version_major": 2,
              "version_minor": 0
            },
            "text/plain": [
              "  0%|          | 0/1 [00:00<?, ?it/s]"
            ]
          },
          "metadata": {},
          "output_type": "display_data"
        },
        {
          "name": "stdout",
          "output_type": "stream",
          "text": [
            "tensor([[-1.3888,  3.5131, -0.6168, -0.3790, -0.9922, -0.9815, -1.7008,  0.1166,\n",
            "         -1.6005,  5.8086, -0.7154]], device='cuda:0',\n",
            "       grad_fn=<AddmmBackward0>)\n",
            "주제 :  9\n",
            "\n",
            "지미 걔는 건강하게 보여 타고 났나 봐\n"
          ]
        },
        {
          "data": {
            "application/vnd.jupyter.widget-view+json": {
              "model_id": "c842bacc30d5466a9451716298d9a8cb",
              "version_major": 2,
              "version_minor": 0
            },
            "text/plain": [
              "  0%|          | 0/1 [00:00<?, ?it/s]"
            ]
          },
          "metadata": {},
          "output_type": "display_data"
        },
        {
          "name": "stdout",
          "output_type": "stream",
          "text": [
            "tensor([[-0.1203,  7.7967, -0.5171, -0.2975, -1.0621, -0.5705, -1.1426, -0.7635,\n",
            "         -0.4072, -0.5799, -0.3866]], device='cuda:0',\n",
            "       grad_fn=<AddmmBackward0>)\n",
            "주제 :  1\n",
            "\n",
            "그러니까 나이가 그 정도 되면 어디 아프고 그러거든요\n"
          ]
        },
        {
          "data": {
            "application/vnd.jupyter.widget-view+json": {
              "model_id": "52737fc5d8a64cd097bc61451d413db7",
              "version_major": 2,
              "version_minor": 0
            },
            "text/plain": [
              "  0%|          | 0/1 [00:00<?, ?it/s]"
            ]
          },
          "metadata": {},
          "output_type": "display_data"
        },
        {
          "name": "stdout",
          "output_type": "stream",
          "text": [
            "tensor([[-0.8964, -0.6661, -0.5496, -0.8928, -0.5679, -0.8493, -0.7579, -0.4058,\n",
            "         -1.0048,  7.7205, -0.6388]], device='cuda:0',\n",
            "       grad_fn=<AddmmBackward0>)\n",
            "주제 :  9\n",
            "\n",
            "근데 내가 볼 때 남자보다 더 건강한 것 같고 기운도 좋아보여 내 다리가 안 아프려면 이렇게 산에 가는게 좋을거 같아 근데 다리가 안 좋았는지 조금 다리가 아프려고 하더라고\n"
          ]
        },
        {
          "data": {
            "application/vnd.jupyter.widget-view+json": {
              "model_id": "ee1aed6dbbec4c77bfe4fc8515a543b3",
              "version_major": 2,
              "version_minor": 0
            },
            "text/plain": [
              "  0%|          | 0/1 [00:00<?, ?it/s]"
            ]
          },
          "metadata": {},
          "output_type": "display_data"
        },
        {
          "name": "stdout",
          "output_type": "stream",
          "text": [
            "tensor([[-1.1347, -0.2628, -1.2470,  7.3866, -0.3906, -0.6758, -0.4444, -0.8991,\n",
            "         -0.6716, -1.0246, -0.5036]], device='cuda:0',\n",
            "       grad_fn=<AddmmBackward0>)\n",
            "주제 :  3\n",
            "\n",
            "그래서 겁이 났는지 요즘에는 산에 안 가고 그랬거든\n"
          ]
        },
        {
          "data": {
            "application/vnd.jupyter.widget-view+json": {
              "model_id": "0c922ac457074d98be0ca77e32a6adf7",
              "version_major": 2,
              "version_minor": 0
            },
            "text/plain": [
              "  0%|          | 0/1 [00:00<?, ?it/s]"
            ]
          },
          "metadata": {},
          "output_type": "display_data"
        },
        {
          "name": "stdout",
          "output_type": "stream",
          "text": [
            "tensor([[-0.8906, -0.6859, -0.5085, -1.0137, -0.5430, -0.8862, -0.7270, -0.3823,\n",
            "         -0.9747,  7.7250, -0.6270]], device='cuda:0',\n",
            "       grad_fn=<AddmmBackward0>)\n",
            "주제 :  9\n",
            "\n",
            "그냥 나름대로 운동도 하고 건강 관리 하고 그러거든 지미는 시골 가서 일 하면 좀 힘들지 않아 아 힘든건 있어 있는데 또 시골에 가면 공기가 맑잖아 애들하고 먹으니까 좋은 거 같아 시골가서 일을 하니까 그렇게 어디 불편한 거는 아직 없어 그래도 열심히 운동은 열심히 해야지 지미는 마음이 착해 농사지어서 친척들 주고 친구들 주잖아 그러는 재미를 느끼나 봐\n"
          ]
        },
        {
          "data": {
            "application/vnd.jupyter.widget-view+json": {
              "model_id": "d5ae38ef9703416c84c41cd33a77d4eb",
              "version_major": 2,
              "version_minor": 0
            },
            "text/plain": [
              "  0%|          | 0/1 [00:00<?, ?it/s]"
            ]
          },
          "metadata": {},
          "output_type": "display_data"
        },
        {
          "name": "stdout",
          "output_type": "stream",
          "text": [
            "tensor([[-0.5973,  7.9907, -0.5543, -0.1487, -1.0211, -0.4243, -0.9542, -0.2987,\n",
            "         -0.7515, -0.3982, -0.9356]], device='cuda:0',\n",
            "       grad_fn=<AddmmBackward0>)\n",
            "주제 :  1\n",
            "\n",
            "그러니까 시골에 가서 일하는 것도 힘이 안들어 보이더라고\n"
          ]
        },
        {
          "data": {
            "application/vnd.jupyter.widget-view+json": {
              "model_id": "7a95b70267ef4fb1848c6a7fb358548e",
              "version_major": 2,
              "version_minor": 0
            },
            "text/plain": [
              "  0%|          | 0/1 [00:00<?, ?it/s]"
            ]
          },
          "metadata": {},
          "output_type": "display_data"
        },
        {
          "name": "stdout",
          "output_type": "stream",
          "text": [
            "tensor([[-0.6247,  7.9927, -0.6030, -0.0334, -1.0227, -0.4816, -0.9535, -0.2312,\n",
            "         -0.8159, -0.3614, -0.9647]], device='cuda:0',\n",
            "       grad_fn=<AddmmBackward0>)\n",
            "주제 :  1\n",
            "\n",
            "나는 이상하게 그런걸 못 느끼나봐\n"
          ]
        },
        {
          "data": {
            "application/vnd.jupyter.widget-view+json": {
              "model_id": "6d2eefd479fd4d11981f8214d376f80f",
              "version_major": 2,
              "version_minor": 0
            },
            "text/plain": [
              "  0%|          | 0/1 [00:00<?, ?it/s]"
            ]
          },
          "metadata": {},
          "output_type": "display_data"
        },
        {
          "name": "stdout",
          "output_type": "stream",
          "text": [
            "tensor([[-0.4877, -0.6077,  7.1589, -1.2447, -0.4822, -1.2698, -0.8329, -0.3572,\n",
            "         -0.7314, -0.6942, -0.9329]], device='cuda:0',\n",
            "       grad_fn=<AddmmBackward0>)\n",
            "주제 :  2\n",
            "\n",
            "친정이 시골이거든\n"
          ]
        },
        {
          "data": {
            "application/vnd.jupyter.widget-view+json": {
              "model_id": "2878007d3a8e4b73bdf8b7c2208ee1cb",
              "version_major": 2,
              "version_minor": 0
            },
            "text/plain": [
              "  0%|          | 0/1 [00:00<?, ?it/s]"
            ]
          },
          "metadata": {},
          "output_type": "display_data"
        },
        {
          "name": "stdout",
          "output_type": "stream",
          "text": [
            "tensor([[-0.6075,  7.9895, -0.4636, -0.1332, -1.0140, -0.4346, -0.9748, -0.3983,\n",
            "         -0.7902, -0.3299, -0.9299]], device='cuda:0',\n",
            "       grad_fn=<AddmmBackward0>)\n",
            "주제 :  1\n",
            "\n",
            "한번 들에 나가서 할라고 하면 막 허리도 아프고 햇빛을 너무 못 이겨서 안하게 되더라고 배드민턴을 한 이십년 쳤고 탁구를 쳐봤는데 이제 나이가 있으니까 배드민턴은 뛰어야 하니까 힘들더라고\n"
          ]
        },
        {
          "data": {
            "application/vnd.jupyter.widget-view+json": {
              "model_id": "8386c6eff4524eaca589ae736e044de7",
              "version_major": 2,
              "version_minor": 0
            },
            "text/plain": [
              "  0%|          | 0/1 [00:00<?, ?it/s]"
            ]
          },
          "metadata": {},
          "output_type": "display_data"
        },
        {
          "name": "stdout",
          "output_type": "stream",
          "text": [
            "tensor([[-1.2270, -0.2744, -1.3255,  7.3453, -0.4346, -0.5776, -0.4868, -0.8320,\n",
            "         -0.7964, -0.5829, -0.6207]], device='cuda:0',\n",
            "       grad_fn=<AddmmBackward0>)\n",
            "주제 :  3\n",
            "\n",
            "그런데 탁구 배드민턴보다 반경이 좁잖아\n"
          ]
        },
        {
          "data": {
            "application/vnd.jupyter.widget-view+json": {
              "model_id": "63c6c2cabfc44426a40e8c3ad9607515",
              "version_major": 2,
              "version_minor": 0
            },
            "text/plain": [
              "  0%|          | 0/1 [00:00<?, ?it/s]"
            ]
          },
          "metadata": {},
          "output_type": "display_data"
        },
        {
          "name": "stdout",
          "output_type": "stream",
          "text": [
            "tensor([[-0.4379, -1.0104, -0.9733, -1.0010,  0.1619, -0.2742, -0.9116, -1.5329,\n",
            "          6.8216,  0.6265, -0.6837]], device='cuda:0',\n",
            "       grad_fn=<AddmmBackward0>)\n",
            "주제 :  8\n",
            "\n",
            "그러니까 탁구는 좀 해 보니까 편한 것 같애\n"
          ]
        },
        {
          "data": {
            "application/vnd.jupyter.widget-view+json": {
              "model_id": "aae67e74d1684c13884676e80a84bf90",
              "version_major": 2,
              "version_minor": 0
            },
            "text/plain": [
              "  0%|          | 0/1 [00:00<?, ?it/s]"
            ]
          },
          "metadata": {},
          "output_type": "display_data"
        },
        {
          "name": "stdout",
          "output_type": "stream",
          "text": [
            "tensor([[-1.4559,  0.4014, -0.4646, -0.3489, -1.1745, -1.0719, -1.6487,  4.4454,\n",
            "         -1.7383,  4.6371, -0.9877]], device='cuda:0',\n",
            "       grad_fn=<AddmmBackward0>)\n",
            "주제 :  9\n",
            "\n",
            "나이 먹어서도 탁구는 할 수 있는 운동이라 괜찮은 것 같애\n"
          ]
        },
        {
          "data": {
            "application/vnd.jupyter.widget-view+json": {
              "model_id": "c260d7b59c9f4bfbb2b513f3d3bd32aa",
              "version_major": 2,
              "version_minor": 0
            },
            "text/plain": [
              "  0%|          | 0/1 [00:00<?, ?it/s]"
            ]
          },
          "metadata": {},
          "output_type": "display_data"
        },
        {
          "name": "stdout",
          "output_type": "stream",
          "text": [
            "tensor([[-1.0923, -0.4232, -0.5737, -0.8653, -0.6621, -0.9943, -0.8172,  0.2133,\n",
            "         -1.2609,  7.6536, -0.6582]], device='cuda:0',\n",
            "       grad_fn=<AddmmBackward0>)\n",
            "주제 :  9\n",
            "\n",
            "나는 운동을 해본 적이 많이 없는데도 탁구를 배웠거든\n"
          ]
        },
        {
          "data": {
            "application/vnd.jupyter.widget-view+json": {
              "model_id": "de140e33b37d4d189e676fae156a4c8a",
              "version_major": 2,
              "version_minor": 0
            },
            "text/plain": [
              "  0%|          | 0/1 [00:00<?, ?it/s]"
            ]
          },
          "metadata": {},
          "output_type": "display_data"
        },
        {
          "name": "stdout",
          "output_type": "stream",
          "text": [
            "tensor([[-0.9418, -0.6034, -0.5367, -1.0281, -0.6113, -0.8722, -0.7122, -0.1162,\n",
            "         -1.0938,  7.7135, -0.6925]], device='cuda:0',\n",
            "       grad_fn=<AddmmBackward0>)\n",
            "주제 :  9\n",
            "\n",
            "왜냐하면 친구도 만나고 같이 치니까 좋더라고 탁구에 대해 얘기하다 보면 시간이 잘 가거든\n"
          ]
        },
        {
          "data": {
            "application/vnd.jupyter.widget-view+json": {
              "model_id": "fab7bd284a7b4c88b31b053a1494e5df",
              "version_major": 2,
              "version_minor": 0
            },
            "text/plain": [
              "  0%|          | 0/1 [00:00<?, ?it/s]"
            ]
          },
          "metadata": {},
          "output_type": "display_data"
        },
        {
          "name": "stdout",
          "output_type": "stream",
          "text": [
            "tensor([[-0.7452, -0.6646, -0.2216, -0.7353, -1.0218, -0.8009, -0.6521,  6.9763,\n",
            "         -1.0823, -0.3282, -0.7179]], device='cuda:0',\n",
            "       grad_fn=<AddmmBackward0>)\n",
            "주제 :  7\n",
            "\n",
            "그리고 탁구 레슨을 해주는 선생님도 있어 활력도 생기고 많이 웃다보니 재밌더라고 탁구를 치다 보면 많이 웃게 되고 그렇더라고 그냥은 웃을 일이 별로 없지 승부욕이 많은 사람은 이기려 하는사람도 있고 꼭 하는 거보다 진짜 볼 만 하더라고\n"
          ]
        },
        {
          "data": {
            "application/vnd.jupyter.widget-view+json": {
              "model_id": "f197a23c31a941098f11fc9708a4e956",
              "version_major": 2,
              "version_minor": 0
            },
            "text/plain": [
              "  0%|          | 0/1 [00:00<?, ?it/s]"
            ]
          },
          "metadata": {},
          "output_type": "display_data"
        },
        {
          "name": "stdout",
          "output_type": "stream",
          "text": [
            "tensor([[-0.7059, -0.6379,  0.0380, -0.7631, -1.0451, -0.8729, -0.8019,  6.9932,\n",
            "         -1.1093, -0.2688, -0.8296]], device='cuda:0',\n",
            "       grad_fn=<AddmmBackward0>)\n",
            "주제 :  7\n",
            "\n",
            "나는 에이스들이 치는데 보다\n"
          ]
        },
        {
          "data": {
            "application/vnd.jupyter.widget-view+json": {
              "model_id": "af9e7b2ccd984addb45861e31e6a62c1",
              "version_major": 2,
              "version_minor": 0
            },
            "text/plain": [
              "  0%|          | 0/1 [00:00<?, ?it/s]"
            ]
          },
          "metadata": {},
          "output_type": "display_data"
        },
        {
          "name": "stdout",
          "output_type": "stream",
          "text": [
            "tensor([[ 7.5039, -0.8220, -0.4392, -1.2977, -1.1587, -0.9154, -0.5342, -0.4173,\n",
            "         -0.4378, -1.0621, -0.4102]], device='cuda:0',\n",
            "       grad_fn=<AddmmBackward0>)\n",
            "주제 :  0\n",
            "\n",
            "그 밑에서 치는 게 더 좋아 왜냐하면 에이스에서 치는 사람들 보면 너무 삭막해 아주 서로 이기려고 눈에 불을 켜더라\n"
          ]
        },
        {
          "data": {
            "application/vnd.jupyter.widget-view+json": {
              "model_id": "3c5c4d1cb265456cbf91b2b304e2ce5a",
              "version_major": 2,
              "version_minor": 0
            },
            "text/plain": [
              "  0%|          | 0/1 [00:00<?, ?it/s]"
            ]
          },
          "metadata": {},
          "output_type": "display_data"
        },
        {
          "name": "stdout",
          "output_type": "stream",
          "text": [
            "tensor([[ 7.5007, -0.8801, -0.4945, -1.4296, -1.2640, -0.8452, -0.3524, -0.2094,\n",
            "         -0.4126, -1.1726, -0.4457]], device='cuda:0',\n",
            "       grad_fn=<AddmmBackward0>)\n",
            "주제 :  0\n",
            "\n",
            "우리는 못 치니까 에이스들이 치는 자리 밑에서 치거든\n"
          ]
        },
        {
          "data": {
            "application/vnd.jupyter.widget-view+json": {
              "model_id": "b0f068a6b54e4918a407a4c945707c83",
              "version_major": 2,
              "version_minor": 0
            },
            "text/plain": [
              "  0%|          | 0/1 [00:00<?, ?it/s]"
            ]
          },
          "metadata": {},
          "output_type": "display_data"
        },
        {
          "name": "stdout",
          "output_type": "stream",
          "text": [
            "tensor([[ 7.5006, -0.8399, -0.4238, -1.2912, -1.1621, -0.9418, -0.4965, -0.3519,\n",
            "         -0.5113, -1.0773, -0.4049]], device='cuda:0',\n",
            "       grad_fn=<AddmmBackward0>)\n",
            "주제 :  0\n",
            "\n",
            "너무 못 치니까 사람들이 웃기더라고 공을 잘못 때려 가지고 어떤 때는 천정을 맞을 때도 있어 그냥 생각없이 친 공이 날라가니까 그런 재미로 나는 치는거 같아 그럴 수 있지 재밌게 치다 보면 나도 모르게 얼굴이 좋아지잖아 탁구치고 집에 와서 저녁 먹을 준비하잖아 밥을 다 하고 가만히 생각해 보면 낮에 탁구 쳤던 생각이 났어\n"
          ]
        },
        {
          "data": {
            "application/vnd.jupyter.widget-view+json": {
              "model_id": "158a26790a364bf7b8ab8b57891cde1d",
              "version_major": 2,
              "version_minor": 0
            },
            "text/plain": [
              "  0%|          | 0/1 [00:00<?, ?it/s]"
            ]
          },
          "metadata": {},
          "output_type": "display_data"
        },
        {
          "name": "stdout",
          "output_type": "stream",
          "text": [
            "tensor([[-0.6468, -0.6133,  0.6143, -0.8459, -1.0219, -1.1915, -0.9730,  6.9098,\n",
            "         -1.1994, -0.1989, -0.8677]], device='cuda:0',\n",
            "       grad_fn=<AddmmBackward0>)\n",
            "주제 :  7\n",
            "\n",
            "나도 모르게 피식하고 웃는다니까 지미는 그렇구나\n"
          ]
        },
        {
          "data": {
            "application/vnd.jupyter.widget-view+json": {
              "model_id": "941736a1ba554ed08f006618b4fcb234",
              "version_major": 2,
              "version_minor": 0
            },
            "text/plain": [
              "  0%|          | 0/1 [00:00<?, ?it/s]"
            ]
          },
          "metadata": {},
          "output_type": "display_data"
        },
        {
          "name": "stdout",
          "output_type": "stream",
          "text": [
            "tensor([[-0.3475,  6.4968, -0.2768,  1.6439, -0.6566, -1.4728, -1.5565,  1.0182,\n",
            "         -1.2983, -0.2375, -2.0851]], device='cuda:0',\n",
            "       grad_fn=<AddmmBackward0>)\n",
            "주제 :  1\n",
            "\n",
            "나는 탁구를 치다 보면 사람들 성격이 다 다르니까 어제는 탁구치는데 어떤 사람들은 막 웃더라고 어떤 사람은 집중을 많이 해서 치니까 나는 에이스 쪽 가면 긴장돼 긴장하고 치려니까 마음대로 안 되더라고\n"
          ]
        },
        {
          "data": {
            "application/vnd.jupyter.widget-view+json": {
              "model_id": "14076ab91a344ca08d251eaa44eece8d",
              "version_major": 2,
              "version_minor": 0
            },
            "text/plain": [
              "  0%|          | 0/1 [00:00<?, ?it/s]"
            ]
          },
          "metadata": {},
          "output_type": "display_data"
        },
        {
          "name": "stdout",
          "output_type": "stream",
          "text": [
            "tensor([[-0.6495, -0.7143, -0.0977, -0.8683, -1.1842, -0.7778, -0.8524,  6.9761,\n",
            "         -1.1145,  0.1061, -0.7603]], device='cuda:0',\n",
            "       grad_fn=<AddmmBackward0>)\n",
            "주제 :  7\n",
            "\n",
            "내가 긴장을 해서 치니까 잘 못 치면 막 뭐라고 할까봐 불안해 긴장해서 그런지 공이 잘 안 맞고 그러더라고\n"
          ]
        },
        {
          "data": {
            "application/vnd.jupyter.widget-view+json": {
              "model_id": "5d3829173c4a4fa89177f64237de310e",
              "version_major": 2,
              "version_minor": 0
            },
            "text/plain": [
              "  0%|          | 0/1 [00:00<?, ?it/s]"
            ]
          },
          "metadata": {},
          "output_type": "display_data"
        },
        {
          "name": "stdout",
          "output_type": "stream",
          "text": [
            "tensor([[ 6.8174, -0.8849, -0.8948, -1.5340, -1.5938, -0.5505, -0.8509,  1.4803,\n",
            "          0.0600, -1.3979, -0.6405]], device='cuda:0',\n",
            "       grad_fn=<AddmmBackward0>)\n",
            "주제 :  0\n",
            "\n",
            "거기서 즐기는 게 사람들하고 어울리기 쉽고 더 좋은가 봐 나도 마찬가지야\n"
          ]
        },
        {
          "data": {
            "application/vnd.jupyter.widget-view+json": {
              "model_id": "bb62e0d970534478ac6fa219b9341bde",
              "version_major": 2,
              "version_minor": 0
            },
            "text/plain": [
              "  0%|          | 0/1 [00:00<?, ?it/s]"
            ]
          },
          "metadata": {},
          "output_type": "display_data"
        },
        {
          "name": "stdout",
          "output_type": "stream",
          "text": [
            "tensor([[-0.8942, -0.7496, -0.5481, -1.0683, -0.5568, -0.7993, -0.7872, -0.2979,\n",
            "         -0.8879,  7.7204, -0.6207]], device='cuda:0',\n",
            "       grad_fn=<AddmmBackward0>)\n",
            "주제 :  9\n",
            "\n",
            "나도 똑같애\n"
          ]
        },
        {
          "data": {
            "application/vnd.jupyter.widget-view+json": {
              "model_id": "f4643b5b22a8436497592af5ca7933d2",
              "version_major": 2,
              "version_minor": 0
            },
            "text/plain": [
              "  0%|          | 0/1 [00:00<?, ?it/s]"
            ]
          },
          "metadata": {},
          "output_type": "display_data"
        },
        {
          "name": "stdout",
          "output_type": "stream",
          "text": [
            "tensor([[-0.8032, -0.3904,  0.8434, -0.8981, -1.0523, -1.2617, -1.1432,  6.8133,\n",
            "         -1.3585,  0.1490, -0.8936]], device='cuda:0',\n",
            "       grad_fn=<AddmmBackward0>)\n",
            "주제 :  7\n",
            "\n",
            "복식 칠 때 내가 실수라도 하면 옆 사람한테 미안해 잘 안됐을 때는 내 혼자 의기소침 하더라고 밑에에서 치면 마음 놓고 치다보니까 거기가 더 좋지 그래도 못 치는 사람이나 잘 치는 사람이나 다 고충이 있나봐\n"
          ]
        },
        {
          "data": {
            "application/vnd.jupyter.widget-view+json": {
              "model_id": "8abcf299d2054f00814308ddabbad2fd",
              "version_major": 2,
              "version_minor": 0
            },
            "text/plain": [
              "  0%|          | 0/1 [00:00<?, ?it/s]"
            ]
          },
          "metadata": {},
          "output_type": "display_data"
        },
        {
          "name": "stdout",
          "output_type": "stream",
          "text": [
            "tensor([[-0.8399, -1.1370, -0.6834, -1.4171, -0.9420,  0.4100, -1.1854,  1.3148,\n",
            "         -0.9192,  6.9534, -0.8766]], device='cuda:0',\n",
            "       grad_fn=<AddmmBackward0>)\n",
            "주제 :  9\n",
            "\n",
            "하여튼 나는 못 치더라도 탁구장에 갈 때는 기분이 좋더라고 가서 놀다 오는 게 기분 좋더라고\n"
          ]
        },
        {
          "data": {
            "application/vnd.jupyter.widget-view+json": {
              "model_id": "2fab247b7dca4256902e7aca01892582",
              "version_major": 2,
              "version_minor": 0
            },
            "text/plain": [
              "  0%|          | 0/1 [00:00<?, ?it/s]"
            ]
          },
          "metadata": {},
          "output_type": "display_data"
        },
        {
          "name": "stdout",
          "output_type": "stream",
          "text": [
            "tensor([[-0.7412, -0.5851,  0.0993, -0.7578, -1.0415, -0.9327, -0.8164,  6.9928,\n",
            "         -1.1329, -0.2186, -0.8593]], device='cuda:0',\n",
            "       grad_fn=<AddmmBackward0>)\n",
            "주제 :  7\n",
            "\n",
            "그리고 탁구 치는 사람들이 다 마음이 좋은 거 같어 잘 가르쳐 주고 웃기기도 하고 안 그래 자세도 잘 잡아주기도 하고 여러모로 좋더라고\n"
          ]
        },
        {
          "data": {
            "application/vnd.jupyter.widget-view+json": {
              "model_id": "c1e1ff477dea4fa39aba4abf99304704",
              "version_major": 2,
              "version_minor": 0
            },
            "text/plain": [
              "  0%|          | 0/1 [00:00<?, ?it/s]"
            ]
          },
          "metadata": {},
          "output_type": "display_data"
        },
        {
          "name": "stdout",
          "output_type": "stream",
          "text": [
            "tensor([[-1.2516, -0.2776, -1.2874,  7.3352, -0.4470, -0.6076, -0.4898, -0.7296,\n",
            "         -0.8092, -0.6011, -0.6803]], device='cuda:0',\n",
            "       grad_fn=<AddmmBackward0>)\n",
            "주제 :  3\n",
            "\n",
            "그러면 그거는 다 똑같은 거 같아 그게 탁구는 상대방이 있잖아 복식으로 칠 때는 공이 왔던 곳으로 안 오잖아 다 틀린 대로 오잖아\n"
          ]
        },
        {
          "data": {
            "application/vnd.jupyter.widget-view+json": {
              "model_id": "37e9664287ac4e9ca08f603cbe64e1b5",
              "version_major": 2,
              "version_minor": 0
            },
            "text/plain": [
              "  0%|          | 0/1 [00:00<?, ?it/s]"
            ]
          },
          "metadata": {},
          "output_type": "display_data"
        },
        {
          "name": "stdout",
          "output_type": "stream",
          "text": [
            "tensor([[-0.6408, -0.6627,  0.0630, -0.8138, -1.0413, -0.8818, -0.7602,  6.9903,\n",
            "         -1.1066, -0.3540, -0.8029]], device='cuda:0',\n",
            "       grad_fn=<AddmmBackward0>)\n",
            "주제 :  7\n",
            "\n",
            "그러니까 그게 좋은 거 같아 그리고 나이 먹어도 관절 같은 데 무리없이 할 수 있어 나는 그게 진짜 좋은 거 같애\n"
          ]
        },
        {
          "data": {
            "application/vnd.jupyter.widget-view+json": {
              "model_id": "1746022387be481fa9183b15eb6aee16",
              "version_major": 2,
              "version_minor": 0
            },
            "text/plain": [
              "  0%|          | 0/1 [00:00<?, ?it/s]"
            ]
          },
          "metadata": {},
          "output_type": "display_data"
        },
        {
          "name": "stdout",
          "output_type": "stream",
          "text": [
            "tensor([[-1.0962, -0.2269, -1.2434,  7.3947, -0.3652, -0.6779, -0.4417, -0.8792,\n",
            "         -0.7158, -1.0553, -0.5421]], device='cuda:0',\n",
            "       grad_fn=<AddmmBackward0>)\n",
            "주제 :  3\n",
            "\n",
            "나는 처음 배운 운동으로 탁구를 배웠잖아\n"
          ]
        },
        {
          "data": {
            "application/vnd.jupyter.widget-view+json": {
              "model_id": "f74218594e3e41f9b792e5ff81028b0e",
              "version_major": 2,
              "version_minor": 0
            },
            "text/plain": [
              "  0%|          | 0/1 [00:00<?, ?it/s]"
            ]
          },
          "metadata": {},
          "output_type": "display_data"
        },
        {
          "name": "stdout",
          "output_type": "stream",
          "text": [
            "tensor([[-0.9781, -0.6193, -0.5464, -1.0566, -0.6421, -0.8433, -0.7349,  0.0300,\n",
            "         -1.0954,  7.6967, -0.6982]], device='cuda:0',\n",
            "       grad_fn=<AddmmBackward0>)\n",
            "주제 :  9\n",
            "\n",
            "내 생각에는 탁구장에서 친구를 만난다는게 좋은거 같아 탁구 치면서 더 친해지고 우리 우정 변치말자 계속 우리 웃으면서 탁구 열심히 치자고 그래 서로 노력하자고 동아리는 좋아하는 사람만 오는거 아니야 탁구가 좋아서 모이는거고 사람들이 순하고 다 좋은 거 같애\n"
          ]
        },
        {
          "data": {
            "application/vnd.jupyter.widget-view+json": {
              "model_id": "53d0b6b2b5784194b073db057d3e8b5f",
              "version_major": 2,
              "version_minor": 0
            },
            "text/plain": [
              "  0%|          | 0/1 [00:00<?, ?it/s]"
            ]
          },
          "metadata": {},
          "output_type": "display_data"
        },
        {
          "name": "stdout",
          "output_type": "stream",
          "text": [
            "tensor([[-1.1108, -0.8558, -0.5367, -1.0022, -0.8044, -0.7664, -0.9922,  1.2787,\n",
            "         -1.2155,  7.3025, -0.7617]], device='cuda:0',\n",
            "       grad_fn=<AddmmBackward0>)\n",
            "주제 :  9\n",
            "\n",
            "우리도 동아리를 만들면 더 재밌지 않겠어 다함께 동아리를 만드는거야\n"
          ]
        },
        {
          "data": {
            "application/vnd.jupyter.widget-view+json": {
              "model_id": "d313d557a81b494198fba4f58cf7440e",
              "version_major": 2,
              "version_minor": 0
            },
            "text/plain": [
              "  0%|          | 0/1 [00:00<?, ?it/s]"
            ]
          },
          "metadata": {},
          "output_type": "display_data"
        },
        {
          "name": "stdout",
          "output_type": "stream",
          "text": [
            "tensor([[-0.5435, -0.7911,  7.1773, -1.2347, -0.4834, -1.3005, -0.8066, -0.1400,\n",
            "         -0.8141, -0.7957, -0.8368]], device='cuda:0',\n",
            "       grad_fn=<AddmmBackward0>)\n",
            "주제 :  2\n",
            "\n",
            "몇 명이 모여서 만들어 모르는것도 가르쳐 주면서 그렇게 해서 같이 치고 그러면 더 재밌을거 같은데 여자들끼리 몇 명 안 되지만 그래도 나는 그게 좋을것 같은데 그래서 그 회장님이 그 얘기 했자나 같이 재밌게 치면 좋을 건데 왜 그렇게 안 치냐고 그래요 나는 회장님한테 그 소리는 못 들었거든요\n"
          ]
        },
        {
          "data": {
            "application/vnd.jupyter.widget-view+json": {
              "model_id": "7984b512d05d4af697f3f83e3e792321",
              "version_major": 2,
              "version_minor": 0
            },
            "text/plain": [
              "  0%|          | 0/1 [00:00<?, ?it/s]"
            ]
          },
          "metadata": {},
          "output_type": "display_data"
        },
        {
          "name": "stdout",
          "output_type": "stream",
          "text": [
            "tensor([[-0.5915, -0.9969,  7.1243, -1.3113, -0.5128, -1.4088, -0.8194,  0.3952,\n",
            "         -0.8797, -0.8305, -0.8601]], device='cuda:0',\n",
            "       grad_fn=<AddmmBackward0>)\n",
            "주제 :  2\n",
            "\n",
            "그러게 내 생각에도 에이스들이랑 치면 불안스러워 배울 점은 많은데 어딘가 모르게 편하지 않더라고\n"
          ]
        },
        {
          "data": {
            "application/vnd.jupyter.widget-view+json": {
              "model_id": "8095a972403345b3b58d43be1ef02234",
              "version_major": 2,
              "version_minor": 0
            },
            "text/plain": [
              "  0%|          | 0/1 [00:00<?, ?it/s]"
            ]
          },
          "metadata": {},
          "output_type": "display_data"
        },
        {
          "name": "stdout",
          "output_type": "stream",
          "text": [
            "tensor([[ 7.4937, -0.7053, -0.5014, -1.1332, -1.1631, -0.9073, -0.6712, -0.5305,\n",
            "         -0.3454, -1.0332, -0.4563]], device='cuda:0',\n",
            "       grad_fn=<AddmmBackward0>)\n",
            "주제 :  0\n",
            "\n",
            "나는 탁구를 못 쳐서 자신감이 없어\n"
          ]
        },
        {
          "data": {
            "application/vnd.jupyter.widget-view+json": {
              "model_id": "f442ff90d1454687b986de0771e7d097",
              "version_major": 2,
              "version_minor": 0
            },
            "text/plain": [
              "  0%|          | 0/1 [00:00<?, ?it/s]"
            ]
          },
          "metadata": {},
          "output_type": "display_data"
        },
        {
          "name": "stdout",
          "output_type": "stream",
          "text": [
            "tensor([[-0.6237,  7.9980, -0.5926, -0.0190, -1.0388, -0.4817, -0.9436, -0.2896,\n",
            "         -0.8206, -0.3460, -0.9204]], device='cuda:0',\n",
            "       grad_fn=<AddmmBackward0>)\n",
            "주제 :  1\n",
            "\n",
            "왜냐면 내가 지면 나랑 같은 편이 기분 나빠할까 봐 들어가고 싶어도 마음이 불편하고 가서 한 번씩 하면 지더라고\n"
          ]
        },
        {
          "data": {
            "application/vnd.jupyter.widget-view+json": {
              "model_id": "dc677857c74a4d74b173fa857a650f7d",
              "version_major": 2,
              "version_minor": 0
            },
            "text/plain": [
              "  0%|          | 0/1 [00:00<?, ?it/s]"
            ]
          },
          "metadata": {},
          "output_type": "display_data"
        },
        {
          "name": "stdout",
          "output_type": "stream",
          "text": [
            "tensor([[-0.7218, -0.0143,  0.0779, -0.6553, -1.1055, -1.0008, -1.0712,  6.9360,\n",
            "         -1.2126, -0.1108, -0.9624]], device='cuda:0',\n",
            "       grad_fn=<AddmmBackward0>)\n",
            "주제 :  7\n",
            "\n",
            "그래서 내가 그 사람한테 미안하더라 그렇다 보니까 마음이 편하지는 않더라고 그냥 우리끼리 동아리를 만들어서 같이 하면 좋고 나는 웃고 즐기는게 좋을 것 같은아 윤 회장이 나한테 항상 그러잖아\n"
          ]
        },
        {
          "data": {
            "application/vnd.jupyter.widget-view+json": {
              "model_id": "94dfb6e1fdb140768803a43a83e3ede4",
              "version_major": 2,
              "version_minor": 0
            },
            "text/plain": [
              "  0%|          | 0/1 [00:00<?, ?it/s]"
            ]
          },
          "metadata": {},
          "output_type": "display_data"
        },
        {
          "name": "stdout",
          "output_type": "stream",
          "text": [
            "tensor([[-1.2124, -0.8120, -0.0345, -1.1012, -0.6794, -0.8952, -0.4381, -0.0487,\n",
            "         -1.2496,  7.5112, -0.7265]], device='cuda:0',\n",
            "       grad_fn=<AddmmBackward0>)\n",
            "주제 :  9\n",
            "\n",
            "여기서 비슷한 사람끼리 재미있게 치면 좋을 건데 그러니까 슬기 오빠가 여자들이 치기에 부담없이 해주더라\n"
          ]
        },
        {
          "data": {
            "application/vnd.jupyter.widget-view+json": {
              "model_id": "becdbdfbbc5341a1a608229836e3e9ae",
              "version_major": 2,
              "version_minor": 0
            },
            "text/plain": [
              "  0%|          | 0/1 [00:00<?, ?it/s]"
            ]
          },
          "metadata": {},
          "output_type": "display_data"
        },
        {
          "name": "stdout",
          "output_type": "stream",
          "text": [
            "tensor([[-0.5625, -0.8491,  7.1715, -1.2839, -0.4841, -1.3519, -0.8292,  0.0810,\n",
            "         -0.8353, -0.8174, -0.8597]], device='cuda:0',\n",
            "       grad_fn=<AddmmBackward0>)\n",
            "주제 :  2\n",
            "\n",
            "그 오빠한테 많이 가르쳐 달라고 하면 좋아 나도 많이 배워 오빠가 워낙 마음이 좋으니까 사람들이 서로 많이 찾아 나는 차지도 들어가지도 않고 그런 거는 있기는 있더라고\n"
          ]
        },
        {
          "data": {
            "application/vnd.jupyter.widget-view+json": {
              "model_id": "2036240d2b564b0fa8e03065c772f40c",
              "version_major": 2,
              "version_minor": 0
            },
            "text/plain": [
              "  0%|          | 0/1 [00:00<?, ?it/s]"
            ]
          },
          "metadata": {},
          "output_type": "display_data"
        },
        {
          "name": "stdout",
          "output_type": "stream",
          "text": [
            "tensor([[-0.9093, -0.7628, -0.5334, -0.9907, -0.5893, -0.8373, -0.7891, -0.1772,\n",
            "         -0.9827,  7.7195, -0.6461]], device='cuda:0',\n",
            "       grad_fn=<AddmmBackward0>)\n",
            "주제 :  9\n",
            "\n",
            "나도 보미 한테 배워보고 싶은데 내가 먼저 얘기를 못 하겠어 미안해 가지고 나는 하루에 한 번 씩만 봐주면 실력이 엄청 늘 것 같은데 우리같이 못 치는 사람끼리 맨날 치면 그이도 재미없어 사람 잡기는 어렵기는 어렵더라\n"
          ]
        },
        {
          "data": {
            "application/vnd.jupyter.widget-view+json": {
              "model_id": "09802cf115a24dea87828f4a6bd9ef70",
              "version_major": 2,
              "version_minor": 0
            },
            "text/plain": [
              "  0%|          | 0/1 [00:00<?, ?it/s]"
            ]
          },
          "metadata": {},
          "output_type": "display_data"
        },
        {
          "name": "stdout",
          "output_type": "stream",
          "text": [
            "tensor([[-0.4103, -1.0306, -0.4011, -1.4566, -1.6035,  2.8176, -1.0704,  5.3830,\n",
            "         -1.1243, -0.1839, -0.5729]], device='cuda:0',\n",
            "       grad_fn=<AddmmBackward0>)\n",
            "주제 :  7\n",
            "\n",
            "그리고 자주 안 오고 오늘은 오후에 오실 건데 오실려나 오후에 가서 한 번 열심히 또 쳐봐야지\n"
          ]
        },
        {
          "data": {
            "application/vnd.jupyter.widget-view+json": {
              "model_id": "42e2d6ef51df46a7b543621f3162f054",
              "version_major": 2,
              "version_minor": 0
            },
            "text/plain": [
              "  0%|          | 0/1 [00:00<?, ?it/s]"
            ]
          },
          "metadata": {},
          "output_type": "display_data"
        },
        {
          "name": "stdout",
          "output_type": "stream",
          "text": [
            "tensor([[-0.6498, -0.7124,  0.4941, -0.8189, -1.0137, -1.0933, -0.8533,  6.9427,\n",
            "         -1.1148, -0.4033, -0.8472]], device='cuda:0',\n",
            "       grad_fn=<AddmmBackward0>)\n",
            "주제 :  7\n",
            "\n",
            "노을이는 일주일에 한 두 번 오는데 요즘에는 안 오던데 계속 안 오고 그래서 지난번에는 그리고 보미 오면 내가 딴 사람보다 일찍 잡아달라고 하고 싶어 같이 하고 싶은 마음이 있어서 가 보면 안 오더라고 노을이도 바쁜가 봐\n"
          ]
        },
        {
          "data": {
            "application/vnd.jupyter.widget-view+json": {
              "model_id": "01de593d4fac4dea9c47a8c36e566f59",
              "version_major": 2,
              "version_minor": 0
            },
            "text/plain": [
              "  0%|          | 0/1 [00:00<?, ?it/s]"
            ]
          },
          "metadata": {},
          "output_type": "display_data"
        },
        {
          "name": "stdout",
          "output_type": "stream",
          "text": [
            "tensor([[-1.4079, -0.5432, -0.8002,  1.2163, -0.9787, -0.9763, -1.1616,  0.5470,\n",
            "         -1.5815,  6.8710, -0.8532]], device='cuda:0',\n",
            "       grad_fn=<AddmmBackward0>)\n",
            "주제 :  9\n",
            "\n",
            "어디 뭐 하는 거 같아 다들 바쁘겠지 바쁘지만 그래도 탁구가 좋아서 오는 사람들이잖아\n"
          ]
        },
        {
          "data": {
            "application/vnd.jupyter.widget-view+json": {
              "model_id": "e89946d2c9ca4b9ebbf67973d20d77eb",
              "version_major": 2,
              "version_minor": 0
            },
            "text/plain": [
              "  0%|          | 0/1 [00:00<?, ?it/s]"
            ]
          },
          "metadata": {},
          "output_type": "display_data"
        },
        {
          "name": "stdout",
          "output_type": "stream",
          "text": [
            "tensor([[-0.9134, -0.7110, -0.5299, -1.1063, -0.5677, -0.8245, -0.7880, -0.1440,\n",
            "         -0.9388,  7.7157, -0.6674]], device='cuda:0',\n",
            "       grad_fn=<AddmmBackward0>)\n",
            "주제 :  9\n",
            "\n",
            "나도 남들 보다 잘 치고 싶은데 탁구장 가보면 다들 너무 열심히 하더라\n"
          ]
        },
        {
          "data": {
            "application/vnd.jupyter.widget-view+json": {
              "model_id": "2ad50186d65f45f281dfa271be2c4390",
              "version_major": 2,
              "version_minor": 0
            },
            "text/plain": [
              "  0%|          | 0/1 [00:00<?, ?it/s]"
            ]
          },
          "metadata": {},
          "output_type": "display_data"
        },
        {
          "name": "stdout",
          "output_type": "stream",
          "text": [
            "tensor([[-1.0203, -0.7456, -0.5302, -1.0238, -0.6838, -0.8219, -0.8449,  0.4351,\n",
            "         -1.1360,  7.6217, -0.7244]], device='cuda:0',\n",
            "       grad_fn=<AddmmBackward0>)\n",
            "주제 :  9\n",
            "\n",
            "잘 칠 수 있도록 노력을 해 봐야겠지\n"
          ]
        },
        {
          "data": {
            "application/vnd.jupyter.widget-view+json": {
              "model_id": "132a84de435e4e38957d6a94d6e06d9c",
              "version_major": 2,
              "version_minor": 0
            },
            "text/plain": [
              "  0%|          | 0/1 [00:00<?, ?it/s]"
            ]
          },
          "metadata": {},
          "output_type": "display_data"
        },
        {
          "name": "stdout",
          "output_type": "stream",
          "text": [
            "tensor([[-0.6026,  7.9940, -0.6248, -0.1019, -1.0243, -0.3330, -0.9256, -0.4635,\n",
            "         -0.7446, -0.3611, -0.8616]], device='cuda:0',\n",
            "       grad_fn=<AddmmBackward0>)\n",
            "주제 :  1\n",
            "\n",
            "나도 지금보다 더 잘 쳐서 다른 사람이랑 칠 때도 이기고 싶어 세 번 정도 치면 두 번 정도는 이겨야지\n"
          ]
        },
        {
          "data": {
            "application/vnd.jupyter.widget-view+json": {
              "model_id": "a24dbbb924094d708b41099fb6d61c64",
              "version_major": 2,
              "version_minor": 0
            },
            "text/plain": [
              "  0%|          | 0/1 [00:00<?, ?it/s]"
            ]
          },
          "metadata": {},
          "output_type": "display_data"
        },
        {
          "name": "stdout",
          "output_type": "stream",
          "text": [
            "tensor([[-0.6010, -0.8876,  7.1578, -1.3284, -0.5384, -1.3875, -0.8177,  0.2211,\n",
            "         -0.8899, -0.7683, -0.8068]], device='cuda:0',\n",
            "       grad_fn=<AddmmBackward0>)\n",
            "주제 :  2\n",
            "\n",
            "조금 자신감도 생기고 좋을 텐데 그게 잘 안 돼\n"
          ]
        },
        {
          "data": {
            "application/vnd.jupyter.widget-view+json": {
              "model_id": "4e5d0fdb35044557906870a0b953ab74",
              "version_major": 2,
              "version_minor": 0
            },
            "text/plain": [
              "  0%|          | 0/1 [00:00<?, ?it/s]"
            ]
          },
          "metadata": {},
          "output_type": "display_data"
        },
        {
          "name": "stdout",
          "output_type": "stream",
          "text": [
            "tensor([[-0.5395,  0.2566, -0.1029, -0.6047, -1.1767, -0.9368, -1.0656,  6.8779,\n",
            "         -1.2068, -0.2558, -1.0754]], device='cuda:0',\n",
            "       grad_fn=<AddmmBackward0>)\n",
            "주제 :  7\n",
            "\n",
            "그런데 지미는 잘 쳐서 그런지 그냥 치는데 잘 치더라구\n"
          ]
        },
        {
          "data": {
            "application/vnd.jupyter.widget-view+json": {
              "model_id": "521920d8c50e41e29f821d9303a2c66a",
              "version_major": 2,
              "version_minor": 0
            },
            "text/plain": [
              "  0%|          | 0/1 [00:00<?, ?it/s]"
            ]
          },
          "metadata": {},
          "output_type": "display_data"
        },
        {
          "name": "stdout",
          "output_type": "stream",
          "text": [
            "tensor([[-0.9057,  0.5078,  5.5933, -1.5892, -1.3285, -0.7897, -0.1267, -0.5058,\n",
            "         -1.9286,  1.4537, -0.7341]], device='cuda:0',\n",
            "       grad_fn=<AddmmBackward0>)\n",
            "주제 :  2\n",
            "\n",
            "잘 치기는 뭘 잘 쳐 다 똑같지 지미랑 내가 같이 랠리를 해봤어 여자끼리 하면 쎄게 못치는데 친구는 틀리더라고 공 때리는 게 힘이 있어서 그런지 좀 쎄게 와\n"
          ]
        },
        {
          "data": {
            "application/vnd.jupyter.widget-view+json": {
              "model_id": "07120ef31d5542cab5732b3b18078d5a",
              "version_major": 2,
              "version_minor": 0
            },
            "text/plain": [
              "  0%|          | 0/1 [00:00<?, ?it/s]"
            ]
          },
          "metadata": {},
          "output_type": "display_data"
        },
        {
          "name": "stdout",
          "output_type": "stream",
          "text": [
            "tensor([[-0.6890, -1.2451, -0.1200, -0.8508, -0.9041, -0.7129, -0.3698, -0.1887,\n",
            "         -1.1332,  0.2239,  7.0076]], device='cuda:0',\n",
            "       grad_fn=<AddmmBackward0>)\n",
            "주제 :  10\n",
            "\n",
            "그래서 진짜 탁구 더 잘 치면 남자한테는 밀리지 않을 것 같어\n"
          ]
        },
        {
          "data": {
            "application/vnd.jupyter.widget-view+json": {
              "model_id": "f6fb2f7f867e4aa9840c10eaaf517cb3",
              "version_major": 2,
              "version_minor": 0
            },
            "text/plain": [
              "  0%|          | 0/1 [00:00<?, ?it/s]"
            ]
          },
          "metadata": {},
          "output_type": "display_data"
        },
        {
          "name": "stdout",
          "output_type": "stream",
          "text": [
            "tensor([[-0.8067, -1.1599, -0.9381, -0.6563, -0.8892, -0.8221, -0.2219, -0.8338,\n",
            "         -0.7508,  1.2360,  6.9003]], device='cuda:0',\n",
            "       grad_fn=<AddmmBackward0>)\n",
            "주제 :  10\n",
            "\n",
            "진짜 탁구는 반복해서 많이 해봐야 할 것 같아 시간을 많이 가지고 반복적으로 쳐야 느는거 같아 예를 들어서 오늘 삼십 분 한 시간 치잖아\n"
          ]
        },
        {
          "data": {
            "application/vnd.jupyter.widget-view+json": {
              "model_id": "7ffbf8ca666b41989ddde60963edf8a3",
              "version_major": 2,
              "version_minor": 0
            },
            "text/plain": [
              "  0%|          | 0/1 [00:00<?, ?it/s]"
            ]
          },
          "metadata": {},
          "output_type": "display_data"
        },
        {
          "name": "stdout",
          "output_type": "stream",
          "text": [
            "tensor([[-0.3674, -0.4719, -0.5576, -1.4613, -1.6403,  3.0195, -1.1183,  5.2665,\n",
            "         -1.2555, -0.3556, -0.6567]], device='cuda:0',\n",
            "       grad_fn=<AddmmBackward0>)\n",
            "주제 :  7\n",
            "\n",
            "내일 또 삼십 분 한 시간 매일 이렇게 반복해서 하는 게 탁구를 몇 시간씩 친다고 느는 게 아닌 거 같아 이게 집중해서 해서 쳐야 할 것 같아 근데 어제 이슬이가 한별이 잡아주고 또 나오라고 했어 한별이 해주고서는 잔디도 해 준다고 했잖아\n"
          ]
        },
        {
          "data": {
            "application/vnd.jupyter.widget-view+json": {
              "model_id": "c177fe93cee747d5bff7c7dccd81d5df",
              "version_major": 2,
              "version_minor": 0
            },
            "text/plain": [
              "  0%|          | 0/1 [00:00<?, ?it/s]"
            ]
          },
          "metadata": {},
          "output_type": "display_data"
        },
        {
          "name": "stdout",
          "output_type": "stream",
          "text": [
            "tensor([[-0.8845,  0.8785,  0.0460, -0.8470, -1.2599, -0.8012, -1.4260,  6.6129,\n",
            "         -1.4929,  0.5719, -0.9598]], device='cuda:0',\n",
            "       grad_fn=<AddmmBackward0>)\n",
            "주제 :  7\n",
            "\n",
            "그런데 그 한별이가 공을 던져주고서 때리라고 했거든\n"
          ]
        },
        {
          "data": {
            "application/vnd.jupyter.widget-view+json": {
              "model_id": "72be54b63dd147a3a17e9cc6dc5c9f8d",
              "version_major": 2,
              "version_minor": 0
            },
            "text/plain": [
              "  0%|          | 0/1 [00:00<?, ?it/s]"
            ]
          },
          "metadata": {},
          "output_type": "display_data"
        },
        {
          "name": "stdout",
          "output_type": "stream",
          "text": [
            "tensor([[-0.7182, -0.8437,  0.2781, -0.9429, -1.0999, -0.9904, -0.9017,  6.9120,\n",
            "         -1.2943,  0.4022, -0.8022]], device='cuda:0',\n",
            "       grad_fn=<AddmmBackward0>)\n",
            "주제 :  7\n",
            "\n",
            "근데 사람들이 얘기를 들어도 피부로 직접 느끼지 못하거든 던져진 타이밍 보면 공이 떴다가 내려오잖아 내려온 순간에 때리니까 잘 들어가더라고\n"
          ]
        },
        {
          "data": {
            "application/vnd.jupyter.widget-view+json": {
              "model_id": "1e0b20bb2d2b458fba40bf7446c3ef4e",
              "version_major": 2,
              "version_minor": 0
            },
            "text/plain": [
              "  0%|          | 0/1 [00:00<?, ?it/s]"
            ]
          },
          "metadata": {},
          "output_type": "display_data"
        },
        {
          "name": "stdout",
          "output_type": "stream",
          "text": [
            "tensor([[-0.6457, -0.6724, -0.0522, -0.8696, -1.1055, -0.8153, -0.8140,  6.9929,\n",
            "         -1.0986, -0.1399, -0.7442]], device='cuda:0',\n",
            "       grad_fn=<AddmmBackward0>)\n",
            "주제 :  7\n",
            "\n",
            "근데 공 보기가 엄청 어렵더라고\n"
          ]
        },
        {
          "data": {
            "application/vnd.jupyter.widget-view+json": {
              "model_id": "b1d35923accf4c05878c9bd97dd3347a",
              "version_major": 2,
              "version_minor": 0
            },
            "text/plain": [
              "  0%|          | 0/1 [00:00<?, ?it/s]"
            ]
          },
          "metadata": {},
          "output_type": "display_data"
        },
        {
          "name": "stdout",
          "output_type": "stream",
          "text": [
            "tensor([[ 7.2598, -0.0521, -0.8191, -0.8438, -1.3060, -0.6190, -1.0104, -0.7718,\n",
            "          0.3412, -1.1499, -0.7085]], device='cuda:0',\n",
            "       grad_fn=<AddmmBackward0>)\n",
            "주제 :  0\n",
            "\n",
            "딴 사람들은 그냥 공 오는 걸 기다렸다가 서있는 상태에서 확 때리는데 나는 공을 못 보겠더라고 실력이 없어서 그런지 공 오는 거를 못 보겠더라\n"
          ]
        },
        {
          "data": {
            "application/vnd.jupyter.widget-view+json": {
              "model_id": "89e816a99d9c462fb3920ff8080fa38a",
              "version_major": 2,
              "version_minor": 0
            },
            "text/plain": [
              "  0%|          | 0/1 [00:00<?, ?it/s]"
            ]
          },
          "metadata": {},
          "output_type": "display_data"
        },
        {
          "name": "stdout",
          "output_type": "stream",
          "text": [
            "tensor([[-0.3626, -0.8512, -0.9668, -1.2288, -1.4238,  5.4381, -0.7059,  3.1299,\n",
            "         -0.7894, -0.7279, -0.6870]], device='cuda:0',\n",
            "       grad_fn=<AddmmBackward0>)\n",
            "주제 :  5\n",
            "\n",
            "친구는 어때 어제 보미가 처음에는 민볼로 주다가 커트로 얇게도 줬어\n"
          ]
        },
        {
          "data": {
            "application/vnd.jupyter.widget-view+json": {
              "model_id": "0c95a58b2c4a4d2c9ac005f603e311de",
              "version_major": 2,
              "version_minor": 0
            },
            "text/plain": [
              "  0%|          | 0/1 [00:00<?, ?it/s]"
            ]
          },
          "metadata": {},
          "output_type": "display_data"
        },
        {
          "name": "stdout",
          "output_type": "stream",
          "text": [
            "tensor([[-1.0377, -0.7294, -0.1454, -0.7788, -1.2204, -0.8120, -1.2656,  6.3139,\n",
            "         -1.4450,  2.2641, -0.9082]], device='cuda:0',\n",
            "       grad_fn=<AddmmBackward0>)\n",
            "주제 :  7\n",
            "\n",
            "자기가 그렇게 주는 거 같더라고 그래 가지고 그거를 깎아 보라고 하더라고\n"
          ]
        },
        {
          "data": {
            "application/vnd.jupyter.widget-view+json": {
              "model_id": "6c760a03678d4ab4ae202b75eb4239c2",
              "version_major": 2,
              "version_minor": 0
            },
            "text/plain": [
              "  0%|          | 0/1 [00:00<?, ?it/s]"
            ]
          },
          "metadata": {},
          "output_type": "display_data"
        },
        {
          "name": "stdout",
          "output_type": "stream",
          "text": [
            "tensor([[-0.8441, -0.8249, -0.6003, -1.1354, -0.7369, -0.4575, -0.6256, -0.0232,\n",
            "         -1.1190,  7.6112, -0.7710]], device='cuda:0',\n",
            "       grad_fn=<AddmmBackward0>)\n",
            "주제 :  9\n",
            "\n",
            "어제 나도 똑같이 그걸 했거든\n"
          ]
        },
        {
          "data": {
            "application/vnd.jupyter.widget-view+json": {
              "model_id": "397c1a377c234a598eeb2ce2ed0b0566",
              "version_major": 2,
              "version_minor": 0
            },
            "text/plain": [
              "  0%|          | 0/1 [00:00<?, ?it/s]"
            ]
          },
          "metadata": {},
          "output_type": "display_data"
        },
        {
          "name": "stdout",
          "output_type": "stream",
          "text": [
            "tensor([[-0.1778, -0.8932,  0.1665, -1.2451, -1.3406, -0.8977, -0.1767,  6.8068,\n",
            "         -1.2944, -0.2255, -0.8918]], device='cuda:0',\n",
            "       grad_fn=<AddmmBackward0>)\n",
            "주제 :  7\n",
            "\n",
            "그렇게 반은 민볼로 반은 커트로 공을 깎아서 주더라고 스매싱도 해 보라고 친구는 스매싱 잘 들어갔어\n"
          ]
        },
        {
          "data": {
            "application/vnd.jupyter.widget-view+json": {
              "model_id": "7cd36dd645ba4250bb31f7a8a93a9ada",
              "version_major": 2,
              "version_minor": 0
            },
            "text/plain": [
              "  0%|          | 0/1 [00:00<?, ?it/s]"
            ]
          },
          "metadata": {},
          "output_type": "display_data"
        },
        {
          "name": "stdout",
          "output_type": "stream",
          "text": [
            "tensor([[ 1.8597, -0.3384, -1.4266, -0.1866, -2.0083, -0.7818, -1.4675,  4.5920,\n",
            "         -1.4814,  2.3726, -1.0046]], device='cuda:0',\n",
            "       grad_fn=<AddmmBackward0>)\n",
            "주제 :  7\n",
            "\n",
            "뭐 들어갈 때도 있고 안 들어갈 때도 있는데 어제는 그냥 괜찮았던 것 같애\n"
          ]
        },
        {
          "data": {
            "application/vnd.jupyter.widget-view+json": {
              "model_id": "55e263a332c44171a69cae24291b07a3",
              "version_major": 2,
              "version_minor": 0
            },
            "text/plain": [
              "  0%|          | 0/1 [00:00<?, ?it/s]"
            ]
          },
          "metadata": {},
          "output_type": "display_data"
        },
        {
          "name": "stdout",
          "output_type": "stream",
          "text": [
            "tensor([[-0.7264,  2.3721, -1.4223, -1.1092, -1.0789,  6.1344, -0.2892,  0.3639,\n",
            "         -1.3025, -0.6495, -0.5865]], device='cuda:0',\n",
            "       grad_fn=<AddmmBackward0>)\n",
            "주제 :  5\n",
            "\n",
            "0 번째 주제가 7.8431372549019605 % 차지합니다.\n",
            "1 번째 주제가 8.823529411764707 % 차지합니다.\n",
            "2 번째 주제가 8.823529411764707 % 차지합니다.\n",
            "3 번째 주제가 6.862745098039216 % 차지합니다.\n",
            "4 번째 주제가 0.0 % 차지합니다.\n",
            "5 번째 주제가 9.803921568627452 % 차지합니다.\n",
            "6 번째 주제가 0.9803921568627451 % 차지합니다.\n",
            "7 번째 주제가 19.607843137254903 % 차지합니다.\n",
            "8 번째 주제가 0.9803921568627451 % 차지합니다.\n",
            "9 번째 주제가 31.372549019607842 % 차지합니다.\n",
            "10 번째 주제가 4.901960784313726 % 차지합니다.\n"
          ]
        }
      ],
      "source": [
        "lst2 = ['어제 탁구 시합할 때 빽 서브 연습을 안 하고 하니까 서브가 그게 잘 들어가던데 잘 안되더라 연습을 하고 가야겠어 연습을 조금만 하니까 공이 허공으로 뜨고 그러니까 상대방이 바로 때리니까 안 좋기는 안 좋더라고',\n",
        "  '가끔가다 한 번씩 때려주면 좋을 텐데 진짜 시합 할 때 빽 서브도 좋지만 화서브도 넣고 커트도 잘 되는데 커트가 잘 안될 때도 있잖 근데 빽 서브만 넣으면 안 되겠어 화서브 넣어도 상대방이 잘 알아서 때리니까 좀 그렇더라고 처음에 서브 넣으면 막 때리고 그러니까 한 번 때려 갖고 들어가면 기분이 안좋고 그날 진짜 플레이가 안 되더라고',\n",
        "  '그런데 커트로 수비도 잘 하고 스매싱도 잘 하는데 단식보다 이제 복식 하면 뒤에서 스매싱으로 때려주면 되고 앞에서 수비 잘 하면 게임이 유리한 것 같은데 때리고 그러면 좀 실수가 많은 거 같지 않아 엊그제는 유튜브를 봤는데 유남규 선수 있잖아',\n",
        "  '유남규 선수가 설명을 잘해 주더라고',\n",
        "  '나도 유튜브를 본지 얼마 안됐는데 그게 도움이 많이 되는 거 같더라고',\n",
        "  '나도 가끔씩 보면 충분히 나도 할 수 있을 것 같은데 막상 게임 할 때는 잘 안 되더라고 맞아 그래서 연습을 많이 해야 할 것 같아 근데 나는 너무 안되서 레슨을 조금 받는데 하루에 십분 씩해서 일주일에 두 번 받거든',\n",
        "  '확실히 받아보니까 조금 낫긴 하더라고',\n",
        "  '근데 육만 원이야',\n",
        "  '그게 확 티는 안나도 레슨 받은게 도움이 되고 오래 친 사람들도 계속 연습하면서 일 년에 한두 번씩 레슨을 받는다니까 그러니까 그렇게 잘 치는 거 같애',\n",
        "  '잘 하는 분인데 내가 물어봤어 요즘에 많이 좋아졌더라고',\n",
        "  '십분 정도 레슨을 받는데 잘하는 사람이랑 하니까 그 사람이 실수가 많이 줄었더라고',\n",
        "  '그런데 또 잘 치는 사람들을 구경을 하는 것도 큰 도움이 되는 거 같애',\n",
        "  '그지 나도 비슷하게라도 흉내를 낼라고 하면서 그것도 맞는 거 같어 내가상대방이 치는걸 보는데 내가 좀 해 볼라고 하면 잘 안 되고 좀 그렇더라',\n",
        "  '다른 사람이 치는건 잘 보이는데 내가 칠 땐 잘 안되니까 어려워 생활 체육이지만 되게 탁구가 어려운거 같아 내가 배드민턴을 오래 쳐서 그런가 그건 좀 쉬운 거 같은데 탁구는 어렵더라고 사람들이 그러다라고 꾸준히 나가도 어떨 때 속상할때가 많아 내가 너무 못 치는거 같으니까 그래서 그만 둘까 하니까 사람들이 그러더라고 치라고 여러모로 운동 되고 머리 쓰니까 좋다고 하더라',\n",
        "  '이렇게 마음 맞는 친구들하고 같이 운동을 하니까 너무 시간도 잘 가고 건강에도 좋고 너무 너무 좋아 그러니까 좋기는 좋더라고',\n",
        "  '그리고 웃으면서 치니까 활력도 생기고 좋기는 좋더라고',\n",
        "  '근데 내가 탁구 실력이 늘었으면 좋겠다는 마음이 들더라고 꾸준히 나가서 열심히 치면 늘겠지 정리동 탁구장에는 사람들이 많이 쳐줘서 좋아 그래야 또 잘 치는 사람들이랑 어울려서 웃고 놀지 그렇게 하고 싶은데 잘 안 되더라고 그래도 처음부터 잘 하는 사람은 많이 없을 거 같아 벌써 그렇게 되니 게임도 많이 하고 연습도 하잖아',\n",
        "  '나는 이제는 조금 늘겠라는 생각이 들더라구 한 번 나가고 싶어 내 탁구 실력이 어느정도 되는지 궁금해 그런 데 한 번 나가 보면 지더라도 되게 실력이 오르더라구',\n",
        "  '그래서 한 번 시도를 해 보는 게 좋을 것 같은데 모르겠네',\n",
        "  '사람들이 내 실력이 많이 늘어서 대회 나가는걸 추천 하더라구',\n",
        "  '내가 자신이 없으니까 나가는게 두렵더라구',\n",
        "  '그런데 대회 같은 데 가서 구경하는 거는 재밌더라',\n",
        "  '근데 한 번이 힘들지 계속 나가니까 재밌더라구',\n",
        "  '조금씩 실력이 늘면 자꾸 나가고 싶을 것 같기도 해 나도 다음에는 한 번 나갈 수 있으면 좋겠어',\n",
        "  '진짜 친구가 권하니까 나도 용기를 내보고 싶긴해',\n",
        "  '그리고 잘할지 못 할지 몰라도 한 번 생각해 볼게 구 대회도 나가고 잘 하다보면 시 대회도 나갈 있잖아',\n",
        "  '같이 운동할 수 있다는 게 얼마나 좋아 그치 나도 나이가 많아서 남들처럼 잘 할려나 모르겠네',\n",
        "  '젊은 사람들이 탁구치는거 보면 잘하는데 난 자신이 없네',\n",
        "  '언제 한 번 우리도 나가 볼까',\n",
        "  '하여튼 한 번 나가 보면 같애',\n",
        "  '내가 친구 믿고 열심히 해서 한 번 나가 보자고 좋은 생각이야',\n",
        "  '또 시합 나가면 다른 친구들도 보잖아',\n",
        "  '확실히 동사무소에서만 치는 탁구하고는 다르거든',\n",
        "  '그러니까 한 번 나가 보는 것도 좋을 것 같애',\n",
        "  '친구 믿고 내가 열심히 해서 한 번 나가 볼께 다른 사람들 치는거 보면서 매일 연습하면 될 거야',\n",
        "  '그렇게 하다 보면 실력이 늘겠지 알겠어',\n",
        "  '그리고 나는 요즘에 허리가 조금 안 좋거든',\n",
        "  '우리 집이 십이 층이여 그렇게 하니까 좋아지는 거 같더라',\n",
        "  '누가 그러더라 다리랑 허리에 좋은 운동이 계단 타는거라고 뭐 안 좋은데는 아직 없거든',\n",
        "  '근데 이제 조심은 해야지 나이가 있잖 그냥 일주일에 한 번 정도는 산에 가면 좋을 거 같애',\n",
        "  '시골가서 일 좀 하고 주중에 탁구 치는 게 좋은 거 같애',\n",
        "  '지미 걔는 건강하게 보여 타고 났나 봐',\n",
        "  '그러니까 나이가 그 정도 되면 어디 아프고 그러거든요',\n",
        "  '근데 내가 볼 때 남자보다 더 건강한 것 같고 기운도 좋아보여 내 다리가 안 아프려면 이렇게 산에 가는게 좋을거 같아 근데 다리가 안 좋았는지 조금 다리가 아프려고 하더라고',\n",
        "  '그래서 겁이 났는지 요즘에는 산에 안 가고 그랬거든',\n",
        "  '그냥 나름대로 운동도 하고 건강 관리 하고 그러거든 지미는 시골 가서 일 하면 좀 힘들지 않아 아 힘든건 있어 있는데 또 시골에 가면 공기가 맑잖아 애들하고 먹으니까 좋은 거 같아 시골가서 일을 하니까 그렇게 어디 불편한 거는 아직 없어 그래도 열심히 운동은 열심히 해야지 지미는 마음이 착해 농사지어서 친척들 주고 친구들 주잖아 그러는 재미를 느끼나 봐',\n",
        "  '그러니까 시골에 가서 일하는 것도 힘이 안들어 보이더라고',\n",
        "  '나는 이상하게 그런걸 못 느끼나봐',\n",
        "  '친정이 시골이거든',\n",
        "  '한번 들에 나가서 할라고 하면 막 허리도 아프고 햇빛을 너무 못 이겨서 안하게 되더라고 배드민턴을 한 이십년 쳤고 탁구를 쳐봤는데 이제 나이가 있으니까 배드민턴은 뛰어야 하니까 힘들더라고',\n",
        "  '그런데 탁구 배드민턴보다 반경이 좁잖아',\n",
        "  '그러니까 탁구는 좀 해 보니까 편한 것 같애',\n",
        "  '나이 먹어서도 탁구는 할 수 있는 운동이라 괜찮은 것 같애',\n",
        "  '나는 운동을 해본 적이 많이 없는데도 탁구를 배웠거든',\n",
        "  '왜냐하면 친구도 만나고 같이 치니까 좋더라고 탁구에 대해 얘기하다 보면 시간이 잘 가거든',\n",
        "  '그리고 탁구 레슨을 해주는 선생님도 있어 활력도 생기고 많이 웃다보니 재밌더라고 탁구를 치다 보면 많이 웃게 되고 그렇더라고 그냥은 웃을 일이 별로 없지 승부욕이 많은 사람은 이기려 하는사람도 있고 꼭 하는 거보다 진짜 볼 만 하더라고',\n",
        "  '나는 에이스들이 치는데 보다',\n",
        "  '그 밑에서 치는 게 더 좋아 왜냐하면 에이스에서 치는 사람들 보면 너무 삭막해 아주 서로 이기려고 눈에 불을 켜더라',\n",
        "  '우리는 못 치니까 에이스들이 치는 자리 밑에서 치거든',\n",
        "  '너무 못 치니까 사람들이 웃기더라고 공을 잘못 때려 가지고 어떤 때는 천정을 맞을 때도 있어 그냥 생각없이 친 공이 날라가니까 그런 재미로 나는 치는거 같아 그럴 수 있지 재밌게 치다 보면 나도 모르게 얼굴이 좋아지잖아 탁구치고 집에 와서 저녁 먹을 준비하잖아 밥을 다 하고 가만히 생각해 보면 낮에 탁구 쳤던 생각이 났어',\n",
        "  '나도 모르게 피식하고 웃는다니까 지미는 그렇구나',\n",
        "  '나는 탁구를 치다 보면 사람들 성격이 다 다르니까 어제는 탁구치는데 어떤 사람들은 막 웃더라고 어떤 사람은 집중을 많이 해서 치니까 나는 에이스 쪽 가면 긴장돼 긴장하고 치려니까 마음대로 안 되더라고',\n",
        "  '내가 긴장을 해서 치니까 잘 못 치면 막 뭐라고 할까봐 불안해 긴장해서 그런지 공이 잘 안 맞고 그러더라고',\n",
        "  '거기서 즐기는 게 사람들하고 어울리기 쉽고 더 좋은가 봐 나도 마찬가지야',\n",
        "  '나도 똑같애',\n",
        "  '복식 칠 때 내가 실수라도 하면 옆 사람한테 미안해 잘 안됐을 때는 내 혼자 의기소침 하더라고 밑에에서 치면 마음 놓고 치다보니까 거기가 더 좋지 그래도 못 치는 사람이나 잘 치는 사람이나 다 고충이 있나봐',\n",
        "  '하여튼 나는 못 치더라도 탁구장에 갈 때는 기분이 좋더라고 가서 놀다 오는 게 기분 좋더라고',\n",
        "  '그리고 탁구 치는 사람들이 다 마음이 좋은 거 같어 잘 가르쳐 주고 웃기기도 하고 안 그래 자세도 잘 잡아주기도 하고 여러모로 좋더라고',\n",
        "  '그러면 그거는 다 똑같은 거 같아 그게 탁구는 상대방이 있잖아 복식으로 칠 때는 공이 왔던 곳으로 안 오잖아 다 틀린 대로 오잖아',\n",
        "  '그러니까 그게 좋은 거 같아 그리고 나이 먹어도 관절 같은 데 무리없이 할 수 있어 나는 그게 진짜 좋은 거 같애',\n",
        "  '나는 처음 배운 운동으로 탁구를 배웠잖아',\n",
        "  '내 생각에는 탁구장에서 친구를 만난다는게 좋은거 같아 탁구 치면서 더 친해지고 우리 우정 변치말자 계속 우리 웃으면서 탁구 열심히 치자고 그래 서로 노력하자고 동아리는 좋아하는 사람만 오는거 아니야 탁구가 좋아서 모이는거고 사람들이 순하고 다 좋은 거 같애',\n",
        "  '우리도 동아리를 만들면 더 재밌지 않겠어 다함께 동아리를 만드는거야',\n",
        "  '몇 명이 모여서 만들어 모르는것도 가르쳐 주면서 그렇게 해서 같이 치고 그러면 더 재밌을거 같은데 여자들끼리 몇 명 안 되지만 그래도 나는 그게 좋을것 같은데 그래서 그 회장님이 그 얘기 했자나 같이 재밌게 치면 좋을 건데 왜 그렇게 안 치냐고 그래요 나는 회장님한테 그 소리는 못 들었거든요',\n",
        "  '그러게 내 생각에도 에이스들이랑 치면 불안스러워 배울 점은 많은데 어딘가 모르게 편하지 않더라고',\n",
        "  '나는 탁구를 못 쳐서 자신감이 없어',\n",
        "  '왜냐면 내가 지면 나랑 같은 편이 기분 나빠할까 봐 들어가고 싶어도 마음이 불편하고 가서 한 번씩 하면 지더라고',\n",
        "  '그래서 내가 그 사람한테 미안하더라 그렇다 보니까 마음이 편하지는 않더라고 그냥 우리끼리 동아리를 만들어서 같이 하면 좋고 나는 웃고 즐기는게 좋을 것 같은아 윤 회장이 나한테 항상 그러잖아',\n",
        "  '여기서 비슷한 사람끼리 재미있게 치면 좋을 건데 그러니까 슬기 오빠가 여자들이 치기에 부담없이 해주더라',\n",
        "  '그 오빠한테 많이 가르쳐 달라고 하면 좋아 나도 많이 배워 오빠가 워낙 마음이 좋으니까 사람들이 서로 많이 찾아 나는 차지도 들어가지도 않고 그런 거는 있기는 있더라고',\n",
        "  '나도 보미 한테 배워보고 싶은데 내가 먼저 얘기를 못 하겠어 미안해 가지고 나는 하루에 한 번 씩만 봐주면 실력이 엄청 늘 것 같은데 우리같이 못 치는 사람끼리 맨날 치면 그이도 재미없어 사람 잡기는 어렵기는 어렵더라',\n",
        "  '그리고 자주 안 오고 오늘은 오후에 오실 건데 오실려나 오후에 가서 한 번 열심히 또 쳐봐야지',\n",
        "  '노을이는 일주일에 한 두 번 오는데 요즘에는 안 오던데 계속 안 오고 그래서 지난번에는 그리고 보미 오면 내가 딴 사람보다 일찍 잡아달라고 하고 싶어 같이 하고 싶은 마음이 있어서 가 보면 안 오더라고 노을이도 바쁜가 봐',\n",
        "  '어디 뭐 하는 거 같아 다들 바쁘겠지 바쁘지만 그래도 탁구가 좋아서 오는 사람들이잖아',\n",
        "  '나도 남들 보다 잘 치고 싶은데 탁구장 가보면 다들 너무 열심히 하더라',\n",
        "  '잘 칠 수 있도록 노력을 해 봐야겠지',\n",
        "  '나도 지금보다 더 잘 쳐서 다른 사람이랑 칠 때도 이기고 싶어 세 번 정도 치면 두 번 정도는 이겨야지',\n",
        "  '조금 자신감도 생기고 좋을 텐데 그게 잘 안 돼',\n",
        "  '그런데 지미는 잘 쳐서 그런지 그냥 치는데 잘 치더라구',\n",
        "  '잘 치기는 뭘 잘 쳐 다 똑같지 지미랑 내가 같이 랠리를 해봤어 여자끼리 하면 쎄게 못치는데 친구는 틀리더라고 공 때리는 게 힘이 있어서 그런지 좀 쎄게 와',\n",
        "  '그래서 진짜 탁구 더 잘 치면 남자한테는 밀리지 않을 것 같어',\n",
        "  '진짜 탁구는 반복해서 많이 해봐야 할 것 같아 시간을 많이 가지고 반복적으로 쳐야 느는거 같아 예를 들어서 오늘 삼십 분 한 시간 치잖아',\n",
        "  '내일 또 삼십 분 한 시간 매일 이렇게 반복해서 하는 게 탁구를 몇 시간씩 친다고 느는 게 아닌 거 같아 이게 집중해서 해서 쳐야 할 것 같아 근데 어제 이슬이가 한별이 잡아주고 또 나오라고 했어 한별이 해주고서는 잔디도 해 준다고 했잖아',\n",
        "  '그런데 그 한별이가 공을 던져주고서 때리라고 했거든',\n",
        "  '근데 사람들이 얘기를 들어도 피부로 직접 느끼지 못하거든 던져진 타이밍 보면 공이 떴다가 내려오잖아 내려온 순간에 때리니까 잘 들어가더라고',\n",
        "  '근데 공 보기가 엄청 어렵더라고',\n",
        "  '딴 사람들은 그냥 공 오는 걸 기다렸다가 서있는 상태에서 확 때리는데 나는 공을 못 보겠더라고 실력이 없어서 그런지 공 오는 거를 못 보겠더라',\n",
        "  '친구는 어때 어제 보미가 처음에는 민볼로 주다가 커트로 얇게도 줬어',\n",
        "  '자기가 그렇게 주는 거 같더라고 그래 가지고 그거를 깎아 보라고 하더라고',\n",
        "  '어제 나도 똑같이 그걸 했거든',\n",
        "  '그렇게 반은 민볼로 반은 커트로 공을 깎아서 주더라고 스매싱도 해 보라고 친구는 스매싱 잘 들어갔어',\n",
        "  '뭐 들어갈 때도 있고 안 들어갈 때도 있는데 어제는 그냥 괜찮았던 것 같애']\n",
        "conv2 = summarization(lst2, model)\n",
        "conv2.summarize()"
      ]
    },
    {
      "cell_type": "code",
      "execution_count": null,
      "metadata": {
        "id": "pNAEHh31E92c"
      },
      "outputs": [],
      "source": []
    }
  ],
  "metadata": {
    "accelerator": "GPU",
    "colab": {
      "provenance": []
    },
    "gpuClass": "standard",
    "kernelspec": {
      "display_name": "Python 3",
      "name": "python3"
    },
    "language_info": {
      "name": "python"
    },
    "widgets": {
      "application/vnd.jupyter.widget-state+json": {
        "003e7a1b48d74895b4b2ffc2fdb00f3c": {
          "model_module": "@jupyter-widgets/controls",
          "model_module_version": "1.5.0",
          "model_name": "FloatProgressModel",
          "state": {
            "_dom_classes": [],
            "_model_module": "@jupyter-widgets/controls",
            "_model_module_version": "1.5.0",
            "_model_name": "FloatProgressModel",
            "_view_count": null,
            "_view_module": "@jupyter-widgets/controls",
            "_view_module_version": "1.5.0",
            "_view_name": "ProgressView",
            "bar_style": "success",
            "description": "",
            "description_tooltip": null,
            "layout": "IPY_MODEL_78b1c43da1684f36a58f280fcf9e5b26",
            "max": 37,
            "min": 0,
            "orientation": "horizontal",
            "style": "IPY_MODEL_9544e01d3bed4d0f9cbf5f1dbe1542a9",
            "value": 37
          }
        },
        "00de55608b4b476ca30c0988a9f8fe11": {
          "model_module": "@jupyter-widgets/controls",
          "model_module_version": "1.5.0",
          "model_name": "DescriptionStyleModel",
          "state": {
            "_model_module": "@jupyter-widgets/controls",
            "_model_module_version": "1.5.0",
            "_model_name": "DescriptionStyleModel",
            "_view_count": null,
            "_view_module": "@jupyter-widgets/base",
            "_view_module_version": "1.2.0",
            "_view_name": "StyleView",
            "description_width": ""
          }
        },
        "00f00e45c8d64f368490202d35426bd9": {
          "model_module": "@jupyter-widgets/controls",
          "model_module_version": "1.5.0",
          "model_name": "HTMLModel",
          "state": {
            "_dom_classes": [],
            "_model_module": "@jupyter-widgets/controls",
            "_model_module_version": "1.5.0",
            "_model_name": "HTMLModel",
            "_view_count": null,
            "_view_module": "@jupyter-widgets/controls",
            "_view_module_version": "1.5.0",
            "_view_name": "HTMLView",
            "description": "",
            "description_tooltip": null,
            "layout": "IPY_MODEL_6a637534c38a4cd1961bd2512d1df527",
            "placeholder": "​",
            "style": "IPY_MODEL_b75fa76b5dbc437b9b4ddae9f3110ca8",
            "value": " 5/5 [00:01&lt;00:00,  4.17it/s]"
          }
        },
        "0129feaf428541bfbd6e2b39cd34e57a": {
          "model_module": "@jupyter-widgets/base",
          "model_module_version": "1.2.0",
          "model_name": "LayoutModel",
          "state": {
            "_model_module": "@jupyter-widgets/base",
            "_model_module_version": "1.2.0",
            "_model_name": "LayoutModel",
            "_view_count": null,
            "_view_module": "@jupyter-widgets/base",
            "_view_module_version": "1.2.0",
            "_view_name": "LayoutView",
            "align_content": null,
            "align_items": null,
            "align_self": null,
            "border": null,
            "bottom": null,
            "display": null,
            "flex": null,
            "flex_flow": null,
            "grid_area": null,
            "grid_auto_columns": null,
            "grid_auto_flow": null,
            "grid_auto_rows": null,
            "grid_column": null,
            "grid_gap": null,
            "grid_row": null,
            "grid_template_areas": null,
            "grid_template_columns": null,
            "grid_template_rows": null,
            "height": null,
            "justify_content": null,
            "justify_items": null,
            "left": null,
            "margin": null,
            "max_height": null,
            "max_width": null,
            "min_height": null,
            "min_width": null,
            "object_fit": null,
            "object_position": null,
            "order": null,
            "overflow": null,
            "overflow_x": null,
            "overflow_y": null,
            "padding": null,
            "right": null,
            "top": null,
            "visibility": null,
            "width": null
          }
        },
        "03311d4f999247149e334db500b404c3": {
          "model_module": "@jupyter-widgets/controls",
          "model_module_version": "1.5.0",
          "model_name": "ProgressStyleModel",
          "state": {
            "_model_module": "@jupyter-widgets/controls",
            "_model_module_version": "1.5.0",
            "_model_name": "ProgressStyleModel",
            "_view_count": null,
            "_view_module": "@jupyter-widgets/base",
            "_view_module_version": "1.2.0",
            "_view_name": "StyleView",
            "bar_color": null,
            "description_width": ""
          }
        },
        "0463e28ca3ec4a5f8bbe6c0e6faffec6": {
          "model_module": "@jupyter-widgets/controls",
          "model_module_version": "1.5.0",
          "model_name": "FloatProgressModel",
          "state": {
            "_dom_classes": [],
            "_model_module": "@jupyter-widgets/controls",
            "_model_module_version": "1.5.0",
            "_model_name": "FloatProgressModel",
            "_view_count": null,
            "_view_module": "@jupyter-widgets/controls",
            "_view_module_version": "1.5.0",
            "_view_name": "ProgressView",
            "bar_style": "success",
            "description": "",
            "description_tooltip": null,
            "layout": "IPY_MODEL_7ff610aed7c846afbd6022370d47c6ff",
            "max": 37,
            "min": 0,
            "orientation": "horizontal",
            "style": "IPY_MODEL_610d26ed5f8c47a6b675605ee39c4d9f",
            "value": 37
          }
        },
        "0490dd5e88f146dc9b8f75817870bac4": {
          "model_module": "@jupyter-widgets/base",
          "model_module_version": "1.2.0",
          "model_name": "LayoutModel",
          "state": {
            "_model_module": "@jupyter-widgets/base",
            "_model_module_version": "1.2.0",
            "_model_name": "LayoutModel",
            "_view_count": null,
            "_view_module": "@jupyter-widgets/base",
            "_view_module_version": "1.2.0",
            "_view_name": "LayoutView",
            "align_content": null,
            "align_items": null,
            "align_self": null,
            "border": null,
            "bottom": null,
            "display": null,
            "flex": null,
            "flex_flow": null,
            "grid_area": null,
            "grid_auto_columns": null,
            "grid_auto_flow": null,
            "grid_auto_rows": null,
            "grid_column": null,
            "grid_gap": null,
            "grid_row": null,
            "grid_template_areas": null,
            "grid_template_columns": null,
            "grid_template_rows": null,
            "height": null,
            "justify_content": null,
            "justify_items": null,
            "left": null,
            "margin": null,
            "max_height": null,
            "max_width": null,
            "min_height": null,
            "min_width": null,
            "object_fit": null,
            "object_position": null,
            "order": null,
            "overflow": null,
            "overflow_x": null,
            "overflow_y": null,
            "padding": null,
            "right": null,
            "top": null,
            "visibility": null,
            "width": null
          }
        },
        "04c2d51544bc41d19af03456356bfc58": {
          "model_module": "@jupyter-widgets/base",
          "model_module_version": "1.2.0",
          "model_name": "LayoutModel",
          "state": {
            "_model_module": "@jupyter-widgets/base",
            "_model_module_version": "1.2.0",
            "_model_name": "LayoutModel",
            "_view_count": null,
            "_view_module": "@jupyter-widgets/base",
            "_view_module_version": "1.2.0",
            "_view_name": "LayoutView",
            "align_content": null,
            "align_items": null,
            "align_self": null,
            "border": null,
            "bottom": null,
            "display": null,
            "flex": null,
            "flex_flow": null,
            "grid_area": null,
            "grid_auto_columns": null,
            "grid_auto_flow": null,
            "grid_auto_rows": null,
            "grid_column": null,
            "grid_gap": null,
            "grid_row": null,
            "grid_template_areas": null,
            "grid_template_columns": null,
            "grid_template_rows": null,
            "height": null,
            "justify_content": null,
            "justify_items": null,
            "left": null,
            "margin": null,
            "max_height": null,
            "max_width": null,
            "min_height": null,
            "min_width": null,
            "object_fit": null,
            "object_position": null,
            "order": null,
            "overflow": null,
            "overflow_x": null,
            "overflow_y": null,
            "padding": null,
            "right": null,
            "top": null,
            "visibility": null,
            "width": null
          }
        },
        "04d6596481e542e2a6a239803c31eb9a": {
          "model_module": "@jupyter-widgets/controls",
          "model_module_version": "1.5.0",
          "model_name": "HTMLModel",
          "state": {
            "_dom_classes": [],
            "_model_module": "@jupyter-widgets/controls",
            "_model_module_version": "1.5.0",
            "_model_name": "HTMLModel",
            "_view_count": null,
            "_view_module": "@jupyter-widgets/controls",
            "_view_module_version": "1.5.0",
            "_view_name": "HTMLView",
            "description": "",
            "description_tooltip": null,
            "layout": "IPY_MODEL_9adcc3aea7394ab0846c494843fcbee1",
            "placeholder": "​",
            "style": "IPY_MODEL_bb4a711fb8ab4f4bb2c83692049a26f4",
            "value": "100%"
          }
        },
        "04e3c0459b75400eb83bc837dd2bc99c": {
          "model_module": "@jupyter-widgets/base",
          "model_module_version": "1.2.0",
          "model_name": "LayoutModel",
          "state": {
            "_model_module": "@jupyter-widgets/base",
            "_model_module_version": "1.2.0",
            "_model_name": "LayoutModel",
            "_view_count": null,
            "_view_module": "@jupyter-widgets/base",
            "_view_module_version": "1.2.0",
            "_view_name": "LayoutView",
            "align_content": null,
            "align_items": null,
            "align_self": null,
            "border": null,
            "bottom": null,
            "display": null,
            "flex": null,
            "flex_flow": null,
            "grid_area": null,
            "grid_auto_columns": null,
            "grid_auto_flow": null,
            "grid_auto_rows": null,
            "grid_column": null,
            "grid_gap": null,
            "grid_row": null,
            "grid_template_areas": null,
            "grid_template_columns": null,
            "grid_template_rows": null,
            "height": null,
            "justify_content": null,
            "justify_items": null,
            "left": null,
            "margin": null,
            "max_height": null,
            "max_width": null,
            "min_height": null,
            "min_width": null,
            "object_fit": null,
            "object_position": null,
            "order": null,
            "overflow": null,
            "overflow_x": null,
            "overflow_y": null,
            "padding": null,
            "right": null,
            "top": null,
            "visibility": null,
            "width": null
          }
        },
        "056ad315c0d84d0483faa6bc3bcc67b8": {
          "model_module": "@jupyter-widgets/base",
          "model_module_version": "1.2.0",
          "model_name": "LayoutModel",
          "state": {
            "_model_module": "@jupyter-widgets/base",
            "_model_module_version": "1.2.0",
            "_model_name": "LayoutModel",
            "_view_count": null,
            "_view_module": "@jupyter-widgets/base",
            "_view_module_version": "1.2.0",
            "_view_name": "LayoutView",
            "align_content": null,
            "align_items": null,
            "align_self": null,
            "border": null,
            "bottom": null,
            "display": null,
            "flex": null,
            "flex_flow": null,
            "grid_area": null,
            "grid_auto_columns": null,
            "grid_auto_flow": null,
            "grid_auto_rows": null,
            "grid_column": null,
            "grid_gap": null,
            "grid_row": null,
            "grid_template_areas": null,
            "grid_template_columns": null,
            "grid_template_rows": null,
            "height": null,
            "justify_content": null,
            "justify_items": null,
            "left": null,
            "margin": null,
            "max_height": null,
            "max_width": null,
            "min_height": null,
            "min_width": null,
            "object_fit": null,
            "object_position": null,
            "order": null,
            "overflow": null,
            "overflow_x": null,
            "overflow_y": null,
            "padding": null,
            "right": null,
            "top": null,
            "visibility": null,
            "width": null
          }
        },
        "06a6d3e9c6a04d569b84e869a9f89889": {
          "model_module": "@jupyter-widgets/base",
          "model_module_version": "1.2.0",
          "model_name": "LayoutModel",
          "state": {
            "_model_module": "@jupyter-widgets/base",
            "_model_module_version": "1.2.0",
            "_model_name": "LayoutModel",
            "_view_count": null,
            "_view_module": "@jupyter-widgets/base",
            "_view_module_version": "1.2.0",
            "_view_name": "LayoutView",
            "align_content": null,
            "align_items": null,
            "align_self": null,
            "border": null,
            "bottom": null,
            "display": null,
            "flex": null,
            "flex_flow": null,
            "grid_area": null,
            "grid_auto_columns": null,
            "grid_auto_flow": null,
            "grid_auto_rows": null,
            "grid_column": null,
            "grid_gap": null,
            "grid_row": null,
            "grid_template_areas": null,
            "grid_template_columns": null,
            "grid_template_rows": null,
            "height": null,
            "justify_content": null,
            "justify_items": null,
            "left": null,
            "margin": null,
            "max_height": null,
            "max_width": null,
            "min_height": null,
            "min_width": null,
            "object_fit": null,
            "object_position": null,
            "order": null,
            "overflow": null,
            "overflow_x": null,
            "overflow_y": null,
            "padding": null,
            "right": null,
            "top": null,
            "visibility": null,
            "width": null
          }
        },
        "08f45b9fff07409ea635a402e81e7c9b": {
          "model_module": "@jupyter-widgets/controls",
          "model_module_version": "1.5.0",
          "model_name": "HTMLModel",
          "state": {
            "_dom_classes": [],
            "_model_module": "@jupyter-widgets/controls",
            "_model_module_version": "1.5.0",
            "_model_name": "HTMLModel",
            "_view_count": null,
            "_view_module": "@jupyter-widgets/controls",
            "_view_module_version": "1.5.0",
            "_view_name": "HTMLView",
            "description": "",
            "description_tooltip": null,
            "layout": "IPY_MODEL_99ef9f7b65e54ae3b1b1c4e249d274eb",
            "placeholder": "​",
            "style": "IPY_MODEL_0ee374f4cd004a24a311e109c204853d",
            "value": " 5/5 [00:01&lt;00:00,  4.15it/s]"
          }
        },
        "0964093bcb1a477ca666c424e84e3d43": {
          "model_module": "@jupyter-widgets/base",
          "model_module_version": "1.2.0",
          "model_name": "LayoutModel",
          "state": {
            "_model_module": "@jupyter-widgets/base",
            "_model_module_version": "1.2.0",
            "_model_name": "LayoutModel",
            "_view_count": null,
            "_view_module": "@jupyter-widgets/base",
            "_view_module_version": "1.2.0",
            "_view_name": "LayoutView",
            "align_content": null,
            "align_items": null,
            "align_self": null,
            "border": null,
            "bottom": null,
            "display": null,
            "flex": null,
            "flex_flow": null,
            "grid_area": null,
            "grid_auto_columns": null,
            "grid_auto_flow": null,
            "grid_auto_rows": null,
            "grid_column": null,
            "grid_gap": null,
            "grid_row": null,
            "grid_template_areas": null,
            "grid_template_columns": null,
            "grid_template_rows": null,
            "height": null,
            "justify_content": null,
            "justify_items": null,
            "left": null,
            "margin": null,
            "max_height": null,
            "max_width": null,
            "min_height": null,
            "min_width": null,
            "object_fit": null,
            "object_position": null,
            "order": null,
            "overflow": null,
            "overflow_x": null,
            "overflow_y": null,
            "padding": null,
            "right": null,
            "top": null,
            "visibility": null,
            "width": null
          }
        },
        "0993a14c60cb4d99bba2990ca03a647a": {
          "model_module": "@jupyter-widgets/controls",
          "model_module_version": "1.5.0",
          "model_name": "ProgressStyleModel",
          "state": {
            "_model_module": "@jupyter-widgets/controls",
            "_model_module_version": "1.5.0",
            "_model_name": "ProgressStyleModel",
            "_view_count": null,
            "_view_module": "@jupyter-widgets/base",
            "_view_module_version": "1.2.0",
            "_view_name": "StyleView",
            "bar_color": null,
            "description_width": ""
          }
        },
        "09d3e2465d2f4280ba9142f19d55548a": {
          "model_module": "@jupyter-widgets/controls",
          "model_module_version": "1.5.0",
          "model_name": "HBoxModel",
          "state": {
            "_dom_classes": [],
            "_model_module": "@jupyter-widgets/controls",
            "_model_module_version": "1.5.0",
            "_model_name": "HBoxModel",
            "_view_count": null,
            "_view_module": "@jupyter-widgets/controls",
            "_view_module_version": "1.5.0",
            "_view_name": "HBoxView",
            "box_style": "",
            "children": [
              "IPY_MODEL_d2dbc0e4a4f8486b96e2d9a148e40ffd",
              "IPY_MODEL_b71e89cdeb81449abfcbeeccbb35f7ea",
              "IPY_MODEL_faadf6b09846483ebf6f59d93679426f"
            ],
            "layout": "IPY_MODEL_f9d4b4bd59804a39964ba711d53e79d2"
          }
        },
        "0a335b09cb844c51999b5e3ff3e1a38d": {
          "model_module": "@jupyter-widgets/controls",
          "model_module_version": "1.5.0",
          "model_name": "FloatProgressModel",
          "state": {
            "_dom_classes": [],
            "_model_module": "@jupyter-widgets/controls",
            "_model_module_version": "1.5.0",
            "_model_name": "FloatProgressModel",
            "_view_count": null,
            "_view_module": "@jupyter-widgets/controls",
            "_view_module_version": "1.5.0",
            "_view_name": "ProgressView",
            "bar_style": "success",
            "description": "",
            "description_tooltip": null,
            "layout": "IPY_MODEL_1dd8053b44654bebbc1b35bb7bf4117d",
            "max": 37,
            "min": 0,
            "orientation": "horizontal",
            "style": "IPY_MODEL_82ffa783a7274d29b98a9b27558ed062",
            "value": 37
          }
        },
        "0cac8956fe964a9fad1f3533e2069c4f": {
          "model_module": "@jupyter-widgets/controls",
          "model_module_version": "1.5.0",
          "model_name": "HTMLModel",
          "state": {
            "_dom_classes": [],
            "_model_module": "@jupyter-widgets/controls",
            "_model_module_version": "1.5.0",
            "_model_name": "HTMLModel",
            "_view_count": null,
            "_view_module": "@jupyter-widgets/controls",
            "_view_module_version": "1.5.0",
            "_view_name": "HTMLView",
            "description": "",
            "description_tooltip": null,
            "layout": "IPY_MODEL_7910b57ee1604a94a98fca899a1f1d23",
            "placeholder": "​",
            "style": "IPY_MODEL_a40b6dcc27dc4bc39478bdf06635d3d5",
            "value": "100%"
          }
        },
        "0d1c7bf2264d4eabb82ad140e91ec74e": {
          "model_module": "@jupyter-widgets/controls",
          "model_module_version": "1.5.0",
          "model_name": "DescriptionStyleModel",
          "state": {
            "_model_module": "@jupyter-widgets/controls",
            "_model_module_version": "1.5.0",
            "_model_name": "DescriptionStyleModel",
            "_view_count": null,
            "_view_module": "@jupyter-widgets/base",
            "_view_module_version": "1.2.0",
            "_view_name": "StyleView",
            "description_width": ""
          }
        },
        "0d57994d865a4df6ae519d11eb7a5359": {
          "model_module": "@jupyter-widgets/controls",
          "model_module_version": "1.5.0",
          "model_name": "ProgressStyleModel",
          "state": {
            "_model_module": "@jupyter-widgets/controls",
            "_model_module_version": "1.5.0",
            "_model_name": "ProgressStyleModel",
            "_view_count": null,
            "_view_module": "@jupyter-widgets/base",
            "_view_module_version": "1.2.0",
            "_view_name": "StyleView",
            "bar_color": null,
            "description_width": ""
          }
        },
        "0ee374f4cd004a24a311e109c204853d": {
          "model_module": "@jupyter-widgets/controls",
          "model_module_version": "1.5.0",
          "model_name": "DescriptionStyleModel",
          "state": {
            "_model_module": "@jupyter-widgets/controls",
            "_model_module_version": "1.5.0",
            "_model_name": "DescriptionStyleModel",
            "_view_count": null,
            "_view_module": "@jupyter-widgets/base",
            "_view_module_version": "1.2.0",
            "_view_name": "StyleView",
            "description_width": ""
          }
        },
        "0f6523b44cd14868ac9d4d992e6faf19": {
          "model_module": "@jupyter-widgets/controls",
          "model_module_version": "1.5.0",
          "model_name": "DescriptionStyleModel",
          "state": {
            "_model_module": "@jupyter-widgets/controls",
            "_model_module_version": "1.5.0",
            "_model_name": "DescriptionStyleModel",
            "_view_count": null,
            "_view_module": "@jupyter-widgets/base",
            "_view_module_version": "1.2.0",
            "_view_name": "StyleView",
            "description_width": ""
          }
        },
        "12dec72733ad46578d41ff3ada905719": {
          "model_module": "@jupyter-widgets/base",
          "model_module_version": "1.2.0",
          "model_name": "LayoutModel",
          "state": {
            "_model_module": "@jupyter-widgets/base",
            "_model_module_version": "1.2.0",
            "_model_name": "LayoutModel",
            "_view_count": null,
            "_view_module": "@jupyter-widgets/base",
            "_view_module_version": "1.2.0",
            "_view_name": "LayoutView",
            "align_content": null,
            "align_items": null,
            "align_self": null,
            "border": null,
            "bottom": null,
            "display": null,
            "flex": null,
            "flex_flow": null,
            "grid_area": null,
            "grid_auto_columns": null,
            "grid_auto_flow": null,
            "grid_auto_rows": null,
            "grid_column": null,
            "grid_gap": null,
            "grid_row": null,
            "grid_template_areas": null,
            "grid_template_columns": null,
            "grid_template_rows": null,
            "height": null,
            "justify_content": null,
            "justify_items": null,
            "left": null,
            "margin": null,
            "max_height": null,
            "max_width": null,
            "min_height": null,
            "min_width": null,
            "object_fit": null,
            "object_position": null,
            "order": null,
            "overflow": null,
            "overflow_x": null,
            "overflow_y": null,
            "padding": null,
            "right": null,
            "top": null,
            "visibility": null,
            "width": null
          }
        },
        "12e97c45f1da48bebd8e7d958a99fc8b": {
          "model_module": "@jupyter-widgets/base",
          "model_module_version": "1.2.0",
          "model_name": "LayoutModel",
          "state": {
            "_model_module": "@jupyter-widgets/base",
            "_model_module_version": "1.2.0",
            "_model_name": "LayoutModel",
            "_view_count": null,
            "_view_module": "@jupyter-widgets/base",
            "_view_module_version": "1.2.0",
            "_view_name": "LayoutView",
            "align_content": null,
            "align_items": null,
            "align_self": null,
            "border": null,
            "bottom": null,
            "display": null,
            "flex": null,
            "flex_flow": null,
            "grid_area": null,
            "grid_auto_columns": null,
            "grid_auto_flow": null,
            "grid_auto_rows": null,
            "grid_column": null,
            "grid_gap": null,
            "grid_row": null,
            "grid_template_areas": null,
            "grid_template_columns": null,
            "grid_template_rows": null,
            "height": null,
            "justify_content": null,
            "justify_items": null,
            "left": null,
            "margin": null,
            "max_height": null,
            "max_width": null,
            "min_height": null,
            "min_width": null,
            "object_fit": null,
            "object_position": null,
            "order": null,
            "overflow": null,
            "overflow_x": null,
            "overflow_y": null,
            "padding": null,
            "right": null,
            "top": null,
            "visibility": null,
            "width": null
          }
        },
        "12f6b52421764c32b0af1919eb98a5b2": {
          "model_module": "@jupyter-widgets/controls",
          "model_module_version": "1.5.0",
          "model_name": "HTMLModel",
          "state": {
            "_dom_classes": [],
            "_model_module": "@jupyter-widgets/controls",
            "_model_module_version": "1.5.0",
            "_model_name": "HTMLModel",
            "_view_count": null,
            "_view_module": "@jupyter-widgets/controls",
            "_view_module_version": "1.5.0",
            "_view_name": "HTMLView",
            "description": "",
            "description_tooltip": null,
            "layout": "IPY_MODEL_8fb61b893f6d40a2b893d94c1c25539a",
            "placeholder": "​",
            "style": "IPY_MODEL_c7270f09f7ea433c9f05de825ee87d16",
            "value": "100%"
          }
        },
        "137423fc8bd049a1aa04f0b6ec72e2a9": {
          "model_module": "@jupyter-widgets/base",
          "model_module_version": "1.2.0",
          "model_name": "LayoutModel",
          "state": {
            "_model_module": "@jupyter-widgets/base",
            "_model_module_version": "1.2.0",
            "_model_name": "LayoutModel",
            "_view_count": null,
            "_view_module": "@jupyter-widgets/base",
            "_view_module_version": "1.2.0",
            "_view_name": "LayoutView",
            "align_content": null,
            "align_items": null,
            "align_self": null,
            "border": null,
            "bottom": null,
            "display": null,
            "flex": null,
            "flex_flow": null,
            "grid_area": null,
            "grid_auto_columns": null,
            "grid_auto_flow": null,
            "grid_auto_rows": null,
            "grid_column": null,
            "grid_gap": null,
            "grid_row": null,
            "grid_template_areas": null,
            "grid_template_columns": null,
            "grid_template_rows": null,
            "height": null,
            "justify_content": null,
            "justify_items": null,
            "left": null,
            "margin": null,
            "max_height": null,
            "max_width": null,
            "min_height": null,
            "min_width": null,
            "object_fit": null,
            "object_position": null,
            "order": null,
            "overflow": null,
            "overflow_x": null,
            "overflow_y": null,
            "padding": null,
            "right": null,
            "top": null,
            "visibility": null,
            "width": null
          }
        },
        "1423c246316f4209927e47699122e396": {
          "model_module": "@jupyter-widgets/base",
          "model_module_version": "1.2.0",
          "model_name": "LayoutModel",
          "state": {
            "_model_module": "@jupyter-widgets/base",
            "_model_module_version": "1.2.0",
            "_model_name": "LayoutModel",
            "_view_count": null,
            "_view_module": "@jupyter-widgets/base",
            "_view_module_version": "1.2.0",
            "_view_name": "LayoutView",
            "align_content": null,
            "align_items": null,
            "align_self": null,
            "border": null,
            "bottom": null,
            "display": null,
            "flex": null,
            "flex_flow": null,
            "grid_area": null,
            "grid_auto_columns": null,
            "grid_auto_flow": null,
            "grid_auto_rows": null,
            "grid_column": null,
            "grid_gap": null,
            "grid_row": null,
            "grid_template_areas": null,
            "grid_template_columns": null,
            "grid_template_rows": null,
            "height": null,
            "justify_content": null,
            "justify_items": null,
            "left": null,
            "margin": null,
            "max_height": null,
            "max_width": null,
            "min_height": null,
            "min_width": null,
            "object_fit": null,
            "object_position": null,
            "order": null,
            "overflow": null,
            "overflow_x": null,
            "overflow_y": null,
            "padding": null,
            "right": null,
            "top": null,
            "visibility": null,
            "width": null
          }
        },
        "15542e0a01f64c9a9c2823575802ee8f": {
          "model_module": "@jupyter-widgets/controls",
          "model_module_version": "1.5.0",
          "model_name": "DescriptionStyleModel",
          "state": {
            "_model_module": "@jupyter-widgets/controls",
            "_model_module_version": "1.5.0",
            "_model_name": "DescriptionStyleModel",
            "_view_count": null,
            "_view_module": "@jupyter-widgets/base",
            "_view_module_version": "1.2.0",
            "_view_name": "StyleView",
            "description_width": ""
          }
        },
        "1603a844183a46a88f63099b92cc940e": {
          "model_module": "@jupyter-widgets/controls",
          "model_module_version": "1.5.0",
          "model_name": "HTMLModel",
          "state": {
            "_dom_classes": [],
            "_model_module": "@jupyter-widgets/controls",
            "_model_module_version": "1.5.0",
            "_model_name": "HTMLModel",
            "_view_count": null,
            "_view_module": "@jupyter-widgets/controls",
            "_view_module_version": "1.5.0",
            "_view_name": "HTMLView",
            "description": "",
            "description_tooltip": null,
            "layout": "IPY_MODEL_69b2d1dbbc7d41e585c0c3e140684cf3",
            "placeholder": "​",
            "style": "IPY_MODEL_9ea35f466e944b76a15d1a57a48c7621",
            "value": "100%"
          }
        },
        "16084215ebdd499ca5ebfcde7bb4d46e": {
          "model_module": "@jupyter-widgets/base",
          "model_module_version": "1.2.0",
          "model_name": "LayoutModel",
          "state": {
            "_model_module": "@jupyter-widgets/base",
            "_model_module_version": "1.2.0",
            "_model_name": "LayoutModel",
            "_view_count": null,
            "_view_module": "@jupyter-widgets/base",
            "_view_module_version": "1.2.0",
            "_view_name": "LayoutView",
            "align_content": null,
            "align_items": null,
            "align_self": null,
            "border": null,
            "bottom": null,
            "display": null,
            "flex": null,
            "flex_flow": null,
            "grid_area": null,
            "grid_auto_columns": null,
            "grid_auto_flow": null,
            "grid_auto_rows": null,
            "grid_column": null,
            "grid_gap": null,
            "grid_row": null,
            "grid_template_areas": null,
            "grid_template_columns": null,
            "grid_template_rows": null,
            "height": null,
            "justify_content": null,
            "justify_items": null,
            "left": null,
            "margin": null,
            "max_height": null,
            "max_width": null,
            "min_height": null,
            "min_width": null,
            "object_fit": null,
            "object_position": null,
            "order": null,
            "overflow": null,
            "overflow_x": null,
            "overflow_y": null,
            "padding": null,
            "right": null,
            "top": null,
            "visibility": null,
            "width": null
          }
        },
        "16575558d59643e4a732165b1df8c053": {
          "model_module": "@jupyter-widgets/base",
          "model_module_version": "1.2.0",
          "model_name": "LayoutModel",
          "state": {
            "_model_module": "@jupyter-widgets/base",
            "_model_module_version": "1.2.0",
            "_model_name": "LayoutModel",
            "_view_count": null,
            "_view_module": "@jupyter-widgets/base",
            "_view_module_version": "1.2.0",
            "_view_name": "LayoutView",
            "align_content": null,
            "align_items": null,
            "align_self": null,
            "border": null,
            "bottom": null,
            "display": null,
            "flex": null,
            "flex_flow": null,
            "grid_area": null,
            "grid_auto_columns": null,
            "grid_auto_flow": null,
            "grid_auto_rows": null,
            "grid_column": null,
            "grid_gap": null,
            "grid_row": null,
            "grid_template_areas": null,
            "grid_template_columns": null,
            "grid_template_rows": null,
            "height": null,
            "justify_content": null,
            "justify_items": null,
            "left": null,
            "margin": null,
            "max_height": null,
            "max_width": null,
            "min_height": null,
            "min_width": null,
            "object_fit": null,
            "object_position": null,
            "order": null,
            "overflow": null,
            "overflow_x": null,
            "overflow_y": null,
            "padding": null,
            "right": null,
            "top": null,
            "visibility": null,
            "width": null
          }
        },
        "16910c7443ac424ab7cda1d15a1bb843": {
          "model_module": "@jupyter-widgets/base",
          "model_module_version": "1.2.0",
          "model_name": "LayoutModel",
          "state": {
            "_model_module": "@jupyter-widgets/base",
            "_model_module_version": "1.2.0",
            "_model_name": "LayoutModel",
            "_view_count": null,
            "_view_module": "@jupyter-widgets/base",
            "_view_module_version": "1.2.0",
            "_view_name": "LayoutView",
            "align_content": null,
            "align_items": null,
            "align_self": null,
            "border": null,
            "bottom": null,
            "display": null,
            "flex": null,
            "flex_flow": null,
            "grid_area": null,
            "grid_auto_columns": null,
            "grid_auto_flow": null,
            "grid_auto_rows": null,
            "grid_column": null,
            "grid_gap": null,
            "grid_row": null,
            "grid_template_areas": null,
            "grid_template_columns": null,
            "grid_template_rows": null,
            "height": null,
            "justify_content": null,
            "justify_items": null,
            "left": null,
            "margin": null,
            "max_height": null,
            "max_width": null,
            "min_height": null,
            "min_width": null,
            "object_fit": null,
            "object_position": null,
            "order": null,
            "overflow": null,
            "overflow_x": null,
            "overflow_y": null,
            "padding": null,
            "right": null,
            "top": null,
            "visibility": null,
            "width": null
          }
        },
        "177a26fb5d1340158780c6f5698e81e5": {
          "model_module": "@jupyter-widgets/controls",
          "model_module_version": "1.5.0",
          "model_name": "FloatProgressModel",
          "state": {
            "_dom_classes": [],
            "_model_module": "@jupyter-widgets/controls",
            "_model_module_version": "1.5.0",
            "_model_name": "FloatProgressModel",
            "_view_count": null,
            "_view_module": "@jupyter-widgets/controls",
            "_view_module_version": "1.5.0",
            "_view_name": "ProgressView",
            "bar_style": "success",
            "description": "",
            "description_tooltip": null,
            "layout": "IPY_MODEL_d2d62bdd7d544d1383f67ef8d315f8bf",
            "max": 37,
            "min": 0,
            "orientation": "horizontal",
            "style": "IPY_MODEL_45881798c32c42509933d7781703e389",
            "value": 37
          }
        },
        "18d25e35e62e4f45b2123a2281cd258d": {
          "model_module": "@jupyter-widgets/controls",
          "model_module_version": "1.5.0",
          "model_name": "DescriptionStyleModel",
          "state": {
            "_model_module": "@jupyter-widgets/controls",
            "_model_module_version": "1.5.0",
            "_model_name": "DescriptionStyleModel",
            "_view_count": null,
            "_view_module": "@jupyter-widgets/base",
            "_view_module_version": "1.2.0",
            "_view_name": "StyleView",
            "description_width": ""
          }
        },
        "18e6ec2dfc7046bfa0806964000ed42a": {
          "model_module": "@jupyter-widgets/controls",
          "model_module_version": "1.5.0",
          "model_name": "DescriptionStyleModel",
          "state": {
            "_model_module": "@jupyter-widgets/controls",
            "_model_module_version": "1.5.0",
            "_model_name": "DescriptionStyleModel",
            "_view_count": null,
            "_view_module": "@jupyter-widgets/base",
            "_view_module_version": "1.2.0",
            "_view_name": "StyleView",
            "description_width": ""
          }
        },
        "1956a25a59db48579b3ba7f6efb9974c": {
          "model_module": "@jupyter-widgets/controls",
          "model_module_version": "1.5.0",
          "model_name": "FloatProgressModel",
          "state": {
            "_dom_classes": [],
            "_model_module": "@jupyter-widgets/controls",
            "_model_module_version": "1.5.0",
            "_model_name": "FloatProgressModel",
            "_view_count": null,
            "_view_module": "@jupyter-widgets/controls",
            "_view_module_version": "1.5.0",
            "_view_name": "ProgressView",
            "bar_style": "success",
            "description": "",
            "description_tooltip": null,
            "layout": "IPY_MODEL_cce739605eaf4673a58dce4d76c655e4",
            "max": 5,
            "min": 0,
            "orientation": "horizontal",
            "style": "IPY_MODEL_c171bcd9f8ea400587d5848a148f4fb0",
            "value": 5
          }
        },
        "1a1a83c108dc4309a27aaaeb0a236e1c": {
          "model_module": "@jupyter-widgets/controls",
          "model_module_version": "1.5.0",
          "model_name": "HBoxModel",
          "state": {
            "_dom_classes": [],
            "_model_module": "@jupyter-widgets/controls",
            "_model_module_version": "1.5.0",
            "_model_name": "HBoxModel",
            "_view_count": null,
            "_view_module": "@jupyter-widgets/controls",
            "_view_module_version": "1.5.0",
            "_view_name": "HBoxView",
            "box_style": "",
            "children": [
              "IPY_MODEL_774914440b23405f9afeba4035164e22",
              "IPY_MODEL_d28fe0b67194488cbdbc61f800294751",
              "IPY_MODEL_f4ed1421d0c446ebaf76064f0eba60ca"
            ],
            "layout": "IPY_MODEL_e06759bec4cb4a89b43fee4d6a921cb6"
          }
        },
        "1a88a9433ad94818a4fd492c1a35aabc": {
          "model_module": "@jupyter-widgets/controls",
          "model_module_version": "1.5.0",
          "model_name": "DescriptionStyleModel",
          "state": {
            "_model_module": "@jupyter-widgets/controls",
            "_model_module_version": "1.5.0",
            "_model_name": "DescriptionStyleModel",
            "_view_count": null,
            "_view_module": "@jupyter-widgets/base",
            "_view_module_version": "1.2.0",
            "_view_name": "StyleView",
            "description_width": ""
          }
        },
        "1c72111ea97e4fff9b33efc03b0be637": {
          "model_module": "@jupyter-widgets/controls",
          "model_module_version": "1.5.0",
          "model_name": "HBoxModel",
          "state": {
            "_dom_classes": [],
            "_model_module": "@jupyter-widgets/controls",
            "_model_module_version": "1.5.0",
            "_model_name": "HBoxModel",
            "_view_count": null,
            "_view_module": "@jupyter-widgets/controls",
            "_view_module_version": "1.5.0",
            "_view_name": "HBoxView",
            "box_style": "",
            "children": [
              "IPY_MODEL_9790282f6881401a9dc8e9b1a301a41f",
              "IPY_MODEL_b258e390d41c4813a9fab60741a4a2f4",
              "IPY_MODEL_5f5ac6d2ef2a4c6cb03832ef1cdecf73"
            ],
            "layout": "IPY_MODEL_8da58b68d90f4d43be9752036b556f66"
          }
        },
        "1d057dda8ff74f608b04a899712c0a57": {
          "model_module": "@jupyter-widgets/controls",
          "model_module_version": "1.5.0",
          "model_name": "DescriptionStyleModel",
          "state": {
            "_model_module": "@jupyter-widgets/controls",
            "_model_module_version": "1.5.0",
            "_model_name": "DescriptionStyleModel",
            "_view_count": null,
            "_view_module": "@jupyter-widgets/base",
            "_view_module_version": "1.2.0",
            "_view_name": "StyleView",
            "description_width": ""
          }
        },
        "1d122c9217ab4b0f888fef8bcf811b49": {
          "model_module": "@jupyter-widgets/controls",
          "model_module_version": "1.5.0",
          "model_name": "HTMLModel",
          "state": {
            "_dom_classes": [],
            "_model_module": "@jupyter-widgets/controls",
            "_model_module_version": "1.5.0",
            "_model_name": "HTMLModel",
            "_view_count": null,
            "_view_module": "@jupyter-widgets/controls",
            "_view_module_version": "1.5.0",
            "_view_name": "HTMLView",
            "description": "",
            "description_tooltip": null,
            "layout": "IPY_MODEL_bfd330075e8343e8bc3070655708b0e4",
            "placeholder": "​",
            "style": "IPY_MODEL_0f6523b44cd14868ac9d4d992e6faf19",
            "value": "100%"
          }
        },
        "1dd8053b44654bebbc1b35bb7bf4117d": {
          "model_module": "@jupyter-widgets/base",
          "model_module_version": "1.2.0",
          "model_name": "LayoutModel",
          "state": {
            "_model_module": "@jupyter-widgets/base",
            "_model_module_version": "1.2.0",
            "_model_name": "LayoutModel",
            "_view_count": null,
            "_view_module": "@jupyter-widgets/base",
            "_view_module_version": "1.2.0",
            "_view_name": "LayoutView",
            "align_content": null,
            "align_items": null,
            "align_self": null,
            "border": null,
            "bottom": null,
            "display": null,
            "flex": null,
            "flex_flow": null,
            "grid_area": null,
            "grid_auto_columns": null,
            "grid_auto_flow": null,
            "grid_auto_rows": null,
            "grid_column": null,
            "grid_gap": null,
            "grid_row": null,
            "grid_template_areas": null,
            "grid_template_columns": null,
            "grid_template_rows": null,
            "height": null,
            "justify_content": null,
            "justify_items": null,
            "left": null,
            "margin": null,
            "max_height": null,
            "max_width": null,
            "min_height": null,
            "min_width": null,
            "object_fit": null,
            "object_position": null,
            "order": null,
            "overflow": null,
            "overflow_x": null,
            "overflow_y": null,
            "padding": null,
            "right": null,
            "top": null,
            "visibility": null,
            "width": null
          }
        },
        "1dda33ec2bda4972a69e8b3d69b25772": {
          "model_module": "@jupyter-widgets/controls",
          "model_module_version": "1.5.0",
          "model_name": "HBoxModel",
          "state": {
            "_dom_classes": [],
            "_model_module": "@jupyter-widgets/controls",
            "_model_module_version": "1.5.0",
            "_model_name": "HBoxModel",
            "_view_count": null,
            "_view_module": "@jupyter-widgets/controls",
            "_view_module_version": "1.5.0",
            "_view_name": "HBoxView",
            "box_style": "",
            "children": [
              "IPY_MODEL_d65636d273c140cbb97fc96eb3eabc8d",
              "IPY_MODEL_fbb09beae98741ee977225fba6b4eef9",
              "IPY_MODEL_21489c6101714396b961e2eb814e3095"
            ],
            "layout": "IPY_MODEL_4ed1d475a9954548b58e17eafda6aba6"
          }
        },
        "1e46a7049e2f4f6abe489118c64a9575": {
          "model_module": "@jupyter-widgets/controls",
          "model_module_version": "1.5.0",
          "model_name": "ProgressStyleModel",
          "state": {
            "_model_module": "@jupyter-widgets/controls",
            "_model_module_version": "1.5.0",
            "_model_name": "ProgressStyleModel",
            "_view_count": null,
            "_view_module": "@jupyter-widgets/base",
            "_view_module_version": "1.2.0",
            "_view_name": "StyleView",
            "bar_color": null,
            "description_width": ""
          }
        },
        "1f46de0eadee4017bb0da5f394d79a86": {
          "model_module": "@jupyter-widgets/base",
          "model_module_version": "1.2.0",
          "model_name": "LayoutModel",
          "state": {
            "_model_module": "@jupyter-widgets/base",
            "_model_module_version": "1.2.0",
            "_model_name": "LayoutModel",
            "_view_count": null,
            "_view_module": "@jupyter-widgets/base",
            "_view_module_version": "1.2.0",
            "_view_name": "LayoutView",
            "align_content": null,
            "align_items": null,
            "align_self": null,
            "border": null,
            "bottom": null,
            "display": null,
            "flex": null,
            "flex_flow": null,
            "grid_area": null,
            "grid_auto_columns": null,
            "grid_auto_flow": null,
            "grid_auto_rows": null,
            "grid_column": null,
            "grid_gap": null,
            "grid_row": null,
            "grid_template_areas": null,
            "grid_template_columns": null,
            "grid_template_rows": null,
            "height": null,
            "justify_content": null,
            "justify_items": null,
            "left": null,
            "margin": null,
            "max_height": null,
            "max_width": null,
            "min_height": null,
            "min_width": null,
            "object_fit": null,
            "object_position": null,
            "order": null,
            "overflow": null,
            "overflow_x": null,
            "overflow_y": null,
            "padding": null,
            "right": null,
            "top": null,
            "visibility": null,
            "width": null
          }
        },
        "1f95915671574dedb11c2adbff1bccbd": {
          "model_module": "@jupyter-widgets/base",
          "model_module_version": "1.2.0",
          "model_name": "LayoutModel",
          "state": {
            "_model_module": "@jupyter-widgets/base",
            "_model_module_version": "1.2.0",
            "_model_name": "LayoutModel",
            "_view_count": null,
            "_view_module": "@jupyter-widgets/base",
            "_view_module_version": "1.2.0",
            "_view_name": "LayoutView",
            "align_content": null,
            "align_items": null,
            "align_self": null,
            "border": null,
            "bottom": null,
            "display": null,
            "flex": null,
            "flex_flow": null,
            "grid_area": null,
            "grid_auto_columns": null,
            "grid_auto_flow": null,
            "grid_auto_rows": null,
            "grid_column": null,
            "grid_gap": null,
            "grid_row": null,
            "grid_template_areas": null,
            "grid_template_columns": null,
            "grid_template_rows": null,
            "height": null,
            "justify_content": null,
            "justify_items": null,
            "left": null,
            "margin": null,
            "max_height": null,
            "max_width": null,
            "min_height": null,
            "min_width": null,
            "object_fit": null,
            "object_position": null,
            "order": null,
            "overflow": null,
            "overflow_x": null,
            "overflow_y": null,
            "padding": null,
            "right": null,
            "top": null,
            "visibility": null,
            "width": null
          }
        },
        "1fe7d3a4910343a0947d6bbb74280496": {
          "model_module": "@jupyter-widgets/base",
          "model_module_version": "1.2.0",
          "model_name": "LayoutModel",
          "state": {
            "_model_module": "@jupyter-widgets/base",
            "_model_module_version": "1.2.0",
            "_model_name": "LayoutModel",
            "_view_count": null,
            "_view_module": "@jupyter-widgets/base",
            "_view_module_version": "1.2.0",
            "_view_name": "LayoutView",
            "align_content": null,
            "align_items": null,
            "align_self": null,
            "border": null,
            "bottom": null,
            "display": null,
            "flex": null,
            "flex_flow": null,
            "grid_area": null,
            "grid_auto_columns": null,
            "grid_auto_flow": null,
            "grid_auto_rows": null,
            "grid_column": null,
            "grid_gap": null,
            "grid_row": null,
            "grid_template_areas": null,
            "grid_template_columns": null,
            "grid_template_rows": null,
            "height": null,
            "justify_content": null,
            "justify_items": null,
            "left": null,
            "margin": null,
            "max_height": null,
            "max_width": null,
            "min_height": null,
            "min_width": null,
            "object_fit": null,
            "object_position": null,
            "order": null,
            "overflow": null,
            "overflow_x": null,
            "overflow_y": null,
            "padding": null,
            "right": null,
            "top": null,
            "visibility": null,
            "width": null
          }
        },
        "21489c6101714396b961e2eb814e3095": {
          "model_module": "@jupyter-widgets/controls",
          "model_module_version": "1.5.0",
          "model_name": "HTMLModel",
          "state": {
            "_dom_classes": [],
            "_model_module": "@jupyter-widgets/controls",
            "_model_module_version": "1.5.0",
            "_model_name": "HTMLModel",
            "_view_count": null,
            "_view_module": "@jupyter-widgets/controls",
            "_view_module_version": "1.5.0",
            "_view_name": "HTMLView",
            "description": "",
            "description_tooltip": null,
            "layout": "IPY_MODEL_d4b83f09aaa940c597b0b87917ffe0ff",
            "placeholder": "​",
            "style": "IPY_MODEL_459eb3f50dcd487dbf848d76670a7483",
            "value": " 37/37 [00:25&lt;00:00,  1.90it/s]"
          }
        },
        "216f1a4616f842b2b355a80415cd9c2a": {
          "model_module": "@jupyter-widgets/controls",
          "model_module_version": "1.5.0",
          "model_name": "HBoxModel",
          "state": {
            "_dom_classes": [],
            "_model_module": "@jupyter-widgets/controls",
            "_model_module_version": "1.5.0",
            "_model_name": "HBoxModel",
            "_view_count": null,
            "_view_module": "@jupyter-widgets/controls",
            "_view_module_version": "1.5.0",
            "_view_name": "HBoxView",
            "box_style": "",
            "children": [
              "IPY_MODEL_1603a844183a46a88f63099b92cc940e",
              "IPY_MODEL_a19ea13789654834ab3af09197331301",
              "IPY_MODEL_7ef9f408ca164d46b76981e2dc830fc4"
            ],
            "layout": "IPY_MODEL_ccc948d341f04376826175a3fb57ae01"
          }
        },
        "21b8db7e17e444d19464b60e43699aac": {
          "model_module": "@jupyter-widgets/controls",
          "model_module_version": "1.5.0",
          "model_name": "FloatProgressModel",
          "state": {
            "_dom_classes": [],
            "_model_module": "@jupyter-widgets/controls",
            "_model_module_version": "1.5.0",
            "_model_name": "FloatProgressModel",
            "_view_count": null,
            "_view_module": "@jupyter-widgets/controls",
            "_view_module_version": "1.5.0",
            "_view_name": "ProgressView",
            "bar_style": "success",
            "description": "",
            "description_tooltip": null,
            "layout": "IPY_MODEL_25fbfe5d06e145b99a1265f02038a9a8",
            "max": 37,
            "min": 0,
            "orientation": "horizontal",
            "style": "IPY_MODEL_242973ec8189432bb63fc48a4833f4f5",
            "value": 37
          }
        },
        "22e76db1c4eb44119b5b127ed928dd5e": {
          "model_module": "@jupyter-widgets/controls",
          "model_module_version": "1.5.0",
          "model_name": "HBoxModel",
          "state": {
            "_dom_classes": [],
            "_model_module": "@jupyter-widgets/controls",
            "_model_module_version": "1.5.0",
            "_model_name": "HBoxModel",
            "_view_count": null,
            "_view_module": "@jupyter-widgets/controls",
            "_view_module_version": "1.5.0",
            "_view_name": "HBoxView",
            "box_style": "",
            "children": [
              "IPY_MODEL_6ae8dff5955241719052aca675aa9b91",
              "IPY_MODEL_d2d9c4eb29ca4020bd8c3ae103b3618c",
              "IPY_MODEL_56e54b7cc080432f9b62a446ee06b34c"
            ],
            "layout": "IPY_MODEL_ae326aecd89f4437aa2c3d20a3c8950b"
          }
        },
        "233ff228be9e4fd5b3fd681d5efa4478": {
          "model_module": "@jupyter-widgets/controls",
          "model_module_version": "1.5.0",
          "model_name": "HTMLModel",
          "state": {
            "_dom_classes": [],
            "_model_module": "@jupyter-widgets/controls",
            "_model_module_version": "1.5.0",
            "_model_name": "HTMLModel",
            "_view_count": null,
            "_view_module": "@jupyter-widgets/controls",
            "_view_module_version": "1.5.0",
            "_view_name": "HTMLView",
            "description": "",
            "description_tooltip": null,
            "layout": "IPY_MODEL_12dec72733ad46578d41ff3ada905719",
            "placeholder": "​",
            "style": "IPY_MODEL_72ec75c8d8704b2aa2a60ac10a9e10d0",
            "value": " 5/5 [00:01&lt;00:00,  4.15it/s]"
          }
        },
        "242973ec8189432bb63fc48a4833f4f5": {
          "model_module": "@jupyter-widgets/controls",
          "model_module_version": "1.5.0",
          "model_name": "ProgressStyleModel",
          "state": {
            "_model_module": "@jupyter-widgets/controls",
            "_model_module_version": "1.5.0",
            "_model_name": "ProgressStyleModel",
            "_view_count": null,
            "_view_module": "@jupyter-widgets/base",
            "_view_module_version": "1.2.0",
            "_view_name": "StyleView",
            "bar_color": null,
            "description_width": ""
          }
        },
        "2483afae182f4b5eb88894a10c997fd5": {
          "model_module": "@jupyter-widgets/controls",
          "model_module_version": "1.5.0",
          "model_name": "DescriptionStyleModel",
          "state": {
            "_model_module": "@jupyter-widgets/controls",
            "_model_module_version": "1.5.0",
            "_model_name": "DescriptionStyleModel",
            "_view_count": null,
            "_view_module": "@jupyter-widgets/base",
            "_view_module_version": "1.2.0",
            "_view_name": "StyleView",
            "description_width": ""
          }
        },
        "24c53da83b004349be41ae1798a02ef1": {
          "model_module": "@jupyter-widgets/controls",
          "model_module_version": "1.5.0",
          "model_name": "FloatProgressModel",
          "state": {
            "_dom_classes": [],
            "_model_module": "@jupyter-widgets/controls",
            "_model_module_version": "1.5.0",
            "_model_name": "FloatProgressModel",
            "_view_count": null,
            "_view_module": "@jupyter-widgets/controls",
            "_view_module_version": "1.5.0",
            "_view_name": "ProgressView",
            "bar_style": "success",
            "description": "",
            "description_tooltip": null,
            "layout": "IPY_MODEL_b27e99c6f6234048a34e0eb9b400cb8d",
            "max": 5,
            "min": 0,
            "orientation": "horizontal",
            "style": "IPY_MODEL_ea4d380b22f54c199af86aa5fdcce186",
            "value": 5
          }
        },
        "24e8402b13ee4654a01e25d652e82993": {
          "model_module": "@jupyter-widgets/base",
          "model_module_version": "1.2.0",
          "model_name": "LayoutModel",
          "state": {
            "_model_module": "@jupyter-widgets/base",
            "_model_module_version": "1.2.0",
            "_model_name": "LayoutModel",
            "_view_count": null,
            "_view_module": "@jupyter-widgets/base",
            "_view_module_version": "1.2.0",
            "_view_name": "LayoutView",
            "align_content": null,
            "align_items": null,
            "align_self": null,
            "border": null,
            "bottom": null,
            "display": null,
            "flex": null,
            "flex_flow": null,
            "grid_area": null,
            "grid_auto_columns": null,
            "grid_auto_flow": null,
            "grid_auto_rows": null,
            "grid_column": null,
            "grid_gap": null,
            "grid_row": null,
            "grid_template_areas": null,
            "grid_template_columns": null,
            "grid_template_rows": null,
            "height": null,
            "justify_content": null,
            "justify_items": null,
            "left": null,
            "margin": null,
            "max_height": null,
            "max_width": null,
            "min_height": null,
            "min_width": null,
            "object_fit": null,
            "object_position": null,
            "order": null,
            "overflow": null,
            "overflow_x": null,
            "overflow_y": null,
            "padding": null,
            "right": null,
            "top": null,
            "visibility": null,
            "width": null
          }
        },
        "25b94b38f5f444cabaf1fab4ae0b85e7": {
          "model_module": "@jupyter-widgets/base",
          "model_module_version": "1.2.0",
          "model_name": "LayoutModel",
          "state": {
            "_model_module": "@jupyter-widgets/base",
            "_model_module_version": "1.2.0",
            "_model_name": "LayoutModel",
            "_view_count": null,
            "_view_module": "@jupyter-widgets/base",
            "_view_module_version": "1.2.0",
            "_view_name": "LayoutView",
            "align_content": null,
            "align_items": null,
            "align_self": null,
            "border": null,
            "bottom": null,
            "display": null,
            "flex": null,
            "flex_flow": null,
            "grid_area": null,
            "grid_auto_columns": null,
            "grid_auto_flow": null,
            "grid_auto_rows": null,
            "grid_column": null,
            "grid_gap": null,
            "grid_row": null,
            "grid_template_areas": null,
            "grid_template_columns": null,
            "grid_template_rows": null,
            "height": null,
            "justify_content": null,
            "justify_items": null,
            "left": null,
            "margin": null,
            "max_height": null,
            "max_width": null,
            "min_height": null,
            "min_width": null,
            "object_fit": null,
            "object_position": null,
            "order": null,
            "overflow": null,
            "overflow_x": null,
            "overflow_y": null,
            "padding": null,
            "right": null,
            "top": null,
            "visibility": null,
            "width": null
          }
        },
        "25fbfe5d06e145b99a1265f02038a9a8": {
          "model_module": "@jupyter-widgets/base",
          "model_module_version": "1.2.0",
          "model_name": "LayoutModel",
          "state": {
            "_model_module": "@jupyter-widgets/base",
            "_model_module_version": "1.2.0",
            "_model_name": "LayoutModel",
            "_view_count": null,
            "_view_module": "@jupyter-widgets/base",
            "_view_module_version": "1.2.0",
            "_view_name": "LayoutView",
            "align_content": null,
            "align_items": null,
            "align_self": null,
            "border": null,
            "bottom": null,
            "display": null,
            "flex": null,
            "flex_flow": null,
            "grid_area": null,
            "grid_auto_columns": null,
            "grid_auto_flow": null,
            "grid_auto_rows": null,
            "grid_column": null,
            "grid_gap": null,
            "grid_row": null,
            "grid_template_areas": null,
            "grid_template_columns": null,
            "grid_template_rows": null,
            "height": null,
            "justify_content": null,
            "justify_items": null,
            "left": null,
            "margin": null,
            "max_height": null,
            "max_width": null,
            "min_height": null,
            "min_width": null,
            "object_fit": null,
            "object_position": null,
            "order": null,
            "overflow": null,
            "overflow_x": null,
            "overflow_y": null,
            "padding": null,
            "right": null,
            "top": null,
            "visibility": null,
            "width": null
          }
        },
        "266658a1e39b4f099b8d48cd31b8cbc3": {
          "model_module": "@jupyter-widgets/controls",
          "model_module_version": "1.5.0",
          "model_name": "HTMLModel",
          "state": {
            "_dom_classes": [],
            "_model_module": "@jupyter-widgets/controls",
            "_model_module_version": "1.5.0",
            "_model_name": "HTMLModel",
            "_view_count": null,
            "_view_module": "@jupyter-widgets/controls",
            "_view_module_version": "1.5.0",
            "_view_name": "HTMLView",
            "description": "",
            "description_tooltip": null,
            "layout": "IPY_MODEL_51784dea0dac49339a0f354423860ca3",
            "placeholder": "​",
            "style": "IPY_MODEL_e8ba6ce1d3db449f8b713e3e5548dfe2",
            "value": " 37/37 [00:25&lt;00:00,  1.90it/s]"
          }
        },
        "26cbc3daaf5e4e9f8abe0b32c7576909": {
          "model_module": "@jupyter-widgets/controls",
          "model_module_version": "1.5.0",
          "model_name": "HTMLModel",
          "state": {
            "_dom_classes": [],
            "_model_module": "@jupyter-widgets/controls",
            "_model_module_version": "1.5.0",
            "_model_name": "HTMLModel",
            "_view_count": null,
            "_view_module": "@jupyter-widgets/controls",
            "_view_module_version": "1.5.0",
            "_view_name": "HTMLView",
            "description": "",
            "description_tooltip": null,
            "layout": "IPY_MODEL_5929adfda84e42c99d78c3d056244709",
            "placeholder": "​",
            "style": "IPY_MODEL_b78d445bc65f4d6895f2e4cd4bcfb7ca",
            "value": " 5/5 [00:01&lt;00:00,  4.13it/s]"
          }
        },
        "27be575647414d21afa27101b8e844bb": {
          "model_module": "@jupyter-widgets/base",
          "model_module_version": "1.2.0",
          "model_name": "LayoutModel",
          "state": {
            "_model_module": "@jupyter-widgets/base",
            "_model_module_version": "1.2.0",
            "_model_name": "LayoutModel",
            "_view_count": null,
            "_view_module": "@jupyter-widgets/base",
            "_view_module_version": "1.2.0",
            "_view_name": "LayoutView",
            "align_content": null,
            "align_items": null,
            "align_self": null,
            "border": null,
            "bottom": null,
            "display": null,
            "flex": null,
            "flex_flow": null,
            "grid_area": null,
            "grid_auto_columns": null,
            "grid_auto_flow": null,
            "grid_auto_rows": null,
            "grid_column": null,
            "grid_gap": null,
            "grid_row": null,
            "grid_template_areas": null,
            "grid_template_columns": null,
            "grid_template_rows": null,
            "height": null,
            "justify_content": null,
            "justify_items": null,
            "left": null,
            "margin": null,
            "max_height": null,
            "max_width": null,
            "min_height": null,
            "min_width": null,
            "object_fit": null,
            "object_position": null,
            "order": null,
            "overflow": null,
            "overflow_x": null,
            "overflow_y": null,
            "padding": null,
            "right": null,
            "top": null,
            "visibility": null,
            "width": null
          }
        },
        "293f8fa0366746429e18146577c981f1": {
          "model_module": "@jupyter-widgets/controls",
          "model_module_version": "1.5.0",
          "model_name": "ProgressStyleModel",
          "state": {
            "_model_module": "@jupyter-widgets/controls",
            "_model_module_version": "1.5.0",
            "_model_name": "ProgressStyleModel",
            "_view_count": null,
            "_view_module": "@jupyter-widgets/base",
            "_view_module_version": "1.2.0",
            "_view_name": "StyleView",
            "bar_color": null,
            "description_width": ""
          }
        },
        "2a92f72f8c7a40539679fbf6b9e99431": {
          "model_module": "@jupyter-widgets/base",
          "model_module_version": "1.2.0",
          "model_name": "LayoutModel",
          "state": {
            "_model_module": "@jupyter-widgets/base",
            "_model_module_version": "1.2.0",
            "_model_name": "LayoutModel",
            "_view_count": null,
            "_view_module": "@jupyter-widgets/base",
            "_view_module_version": "1.2.0",
            "_view_name": "LayoutView",
            "align_content": null,
            "align_items": null,
            "align_self": null,
            "border": null,
            "bottom": null,
            "display": null,
            "flex": null,
            "flex_flow": null,
            "grid_area": null,
            "grid_auto_columns": null,
            "grid_auto_flow": null,
            "grid_auto_rows": null,
            "grid_column": null,
            "grid_gap": null,
            "grid_row": null,
            "grid_template_areas": null,
            "grid_template_columns": null,
            "grid_template_rows": null,
            "height": null,
            "justify_content": null,
            "justify_items": null,
            "left": null,
            "margin": null,
            "max_height": null,
            "max_width": null,
            "min_height": null,
            "min_width": null,
            "object_fit": null,
            "object_position": null,
            "order": null,
            "overflow": null,
            "overflow_x": null,
            "overflow_y": null,
            "padding": null,
            "right": null,
            "top": null,
            "visibility": null,
            "width": null
          }
        },
        "2aef01e8019a4381ac18eb51c66f03df": {
          "model_module": "@jupyter-widgets/base",
          "model_module_version": "1.2.0",
          "model_name": "LayoutModel",
          "state": {
            "_model_module": "@jupyter-widgets/base",
            "_model_module_version": "1.2.0",
            "_model_name": "LayoutModel",
            "_view_count": null,
            "_view_module": "@jupyter-widgets/base",
            "_view_module_version": "1.2.0",
            "_view_name": "LayoutView",
            "align_content": null,
            "align_items": null,
            "align_self": null,
            "border": null,
            "bottom": null,
            "display": null,
            "flex": null,
            "flex_flow": null,
            "grid_area": null,
            "grid_auto_columns": null,
            "grid_auto_flow": null,
            "grid_auto_rows": null,
            "grid_column": null,
            "grid_gap": null,
            "grid_row": null,
            "grid_template_areas": null,
            "grid_template_columns": null,
            "grid_template_rows": null,
            "height": null,
            "justify_content": null,
            "justify_items": null,
            "left": null,
            "margin": null,
            "max_height": null,
            "max_width": null,
            "min_height": null,
            "min_width": null,
            "object_fit": null,
            "object_position": null,
            "order": null,
            "overflow": null,
            "overflow_x": null,
            "overflow_y": null,
            "padding": null,
            "right": null,
            "top": null,
            "visibility": null,
            "width": null
          }
        },
        "2b47b4854d8e4e6ea7cced20901c1aec": {
          "model_module": "@jupyter-widgets/base",
          "model_module_version": "1.2.0",
          "model_name": "LayoutModel",
          "state": {
            "_model_module": "@jupyter-widgets/base",
            "_model_module_version": "1.2.0",
            "_model_name": "LayoutModel",
            "_view_count": null,
            "_view_module": "@jupyter-widgets/base",
            "_view_module_version": "1.2.0",
            "_view_name": "LayoutView",
            "align_content": null,
            "align_items": null,
            "align_self": null,
            "border": null,
            "bottom": null,
            "display": null,
            "flex": null,
            "flex_flow": null,
            "grid_area": null,
            "grid_auto_columns": null,
            "grid_auto_flow": null,
            "grid_auto_rows": null,
            "grid_column": null,
            "grid_gap": null,
            "grid_row": null,
            "grid_template_areas": null,
            "grid_template_columns": null,
            "grid_template_rows": null,
            "height": null,
            "justify_content": null,
            "justify_items": null,
            "left": null,
            "margin": null,
            "max_height": null,
            "max_width": null,
            "min_height": null,
            "min_width": null,
            "object_fit": null,
            "object_position": null,
            "order": null,
            "overflow": null,
            "overflow_x": null,
            "overflow_y": null,
            "padding": null,
            "right": null,
            "top": null,
            "visibility": null,
            "width": null
          }
        },
        "2b588f6a56c141ed9ca77d7a926d86c0": {
          "model_module": "@jupyter-widgets/controls",
          "model_module_version": "1.5.0",
          "model_name": "HTMLModel",
          "state": {
            "_dom_classes": [],
            "_model_module": "@jupyter-widgets/controls",
            "_model_module_version": "1.5.0",
            "_model_name": "HTMLModel",
            "_view_count": null,
            "_view_module": "@jupyter-widgets/controls",
            "_view_module_version": "1.5.0",
            "_view_name": "HTMLView",
            "description": "",
            "description_tooltip": null,
            "layout": "IPY_MODEL_f13bf87fd7a6435c95c46ecec0501da2",
            "placeholder": "​",
            "style": "IPY_MODEL_5c5a06913433444c8353ef94633fc044",
            "value": "100%"
          }
        },
        "2ba32875064948d4bbea9e5292e95618": {
          "model_module": "@jupyter-widgets/base",
          "model_module_version": "1.2.0",
          "model_name": "LayoutModel",
          "state": {
            "_model_module": "@jupyter-widgets/base",
            "_model_module_version": "1.2.0",
            "_model_name": "LayoutModel",
            "_view_count": null,
            "_view_module": "@jupyter-widgets/base",
            "_view_module_version": "1.2.0",
            "_view_name": "LayoutView",
            "align_content": null,
            "align_items": null,
            "align_self": null,
            "border": null,
            "bottom": null,
            "display": null,
            "flex": null,
            "flex_flow": null,
            "grid_area": null,
            "grid_auto_columns": null,
            "grid_auto_flow": null,
            "grid_auto_rows": null,
            "grid_column": null,
            "grid_gap": null,
            "grid_row": null,
            "grid_template_areas": null,
            "grid_template_columns": null,
            "grid_template_rows": null,
            "height": null,
            "justify_content": null,
            "justify_items": null,
            "left": null,
            "margin": null,
            "max_height": null,
            "max_width": null,
            "min_height": null,
            "min_width": null,
            "object_fit": null,
            "object_position": null,
            "order": null,
            "overflow": null,
            "overflow_x": null,
            "overflow_y": null,
            "padding": null,
            "right": null,
            "top": null,
            "visibility": null,
            "width": null
          }
        },
        "2bb7c0b5c1ae4521b65720139b0e5979": {
          "model_module": "@jupyter-widgets/controls",
          "model_module_version": "1.5.0",
          "model_name": "DescriptionStyleModel",
          "state": {
            "_model_module": "@jupyter-widgets/controls",
            "_model_module_version": "1.5.0",
            "_model_name": "DescriptionStyleModel",
            "_view_count": null,
            "_view_module": "@jupyter-widgets/base",
            "_view_module_version": "1.2.0",
            "_view_name": "StyleView",
            "description_width": ""
          }
        },
        "2c01f72e985541ed81e2f93854b0fbd6": {
          "model_module": "@jupyter-widgets/base",
          "model_module_version": "1.2.0",
          "model_name": "LayoutModel",
          "state": {
            "_model_module": "@jupyter-widgets/base",
            "_model_module_version": "1.2.0",
            "_model_name": "LayoutModel",
            "_view_count": null,
            "_view_module": "@jupyter-widgets/base",
            "_view_module_version": "1.2.0",
            "_view_name": "LayoutView",
            "align_content": null,
            "align_items": null,
            "align_self": null,
            "border": null,
            "bottom": null,
            "display": null,
            "flex": null,
            "flex_flow": null,
            "grid_area": null,
            "grid_auto_columns": null,
            "grid_auto_flow": null,
            "grid_auto_rows": null,
            "grid_column": null,
            "grid_gap": null,
            "grid_row": null,
            "grid_template_areas": null,
            "grid_template_columns": null,
            "grid_template_rows": null,
            "height": null,
            "justify_content": null,
            "justify_items": null,
            "left": null,
            "margin": null,
            "max_height": null,
            "max_width": null,
            "min_height": null,
            "min_width": null,
            "object_fit": null,
            "object_position": null,
            "order": null,
            "overflow": null,
            "overflow_x": null,
            "overflow_y": null,
            "padding": null,
            "right": null,
            "top": null,
            "visibility": null,
            "width": null
          }
        },
        "2ceea09f2aa84ab3b03c76d63dd031c3": {
          "model_module": "@jupyter-widgets/base",
          "model_module_version": "1.2.0",
          "model_name": "LayoutModel",
          "state": {
            "_model_module": "@jupyter-widgets/base",
            "_model_module_version": "1.2.0",
            "_model_name": "LayoutModel",
            "_view_count": null,
            "_view_module": "@jupyter-widgets/base",
            "_view_module_version": "1.2.0",
            "_view_name": "LayoutView",
            "align_content": null,
            "align_items": null,
            "align_self": null,
            "border": null,
            "bottom": null,
            "display": null,
            "flex": null,
            "flex_flow": null,
            "grid_area": null,
            "grid_auto_columns": null,
            "grid_auto_flow": null,
            "grid_auto_rows": null,
            "grid_column": null,
            "grid_gap": null,
            "grid_row": null,
            "grid_template_areas": null,
            "grid_template_columns": null,
            "grid_template_rows": null,
            "height": null,
            "justify_content": null,
            "justify_items": null,
            "left": null,
            "margin": null,
            "max_height": null,
            "max_width": null,
            "min_height": null,
            "min_width": null,
            "object_fit": null,
            "object_position": null,
            "order": null,
            "overflow": null,
            "overflow_x": null,
            "overflow_y": null,
            "padding": null,
            "right": null,
            "top": null,
            "visibility": null,
            "width": null
          }
        },
        "2d1776673cec4adc84ea92c248b422d3": {
          "model_module": "@jupyter-widgets/base",
          "model_module_version": "1.2.0",
          "model_name": "LayoutModel",
          "state": {
            "_model_module": "@jupyter-widgets/base",
            "_model_module_version": "1.2.0",
            "_model_name": "LayoutModel",
            "_view_count": null,
            "_view_module": "@jupyter-widgets/base",
            "_view_module_version": "1.2.0",
            "_view_name": "LayoutView",
            "align_content": null,
            "align_items": null,
            "align_self": null,
            "border": null,
            "bottom": null,
            "display": null,
            "flex": null,
            "flex_flow": null,
            "grid_area": null,
            "grid_auto_columns": null,
            "grid_auto_flow": null,
            "grid_auto_rows": null,
            "grid_column": null,
            "grid_gap": null,
            "grid_row": null,
            "grid_template_areas": null,
            "grid_template_columns": null,
            "grid_template_rows": null,
            "height": null,
            "justify_content": null,
            "justify_items": null,
            "left": null,
            "margin": null,
            "max_height": null,
            "max_width": null,
            "min_height": null,
            "min_width": null,
            "object_fit": null,
            "object_position": null,
            "order": null,
            "overflow": null,
            "overflow_x": null,
            "overflow_y": null,
            "padding": null,
            "right": null,
            "top": null,
            "visibility": null,
            "width": null
          }
        },
        "2d1c9dafbd8d46778fbaa668a0b2886e": {
          "model_module": "@jupyter-widgets/controls",
          "model_module_version": "1.5.0",
          "model_name": "FloatProgressModel",
          "state": {
            "_dom_classes": [],
            "_model_module": "@jupyter-widgets/controls",
            "_model_module_version": "1.5.0",
            "_model_name": "FloatProgressModel",
            "_view_count": null,
            "_view_module": "@jupyter-widgets/controls",
            "_view_module_version": "1.5.0",
            "_view_name": "ProgressView",
            "bar_style": "success",
            "description": "",
            "description_tooltip": null,
            "layout": "IPY_MODEL_3eaaa75821934375920e3541b43bfb21",
            "max": 37,
            "min": 0,
            "orientation": "horizontal",
            "style": "IPY_MODEL_0993a14c60cb4d99bba2990ca03a647a",
            "value": 37
          }
        },
        "2d3899089b7748c4a64e812abb24d6dc": {
          "model_module": "@jupyter-widgets/controls",
          "model_module_version": "1.5.0",
          "model_name": "HTMLModel",
          "state": {
            "_dom_classes": [],
            "_model_module": "@jupyter-widgets/controls",
            "_model_module_version": "1.5.0",
            "_model_name": "HTMLModel",
            "_view_count": null,
            "_view_module": "@jupyter-widgets/controls",
            "_view_module_version": "1.5.0",
            "_view_name": "HTMLView",
            "description": "",
            "description_tooltip": null,
            "layout": "IPY_MODEL_25b94b38f5f444cabaf1fab4ae0b85e7",
            "placeholder": "​",
            "style": "IPY_MODEL_1d057dda8ff74f608b04a899712c0a57",
            "value": " 5/5 [00:01&lt;00:00,  4.09it/s]"
          }
        },
        "2d9344180c064661ba21494873e595f7": {
          "model_module": "@jupyter-widgets/controls",
          "model_module_version": "1.5.0",
          "model_name": "HBoxModel",
          "state": {
            "_dom_classes": [],
            "_model_module": "@jupyter-widgets/controls",
            "_model_module_version": "1.5.0",
            "_model_name": "HBoxModel",
            "_view_count": null,
            "_view_module": "@jupyter-widgets/controls",
            "_view_module_version": "1.5.0",
            "_view_name": "HBoxView",
            "box_style": "",
            "children": [
              "IPY_MODEL_2b588f6a56c141ed9ca77d7a926d86c0",
              "IPY_MODEL_da1d307742f447118e033eb83b084933",
              "IPY_MODEL_266658a1e39b4f099b8d48cd31b8cbc3"
            ],
            "layout": "IPY_MODEL_4862b69931e4493c8e2cfeb36ad203e6"
          }
        },
        "2e1623ce78b544a7934d67928159f0e5": {
          "model_module": "@jupyter-widgets/controls",
          "model_module_version": "1.5.0",
          "model_name": "FloatProgressModel",
          "state": {
            "_dom_classes": [],
            "_model_module": "@jupyter-widgets/controls",
            "_model_module_version": "1.5.0",
            "_model_name": "FloatProgressModel",
            "_view_count": null,
            "_view_module": "@jupyter-widgets/controls",
            "_view_module_version": "1.5.0",
            "_view_name": "ProgressView",
            "bar_style": "success",
            "description": "",
            "description_tooltip": null,
            "layout": "IPY_MODEL_a428a545dec64840a0b44c97d0254e81",
            "max": 37,
            "min": 0,
            "orientation": "horizontal",
            "style": "IPY_MODEL_bce4ca6cc5174c918b416daef4c9e41d",
            "value": 37
          }
        },
        "2f31b89771d448a9b605edc57b61fb9f": {
          "model_module": "@jupyter-widgets/controls",
          "model_module_version": "1.5.0",
          "model_name": "HTMLModel",
          "state": {
            "_dom_classes": [],
            "_model_module": "@jupyter-widgets/controls",
            "_model_module_version": "1.5.0",
            "_model_name": "HTMLModel",
            "_view_count": null,
            "_view_module": "@jupyter-widgets/controls",
            "_view_module_version": "1.5.0",
            "_view_name": "HTMLView",
            "description": "",
            "description_tooltip": null,
            "layout": "IPY_MODEL_fa49b62955d24795b8dcac0a3e5797b8",
            "placeholder": "​",
            "style": "IPY_MODEL_ffaad55cb90d44cfa7e22b5f6da9a635",
            "value": "100%"
          }
        },
        "2f84533ad19f4a87981df887b85709bc": {
          "model_module": "@jupyter-widgets/controls",
          "model_module_version": "1.5.0",
          "model_name": "HTMLModel",
          "state": {
            "_dom_classes": [],
            "_model_module": "@jupyter-widgets/controls",
            "_model_module_version": "1.5.0",
            "_model_name": "HTMLModel",
            "_view_count": null,
            "_view_module": "@jupyter-widgets/controls",
            "_view_module_version": "1.5.0",
            "_view_name": "HTMLView",
            "description": "",
            "description_tooltip": null,
            "layout": "IPY_MODEL_6b52727c343d480884883334f463d3c4",
            "placeholder": "​",
            "style": "IPY_MODEL_00de55608b4b476ca30c0988a9f8fe11",
            "value": "100%"
          }
        },
        "3008875106204778a1dabf91ee5b7683": {
          "model_module": "@jupyter-widgets/controls",
          "model_module_version": "1.5.0",
          "model_name": "HTMLModel",
          "state": {
            "_dom_classes": [],
            "_model_module": "@jupyter-widgets/controls",
            "_model_module_version": "1.5.0",
            "_model_name": "HTMLModel",
            "_view_count": null,
            "_view_module": "@jupyter-widgets/controls",
            "_view_module_version": "1.5.0",
            "_view_name": "HTMLView",
            "description": "",
            "description_tooltip": null,
            "layout": "IPY_MODEL_f1ddb511322346d18108f3e231664993",
            "placeholder": "​",
            "style": "IPY_MODEL_824e95b2f0124263a86186205a08f6aa",
            "value": " 37/37 [00:25&lt;00:00,  1.89it/s]"
          }
        },
        "33474490ddd749a7ba28815a7eec1e72": {
          "model_module": "@jupyter-widgets/base",
          "model_module_version": "1.2.0",
          "model_name": "LayoutModel",
          "state": {
            "_model_module": "@jupyter-widgets/base",
            "_model_module_version": "1.2.0",
            "_model_name": "LayoutModel",
            "_view_count": null,
            "_view_module": "@jupyter-widgets/base",
            "_view_module_version": "1.2.0",
            "_view_name": "LayoutView",
            "align_content": null,
            "align_items": null,
            "align_self": null,
            "border": null,
            "bottom": null,
            "display": null,
            "flex": null,
            "flex_flow": null,
            "grid_area": null,
            "grid_auto_columns": null,
            "grid_auto_flow": null,
            "grid_auto_rows": null,
            "grid_column": null,
            "grid_gap": null,
            "grid_row": null,
            "grid_template_areas": null,
            "grid_template_columns": null,
            "grid_template_rows": null,
            "height": null,
            "justify_content": null,
            "justify_items": null,
            "left": null,
            "margin": null,
            "max_height": null,
            "max_width": null,
            "min_height": null,
            "min_width": null,
            "object_fit": null,
            "object_position": null,
            "order": null,
            "overflow": null,
            "overflow_x": null,
            "overflow_y": null,
            "padding": null,
            "right": null,
            "top": null,
            "visibility": null,
            "width": null
          }
        },
        "34fc9876ef1b4f5e997d46e4ea975491": {
          "model_module": "@jupyter-widgets/controls",
          "model_module_version": "1.5.0",
          "model_name": "HTMLModel",
          "state": {
            "_dom_classes": [],
            "_model_module": "@jupyter-widgets/controls",
            "_model_module_version": "1.5.0",
            "_model_name": "HTMLModel",
            "_view_count": null,
            "_view_module": "@jupyter-widgets/controls",
            "_view_module_version": "1.5.0",
            "_view_name": "HTMLView",
            "description": "",
            "description_tooltip": null,
            "layout": "IPY_MODEL_93bad4b415fc49b780a45580530fcc44",
            "placeholder": "​",
            "style": "IPY_MODEL_a622069c9d8d434592ae00eb8f532d82",
            "value": "100%"
          }
        },
        "3569e60754a74cfebb5084e7f894df0c": {
          "model_module": "@jupyter-widgets/controls",
          "model_module_version": "1.5.0",
          "model_name": "ProgressStyleModel",
          "state": {
            "_model_module": "@jupyter-widgets/controls",
            "_model_module_version": "1.5.0",
            "_model_name": "ProgressStyleModel",
            "_view_count": null,
            "_view_module": "@jupyter-widgets/base",
            "_view_module_version": "1.2.0",
            "_view_name": "StyleView",
            "bar_color": null,
            "description_width": ""
          }
        },
        "3622d09d719840da8ddfc14a930bf781": {
          "model_module": "@jupyter-widgets/base",
          "model_module_version": "1.2.0",
          "model_name": "LayoutModel",
          "state": {
            "_model_module": "@jupyter-widgets/base",
            "_model_module_version": "1.2.0",
            "_model_name": "LayoutModel",
            "_view_count": null,
            "_view_module": "@jupyter-widgets/base",
            "_view_module_version": "1.2.0",
            "_view_name": "LayoutView",
            "align_content": null,
            "align_items": null,
            "align_self": null,
            "border": null,
            "bottom": null,
            "display": null,
            "flex": null,
            "flex_flow": null,
            "grid_area": null,
            "grid_auto_columns": null,
            "grid_auto_flow": null,
            "grid_auto_rows": null,
            "grid_column": null,
            "grid_gap": null,
            "grid_row": null,
            "grid_template_areas": null,
            "grid_template_columns": null,
            "grid_template_rows": null,
            "height": null,
            "justify_content": null,
            "justify_items": null,
            "left": null,
            "margin": null,
            "max_height": null,
            "max_width": null,
            "min_height": null,
            "min_width": null,
            "object_fit": null,
            "object_position": null,
            "order": null,
            "overflow": null,
            "overflow_x": null,
            "overflow_y": null,
            "padding": null,
            "right": null,
            "top": null,
            "visibility": null,
            "width": null
          }
        },
        "373cc6f1f086487ca06da891aa086985": {
          "model_module": "@jupyter-widgets/base",
          "model_module_version": "1.2.0",
          "model_name": "LayoutModel",
          "state": {
            "_model_module": "@jupyter-widgets/base",
            "_model_module_version": "1.2.0",
            "_model_name": "LayoutModel",
            "_view_count": null,
            "_view_module": "@jupyter-widgets/base",
            "_view_module_version": "1.2.0",
            "_view_name": "LayoutView",
            "align_content": null,
            "align_items": null,
            "align_self": null,
            "border": null,
            "bottom": null,
            "display": null,
            "flex": null,
            "flex_flow": null,
            "grid_area": null,
            "grid_auto_columns": null,
            "grid_auto_flow": null,
            "grid_auto_rows": null,
            "grid_column": null,
            "grid_gap": null,
            "grid_row": null,
            "grid_template_areas": null,
            "grid_template_columns": null,
            "grid_template_rows": null,
            "height": null,
            "justify_content": null,
            "justify_items": null,
            "left": null,
            "margin": null,
            "max_height": null,
            "max_width": null,
            "min_height": null,
            "min_width": null,
            "object_fit": null,
            "object_position": null,
            "order": null,
            "overflow": null,
            "overflow_x": null,
            "overflow_y": null,
            "padding": null,
            "right": null,
            "top": null,
            "visibility": null,
            "width": null
          }
        },
        "37468a4a6c344848a1be9d72c33a5313": {
          "model_module": "@jupyter-widgets/base",
          "model_module_version": "1.2.0",
          "model_name": "LayoutModel",
          "state": {
            "_model_module": "@jupyter-widgets/base",
            "_model_module_version": "1.2.0",
            "_model_name": "LayoutModel",
            "_view_count": null,
            "_view_module": "@jupyter-widgets/base",
            "_view_module_version": "1.2.0",
            "_view_name": "LayoutView",
            "align_content": null,
            "align_items": null,
            "align_self": null,
            "border": null,
            "bottom": null,
            "display": null,
            "flex": null,
            "flex_flow": null,
            "grid_area": null,
            "grid_auto_columns": null,
            "grid_auto_flow": null,
            "grid_auto_rows": null,
            "grid_column": null,
            "grid_gap": null,
            "grid_row": null,
            "grid_template_areas": null,
            "grid_template_columns": null,
            "grid_template_rows": null,
            "height": null,
            "justify_content": null,
            "justify_items": null,
            "left": null,
            "margin": null,
            "max_height": null,
            "max_width": null,
            "min_height": null,
            "min_width": null,
            "object_fit": null,
            "object_position": null,
            "order": null,
            "overflow": null,
            "overflow_x": null,
            "overflow_y": null,
            "padding": null,
            "right": null,
            "top": null,
            "visibility": null,
            "width": null
          }
        },
        "391c36e621b7436bab934f884b361275": {
          "model_module": "@jupyter-widgets/base",
          "model_module_version": "1.2.0",
          "model_name": "LayoutModel",
          "state": {
            "_model_module": "@jupyter-widgets/base",
            "_model_module_version": "1.2.0",
            "_model_name": "LayoutModel",
            "_view_count": null,
            "_view_module": "@jupyter-widgets/base",
            "_view_module_version": "1.2.0",
            "_view_name": "LayoutView",
            "align_content": null,
            "align_items": null,
            "align_self": null,
            "border": null,
            "bottom": null,
            "display": null,
            "flex": null,
            "flex_flow": null,
            "grid_area": null,
            "grid_auto_columns": null,
            "grid_auto_flow": null,
            "grid_auto_rows": null,
            "grid_column": null,
            "grid_gap": null,
            "grid_row": null,
            "grid_template_areas": null,
            "grid_template_columns": null,
            "grid_template_rows": null,
            "height": null,
            "justify_content": null,
            "justify_items": null,
            "left": null,
            "margin": null,
            "max_height": null,
            "max_width": null,
            "min_height": null,
            "min_width": null,
            "object_fit": null,
            "object_position": null,
            "order": null,
            "overflow": null,
            "overflow_x": null,
            "overflow_y": null,
            "padding": null,
            "right": null,
            "top": null,
            "visibility": null,
            "width": null
          }
        },
        "3928b68916394f22aca604a9b68e3324": {
          "model_module": "@jupyter-widgets/controls",
          "model_module_version": "1.5.0",
          "model_name": "FloatProgressModel",
          "state": {
            "_dom_classes": [],
            "_model_module": "@jupyter-widgets/controls",
            "_model_module_version": "1.5.0",
            "_model_name": "FloatProgressModel",
            "_view_count": null,
            "_view_module": "@jupyter-widgets/controls",
            "_view_module_version": "1.5.0",
            "_view_name": "ProgressView",
            "bar_style": "success",
            "description": "",
            "description_tooltip": null,
            "layout": "IPY_MODEL_2a92f72f8c7a40539679fbf6b9e99431",
            "max": 5,
            "min": 0,
            "orientation": "horizontal",
            "style": "IPY_MODEL_1e46a7049e2f4f6abe489118c64a9575",
            "value": 5
          }
        },
        "3950c2c32c2a499a8f9ecf9a03270c8a": {
          "model_module": "@jupyter-widgets/controls",
          "model_module_version": "1.5.0",
          "model_name": "DescriptionStyleModel",
          "state": {
            "_model_module": "@jupyter-widgets/controls",
            "_model_module_version": "1.5.0",
            "_model_name": "DescriptionStyleModel",
            "_view_count": null,
            "_view_module": "@jupyter-widgets/base",
            "_view_module_version": "1.2.0",
            "_view_name": "StyleView",
            "description_width": ""
          }
        },
        "39b5481451a24261a68c72f2f9b6c291": {
          "model_module": "@jupyter-widgets/controls",
          "model_module_version": "1.5.0",
          "model_name": "HTMLModel",
          "state": {
            "_dom_classes": [],
            "_model_module": "@jupyter-widgets/controls",
            "_model_module_version": "1.5.0",
            "_model_name": "HTMLModel",
            "_view_count": null,
            "_view_module": "@jupyter-widgets/controls",
            "_view_module_version": "1.5.0",
            "_view_name": "HTMLView",
            "description": "",
            "description_tooltip": null,
            "layout": "IPY_MODEL_deacbaaad35a4eb48c3bde6ef19a8777",
            "placeholder": "​",
            "style": "IPY_MODEL_18d25e35e62e4f45b2123a2281cd258d",
            "value": "100%"
          }
        },
        "3a04ff3f8e30490fa018ff8c71072b6f": {
          "model_module": "@jupyter-widgets/base",
          "model_module_version": "1.2.0",
          "model_name": "LayoutModel",
          "state": {
            "_model_module": "@jupyter-widgets/base",
            "_model_module_version": "1.2.0",
            "_model_name": "LayoutModel",
            "_view_count": null,
            "_view_module": "@jupyter-widgets/base",
            "_view_module_version": "1.2.0",
            "_view_name": "LayoutView",
            "align_content": null,
            "align_items": null,
            "align_self": null,
            "border": null,
            "bottom": null,
            "display": null,
            "flex": null,
            "flex_flow": null,
            "grid_area": null,
            "grid_auto_columns": null,
            "grid_auto_flow": null,
            "grid_auto_rows": null,
            "grid_column": null,
            "grid_gap": null,
            "grid_row": null,
            "grid_template_areas": null,
            "grid_template_columns": null,
            "grid_template_rows": null,
            "height": null,
            "justify_content": null,
            "justify_items": null,
            "left": null,
            "margin": null,
            "max_height": null,
            "max_width": null,
            "min_height": null,
            "min_width": null,
            "object_fit": null,
            "object_position": null,
            "order": null,
            "overflow": null,
            "overflow_x": null,
            "overflow_y": null,
            "padding": null,
            "right": null,
            "top": null,
            "visibility": null,
            "width": null
          }
        },
        "3acf1288d1984cefa0f760becdeba9ba": {
          "model_module": "@jupyter-widgets/controls",
          "model_module_version": "1.5.0",
          "model_name": "HTMLModel",
          "state": {
            "_dom_classes": [],
            "_model_module": "@jupyter-widgets/controls",
            "_model_module_version": "1.5.0",
            "_model_name": "HTMLModel",
            "_view_count": null,
            "_view_module": "@jupyter-widgets/controls",
            "_view_module_version": "1.5.0",
            "_view_name": "HTMLView",
            "description": "",
            "description_tooltip": null,
            "layout": "IPY_MODEL_67cc37770af54233a516553e6777c647",
            "placeholder": "​",
            "style": "IPY_MODEL_18e6ec2dfc7046bfa0806964000ed42a",
            "value": "100%"
          }
        },
        "3b3e0ed46f6d443984497b9004f43e4d": {
          "model_module": "@jupyter-widgets/controls",
          "model_module_version": "1.5.0",
          "model_name": "HTMLModel",
          "state": {
            "_dom_classes": [],
            "_model_module": "@jupyter-widgets/controls",
            "_model_module_version": "1.5.0",
            "_model_name": "HTMLModel",
            "_view_count": null,
            "_view_module": "@jupyter-widgets/controls",
            "_view_module_version": "1.5.0",
            "_view_name": "HTMLView",
            "description": "",
            "description_tooltip": null,
            "layout": "IPY_MODEL_81e39f4863974b1aa2804ca56bc8400e",
            "placeholder": "​",
            "style": "IPY_MODEL_51da38b491da42b5a6dc0385e08042ea",
            "value": " 37/37 [00:25&lt;00:00,  1.89it/s]"
          }
        },
        "3c7ffab7645947228e7056369e5d9548": {
          "model_module": "@jupyter-widgets/controls",
          "model_module_version": "1.5.0",
          "model_name": "HTMLModel",
          "state": {
            "_dom_classes": [],
            "_model_module": "@jupyter-widgets/controls",
            "_model_module_version": "1.5.0",
            "_model_name": "HTMLModel",
            "_view_count": null,
            "_view_module": "@jupyter-widgets/controls",
            "_view_module_version": "1.5.0",
            "_view_name": "HTMLView",
            "description": "",
            "description_tooltip": null,
            "layout": "IPY_MODEL_8c5af8534b81461a941dd37d55a995ab",
            "placeholder": "​",
            "style": "IPY_MODEL_3950c2c32c2a499a8f9ecf9a03270c8a",
            "value": "100%"
          }
        },
        "3cb2c1b7d06145efac85778212af6e25": {
          "model_module": "@jupyter-widgets/base",
          "model_module_version": "1.2.0",
          "model_name": "LayoutModel",
          "state": {
            "_model_module": "@jupyter-widgets/base",
            "_model_module_version": "1.2.0",
            "_model_name": "LayoutModel",
            "_view_count": null,
            "_view_module": "@jupyter-widgets/base",
            "_view_module_version": "1.2.0",
            "_view_name": "LayoutView",
            "align_content": null,
            "align_items": null,
            "align_self": null,
            "border": null,
            "bottom": null,
            "display": null,
            "flex": null,
            "flex_flow": null,
            "grid_area": null,
            "grid_auto_columns": null,
            "grid_auto_flow": null,
            "grid_auto_rows": null,
            "grid_column": null,
            "grid_gap": null,
            "grid_row": null,
            "grid_template_areas": null,
            "grid_template_columns": null,
            "grid_template_rows": null,
            "height": null,
            "justify_content": null,
            "justify_items": null,
            "left": null,
            "margin": null,
            "max_height": null,
            "max_width": null,
            "min_height": null,
            "min_width": null,
            "object_fit": null,
            "object_position": null,
            "order": null,
            "overflow": null,
            "overflow_x": null,
            "overflow_y": null,
            "padding": null,
            "right": null,
            "top": null,
            "visibility": null,
            "width": null
          }
        },
        "3d19bad849914010a6c4d45c99ebd5b5": {
          "model_module": "@jupyter-widgets/base",
          "model_module_version": "1.2.0",
          "model_name": "LayoutModel",
          "state": {
            "_model_module": "@jupyter-widgets/base",
            "_model_module_version": "1.2.0",
            "_model_name": "LayoutModel",
            "_view_count": null,
            "_view_module": "@jupyter-widgets/base",
            "_view_module_version": "1.2.0",
            "_view_name": "LayoutView",
            "align_content": null,
            "align_items": null,
            "align_self": null,
            "border": null,
            "bottom": null,
            "display": null,
            "flex": null,
            "flex_flow": null,
            "grid_area": null,
            "grid_auto_columns": null,
            "grid_auto_flow": null,
            "grid_auto_rows": null,
            "grid_column": null,
            "grid_gap": null,
            "grid_row": null,
            "grid_template_areas": null,
            "grid_template_columns": null,
            "grid_template_rows": null,
            "height": null,
            "justify_content": null,
            "justify_items": null,
            "left": null,
            "margin": null,
            "max_height": null,
            "max_width": null,
            "min_height": null,
            "min_width": null,
            "object_fit": null,
            "object_position": null,
            "order": null,
            "overflow": null,
            "overflow_x": null,
            "overflow_y": null,
            "padding": null,
            "right": null,
            "top": null,
            "visibility": null,
            "width": null
          }
        },
        "3d63ee394e264eab993e2b358c709b06": {
          "model_module": "@jupyter-widgets/base",
          "model_module_version": "1.2.0",
          "model_name": "LayoutModel",
          "state": {
            "_model_module": "@jupyter-widgets/base",
            "_model_module_version": "1.2.0",
            "_model_name": "LayoutModel",
            "_view_count": null,
            "_view_module": "@jupyter-widgets/base",
            "_view_module_version": "1.2.0",
            "_view_name": "LayoutView",
            "align_content": null,
            "align_items": null,
            "align_self": null,
            "border": null,
            "bottom": null,
            "display": null,
            "flex": null,
            "flex_flow": null,
            "grid_area": null,
            "grid_auto_columns": null,
            "grid_auto_flow": null,
            "grid_auto_rows": null,
            "grid_column": null,
            "grid_gap": null,
            "grid_row": null,
            "grid_template_areas": null,
            "grid_template_columns": null,
            "grid_template_rows": null,
            "height": null,
            "justify_content": null,
            "justify_items": null,
            "left": null,
            "margin": null,
            "max_height": null,
            "max_width": null,
            "min_height": null,
            "min_width": null,
            "object_fit": null,
            "object_position": null,
            "order": null,
            "overflow": null,
            "overflow_x": null,
            "overflow_y": null,
            "padding": null,
            "right": null,
            "top": null,
            "visibility": null,
            "width": null
          }
        },
        "3eaaa75821934375920e3541b43bfb21": {
          "model_module": "@jupyter-widgets/base",
          "model_module_version": "1.2.0",
          "model_name": "LayoutModel",
          "state": {
            "_model_module": "@jupyter-widgets/base",
            "_model_module_version": "1.2.0",
            "_model_name": "LayoutModel",
            "_view_count": null,
            "_view_module": "@jupyter-widgets/base",
            "_view_module_version": "1.2.0",
            "_view_name": "LayoutView",
            "align_content": null,
            "align_items": null,
            "align_self": null,
            "border": null,
            "bottom": null,
            "display": null,
            "flex": null,
            "flex_flow": null,
            "grid_area": null,
            "grid_auto_columns": null,
            "grid_auto_flow": null,
            "grid_auto_rows": null,
            "grid_column": null,
            "grid_gap": null,
            "grid_row": null,
            "grid_template_areas": null,
            "grid_template_columns": null,
            "grid_template_rows": null,
            "height": null,
            "justify_content": null,
            "justify_items": null,
            "left": null,
            "margin": null,
            "max_height": null,
            "max_width": null,
            "min_height": null,
            "min_width": null,
            "object_fit": null,
            "object_position": null,
            "order": null,
            "overflow": null,
            "overflow_x": null,
            "overflow_y": null,
            "padding": null,
            "right": null,
            "top": null,
            "visibility": null,
            "width": null
          }
        },
        "3ed7cac34ef543568613de4004da6d1d": {
          "model_module": "@jupyter-widgets/controls",
          "model_module_version": "1.5.0",
          "model_name": "DescriptionStyleModel",
          "state": {
            "_model_module": "@jupyter-widgets/controls",
            "_model_module_version": "1.5.0",
            "_model_name": "DescriptionStyleModel",
            "_view_count": null,
            "_view_module": "@jupyter-widgets/base",
            "_view_module_version": "1.2.0",
            "_view_name": "StyleView",
            "description_width": ""
          }
        },
        "3ef233530ad345949747fad95e06a261": {
          "model_module": "@jupyter-widgets/base",
          "model_module_version": "1.2.0",
          "model_name": "LayoutModel",
          "state": {
            "_model_module": "@jupyter-widgets/base",
            "_model_module_version": "1.2.0",
            "_model_name": "LayoutModel",
            "_view_count": null,
            "_view_module": "@jupyter-widgets/base",
            "_view_module_version": "1.2.0",
            "_view_name": "LayoutView",
            "align_content": null,
            "align_items": null,
            "align_self": null,
            "border": null,
            "bottom": null,
            "display": null,
            "flex": null,
            "flex_flow": null,
            "grid_area": null,
            "grid_auto_columns": null,
            "grid_auto_flow": null,
            "grid_auto_rows": null,
            "grid_column": null,
            "grid_gap": null,
            "grid_row": null,
            "grid_template_areas": null,
            "grid_template_columns": null,
            "grid_template_rows": null,
            "height": null,
            "justify_content": null,
            "justify_items": null,
            "left": null,
            "margin": null,
            "max_height": null,
            "max_width": null,
            "min_height": null,
            "min_width": null,
            "object_fit": null,
            "object_position": null,
            "order": null,
            "overflow": null,
            "overflow_x": null,
            "overflow_y": null,
            "padding": null,
            "right": null,
            "top": null,
            "visibility": null,
            "width": null
          }
        },
        "407188fb22c14dee8d984a35b0506379": {
          "model_module": "@jupyter-widgets/controls",
          "model_module_version": "1.5.0",
          "model_name": "FloatProgressModel",
          "state": {
            "_dom_classes": [],
            "_model_module": "@jupyter-widgets/controls",
            "_model_module_version": "1.5.0",
            "_model_name": "FloatProgressModel",
            "_view_count": null,
            "_view_module": "@jupyter-widgets/controls",
            "_view_module_version": "1.5.0",
            "_view_name": "ProgressView",
            "bar_style": "success",
            "description": "",
            "description_tooltip": null,
            "layout": "IPY_MODEL_a17512405bf945e3b4b6ab580afef0a1",
            "max": 37,
            "min": 0,
            "orientation": "horizontal",
            "style": "IPY_MODEL_293f8fa0366746429e18146577c981f1",
            "value": 37
          }
        },
        "40a43231f3e846d1864b9e9adedd4ac1": {
          "model_module": "@jupyter-widgets/controls",
          "model_module_version": "1.5.0",
          "model_name": "HTMLModel",
          "state": {
            "_dom_classes": [],
            "_model_module": "@jupyter-widgets/controls",
            "_model_module_version": "1.5.0",
            "_model_name": "HTMLModel",
            "_view_count": null,
            "_view_module": "@jupyter-widgets/controls",
            "_view_module_version": "1.5.0",
            "_view_name": "HTMLView",
            "description": "",
            "description_tooltip": null,
            "layout": "IPY_MODEL_818e01a80ff94700b08c9e3760eb4cea",
            "placeholder": "​",
            "style": "IPY_MODEL_ca9bc3b4128e49a4b024bc2079082f3d",
            "value": "100%"
          }
        },
        "421a469217204aad9eccb66856ba3257": {
          "model_module": "@jupyter-widgets/base",
          "model_module_version": "1.2.0",
          "model_name": "LayoutModel",
          "state": {
            "_model_module": "@jupyter-widgets/base",
            "_model_module_version": "1.2.0",
            "_model_name": "LayoutModel",
            "_view_count": null,
            "_view_module": "@jupyter-widgets/base",
            "_view_module_version": "1.2.0",
            "_view_name": "LayoutView",
            "align_content": null,
            "align_items": null,
            "align_self": null,
            "border": null,
            "bottom": null,
            "display": null,
            "flex": null,
            "flex_flow": null,
            "grid_area": null,
            "grid_auto_columns": null,
            "grid_auto_flow": null,
            "grid_auto_rows": null,
            "grid_column": null,
            "grid_gap": null,
            "grid_row": null,
            "grid_template_areas": null,
            "grid_template_columns": null,
            "grid_template_rows": null,
            "height": null,
            "justify_content": null,
            "justify_items": null,
            "left": null,
            "margin": null,
            "max_height": null,
            "max_width": null,
            "min_height": null,
            "min_width": null,
            "object_fit": null,
            "object_position": null,
            "order": null,
            "overflow": null,
            "overflow_x": null,
            "overflow_y": null,
            "padding": null,
            "right": null,
            "top": null,
            "visibility": null,
            "width": null
          }
        },
        "4221863965cc449a8850f689f084c2a4": {
          "model_module": "@jupyter-widgets/controls",
          "model_module_version": "1.5.0",
          "model_name": "HBoxModel",
          "state": {
            "_dom_classes": [],
            "_model_module": "@jupyter-widgets/controls",
            "_model_module_version": "1.5.0",
            "_model_name": "HBoxModel",
            "_view_count": null,
            "_view_module": "@jupyter-widgets/controls",
            "_view_module_version": "1.5.0",
            "_view_name": "HBoxView",
            "box_style": "",
            "children": [
              "IPY_MODEL_3acf1288d1984cefa0f760becdeba9ba",
              "IPY_MODEL_68b35456500e463c8c4620e3d5c35026",
              "IPY_MODEL_aaf036a92c754086a17048f2eadbc36d"
            ],
            "layout": "IPY_MODEL_2b47b4854d8e4e6ea7cced20901c1aec"
          }
        },
        "42544fc5e11448abaf45b0a8ac6ae01a": {
          "model_module": "@jupyter-widgets/controls",
          "model_module_version": "1.5.0",
          "model_name": "HBoxModel",
          "state": {
            "_dom_classes": [],
            "_model_module": "@jupyter-widgets/controls",
            "_model_module_version": "1.5.0",
            "_model_name": "HBoxModel",
            "_view_count": null,
            "_view_module": "@jupyter-widgets/controls",
            "_view_module_version": "1.5.0",
            "_view_name": "HBoxView",
            "box_style": "",
            "children": [
              "IPY_MODEL_b5a231c2dc484f53b5bc3f1590647f78",
              "IPY_MODEL_b6e34770e13c4fcdb051094a2f865ec7",
              "IPY_MODEL_b844dfdb3b1644a5b59f1f16a9b4a994"
            ],
            "layout": "IPY_MODEL_4d008551aadf4292b7ffa80561abf797"
          }
        },
        "42983301604b4a44bc6bc7803b758c91": {
          "model_module": "@jupyter-widgets/base",
          "model_module_version": "1.2.0",
          "model_name": "LayoutModel",
          "state": {
            "_model_module": "@jupyter-widgets/base",
            "_model_module_version": "1.2.0",
            "_model_name": "LayoutModel",
            "_view_count": null,
            "_view_module": "@jupyter-widgets/base",
            "_view_module_version": "1.2.0",
            "_view_name": "LayoutView",
            "align_content": null,
            "align_items": null,
            "align_self": null,
            "border": null,
            "bottom": null,
            "display": null,
            "flex": null,
            "flex_flow": null,
            "grid_area": null,
            "grid_auto_columns": null,
            "grid_auto_flow": null,
            "grid_auto_rows": null,
            "grid_column": null,
            "grid_gap": null,
            "grid_row": null,
            "grid_template_areas": null,
            "grid_template_columns": null,
            "grid_template_rows": null,
            "height": null,
            "justify_content": null,
            "justify_items": null,
            "left": null,
            "margin": null,
            "max_height": null,
            "max_width": null,
            "min_height": null,
            "min_width": null,
            "object_fit": null,
            "object_position": null,
            "order": null,
            "overflow": null,
            "overflow_x": null,
            "overflow_y": null,
            "padding": null,
            "right": null,
            "top": null,
            "visibility": null,
            "width": null
          }
        },
        "445a970c2fba44e893fedbc1559eb613": {
          "model_module": "@jupyter-widgets/controls",
          "model_module_version": "1.5.0",
          "model_name": "DescriptionStyleModel",
          "state": {
            "_model_module": "@jupyter-widgets/controls",
            "_model_module_version": "1.5.0",
            "_model_name": "DescriptionStyleModel",
            "_view_count": null,
            "_view_module": "@jupyter-widgets/base",
            "_view_module_version": "1.2.0",
            "_view_name": "StyleView",
            "description_width": ""
          }
        },
        "445d409c68bd40279a272233a3ef0af8": {
          "model_module": "@jupyter-widgets/controls",
          "model_module_version": "1.5.0",
          "model_name": "HBoxModel",
          "state": {
            "_dom_classes": [],
            "_model_module": "@jupyter-widgets/controls",
            "_model_module_version": "1.5.0",
            "_model_name": "HBoxModel",
            "_view_count": null,
            "_view_module": "@jupyter-widgets/controls",
            "_view_module_version": "1.5.0",
            "_view_name": "HBoxView",
            "box_style": "",
            "children": [
              "IPY_MODEL_60467c4a801f4ae7bf084b8a7339f6ce",
              "IPY_MODEL_e02dd1d4a30949ebbefdf142222d42aa",
              "IPY_MODEL_3008875106204778a1dabf91ee5b7683"
            ],
            "layout": "IPY_MODEL_1f95915671574dedb11c2adbff1bccbd"
          }
        },
        "44724d09de384370b63fb26c36276cb0": {
          "model_module": "@jupyter-widgets/controls",
          "model_module_version": "1.5.0",
          "model_name": "HTMLModel",
          "state": {
            "_dom_classes": [],
            "_model_module": "@jupyter-widgets/controls",
            "_model_module_version": "1.5.0",
            "_model_name": "HTMLModel",
            "_view_count": null,
            "_view_module": "@jupyter-widgets/controls",
            "_view_module_version": "1.5.0",
            "_view_name": "HTMLView",
            "description": "",
            "description_tooltip": null,
            "layout": "IPY_MODEL_1423c246316f4209927e47699122e396",
            "placeholder": "​",
            "style": "IPY_MODEL_a31a9b5515274381ae556130b456b2d4",
            "value": " 5/5 [00:01&lt;00:00,  4.19it/s]"
          }
        },
        "45881798c32c42509933d7781703e389": {
          "model_module": "@jupyter-widgets/controls",
          "model_module_version": "1.5.0",
          "model_name": "ProgressStyleModel",
          "state": {
            "_model_module": "@jupyter-widgets/controls",
            "_model_module_version": "1.5.0",
            "_model_name": "ProgressStyleModel",
            "_view_count": null,
            "_view_module": "@jupyter-widgets/base",
            "_view_module_version": "1.2.0",
            "_view_name": "StyleView",
            "bar_color": null,
            "description_width": ""
          }
        },
        "459bcaf0668a418a909c3f6c486b67a7": {
          "model_module": "@jupyter-widgets/controls",
          "model_module_version": "1.5.0",
          "model_name": "ProgressStyleModel",
          "state": {
            "_model_module": "@jupyter-widgets/controls",
            "_model_module_version": "1.5.0",
            "_model_name": "ProgressStyleModel",
            "_view_count": null,
            "_view_module": "@jupyter-widgets/base",
            "_view_module_version": "1.2.0",
            "_view_name": "StyleView",
            "bar_color": null,
            "description_width": ""
          }
        },
        "459eb3f50dcd487dbf848d76670a7483": {
          "model_module": "@jupyter-widgets/controls",
          "model_module_version": "1.5.0",
          "model_name": "DescriptionStyleModel",
          "state": {
            "_model_module": "@jupyter-widgets/controls",
            "_model_module_version": "1.5.0",
            "_model_name": "DescriptionStyleModel",
            "_view_count": null,
            "_view_module": "@jupyter-widgets/base",
            "_view_module_version": "1.2.0",
            "_view_name": "StyleView",
            "description_width": ""
          }
        },
        "4685ee1c7af34428b748e2c13420946a": {
          "model_module": "@jupyter-widgets/controls",
          "model_module_version": "1.5.0",
          "model_name": "DescriptionStyleModel",
          "state": {
            "_model_module": "@jupyter-widgets/controls",
            "_model_module_version": "1.5.0",
            "_model_name": "DescriptionStyleModel",
            "_view_count": null,
            "_view_module": "@jupyter-widgets/base",
            "_view_module_version": "1.2.0",
            "_view_name": "StyleView",
            "description_width": ""
          }
        },
        "4741a9f08309419984788bc6e562b904": {
          "model_module": "@jupyter-widgets/base",
          "model_module_version": "1.2.0",
          "model_name": "LayoutModel",
          "state": {
            "_model_module": "@jupyter-widgets/base",
            "_model_module_version": "1.2.0",
            "_model_name": "LayoutModel",
            "_view_count": null,
            "_view_module": "@jupyter-widgets/base",
            "_view_module_version": "1.2.0",
            "_view_name": "LayoutView",
            "align_content": null,
            "align_items": null,
            "align_self": null,
            "border": null,
            "bottom": null,
            "display": null,
            "flex": null,
            "flex_flow": null,
            "grid_area": null,
            "grid_auto_columns": null,
            "grid_auto_flow": null,
            "grid_auto_rows": null,
            "grid_column": null,
            "grid_gap": null,
            "grid_row": null,
            "grid_template_areas": null,
            "grid_template_columns": null,
            "grid_template_rows": null,
            "height": null,
            "justify_content": null,
            "justify_items": null,
            "left": null,
            "margin": null,
            "max_height": null,
            "max_width": null,
            "min_height": null,
            "min_width": null,
            "object_fit": null,
            "object_position": null,
            "order": null,
            "overflow": null,
            "overflow_x": null,
            "overflow_y": null,
            "padding": null,
            "right": null,
            "top": null,
            "visibility": null,
            "width": null
          }
        },
        "4862b69931e4493c8e2cfeb36ad203e6": {
          "model_module": "@jupyter-widgets/base",
          "model_module_version": "1.2.0",
          "model_name": "LayoutModel",
          "state": {
            "_model_module": "@jupyter-widgets/base",
            "_model_module_version": "1.2.0",
            "_model_name": "LayoutModel",
            "_view_count": null,
            "_view_module": "@jupyter-widgets/base",
            "_view_module_version": "1.2.0",
            "_view_name": "LayoutView",
            "align_content": null,
            "align_items": null,
            "align_self": null,
            "border": null,
            "bottom": null,
            "display": null,
            "flex": null,
            "flex_flow": null,
            "grid_area": null,
            "grid_auto_columns": null,
            "grid_auto_flow": null,
            "grid_auto_rows": null,
            "grid_column": null,
            "grid_gap": null,
            "grid_row": null,
            "grid_template_areas": null,
            "grid_template_columns": null,
            "grid_template_rows": null,
            "height": null,
            "justify_content": null,
            "justify_items": null,
            "left": null,
            "margin": null,
            "max_height": null,
            "max_width": null,
            "min_height": null,
            "min_width": null,
            "object_fit": null,
            "object_position": null,
            "order": null,
            "overflow": null,
            "overflow_x": null,
            "overflow_y": null,
            "padding": null,
            "right": null,
            "top": null,
            "visibility": null,
            "width": null
          }
        },
        "48cf827847b54dc3a5eedc1faef0601a": {
          "model_module": "@jupyter-widgets/controls",
          "model_module_version": "1.5.0",
          "model_name": "DescriptionStyleModel",
          "state": {
            "_model_module": "@jupyter-widgets/controls",
            "_model_module_version": "1.5.0",
            "_model_name": "DescriptionStyleModel",
            "_view_count": null,
            "_view_module": "@jupyter-widgets/base",
            "_view_module_version": "1.2.0",
            "_view_name": "StyleView",
            "description_width": ""
          }
        },
        "496d1167b90245cc815aff0d894bdb08": {
          "model_module": "@jupyter-widgets/controls",
          "model_module_version": "1.5.0",
          "model_name": "HTMLModel",
          "state": {
            "_dom_classes": [],
            "_model_module": "@jupyter-widgets/controls",
            "_model_module_version": "1.5.0",
            "_model_name": "HTMLModel",
            "_view_count": null,
            "_view_module": "@jupyter-widgets/controls",
            "_view_module_version": "1.5.0",
            "_view_name": "HTMLView",
            "description": "",
            "description_tooltip": null,
            "layout": "IPY_MODEL_b1d837e1d95c4a0080ebbb290965437a",
            "placeholder": "​",
            "style": "IPY_MODEL_db0e849353cb492899916ed540fc1627",
            "value": "100%"
          }
        },
        "4a6a918bbefb4e9595acc68157088196": {
          "model_module": "@jupyter-widgets/controls",
          "model_module_version": "1.5.0",
          "model_name": "HTMLModel",
          "state": {
            "_dom_classes": [],
            "_model_module": "@jupyter-widgets/controls",
            "_model_module_version": "1.5.0",
            "_model_name": "HTMLModel",
            "_view_count": null,
            "_view_module": "@jupyter-widgets/controls",
            "_view_module_version": "1.5.0",
            "_view_name": "HTMLView",
            "description": "",
            "description_tooltip": null,
            "layout": "IPY_MODEL_33474490ddd749a7ba28815a7eec1e72",
            "placeholder": "​",
            "style": "IPY_MODEL_c237a5d829ca4ff2853f729c23480dab",
            "value": " 37/37 [00:25&lt;00:00,  1.91it/s]"
          }
        },
        "4a6b087b1fd748fd907911e148fe35a0": {
          "model_module": "@jupyter-widgets/controls",
          "model_module_version": "1.5.0",
          "model_name": "HTMLModel",
          "state": {
            "_dom_classes": [],
            "_model_module": "@jupyter-widgets/controls",
            "_model_module_version": "1.5.0",
            "_model_name": "HTMLModel",
            "_view_count": null,
            "_view_module": "@jupyter-widgets/controls",
            "_view_module_version": "1.5.0",
            "_view_name": "HTMLView",
            "description": "",
            "description_tooltip": null,
            "layout": "IPY_MODEL_2c01f72e985541ed81e2f93854b0fbd6",
            "placeholder": "​",
            "style": "IPY_MODEL_82864a1c9a0f48a3b3611cab45f82fbd",
            "value": "100%"
          }
        },
        "4a6e990c7c414b2d8c224f828848f64f": {
          "model_module": "@jupyter-widgets/controls",
          "model_module_version": "1.5.0",
          "model_name": "HBoxModel",
          "state": {
            "_dom_classes": [],
            "_model_module": "@jupyter-widgets/controls",
            "_model_module_version": "1.5.0",
            "_model_name": "HBoxModel",
            "_view_count": null,
            "_view_module": "@jupyter-widgets/controls",
            "_view_module_version": "1.5.0",
            "_view_name": "HBoxView",
            "box_style": "",
            "children": [
              "IPY_MODEL_f13e920cd52e4907a92465f6e826e2c3",
              "IPY_MODEL_7614bbd4363f4630a7c09818b187ffe8",
              "IPY_MODEL_9c97cd4da58c439b82ce05e4a0eaa527"
            ],
            "layout": "IPY_MODEL_74c3be53c5444ba9985f3ff14b29d83a"
          }
        },
        "4b006230c1ca4d78beae68fdcb06529b": {
          "model_module": "@jupyter-widgets/controls",
          "model_module_version": "1.5.0",
          "model_name": "HTMLModel",
          "state": {
            "_dom_classes": [],
            "_model_module": "@jupyter-widgets/controls",
            "_model_module_version": "1.5.0",
            "_model_name": "HTMLModel",
            "_view_count": null,
            "_view_module": "@jupyter-widgets/controls",
            "_view_module_version": "1.5.0",
            "_view_name": "HTMLView",
            "description": "",
            "description_tooltip": null,
            "layout": "IPY_MODEL_0964093bcb1a477ca666c424e84e3d43",
            "placeholder": "​",
            "style": "IPY_MODEL_6d5ddc7bd63c481887e968ff503af538",
            "value": " 37/37 [00:25&lt;00:00,  1.88it/s]"
          }
        },
        "4be4ad052e784051ba37d790aef146f1": {
          "model_module": "@jupyter-widgets/base",
          "model_module_version": "1.2.0",
          "model_name": "LayoutModel",
          "state": {
            "_model_module": "@jupyter-widgets/base",
            "_model_module_version": "1.2.0",
            "_model_name": "LayoutModel",
            "_view_count": null,
            "_view_module": "@jupyter-widgets/base",
            "_view_module_version": "1.2.0",
            "_view_name": "LayoutView",
            "align_content": null,
            "align_items": null,
            "align_self": null,
            "border": null,
            "bottom": null,
            "display": null,
            "flex": null,
            "flex_flow": null,
            "grid_area": null,
            "grid_auto_columns": null,
            "grid_auto_flow": null,
            "grid_auto_rows": null,
            "grid_column": null,
            "grid_gap": null,
            "grid_row": null,
            "grid_template_areas": null,
            "grid_template_columns": null,
            "grid_template_rows": null,
            "height": null,
            "justify_content": null,
            "justify_items": null,
            "left": null,
            "margin": null,
            "max_height": null,
            "max_width": null,
            "min_height": null,
            "min_width": null,
            "object_fit": null,
            "object_position": null,
            "order": null,
            "overflow": null,
            "overflow_x": null,
            "overflow_y": null,
            "padding": null,
            "right": null,
            "top": null,
            "visibility": null,
            "width": null
          }
        },
        "4c8cba566a7d431c81697cab450f45b6": {
          "model_module": "@jupyter-widgets/controls",
          "model_module_version": "1.5.0",
          "model_name": "HTMLModel",
          "state": {
            "_dom_classes": [],
            "_model_module": "@jupyter-widgets/controls",
            "_model_module_version": "1.5.0",
            "_model_name": "HTMLModel",
            "_view_count": null,
            "_view_module": "@jupyter-widgets/controls",
            "_view_module_version": "1.5.0",
            "_view_name": "HTMLView",
            "description": "",
            "description_tooltip": null,
            "layout": "IPY_MODEL_2ceea09f2aa84ab3b03c76d63dd031c3",
            "placeholder": "​",
            "style": "IPY_MODEL_d1f6573f01314276b465650fcc975adb",
            "value": "100%"
          }
        },
        "4cf5fa119e7e43169d8102001b775448": {
          "model_module": "@jupyter-widgets/controls",
          "model_module_version": "1.5.0",
          "model_name": "HBoxModel",
          "state": {
            "_dom_classes": [],
            "_model_module": "@jupyter-widgets/controls",
            "_model_module_version": "1.5.0",
            "_model_name": "HBoxModel",
            "_view_count": null,
            "_view_module": "@jupyter-widgets/controls",
            "_view_module_version": "1.5.0",
            "_view_name": "HBoxView",
            "box_style": "",
            "children": [
              "IPY_MODEL_cd7d53baf46e4249b502ee7edcfb51ca",
              "IPY_MODEL_78c5f60c230543bd9e81c0274639fe40",
              "IPY_MODEL_8c190f9038474a74971c2440f58d94cd"
            ],
            "layout": "IPY_MODEL_619c73d035614b779b8f59e4414635c8"
          }
        },
        "4d008551aadf4292b7ffa80561abf797": {
          "model_module": "@jupyter-widgets/base",
          "model_module_version": "1.2.0",
          "model_name": "LayoutModel",
          "state": {
            "_model_module": "@jupyter-widgets/base",
            "_model_module_version": "1.2.0",
            "_model_name": "LayoutModel",
            "_view_count": null,
            "_view_module": "@jupyter-widgets/base",
            "_view_module_version": "1.2.0",
            "_view_name": "LayoutView",
            "align_content": null,
            "align_items": null,
            "align_self": null,
            "border": null,
            "bottom": null,
            "display": null,
            "flex": null,
            "flex_flow": null,
            "grid_area": null,
            "grid_auto_columns": null,
            "grid_auto_flow": null,
            "grid_auto_rows": null,
            "grid_column": null,
            "grid_gap": null,
            "grid_row": null,
            "grid_template_areas": null,
            "grid_template_columns": null,
            "grid_template_rows": null,
            "height": null,
            "justify_content": null,
            "justify_items": null,
            "left": null,
            "margin": null,
            "max_height": null,
            "max_width": null,
            "min_height": null,
            "min_width": null,
            "object_fit": null,
            "object_position": null,
            "order": null,
            "overflow": null,
            "overflow_x": null,
            "overflow_y": null,
            "padding": null,
            "right": null,
            "top": null,
            "visibility": null,
            "width": null
          }
        },
        "4d400b57beb14f3fa1a155c2cfede552": {
          "model_module": "@jupyter-widgets/base",
          "model_module_version": "1.2.0",
          "model_name": "LayoutModel",
          "state": {
            "_model_module": "@jupyter-widgets/base",
            "_model_module_version": "1.2.0",
            "_model_name": "LayoutModel",
            "_view_count": null,
            "_view_module": "@jupyter-widgets/base",
            "_view_module_version": "1.2.0",
            "_view_name": "LayoutView",
            "align_content": null,
            "align_items": null,
            "align_self": null,
            "border": null,
            "bottom": null,
            "display": null,
            "flex": null,
            "flex_flow": null,
            "grid_area": null,
            "grid_auto_columns": null,
            "grid_auto_flow": null,
            "grid_auto_rows": null,
            "grid_column": null,
            "grid_gap": null,
            "grid_row": null,
            "grid_template_areas": null,
            "grid_template_columns": null,
            "grid_template_rows": null,
            "height": null,
            "justify_content": null,
            "justify_items": null,
            "left": null,
            "margin": null,
            "max_height": null,
            "max_width": null,
            "min_height": null,
            "min_width": null,
            "object_fit": null,
            "object_position": null,
            "order": null,
            "overflow": null,
            "overflow_x": null,
            "overflow_y": null,
            "padding": null,
            "right": null,
            "top": null,
            "visibility": null,
            "width": null
          }
        },
        "4db1fc784b3343c98665a82d4ba6a9c6": {
          "model_module": "@jupyter-widgets/controls",
          "model_module_version": "1.5.0",
          "model_name": "HBoxModel",
          "state": {
            "_dom_classes": [],
            "_model_module": "@jupyter-widgets/controls",
            "_model_module_version": "1.5.0",
            "_model_name": "HBoxModel",
            "_view_count": null,
            "_view_module": "@jupyter-widgets/controls",
            "_view_module_version": "1.5.0",
            "_view_name": "HBoxView",
            "box_style": "",
            "children": [
              "IPY_MODEL_4c8cba566a7d431c81697cab450f45b6",
              "IPY_MODEL_576d8a0aa61e4d2b984284e1b6a4d779",
              "IPY_MODEL_f0cb4ddddb394212b36780a635dfdb17"
            ],
            "layout": "IPY_MODEL_3a04ff3f8e30490fa018ff8c71072b6f"
          }
        },
        "4e1c04a7d50b4a849f7c814bcf6f2e04": {
          "model_module": "@jupyter-widgets/base",
          "model_module_version": "1.2.0",
          "model_name": "LayoutModel",
          "state": {
            "_model_module": "@jupyter-widgets/base",
            "_model_module_version": "1.2.0",
            "_model_name": "LayoutModel",
            "_view_count": null,
            "_view_module": "@jupyter-widgets/base",
            "_view_module_version": "1.2.0",
            "_view_name": "LayoutView",
            "align_content": null,
            "align_items": null,
            "align_self": null,
            "border": null,
            "bottom": null,
            "display": null,
            "flex": null,
            "flex_flow": null,
            "grid_area": null,
            "grid_auto_columns": null,
            "grid_auto_flow": null,
            "grid_auto_rows": null,
            "grid_column": null,
            "grid_gap": null,
            "grid_row": null,
            "grid_template_areas": null,
            "grid_template_columns": null,
            "grid_template_rows": null,
            "height": null,
            "justify_content": null,
            "justify_items": null,
            "left": null,
            "margin": null,
            "max_height": null,
            "max_width": null,
            "min_height": null,
            "min_width": null,
            "object_fit": null,
            "object_position": null,
            "order": null,
            "overflow": null,
            "overflow_x": null,
            "overflow_y": null,
            "padding": null,
            "right": null,
            "top": null,
            "visibility": null,
            "width": null
          }
        },
        "4e30b3fe8eba4fe8be8374592e4e69bd": {
          "model_module": "@jupyter-widgets/base",
          "model_module_version": "1.2.0",
          "model_name": "LayoutModel",
          "state": {
            "_model_module": "@jupyter-widgets/base",
            "_model_module_version": "1.2.0",
            "_model_name": "LayoutModel",
            "_view_count": null,
            "_view_module": "@jupyter-widgets/base",
            "_view_module_version": "1.2.0",
            "_view_name": "LayoutView",
            "align_content": null,
            "align_items": null,
            "align_self": null,
            "border": null,
            "bottom": null,
            "display": null,
            "flex": null,
            "flex_flow": null,
            "grid_area": null,
            "grid_auto_columns": null,
            "grid_auto_flow": null,
            "grid_auto_rows": null,
            "grid_column": null,
            "grid_gap": null,
            "grid_row": null,
            "grid_template_areas": null,
            "grid_template_columns": null,
            "grid_template_rows": null,
            "height": null,
            "justify_content": null,
            "justify_items": null,
            "left": null,
            "margin": null,
            "max_height": null,
            "max_width": null,
            "min_height": null,
            "min_width": null,
            "object_fit": null,
            "object_position": null,
            "order": null,
            "overflow": null,
            "overflow_x": null,
            "overflow_y": null,
            "padding": null,
            "right": null,
            "top": null,
            "visibility": null,
            "width": null
          }
        },
        "4ed1d475a9954548b58e17eafda6aba6": {
          "model_module": "@jupyter-widgets/base",
          "model_module_version": "1.2.0",
          "model_name": "LayoutModel",
          "state": {
            "_model_module": "@jupyter-widgets/base",
            "_model_module_version": "1.2.0",
            "_model_name": "LayoutModel",
            "_view_count": null,
            "_view_module": "@jupyter-widgets/base",
            "_view_module_version": "1.2.0",
            "_view_name": "LayoutView",
            "align_content": null,
            "align_items": null,
            "align_self": null,
            "border": null,
            "bottom": null,
            "display": null,
            "flex": null,
            "flex_flow": null,
            "grid_area": null,
            "grid_auto_columns": null,
            "grid_auto_flow": null,
            "grid_auto_rows": null,
            "grid_column": null,
            "grid_gap": null,
            "grid_row": null,
            "grid_template_areas": null,
            "grid_template_columns": null,
            "grid_template_rows": null,
            "height": null,
            "justify_content": null,
            "justify_items": null,
            "left": null,
            "margin": null,
            "max_height": null,
            "max_width": null,
            "min_height": null,
            "min_width": null,
            "object_fit": null,
            "object_position": null,
            "order": null,
            "overflow": null,
            "overflow_x": null,
            "overflow_y": null,
            "padding": null,
            "right": null,
            "top": null,
            "visibility": null,
            "width": null
          }
        },
        "4f794698ca864679bbe45c0b3127ef32": {
          "model_module": "@jupyter-widgets/controls",
          "model_module_version": "1.5.0",
          "model_name": "DescriptionStyleModel",
          "state": {
            "_model_module": "@jupyter-widgets/controls",
            "_model_module_version": "1.5.0",
            "_model_name": "DescriptionStyleModel",
            "_view_count": null,
            "_view_module": "@jupyter-widgets/base",
            "_view_module_version": "1.2.0",
            "_view_name": "StyleView",
            "description_width": ""
          }
        },
        "508518572d2a46589074609d0966361b": {
          "model_module": "@jupyter-widgets/controls",
          "model_module_version": "1.5.0",
          "model_name": "DescriptionStyleModel",
          "state": {
            "_model_module": "@jupyter-widgets/controls",
            "_model_module_version": "1.5.0",
            "_model_name": "DescriptionStyleModel",
            "_view_count": null,
            "_view_module": "@jupyter-widgets/base",
            "_view_module_version": "1.2.0",
            "_view_name": "StyleView",
            "description_width": ""
          }
        },
        "51784dea0dac49339a0f354423860ca3": {
          "model_module": "@jupyter-widgets/base",
          "model_module_version": "1.2.0",
          "model_name": "LayoutModel",
          "state": {
            "_model_module": "@jupyter-widgets/base",
            "_model_module_version": "1.2.0",
            "_model_name": "LayoutModel",
            "_view_count": null,
            "_view_module": "@jupyter-widgets/base",
            "_view_module_version": "1.2.0",
            "_view_name": "LayoutView",
            "align_content": null,
            "align_items": null,
            "align_self": null,
            "border": null,
            "bottom": null,
            "display": null,
            "flex": null,
            "flex_flow": null,
            "grid_area": null,
            "grid_auto_columns": null,
            "grid_auto_flow": null,
            "grid_auto_rows": null,
            "grid_column": null,
            "grid_gap": null,
            "grid_row": null,
            "grid_template_areas": null,
            "grid_template_columns": null,
            "grid_template_rows": null,
            "height": null,
            "justify_content": null,
            "justify_items": null,
            "left": null,
            "margin": null,
            "max_height": null,
            "max_width": null,
            "min_height": null,
            "min_width": null,
            "object_fit": null,
            "object_position": null,
            "order": null,
            "overflow": null,
            "overflow_x": null,
            "overflow_y": null,
            "padding": null,
            "right": null,
            "top": null,
            "visibility": null,
            "width": null
          }
        },
        "51ad6976702346c897a562fb97b556ef": {
          "model_module": "@jupyter-widgets/base",
          "model_module_version": "1.2.0",
          "model_name": "LayoutModel",
          "state": {
            "_model_module": "@jupyter-widgets/base",
            "_model_module_version": "1.2.0",
            "_model_name": "LayoutModel",
            "_view_count": null,
            "_view_module": "@jupyter-widgets/base",
            "_view_module_version": "1.2.0",
            "_view_name": "LayoutView",
            "align_content": null,
            "align_items": null,
            "align_self": null,
            "border": null,
            "bottom": null,
            "display": null,
            "flex": null,
            "flex_flow": null,
            "grid_area": null,
            "grid_auto_columns": null,
            "grid_auto_flow": null,
            "grid_auto_rows": null,
            "grid_column": null,
            "grid_gap": null,
            "grid_row": null,
            "grid_template_areas": null,
            "grid_template_columns": null,
            "grid_template_rows": null,
            "height": null,
            "justify_content": null,
            "justify_items": null,
            "left": null,
            "margin": null,
            "max_height": null,
            "max_width": null,
            "min_height": null,
            "min_width": null,
            "object_fit": null,
            "object_position": null,
            "order": null,
            "overflow": null,
            "overflow_x": null,
            "overflow_y": null,
            "padding": null,
            "right": null,
            "top": null,
            "visibility": null,
            "width": null
          }
        },
        "51cb087c80334577af8dae4b7441f519": {
          "model_module": "@jupyter-widgets/controls",
          "model_module_version": "1.5.0",
          "model_name": "DescriptionStyleModel",
          "state": {
            "_model_module": "@jupyter-widgets/controls",
            "_model_module_version": "1.5.0",
            "_model_name": "DescriptionStyleModel",
            "_view_count": null,
            "_view_module": "@jupyter-widgets/base",
            "_view_module_version": "1.2.0",
            "_view_name": "StyleView",
            "description_width": ""
          }
        },
        "51da38b491da42b5a6dc0385e08042ea": {
          "model_module": "@jupyter-widgets/controls",
          "model_module_version": "1.5.0",
          "model_name": "DescriptionStyleModel",
          "state": {
            "_model_module": "@jupyter-widgets/controls",
            "_model_module_version": "1.5.0",
            "_model_name": "DescriptionStyleModel",
            "_view_count": null,
            "_view_module": "@jupyter-widgets/base",
            "_view_module_version": "1.2.0",
            "_view_name": "StyleView",
            "description_width": ""
          }
        },
        "5446ddd3d4414b8b9afb0ac441328c5c": {
          "model_module": "@jupyter-widgets/controls",
          "model_module_version": "1.5.0",
          "model_name": "DescriptionStyleModel",
          "state": {
            "_model_module": "@jupyter-widgets/controls",
            "_model_module_version": "1.5.0",
            "_model_name": "DescriptionStyleModel",
            "_view_count": null,
            "_view_module": "@jupyter-widgets/base",
            "_view_module_version": "1.2.0",
            "_view_name": "StyleView",
            "description_width": ""
          }
        },
        "55a93ef638264fa2a47efd58d6c2eb68": {
          "model_module": "@jupyter-widgets/base",
          "model_module_version": "1.2.0",
          "model_name": "LayoutModel",
          "state": {
            "_model_module": "@jupyter-widgets/base",
            "_model_module_version": "1.2.0",
            "_model_name": "LayoutModel",
            "_view_count": null,
            "_view_module": "@jupyter-widgets/base",
            "_view_module_version": "1.2.0",
            "_view_name": "LayoutView",
            "align_content": null,
            "align_items": null,
            "align_self": null,
            "border": null,
            "bottom": null,
            "display": null,
            "flex": null,
            "flex_flow": null,
            "grid_area": null,
            "grid_auto_columns": null,
            "grid_auto_flow": null,
            "grid_auto_rows": null,
            "grid_column": null,
            "grid_gap": null,
            "grid_row": null,
            "grid_template_areas": null,
            "grid_template_columns": null,
            "grid_template_rows": null,
            "height": null,
            "justify_content": null,
            "justify_items": null,
            "left": null,
            "margin": null,
            "max_height": null,
            "max_width": null,
            "min_height": null,
            "min_width": null,
            "object_fit": null,
            "object_position": null,
            "order": null,
            "overflow": null,
            "overflow_x": null,
            "overflow_y": null,
            "padding": null,
            "right": null,
            "top": null,
            "visibility": null,
            "width": null
          }
        },
        "56e54b7cc080432f9b62a446ee06b34c": {
          "model_module": "@jupyter-widgets/controls",
          "model_module_version": "1.5.0",
          "model_name": "HTMLModel",
          "state": {
            "_dom_classes": [],
            "_model_module": "@jupyter-widgets/controls",
            "_model_module_version": "1.5.0",
            "_model_name": "HTMLModel",
            "_view_count": null,
            "_view_module": "@jupyter-widgets/controls",
            "_view_module_version": "1.5.0",
            "_view_name": "HTMLView",
            "description": "",
            "description_tooltip": null,
            "layout": "IPY_MODEL_056ad315c0d84d0483faa6bc3bcc67b8",
            "placeholder": "​",
            "style": "IPY_MODEL_e22dc7adf34d4db485ed3139ca8ae262",
            "value": " 5/5 [00:01&lt;00:00,  4.17it/s]"
          }
        },
        "576d8a0aa61e4d2b984284e1b6a4d779": {
          "model_module": "@jupyter-widgets/controls",
          "model_module_version": "1.5.0",
          "model_name": "FloatProgressModel",
          "state": {
            "_dom_classes": [],
            "_model_module": "@jupyter-widgets/controls",
            "_model_module_version": "1.5.0",
            "_model_name": "FloatProgressModel",
            "_view_count": null,
            "_view_module": "@jupyter-widgets/controls",
            "_view_module_version": "1.5.0",
            "_view_name": "ProgressView",
            "bar_style": "success",
            "description": "",
            "description_tooltip": null,
            "layout": "IPY_MODEL_ee8f9199b58641f3bae191e531f42abe",
            "max": 5,
            "min": 0,
            "orientation": "horizontal",
            "style": "IPY_MODEL_632b465feb154de387bfe9aabf5aca36",
            "value": 5
          }
        },
        "5929adfda84e42c99d78c3d056244709": {
          "model_module": "@jupyter-widgets/base",
          "model_module_version": "1.2.0",
          "model_name": "LayoutModel",
          "state": {
            "_model_module": "@jupyter-widgets/base",
            "_model_module_version": "1.2.0",
            "_model_name": "LayoutModel",
            "_view_count": null,
            "_view_module": "@jupyter-widgets/base",
            "_view_module_version": "1.2.0",
            "_view_name": "LayoutView",
            "align_content": null,
            "align_items": null,
            "align_self": null,
            "border": null,
            "bottom": null,
            "display": null,
            "flex": null,
            "flex_flow": null,
            "grid_area": null,
            "grid_auto_columns": null,
            "grid_auto_flow": null,
            "grid_auto_rows": null,
            "grid_column": null,
            "grid_gap": null,
            "grid_row": null,
            "grid_template_areas": null,
            "grid_template_columns": null,
            "grid_template_rows": null,
            "height": null,
            "justify_content": null,
            "justify_items": null,
            "left": null,
            "margin": null,
            "max_height": null,
            "max_width": null,
            "min_height": null,
            "min_width": null,
            "object_fit": null,
            "object_position": null,
            "order": null,
            "overflow": null,
            "overflow_x": null,
            "overflow_y": null,
            "padding": null,
            "right": null,
            "top": null,
            "visibility": null,
            "width": null
          }
        },
        "592b2305dff1496186a4dd9652feefeb": {
          "model_module": "@jupyter-widgets/controls",
          "model_module_version": "1.5.0",
          "model_name": "DescriptionStyleModel",
          "state": {
            "_model_module": "@jupyter-widgets/controls",
            "_model_module_version": "1.5.0",
            "_model_name": "DescriptionStyleModel",
            "_view_count": null,
            "_view_module": "@jupyter-widgets/base",
            "_view_module_version": "1.2.0",
            "_view_name": "StyleView",
            "description_width": ""
          }
        },
        "5c5a06913433444c8353ef94633fc044": {
          "model_module": "@jupyter-widgets/controls",
          "model_module_version": "1.5.0",
          "model_name": "DescriptionStyleModel",
          "state": {
            "_model_module": "@jupyter-widgets/controls",
            "_model_module_version": "1.5.0",
            "_model_name": "DescriptionStyleModel",
            "_view_count": null,
            "_view_module": "@jupyter-widgets/base",
            "_view_module_version": "1.2.0",
            "_view_name": "StyleView",
            "description_width": ""
          }
        },
        "5d63b8c311cd420f859176225e61c37a": {
          "model_module": "@jupyter-widgets/controls",
          "model_module_version": "1.5.0",
          "model_name": "DescriptionStyleModel",
          "state": {
            "_model_module": "@jupyter-widgets/controls",
            "_model_module_version": "1.5.0",
            "_model_name": "DescriptionStyleModel",
            "_view_count": null,
            "_view_module": "@jupyter-widgets/base",
            "_view_module_version": "1.2.0",
            "_view_name": "StyleView",
            "description_width": ""
          }
        },
        "5dafdcab8aad4386a45b527b4799b85d": {
          "model_module": "@jupyter-widgets/controls",
          "model_module_version": "1.5.0",
          "model_name": "DescriptionStyleModel",
          "state": {
            "_model_module": "@jupyter-widgets/controls",
            "_model_module_version": "1.5.0",
            "_model_name": "DescriptionStyleModel",
            "_view_count": null,
            "_view_module": "@jupyter-widgets/base",
            "_view_module_version": "1.2.0",
            "_view_name": "StyleView",
            "description_width": ""
          }
        },
        "5e9930fb60e1427b9934d5a7846d68db": {
          "model_module": "@jupyter-widgets/base",
          "model_module_version": "1.2.0",
          "model_name": "LayoutModel",
          "state": {
            "_model_module": "@jupyter-widgets/base",
            "_model_module_version": "1.2.0",
            "_model_name": "LayoutModel",
            "_view_count": null,
            "_view_module": "@jupyter-widgets/base",
            "_view_module_version": "1.2.0",
            "_view_name": "LayoutView",
            "align_content": null,
            "align_items": null,
            "align_self": null,
            "border": null,
            "bottom": null,
            "display": null,
            "flex": null,
            "flex_flow": null,
            "grid_area": null,
            "grid_auto_columns": null,
            "grid_auto_flow": null,
            "grid_auto_rows": null,
            "grid_column": null,
            "grid_gap": null,
            "grid_row": null,
            "grid_template_areas": null,
            "grid_template_columns": null,
            "grid_template_rows": null,
            "height": null,
            "justify_content": null,
            "justify_items": null,
            "left": null,
            "margin": null,
            "max_height": null,
            "max_width": null,
            "min_height": null,
            "min_width": null,
            "object_fit": null,
            "object_position": null,
            "order": null,
            "overflow": null,
            "overflow_x": null,
            "overflow_y": null,
            "padding": null,
            "right": null,
            "top": null,
            "visibility": null,
            "width": null
          }
        },
        "5ed1fac6ea3a441ead259e84595b821a": {
          "model_module": "@jupyter-widgets/controls",
          "model_module_version": "1.5.0",
          "model_name": "DescriptionStyleModel",
          "state": {
            "_model_module": "@jupyter-widgets/controls",
            "_model_module_version": "1.5.0",
            "_model_name": "DescriptionStyleModel",
            "_view_count": null,
            "_view_module": "@jupyter-widgets/base",
            "_view_module_version": "1.2.0",
            "_view_name": "StyleView",
            "description_width": ""
          }
        },
        "5f5ac6d2ef2a4c6cb03832ef1cdecf73": {
          "model_module": "@jupyter-widgets/controls",
          "model_module_version": "1.5.0",
          "model_name": "HTMLModel",
          "state": {
            "_dom_classes": [],
            "_model_module": "@jupyter-widgets/controls",
            "_model_module_version": "1.5.0",
            "_model_name": "HTMLModel",
            "_view_count": null,
            "_view_module": "@jupyter-widgets/controls",
            "_view_module_version": "1.5.0",
            "_view_name": "HTMLView",
            "description": "",
            "description_tooltip": null,
            "layout": "IPY_MODEL_f7b0229f96434410b075cf9ad9997adc",
            "placeholder": "​",
            "style": "IPY_MODEL_8df0e0bed5ed4684894b22752b5f02b1",
            "value": " 5/5 [00:01&lt;00:00,  4.10it/s]"
          }
        },
        "5fcce067acf143aab118fee1c63148c2": {
          "model_module": "@jupyter-widgets/base",
          "model_module_version": "1.2.0",
          "model_name": "LayoutModel",
          "state": {
            "_model_module": "@jupyter-widgets/base",
            "_model_module_version": "1.2.0",
            "_model_name": "LayoutModel",
            "_view_count": null,
            "_view_module": "@jupyter-widgets/base",
            "_view_module_version": "1.2.0",
            "_view_name": "LayoutView",
            "align_content": null,
            "align_items": null,
            "align_self": null,
            "border": null,
            "bottom": null,
            "display": null,
            "flex": null,
            "flex_flow": null,
            "grid_area": null,
            "grid_auto_columns": null,
            "grid_auto_flow": null,
            "grid_auto_rows": null,
            "grid_column": null,
            "grid_gap": null,
            "grid_row": null,
            "grid_template_areas": null,
            "grid_template_columns": null,
            "grid_template_rows": null,
            "height": null,
            "justify_content": null,
            "justify_items": null,
            "left": null,
            "margin": null,
            "max_height": null,
            "max_width": null,
            "min_height": null,
            "min_width": null,
            "object_fit": null,
            "object_position": null,
            "order": null,
            "overflow": null,
            "overflow_x": null,
            "overflow_y": null,
            "padding": null,
            "right": null,
            "top": null,
            "visibility": null,
            "width": null
          }
        },
        "60467c4a801f4ae7bf084b8a7339f6ce": {
          "model_module": "@jupyter-widgets/controls",
          "model_module_version": "1.5.0",
          "model_name": "HTMLModel",
          "state": {
            "_dom_classes": [],
            "_model_module": "@jupyter-widgets/controls",
            "_model_module_version": "1.5.0",
            "_model_name": "HTMLModel",
            "_view_count": null,
            "_view_module": "@jupyter-widgets/controls",
            "_view_module_version": "1.5.0",
            "_view_name": "HTMLView",
            "description": "",
            "description_tooltip": null,
            "layout": "IPY_MODEL_42983301604b4a44bc6bc7803b758c91",
            "placeholder": "​",
            "style": "IPY_MODEL_2483afae182f4b5eb88894a10c997fd5",
            "value": "100%"
          }
        },
        "6051416676a64096a7bd232cc1dc2417": {
          "model_module": "@jupyter-widgets/base",
          "model_module_version": "1.2.0",
          "model_name": "LayoutModel",
          "state": {
            "_model_module": "@jupyter-widgets/base",
            "_model_module_version": "1.2.0",
            "_model_name": "LayoutModel",
            "_view_count": null,
            "_view_module": "@jupyter-widgets/base",
            "_view_module_version": "1.2.0",
            "_view_name": "LayoutView",
            "align_content": null,
            "align_items": null,
            "align_self": null,
            "border": null,
            "bottom": null,
            "display": null,
            "flex": null,
            "flex_flow": null,
            "grid_area": null,
            "grid_auto_columns": null,
            "grid_auto_flow": null,
            "grid_auto_rows": null,
            "grid_column": null,
            "grid_gap": null,
            "grid_row": null,
            "grid_template_areas": null,
            "grid_template_columns": null,
            "grid_template_rows": null,
            "height": null,
            "justify_content": null,
            "justify_items": null,
            "left": null,
            "margin": null,
            "max_height": null,
            "max_width": null,
            "min_height": null,
            "min_width": null,
            "object_fit": null,
            "object_position": null,
            "order": null,
            "overflow": null,
            "overflow_x": null,
            "overflow_y": null,
            "padding": null,
            "right": null,
            "top": null,
            "visibility": null,
            "width": null
          }
        },
        "60c8f43f52df4e929db6c626ad6ba4c4": {
          "model_module": "@jupyter-widgets/controls",
          "model_module_version": "1.5.0",
          "model_name": "HBoxModel",
          "state": {
            "_dom_classes": [],
            "_model_module": "@jupyter-widgets/controls",
            "_model_module_version": "1.5.0",
            "_model_name": "HBoxModel",
            "_view_count": null,
            "_view_module": "@jupyter-widgets/controls",
            "_view_module_version": "1.5.0",
            "_view_name": "HBoxView",
            "box_style": "",
            "children": [
              "IPY_MODEL_1d122c9217ab4b0f888fef8bcf811b49",
              "IPY_MODEL_62277943ec0b49ce91ed805010e1f845",
              "IPY_MODEL_f01bc7bfa53642b7bc5361f1cf632a0a"
            ],
            "layout": "IPY_MODEL_98c11d18d8b64df2ade3b66eb2d09934"
          }
        },
        "610d26ed5f8c47a6b675605ee39c4d9f": {
          "model_module": "@jupyter-widgets/controls",
          "model_module_version": "1.5.0",
          "model_name": "ProgressStyleModel",
          "state": {
            "_model_module": "@jupyter-widgets/controls",
            "_model_module_version": "1.5.0",
            "_model_name": "ProgressStyleModel",
            "_view_count": null,
            "_view_module": "@jupyter-widgets/base",
            "_view_module_version": "1.2.0",
            "_view_name": "StyleView",
            "bar_color": null,
            "description_width": ""
          }
        },
        "619c73d035614b779b8f59e4414635c8": {
          "model_module": "@jupyter-widgets/base",
          "model_module_version": "1.2.0",
          "model_name": "LayoutModel",
          "state": {
            "_model_module": "@jupyter-widgets/base",
            "_model_module_version": "1.2.0",
            "_model_name": "LayoutModel",
            "_view_count": null,
            "_view_module": "@jupyter-widgets/base",
            "_view_module_version": "1.2.0",
            "_view_name": "LayoutView",
            "align_content": null,
            "align_items": null,
            "align_self": null,
            "border": null,
            "bottom": null,
            "display": null,
            "flex": null,
            "flex_flow": null,
            "grid_area": null,
            "grid_auto_columns": null,
            "grid_auto_flow": null,
            "grid_auto_rows": null,
            "grid_column": null,
            "grid_gap": null,
            "grid_row": null,
            "grid_template_areas": null,
            "grid_template_columns": null,
            "grid_template_rows": null,
            "height": null,
            "justify_content": null,
            "justify_items": null,
            "left": null,
            "margin": null,
            "max_height": null,
            "max_width": null,
            "min_height": null,
            "min_width": null,
            "object_fit": null,
            "object_position": null,
            "order": null,
            "overflow": null,
            "overflow_x": null,
            "overflow_y": null,
            "padding": null,
            "right": null,
            "top": null,
            "visibility": null,
            "width": null
          }
        },
        "621f9a2a5e2441d9a5d890f90c547400": {
          "model_module": "@jupyter-widgets/controls",
          "model_module_version": "1.5.0",
          "model_name": "FloatProgressModel",
          "state": {
            "_dom_classes": [],
            "_model_module": "@jupyter-widgets/controls",
            "_model_module_version": "1.5.0",
            "_model_name": "FloatProgressModel",
            "_view_count": null,
            "_view_module": "@jupyter-widgets/controls",
            "_view_module_version": "1.5.0",
            "_view_name": "ProgressView",
            "bar_style": "success",
            "description": "",
            "description_tooltip": null,
            "layout": "IPY_MODEL_9518698ad67c48498e97b288b9385ede",
            "max": 5,
            "min": 0,
            "orientation": "horizontal",
            "style": "IPY_MODEL_70f21e6e866b4567ae1786ed83ea7184",
            "value": 5
          }
        },
        "62277943ec0b49ce91ed805010e1f845": {
          "model_module": "@jupyter-widgets/controls",
          "model_module_version": "1.5.0",
          "model_name": "FloatProgressModel",
          "state": {
            "_dom_classes": [],
            "_model_module": "@jupyter-widgets/controls",
            "_model_module_version": "1.5.0",
            "_model_name": "FloatProgressModel",
            "_view_count": null,
            "_view_module": "@jupyter-widgets/controls",
            "_view_module_version": "1.5.0",
            "_view_name": "ProgressView",
            "bar_style": "success",
            "description": "",
            "description_tooltip": null,
            "layout": "IPY_MODEL_12e97c45f1da48bebd8e7d958a99fc8b",
            "max": 5,
            "min": 0,
            "orientation": "horizontal",
            "style": "IPY_MODEL_e8cbacd1fb654fdea9c51bbf4066a38e",
            "value": 5
          }
        },
        "632b465feb154de387bfe9aabf5aca36": {
          "model_module": "@jupyter-widgets/controls",
          "model_module_version": "1.5.0",
          "model_name": "ProgressStyleModel",
          "state": {
            "_model_module": "@jupyter-widgets/controls",
            "_model_module_version": "1.5.0",
            "_model_name": "ProgressStyleModel",
            "_view_count": null,
            "_view_module": "@jupyter-widgets/base",
            "_view_module_version": "1.2.0",
            "_view_name": "StyleView",
            "bar_color": null,
            "description_width": ""
          }
        },
        "63af15a6534a45f7ab2822e67880c75e": {
          "model_module": "@jupyter-widgets/controls",
          "model_module_version": "1.5.0",
          "model_name": "ProgressStyleModel",
          "state": {
            "_model_module": "@jupyter-widgets/controls",
            "_model_module_version": "1.5.0",
            "_model_name": "ProgressStyleModel",
            "_view_count": null,
            "_view_module": "@jupyter-widgets/base",
            "_view_module_version": "1.2.0",
            "_view_name": "StyleView",
            "bar_color": null,
            "description_width": ""
          }
        },
        "66bc2202e16548d8926be99dddcf08b6": {
          "model_module": "@jupyter-widgets/base",
          "model_module_version": "1.2.0",
          "model_name": "LayoutModel",
          "state": {
            "_model_module": "@jupyter-widgets/base",
            "_model_module_version": "1.2.0",
            "_model_name": "LayoutModel",
            "_view_count": null,
            "_view_module": "@jupyter-widgets/base",
            "_view_module_version": "1.2.0",
            "_view_name": "LayoutView",
            "align_content": null,
            "align_items": null,
            "align_self": null,
            "border": null,
            "bottom": null,
            "display": null,
            "flex": null,
            "flex_flow": null,
            "grid_area": null,
            "grid_auto_columns": null,
            "grid_auto_flow": null,
            "grid_auto_rows": null,
            "grid_column": null,
            "grid_gap": null,
            "grid_row": null,
            "grid_template_areas": null,
            "grid_template_columns": null,
            "grid_template_rows": null,
            "height": null,
            "justify_content": null,
            "justify_items": null,
            "left": null,
            "margin": null,
            "max_height": null,
            "max_width": null,
            "min_height": null,
            "min_width": null,
            "object_fit": null,
            "object_position": null,
            "order": null,
            "overflow": null,
            "overflow_x": null,
            "overflow_y": null,
            "padding": null,
            "right": null,
            "top": null,
            "visibility": null,
            "width": null
          }
        },
        "67cc37770af54233a516553e6777c647": {
          "model_module": "@jupyter-widgets/base",
          "model_module_version": "1.2.0",
          "model_name": "LayoutModel",
          "state": {
            "_model_module": "@jupyter-widgets/base",
            "_model_module_version": "1.2.0",
            "_model_name": "LayoutModel",
            "_view_count": null,
            "_view_module": "@jupyter-widgets/base",
            "_view_module_version": "1.2.0",
            "_view_name": "LayoutView",
            "align_content": null,
            "align_items": null,
            "align_self": null,
            "border": null,
            "bottom": null,
            "display": null,
            "flex": null,
            "flex_flow": null,
            "grid_area": null,
            "grid_auto_columns": null,
            "grid_auto_flow": null,
            "grid_auto_rows": null,
            "grid_column": null,
            "grid_gap": null,
            "grid_row": null,
            "grid_template_areas": null,
            "grid_template_columns": null,
            "grid_template_rows": null,
            "height": null,
            "justify_content": null,
            "justify_items": null,
            "left": null,
            "margin": null,
            "max_height": null,
            "max_width": null,
            "min_height": null,
            "min_width": null,
            "object_fit": null,
            "object_position": null,
            "order": null,
            "overflow": null,
            "overflow_x": null,
            "overflow_y": null,
            "padding": null,
            "right": null,
            "top": null,
            "visibility": null,
            "width": null
          }
        },
        "6863409dc6594560b6950cdcd530387a": {
          "model_module": "@jupyter-widgets/controls",
          "model_module_version": "1.5.0",
          "model_name": "DescriptionStyleModel",
          "state": {
            "_model_module": "@jupyter-widgets/controls",
            "_model_module_version": "1.5.0",
            "_model_name": "DescriptionStyleModel",
            "_view_count": null,
            "_view_module": "@jupyter-widgets/base",
            "_view_module_version": "1.2.0",
            "_view_name": "StyleView",
            "description_width": ""
          }
        },
        "68a5fff6ccfb4132a7b367ea44f54b0c": {
          "model_module": "@jupyter-widgets/controls",
          "model_module_version": "1.5.0",
          "model_name": "ProgressStyleModel",
          "state": {
            "_model_module": "@jupyter-widgets/controls",
            "_model_module_version": "1.5.0",
            "_model_name": "ProgressStyleModel",
            "_view_count": null,
            "_view_module": "@jupyter-widgets/base",
            "_view_module_version": "1.2.0",
            "_view_name": "StyleView",
            "bar_color": null,
            "description_width": ""
          }
        },
        "68b35456500e463c8c4620e3d5c35026": {
          "model_module": "@jupyter-widgets/controls",
          "model_module_version": "1.5.0",
          "model_name": "FloatProgressModel",
          "state": {
            "_dom_classes": [],
            "_model_module": "@jupyter-widgets/controls",
            "_model_module_version": "1.5.0",
            "_model_name": "FloatProgressModel",
            "_view_count": null,
            "_view_module": "@jupyter-widgets/controls",
            "_view_module_version": "1.5.0",
            "_view_name": "ProgressView",
            "bar_style": "success",
            "description": "",
            "description_tooltip": null,
            "layout": "IPY_MODEL_b8050c629690428ebf7a4689a05b181a",
            "max": 37,
            "min": 0,
            "orientation": "horizontal",
            "style": "IPY_MODEL_d9e97dc88b574c71a53f15b8368ba28e",
            "value": 37
          }
        },
        "69b2d1dbbc7d41e585c0c3e140684cf3": {
          "model_module": "@jupyter-widgets/base",
          "model_module_version": "1.2.0",
          "model_name": "LayoutModel",
          "state": {
            "_model_module": "@jupyter-widgets/base",
            "_model_module_version": "1.2.0",
            "_model_name": "LayoutModel",
            "_view_count": null,
            "_view_module": "@jupyter-widgets/base",
            "_view_module_version": "1.2.0",
            "_view_name": "LayoutView",
            "align_content": null,
            "align_items": null,
            "align_self": null,
            "border": null,
            "bottom": null,
            "display": null,
            "flex": null,
            "flex_flow": null,
            "grid_area": null,
            "grid_auto_columns": null,
            "grid_auto_flow": null,
            "grid_auto_rows": null,
            "grid_column": null,
            "grid_gap": null,
            "grid_row": null,
            "grid_template_areas": null,
            "grid_template_columns": null,
            "grid_template_rows": null,
            "height": null,
            "justify_content": null,
            "justify_items": null,
            "left": null,
            "margin": null,
            "max_height": null,
            "max_width": null,
            "min_height": null,
            "min_width": null,
            "object_fit": null,
            "object_position": null,
            "order": null,
            "overflow": null,
            "overflow_x": null,
            "overflow_y": null,
            "padding": null,
            "right": null,
            "top": null,
            "visibility": null,
            "width": null
          }
        },
        "6a637534c38a4cd1961bd2512d1df527": {
          "model_module": "@jupyter-widgets/base",
          "model_module_version": "1.2.0",
          "model_name": "LayoutModel",
          "state": {
            "_model_module": "@jupyter-widgets/base",
            "_model_module_version": "1.2.0",
            "_model_name": "LayoutModel",
            "_view_count": null,
            "_view_module": "@jupyter-widgets/base",
            "_view_module_version": "1.2.0",
            "_view_name": "LayoutView",
            "align_content": null,
            "align_items": null,
            "align_self": null,
            "border": null,
            "bottom": null,
            "display": null,
            "flex": null,
            "flex_flow": null,
            "grid_area": null,
            "grid_auto_columns": null,
            "grid_auto_flow": null,
            "grid_auto_rows": null,
            "grid_column": null,
            "grid_gap": null,
            "grid_row": null,
            "grid_template_areas": null,
            "grid_template_columns": null,
            "grid_template_rows": null,
            "height": null,
            "justify_content": null,
            "justify_items": null,
            "left": null,
            "margin": null,
            "max_height": null,
            "max_width": null,
            "min_height": null,
            "min_width": null,
            "object_fit": null,
            "object_position": null,
            "order": null,
            "overflow": null,
            "overflow_x": null,
            "overflow_y": null,
            "padding": null,
            "right": null,
            "top": null,
            "visibility": null,
            "width": null
          }
        },
        "6ac25cd14ddf4ebf8df3d3a9c45559f2": {
          "model_module": "@jupyter-widgets/base",
          "model_module_version": "1.2.0",
          "model_name": "LayoutModel",
          "state": {
            "_model_module": "@jupyter-widgets/base",
            "_model_module_version": "1.2.0",
            "_model_name": "LayoutModel",
            "_view_count": null,
            "_view_module": "@jupyter-widgets/base",
            "_view_module_version": "1.2.0",
            "_view_name": "LayoutView",
            "align_content": null,
            "align_items": null,
            "align_self": null,
            "border": null,
            "bottom": null,
            "display": null,
            "flex": null,
            "flex_flow": null,
            "grid_area": null,
            "grid_auto_columns": null,
            "grid_auto_flow": null,
            "grid_auto_rows": null,
            "grid_column": null,
            "grid_gap": null,
            "grid_row": null,
            "grid_template_areas": null,
            "grid_template_columns": null,
            "grid_template_rows": null,
            "height": null,
            "justify_content": null,
            "justify_items": null,
            "left": null,
            "margin": null,
            "max_height": null,
            "max_width": null,
            "min_height": null,
            "min_width": null,
            "object_fit": null,
            "object_position": null,
            "order": null,
            "overflow": null,
            "overflow_x": null,
            "overflow_y": null,
            "padding": null,
            "right": null,
            "top": null,
            "visibility": null,
            "width": null
          }
        },
        "6ae8dff5955241719052aca675aa9b91": {
          "model_module": "@jupyter-widgets/controls",
          "model_module_version": "1.5.0",
          "model_name": "HTMLModel",
          "state": {
            "_dom_classes": [],
            "_model_module": "@jupyter-widgets/controls",
            "_model_module_version": "1.5.0",
            "_model_name": "HTMLModel",
            "_view_count": null,
            "_view_module": "@jupyter-widgets/controls",
            "_view_module_version": "1.5.0",
            "_view_name": "HTMLView",
            "description": "",
            "description_tooltip": null,
            "layout": "IPY_MODEL_b51d65da452c47d591542b9ca40a5045",
            "placeholder": "​",
            "style": "IPY_MODEL_1a88a9433ad94818a4fd492c1a35aabc",
            "value": "100%"
          }
        },
        "6b3aaaa79f304755be6e1ce16485ba9e": {
          "model_module": "@jupyter-widgets/base",
          "model_module_version": "1.2.0",
          "model_name": "LayoutModel",
          "state": {
            "_model_module": "@jupyter-widgets/base",
            "_model_module_version": "1.2.0",
            "_model_name": "LayoutModel",
            "_view_count": null,
            "_view_module": "@jupyter-widgets/base",
            "_view_module_version": "1.2.0",
            "_view_name": "LayoutView",
            "align_content": null,
            "align_items": null,
            "align_self": null,
            "border": null,
            "bottom": null,
            "display": null,
            "flex": null,
            "flex_flow": null,
            "grid_area": null,
            "grid_auto_columns": null,
            "grid_auto_flow": null,
            "grid_auto_rows": null,
            "grid_column": null,
            "grid_gap": null,
            "grid_row": null,
            "grid_template_areas": null,
            "grid_template_columns": null,
            "grid_template_rows": null,
            "height": null,
            "justify_content": null,
            "justify_items": null,
            "left": null,
            "margin": null,
            "max_height": null,
            "max_width": null,
            "min_height": null,
            "min_width": null,
            "object_fit": null,
            "object_position": null,
            "order": null,
            "overflow": null,
            "overflow_x": null,
            "overflow_y": null,
            "padding": null,
            "right": null,
            "top": null,
            "visibility": null,
            "width": null
          }
        },
        "6b52727c343d480884883334f463d3c4": {
          "model_module": "@jupyter-widgets/base",
          "model_module_version": "1.2.0",
          "model_name": "LayoutModel",
          "state": {
            "_model_module": "@jupyter-widgets/base",
            "_model_module_version": "1.2.0",
            "_model_name": "LayoutModel",
            "_view_count": null,
            "_view_module": "@jupyter-widgets/base",
            "_view_module_version": "1.2.0",
            "_view_name": "LayoutView",
            "align_content": null,
            "align_items": null,
            "align_self": null,
            "border": null,
            "bottom": null,
            "display": null,
            "flex": null,
            "flex_flow": null,
            "grid_area": null,
            "grid_auto_columns": null,
            "grid_auto_flow": null,
            "grid_auto_rows": null,
            "grid_column": null,
            "grid_gap": null,
            "grid_row": null,
            "grid_template_areas": null,
            "grid_template_columns": null,
            "grid_template_rows": null,
            "height": null,
            "justify_content": null,
            "justify_items": null,
            "left": null,
            "margin": null,
            "max_height": null,
            "max_width": null,
            "min_height": null,
            "min_width": null,
            "object_fit": null,
            "object_position": null,
            "order": null,
            "overflow": null,
            "overflow_x": null,
            "overflow_y": null,
            "padding": null,
            "right": null,
            "top": null,
            "visibility": null,
            "width": null
          }
        },
        "6b8eede91ddd470caa0c3c80957ff0b6": {
          "model_module": "@jupyter-widgets/controls",
          "model_module_version": "1.5.0",
          "model_name": "ProgressStyleModel",
          "state": {
            "_model_module": "@jupyter-widgets/controls",
            "_model_module_version": "1.5.0",
            "_model_name": "ProgressStyleModel",
            "_view_count": null,
            "_view_module": "@jupyter-widgets/base",
            "_view_module_version": "1.2.0",
            "_view_name": "StyleView",
            "bar_color": null,
            "description_width": ""
          }
        },
        "6bc89510f5554348aba339c9bd399a04": {
          "model_module": "@jupyter-widgets/controls",
          "model_module_version": "1.5.0",
          "model_name": "HTMLModel",
          "state": {
            "_dom_classes": [],
            "_model_module": "@jupyter-widgets/controls",
            "_model_module_version": "1.5.0",
            "_model_name": "HTMLModel",
            "_view_count": null,
            "_view_module": "@jupyter-widgets/controls",
            "_view_module_version": "1.5.0",
            "_view_name": "HTMLView",
            "description": "",
            "description_tooltip": null,
            "layout": "IPY_MODEL_a7d4bf4b2e3640ee975f7f4171490a8c",
            "placeholder": "​",
            "style": "IPY_MODEL_a940f39cee7647b1ad3d73ca0b0588b4",
            "value": "100%"
          }
        },
        "6c0b774a1df84e3b86680f6e4ad8eee3": {
          "model_module": "@jupyter-widgets/controls",
          "model_module_version": "1.5.0",
          "model_name": "DescriptionStyleModel",
          "state": {
            "_model_module": "@jupyter-widgets/controls",
            "_model_module_version": "1.5.0",
            "_model_name": "DescriptionStyleModel",
            "_view_count": null,
            "_view_module": "@jupyter-widgets/base",
            "_view_module_version": "1.2.0",
            "_view_name": "StyleView",
            "description_width": ""
          }
        },
        "6c62478b06d24db49f40176f00f016cf": {
          "model_module": "@jupyter-widgets/controls",
          "model_module_version": "1.5.0",
          "model_name": "DescriptionStyleModel",
          "state": {
            "_model_module": "@jupyter-widgets/controls",
            "_model_module_version": "1.5.0",
            "_model_name": "DescriptionStyleModel",
            "_view_count": null,
            "_view_module": "@jupyter-widgets/base",
            "_view_module_version": "1.2.0",
            "_view_name": "StyleView",
            "description_width": ""
          }
        },
        "6cb27dc65ba4441d8e72fa4e81fd7661": {
          "model_module": "@jupyter-widgets/controls",
          "model_module_version": "1.5.0",
          "model_name": "DescriptionStyleModel",
          "state": {
            "_model_module": "@jupyter-widgets/controls",
            "_model_module_version": "1.5.0",
            "_model_name": "DescriptionStyleModel",
            "_view_count": null,
            "_view_module": "@jupyter-widgets/base",
            "_view_module_version": "1.2.0",
            "_view_name": "StyleView",
            "description_width": ""
          }
        },
        "6d5ddc7bd63c481887e968ff503af538": {
          "model_module": "@jupyter-widgets/controls",
          "model_module_version": "1.5.0",
          "model_name": "DescriptionStyleModel",
          "state": {
            "_model_module": "@jupyter-widgets/controls",
            "_model_module_version": "1.5.0",
            "_model_name": "DescriptionStyleModel",
            "_view_count": null,
            "_view_module": "@jupyter-widgets/base",
            "_view_module_version": "1.2.0",
            "_view_name": "StyleView",
            "description_width": ""
          }
        },
        "6f1017f2b9b94cce8a95a9f1d300c98f": {
          "model_module": "@jupyter-widgets/base",
          "model_module_version": "1.2.0",
          "model_name": "LayoutModel",
          "state": {
            "_model_module": "@jupyter-widgets/base",
            "_model_module_version": "1.2.0",
            "_model_name": "LayoutModel",
            "_view_count": null,
            "_view_module": "@jupyter-widgets/base",
            "_view_module_version": "1.2.0",
            "_view_name": "LayoutView",
            "align_content": null,
            "align_items": null,
            "align_self": null,
            "border": null,
            "bottom": null,
            "display": null,
            "flex": null,
            "flex_flow": null,
            "grid_area": null,
            "grid_auto_columns": null,
            "grid_auto_flow": null,
            "grid_auto_rows": null,
            "grid_column": null,
            "grid_gap": null,
            "grid_row": null,
            "grid_template_areas": null,
            "grid_template_columns": null,
            "grid_template_rows": null,
            "height": null,
            "justify_content": null,
            "justify_items": null,
            "left": null,
            "margin": null,
            "max_height": null,
            "max_width": null,
            "min_height": null,
            "min_width": null,
            "object_fit": null,
            "object_position": null,
            "order": null,
            "overflow": null,
            "overflow_x": null,
            "overflow_y": null,
            "padding": null,
            "right": null,
            "top": null,
            "visibility": null,
            "width": null
          }
        },
        "70f21e6e866b4567ae1786ed83ea7184": {
          "model_module": "@jupyter-widgets/controls",
          "model_module_version": "1.5.0",
          "model_name": "ProgressStyleModel",
          "state": {
            "_model_module": "@jupyter-widgets/controls",
            "_model_module_version": "1.5.0",
            "_model_name": "ProgressStyleModel",
            "_view_count": null,
            "_view_module": "@jupyter-widgets/base",
            "_view_module_version": "1.2.0",
            "_view_name": "StyleView",
            "bar_color": null,
            "description_width": ""
          }
        },
        "71dca087110f4291a3bb470a6c989ae4": {
          "model_module": "@jupyter-widgets/controls",
          "model_module_version": "1.5.0",
          "model_name": "HTMLModel",
          "state": {
            "_dom_classes": [],
            "_model_module": "@jupyter-widgets/controls",
            "_model_module_version": "1.5.0",
            "_model_name": "HTMLModel",
            "_view_count": null,
            "_view_module": "@jupyter-widgets/controls",
            "_view_module_version": "1.5.0",
            "_view_name": "HTMLView",
            "description": "",
            "description_tooltip": null,
            "layout": "IPY_MODEL_c03d91ff24d84cb5920523cbf4fc76d6",
            "placeholder": "​",
            "style": "IPY_MODEL_508518572d2a46589074609d0966361b",
            "value": " 37/37 [00:25&lt;00:00,  1.86it/s]"
          }
        },
        "72ec75c8d8704b2aa2a60ac10a9e10d0": {
          "model_module": "@jupyter-widgets/controls",
          "model_module_version": "1.5.0",
          "model_name": "DescriptionStyleModel",
          "state": {
            "_model_module": "@jupyter-widgets/controls",
            "_model_module_version": "1.5.0",
            "_model_name": "DescriptionStyleModel",
            "_view_count": null,
            "_view_module": "@jupyter-widgets/base",
            "_view_module_version": "1.2.0",
            "_view_name": "StyleView",
            "description_width": ""
          }
        },
        "72fcc602b81f4151a01a65b2187da5a6": {
          "model_module": "@jupyter-widgets/base",
          "model_module_version": "1.2.0",
          "model_name": "LayoutModel",
          "state": {
            "_model_module": "@jupyter-widgets/base",
            "_model_module_version": "1.2.0",
            "_model_name": "LayoutModel",
            "_view_count": null,
            "_view_module": "@jupyter-widgets/base",
            "_view_module_version": "1.2.0",
            "_view_name": "LayoutView",
            "align_content": null,
            "align_items": null,
            "align_self": null,
            "border": null,
            "bottom": null,
            "display": null,
            "flex": null,
            "flex_flow": null,
            "grid_area": null,
            "grid_auto_columns": null,
            "grid_auto_flow": null,
            "grid_auto_rows": null,
            "grid_column": null,
            "grid_gap": null,
            "grid_row": null,
            "grid_template_areas": null,
            "grid_template_columns": null,
            "grid_template_rows": null,
            "height": null,
            "justify_content": null,
            "justify_items": null,
            "left": null,
            "margin": null,
            "max_height": null,
            "max_width": null,
            "min_height": null,
            "min_width": null,
            "object_fit": null,
            "object_position": null,
            "order": null,
            "overflow": null,
            "overflow_x": null,
            "overflow_y": null,
            "padding": null,
            "right": null,
            "top": null,
            "visibility": null,
            "width": null
          }
        },
        "73ee6a911c8741ce9ffdd2f840172ad2": {
          "model_module": "@jupyter-widgets/controls",
          "model_module_version": "1.5.0",
          "model_name": "ProgressStyleModel",
          "state": {
            "_model_module": "@jupyter-widgets/controls",
            "_model_module_version": "1.5.0",
            "_model_name": "ProgressStyleModel",
            "_view_count": null,
            "_view_module": "@jupyter-widgets/base",
            "_view_module_version": "1.2.0",
            "_view_name": "StyleView",
            "bar_color": null,
            "description_width": ""
          }
        },
        "74c3be53c5444ba9985f3ff14b29d83a": {
          "model_module": "@jupyter-widgets/base",
          "model_module_version": "1.2.0",
          "model_name": "LayoutModel",
          "state": {
            "_model_module": "@jupyter-widgets/base",
            "_model_module_version": "1.2.0",
            "_model_name": "LayoutModel",
            "_view_count": null,
            "_view_module": "@jupyter-widgets/base",
            "_view_module_version": "1.2.0",
            "_view_name": "LayoutView",
            "align_content": null,
            "align_items": null,
            "align_self": null,
            "border": null,
            "bottom": null,
            "display": null,
            "flex": null,
            "flex_flow": null,
            "grid_area": null,
            "grid_auto_columns": null,
            "grid_auto_flow": null,
            "grid_auto_rows": null,
            "grid_column": null,
            "grid_gap": null,
            "grid_row": null,
            "grid_template_areas": null,
            "grid_template_columns": null,
            "grid_template_rows": null,
            "height": null,
            "justify_content": null,
            "justify_items": null,
            "left": null,
            "margin": null,
            "max_height": null,
            "max_width": null,
            "min_height": null,
            "min_width": null,
            "object_fit": null,
            "object_position": null,
            "order": null,
            "overflow": null,
            "overflow_x": null,
            "overflow_y": null,
            "padding": null,
            "right": null,
            "top": null,
            "visibility": null,
            "width": null
          }
        },
        "7564efe402154b8f9a17abcaea7b1d9c": {
          "model_module": "@jupyter-widgets/controls",
          "model_module_version": "1.5.0",
          "model_name": "HBoxModel",
          "state": {
            "_dom_classes": [],
            "_model_module": "@jupyter-widgets/controls",
            "_model_module_version": "1.5.0",
            "_model_name": "HBoxModel",
            "_view_count": null,
            "_view_module": "@jupyter-widgets/controls",
            "_view_module_version": "1.5.0",
            "_view_name": "HBoxView",
            "box_style": "",
            "children": [
              "IPY_MODEL_12f6b52421764c32b0af1919eb98a5b2",
              "IPY_MODEL_2e1623ce78b544a7934d67928159f0e5",
              "IPY_MODEL_fb29c235ff2442d0ae1fba0b1fa949e4"
            ],
            "layout": "IPY_MODEL_ab85fe80e5154b72ba8d9908c6b9003d"
          }
        },
        "75ff8ff02e90411e9d042d1feb96f48b": {
          "model_module": "@jupyter-widgets/controls",
          "model_module_version": "1.5.0",
          "model_name": "ProgressStyleModel",
          "state": {
            "_model_module": "@jupyter-widgets/controls",
            "_model_module_version": "1.5.0",
            "_model_name": "ProgressStyleModel",
            "_view_count": null,
            "_view_module": "@jupyter-widgets/base",
            "_view_module_version": "1.2.0",
            "_view_name": "StyleView",
            "bar_color": null,
            "description_width": ""
          }
        },
        "7614bbd4363f4630a7c09818b187ffe8": {
          "model_module": "@jupyter-widgets/controls",
          "model_module_version": "1.5.0",
          "model_name": "FloatProgressModel",
          "state": {
            "_dom_classes": [],
            "_model_module": "@jupyter-widgets/controls",
            "_model_module_version": "1.5.0",
            "_model_name": "FloatProgressModel",
            "_view_count": null,
            "_view_module": "@jupyter-widgets/controls",
            "_view_module_version": "1.5.0",
            "_view_name": "ProgressView",
            "bar_style": "",
            "description": "",
            "description_tooltip": null,
            "layout": "IPY_MODEL_3d63ee394e264eab993e2b358c709b06",
            "max": 37,
            "min": 0,
            "orientation": "horizontal",
            "style": "IPY_MODEL_c8c3c3ee0c41441196d0aeaa9b3d4a34",
            "value": 16
          }
        },
        "774914440b23405f9afeba4035164e22": {
          "model_module": "@jupyter-widgets/controls",
          "model_module_version": "1.5.0",
          "model_name": "HTMLModel",
          "state": {
            "_dom_classes": [],
            "_model_module": "@jupyter-widgets/controls",
            "_model_module_version": "1.5.0",
            "_model_name": "HTMLModel",
            "_view_count": null,
            "_view_module": "@jupyter-widgets/controls",
            "_view_module_version": "1.5.0",
            "_view_name": "HTMLView",
            "description": "",
            "description_tooltip": null,
            "layout": "IPY_MODEL_b07f0886dbc04092bfc4e4f0db974ef4",
            "placeholder": "​",
            "style": "IPY_MODEL_48cf827847b54dc3a5eedc1faef0601a",
            "value": "100%"
          }
        },
        "78b1c43da1684f36a58f280fcf9e5b26": {
          "model_module": "@jupyter-widgets/base",
          "model_module_version": "1.2.0",
          "model_name": "LayoutModel",
          "state": {
            "_model_module": "@jupyter-widgets/base",
            "_model_module_version": "1.2.0",
            "_model_name": "LayoutModel",
            "_view_count": null,
            "_view_module": "@jupyter-widgets/base",
            "_view_module_version": "1.2.0",
            "_view_name": "LayoutView",
            "align_content": null,
            "align_items": null,
            "align_self": null,
            "border": null,
            "bottom": null,
            "display": null,
            "flex": null,
            "flex_flow": null,
            "grid_area": null,
            "grid_auto_columns": null,
            "grid_auto_flow": null,
            "grid_auto_rows": null,
            "grid_column": null,
            "grid_gap": null,
            "grid_row": null,
            "grid_template_areas": null,
            "grid_template_columns": null,
            "grid_template_rows": null,
            "height": null,
            "justify_content": null,
            "justify_items": null,
            "left": null,
            "margin": null,
            "max_height": null,
            "max_width": null,
            "min_height": null,
            "min_width": null,
            "object_fit": null,
            "object_position": null,
            "order": null,
            "overflow": null,
            "overflow_x": null,
            "overflow_y": null,
            "padding": null,
            "right": null,
            "top": null,
            "visibility": null,
            "width": null
          }
        },
        "78c5f60c230543bd9e81c0274639fe40": {
          "model_module": "@jupyter-widgets/controls",
          "model_module_version": "1.5.0",
          "model_name": "FloatProgressModel",
          "state": {
            "_dom_classes": [],
            "_model_module": "@jupyter-widgets/controls",
            "_model_module_version": "1.5.0",
            "_model_name": "FloatProgressModel",
            "_view_count": null,
            "_view_module": "@jupyter-widgets/controls",
            "_view_module_version": "1.5.0",
            "_view_name": "ProgressView",
            "bar_style": "success",
            "description": "",
            "description_tooltip": null,
            "layout": "IPY_MODEL_cb6b72c1372341bb92d347ce6f055208",
            "max": 5,
            "min": 0,
            "orientation": "horizontal",
            "style": "IPY_MODEL_e480477885d64ae991f8a6fef9ab81f7",
            "value": 5
          }
        },
        "7910b57ee1604a94a98fca899a1f1d23": {
          "model_module": "@jupyter-widgets/base",
          "model_module_version": "1.2.0",
          "model_name": "LayoutModel",
          "state": {
            "_model_module": "@jupyter-widgets/base",
            "_model_module_version": "1.2.0",
            "_model_name": "LayoutModel",
            "_view_count": null,
            "_view_module": "@jupyter-widgets/base",
            "_view_module_version": "1.2.0",
            "_view_name": "LayoutView",
            "align_content": null,
            "align_items": null,
            "align_self": null,
            "border": null,
            "bottom": null,
            "display": null,
            "flex": null,
            "flex_flow": null,
            "grid_area": null,
            "grid_auto_columns": null,
            "grid_auto_flow": null,
            "grid_auto_rows": null,
            "grid_column": null,
            "grid_gap": null,
            "grid_row": null,
            "grid_template_areas": null,
            "grid_template_columns": null,
            "grid_template_rows": null,
            "height": null,
            "justify_content": null,
            "justify_items": null,
            "left": null,
            "margin": null,
            "max_height": null,
            "max_width": null,
            "min_height": null,
            "min_width": null,
            "object_fit": null,
            "object_position": null,
            "order": null,
            "overflow": null,
            "overflow_x": null,
            "overflow_y": null,
            "padding": null,
            "right": null,
            "top": null,
            "visibility": null,
            "width": null
          }
        },
        "79ecb85426ff4493a9262e233f2a444c": {
          "model_module": "@jupyter-widgets/base",
          "model_module_version": "1.2.0",
          "model_name": "LayoutModel",
          "state": {
            "_model_module": "@jupyter-widgets/base",
            "_model_module_version": "1.2.0",
            "_model_name": "LayoutModel",
            "_view_count": null,
            "_view_module": "@jupyter-widgets/base",
            "_view_module_version": "1.2.0",
            "_view_name": "LayoutView",
            "align_content": null,
            "align_items": null,
            "align_self": null,
            "border": null,
            "bottom": null,
            "display": null,
            "flex": null,
            "flex_flow": null,
            "grid_area": null,
            "grid_auto_columns": null,
            "grid_auto_flow": null,
            "grid_auto_rows": null,
            "grid_column": null,
            "grid_gap": null,
            "grid_row": null,
            "grid_template_areas": null,
            "grid_template_columns": null,
            "grid_template_rows": null,
            "height": null,
            "justify_content": null,
            "justify_items": null,
            "left": null,
            "margin": null,
            "max_height": null,
            "max_width": null,
            "min_height": null,
            "min_width": null,
            "object_fit": null,
            "object_position": null,
            "order": null,
            "overflow": null,
            "overflow_x": null,
            "overflow_y": null,
            "padding": null,
            "right": null,
            "top": null,
            "visibility": null,
            "width": null
          }
        },
        "7a2d719cc19043fb8e986dc5c0ddc2d3": {
          "model_module": "@jupyter-widgets/base",
          "model_module_version": "1.2.0",
          "model_name": "LayoutModel",
          "state": {
            "_model_module": "@jupyter-widgets/base",
            "_model_module_version": "1.2.0",
            "_model_name": "LayoutModel",
            "_view_count": null,
            "_view_module": "@jupyter-widgets/base",
            "_view_module_version": "1.2.0",
            "_view_name": "LayoutView",
            "align_content": null,
            "align_items": null,
            "align_self": null,
            "border": null,
            "bottom": null,
            "display": null,
            "flex": null,
            "flex_flow": null,
            "grid_area": null,
            "grid_auto_columns": null,
            "grid_auto_flow": null,
            "grid_auto_rows": null,
            "grid_column": null,
            "grid_gap": null,
            "grid_row": null,
            "grid_template_areas": null,
            "grid_template_columns": null,
            "grid_template_rows": null,
            "height": null,
            "justify_content": null,
            "justify_items": null,
            "left": null,
            "margin": null,
            "max_height": null,
            "max_width": null,
            "min_height": null,
            "min_width": null,
            "object_fit": null,
            "object_position": null,
            "order": null,
            "overflow": null,
            "overflow_x": null,
            "overflow_y": null,
            "padding": null,
            "right": null,
            "top": null,
            "visibility": null,
            "width": null
          }
        },
        "7c7063bbdced4ff2955f13282020f093": {
          "model_module": "@jupyter-widgets/controls",
          "model_module_version": "1.5.0",
          "model_name": "FloatProgressModel",
          "state": {
            "_dom_classes": [],
            "_model_module": "@jupyter-widgets/controls",
            "_model_module_version": "1.5.0",
            "_model_name": "FloatProgressModel",
            "_view_count": null,
            "_view_module": "@jupyter-widgets/controls",
            "_view_module_version": "1.5.0",
            "_view_name": "ProgressView",
            "bar_style": "success",
            "description": "",
            "description_tooltip": null,
            "layout": "IPY_MODEL_72fcc602b81f4151a01a65b2187da5a6",
            "max": 37,
            "min": 0,
            "orientation": "horizontal",
            "style": "IPY_MODEL_ad0cd196e3a24b8897c615ddfba538cb",
            "value": 37
          }
        },
        "7d87a310a2e8431ea22117d5121d6f85": {
          "model_module": "@jupyter-widgets/controls",
          "model_module_version": "1.5.0",
          "model_name": "HBoxModel",
          "state": {
            "_dom_classes": [],
            "_model_module": "@jupyter-widgets/controls",
            "_model_module_version": "1.5.0",
            "_model_name": "HBoxModel",
            "_view_count": null,
            "_view_module": "@jupyter-widgets/controls",
            "_view_module_version": "1.5.0",
            "_view_name": "HBoxView",
            "box_style": "",
            "children": [
              "IPY_MODEL_3c7ffab7645947228e7056369e5d9548",
              "IPY_MODEL_3928b68916394f22aca604a9b68e3324",
              "IPY_MODEL_00f00e45c8d64f368490202d35426bd9"
            ],
            "layout": "IPY_MODEL_2d1776673cec4adc84ea92c248b422d3"
          }
        },
        "7e4b99f1db5d465ba35f5146bd995bc9": {
          "model_module": "@jupyter-widgets/controls",
          "model_module_version": "1.5.0",
          "model_name": "ProgressStyleModel",
          "state": {
            "_model_module": "@jupyter-widgets/controls",
            "_model_module_version": "1.5.0",
            "_model_name": "ProgressStyleModel",
            "_view_count": null,
            "_view_module": "@jupyter-widgets/base",
            "_view_module_version": "1.2.0",
            "_view_name": "StyleView",
            "bar_color": null,
            "description_width": ""
          }
        },
        "7ef9f408ca164d46b76981e2dc830fc4": {
          "model_module": "@jupyter-widgets/controls",
          "model_module_version": "1.5.0",
          "model_name": "HTMLModel",
          "state": {
            "_dom_classes": [],
            "_model_module": "@jupyter-widgets/controls",
            "_model_module_version": "1.5.0",
            "_model_name": "HTMLModel",
            "_view_count": null,
            "_view_module": "@jupyter-widgets/controls",
            "_view_module_version": "1.5.0",
            "_view_name": "HTMLView",
            "description": "",
            "description_tooltip": null,
            "layout": "IPY_MODEL_8a6100be510549c9acbbe90172d5c700",
            "placeholder": "​",
            "style": "IPY_MODEL_3ed7cac34ef543568613de4004da6d1d",
            "value": " 37/37 [00:25&lt;00:00,  1.89it/s]"
          }
        },
        "7ff610aed7c846afbd6022370d47c6ff": {
          "model_module": "@jupyter-widgets/base",
          "model_module_version": "1.2.0",
          "model_name": "LayoutModel",
          "state": {
            "_model_module": "@jupyter-widgets/base",
            "_model_module_version": "1.2.0",
            "_model_name": "LayoutModel",
            "_view_count": null,
            "_view_module": "@jupyter-widgets/base",
            "_view_module_version": "1.2.0",
            "_view_name": "LayoutView",
            "align_content": null,
            "align_items": null,
            "align_self": null,
            "border": null,
            "bottom": null,
            "display": null,
            "flex": null,
            "flex_flow": null,
            "grid_area": null,
            "grid_auto_columns": null,
            "grid_auto_flow": null,
            "grid_auto_rows": null,
            "grid_column": null,
            "grid_gap": null,
            "grid_row": null,
            "grid_template_areas": null,
            "grid_template_columns": null,
            "grid_template_rows": null,
            "height": null,
            "justify_content": null,
            "justify_items": null,
            "left": null,
            "margin": null,
            "max_height": null,
            "max_width": null,
            "min_height": null,
            "min_width": null,
            "object_fit": null,
            "object_position": null,
            "order": null,
            "overflow": null,
            "overflow_x": null,
            "overflow_y": null,
            "padding": null,
            "right": null,
            "top": null,
            "visibility": null,
            "width": null
          }
        },
        "803580c1ae8c4a36b2e8f68bf873ba3d": {
          "model_module": "@jupyter-widgets/controls",
          "model_module_version": "1.5.0",
          "model_name": "ProgressStyleModel",
          "state": {
            "_model_module": "@jupyter-widgets/controls",
            "_model_module_version": "1.5.0",
            "_model_name": "ProgressStyleModel",
            "_view_count": null,
            "_view_module": "@jupyter-widgets/base",
            "_view_module_version": "1.2.0",
            "_view_name": "StyleView",
            "bar_color": null,
            "description_width": ""
          }
        },
        "807e1b4eafeb403d8b0cd96cd5d6230a": {
          "model_module": "@jupyter-widgets/controls",
          "model_module_version": "1.5.0",
          "model_name": "HTMLModel",
          "state": {
            "_dom_classes": [],
            "_model_module": "@jupyter-widgets/controls",
            "_model_module_version": "1.5.0",
            "_model_name": "HTMLModel",
            "_view_count": null,
            "_view_module": "@jupyter-widgets/controls",
            "_view_module_version": "1.5.0",
            "_view_name": "HTMLView",
            "description": "",
            "description_tooltip": null,
            "layout": "IPY_MODEL_84b6059c42314a89a2571974527cdb9e",
            "placeholder": "​",
            "style": "IPY_MODEL_6c62478b06d24db49f40176f00f016cf",
            "value": " 37/37 [00:25&lt;00:00,  1.90it/s]"
          }
        },
        "80f35e7b359c4c1cb28f92bda80be63d": {
          "model_module": "@jupyter-widgets/base",
          "model_module_version": "1.2.0",
          "model_name": "LayoutModel",
          "state": {
            "_model_module": "@jupyter-widgets/base",
            "_model_module_version": "1.2.0",
            "_model_name": "LayoutModel",
            "_view_count": null,
            "_view_module": "@jupyter-widgets/base",
            "_view_module_version": "1.2.0",
            "_view_name": "LayoutView",
            "align_content": null,
            "align_items": null,
            "align_self": null,
            "border": null,
            "bottom": null,
            "display": null,
            "flex": null,
            "flex_flow": null,
            "grid_area": null,
            "grid_auto_columns": null,
            "grid_auto_flow": null,
            "grid_auto_rows": null,
            "grid_column": null,
            "grid_gap": null,
            "grid_row": null,
            "grid_template_areas": null,
            "grid_template_columns": null,
            "grid_template_rows": null,
            "height": null,
            "justify_content": null,
            "justify_items": null,
            "left": null,
            "margin": null,
            "max_height": null,
            "max_width": null,
            "min_height": null,
            "min_width": null,
            "object_fit": null,
            "object_position": null,
            "order": null,
            "overflow": null,
            "overflow_x": null,
            "overflow_y": null,
            "padding": null,
            "right": null,
            "top": null,
            "visibility": null,
            "width": null
          }
        },
        "818e01a80ff94700b08c9e3760eb4cea": {
          "model_module": "@jupyter-widgets/base",
          "model_module_version": "1.2.0",
          "model_name": "LayoutModel",
          "state": {
            "_model_module": "@jupyter-widgets/base",
            "_model_module_version": "1.2.0",
            "_model_name": "LayoutModel",
            "_view_count": null,
            "_view_module": "@jupyter-widgets/base",
            "_view_module_version": "1.2.0",
            "_view_name": "LayoutView",
            "align_content": null,
            "align_items": null,
            "align_self": null,
            "border": null,
            "bottom": null,
            "display": null,
            "flex": null,
            "flex_flow": null,
            "grid_area": null,
            "grid_auto_columns": null,
            "grid_auto_flow": null,
            "grid_auto_rows": null,
            "grid_column": null,
            "grid_gap": null,
            "grid_row": null,
            "grid_template_areas": null,
            "grid_template_columns": null,
            "grid_template_rows": null,
            "height": null,
            "justify_content": null,
            "justify_items": null,
            "left": null,
            "margin": null,
            "max_height": null,
            "max_width": null,
            "min_height": null,
            "min_width": null,
            "object_fit": null,
            "object_position": null,
            "order": null,
            "overflow": null,
            "overflow_x": null,
            "overflow_y": null,
            "padding": null,
            "right": null,
            "top": null,
            "visibility": null,
            "width": null
          }
        },
        "819184196a33462da92b20078490b1e2": {
          "model_module": "@jupyter-widgets/base",
          "model_module_version": "1.2.0",
          "model_name": "LayoutModel",
          "state": {
            "_model_module": "@jupyter-widgets/base",
            "_model_module_version": "1.2.0",
            "_model_name": "LayoutModel",
            "_view_count": null,
            "_view_module": "@jupyter-widgets/base",
            "_view_module_version": "1.2.0",
            "_view_name": "LayoutView",
            "align_content": null,
            "align_items": null,
            "align_self": null,
            "border": null,
            "bottom": null,
            "display": null,
            "flex": null,
            "flex_flow": null,
            "grid_area": null,
            "grid_auto_columns": null,
            "grid_auto_flow": null,
            "grid_auto_rows": null,
            "grid_column": null,
            "grid_gap": null,
            "grid_row": null,
            "grid_template_areas": null,
            "grid_template_columns": null,
            "grid_template_rows": null,
            "height": null,
            "justify_content": null,
            "justify_items": null,
            "left": null,
            "margin": null,
            "max_height": null,
            "max_width": null,
            "min_height": null,
            "min_width": null,
            "object_fit": null,
            "object_position": null,
            "order": null,
            "overflow": null,
            "overflow_x": null,
            "overflow_y": null,
            "padding": null,
            "right": null,
            "top": null,
            "visibility": null,
            "width": null
          }
        },
        "81c04a71fbdd409ea7ff7ad8e40bad12": {
          "model_module": "@jupyter-widgets/controls",
          "model_module_version": "1.5.0",
          "model_name": "HBoxModel",
          "state": {
            "_dom_classes": [],
            "_model_module": "@jupyter-widgets/controls",
            "_model_module_version": "1.5.0",
            "_model_name": "HBoxModel",
            "_view_count": null,
            "_view_module": "@jupyter-widgets/controls",
            "_view_module_version": "1.5.0",
            "_view_name": "HBoxView",
            "box_style": "",
            "children": [
              "IPY_MODEL_6bc89510f5554348aba339c9bd399a04",
              "IPY_MODEL_24c53da83b004349be41ae1798a02ef1",
              "IPY_MODEL_44724d09de384370b63fb26c36276cb0"
            ],
            "layout": "IPY_MODEL_9093bede0f1f4ce993268813f2e7e303"
          }
        },
        "81e39f4863974b1aa2804ca56bc8400e": {
          "model_module": "@jupyter-widgets/base",
          "model_module_version": "1.2.0",
          "model_name": "LayoutModel",
          "state": {
            "_model_module": "@jupyter-widgets/base",
            "_model_module_version": "1.2.0",
            "_model_name": "LayoutModel",
            "_view_count": null,
            "_view_module": "@jupyter-widgets/base",
            "_view_module_version": "1.2.0",
            "_view_name": "LayoutView",
            "align_content": null,
            "align_items": null,
            "align_self": null,
            "border": null,
            "bottom": null,
            "display": null,
            "flex": null,
            "flex_flow": null,
            "grid_area": null,
            "grid_auto_columns": null,
            "grid_auto_flow": null,
            "grid_auto_rows": null,
            "grid_column": null,
            "grid_gap": null,
            "grid_row": null,
            "grid_template_areas": null,
            "grid_template_columns": null,
            "grid_template_rows": null,
            "height": null,
            "justify_content": null,
            "justify_items": null,
            "left": null,
            "margin": null,
            "max_height": null,
            "max_width": null,
            "min_height": null,
            "min_width": null,
            "object_fit": null,
            "object_position": null,
            "order": null,
            "overflow": null,
            "overflow_x": null,
            "overflow_y": null,
            "padding": null,
            "right": null,
            "top": null,
            "visibility": null,
            "width": null
          }
        },
        "824404b55eef4cfb9b13ffd67aa73805": {
          "model_module": "@jupyter-widgets/controls",
          "model_module_version": "1.5.0",
          "model_name": "FloatProgressModel",
          "state": {
            "_dom_classes": [],
            "_model_module": "@jupyter-widgets/controls",
            "_model_module_version": "1.5.0",
            "_model_name": "FloatProgressModel",
            "_view_count": null,
            "_view_module": "@jupyter-widgets/controls",
            "_view_module_version": "1.5.0",
            "_view_name": "ProgressView",
            "bar_style": "success",
            "description": "",
            "description_tooltip": null,
            "layout": "IPY_MODEL_0129feaf428541bfbd6e2b39cd34e57a",
            "max": 5,
            "min": 0,
            "orientation": "horizontal",
            "style": "IPY_MODEL_75ff8ff02e90411e9d042d1feb96f48b",
            "value": 5
          }
        },
        "824e95b2f0124263a86186205a08f6aa": {
          "model_module": "@jupyter-widgets/controls",
          "model_module_version": "1.5.0",
          "model_name": "DescriptionStyleModel",
          "state": {
            "_model_module": "@jupyter-widgets/controls",
            "_model_module_version": "1.5.0",
            "_model_name": "DescriptionStyleModel",
            "_view_count": null,
            "_view_module": "@jupyter-widgets/base",
            "_view_module_version": "1.2.0",
            "_view_name": "StyleView",
            "description_width": ""
          }
        },
        "82864a1c9a0f48a3b3611cab45f82fbd": {
          "model_module": "@jupyter-widgets/controls",
          "model_module_version": "1.5.0",
          "model_name": "DescriptionStyleModel",
          "state": {
            "_model_module": "@jupyter-widgets/controls",
            "_model_module_version": "1.5.0",
            "_model_name": "DescriptionStyleModel",
            "_view_count": null,
            "_view_module": "@jupyter-widgets/base",
            "_view_module_version": "1.2.0",
            "_view_name": "StyleView",
            "description_width": ""
          }
        },
        "82ffa783a7274d29b98a9b27558ed062": {
          "model_module": "@jupyter-widgets/controls",
          "model_module_version": "1.5.0",
          "model_name": "ProgressStyleModel",
          "state": {
            "_model_module": "@jupyter-widgets/controls",
            "_model_module_version": "1.5.0",
            "_model_name": "ProgressStyleModel",
            "_view_count": null,
            "_view_module": "@jupyter-widgets/base",
            "_view_module_version": "1.2.0",
            "_view_name": "StyleView",
            "bar_color": null,
            "description_width": ""
          }
        },
        "831c51d2c7aa4259835d91da0d9de53c": {
          "model_module": "@jupyter-widgets/controls",
          "model_module_version": "1.5.0",
          "model_name": "HBoxModel",
          "state": {
            "_dom_classes": [],
            "_model_module": "@jupyter-widgets/controls",
            "_model_module_version": "1.5.0",
            "_model_name": "HBoxModel",
            "_view_count": null,
            "_view_module": "@jupyter-widgets/controls",
            "_view_module_version": "1.5.0",
            "_view_name": "HBoxView",
            "box_style": "",
            "children": [
              "IPY_MODEL_2f31b89771d448a9b605edc57b61fb9f",
              "IPY_MODEL_003e7a1b48d74895b4b2ffc2fdb00f3c",
              "IPY_MODEL_9442ae7fe992407abec9087fb8028064"
            ],
            "layout": "IPY_MODEL_c79283203a55447498fccb60b1652410"
          }
        },
        "83e128637ee446ad818cf670474ea36c": {
          "model_module": "@jupyter-widgets/controls",
          "model_module_version": "1.5.0",
          "model_name": "FloatProgressModel",
          "state": {
            "_dom_classes": [],
            "_model_module": "@jupyter-widgets/controls",
            "_model_module_version": "1.5.0",
            "_model_name": "FloatProgressModel",
            "_view_count": null,
            "_view_module": "@jupyter-widgets/controls",
            "_view_module_version": "1.5.0",
            "_view_name": "ProgressView",
            "bar_style": "success",
            "description": "",
            "description_tooltip": null,
            "layout": "IPY_MODEL_f0b56f7b732148428081d223d01702a4",
            "max": 5,
            "min": 0,
            "orientation": "horizontal",
            "style": "IPY_MODEL_03311d4f999247149e334db500b404c3",
            "value": 5
          }
        },
        "843c871386ad4b38aab76ada9fe63902": {
          "model_module": "@jupyter-widgets/controls",
          "model_module_version": "1.5.0",
          "model_name": "DescriptionStyleModel",
          "state": {
            "_model_module": "@jupyter-widgets/controls",
            "_model_module_version": "1.5.0",
            "_model_name": "DescriptionStyleModel",
            "_view_count": null,
            "_view_module": "@jupyter-widgets/base",
            "_view_module_version": "1.2.0",
            "_view_name": "StyleView",
            "description_width": ""
          }
        },
        "84b6059c42314a89a2571974527cdb9e": {
          "model_module": "@jupyter-widgets/base",
          "model_module_version": "1.2.0",
          "model_name": "LayoutModel",
          "state": {
            "_model_module": "@jupyter-widgets/base",
            "_model_module_version": "1.2.0",
            "_model_name": "LayoutModel",
            "_view_count": null,
            "_view_module": "@jupyter-widgets/base",
            "_view_module_version": "1.2.0",
            "_view_name": "LayoutView",
            "align_content": null,
            "align_items": null,
            "align_self": null,
            "border": null,
            "bottom": null,
            "display": null,
            "flex": null,
            "flex_flow": null,
            "grid_area": null,
            "grid_auto_columns": null,
            "grid_auto_flow": null,
            "grid_auto_rows": null,
            "grid_column": null,
            "grid_gap": null,
            "grid_row": null,
            "grid_template_areas": null,
            "grid_template_columns": null,
            "grid_template_rows": null,
            "height": null,
            "justify_content": null,
            "justify_items": null,
            "left": null,
            "margin": null,
            "max_height": null,
            "max_width": null,
            "min_height": null,
            "min_width": null,
            "object_fit": null,
            "object_position": null,
            "order": null,
            "overflow": null,
            "overflow_x": null,
            "overflow_y": null,
            "padding": null,
            "right": null,
            "top": null,
            "visibility": null,
            "width": null
          }
        },
        "852f6197521843cb89aa1b712f6faa06": {
          "model_module": "@jupyter-widgets/controls",
          "model_module_version": "1.5.0",
          "model_name": "FloatProgressModel",
          "state": {
            "_dom_classes": [],
            "_model_module": "@jupyter-widgets/controls",
            "_model_module_version": "1.5.0",
            "_model_name": "FloatProgressModel",
            "_view_count": null,
            "_view_module": "@jupyter-widgets/controls",
            "_view_module_version": "1.5.0",
            "_view_name": "ProgressView",
            "bar_style": "success",
            "description": "",
            "description_tooltip": null,
            "layout": "IPY_MODEL_55a93ef638264fa2a47efd58d6c2eb68",
            "max": 37,
            "min": 0,
            "orientation": "horizontal",
            "style": "IPY_MODEL_9ea36484f14f404a9ea31f8f8bdbd04d",
            "value": 37
          }
        },
        "8568a775dff144e996cb9b0ea1e703fa": {
          "model_module": "@jupyter-widgets/controls",
          "model_module_version": "1.5.0",
          "model_name": "HBoxModel",
          "state": {
            "_dom_classes": [],
            "_model_module": "@jupyter-widgets/controls",
            "_model_module_version": "1.5.0",
            "_model_name": "HBoxModel",
            "_view_count": null,
            "_view_module": "@jupyter-widgets/controls",
            "_view_module_version": "1.5.0",
            "_view_name": "HBoxView",
            "box_style": "",
            "children": [
              "IPY_MODEL_b4b57b9b1f17433bb39858f34abf87fb",
              "IPY_MODEL_d018642989584e39a8f76afe48d29e78",
              "IPY_MODEL_26cbc3daaf5e4e9f8abe0b32c7576909"
            ],
            "layout": "IPY_MODEL_b6bb28e84463402693df6c9ffa0aa1cb"
          }
        },
        "85dbcf4f82b846759a2aab0ecdd0e444": {
          "model_module": "@jupyter-widgets/controls",
          "model_module_version": "1.5.0",
          "model_name": "HBoxModel",
          "state": {
            "_dom_classes": [],
            "_model_module": "@jupyter-widgets/controls",
            "_model_module_version": "1.5.0",
            "_model_name": "HBoxModel",
            "_view_count": null,
            "_view_module": "@jupyter-widgets/controls",
            "_view_module_version": "1.5.0",
            "_view_name": "HBoxView",
            "box_style": "",
            "children": [
              "IPY_MODEL_b9dae52a5211492197ba1bf2496c88c9",
              "IPY_MODEL_b0d6d99b9dac4f27b85f0bd4e3788c52",
              "IPY_MODEL_ca4fa4fc5b6b47cc8ef149145039307f"
            ],
            "layout": "IPY_MODEL_a1d8c6e7c25f43119e2acf1bd95d9efa"
          }
        },
        "87ba2e044b0b4a9a8b083734c2e2b7cb": {
          "model_module": "@jupyter-widgets/controls",
          "model_module_version": "1.5.0",
          "model_name": "HTMLModel",
          "state": {
            "_dom_classes": [],
            "_model_module": "@jupyter-widgets/controls",
            "_model_module_version": "1.5.0",
            "_model_name": "HTMLModel",
            "_view_count": null,
            "_view_module": "@jupyter-widgets/controls",
            "_view_module_version": "1.5.0",
            "_view_name": "HTMLView",
            "description": "",
            "description_tooltip": null,
            "layout": "IPY_MODEL_2ba32875064948d4bbea9e5292e95618",
            "placeholder": "​",
            "style": "IPY_MODEL_94943e90c16542f9b4e3116aea2ebaf0",
            "value": "100%"
          }
        },
        "8a6100be510549c9acbbe90172d5c700": {
          "model_module": "@jupyter-widgets/base",
          "model_module_version": "1.2.0",
          "model_name": "LayoutModel",
          "state": {
            "_model_module": "@jupyter-widgets/base",
            "_model_module_version": "1.2.0",
            "_model_name": "LayoutModel",
            "_view_count": null,
            "_view_module": "@jupyter-widgets/base",
            "_view_module_version": "1.2.0",
            "_view_name": "LayoutView",
            "align_content": null,
            "align_items": null,
            "align_self": null,
            "border": null,
            "bottom": null,
            "display": null,
            "flex": null,
            "flex_flow": null,
            "grid_area": null,
            "grid_auto_columns": null,
            "grid_auto_flow": null,
            "grid_auto_rows": null,
            "grid_column": null,
            "grid_gap": null,
            "grid_row": null,
            "grid_template_areas": null,
            "grid_template_columns": null,
            "grid_template_rows": null,
            "height": null,
            "justify_content": null,
            "justify_items": null,
            "left": null,
            "margin": null,
            "max_height": null,
            "max_width": null,
            "min_height": null,
            "min_width": null,
            "object_fit": null,
            "object_position": null,
            "order": null,
            "overflow": null,
            "overflow_x": null,
            "overflow_y": null,
            "padding": null,
            "right": null,
            "top": null,
            "visibility": null,
            "width": null
          }
        },
        "8a9431f4c41e4b4bbf7019b102b83425": {
          "model_module": "@jupyter-widgets/base",
          "model_module_version": "1.2.0",
          "model_name": "LayoutModel",
          "state": {
            "_model_module": "@jupyter-widgets/base",
            "_model_module_version": "1.2.0",
            "_model_name": "LayoutModel",
            "_view_count": null,
            "_view_module": "@jupyter-widgets/base",
            "_view_module_version": "1.2.0",
            "_view_name": "LayoutView",
            "align_content": null,
            "align_items": null,
            "align_self": null,
            "border": null,
            "bottom": null,
            "display": null,
            "flex": null,
            "flex_flow": null,
            "grid_area": null,
            "grid_auto_columns": null,
            "grid_auto_flow": null,
            "grid_auto_rows": null,
            "grid_column": null,
            "grid_gap": null,
            "grid_row": null,
            "grid_template_areas": null,
            "grid_template_columns": null,
            "grid_template_rows": null,
            "height": null,
            "justify_content": null,
            "justify_items": null,
            "left": null,
            "margin": null,
            "max_height": null,
            "max_width": null,
            "min_height": null,
            "min_width": null,
            "object_fit": null,
            "object_position": null,
            "order": null,
            "overflow": null,
            "overflow_x": null,
            "overflow_y": null,
            "padding": null,
            "right": null,
            "top": null,
            "visibility": null,
            "width": null
          }
        },
        "8c190f9038474a74971c2440f58d94cd": {
          "model_module": "@jupyter-widgets/controls",
          "model_module_version": "1.5.0",
          "model_name": "HTMLModel",
          "state": {
            "_dom_classes": [],
            "_model_module": "@jupyter-widgets/controls",
            "_model_module_version": "1.5.0",
            "_model_name": "HTMLModel",
            "_view_count": null,
            "_view_module": "@jupyter-widgets/controls",
            "_view_module_version": "1.5.0",
            "_view_name": "HTMLView",
            "description": "",
            "description_tooltip": null,
            "layout": "IPY_MODEL_d96825ad038841889987e4100eaf2463",
            "placeholder": "​",
            "style": "IPY_MODEL_c07ec67d62ee44e399e12dccedb8c90e",
            "value": " 5/5 [00:01&lt;00:00,  4.21it/s]"
          }
        },
        "8c5af8534b81461a941dd37d55a995ab": {
          "model_module": "@jupyter-widgets/base",
          "model_module_version": "1.2.0",
          "model_name": "LayoutModel",
          "state": {
            "_model_module": "@jupyter-widgets/base",
            "_model_module_version": "1.2.0",
            "_model_name": "LayoutModel",
            "_view_count": null,
            "_view_module": "@jupyter-widgets/base",
            "_view_module_version": "1.2.0",
            "_view_name": "LayoutView",
            "align_content": null,
            "align_items": null,
            "align_self": null,
            "border": null,
            "bottom": null,
            "display": null,
            "flex": null,
            "flex_flow": null,
            "grid_area": null,
            "grid_auto_columns": null,
            "grid_auto_flow": null,
            "grid_auto_rows": null,
            "grid_column": null,
            "grid_gap": null,
            "grid_row": null,
            "grid_template_areas": null,
            "grid_template_columns": null,
            "grid_template_rows": null,
            "height": null,
            "justify_content": null,
            "justify_items": null,
            "left": null,
            "margin": null,
            "max_height": null,
            "max_width": null,
            "min_height": null,
            "min_width": null,
            "object_fit": null,
            "object_position": null,
            "order": null,
            "overflow": null,
            "overflow_x": null,
            "overflow_y": null,
            "padding": null,
            "right": null,
            "top": null,
            "visibility": null,
            "width": null
          }
        },
        "8da58b68d90f4d43be9752036b556f66": {
          "model_module": "@jupyter-widgets/base",
          "model_module_version": "1.2.0",
          "model_name": "LayoutModel",
          "state": {
            "_model_module": "@jupyter-widgets/base",
            "_model_module_version": "1.2.0",
            "_model_name": "LayoutModel",
            "_view_count": null,
            "_view_module": "@jupyter-widgets/base",
            "_view_module_version": "1.2.0",
            "_view_name": "LayoutView",
            "align_content": null,
            "align_items": null,
            "align_self": null,
            "border": null,
            "bottom": null,
            "display": null,
            "flex": null,
            "flex_flow": null,
            "grid_area": null,
            "grid_auto_columns": null,
            "grid_auto_flow": null,
            "grid_auto_rows": null,
            "grid_column": null,
            "grid_gap": null,
            "grid_row": null,
            "grid_template_areas": null,
            "grid_template_columns": null,
            "grid_template_rows": null,
            "height": null,
            "justify_content": null,
            "justify_items": null,
            "left": null,
            "margin": null,
            "max_height": null,
            "max_width": null,
            "min_height": null,
            "min_width": null,
            "object_fit": null,
            "object_position": null,
            "order": null,
            "overflow": null,
            "overflow_x": null,
            "overflow_y": null,
            "padding": null,
            "right": null,
            "top": null,
            "visibility": null,
            "width": null
          }
        },
        "8df0e0bed5ed4684894b22752b5f02b1": {
          "model_module": "@jupyter-widgets/controls",
          "model_module_version": "1.5.0",
          "model_name": "DescriptionStyleModel",
          "state": {
            "_model_module": "@jupyter-widgets/controls",
            "_model_module_version": "1.5.0",
            "_model_name": "DescriptionStyleModel",
            "_view_count": null,
            "_view_module": "@jupyter-widgets/base",
            "_view_module_version": "1.2.0",
            "_view_name": "StyleView",
            "description_width": ""
          }
        },
        "8e84c0336e674bda8e3340213c0d928d": {
          "model_module": "@jupyter-widgets/controls",
          "model_module_version": "1.5.0",
          "model_name": "DescriptionStyleModel",
          "state": {
            "_model_module": "@jupyter-widgets/controls",
            "_model_module_version": "1.5.0",
            "_model_name": "DescriptionStyleModel",
            "_view_count": null,
            "_view_module": "@jupyter-widgets/base",
            "_view_module_version": "1.2.0",
            "_view_name": "StyleView",
            "description_width": ""
          }
        },
        "8ed5976236ff4639a45867c1f64ce439": {
          "model_module": "@jupyter-widgets/base",
          "model_module_version": "1.2.0",
          "model_name": "LayoutModel",
          "state": {
            "_model_module": "@jupyter-widgets/base",
            "_model_module_version": "1.2.0",
            "_model_name": "LayoutModel",
            "_view_count": null,
            "_view_module": "@jupyter-widgets/base",
            "_view_module_version": "1.2.0",
            "_view_name": "LayoutView",
            "align_content": null,
            "align_items": null,
            "align_self": null,
            "border": null,
            "bottom": null,
            "display": null,
            "flex": null,
            "flex_flow": null,
            "grid_area": null,
            "grid_auto_columns": null,
            "grid_auto_flow": null,
            "grid_auto_rows": null,
            "grid_column": null,
            "grid_gap": null,
            "grid_row": null,
            "grid_template_areas": null,
            "grid_template_columns": null,
            "grid_template_rows": null,
            "height": null,
            "justify_content": null,
            "justify_items": null,
            "left": null,
            "margin": null,
            "max_height": null,
            "max_width": null,
            "min_height": null,
            "min_width": null,
            "object_fit": null,
            "object_position": null,
            "order": null,
            "overflow": null,
            "overflow_x": null,
            "overflow_y": null,
            "padding": null,
            "right": null,
            "top": null,
            "visibility": null,
            "width": null
          }
        },
        "8f041d37f73b4d45bab65b8508143882": {
          "model_module": "@jupyter-widgets/controls",
          "model_module_version": "1.5.0",
          "model_name": "DescriptionStyleModel",
          "state": {
            "_model_module": "@jupyter-widgets/controls",
            "_model_module_version": "1.5.0",
            "_model_name": "DescriptionStyleModel",
            "_view_count": null,
            "_view_module": "@jupyter-widgets/base",
            "_view_module_version": "1.2.0",
            "_view_name": "StyleView",
            "description_width": ""
          }
        },
        "8fb61b893f6d40a2b893d94c1c25539a": {
          "model_module": "@jupyter-widgets/base",
          "model_module_version": "1.2.0",
          "model_name": "LayoutModel",
          "state": {
            "_model_module": "@jupyter-widgets/base",
            "_model_module_version": "1.2.0",
            "_model_name": "LayoutModel",
            "_view_count": null,
            "_view_module": "@jupyter-widgets/base",
            "_view_module_version": "1.2.0",
            "_view_name": "LayoutView",
            "align_content": null,
            "align_items": null,
            "align_self": null,
            "border": null,
            "bottom": null,
            "display": null,
            "flex": null,
            "flex_flow": null,
            "grid_area": null,
            "grid_auto_columns": null,
            "grid_auto_flow": null,
            "grid_auto_rows": null,
            "grid_column": null,
            "grid_gap": null,
            "grid_row": null,
            "grid_template_areas": null,
            "grid_template_columns": null,
            "grid_template_rows": null,
            "height": null,
            "justify_content": null,
            "justify_items": null,
            "left": null,
            "margin": null,
            "max_height": null,
            "max_width": null,
            "min_height": null,
            "min_width": null,
            "object_fit": null,
            "object_position": null,
            "order": null,
            "overflow": null,
            "overflow_x": null,
            "overflow_y": null,
            "padding": null,
            "right": null,
            "top": null,
            "visibility": null,
            "width": null
          }
        },
        "90715807589d4326974cc772f73bac86": {
          "model_module": "@jupyter-widgets/controls",
          "model_module_version": "1.5.0",
          "model_name": "DescriptionStyleModel",
          "state": {
            "_model_module": "@jupyter-widgets/controls",
            "_model_module_version": "1.5.0",
            "_model_name": "DescriptionStyleModel",
            "_view_count": null,
            "_view_module": "@jupyter-widgets/base",
            "_view_module_version": "1.2.0",
            "_view_name": "StyleView",
            "description_width": ""
          }
        },
        "9093bede0f1f4ce993268813f2e7e303": {
          "model_module": "@jupyter-widgets/base",
          "model_module_version": "1.2.0",
          "model_name": "LayoutModel",
          "state": {
            "_model_module": "@jupyter-widgets/base",
            "_model_module_version": "1.2.0",
            "_model_name": "LayoutModel",
            "_view_count": null,
            "_view_module": "@jupyter-widgets/base",
            "_view_module_version": "1.2.0",
            "_view_name": "LayoutView",
            "align_content": null,
            "align_items": null,
            "align_self": null,
            "border": null,
            "bottom": null,
            "display": null,
            "flex": null,
            "flex_flow": null,
            "grid_area": null,
            "grid_auto_columns": null,
            "grid_auto_flow": null,
            "grid_auto_rows": null,
            "grid_column": null,
            "grid_gap": null,
            "grid_row": null,
            "grid_template_areas": null,
            "grid_template_columns": null,
            "grid_template_rows": null,
            "height": null,
            "justify_content": null,
            "justify_items": null,
            "left": null,
            "margin": null,
            "max_height": null,
            "max_width": null,
            "min_height": null,
            "min_width": null,
            "object_fit": null,
            "object_position": null,
            "order": null,
            "overflow": null,
            "overflow_x": null,
            "overflow_y": null,
            "padding": null,
            "right": null,
            "top": null,
            "visibility": null,
            "width": null
          }
        },
        "917bfcfefdab4b79ab9b07a7d0972522": {
          "model_module": "@jupyter-widgets/base",
          "model_module_version": "1.2.0",
          "model_name": "LayoutModel",
          "state": {
            "_model_module": "@jupyter-widgets/base",
            "_model_module_version": "1.2.0",
            "_model_name": "LayoutModel",
            "_view_count": null,
            "_view_module": "@jupyter-widgets/base",
            "_view_module_version": "1.2.0",
            "_view_name": "LayoutView",
            "align_content": null,
            "align_items": null,
            "align_self": null,
            "border": null,
            "bottom": null,
            "display": null,
            "flex": null,
            "flex_flow": null,
            "grid_area": null,
            "grid_auto_columns": null,
            "grid_auto_flow": null,
            "grid_auto_rows": null,
            "grid_column": null,
            "grid_gap": null,
            "grid_row": null,
            "grid_template_areas": null,
            "grid_template_columns": null,
            "grid_template_rows": null,
            "height": null,
            "justify_content": null,
            "justify_items": null,
            "left": null,
            "margin": null,
            "max_height": null,
            "max_width": null,
            "min_height": null,
            "min_width": null,
            "object_fit": null,
            "object_position": null,
            "order": null,
            "overflow": null,
            "overflow_x": null,
            "overflow_y": null,
            "padding": null,
            "right": null,
            "top": null,
            "visibility": null,
            "width": null
          }
        },
        "92d37b2173e447ac804168bb7c98150b": {
          "model_module": "@jupyter-widgets/controls",
          "model_module_version": "1.5.0",
          "model_name": "HTMLModel",
          "state": {
            "_dom_classes": [],
            "_model_module": "@jupyter-widgets/controls",
            "_model_module_version": "1.5.0",
            "_model_name": "HTMLModel",
            "_view_count": null,
            "_view_module": "@jupyter-widgets/controls",
            "_view_module_version": "1.5.0",
            "_view_name": "HTMLView",
            "description": "",
            "description_tooltip": null,
            "layout": "IPY_MODEL_1f46de0eadee4017bb0da5f394d79a86",
            "placeholder": "​",
            "style": "IPY_MODEL_988c3c0ae24149a0a425420e53db2433",
            "value": " 37/37 [00:25&lt;00:00,  1.90it/s]"
          }
        },
        "93bad4b415fc49b780a45580530fcc44": {
          "model_module": "@jupyter-widgets/base",
          "model_module_version": "1.2.0",
          "model_name": "LayoutModel",
          "state": {
            "_model_module": "@jupyter-widgets/base",
            "_model_module_version": "1.2.0",
            "_model_name": "LayoutModel",
            "_view_count": null,
            "_view_module": "@jupyter-widgets/base",
            "_view_module_version": "1.2.0",
            "_view_name": "LayoutView",
            "align_content": null,
            "align_items": null,
            "align_self": null,
            "border": null,
            "bottom": null,
            "display": null,
            "flex": null,
            "flex_flow": null,
            "grid_area": null,
            "grid_auto_columns": null,
            "grid_auto_flow": null,
            "grid_auto_rows": null,
            "grid_column": null,
            "grid_gap": null,
            "grid_row": null,
            "grid_template_areas": null,
            "grid_template_columns": null,
            "grid_template_rows": null,
            "height": null,
            "justify_content": null,
            "justify_items": null,
            "left": null,
            "margin": null,
            "max_height": null,
            "max_width": null,
            "min_height": null,
            "min_width": null,
            "object_fit": null,
            "object_position": null,
            "order": null,
            "overflow": null,
            "overflow_x": null,
            "overflow_y": null,
            "padding": null,
            "right": null,
            "top": null,
            "visibility": null,
            "width": null
          }
        },
        "9442ae7fe992407abec9087fb8028064": {
          "model_module": "@jupyter-widgets/controls",
          "model_module_version": "1.5.0",
          "model_name": "HTMLModel",
          "state": {
            "_dom_classes": [],
            "_model_module": "@jupyter-widgets/controls",
            "_model_module_version": "1.5.0",
            "_model_name": "HTMLModel",
            "_view_count": null,
            "_view_module": "@jupyter-widgets/controls",
            "_view_module_version": "1.5.0",
            "_view_name": "HTMLView",
            "description": "",
            "description_tooltip": null,
            "layout": "IPY_MODEL_819184196a33462da92b20078490b1e2",
            "placeholder": "​",
            "style": "IPY_MODEL_4f794698ca864679bbe45c0b3127ef32",
            "value": " 37/37 [00:25&lt;00:00,  1.91it/s]"
          }
        },
        "94943e90c16542f9b4e3116aea2ebaf0": {
          "model_module": "@jupyter-widgets/controls",
          "model_module_version": "1.5.0",
          "model_name": "DescriptionStyleModel",
          "state": {
            "_model_module": "@jupyter-widgets/controls",
            "_model_module_version": "1.5.0",
            "_model_name": "DescriptionStyleModel",
            "_view_count": null,
            "_view_module": "@jupyter-widgets/base",
            "_view_module_version": "1.2.0",
            "_view_name": "StyleView",
            "description_width": ""
          }
        },
        "94f168b1ed8c4ba69922a548f558f1f7": {
          "model_module": "@jupyter-widgets/controls",
          "model_module_version": "1.5.0",
          "model_name": "DescriptionStyleModel",
          "state": {
            "_model_module": "@jupyter-widgets/controls",
            "_model_module_version": "1.5.0",
            "_model_name": "DescriptionStyleModel",
            "_view_count": null,
            "_view_module": "@jupyter-widgets/base",
            "_view_module_version": "1.2.0",
            "_view_name": "StyleView",
            "description_width": ""
          }
        },
        "9518698ad67c48498e97b288b9385ede": {
          "model_module": "@jupyter-widgets/base",
          "model_module_version": "1.2.0",
          "model_name": "LayoutModel",
          "state": {
            "_model_module": "@jupyter-widgets/base",
            "_model_module_version": "1.2.0",
            "_model_name": "LayoutModel",
            "_view_count": null,
            "_view_module": "@jupyter-widgets/base",
            "_view_module_version": "1.2.0",
            "_view_name": "LayoutView",
            "align_content": null,
            "align_items": null,
            "align_self": null,
            "border": null,
            "bottom": null,
            "display": null,
            "flex": null,
            "flex_flow": null,
            "grid_area": null,
            "grid_auto_columns": null,
            "grid_auto_flow": null,
            "grid_auto_rows": null,
            "grid_column": null,
            "grid_gap": null,
            "grid_row": null,
            "grid_template_areas": null,
            "grid_template_columns": null,
            "grid_template_rows": null,
            "height": null,
            "justify_content": null,
            "justify_items": null,
            "left": null,
            "margin": null,
            "max_height": null,
            "max_width": null,
            "min_height": null,
            "min_width": null,
            "object_fit": null,
            "object_position": null,
            "order": null,
            "overflow": null,
            "overflow_x": null,
            "overflow_y": null,
            "padding": null,
            "right": null,
            "top": null,
            "visibility": null,
            "width": null
          }
        },
        "9544e01d3bed4d0f9cbf5f1dbe1542a9": {
          "model_module": "@jupyter-widgets/controls",
          "model_module_version": "1.5.0",
          "model_name": "ProgressStyleModel",
          "state": {
            "_model_module": "@jupyter-widgets/controls",
            "_model_module_version": "1.5.0",
            "_model_name": "ProgressStyleModel",
            "_view_count": null,
            "_view_module": "@jupyter-widgets/base",
            "_view_module_version": "1.2.0",
            "_view_name": "StyleView",
            "bar_color": null,
            "description_width": ""
          }
        },
        "9642d2bc669e4596bef486e5b79678f0": {
          "model_module": "@jupyter-widgets/controls",
          "model_module_version": "1.5.0",
          "model_name": "HTMLModel",
          "state": {
            "_dom_classes": [],
            "_model_module": "@jupyter-widgets/controls",
            "_model_module_version": "1.5.0",
            "_model_name": "HTMLModel",
            "_view_count": null,
            "_view_module": "@jupyter-widgets/controls",
            "_view_module_version": "1.5.0",
            "_view_name": "HTMLView",
            "description": "",
            "description_tooltip": null,
            "layout": "IPY_MODEL_a0d243d3bbbf440a8a2a01533f01f09a",
            "placeholder": "​",
            "style": "IPY_MODEL_6c0b774a1df84e3b86680f6e4ad8eee3",
            "value": "100%"
          }
        },
        "9790282f6881401a9dc8e9b1a301a41f": {
          "model_module": "@jupyter-widgets/controls",
          "model_module_version": "1.5.0",
          "model_name": "HTMLModel",
          "state": {
            "_dom_classes": [],
            "_model_module": "@jupyter-widgets/controls",
            "_model_module_version": "1.5.0",
            "_model_name": "HTMLModel",
            "_view_count": null,
            "_view_module": "@jupyter-widgets/controls",
            "_view_module_version": "1.5.0",
            "_view_name": "HTMLView",
            "description": "",
            "description_tooltip": null,
            "layout": "IPY_MODEL_16910c7443ac424ab7cda1d15a1bb843",
            "placeholder": "​",
            "style": "IPY_MODEL_90715807589d4326974cc772f73bac86",
            "value": "100%"
          }
        },
        "97d27154c2a046108032b757da53f285": {
          "model_module": "@jupyter-widgets/controls",
          "model_module_version": "1.5.0",
          "model_name": "HTMLModel",
          "state": {
            "_dom_classes": [],
            "_model_module": "@jupyter-widgets/controls",
            "_model_module_version": "1.5.0",
            "_model_name": "HTMLModel",
            "_view_count": null,
            "_view_module": "@jupyter-widgets/controls",
            "_view_module_version": "1.5.0",
            "_view_name": "HTMLView",
            "description": "",
            "description_tooltip": null,
            "layout": "IPY_MODEL_4741a9f08309419984788bc6e562b904",
            "placeholder": "​",
            "style": "IPY_MODEL_6863409dc6594560b6950cdcd530387a",
            "value": " 37/37 [00:25&lt;00:00,  1.90it/s]"
          }
        },
        "982510f450b148f0a264854f101507f6": {
          "model_module": "@jupyter-widgets/controls",
          "model_module_version": "1.5.0",
          "model_name": "DescriptionStyleModel",
          "state": {
            "_model_module": "@jupyter-widgets/controls",
            "_model_module_version": "1.5.0",
            "_model_name": "DescriptionStyleModel",
            "_view_count": null,
            "_view_module": "@jupyter-widgets/base",
            "_view_module_version": "1.2.0",
            "_view_name": "StyleView",
            "description_width": ""
          }
        },
        "988c3c0ae24149a0a425420e53db2433": {
          "model_module": "@jupyter-widgets/controls",
          "model_module_version": "1.5.0",
          "model_name": "DescriptionStyleModel",
          "state": {
            "_model_module": "@jupyter-widgets/controls",
            "_model_module_version": "1.5.0",
            "_model_name": "DescriptionStyleModel",
            "_view_count": null,
            "_view_module": "@jupyter-widgets/base",
            "_view_module_version": "1.2.0",
            "_view_name": "StyleView",
            "description_width": ""
          }
        },
        "98c11d18d8b64df2ade3b66eb2d09934": {
          "model_module": "@jupyter-widgets/base",
          "model_module_version": "1.2.0",
          "model_name": "LayoutModel",
          "state": {
            "_model_module": "@jupyter-widgets/base",
            "_model_module_version": "1.2.0",
            "_model_name": "LayoutModel",
            "_view_count": null,
            "_view_module": "@jupyter-widgets/base",
            "_view_module_version": "1.2.0",
            "_view_name": "LayoutView",
            "align_content": null,
            "align_items": null,
            "align_self": null,
            "border": null,
            "bottom": null,
            "display": null,
            "flex": null,
            "flex_flow": null,
            "grid_area": null,
            "grid_auto_columns": null,
            "grid_auto_flow": null,
            "grid_auto_rows": null,
            "grid_column": null,
            "grid_gap": null,
            "grid_row": null,
            "grid_template_areas": null,
            "grid_template_columns": null,
            "grid_template_rows": null,
            "height": null,
            "justify_content": null,
            "justify_items": null,
            "left": null,
            "margin": null,
            "max_height": null,
            "max_width": null,
            "min_height": null,
            "min_width": null,
            "object_fit": null,
            "object_position": null,
            "order": null,
            "overflow": null,
            "overflow_x": null,
            "overflow_y": null,
            "padding": null,
            "right": null,
            "top": null,
            "visibility": null,
            "width": null
          }
        },
        "9955cbed8c4a4ef988b81f68d2ccee65": {
          "model_module": "@jupyter-widgets/controls",
          "model_module_version": "1.5.0",
          "model_name": "DescriptionStyleModel",
          "state": {
            "_model_module": "@jupyter-widgets/controls",
            "_model_module_version": "1.5.0",
            "_model_name": "DescriptionStyleModel",
            "_view_count": null,
            "_view_module": "@jupyter-widgets/base",
            "_view_module_version": "1.2.0",
            "_view_name": "StyleView",
            "description_width": ""
          }
        },
        "99ef9f7b65e54ae3b1b1c4e249d274eb": {
          "model_module": "@jupyter-widgets/base",
          "model_module_version": "1.2.0",
          "model_name": "LayoutModel",
          "state": {
            "_model_module": "@jupyter-widgets/base",
            "_model_module_version": "1.2.0",
            "_model_name": "LayoutModel",
            "_view_count": null,
            "_view_module": "@jupyter-widgets/base",
            "_view_module_version": "1.2.0",
            "_view_name": "LayoutView",
            "align_content": null,
            "align_items": null,
            "align_self": null,
            "border": null,
            "bottom": null,
            "display": null,
            "flex": null,
            "flex_flow": null,
            "grid_area": null,
            "grid_auto_columns": null,
            "grid_auto_flow": null,
            "grid_auto_rows": null,
            "grid_column": null,
            "grid_gap": null,
            "grid_row": null,
            "grid_template_areas": null,
            "grid_template_columns": null,
            "grid_template_rows": null,
            "height": null,
            "justify_content": null,
            "justify_items": null,
            "left": null,
            "margin": null,
            "max_height": null,
            "max_width": null,
            "min_height": null,
            "min_width": null,
            "object_fit": null,
            "object_position": null,
            "order": null,
            "overflow": null,
            "overflow_x": null,
            "overflow_y": null,
            "padding": null,
            "right": null,
            "top": null,
            "visibility": null,
            "width": null
          }
        },
        "9adcc3aea7394ab0846c494843fcbee1": {
          "model_module": "@jupyter-widgets/base",
          "model_module_version": "1.2.0",
          "model_name": "LayoutModel",
          "state": {
            "_model_module": "@jupyter-widgets/base",
            "_model_module_version": "1.2.0",
            "_model_name": "LayoutModel",
            "_view_count": null,
            "_view_module": "@jupyter-widgets/base",
            "_view_module_version": "1.2.0",
            "_view_name": "LayoutView",
            "align_content": null,
            "align_items": null,
            "align_self": null,
            "border": null,
            "bottom": null,
            "display": null,
            "flex": null,
            "flex_flow": null,
            "grid_area": null,
            "grid_auto_columns": null,
            "grid_auto_flow": null,
            "grid_auto_rows": null,
            "grid_column": null,
            "grid_gap": null,
            "grid_row": null,
            "grid_template_areas": null,
            "grid_template_columns": null,
            "grid_template_rows": null,
            "height": null,
            "justify_content": null,
            "justify_items": null,
            "left": null,
            "margin": null,
            "max_height": null,
            "max_width": null,
            "min_height": null,
            "min_width": null,
            "object_fit": null,
            "object_position": null,
            "order": null,
            "overflow": null,
            "overflow_x": null,
            "overflow_y": null,
            "padding": null,
            "right": null,
            "top": null,
            "visibility": null,
            "width": null
          }
        },
        "9ae50e148162482ea8457f5b3c247e37": {
          "model_module": "@jupyter-widgets/controls",
          "model_module_version": "1.5.0",
          "model_name": "DescriptionStyleModel",
          "state": {
            "_model_module": "@jupyter-widgets/controls",
            "_model_module_version": "1.5.0",
            "_model_name": "DescriptionStyleModel",
            "_view_count": null,
            "_view_module": "@jupyter-widgets/base",
            "_view_module_version": "1.2.0",
            "_view_name": "StyleView",
            "description_width": ""
          }
        },
        "9bdd34677d7442aaafa9a1c7c65deccc": {
          "model_module": "@jupyter-widgets/base",
          "model_module_version": "1.2.0",
          "model_name": "LayoutModel",
          "state": {
            "_model_module": "@jupyter-widgets/base",
            "_model_module_version": "1.2.0",
            "_model_name": "LayoutModel",
            "_view_count": null,
            "_view_module": "@jupyter-widgets/base",
            "_view_module_version": "1.2.0",
            "_view_name": "LayoutView",
            "align_content": null,
            "align_items": null,
            "align_self": null,
            "border": null,
            "bottom": null,
            "display": null,
            "flex": null,
            "flex_flow": null,
            "grid_area": null,
            "grid_auto_columns": null,
            "grid_auto_flow": null,
            "grid_auto_rows": null,
            "grid_column": null,
            "grid_gap": null,
            "grid_row": null,
            "grid_template_areas": null,
            "grid_template_columns": null,
            "grid_template_rows": null,
            "height": null,
            "justify_content": null,
            "justify_items": null,
            "left": null,
            "margin": null,
            "max_height": null,
            "max_width": null,
            "min_height": null,
            "min_width": null,
            "object_fit": null,
            "object_position": null,
            "order": null,
            "overflow": null,
            "overflow_x": null,
            "overflow_y": null,
            "padding": null,
            "right": null,
            "top": null,
            "visibility": null,
            "width": null
          }
        },
        "9c97cd4da58c439b82ce05e4a0eaa527": {
          "model_module": "@jupyter-widgets/controls",
          "model_module_version": "1.5.0",
          "model_name": "HTMLModel",
          "state": {
            "_dom_classes": [],
            "_model_module": "@jupyter-widgets/controls",
            "_model_module_version": "1.5.0",
            "_model_name": "HTMLModel",
            "_view_count": null,
            "_view_module": "@jupyter-widgets/controls",
            "_view_module_version": "1.5.0",
            "_view_name": "HTMLView",
            "description": "",
            "description_tooltip": null,
            "layout": "IPY_MODEL_917bfcfefdab4b79ab9b07a7d0972522",
            "placeholder": "​",
            "style": "IPY_MODEL_9d854973f5ee4c97984ed28a31da8633",
            "value": " 16/37 [00:11&lt;00:14,  1.45it/s]"
          }
        },
        "9ce932a483644d23a536eda4c755e049": {
          "model_module": "@jupyter-widgets/controls",
          "model_module_version": "1.5.0",
          "model_name": "ProgressStyleModel",
          "state": {
            "_model_module": "@jupyter-widgets/controls",
            "_model_module_version": "1.5.0",
            "_model_name": "ProgressStyleModel",
            "_view_count": null,
            "_view_module": "@jupyter-widgets/base",
            "_view_module_version": "1.2.0",
            "_view_name": "StyleView",
            "bar_color": null,
            "description_width": ""
          }
        },
        "9d854973f5ee4c97984ed28a31da8633": {
          "model_module": "@jupyter-widgets/controls",
          "model_module_version": "1.5.0",
          "model_name": "DescriptionStyleModel",
          "state": {
            "_model_module": "@jupyter-widgets/controls",
            "_model_module_version": "1.5.0",
            "_model_name": "DescriptionStyleModel",
            "_view_count": null,
            "_view_module": "@jupyter-widgets/base",
            "_view_module_version": "1.2.0",
            "_view_name": "StyleView",
            "description_width": ""
          }
        },
        "9d9fb63ddfd14fffb1887b55d214d0f3": {
          "model_module": "@jupyter-widgets/controls",
          "model_module_version": "1.5.0",
          "model_name": "HBoxModel",
          "state": {
            "_dom_classes": [],
            "_model_module": "@jupyter-widgets/controls",
            "_model_module_version": "1.5.0",
            "_model_name": "HBoxModel",
            "_view_count": null,
            "_view_module": "@jupyter-widgets/controls",
            "_view_module_version": "1.5.0",
            "_view_name": "HBoxView",
            "box_style": "",
            "children": [
              "IPY_MODEL_f8b5c1f77ef74b37a8666ced29f0ab0d",
              "IPY_MODEL_2d1c9dafbd8d46778fbaa668a0b2886e",
              "IPY_MODEL_ab8f80c3d48c4e45939803c36f9ab367"
            ],
            "layout": "IPY_MODEL_d9aae206a4d140b4a5f812d3550bfb9e"
          }
        },
        "9e3898d4f110491b9f4cd18a53ae4d29": {
          "model_module": "@jupyter-widgets/controls",
          "model_module_version": "1.5.0",
          "model_name": "HTMLModel",
          "state": {
            "_dom_classes": [],
            "_model_module": "@jupyter-widgets/controls",
            "_model_module_version": "1.5.0",
            "_model_name": "HTMLModel",
            "_view_count": null,
            "_view_module": "@jupyter-widgets/controls",
            "_view_module_version": "1.5.0",
            "_view_name": "HTMLView",
            "description": "",
            "description_tooltip": null,
            "layout": "IPY_MODEL_373cc6f1f086487ca06da891aa086985",
            "placeholder": "​",
            "style": "IPY_MODEL_6cb27dc65ba4441d8e72fa4e81fd7661",
            "value": "100%"
          }
        },
        "9ea35f466e944b76a15d1a57a48c7621": {
          "model_module": "@jupyter-widgets/controls",
          "model_module_version": "1.5.0",
          "model_name": "DescriptionStyleModel",
          "state": {
            "_model_module": "@jupyter-widgets/controls",
            "_model_module_version": "1.5.0",
            "_model_name": "DescriptionStyleModel",
            "_view_count": null,
            "_view_module": "@jupyter-widgets/base",
            "_view_module_version": "1.2.0",
            "_view_name": "StyleView",
            "description_width": ""
          }
        },
        "9ea36484f14f404a9ea31f8f8bdbd04d": {
          "model_module": "@jupyter-widgets/controls",
          "model_module_version": "1.5.0",
          "model_name": "ProgressStyleModel",
          "state": {
            "_model_module": "@jupyter-widgets/controls",
            "_model_module_version": "1.5.0",
            "_model_name": "ProgressStyleModel",
            "_view_count": null,
            "_view_module": "@jupyter-widgets/base",
            "_view_module_version": "1.2.0",
            "_view_name": "StyleView",
            "bar_color": null,
            "description_width": ""
          }
        },
        "9eab3a12a2ac4764bb7fa13fea3bbdf9": {
          "model_module": "@jupyter-widgets/controls",
          "model_module_version": "1.5.0",
          "model_name": "ProgressStyleModel",
          "state": {
            "_model_module": "@jupyter-widgets/controls",
            "_model_module_version": "1.5.0",
            "_model_name": "ProgressStyleModel",
            "_view_count": null,
            "_view_module": "@jupyter-widgets/base",
            "_view_module_version": "1.2.0",
            "_view_name": "StyleView",
            "bar_color": null,
            "description_width": ""
          }
        },
        "a0d243d3bbbf440a8a2a01533f01f09a": {
          "model_module": "@jupyter-widgets/base",
          "model_module_version": "1.2.0",
          "model_name": "LayoutModel",
          "state": {
            "_model_module": "@jupyter-widgets/base",
            "_model_module_version": "1.2.0",
            "_model_name": "LayoutModel",
            "_view_count": null,
            "_view_module": "@jupyter-widgets/base",
            "_view_module_version": "1.2.0",
            "_view_name": "LayoutView",
            "align_content": null,
            "align_items": null,
            "align_self": null,
            "border": null,
            "bottom": null,
            "display": null,
            "flex": null,
            "flex_flow": null,
            "grid_area": null,
            "grid_auto_columns": null,
            "grid_auto_flow": null,
            "grid_auto_rows": null,
            "grid_column": null,
            "grid_gap": null,
            "grid_row": null,
            "grid_template_areas": null,
            "grid_template_columns": null,
            "grid_template_rows": null,
            "height": null,
            "justify_content": null,
            "justify_items": null,
            "left": null,
            "margin": null,
            "max_height": null,
            "max_width": null,
            "min_height": null,
            "min_width": null,
            "object_fit": null,
            "object_position": null,
            "order": null,
            "overflow": null,
            "overflow_x": null,
            "overflow_y": null,
            "padding": null,
            "right": null,
            "top": null,
            "visibility": null,
            "width": null
          }
        },
        "a13710a4b18543508b7d9204b66254b6": {
          "model_module": "@jupyter-widgets/controls",
          "model_module_version": "1.5.0",
          "model_name": "HTMLModel",
          "state": {
            "_dom_classes": [],
            "_model_module": "@jupyter-widgets/controls",
            "_model_module_version": "1.5.0",
            "_model_name": "HTMLModel",
            "_view_count": null,
            "_view_module": "@jupyter-widgets/controls",
            "_view_module_version": "1.5.0",
            "_view_name": "HTMLView",
            "description": "",
            "description_tooltip": null,
            "layout": "IPY_MODEL_3622d09d719840da8ddfc14a930bf781",
            "placeholder": "​",
            "style": "IPY_MODEL_51cb087c80334577af8dae4b7441f519",
            "value": "100%"
          }
        },
        "a13752f6ff3c4b78934997bd559faf76": {
          "model_module": "@jupyter-widgets/base",
          "model_module_version": "1.2.0",
          "model_name": "LayoutModel",
          "state": {
            "_model_module": "@jupyter-widgets/base",
            "_model_module_version": "1.2.0",
            "_model_name": "LayoutModel",
            "_view_count": null,
            "_view_module": "@jupyter-widgets/base",
            "_view_module_version": "1.2.0",
            "_view_name": "LayoutView",
            "align_content": null,
            "align_items": null,
            "align_self": null,
            "border": null,
            "bottom": null,
            "display": null,
            "flex": null,
            "flex_flow": null,
            "grid_area": null,
            "grid_auto_columns": null,
            "grid_auto_flow": null,
            "grid_auto_rows": null,
            "grid_column": null,
            "grid_gap": null,
            "grid_row": null,
            "grid_template_areas": null,
            "grid_template_columns": null,
            "grid_template_rows": null,
            "height": null,
            "justify_content": null,
            "justify_items": null,
            "left": null,
            "margin": null,
            "max_height": null,
            "max_width": null,
            "min_height": null,
            "min_width": null,
            "object_fit": null,
            "object_position": null,
            "order": null,
            "overflow": null,
            "overflow_x": null,
            "overflow_y": null,
            "padding": null,
            "right": null,
            "top": null,
            "visibility": null,
            "width": null
          }
        },
        "a17512405bf945e3b4b6ab580afef0a1": {
          "model_module": "@jupyter-widgets/base",
          "model_module_version": "1.2.0",
          "model_name": "LayoutModel",
          "state": {
            "_model_module": "@jupyter-widgets/base",
            "_model_module_version": "1.2.0",
            "_model_name": "LayoutModel",
            "_view_count": null,
            "_view_module": "@jupyter-widgets/base",
            "_view_module_version": "1.2.0",
            "_view_name": "LayoutView",
            "align_content": null,
            "align_items": null,
            "align_self": null,
            "border": null,
            "bottom": null,
            "display": null,
            "flex": null,
            "flex_flow": null,
            "grid_area": null,
            "grid_auto_columns": null,
            "grid_auto_flow": null,
            "grid_auto_rows": null,
            "grid_column": null,
            "grid_gap": null,
            "grid_row": null,
            "grid_template_areas": null,
            "grid_template_columns": null,
            "grid_template_rows": null,
            "height": null,
            "justify_content": null,
            "justify_items": null,
            "left": null,
            "margin": null,
            "max_height": null,
            "max_width": null,
            "min_height": null,
            "min_width": null,
            "object_fit": null,
            "object_position": null,
            "order": null,
            "overflow": null,
            "overflow_x": null,
            "overflow_y": null,
            "padding": null,
            "right": null,
            "top": null,
            "visibility": null,
            "width": null
          }
        },
        "a19ea13789654834ab3af09197331301": {
          "model_module": "@jupyter-widgets/controls",
          "model_module_version": "1.5.0",
          "model_name": "FloatProgressModel",
          "state": {
            "_dom_classes": [],
            "_model_module": "@jupyter-widgets/controls",
            "_model_module_version": "1.5.0",
            "_model_name": "FloatProgressModel",
            "_view_count": null,
            "_view_module": "@jupyter-widgets/controls",
            "_view_module_version": "1.5.0",
            "_view_name": "ProgressView",
            "bar_style": "success",
            "description": "",
            "description_tooltip": null,
            "layout": "IPY_MODEL_8a9431f4c41e4b4bbf7019b102b83425",
            "max": 37,
            "min": 0,
            "orientation": "horizontal",
            "style": "IPY_MODEL_459bcaf0668a418a909c3f6c486b67a7",
            "value": 37
          }
        },
        "a1d8c6e7c25f43119e2acf1bd95d9efa": {
          "model_module": "@jupyter-widgets/base",
          "model_module_version": "1.2.0",
          "model_name": "LayoutModel",
          "state": {
            "_model_module": "@jupyter-widgets/base",
            "_model_module_version": "1.2.0",
            "_model_name": "LayoutModel",
            "_view_count": null,
            "_view_module": "@jupyter-widgets/base",
            "_view_module_version": "1.2.0",
            "_view_name": "LayoutView",
            "align_content": null,
            "align_items": null,
            "align_self": null,
            "border": null,
            "bottom": null,
            "display": null,
            "flex": null,
            "flex_flow": null,
            "grid_area": null,
            "grid_auto_columns": null,
            "grid_auto_flow": null,
            "grid_auto_rows": null,
            "grid_column": null,
            "grid_gap": null,
            "grid_row": null,
            "grid_template_areas": null,
            "grid_template_columns": null,
            "grid_template_rows": null,
            "height": null,
            "justify_content": null,
            "justify_items": null,
            "left": null,
            "margin": null,
            "max_height": null,
            "max_width": null,
            "min_height": null,
            "min_width": null,
            "object_fit": null,
            "object_position": null,
            "order": null,
            "overflow": null,
            "overflow_x": null,
            "overflow_y": null,
            "padding": null,
            "right": null,
            "top": null,
            "visibility": null,
            "width": null
          }
        },
        "a31a9b5515274381ae556130b456b2d4": {
          "model_module": "@jupyter-widgets/controls",
          "model_module_version": "1.5.0",
          "model_name": "DescriptionStyleModel",
          "state": {
            "_model_module": "@jupyter-widgets/controls",
            "_model_module_version": "1.5.0",
            "_model_name": "DescriptionStyleModel",
            "_view_count": null,
            "_view_module": "@jupyter-widgets/base",
            "_view_module_version": "1.2.0",
            "_view_name": "StyleView",
            "description_width": ""
          }
        },
        "a40b6dcc27dc4bc39478bdf06635d3d5": {
          "model_module": "@jupyter-widgets/controls",
          "model_module_version": "1.5.0",
          "model_name": "DescriptionStyleModel",
          "state": {
            "_model_module": "@jupyter-widgets/controls",
            "_model_module_version": "1.5.0",
            "_model_name": "DescriptionStyleModel",
            "_view_count": null,
            "_view_module": "@jupyter-widgets/base",
            "_view_module_version": "1.2.0",
            "_view_name": "StyleView",
            "description_width": ""
          }
        },
        "a428a545dec64840a0b44c97d0254e81": {
          "model_module": "@jupyter-widgets/base",
          "model_module_version": "1.2.0",
          "model_name": "LayoutModel",
          "state": {
            "_model_module": "@jupyter-widgets/base",
            "_model_module_version": "1.2.0",
            "_model_name": "LayoutModel",
            "_view_count": null,
            "_view_module": "@jupyter-widgets/base",
            "_view_module_version": "1.2.0",
            "_view_name": "LayoutView",
            "align_content": null,
            "align_items": null,
            "align_self": null,
            "border": null,
            "bottom": null,
            "display": null,
            "flex": null,
            "flex_flow": null,
            "grid_area": null,
            "grid_auto_columns": null,
            "grid_auto_flow": null,
            "grid_auto_rows": null,
            "grid_column": null,
            "grid_gap": null,
            "grid_row": null,
            "grid_template_areas": null,
            "grid_template_columns": null,
            "grid_template_rows": null,
            "height": null,
            "justify_content": null,
            "justify_items": null,
            "left": null,
            "margin": null,
            "max_height": null,
            "max_width": null,
            "min_height": null,
            "min_width": null,
            "object_fit": null,
            "object_position": null,
            "order": null,
            "overflow": null,
            "overflow_x": null,
            "overflow_y": null,
            "padding": null,
            "right": null,
            "top": null,
            "visibility": null,
            "width": null
          }
        },
        "a622069c9d8d434592ae00eb8f532d82": {
          "model_module": "@jupyter-widgets/controls",
          "model_module_version": "1.5.0",
          "model_name": "DescriptionStyleModel",
          "state": {
            "_model_module": "@jupyter-widgets/controls",
            "_model_module_version": "1.5.0",
            "_model_name": "DescriptionStyleModel",
            "_view_count": null,
            "_view_module": "@jupyter-widgets/base",
            "_view_module_version": "1.2.0",
            "_view_name": "StyleView",
            "description_width": ""
          }
        },
        "a6673e1627eb44a4b580aad7d98de1be": {
          "model_module": "@jupyter-widgets/base",
          "model_module_version": "1.2.0",
          "model_name": "LayoutModel",
          "state": {
            "_model_module": "@jupyter-widgets/base",
            "_model_module_version": "1.2.0",
            "_model_name": "LayoutModel",
            "_view_count": null,
            "_view_module": "@jupyter-widgets/base",
            "_view_module_version": "1.2.0",
            "_view_name": "LayoutView",
            "align_content": null,
            "align_items": null,
            "align_self": null,
            "border": null,
            "bottom": null,
            "display": null,
            "flex": null,
            "flex_flow": null,
            "grid_area": null,
            "grid_auto_columns": null,
            "grid_auto_flow": null,
            "grid_auto_rows": null,
            "grid_column": null,
            "grid_gap": null,
            "grid_row": null,
            "grid_template_areas": null,
            "grid_template_columns": null,
            "grid_template_rows": null,
            "height": null,
            "justify_content": null,
            "justify_items": null,
            "left": null,
            "margin": null,
            "max_height": null,
            "max_width": null,
            "min_height": null,
            "min_width": null,
            "object_fit": null,
            "object_position": null,
            "order": null,
            "overflow": null,
            "overflow_x": null,
            "overflow_y": null,
            "padding": null,
            "right": null,
            "top": null,
            "visibility": null,
            "width": null
          }
        },
        "a6b717c8a9ed4e65a44d25ca0e4e99d8": {
          "model_module": "@jupyter-widgets/controls",
          "model_module_version": "1.5.0",
          "model_name": "DescriptionStyleModel",
          "state": {
            "_model_module": "@jupyter-widgets/controls",
            "_model_module_version": "1.5.0",
            "_model_name": "DescriptionStyleModel",
            "_view_count": null,
            "_view_module": "@jupyter-widgets/base",
            "_view_module_version": "1.2.0",
            "_view_name": "StyleView",
            "description_width": ""
          }
        },
        "a77cfce9a5cf476497590975dd4f6b52": {
          "model_module": "@jupyter-widgets/controls",
          "model_module_version": "1.5.0",
          "model_name": "HTMLModel",
          "state": {
            "_dom_classes": [],
            "_model_module": "@jupyter-widgets/controls",
            "_model_module_version": "1.5.0",
            "_model_name": "HTMLModel",
            "_view_count": null,
            "_view_module": "@jupyter-widgets/controls",
            "_view_module_version": "1.5.0",
            "_view_name": "HTMLView",
            "description": "",
            "description_tooltip": null,
            "layout": "IPY_MODEL_391c36e621b7436bab934f884b361275",
            "placeholder": "​",
            "style": "IPY_MODEL_8f041d37f73b4d45bab65b8508143882",
            "value": " 37/37 [00:26&lt;00:00,  1.89it/s]"
          }
        },
        "a7d4bf4b2e3640ee975f7f4171490a8c": {
          "model_module": "@jupyter-widgets/base",
          "model_module_version": "1.2.0",
          "model_name": "LayoutModel",
          "state": {
            "_model_module": "@jupyter-widgets/base",
            "_model_module_version": "1.2.0",
            "_model_name": "LayoutModel",
            "_view_count": null,
            "_view_module": "@jupyter-widgets/base",
            "_view_module_version": "1.2.0",
            "_view_name": "LayoutView",
            "align_content": null,
            "align_items": null,
            "align_self": null,
            "border": null,
            "bottom": null,
            "display": null,
            "flex": null,
            "flex_flow": null,
            "grid_area": null,
            "grid_auto_columns": null,
            "grid_auto_flow": null,
            "grid_auto_rows": null,
            "grid_column": null,
            "grid_gap": null,
            "grid_row": null,
            "grid_template_areas": null,
            "grid_template_columns": null,
            "grid_template_rows": null,
            "height": null,
            "justify_content": null,
            "justify_items": null,
            "left": null,
            "margin": null,
            "max_height": null,
            "max_width": null,
            "min_height": null,
            "min_width": null,
            "object_fit": null,
            "object_position": null,
            "order": null,
            "overflow": null,
            "overflow_x": null,
            "overflow_y": null,
            "padding": null,
            "right": null,
            "top": null,
            "visibility": null,
            "width": null
          }
        },
        "a80175c3c5874e4f8652418aa2a2e19e": {
          "model_module": "@jupyter-widgets/controls",
          "model_module_version": "1.5.0",
          "model_name": "HBoxModel",
          "state": {
            "_dom_classes": [],
            "_model_module": "@jupyter-widgets/controls",
            "_model_module_version": "1.5.0",
            "_model_name": "HBoxModel",
            "_view_count": null,
            "_view_module": "@jupyter-widgets/controls",
            "_view_module_version": "1.5.0",
            "_view_name": "HBoxView",
            "box_style": "",
            "children": [
              "IPY_MODEL_ef5f393611fe451cb53fa1cc9b5dd2e7",
              "IPY_MODEL_824404b55eef4cfb9b13ffd67aa73805",
              "IPY_MODEL_df255e13d33e46a1a943be4716e0cdbe"
            ],
            "layout": "IPY_MODEL_8ed5976236ff4639a45867c1f64ce439"
          }
        },
        "a8499f3cf68441e59376be2ce281baff": {
          "model_module": "@jupyter-widgets/controls",
          "model_module_version": "1.5.0",
          "model_name": "DescriptionStyleModel",
          "state": {
            "_model_module": "@jupyter-widgets/controls",
            "_model_module_version": "1.5.0",
            "_model_name": "DescriptionStyleModel",
            "_view_count": null,
            "_view_module": "@jupyter-widgets/base",
            "_view_module_version": "1.2.0",
            "_view_name": "StyleView",
            "description_width": ""
          }
        },
        "a8a67dc8f4154d33bc12db42c93ef4ab": {
          "model_module": "@jupyter-widgets/controls",
          "model_module_version": "1.5.0",
          "model_name": "HBoxModel",
          "state": {
            "_dom_classes": [],
            "_model_module": "@jupyter-widgets/controls",
            "_model_module_version": "1.5.0",
            "_model_name": "HBoxModel",
            "_view_count": null,
            "_view_module": "@jupyter-widgets/controls",
            "_view_module_version": "1.5.0",
            "_view_name": "HBoxView",
            "box_style": "",
            "children": [
              "IPY_MODEL_34fc9876ef1b4f5e997d46e4ea975491",
              "IPY_MODEL_cc598e58c6664e04ba2ec3c547ed30cc",
              "IPY_MODEL_b482234b29dd46698a3e500939f856d6"
            ],
            "layout": "IPY_MODEL_c1e1209ccf8440bbafbd6fe87a7a57b7"
          }
        },
        "a940f39cee7647b1ad3d73ca0b0588b4": {
          "model_module": "@jupyter-widgets/controls",
          "model_module_version": "1.5.0",
          "model_name": "DescriptionStyleModel",
          "state": {
            "_model_module": "@jupyter-widgets/controls",
            "_model_module_version": "1.5.0",
            "_model_name": "DescriptionStyleModel",
            "_view_count": null,
            "_view_module": "@jupyter-widgets/base",
            "_view_module_version": "1.2.0",
            "_view_name": "StyleView",
            "description_width": ""
          }
        },
        "a9a5d3d1428f4cdfb3b7fad761c1223b": {
          "model_module": "@jupyter-widgets/base",
          "model_module_version": "1.2.0",
          "model_name": "LayoutModel",
          "state": {
            "_model_module": "@jupyter-widgets/base",
            "_model_module_version": "1.2.0",
            "_model_name": "LayoutModel",
            "_view_count": null,
            "_view_module": "@jupyter-widgets/base",
            "_view_module_version": "1.2.0",
            "_view_name": "LayoutView",
            "align_content": null,
            "align_items": null,
            "align_self": null,
            "border": null,
            "bottom": null,
            "display": null,
            "flex": null,
            "flex_flow": null,
            "grid_area": null,
            "grid_auto_columns": null,
            "grid_auto_flow": null,
            "grid_auto_rows": null,
            "grid_column": null,
            "grid_gap": null,
            "grid_row": null,
            "grid_template_areas": null,
            "grid_template_columns": null,
            "grid_template_rows": null,
            "height": null,
            "justify_content": null,
            "justify_items": null,
            "left": null,
            "margin": null,
            "max_height": null,
            "max_width": null,
            "min_height": null,
            "min_width": null,
            "object_fit": null,
            "object_position": null,
            "order": null,
            "overflow": null,
            "overflow_x": null,
            "overflow_y": null,
            "padding": null,
            "right": null,
            "top": null,
            "visibility": null,
            "width": null
          }
        },
        "aa3159e0dc7c4b588b2cc1032562cd10": {
          "model_module": "@jupyter-widgets/base",
          "model_module_version": "1.2.0",
          "model_name": "LayoutModel",
          "state": {
            "_model_module": "@jupyter-widgets/base",
            "_model_module_version": "1.2.0",
            "_model_name": "LayoutModel",
            "_view_count": null,
            "_view_module": "@jupyter-widgets/base",
            "_view_module_version": "1.2.0",
            "_view_name": "LayoutView",
            "align_content": null,
            "align_items": null,
            "align_self": null,
            "border": null,
            "bottom": null,
            "display": null,
            "flex": null,
            "flex_flow": null,
            "grid_area": null,
            "grid_auto_columns": null,
            "grid_auto_flow": null,
            "grid_auto_rows": null,
            "grid_column": null,
            "grid_gap": null,
            "grid_row": null,
            "grid_template_areas": null,
            "grid_template_columns": null,
            "grid_template_rows": null,
            "height": null,
            "justify_content": null,
            "justify_items": null,
            "left": null,
            "margin": null,
            "max_height": null,
            "max_width": null,
            "min_height": null,
            "min_width": null,
            "object_fit": null,
            "object_position": null,
            "order": null,
            "overflow": null,
            "overflow_x": null,
            "overflow_y": null,
            "padding": null,
            "right": null,
            "top": null,
            "visibility": null,
            "width": null
          }
        },
        "aaf036a92c754086a17048f2eadbc36d": {
          "model_module": "@jupyter-widgets/controls",
          "model_module_version": "1.5.0",
          "model_name": "HTMLModel",
          "state": {
            "_dom_classes": [],
            "_model_module": "@jupyter-widgets/controls",
            "_model_module_version": "1.5.0",
            "_model_name": "HTMLModel",
            "_view_count": null,
            "_view_module": "@jupyter-widgets/controls",
            "_view_module_version": "1.5.0",
            "_view_name": "HTMLView",
            "description": "",
            "description_tooltip": null,
            "layout": "IPY_MODEL_4e1c04a7d50b4a849f7c814bcf6f2e04",
            "placeholder": "​",
            "style": "IPY_MODEL_5dafdcab8aad4386a45b527b4799b85d",
            "value": " 37/37 [00:25&lt;00:00,  1.91it/s]"
          }
        },
        "ab85fe80e5154b72ba8d9908c6b9003d": {
          "model_module": "@jupyter-widgets/base",
          "model_module_version": "1.2.0",
          "model_name": "LayoutModel",
          "state": {
            "_model_module": "@jupyter-widgets/base",
            "_model_module_version": "1.2.0",
            "_model_name": "LayoutModel",
            "_view_count": null,
            "_view_module": "@jupyter-widgets/base",
            "_view_module_version": "1.2.0",
            "_view_name": "LayoutView",
            "align_content": null,
            "align_items": null,
            "align_self": null,
            "border": null,
            "bottom": null,
            "display": null,
            "flex": null,
            "flex_flow": null,
            "grid_area": null,
            "grid_auto_columns": null,
            "grid_auto_flow": null,
            "grid_auto_rows": null,
            "grid_column": null,
            "grid_gap": null,
            "grid_row": null,
            "grid_template_areas": null,
            "grid_template_columns": null,
            "grid_template_rows": null,
            "height": null,
            "justify_content": null,
            "justify_items": null,
            "left": null,
            "margin": null,
            "max_height": null,
            "max_width": null,
            "min_height": null,
            "min_width": null,
            "object_fit": null,
            "object_position": null,
            "order": null,
            "overflow": null,
            "overflow_x": null,
            "overflow_y": null,
            "padding": null,
            "right": null,
            "top": null,
            "visibility": null,
            "width": null
          }
        },
        "ab8f80c3d48c4e45939803c36f9ab367": {
          "model_module": "@jupyter-widgets/controls",
          "model_module_version": "1.5.0",
          "model_name": "HTMLModel",
          "state": {
            "_dom_classes": [],
            "_model_module": "@jupyter-widgets/controls",
            "_model_module_version": "1.5.0",
            "_model_name": "HTMLModel",
            "_view_count": null,
            "_view_module": "@jupyter-widgets/controls",
            "_view_module_version": "1.5.0",
            "_view_name": "HTMLView",
            "description": "",
            "description_tooltip": null,
            "layout": "IPY_MODEL_e0ad7d3e3e0b4ce4aa6d1fa8a639c463",
            "placeholder": "​",
            "style": "IPY_MODEL_0d1c7bf2264d4eabb82ad140e91ec74e",
            "value": " 37/37 [00:25&lt;00:00,  1.89it/s]"
          }
        },
        "ad0cd196e3a24b8897c615ddfba538cb": {
          "model_module": "@jupyter-widgets/controls",
          "model_module_version": "1.5.0",
          "model_name": "ProgressStyleModel",
          "state": {
            "_model_module": "@jupyter-widgets/controls",
            "_model_module_version": "1.5.0",
            "_model_name": "ProgressStyleModel",
            "_view_count": null,
            "_view_module": "@jupyter-widgets/base",
            "_view_module_version": "1.2.0",
            "_view_name": "StyleView",
            "bar_color": null,
            "description_width": ""
          }
        },
        "ae326aecd89f4437aa2c3d20a3c8950b": {
          "model_module": "@jupyter-widgets/base",
          "model_module_version": "1.2.0",
          "model_name": "LayoutModel",
          "state": {
            "_model_module": "@jupyter-widgets/base",
            "_model_module_version": "1.2.0",
            "_model_name": "LayoutModel",
            "_view_count": null,
            "_view_module": "@jupyter-widgets/base",
            "_view_module_version": "1.2.0",
            "_view_name": "LayoutView",
            "align_content": null,
            "align_items": null,
            "align_self": null,
            "border": null,
            "bottom": null,
            "display": null,
            "flex": null,
            "flex_flow": null,
            "grid_area": null,
            "grid_auto_columns": null,
            "grid_auto_flow": null,
            "grid_auto_rows": null,
            "grid_column": null,
            "grid_gap": null,
            "grid_row": null,
            "grid_template_areas": null,
            "grid_template_columns": null,
            "grid_template_rows": null,
            "height": null,
            "justify_content": null,
            "justify_items": null,
            "left": null,
            "margin": null,
            "max_height": null,
            "max_width": null,
            "min_height": null,
            "min_width": null,
            "object_fit": null,
            "object_position": null,
            "order": null,
            "overflow": null,
            "overflow_x": null,
            "overflow_y": null,
            "padding": null,
            "right": null,
            "top": null,
            "visibility": null,
            "width": null
          }
        },
        "b07f0886dbc04092bfc4e4f0db974ef4": {
          "model_module": "@jupyter-widgets/base",
          "model_module_version": "1.2.0",
          "model_name": "LayoutModel",
          "state": {
            "_model_module": "@jupyter-widgets/base",
            "_model_module_version": "1.2.0",
            "_model_name": "LayoutModel",
            "_view_count": null,
            "_view_module": "@jupyter-widgets/base",
            "_view_module_version": "1.2.0",
            "_view_name": "LayoutView",
            "align_content": null,
            "align_items": null,
            "align_self": null,
            "border": null,
            "bottom": null,
            "display": null,
            "flex": null,
            "flex_flow": null,
            "grid_area": null,
            "grid_auto_columns": null,
            "grid_auto_flow": null,
            "grid_auto_rows": null,
            "grid_column": null,
            "grid_gap": null,
            "grid_row": null,
            "grid_template_areas": null,
            "grid_template_columns": null,
            "grid_template_rows": null,
            "height": null,
            "justify_content": null,
            "justify_items": null,
            "left": null,
            "margin": null,
            "max_height": null,
            "max_width": null,
            "min_height": null,
            "min_width": null,
            "object_fit": null,
            "object_position": null,
            "order": null,
            "overflow": null,
            "overflow_x": null,
            "overflow_y": null,
            "padding": null,
            "right": null,
            "top": null,
            "visibility": null,
            "width": null
          }
        },
        "b0d6d99b9dac4f27b85f0bd4e3788c52": {
          "model_module": "@jupyter-widgets/controls",
          "model_module_version": "1.5.0",
          "model_name": "FloatProgressModel",
          "state": {
            "_dom_classes": [],
            "_model_module": "@jupyter-widgets/controls",
            "_model_module_version": "1.5.0",
            "_model_name": "FloatProgressModel",
            "_view_count": null,
            "_view_module": "@jupyter-widgets/controls",
            "_view_module_version": "1.5.0",
            "_view_name": "ProgressView",
            "bar_style": "success",
            "description": "",
            "description_tooltip": null,
            "layout": "IPY_MODEL_2aef01e8019a4381ac18eb51c66f03df",
            "max": 5,
            "min": 0,
            "orientation": "horizontal",
            "style": "IPY_MODEL_b551e785b1b8406ab840b9f8cba13377",
            "value": 5
          }
        },
        "b1d837e1d95c4a0080ebbb290965437a": {
          "model_module": "@jupyter-widgets/base",
          "model_module_version": "1.2.0",
          "model_name": "LayoutModel",
          "state": {
            "_model_module": "@jupyter-widgets/base",
            "_model_module_version": "1.2.0",
            "_model_name": "LayoutModel",
            "_view_count": null,
            "_view_module": "@jupyter-widgets/base",
            "_view_module_version": "1.2.0",
            "_view_name": "LayoutView",
            "align_content": null,
            "align_items": null,
            "align_self": null,
            "border": null,
            "bottom": null,
            "display": null,
            "flex": null,
            "flex_flow": null,
            "grid_area": null,
            "grid_auto_columns": null,
            "grid_auto_flow": null,
            "grid_auto_rows": null,
            "grid_column": null,
            "grid_gap": null,
            "grid_row": null,
            "grid_template_areas": null,
            "grid_template_columns": null,
            "grid_template_rows": null,
            "height": null,
            "justify_content": null,
            "justify_items": null,
            "left": null,
            "margin": null,
            "max_height": null,
            "max_width": null,
            "min_height": null,
            "min_width": null,
            "object_fit": null,
            "object_position": null,
            "order": null,
            "overflow": null,
            "overflow_x": null,
            "overflow_y": null,
            "padding": null,
            "right": null,
            "top": null,
            "visibility": null,
            "width": null
          }
        },
        "b258e390d41c4813a9fab60741a4a2f4": {
          "model_module": "@jupyter-widgets/controls",
          "model_module_version": "1.5.0",
          "model_name": "FloatProgressModel",
          "state": {
            "_dom_classes": [],
            "_model_module": "@jupyter-widgets/controls",
            "_model_module_version": "1.5.0",
            "_model_name": "FloatProgressModel",
            "_view_count": null,
            "_view_module": "@jupyter-widgets/controls",
            "_view_module_version": "1.5.0",
            "_view_name": "ProgressView",
            "bar_style": "success",
            "description": "",
            "description_tooltip": null,
            "layout": "IPY_MODEL_fc2a4f5a069f475a8d56e8b3738e19e5",
            "max": 5,
            "min": 0,
            "orientation": "horizontal",
            "style": "IPY_MODEL_d08674fa85cd4d7898d05e24e166a7fa",
            "value": 5
          }
        },
        "b27e99c6f6234048a34e0eb9b400cb8d": {
          "model_module": "@jupyter-widgets/base",
          "model_module_version": "1.2.0",
          "model_name": "LayoutModel",
          "state": {
            "_model_module": "@jupyter-widgets/base",
            "_model_module_version": "1.2.0",
            "_model_name": "LayoutModel",
            "_view_count": null,
            "_view_module": "@jupyter-widgets/base",
            "_view_module_version": "1.2.0",
            "_view_name": "LayoutView",
            "align_content": null,
            "align_items": null,
            "align_self": null,
            "border": null,
            "bottom": null,
            "display": null,
            "flex": null,
            "flex_flow": null,
            "grid_area": null,
            "grid_auto_columns": null,
            "grid_auto_flow": null,
            "grid_auto_rows": null,
            "grid_column": null,
            "grid_gap": null,
            "grid_row": null,
            "grid_template_areas": null,
            "grid_template_columns": null,
            "grid_template_rows": null,
            "height": null,
            "justify_content": null,
            "justify_items": null,
            "left": null,
            "margin": null,
            "max_height": null,
            "max_width": null,
            "min_height": null,
            "min_width": null,
            "object_fit": null,
            "object_position": null,
            "order": null,
            "overflow": null,
            "overflow_x": null,
            "overflow_y": null,
            "padding": null,
            "right": null,
            "top": null,
            "visibility": null,
            "width": null
          }
        },
        "b37a4a7c8de042c6be3dddca5f6bda1f": {
          "model_module": "@jupyter-widgets/controls",
          "model_module_version": "1.5.0",
          "model_name": "HBoxModel",
          "state": {
            "_dom_classes": [],
            "_model_module": "@jupyter-widgets/controls",
            "_model_module_version": "1.5.0",
            "_model_name": "HBoxModel",
            "_view_count": null,
            "_view_module": "@jupyter-widgets/controls",
            "_view_module_version": "1.5.0",
            "_view_name": "HBoxView",
            "box_style": "",
            "children": [
              "IPY_MODEL_0cac8956fe964a9fad1f3533e2069c4f",
              "IPY_MODEL_1956a25a59db48579b3ba7f6efb9974c",
              "IPY_MODEL_233ff228be9e4fd5b3fd681d5efa4478"
            ],
            "layout": "IPY_MODEL_b474ec22b9e14b5b8b13631b45b20ed7"
          }
        },
        "b3e553839226499d9aff1bf78d9fd4d4": {
          "model_module": "@jupyter-widgets/controls",
          "model_module_version": "1.5.0",
          "model_name": "HTMLModel",
          "state": {
            "_dom_classes": [],
            "_model_module": "@jupyter-widgets/controls",
            "_model_module_version": "1.5.0",
            "_model_name": "HTMLModel",
            "_view_count": null,
            "_view_module": "@jupyter-widgets/controls",
            "_view_module_version": "1.5.0",
            "_view_name": "HTMLView",
            "description": "",
            "description_tooltip": null,
            "layout": "IPY_MODEL_5e9930fb60e1427b9934d5a7846d68db",
            "placeholder": "​",
            "style": "IPY_MODEL_2bb7c0b5c1ae4521b65720139b0e5979",
            "value": "100%"
          }
        },
        "b474ec22b9e14b5b8b13631b45b20ed7": {
          "model_module": "@jupyter-widgets/base",
          "model_module_version": "1.2.0",
          "model_name": "LayoutModel",
          "state": {
            "_model_module": "@jupyter-widgets/base",
            "_model_module_version": "1.2.0",
            "_model_name": "LayoutModel",
            "_view_count": null,
            "_view_module": "@jupyter-widgets/base",
            "_view_module_version": "1.2.0",
            "_view_name": "LayoutView",
            "align_content": null,
            "align_items": null,
            "align_self": null,
            "border": null,
            "bottom": null,
            "display": null,
            "flex": null,
            "flex_flow": null,
            "grid_area": null,
            "grid_auto_columns": null,
            "grid_auto_flow": null,
            "grid_auto_rows": null,
            "grid_column": null,
            "grid_gap": null,
            "grid_row": null,
            "grid_template_areas": null,
            "grid_template_columns": null,
            "grid_template_rows": null,
            "height": null,
            "justify_content": null,
            "justify_items": null,
            "left": null,
            "margin": null,
            "max_height": null,
            "max_width": null,
            "min_height": null,
            "min_width": null,
            "object_fit": null,
            "object_position": null,
            "order": null,
            "overflow": null,
            "overflow_x": null,
            "overflow_y": null,
            "padding": null,
            "right": null,
            "top": null,
            "visibility": null,
            "width": null
          }
        },
        "b482234b29dd46698a3e500939f856d6": {
          "model_module": "@jupyter-widgets/controls",
          "model_module_version": "1.5.0",
          "model_name": "HTMLModel",
          "state": {
            "_dom_classes": [],
            "_model_module": "@jupyter-widgets/controls",
            "_model_module_version": "1.5.0",
            "_model_name": "HTMLModel",
            "_view_count": null,
            "_view_module": "@jupyter-widgets/controls",
            "_view_module_version": "1.5.0",
            "_view_name": "HTMLView",
            "description": "",
            "description_tooltip": null,
            "layout": "IPY_MODEL_fa27f4b46ebb49f28c8f64b06f2e4334",
            "placeholder": "​",
            "style": "IPY_MODEL_eb7a26525be84a67ae07057bebcfa36f",
            "value": " 5/5 [00:01&lt;00:00,  4.18it/s]"
          }
        },
        "b4b57b9b1f17433bb39858f34abf87fb": {
          "model_module": "@jupyter-widgets/controls",
          "model_module_version": "1.5.0",
          "model_name": "HTMLModel",
          "state": {
            "_dom_classes": [],
            "_model_module": "@jupyter-widgets/controls",
            "_model_module_version": "1.5.0",
            "_model_name": "HTMLModel",
            "_view_count": null,
            "_view_module": "@jupyter-widgets/controls",
            "_view_module_version": "1.5.0",
            "_view_name": "HTMLView",
            "description": "",
            "description_tooltip": null,
            "layout": "IPY_MODEL_5fcce067acf143aab118fee1c63148c2",
            "placeholder": "​",
            "style": "IPY_MODEL_f92ee0dc15194b1baaa950e750b087e0",
            "value": "100%"
          }
        },
        "b4bc0f999049478cbe162712b34983fb": {
          "model_module": "@jupyter-widgets/controls",
          "model_module_version": "1.5.0",
          "model_name": "HBoxModel",
          "state": {
            "_dom_classes": [],
            "_model_module": "@jupyter-widgets/controls",
            "_model_module_version": "1.5.0",
            "_model_name": "HBoxModel",
            "_view_count": null,
            "_view_module": "@jupyter-widgets/controls",
            "_view_module_version": "1.5.0",
            "_view_name": "HBoxView",
            "box_style": "",
            "children": [
              "IPY_MODEL_b3e553839226499d9aff1bf78d9fd4d4",
              "IPY_MODEL_fbeff5321e28415c9c368b5032270bb0",
              "IPY_MODEL_bc48a050af7e4722a879ad8b1d1903c4"
            ],
            "layout": "IPY_MODEL_f58e60ae966240f09d97764a91691dde"
          }
        },
        "b51d65da452c47d591542b9ca40a5045": {
          "model_module": "@jupyter-widgets/base",
          "model_module_version": "1.2.0",
          "model_name": "LayoutModel",
          "state": {
            "_model_module": "@jupyter-widgets/base",
            "_model_module_version": "1.2.0",
            "_model_name": "LayoutModel",
            "_view_count": null,
            "_view_module": "@jupyter-widgets/base",
            "_view_module_version": "1.2.0",
            "_view_name": "LayoutView",
            "align_content": null,
            "align_items": null,
            "align_self": null,
            "border": null,
            "bottom": null,
            "display": null,
            "flex": null,
            "flex_flow": null,
            "grid_area": null,
            "grid_auto_columns": null,
            "grid_auto_flow": null,
            "grid_auto_rows": null,
            "grid_column": null,
            "grid_gap": null,
            "grid_row": null,
            "grid_template_areas": null,
            "grid_template_columns": null,
            "grid_template_rows": null,
            "height": null,
            "justify_content": null,
            "justify_items": null,
            "left": null,
            "margin": null,
            "max_height": null,
            "max_width": null,
            "min_height": null,
            "min_width": null,
            "object_fit": null,
            "object_position": null,
            "order": null,
            "overflow": null,
            "overflow_x": null,
            "overflow_y": null,
            "padding": null,
            "right": null,
            "top": null,
            "visibility": null,
            "width": null
          }
        },
        "b551e785b1b8406ab840b9f8cba13377": {
          "model_module": "@jupyter-widgets/controls",
          "model_module_version": "1.5.0",
          "model_name": "ProgressStyleModel",
          "state": {
            "_model_module": "@jupyter-widgets/controls",
            "_model_module_version": "1.5.0",
            "_model_name": "ProgressStyleModel",
            "_view_count": null,
            "_view_module": "@jupyter-widgets/base",
            "_view_module_version": "1.2.0",
            "_view_name": "StyleView",
            "bar_color": null,
            "description_width": ""
          }
        },
        "b5a231c2dc484f53b5bc3f1590647f78": {
          "model_module": "@jupyter-widgets/controls",
          "model_module_version": "1.5.0",
          "model_name": "HTMLModel",
          "state": {
            "_dom_classes": [],
            "_model_module": "@jupyter-widgets/controls",
            "_model_module_version": "1.5.0",
            "_model_name": "HTMLModel",
            "_view_count": null,
            "_view_module": "@jupyter-widgets/controls",
            "_view_module_version": "1.5.0",
            "_view_name": "HTMLView",
            "description": "",
            "description_tooltip": null,
            "layout": "IPY_MODEL_9bdd34677d7442aaafa9a1c7c65deccc",
            "placeholder": "​",
            "style": "IPY_MODEL_5ed1fac6ea3a441ead259e84595b821a",
            "value": "100%"
          }
        },
        "b6bb28e84463402693df6c9ffa0aa1cb": {
          "model_module": "@jupyter-widgets/base",
          "model_module_version": "1.2.0",
          "model_name": "LayoutModel",
          "state": {
            "_model_module": "@jupyter-widgets/base",
            "_model_module_version": "1.2.0",
            "_model_name": "LayoutModel",
            "_view_count": null,
            "_view_module": "@jupyter-widgets/base",
            "_view_module_version": "1.2.0",
            "_view_name": "LayoutView",
            "align_content": null,
            "align_items": null,
            "align_self": null,
            "border": null,
            "bottom": null,
            "display": null,
            "flex": null,
            "flex_flow": null,
            "grid_area": null,
            "grid_auto_columns": null,
            "grid_auto_flow": null,
            "grid_auto_rows": null,
            "grid_column": null,
            "grid_gap": null,
            "grid_row": null,
            "grid_template_areas": null,
            "grid_template_columns": null,
            "grid_template_rows": null,
            "height": null,
            "justify_content": null,
            "justify_items": null,
            "left": null,
            "margin": null,
            "max_height": null,
            "max_width": null,
            "min_height": null,
            "min_width": null,
            "object_fit": null,
            "object_position": null,
            "order": null,
            "overflow": null,
            "overflow_x": null,
            "overflow_y": null,
            "padding": null,
            "right": null,
            "top": null,
            "visibility": null,
            "width": null
          }
        },
        "b6e34770e13c4fcdb051094a2f865ec7": {
          "model_module": "@jupyter-widgets/controls",
          "model_module_version": "1.5.0",
          "model_name": "FloatProgressModel",
          "state": {
            "_dom_classes": [],
            "_model_module": "@jupyter-widgets/controls",
            "_model_module_version": "1.5.0",
            "_model_name": "FloatProgressModel",
            "_view_count": null,
            "_view_module": "@jupyter-widgets/controls",
            "_view_module_version": "1.5.0",
            "_view_name": "ProgressView",
            "bar_style": "success",
            "description": "",
            "description_tooltip": null,
            "layout": "IPY_MODEL_ead90f3a43294073bad8f02251a8297c",
            "max": 5,
            "min": 0,
            "orientation": "horizontal",
            "style": "IPY_MODEL_3569e60754a74cfebb5084e7f894df0c",
            "value": 5
          }
        },
        "b71e89cdeb81449abfcbeeccbb35f7ea": {
          "model_module": "@jupyter-widgets/controls",
          "model_module_version": "1.5.0",
          "model_name": "FloatProgressModel",
          "state": {
            "_dom_classes": [],
            "_model_module": "@jupyter-widgets/controls",
            "_model_module_version": "1.5.0",
            "_model_name": "FloatProgressModel",
            "_view_count": null,
            "_view_module": "@jupyter-widgets/controls",
            "_view_module_version": "1.5.0",
            "_view_name": "ProgressView",
            "bar_style": "success",
            "description": "",
            "description_tooltip": null,
            "layout": "IPY_MODEL_4d400b57beb14f3fa1a155c2cfede552",
            "max": 5,
            "min": 0,
            "orientation": "horizontal",
            "style": "IPY_MODEL_6b8eede91ddd470caa0c3c80957ff0b6",
            "value": 5
          }
        },
        "b75fa76b5dbc437b9b4ddae9f3110ca8": {
          "model_module": "@jupyter-widgets/controls",
          "model_module_version": "1.5.0",
          "model_name": "DescriptionStyleModel",
          "state": {
            "_model_module": "@jupyter-widgets/controls",
            "_model_module_version": "1.5.0",
            "_model_name": "DescriptionStyleModel",
            "_view_count": null,
            "_view_module": "@jupyter-widgets/base",
            "_view_module_version": "1.2.0",
            "_view_name": "StyleView",
            "description_width": ""
          }
        },
        "b78d445bc65f4d6895f2e4cd4bcfb7ca": {
          "model_module": "@jupyter-widgets/controls",
          "model_module_version": "1.5.0",
          "model_name": "DescriptionStyleModel",
          "state": {
            "_model_module": "@jupyter-widgets/controls",
            "_model_module_version": "1.5.0",
            "_model_name": "DescriptionStyleModel",
            "_view_count": null,
            "_view_module": "@jupyter-widgets/base",
            "_view_module_version": "1.2.0",
            "_view_name": "StyleView",
            "description_width": ""
          }
        },
        "b7f3d49e38b248d1b6c4308fa712ecde": {
          "model_module": "@jupyter-widgets/base",
          "model_module_version": "1.2.0",
          "model_name": "LayoutModel",
          "state": {
            "_model_module": "@jupyter-widgets/base",
            "_model_module_version": "1.2.0",
            "_model_name": "LayoutModel",
            "_view_count": null,
            "_view_module": "@jupyter-widgets/base",
            "_view_module_version": "1.2.0",
            "_view_name": "LayoutView",
            "align_content": null,
            "align_items": null,
            "align_self": null,
            "border": null,
            "bottom": null,
            "display": null,
            "flex": null,
            "flex_flow": null,
            "grid_area": null,
            "grid_auto_columns": null,
            "grid_auto_flow": null,
            "grid_auto_rows": null,
            "grid_column": null,
            "grid_gap": null,
            "grid_row": null,
            "grid_template_areas": null,
            "grid_template_columns": null,
            "grid_template_rows": null,
            "height": null,
            "justify_content": null,
            "justify_items": null,
            "left": null,
            "margin": null,
            "max_height": null,
            "max_width": null,
            "min_height": null,
            "min_width": null,
            "object_fit": null,
            "object_position": null,
            "order": null,
            "overflow": null,
            "overflow_x": null,
            "overflow_y": null,
            "padding": null,
            "right": null,
            "top": null,
            "visibility": null,
            "width": null
          }
        },
        "b8050c629690428ebf7a4689a05b181a": {
          "model_module": "@jupyter-widgets/base",
          "model_module_version": "1.2.0",
          "model_name": "LayoutModel",
          "state": {
            "_model_module": "@jupyter-widgets/base",
            "_model_module_version": "1.2.0",
            "_model_name": "LayoutModel",
            "_view_count": null,
            "_view_module": "@jupyter-widgets/base",
            "_view_module_version": "1.2.0",
            "_view_name": "LayoutView",
            "align_content": null,
            "align_items": null,
            "align_self": null,
            "border": null,
            "bottom": null,
            "display": null,
            "flex": null,
            "flex_flow": null,
            "grid_area": null,
            "grid_auto_columns": null,
            "grid_auto_flow": null,
            "grid_auto_rows": null,
            "grid_column": null,
            "grid_gap": null,
            "grid_row": null,
            "grid_template_areas": null,
            "grid_template_columns": null,
            "grid_template_rows": null,
            "height": null,
            "justify_content": null,
            "justify_items": null,
            "left": null,
            "margin": null,
            "max_height": null,
            "max_width": null,
            "min_height": null,
            "min_width": null,
            "object_fit": null,
            "object_position": null,
            "order": null,
            "overflow": null,
            "overflow_x": null,
            "overflow_y": null,
            "padding": null,
            "right": null,
            "top": null,
            "visibility": null,
            "width": null
          }
        },
        "b844dfdb3b1644a5b59f1f16a9b4a994": {
          "model_module": "@jupyter-widgets/controls",
          "model_module_version": "1.5.0",
          "model_name": "HTMLModel",
          "state": {
            "_dom_classes": [],
            "_model_module": "@jupyter-widgets/controls",
            "_model_module_version": "1.5.0",
            "_model_name": "HTMLModel",
            "_view_count": null,
            "_view_module": "@jupyter-widgets/controls",
            "_view_module_version": "1.5.0",
            "_view_name": "HTMLView",
            "description": "",
            "description_tooltip": null,
            "layout": "IPY_MODEL_0490dd5e88f146dc9b8f75817870bac4",
            "placeholder": "​",
            "style": "IPY_MODEL_eb7fa2d470a84b44986d7971f4305407",
            "value": " 5/5 [00:01&lt;00:00,  4.21it/s]"
          }
        },
        "b877cdd74326419e8e96eb6d69ee6d19": {
          "model_module": "@jupyter-widgets/controls",
          "model_module_version": "1.5.0",
          "model_name": "HBoxModel",
          "state": {
            "_dom_classes": [],
            "_model_module": "@jupyter-widgets/controls",
            "_model_module_version": "1.5.0",
            "_model_name": "HBoxModel",
            "_view_count": null,
            "_view_module": "@jupyter-widgets/controls",
            "_view_module_version": "1.5.0",
            "_view_name": "HBoxView",
            "box_style": "",
            "children": [
              "IPY_MODEL_c6754a3e57af4b36a971470c075c058a",
              "IPY_MODEL_fa0e9a3328ef4e958f5e0f8f7b930530",
              "IPY_MODEL_4a6a918bbefb4e9595acc68157088196"
            ],
            "layout": "IPY_MODEL_66bc2202e16548d8926be99dddcf08b6"
          }
        },
        "b948add6a510457882ca5a9f49628857": {
          "model_module": "@jupyter-widgets/controls",
          "model_module_version": "1.5.0",
          "model_name": "FloatProgressModel",
          "state": {
            "_dom_classes": [],
            "_model_module": "@jupyter-widgets/controls",
            "_model_module_version": "1.5.0",
            "_model_name": "FloatProgressModel",
            "_view_count": null,
            "_view_module": "@jupyter-widgets/controls",
            "_view_module_version": "1.5.0",
            "_view_name": "ProgressView",
            "bar_style": "success",
            "description": "",
            "description_tooltip": null,
            "layout": "IPY_MODEL_16575558d59643e4a732165b1df8c053",
            "max": 37,
            "min": 0,
            "orientation": "horizontal",
            "style": "IPY_MODEL_68a5fff6ccfb4132a7b367ea44f54b0c",
            "value": 37
          }
        },
        "b9dae52a5211492197ba1bf2496c88c9": {
          "model_module": "@jupyter-widgets/controls",
          "model_module_version": "1.5.0",
          "model_name": "HTMLModel",
          "state": {
            "_dom_classes": [],
            "_model_module": "@jupyter-widgets/controls",
            "_model_module_version": "1.5.0",
            "_model_name": "HTMLModel",
            "_view_count": null,
            "_view_module": "@jupyter-widgets/controls",
            "_view_module_version": "1.5.0",
            "_view_name": "HTMLView",
            "description": "",
            "description_tooltip": null,
            "layout": "IPY_MODEL_e105193b43c34fc8962af3abc43efbc5",
            "placeholder": "​",
            "style": "IPY_MODEL_fd071944805b42ca8ba6e058fef0fc24",
            "value": "100%"
          }
        },
        "bb4a711fb8ab4f4bb2c83692049a26f4": {
          "model_module": "@jupyter-widgets/controls",
          "model_module_version": "1.5.0",
          "model_name": "DescriptionStyleModel",
          "state": {
            "_model_module": "@jupyter-widgets/controls",
            "_model_module_version": "1.5.0",
            "_model_name": "DescriptionStyleModel",
            "_view_count": null,
            "_view_module": "@jupyter-widgets/base",
            "_view_module_version": "1.2.0",
            "_view_name": "StyleView",
            "description_width": ""
          }
        },
        "bc48a050af7e4722a879ad8b1d1903c4": {
          "model_module": "@jupyter-widgets/controls",
          "model_module_version": "1.5.0",
          "model_name": "HTMLModel",
          "state": {
            "_dom_classes": [],
            "_model_module": "@jupyter-widgets/controls",
            "_model_module_version": "1.5.0",
            "_model_name": "HTMLModel",
            "_view_count": null,
            "_view_module": "@jupyter-widgets/controls",
            "_view_module_version": "1.5.0",
            "_view_name": "HTMLView",
            "description": "",
            "description_tooltip": null,
            "layout": "IPY_MODEL_3d19bad849914010a6c4d45c99ebd5b5",
            "placeholder": "​",
            "style": "IPY_MODEL_4685ee1c7af34428b748e2c13420946a",
            "value": " 5/5 [00:01&lt;00:00,  4.06it/s]"
          }
        },
        "bce4ca6cc5174c918b416daef4c9e41d": {
          "model_module": "@jupyter-widgets/controls",
          "model_module_version": "1.5.0",
          "model_name": "ProgressStyleModel",
          "state": {
            "_model_module": "@jupyter-widgets/controls",
            "_model_module_version": "1.5.0",
            "_model_name": "ProgressStyleModel",
            "_view_count": null,
            "_view_module": "@jupyter-widgets/base",
            "_view_module_version": "1.2.0",
            "_view_name": "StyleView",
            "bar_color": null,
            "description_width": ""
          }
        },
        "bdaf3e3402a4408fa0572d6922f8f1df": {
          "model_module": "@jupyter-widgets/controls",
          "model_module_version": "1.5.0",
          "model_name": "DescriptionStyleModel",
          "state": {
            "_model_module": "@jupyter-widgets/controls",
            "_model_module_version": "1.5.0",
            "_model_name": "DescriptionStyleModel",
            "_view_count": null,
            "_view_module": "@jupyter-widgets/base",
            "_view_module_version": "1.2.0",
            "_view_name": "StyleView",
            "description_width": ""
          }
        },
        "be5f27e51e4f41c8a34cc70ee8e42e14": {
          "model_module": "@jupyter-widgets/controls",
          "model_module_version": "1.5.0",
          "model_name": "HBoxModel",
          "state": {
            "_dom_classes": [],
            "_model_module": "@jupyter-widgets/controls",
            "_model_module_version": "1.5.0",
            "_model_name": "HBoxModel",
            "_view_count": null,
            "_view_module": "@jupyter-widgets/controls",
            "_view_module_version": "1.5.0",
            "_view_name": "HBoxView",
            "box_style": "",
            "children": [
              "IPY_MODEL_40a43231f3e846d1864b9e9adedd4ac1",
              "IPY_MODEL_852f6197521843cb89aa1b712f6faa06",
              "IPY_MODEL_71dca087110f4291a3bb470a6c989ae4"
            ],
            "layout": "IPY_MODEL_80f35e7b359c4c1cb28f92bda80be63d"
          }
        },
        "bf415ba267694091b41daf8596d929b7": {
          "model_module": "@jupyter-widgets/base",
          "model_module_version": "1.2.0",
          "model_name": "LayoutModel",
          "state": {
            "_model_module": "@jupyter-widgets/base",
            "_model_module_version": "1.2.0",
            "_model_name": "LayoutModel",
            "_view_count": null,
            "_view_module": "@jupyter-widgets/base",
            "_view_module_version": "1.2.0",
            "_view_name": "LayoutView",
            "align_content": null,
            "align_items": null,
            "align_self": null,
            "border": null,
            "bottom": null,
            "display": null,
            "flex": null,
            "flex_flow": null,
            "grid_area": null,
            "grid_auto_columns": null,
            "grid_auto_flow": null,
            "grid_auto_rows": null,
            "grid_column": null,
            "grid_gap": null,
            "grid_row": null,
            "grid_template_areas": null,
            "grid_template_columns": null,
            "grid_template_rows": null,
            "height": null,
            "justify_content": null,
            "justify_items": null,
            "left": null,
            "margin": null,
            "max_height": null,
            "max_width": null,
            "min_height": null,
            "min_width": null,
            "object_fit": null,
            "object_position": null,
            "order": null,
            "overflow": null,
            "overflow_x": null,
            "overflow_y": null,
            "padding": null,
            "right": null,
            "top": null,
            "visibility": null,
            "width": null
          }
        },
        "bfd330075e8343e8bc3070655708b0e4": {
          "model_module": "@jupyter-widgets/base",
          "model_module_version": "1.2.0",
          "model_name": "LayoutModel",
          "state": {
            "_model_module": "@jupyter-widgets/base",
            "_model_module_version": "1.2.0",
            "_model_name": "LayoutModel",
            "_view_count": null,
            "_view_module": "@jupyter-widgets/base",
            "_view_module_version": "1.2.0",
            "_view_name": "LayoutView",
            "align_content": null,
            "align_items": null,
            "align_self": null,
            "border": null,
            "bottom": null,
            "display": null,
            "flex": null,
            "flex_flow": null,
            "grid_area": null,
            "grid_auto_columns": null,
            "grid_auto_flow": null,
            "grid_auto_rows": null,
            "grid_column": null,
            "grid_gap": null,
            "grid_row": null,
            "grid_template_areas": null,
            "grid_template_columns": null,
            "grid_template_rows": null,
            "height": null,
            "justify_content": null,
            "justify_items": null,
            "left": null,
            "margin": null,
            "max_height": null,
            "max_width": null,
            "min_height": null,
            "min_width": null,
            "object_fit": null,
            "object_position": null,
            "order": null,
            "overflow": null,
            "overflow_x": null,
            "overflow_y": null,
            "padding": null,
            "right": null,
            "top": null,
            "visibility": null,
            "width": null
          }
        },
        "c03d91ff24d84cb5920523cbf4fc76d6": {
          "model_module": "@jupyter-widgets/base",
          "model_module_version": "1.2.0",
          "model_name": "LayoutModel",
          "state": {
            "_model_module": "@jupyter-widgets/base",
            "_model_module_version": "1.2.0",
            "_model_name": "LayoutModel",
            "_view_count": null,
            "_view_module": "@jupyter-widgets/base",
            "_view_module_version": "1.2.0",
            "_view_name": "LayoutView",
            "align_content": null,
            "align_items": null,
            "align_self": null,
            "border": null,
            "bottom": null,
            "display": null,
            "flex": null,
            "flex_flow": null,
            "grid_area": null,
            "grid_auto_columns": null,
            "grid_auto_flow": null,
            "grid_auto_rows": null,
            "grid_column": null,
            "grid_gap": null,
            "grid_row": null,
            "grid_template_areas": null,
            "grid_template_columns": null,
            "grid_template_rows": null,
            "height": null,
            "justify_content": null,
            "justify_items": null,
            "left": null,
            "margin": null,
            "max_height": null,
            "max_width": null,
            "min_height": null,
            "min_width": null,
            "object_fit": null,
            "object_position": null,
            "order": null,
            "overflow": null,
            "overflow_x": null,
            "overflow_y": null,
            "padding": null,
            "right": null,
            "top": null,
            "visibility": null,
            "width": null
          }
        },
        "c07ec67d62ee44e399e12dccedb8c90e": {
          "model_module": "@jupyter-widgets/controls",
          "model_module_version": "1.5.0",
          "model_name": "DescriptionStyleModel",
          "state": {
            "_model_module": "@jupyter-widgets/controls",
            "_model_module_version": "1.5.0",
            "_model_name": "DescriptionStyleModel",
            "_view_count": null,
            "_view_module": "@jupyter-widgets/base",
            "_view_module_version": "1.2.0",
            "_view_name": "StyleView",
            "description_width": ""
          }
        },
        "c0d6ab0e05e3451092a3a5f2ff34fddc": {
          "model_module": "@jupyter-widgets/controls",
          "model_module_version": "1.5.0",
          "model_name": "FloatProgressModel",
          "state": {
            "_dom_classes": [],
            "_model_module": "@jupyter-widgets/controls",
            "_model_module_version": "1.5.0",
            "_model_name": "FloatProgressModel",
            "_view_count": null,
            "_view_module": "@jupyter-widgets/controls",
            "_view_module_version": "1.5.0",
            "_view_name": "ProgressView",
            "bar_style": "success",
            "description": "",
            "description_tooltip": null,
            "layout": "IPY_MODEL_16084215ebdd499ca5ebfcde7bb4d46e",
            "max": 5,
            "min": 0,
            "orientation": "horizontal",
            "style": "IPY_MODEL_cc9532a66b3b4170a813e68bdebb985c",
            "value": 5
          }
        },
        "c171bcd9f8ea400587d5848a148f4fb0": {
          "model_module": "@jupyter-widgets/controls",
          "model_module_version": "1.5.0",
          "model_name": "ProgressStyleModel",
          "state": {
            "_model_module": "@jupyter-widgets/controls",
            "_model_module_version": "1.5.0",
            "_model_name": "ProgressStyleModel",
            "_view_count": null,
            "_view_module": "@jupyter-widgets/base",
            "_view_module_version": "1.2.0",
            "_view_name": "StyleView",
            "bar_color": null,
            "description_width": ""
          }
        },
        "c1e1209ccf8440bbafbd6fe87a7a57b7": {
          "model_module": "@jupyter-widgets/base",
          "model_module_version": "1.2.0",
          "model_name": "LayoutModel",
          "state": {
            "_model_module": "@jupyter-widgets/base",
            "_model_module_version": "1.2.0",
            "_model_name": "LayoutModel",
            "_view_count": null,
            "_view_module": "@jupyter-widgets/base",
            "_view_module_version": "1.2.0",
            "_view_name": "LayoutView",
            "align_content": null,
            "align_items": null,
            "align_self": null,
            "border": null,
            "bottom": null,
            "display": null,
            "flex": null,
            "flex_flow": null,
            "grid_area": null,
            "grid_auto_columns": null,
            "grid_auto_flow": null,
            "grid_auto_rows": null,
            "grid_column": null,
            "grid_gap": null,
            "grid_row": null,
            "grid_template_areas": null,
            "grid_template_columns": null,
            "grid_template_rows": null,
            "height": null,
            "justify_content": null,
            "justify_items": null,
            "left": null,
            "margin": null,
            "max_height": null,
            "max_width": null,
            "min_height": null,
            "min_width": null,
            "object_fit": null,
            "object_position": null,
            "order": null,
            "overflow": null,
            "overflow_x": null,
            "overflow_y": null,
            "padding": null,
            "right": null,
            "top": null,
            "visibility": null,
            "width": null
          }
        },
        "c237a5d829ca4ff2853f729c23480dab": {
          "model_module": "@jupyter-widgets/controls",
          "model_module_version": "1.5.0",
          "model_name": "DescriptionStyleModel",
          "state": {
            "_model_module": "@jupyter-widgets/controls",
            "_model_module_version": "1.5.0",
            "_model_name": "DescriptionStyleModel",
            "_view_count": null,
            "_view_module": "@jupyter-widgets/base",
            "_view_module_version": "1.2.0",
            "_view_name": "StyleView",
            "description_width": ""
          }
        },
        "c505876618c74a8f8025f1539d2f7bad": {
          "model_module": "@jupyter-widgets/controls",
          "model_module_version": "1.5.0",
          "model_name": "HBoxModel",
          "state": {
            "_dom_classes": [],
            "_model_module": "@jupyter-widgets/controls",
            "_model_module_version": "1.5.0",
            "_model_name": "HBoxModel",
            "_view_count": null,
            "_view_module": "@jupyter-widgets/controls",
            "_view_module_version": "1.5.0",
            "_view_name": "HBoxView",
            "box_style": "",
            "children": [
              "IPY_MODEL_496d1167b90245cc815aff0d894bdb08",
              "IPY_MODEL_c0d6ab0e05e3451092a3a5f2ff34fddc",
              "IPY_MODEL_2d3899089b7748c4a64e812abb24d6dc"
            ],
            "layout": "IPY_MODEL_37468a4a6c344848a1be9d72c33a5313"
          }
        },
        "c6754a3e57af4b36a971470c075c058a": {
          "model_module": "@jupyter-widgets/controls",
          "model_module_version": "1.5.0",
          "model_name": "HTMLModel",
          "state": {
            "_dom_classes": [],
            "_model_module": "@jupyter-widgets/controls",
            "_model_module_version": "1.5.0",
            "_model_name": "HTMLModel",
            "_view_count": null,
            "_view_module": "@jupyter-widgets/controls",
            "_view_module_version": "1.5.0",
            "_view_name": "HTMLView",
            "description": "",
            "description_tooltip": null,
            "layout": "IPY_MODEL_aa3159e0dc7c4b588b2cc1032562cd10",
            "placeholder": "​",
            "style": "IPY_MODEL_843c871386ad4b38aab76ada9fe63902",
            "value": "100%"
          }
        },
        "c7270f09f7ea433c9f05de825ee87d16": {
          "model_module": "@jupyter-widgets/controls",
          "model_module_version": "1.5.0",
          "model_name": "DescriptionStyleModel",
          "state": {
            "_model_module": "@jupyter-widgets/controls",
            "_model_module_version": "1.5.0",
            "_model_name": "DescriptionStyleModel",
            "_view_count": null,
            "_view_module": "@jupyter-widgets/base",
            "_view_module_version": "1.2.0",
            "_view_name": "StyleView",
            "description_width": ""
          }
        },
        "c752b719298b4004ad2bd5859b49facc": {
          "model_module": "@jupyter-widgets/controls",
          "model_module_version": "1.5.0",
          "model_name": "HBoxModel",
          "state": {
            "_dom_classes": [],
            "_model_module": "@jupyter-widgets/controls",
            "_model_module_version": "1.5.0",
            "_model_name": "HBoxModel",
            "_view_count": null,
            "_view_module": "@jupyter-widgets/controls",
            "_view_module_version": "1.5.0",
            "_view_name": "HBoxView",
            "box_style": "",
            "children": [
              "IPY_MODEL_f5c61b30fb804ebf9cc9144873b43743",
              "IPY_MODEL_407188fb22c14dee8d984a35b0506379",
              "IPY_MODEL_97d27154c2a046108032b757da53f285"
            ],
            "layout": "IPY_MODEL_421a469217204aad9eccb66856ba3257"
          }
        },
        "c79283203a55447498fccb60b1652410": {
          "model_module": "@jupyter-widgets/base",
          "model_module_version": "1.2.0",
          "model_name": "LayoutModel",
          "state": {
            "_model_module": "@jupyter-widgets/base",
            "_model_module_version": "1.2.0",
            "_model_name": "LayoutModel",
            "_view_count": null,
            "_view_module": "@jupyter-widgets/base",
            "_view_module_version": "1.2.0",
            "_view_name": "LayoutView",
            "align_content": null,
            "align_items": null,
            "align_self": null,
            "border": null,
            "bottom": null,
            "display": null,
            "flex": null,
            "flex_flow": null,
            "grid_area": null,
            "grid_auto_columns": null,
            "grid_auto_flow": null,
            "grid_auto_rows": null,
            "grid_column": null,
            "grid_gap": null,
            "grid_row": null,
            "grid_template_areas": null,
            "grid_template_columns": null,
            "grid_template_rows": null,
            "height": null,
            "justify_content": null,
            "justify_items": null,
            "left": null,
            "margin": null,
            "max_height": null,
            "max_width": null,
            "min_height": null,
            "min_width": null,
            "object_fit": null,
            "object_position": null,
            "order": null,
            "overflow": null,
            "overflow_x": null,
            "overflow_y": null,
            "padding": null,
            "right": null,
            "top": null,
            "visibility": null,
            "width": null
          }
        },
        "c8c3c3ee0c41441196d0aeaa9b3d4a34": {
          "model_module": "@jupyter-widgets/controls",
          "model_module_version": "1.5.0",
          "model_name": "ProgressStyleModel",
          "state": {
            "_model_module": "@jupyter-widgets/controls",
            "_model_module_version": "1.5.0",
            "_model_name": "ProgressStyleModel",
            "_view_count": null,
            "_view_module": "@jupyter-widgets/base",
            "_view_module_version": "1.2.0",
            "_view_name": "StyleView",
            "bar_color": null,
            "description_width": ""
          }
        },
        "ca0a7d194f1b44e6912c9cd73c95e20c": {
          "model_module": "@jupyter-widgets/controls",
          "model_module_version": "1.5.0",
          "model_name": "ProgressStyleModel",
          "state": {
            "_model_module": "@jupyter-widgets/controls",
            "_model_module_version": "1.5.0",
            "_model_name": "ProgressStyleModel",
            "_view_count": null,
            "_view_module": "@jupyter-widgets/base",
            "_view_module_version": "1.2.0",
            "_view_name": "StyleView",
            "bar_color": null,
            "description_width": ""
          }
        },
        "ca4fa4fc5b6b47cc8ef149145039307f": {
          "model_module": "@jupyter-widgets/controls",
          "model_module_version": "1.5.0",
          "model_name": "HTMLModel",
          "state": {
            "_dom_classes": [],
            "_model_module": "@jupyter-widgets/controls",
            "_model_module_version": "1.5.0",
            "_model_name": "HTMLModel",
            "_view_count": null,
            "_view_module": "@jupyter-widgets/controls",
            "_view_module_version": "1.5.0",
            "_view_name": "HTMLView",
            "description": "",
            "description_tooltip": null,
            "layout": "IPY_MODEL_a9a5d3d1428f4cdfb3b7fad761c1223b",
            "placeholder": "​",
            "style": "IPY_MODEL_15542e0a01f64c9a9c2823575802ee8f",
            "value": " 5/5 [00:01&lt;00:00,  4.11it/s]"
          }
        },
        "ca9bc3b4128e49a4b024bc2079082f3d": {
          "model_module": "@jupyter-widgets/controls",
          "model_module_version": "1.5.0",
          "model_name": "DescriptionStyleModel",
          "state": {
            "_model_module": "@jupyter-widgets/controls",
            "_model_module_version": "1.5.0",
            "_model_name": "DescriptionStyleModel",
            "_view_count": null,
            "_view_module": "@jupyter-widgets/base",
            "_view_module_version": "1.2.0",
            "_view_name": "StyleView",
            "description_width": ""
          }
        },
        "cb162091fa7b44599289663622e54895": {
          "model_module": "@jupyter-widgets/controls",
          "model_module_version": "1.5.0",
          "model_name": "DescriptionStyleModel",
          "state": {
            "_model_module": "@jupyter-widgets/controls",
            "_model_module_version": "1.5.0",
            "_model_name": "DescriptionStyleModel",
            "_view_count": null,
            "_view_module": "@jupyter-widgets/base",
            "_view_module_version": "1.2.0",
            "_view_name": "StyleView",
            "description_width": ""
          }
        },
        "cb6b72c1372341bb92d347ce6f055208": {
          "model_module": "@jupyter-widgets/base",
          "model_module_version": "1.2.0",
          "model_name": "LayoutModel",
          "state": {
            "_model_module": "@jupyter-widgets/base",
            "_model_module_version": "1.2.0",
            "_model_name": "LayoutModel",
            "_view_count": null,
            "_view_module": "@jupyter-widgets/base",
            "_view_module_version": "1.2.0",
            "_view_name": "LayoutView",
            "align_content": null,
            "align_items": null,
            "align_self": null,
            "border": null,
            "bottom": null,
            "display": null,
            "flex": null,
            "flex_flow": null,
            "grid_area": null,
            "grid_auto_columns": null,
            "grid_auto_flow": null,
            "grid_auto_rows": null,
            "grid_column": null,
            "grid_gap": null,
            "grid_row": null,
            "grid_template_areas": null,
            "grid_template_columns": null,
            "grid_template_rows": null,
            "height": null,
            "justify_content": null,
            "justify_items": null,
            "left": null,
            "margin": null,
            "max_height": null,
            "max_width": null,
            "min_height": null,
            "min_width": null,
            "object_fit": null,
            "object_position": null,
            "order": null,
            "overflow": null,
            "overflow_x": null,
            "overflow_y": null,
            "padding": null,
            "right": null,
            "top": null,
            "visibility": null,
            "width": null
          }
        },
        "cb7da7e63ab74d89952ee8d7c118b5ea": {
          "model_module": "@jupyter-widgets/base",
          "model_module_version": "1.2.0",
          "model_name": "LayoutModel",
          "state": {
            "_model_module": "@jupyter-widgets/base",
            "_model_module_version": "1.2.0",
            "_model_name": "LayoutModel",
            "_view_count": null,
            "_view_module": "@jupyter-widgets/base",
            "_view_module_version": "1.2.0",
            "_view_name": "LayoutView",
            "align_content": null,
            "align_items": null,
            "align_self": null,
            "border": null,
            "bottom": null,
            "display": null,
            "flex": null,
            "flex_flow": null,
            "grid_area": null,
            "grid_auto_columns": null,
            "grid_auto_flow": null,
            "grid_auto_rows": null,
            "grid_column": null,
            "grid_gap": null,
            "grid_row": null,
            "grid_template_areas": null,
            "grid_template_columns": null,
            "grid_template_rows": null,
            "height": null,
            "justify_content": null,
            "justify_items": null,
            "left": null,
            "margin": null,
            "max_height": null,
            "max_width": null,
            "min_height": null,
            "min_width": null,
            "object_fit": null,
            "object_position": null,
            "order": null,
            "overflow": null,
            "overflow_x": null,
            "overflow_y": null,
            "padding": null,
            "right": null,
            "top": null,
            "visibility": null,
            "width": null
          }
        },
        "cbb35b2be6cc49c5812a01e91f51a21f": {
          "model_module": "@jupyter-widgets/base",
          "model_module_version": "1.2.0",
          "model_name": "LayoutModel",
          "state": {
            "_model_module": "@jupyter-widgets/base",
            "_model_module_version": "1.2.0",
            "_model_name": "LayoutModel",
            "_view_count": null,
            "_view_module": "@jupyter-widgets/base",
            "_view_module_version": "1.2.0",
            "_view_name": "LayoutView",
            "align_content": null,
            "align_items": null,
            "align_self": null,
            "border": null,
            "bottom": null,
            "display": null,
            "flex": null,
            "flex_flow": null,
            "grid_area": null,
            "grid_auto_columns": null,
            "grid_auto_flow": null,
            "grid_auto_rows": null,
            "grid_column": null,
            "grid_gap": null,
            "grid_row": null,
            "grid_template_areas": null,
            "grid_template_columns": null,
            "grid_template_rows": null,
            "height": null,
            "justify_content": null,
            "justify_items": null,
            "left": null,
            "margin": null,
            "max_height": null,
            "max_width": null,
            "min_height": null,
            "min_width": null,
            "object_fit": null,
            "object_position": null,
            "order": null,
            "overflow": null,
            "overflow_x": null,
            "overflow_y": null,
            "padding": null,
            "right": null,
            "top": null,
            "visibility": null,
            "width": null
          }
        },
        "cbc416a6061c46d2a23d26e8513b5d6c": {
          "model_module": "@jupyter-widgets/controls",
          "model_module_version": "1.5.0",
          "model_name": "ProgressStyleModel",
          "state": {
            "_model_module": "@jupyter-widgets/controls",
            "_model_module_version": "1.5.0",
            "_model_name": "ProgressStyleModel",
            "_view_count": null,
            "_view_module": "@jupyter-widgets/base",
            "_view_module_version": "1.2.0",
            "_view_name": "StyleView",
            "bar_color": null,
            "description_width": ""
          }
        },
        "cc598e58c6664e04ba2ec3c547ed30cc": {
          "model_module": "@jupyter-widgets/controls",
          "model_module_version": "1.5.0",
          "model_name": "FloatProgressModel",
          "state": {
            "_dom_classes": [],
            "_model_module": "@jupyter-widgets/controls",
            "_model_module_version": "1.5.0",
            "_model_name": "FloatProgressModel",
            "_view_count": null,
            "_view_module": "@jupyter-widgets/controls",
            "_view_module_version": "1.5.0",
            "_view_name": "ProgressView",
            "bar_style": "success",
            "description": "",
            "description_tooltip": null,
            "layout": "IPY_MODEL_04c2d51544bc41d19af03456356bfc58",
            "max": 5,
            "min": 0,
            "orientation": "horizontal",
            "style": "IPY_MODEL_cbc416a6061c46d2a23d26e8513b5d6c",
            "value": 5
          }
        },
        "cc9532a66b3b4170a813e68bdebb985c": {
          "model_module": "@jupyter-widgets/controls",
          "model_module_version": "1.5.0",
          "model_name": "ProgressStyleModel",
          "state": {
            "_model_module": "@jupyter-widgets/controls",
            "_model_module_version": "1.5.0",
            "_model_name": "ProgressStyleModel",
            "_view_count": null,
            "_view_module": "@jupyter-widgets/base",
            "_view_module_version": "1.2.0",
            "_view_name": "StyleView",
            "bar_color": null,
            "description_width": ""
          }
        },
        "ccc948d341f04376826175a3fb57ae01": {
          "model_module": "@jupyter-widgets/base",
          "model_module_version": "1.2.0",
          "model_name": "LayoutModel",
          "state": {
            "_model_module": "@jupyter-widgets/base",
            "_model_module_version": "1.2.0",
            "_model_name": "LayoutModel",
            "_view_count": null,
            "_view_module": "@jupyter-widgets/base",
            "_view_module_version": "1.2.0",
            "_view_name": "LayoutView",
            "align_content": null,
            "align_items": null,
            "align_self": null,
            "border": null,
            "bottom": null,
            "display": null,
            "flex": null,
            "flex_flow": null,
            "grid_area": null,
            "grid_auto_columns": null,
            "grid_auto_flow": null,
            "grid_auto_rows": null,
            "grid_column": null,
            "grid_gap": null,
            "grid_row": null,
            "grid_template_areas": null,
            "grid_template_columns": null,
            "grid_template_rows": null,
            "height": null,
            "justify_content": null,
            "justify_items": null,
            "left": null,
            "margin": null,
            "max_height": null,
            "max_width": null,
            "min_height": null,
            "min_width": null,
            "object_fit": null,
            "object_position": null,
            "order": null,
            "overflow": null,
            "overflow_x": null,
            "overflow_y": null,
            "padding": null,
            "right": null,
            "top": null,
            "visibility": null,
            "width": null
          }
        },
        "cce739605eaf4673a58dce4d76c655e4": {
          "model_module": "@jupyter-widgets/base",
          "model_module_version": "1.2.0",
          "model_name": "LayoutModel",
          "state": {
            "_model_module": "@jupyter-widgets/base",
            "_model_module_version": "1.2.0",
            "_model_name": "LayoutModel",
            "_view_count": null,
            "_view_module": "@jupyter-widgets/base",
            "_view_module_version": "1.2.0",
            "_view_name": "LayoutView",
            "align_content": null,
            "align_items": null,
            "align_self": null,
            "border": null,
            "bottom": null,
            "display": null,
            "flex": null,
            "flex_flow": null,
            "grid_area": null,
            "grid_auto_columns": null,
            "grid_auto_flow": null,
            "grid_auto_rows": null,
            "grid_column": null,
            "grid_gap": null,
            "grid_row": null,
            "grid_template_areas": null,
            "grid_template_columns": null,
            "grid_template_rows": null,
            "height": null,
            "justify_content": null,
            "justify_items": null,
            "left": null,
            "margin": null,
            "max_height": null,
            "max_width": null,
            "min_height": null,
            "min_width": null,
            "object_fit": null,
            "object_position": null,
            "order": null,
            "overflow": null,
            "overflow_x": null,
            "overflow_y": null,
            "padding": null,
            "right": null,
            "top": null,
            "visibility": null,
            "width": null
          }
        },
        "cd7d53baf46e4249b502ee7edcfb51ca": {
          "model_module": "@jupyter-widgets/controls",
          "model_module_version": "1.5.0",
          "model_name": "HTMLModel",
          "state": {
            "_dom_classes": [],
            "_model_module": "@jupyter-widgets/controls",
            "_model_module_version": "1.5.0",
            "_model_name": "HTMLModel",
            "_view_count": null,
            "_view_module": "@jupyter-widgets/controls",
            "_view_module_version": "1.5.0",
            "_view_name": "HTMLView",
            "description": "",
            "description_tooltip": null,
            "layout": "IPY_MODEL_51ad6976702346c897a562fb97b556ef",
            "placeholder": "​",
            "style": "IPY_MODEL_a8499f3cf68441e59376be2ce281baff",
            "value": "100%"
          }
        },
        "d018642989584e39a8f76afe48d29e78": {
          "model_module": "@jupyter-widgets/controls",
          "model_module_version": "1.5.0",
          "model_name": "FloatProgressModel",
          "state": {
            "_dom_classes": [],
            "_model_module": "@jupyter-widgets/controls",
            "_model_module_version": "1.5.0",
            "_model_name": "FloatProgressModel",
            "_view_count": null,
            "_view_module": "@jupyter-widgets/controls",
            "_view_module_version": "1.5.0",
            "_view_name": "ProgressView",
            "bar_style": "success",
            "description": "",
            "description_tooltip": null,
            "layout": "IPY_MODEL_137423fc8bd049a1aa04f0b6ec72e2a9",
            "max": 5,
            "min": 0,
            "orientation": "horizontal",
            "style": "IPY_MODEL_0d57994d865a4df6ae519d11eb7a5359",
            "value": 5
          }
        },
        "d08674fa85cd4d7898d05e24e166a7fa": {
          "model_module": "@jupyter-widgets/controls",
          "model_module_version": "1.5.0",
          "model_name": "ProgressStyleModel",
          "state": {
            "_model_module": "@jupyter-widgets/controls",
            "_model_module_version": "1.5.0",
            "_model_name": "ProgressStyleModel",
            "_view_count": null,
            "_view_module": "@jupyter-widgets/base",
            "_view_module_version": "1.2.0",
            "_view_name": "StyleView",
            "bar_color": null,
            "description_width": ""
          }
        },
        "d1f6573f01314276b465650fcc975adb": {
          "model_module": "@jupyter-widgets/controls",
          "model_module_version": "1.5.0",
          "model_name": "DescriptionStyleModel",
          "state": {
            "_model_module": "@jupyter-widgets/controls",
            "_model_module_version": "1.5.0",
            "_model_name": "DescriptionStyleModel",
            "_view_count": null,
            "_view_module": "@jupyter-widgets/base",
            "_view_module_version": "1.2.0",
            "_view_name": "StyleView",
            "description_width": ""
          }
        },
        "d28fe0b67194488cbdbc61f800294751": {
          "model_module": "@jupyter-widgets/controls",
          "model_module_version": "1.5.0",
          "model_name": "FloatProgressModel",
          "state": {
            "_dom_classes": [],
            "_model_module": "@jupyter-widgets/controls",
            "_model_module_version": "1.5.0",
            "_model_name": "FloatProgressModel",
            "_view_count": null,
            "_view_module": "@jupyter-widgets/controls",
            "_view_module_version": "1.5.0",
            "_view_name": "ProgressView",
            "bar_style": "success",
            "description": "",
            "description_tooltip": null,
            "layout": "IPY_MODEL_27be575647414d21afa27101b8e844bb",
            "max": 37,
            "min": 0,
            "orientation": "horizontal",
            "style": "IPY_MODEL_9eab3a12a2ac4764bb7fa13fea3bbdf9",
            "value": 37
          }
        },
        "d2bc9420a4e045d28a45451738319c65": {
          "model_module": "@jupyter-widgets/base",
          "model_module_version": "1.2.0",
          "model_name": "LayoutModel",
          "state": {
            "_model_module": "@jupyter-widgets/base",
            "_model_module_version": "1.2.0",
            "_model_name": "LayoutModel",
            "_view_count": null,
            "_view_module": "@jupyter-widgets/base",
            "_view_module_version": "1.2.0",
            "_view_name": "LayoutView",
            "align_content": null,
            "align_items": null,
            "align_self": null,
            "border": null,
            "bottom": null,
            "display": null,
            "flex": null,
            "flex_flow": null,
            "grid_area": null,
            "grid_auto_columns": null,
            "grid_auto_flow": null,
            "grid_auto_rows": null,
            "grid_column": null,
            "grid_gap": null,
            "grid_row": null,
            "grid_template_areas": null,
            "grid_template_columns": null,
            "grid_template_rows": null,
            "height": null,
            "justify_content": null,
            "justify_items": null,
            "left": null,
            "margin": null,
            "max_height": null,
            "max_width": null,
            "min_height": null,
            "min_width": null,
            "object_fit": null,
            "object_position": null,
            "order": null,
            "overflow": null,
            "overflow_x": null,
            "overflow_y": null,
            "padding": null,
            "right": null,
            "top": null,
            "visibility": null,
            "width": null
          }
        },
        "d2c35bae32534c51928f089f371494d7": {
          "model_module": "@jupyter-widgets/controls",
          "model_module_version": "1.5.0",
          "model_name": "HBoxModel",
          "state": {
            "_dom_classes": [],
            "_model_module": "@jupyter-widgets/controls",
            "_model_module_version": "1.5.0",
            "_model_name": "HBoxModel",
            "_view_count": null,
            "_view_module": "@jupyter-widgets/controls",
            "_view_module_version": "1.5.0",
            "_view_name": "HBoxView",
            "box_style": "",
            "children": [
              "IPY_MODEL_39b5481451a24261a68c72f2f9b6c291",
              "IPY_MODEL_21b8db7e17e444d19464b60e43699aac",
              "IPY_MODEL_e78f8132292f4cf1b5acb45b58dce76f"
            ],
            "layout": "IPY_MODEL_bf415ba267694091b41daf8596d929b7"
          }
        },
        "d2d62bdd7d544d1383f67ef8d315f8bf": {
          "model_module": "@jupyter-widgets/base",
          "model_module_version": "1.2.0",
          "model_name": "LayoutModel",
          "state": {
            "_model_module": "@jupyter-widgets/base",
            "_model_module_version": "1.2.0",
            "_model_name": "LayoutModel",
            "_view_count": null,
            "_view_module": "@jupyter-widgets/base",
            "_view_module_version": "1.2.0",
            "_view_name": "LayoutView",
            "align_content": null,
            "align_items": null,
            "align_self": null,
            "border": null,
            "bottom": null,
            "display": null,
            "flex": null,
            "flex_flow": null,
            "grid_area": null,
            "grid_auto_columns": null,
            "grid_auto_flow": null,
            "grid_auto_rows": null,
            "grid_column": null,
            "grid_gap": null,
            "grid_row": null,
            "grid_template_areas": null,
            "grid_template_columns": null,
            "grid_template_rows": null,
            "height": null,
            "justify_content": null,
            "justify_items": null,
            "left": null,
            "margin": null,
            "max_height": null,
            "max_width": null,
            "min_height": null,
            "min_width": null,
            "object_fit": null,
            "object_position": null,
            "order": null,
            "overflow": null,
            "overflow_x": null,
            "overflow_y": null,
            "padding": null,
            "right": null,
            "top": null,
            "visibility": null,
            "width": null
          }
        },
        "d2d9c4eb29ca4020bd8c3ae103b3618c": {
          "model_module": "@jupyter-widgets/controls",
          "model_module_version": "1.5.0",
          "model_name": "FloatProgressModel",
          "state": {
            "_dom_classes": [],
            "_model_module": "@jupyter-widgets/controls",
            "_model_module_version": "1.5.0",
            "_model_name": "FloatProgressModel",
            "_view_count": null,
            "_view_module": "@jupyter-widgets/controls",
            "_view_module_version": "1.5.0",
            "_view_name": "ProgressView",
            "bar_style": "success",
            "description": "",
            "description_tooltip": null,
            "layout": "IPY_MODEL_d7503cdaae83450bad2a6386cf76bda5",
            "max": 5,
            "min": 0,
            "orientation": "horizontal",
            "style": "IPY_MODEL_803580c1ae8c4a36b2e8f68bf873ba3d",
            "value": 5
          }
        },
        "d2dbc0e4a4f8486b96e2d9a148e40ffd": {
          "model_module": "@jupyter-widgets/controls",
          "model_module_version": "1.5.0",
          "model_name": "HTMLModel",
          "state": {
            "_dom_classes": [],
            "_model_module": "@jupyter-widgets/controls",
            "_model_module_version": "1.5.0",
            "_model_name": "HTMLModel",
            "_view_count": null,
            "_view_module": "@jupyter-widgets/controls",
            "_view_module_version": "1.5.0",
            "_view_name": "HTMLView",
            "description": "",
            "description_tooltip": null,
            "layout": "IPY_MODEL_79ecb85426ff4493a9262e233f2a444c",
            "placeholder": "​",
            "style": "IPY_MODEL_9955cbed8c4a4ef988b81f68d2ccee65",
            "value": "100%"
          }
        },
        "d2dc3143f7a14c9d9750d66372733f4d": {
          "model_module": "@jupyter-widgets/base",
          "model_module_version": "1.2.0",
          "model_name": "LayoutModel",
          "state": {
            "_model_module": "@jupyter-widgets/base",
            "_model_module_version": "1.2.0",
            "_model_name": "LayoutModel",
            "_view_count": null,
            "_view_module": "@jupyter-widgets/base",
            "_view_module_version": "1.2.0",
            "_view_name": "LayoutView",
            "align_content": null,
            "align_items": null,
            "align_self": null,
            "border": null,
            "bottom": null,
            "display": null,
            "flex": null,
            "flex_flow": null,
            "grid_area": null,
            "grid_auto_columns": null,
            "grid_auto_flow": null,
            "grid_auto_rows": null,
            "grid_column": null,
            "grid_gap": null,
            "grid_row": null,
            "grid_template_areas": null,
            "grid_template_columns": null,
            "grid_template_rows": null,
            "height": null,
            "justify_content": null,
            "justify_items": null,
            "left": null,
            "margin": null,
            "max_height": null,
            "max_width": null,
            "min_height": null,
            "min_width": null,
            "object_fit": null,
            "object_position": null,
            "order": null,
            "overflow": null,
            "overflow_x": null,
            "overflow_y": null,
            "padding": null,
            "right": null,
            "top": null,
            "visibility": null,
            "width": null
          }
        },
        "d4b83f09aaa940c597b0b87917ffe0ff": {
          "model_module": "@jupyter-widgets/base",
          "model_module_version": "1.2.0",
          "model_name": "LayoutModel",
          "state": {
            "_model_module": "@jupyter-widgets/base",
            "_model_module_version": "1.2.0",
            "_model_name": "LayoutModel",
            "_view_count": null,
            "_view_module": "@jupyter-widgets/base",
            "_view_module_version": "1.2.0",
            "_view_name": "LayoutView",
            "align_content": null,
            "align_items": null,
            "align_self": null,
            "border": null,
            "bottom": null,
            "display": null,
            "flex": null,
            "flex_flow": null,
            "grid_area": null,
            "grid_auto_columns": null,
            "grid_auto_flow": null,
            "grid_auto_rows": null,
            "grid_column": null,
            "grid_gap": null,
            "grid_row": null,
            "grid_template_areas": null,
            "grid_template_columns": null,
            "grid_template_rows": null,
            "height": null,
            "justify_content": null,
            "justify_items": null,
            "left": null,
            "margin": null,
            "max_height": null,
            "max_width": null,
            "min_height": null,
            "min_width": null,
            "object_fit": null,
            "object_position": null,
            "order": null,
            "overflow": null,
            "overflow_x": null,
            "overflow_y": null,
            "padding": null,
            "right": null,
            "top": null,
            "visibility": null,
            "width": null
          }
        },
        "d65636d273c140cbb97fc96eb3eabc8d": {
          "model_module": "@jupyter-widgets/controls",
          "model_module_version": "1.5.0",
          "model_name": "HTMLModel",
          "state": {
            "_dom_classes": [],
            "_model_module": "@jupyter-widgets/controls",
            "_model_module_version": "1.5.0",
            "_model_name": "HTMLModel",
            "_view_count": null,
            "_view_module": "@jupyter-widgets/controls",
            "_view_module_version": "1.5.0",
            "_view_name": "HTMLView",
            "description": "",
            "description_tooltip": null,
            "layout": "IPY_MODEL_6ac25cd14ddf4ebf8df3d3a9c45559f2",
            "placeholder": "​",
            "style": "IPY_MODEL_e34c2374c719442b915c88d4918a215e",
            "value": "100%"
          }
        },
        "d7503cdaae83450bad2a6386cf76bda5": {
          "model_module": "@jupyter-widgets/base",
          "model_module_version": "1.2.0",
          "model_name": "LayoutModel",
          "state": {
            "_model_module": "@jupyter-widgets/base",
            "_model_module_version": "1.2.0",
            "_model_name": "LayoutModel",
            "_view_count": null,
            "_view_module": "@jupyter-widgets/base",
            "_view_module_version": "1.2.0",
            "_view_name": "LayoutView",
            "align_content": null,
            "align_items": null,
            "align_self": null,
            "border": null,
            "bottom": null,
            "display": null,
            "flex": null,
            "flex_flow": null,
            "grid_area": null,
            "grid_auto_columns": null,
            "grid_auto_flow": null,
            "grid_auto_rows": null,
            "grid_column": null,
            "grid_gap": null,
            "grid_row": null,
            "grid_template_areas": null,
            "grid_template_columns": null,
            "grid_template_rows": null,
            "height": null,
            "justify_content": null,
            "justify_items": null,
            "left": null,
            "margin": null,
            "max_height": null,
            "max_width": null,
            "min_height": null,
            "min_width": null,
            "object_fit": null,
            "object_position": null,
            "order": null,
            "overflow": null,
            "overflow_x": null,
            "overflow_y": null,
            "padding": null,
            "right": null,
            "top": null,
            "visibility": null,
            "width": null
          }
        },
        "d96825ad038841889987e4100eaf2463": {
          "model_module": "@jupyter-widgets/base",
          "model_module_version": "1.2.0",
          "model_name": "LayoutModel",
          "state": {
            "_model_module": "@jupyter-widgets/base",
            "_model_module_version": "1.2.0",
            "_model_name": "LayoutModel",
            "_view_count": null,
            "_view_module": "@jupyter-widgets/base",
            "_view_module_version": "1.2.0",
            "_view_name": "LayoutView",
            "align_content": null,
            "align_items": null,
            "align_self": null,
            "border": null,
            "bottom": null,
            "display": null,
            "flex": null,
            "flex_flow": null,
            "grid_area": null,
            "grid_auto_columns": null,
            "grid_auto_flow": null,
            "grid_auto_rows": null,
            "grid_column": null,
            "grid_gap": null,
            "grid_row": null,
            "grid_template_areas": null,
            "grid_template_columns": null,
            "grid_template_rows": null,
            "height": null,
            "justify_content": null,
            "justify_items": null,
            "left": null,
            "margin": null,
            "max_height": null,
            "max_width": null,
            "min_height": null,
            "min_width": null,
            "object_fit": null,
            "object_position": null,
            "order": null,
            "overflow": null,
            "overflow_x": null,
            "overflow_y": null,
            "padding": null,
            "right": null,
            "top": null,
            "visibility": null,
            "width": null
          }
        },
        "d9aae206a4d140b4a5f812d3550bfb9e": {
          "model_module": "@jupyter-widgets/base",
          "model_module_version": "1.2.0",
          "model_name": "LayoutModel",
          "state": {
            "_model_module": "@jupyter-widgets/base",
            "_model_module_version": "1.2.0",
            "_model_name": "LayoutModel",
            "_view_count": null,
            "_view_module": "@jupyter-widgets/base",
            "_view_module_version": "1.2.0",
            "_view_name": "LayoutView",
            "align_content": null,
            "align_items": null,
            "align_self": null,
            "border": null,
            "bottom": null,
            "display": null,
            "flex": null,
            "flex_flow": null,
            "grid_area": null,
            "grid_auto_columns": null,
            "grid_auto_flow": null,
            "grid_auto_rows": null,
            "grid_column": null,
            "grid_gap": null,
            "grid_row": null,
            "grid_template_areas": null,
            "grid_template_columns": null,
            "grid_template_rows": null,
            "height": null,
            "justify_content": null,
            "justify_items": null,
            "left": null,
            "margin": null,
            "max_height": null,
            "max_width": null,
            "min_height": null,
            "min_width": null,
            "object_fit": null,
            "object_position": null,
            "order": null,
            "overflow": null,
            "overflow_x": null,
            "overflow_y": null,
            "padding": null,
            "right": null,
            "top": null,
            "visibility": null,
            "width": null
          }
        },
        "d9e97dc88b574c71a53f15b8368ba28e": {
          "model_module": "@jupyter-widgets/controls",
          "model_module_version": "1.5.0",
          "model_name": "ProgressStyleModel",
          "state": {
            "_model_module": "@jupyter-widgets/controls",
            "_model_module_version": "1.5.0",
            "_model_name": "ProgressStyleModel",
            "_view_count": null,
            "_view_module": "@jupyter-widgets/base",
            "_view_module_version": "1.2.0",
            "_view_name": "StyleView",
            "bar_color": null,
            "description_width": ""
          }
        },
        "da1d307742f447118e033eb83b084933": {
          "model_module": "@jupyter-widgets/controls",
          "model_module_version": "1.5.0",
          "model_name": "FloatProgressModel",
          "state": {
            "_dom_classes": [],
            "_model_module": "@jupyter-widgets/controls",
            "_model_module_version": "1.5.0",
            "_model_name": "FloatProgressModel",
            "_view_count": null,
            "_view_module": "@jupyter-widgets/controls",
            "_view_module_version": "1.5.0",
            "_view_name": "ProgressView",
            "bar_style": "success",
            "description": "",
            "description_tooltip": null,
            "layout": "IPY_MODEL_04e3c0459b75400eb83bc837dd2bc99c",
            "max": 37,
            "min": 0,
            "orientation": "horizontal",
            "style": "IPY_MODEL_7e4b99f1db5d465ba35f5146bd995bc9",
            "value": 37
          }
        },
        "da9e45179eaa4bb6a88e5dc0500d88a4": {
          "model_module": "@jupyter-widgets/controls",
          "model_module_version": "1.5.0",
          "model_name": "HBoxModel",
          "state": {
            "_dom_classes": [],
            "_model_module": "@jupyter-widgets/controls",
            "_model_module_version": "1.5.0",
            "_model_name": "HBoxModel",
            "_view_count": null,
            "_view_module": "@jupyter-widgets/controls",
            "_view_module_version": "1.5.0",
            "_view_name": "HBoxView",
            "box_style": "",
            "children": [
              "IPY_MODEL_04d6596481e542e2a6a239803c31eb9a",
              "IPY_MODEL_621f9a2a5e2441d9a5d890f90c547400",
              "IPY_MODEL_fd858d486a3b4f978f494e9374c22a30"
            ],
            "layout": "IPY_MODEL_f60883e62b5d4b26871cb857646a87e5"
          }
        },
        "db0e849353cb492899916ed540fc1627": {
          "model_module": "@jupyter-widgets/controls",
          "model_module_version": "1.5.0",
          "model_name": "DescriptionStyleModel",
          "state": {
            "_model_module": "@jupyter-widgets/controls",
            "_model_module_version": "1.5.0",
            "_model_name": "DescriptionStyleModel",
            "_view_count": null,
            "_view_module": "@jupyter-widgets/base",
            "_view_module_version": "1.2.0",
            "_view_name": "StyleView",
            "description_width": ""
          }
        },
        "dd3629dff14a40e7a9c5667b86b838ac": {
          "model_module": "@jupyter-widgets/base",
          "model_module_version": "1.2.0",
          "model_name": "LayoutModel",
          "state": {
            "_model_module": "@jupyter-widgets/base",
            "_model_module_version": "1.2.0",
            "_model_name": "LayoutModel",
            "_view_count": null,
            "_view_module": "@jupyter-widgets/base",
            "_view_module_version": "1.2.0",
            "_view_name": "LayoutView",
            "align_content": null,
            "align_items": null,
            "align_self": null,
            "border": null,
            "bottom": null,
            "display": null,
            "flex": null,
            "flex_flow": null,
            "grid_area": null,
            "grid_auto_columns": null,
            "grid_auto_flow": null,
            "grid_auto_rows": null,
            "grid_column": null,
            "grid_gap": null,
            "grid_row": null,
            "grid_template_areas": null,
            "grid_template_columns": null,
            "grid_template_rows": null,
            "height": null,
            "justify_content": null,
            "justify_items": null,
            "left": null,
            "margin": null,
            "max_height": null,
            "max_width": null,
            "min_height": null,
            "min_width": null,
            "object_fit": null,
            "object_position": null,
            "order": null,
            "overflow": null,
            "overflow_x": null,
            "overflow_y": null,
            "padding": null,
            "right": null,
            "top": null,
            "visibility": null,
            "width": null
          }
        },
        "deacbaaad35a4eb48c3bde6ef19a8777": {
          "model_module": "@jupyter-widgets/base",
          "model_module_version": "1.2.0",
          "model_name": "LayoutModel",
          "state": {
            "_model_module": "@jupyter-widgets/base",
            "_model_module_version": "1.2.0",
            "_model_name": "LayoutModel",
            "_view_count": null,
            "_view_module": "@jupyter-widgets/base",
            "_view_module_version": "1.2.0",
            "_view_name": "LayoutView",
            "align_content": null,
            "align_items": null,
            "align_self": null,
            "border": null,
            "bottom": null,
            "display": null,
            "flex": null,
            "flex_flow": null,
            "grid_area": null,
            "grid_auto_columns": null,
            "grid_auto_flow": null,
            "grid_auto_rows": null,
            "grid_column": null,
            "grid_gap": null,
            "grid_row": null,
            "grid_template_areas": null,
            "grid_template_columns": null,
            "grid_template_rows": null,
            "height": null,
            "justify_content": null,
            "justify_items": null,
            "left": null,
            "margin": null,
            "max_height": null,
            "max_width": null,
            "min_height": null,
            "min_width": null,
            "object_fit": null,
            "object_position": null,
            "order": null,
            "overflow": null,
            "overflow_x": null,
            "overflow_y": null,
            "padding": null,
            "right": null,
            "top": null,
            "visibility": null,
            "width": null
          }
        },
        "df255e13d33e46a1a943be4716e0cdbe": {
          "model_module": "@jupyter-widgets/controls",
          "model_module_version": "1.5.0",
          "model_name": "HTMLModel",
          "state": {
            "_dom_classes": [],
            "_model_module": "@jupyter-widgets/controls",
            "_model_module_version": "1.5.0",
            "_model_name": "HTMLModel",
            "_view_count": null,
            "_view_module": "@jupyter-widgets/controls",
            "_view_module_version": "1.5.0",
            "_view_name": "HTMLView",
            "description": "",
            "description_tooltip": null,
            "layout": "IPY_MODEL_b7f3d49e38b248d1b6c4308fa712ecde",
            "placeholder": "​",
            "style": "IPY_MODEL_8e84c0336e674bda8e3340213c0d928d",
            "value": " 5/5 [00:01&lt;00:00,  3.85it/s]"
          }
        },
        "e02dd1d4a30949ebbefdf142222d42aa": {
          "model_module": "@jupyter-widgets/controls",
          "model_module_version": "1.5.0",
          "model_name": "FloatProgressModel",
          "state": {
            "_dom_classes": [],
            "_model_module": "@jupyter-widgets/controls",
            "_model_module_version": "1.5.0",
            "_model_name": "FloatProgressModel",
            "_view_count": null,
            "_view_module": "@jupyter-widgets/controls",
            "_view_module_version": "1.5.0",
            "_view_name": "ProgressView",
            "bar_style": "success",
            "description": "",
            "description_tooltip": null,
            "layout": "IPY_MODEL_6f1017f2b9b94cce8a95a9f1d300c98f",
            "max": 37,
            "min": 0,
            "orientation": "horizontal",
            "style": "IPY_MODEL_63af15a6534a45f7ab2822e67880c75e",
            "value": 37
          }
        },
        "e04fa6688a8e462185e74cac4d8442ff": {
          "model_module": "@jupyter-widgets/controls",
          "model_module_version": "1.5.0",
          "model_name": "HBoxModel",
          "state": {
            "_dom_classes": [],
            "_model_module": "@jupyter-widgets/controls",
            "_model_module_version": "1.5.0",
            "_model_name": "HBoxModel",
            "_view_count": null,
            "_view_module": "@jupyter-widgets/controls",
            "_view_module_version": "1.5.0",
            "_view_name": "HBoxView",
            "box_style": "",
            "children": [
              "IPY_MODEL_87ba2e044b0b4a9a8b083734c2e2b7cb",
              "IPY_MODEL_7c7063bbdced4ff2955f13282020f093",
              "IPY_MODEL_a77cfce9a5cf476497590975dd4f6b52"
            ],
            "layout": "IPY_MODEL_4be4ad052e784051ba37d790aef146f1"
          }
        },
        "e06759bec4cb4a89b43fee4d6a921cb6": {
          "model_module": "@jupyter-widgets/base",
          "model_module_version": "1.2.0",
          "model_name": "LayoutModel",
          "state": {
            "_model_module": "@jupyter-widgets/base",
            "_model_module_version": "1.2.0",
            "_model_name": "LayoutModel",
            "_view_count": null,
            "_view_module": "@jupyter-widgets/base",
            "_view_module_version": "1.2.0",
            "_view_name": "LayoutView",
            "align_content": null,
            "align_items": null,
            "align_self": null,
            "border": null,
            "bottom": null,
            "display": null,
            "flex": null,
            "flex_flow": null,
            "grid_area": null,
            "grid_auto_columns": null,
            "grid_auto_flow": null,
            "grid_auto_rows": null,
            "grid_column": null,
            "grid_gap": null,
            "grid_row": null,
            "grid_template_areas": null,
            "grid_template_columns": null,
            "grid_template_rows": null,
            "height": null,
            "justify_content": null,
            "justify_items": null,
            "left": null,
            "margin": null,
            "max_height": null,
            "max_width": null,
            "min_height": null,
            "min_width": null,
            "object_fit": null,
            "object_position": null,
            "order": null,
            "overflow": null,
            "overflow_x": null,
            "overflow_y": null,
            "padding": null,
            "right": null,
            "top": null,
            "visibility": null,
            "width": null
          }
        },
        "e0ad7d3e3e0b4ce4aa6d1fa8a639c463": {
          "model_module": "@jupyter-widgets/base",
          "model_module_version": "1.2.0",
          "model_name": "LayoutModel",
          "state": {
            "_model_module": "@jupyter-widgets/base",
            "_model_module_version": "1.2.0",
            "_model_name": "LayoutModel",
            "_view_count": null,
            "_view_module": "@jupyter-widgets/base",
            "_view_module_version": "1.2.0",
            "_view_name": "LayoutView",
            "align_content": null,
            "align_items": null,
            "align_self": null,
            "border": null,
            "bottom": null,
            "display": null,
            "flex": null,
            "flex_flow": null,
            "grid_area": null,
            "grid_auto_columns": null,
            "grid_auto_flow": null,
            "grid_auto_rows": null,
            "grid_column": null,
            "grid_gap": null,
            "grid_row": null,
            "grid_template_areas": null,
            "grid_template_columns": null,
            "grid_template_rows": null,
            "height": null,
            "justify_content": null,
            "justify_items": null,
            "left": null,
            "margin": null,
            "max_height": null,
            "max_width": null,
            "min_height": null,
            "min_width": null,
            "object_fit": null,
            "object_position": null,
            "order": null,
            "overflow": null,
            "overflow_x": null,
            "overflow_y": null,
            "padding": null,
            "right": null,
            "top": null,
            "visibility": null,
            "width": null
          }
        },
        "e105193b43c34fc8962af3abc43efbc5": {
          "model_module": "@jupyter-widgets/base",
          "model_module_version": "1.2.0",
          "model_name": "LayoutModel",
          "state": {
            "_model_module": "@jupyter-widgets/base",
            "_model_module_version": "1.2.0",
            "_model_name": "LayoutModel",
            "_view_count": null,
            "_view_module": "@jupyter-widgets/base",
            "_view_module_version": "1.2.0",
            "_view_name": "LayoutView",
            "align_content": null,
            "align_items": null,
            "align_self": null,
            "border": null,
            "bottom": null,
            "display": null,
            "flex": null,
            "flex_flow": null,
            "grid_area": null,
            "grid_auto_columns": null,
            "grid_auto_flow": null,
            "grid_auto_rows": null,
            "grid_column": null,
            "grid_gap": null,
            "grid_row": null,
            "grid_template_areas": null,
            "grid_template_columns": null,
            "grid_template_rows": null,
            "height": null,
            "justify_content": null,
            "justify_items": null,
            "left": null,
            "margin": null,
            "max_height": null,
            "max_width": null,
            "min_height": null,
            "min_width": null,
            "object_fit": null,
            "object_position": null,
            "order": null,
            "overflow": null,
            "overflow_x": null,
            "overflow_y": null,
            "padding": null,
            "right": null,
            "top": null,
            "visibility": null,
            "width": null
          }
        },
        "e1d00d1306904aa4865cc7c979a32f4f": {
          "model_module": "@jupyter-widgets/controls",
          "model_module_version": "1.5.0",
          "model_name": "HBoxModel",
          "state": {
            "_dom_classes": [],
            "_model_module": "@jupyter-widgets/controls",
            "_model_module_version": "1.5.0",
            "_model_name": "HBoxModel",
            "_view_count": null,
            "_view_module": "@jupyter-widgets/controls",
            "_view_module_version": "1.5.0",
            "_view_name": "HBoxView",
            "box_style": "",
            "children": [
              "IPY_MODEL_a13710a4b18543508b7d9204b66254b6",
              "IPY_MODEL_b948add6a510457882ca5a9f49628857",
              "IPY_MODEL_3b3e0ed46f6d443984497b9004f43e4d"
            ],
            "layout": "IPY_MODEL_e67f2cc688334088a18a3d6b41c94455"
          }
        },
        "e22dc7adf34d4db485ed3139ca8ae262": {
          "model_module": "@jupyter-widgets/controls",
          "model_module_version": "1.5.0",
          "model_name": "DescriptionStyleModel",
          "state": {
            "_model_module": "@jupyter-widgets/controls",
            "_model_module_version": "1.5.0",
            "_model_name": "DescriptionStyleModel",
            "_view_count": null,
            "_view_module": "@jupyter-widgets/base",
            "_view_module_version": "1.2.0",
            "_view_name": "StyleView",
            "description_width": ""
          }
        },
        "e34c2374c719442b915c88d4918a215e": {
          "model_module": "@jupyter-widgets/controls",
          "model_module_version": "1.5.0",
          "model_name": "DescriptionStyleModel",
          "state": {
            "_model_module": "@jupyter-widgets/controls",
            "_model_module_version": "1.5.0",
            "_model_name": "DescriptionStyleModel",
            "_view_count": null,
            "_view_module": "@jupyter-widgets/base",
            "_view_module_version": "1.2.0",
            "_view_name": "StyleView",
            "description_width": ""
          }
        },
        "e480477885d64ae991f8a6fef9ab81f7": {
          "model_module": "@jupyter-widgets/controls",
          "model_module_version": "1.5.0",
          "model_name": "ProgressStyleModel",
          "state": {
            "_model_module": "@jupyter-widgets/controls",
            "_model_module_version": "1.5.0",
            "_model_name": "ProgressStyleModel",
            "_view_count": null,
            "_view_module": "@jupyter-widgets/base",
            "_view_module_version": "1.2.0",
            "_view_name": "StyleView",
            "bar_color": null,
            "description_width": ""
          }
        },
        "e4fb5737178e4080b623dfb041d9ff5d": {
          "model_module": "@jupyter-widgets/base",
          "model_module_version": "1.2.0",
          "model_name": "LayoutModel",
          "state": {
            "_model_module": "@jupyter-widgets/base",
            "_model_module_version": "1.2.0",
            "_model_name": "LayoutModel",
            "_view_count": null,
            "_view_module": "@jupyter-widgets/base",
            "_view_module_version": "1.2.0",
            "_view_name": "LayoutView",
            "align_content": null,
            "align_items": null,
            "align_self": null,
            "border": null,
            "bottom": null,
            "display": null,
            "flex": null,
            "flex_flow": null,
            "grid_area": null,
            "grid_auto_columns": null,
            "grid_auto_flow": null,
            "grid_auto_rows": null,
            "grid_column": null,
            "grid_gap": null,
            "grid_row": null,
            "grid_template_areas": null,
            "grid_template_columns": null,
            "grid_template_rows": null,
            "height": null,
            "justify_content": null,
            "justify_items": null,
            "left": null,
            "margin": null,
            "max_height": null,
            "max_width": null,
            "min_height": null,
            "min_width": null,
            "object_fit": null,
            "object_position": null,
            "order": null,
            "overflow": null,
            "overflow_x": null,
            "overflow_y": null,
            "padding": null,
            "right": null,
            "top": null,
            "visibility": null,
            "width": null
          }
        },
        "e66b5765bc21421f9d21fdac1c46ce75": {
          "model_module": "@jupyter-widgets/controls",
          "model_module_version": "1.5.0",
          "model_name": "DescriptionStyleModel",
          "state": {
            "_model_module": "@jupyter-widgets/controls",
            "_model_module_version": "1.5.0",
            "_model_name": "DescriptionStyleModel",
            "_view_count": null,
            "_view_module": "@jupyter-widgets/base",
            "_view_module_version": "1.2.0",
            "_view_name": "StyleView",
            "description_width": ""
          }
        },
        "e67f2cc688334088a18a3d6b41c94455": {
          "model_module": "@jupyter-widgets/base",
          "model_module_version": "1.2.0",
          "model_name": "LayoutModel",
          "state": {
            "_model_module": "@jupyter-widgets/base",
            "_model_module_version": "1.2.0",
            "_model_name": "LayoutModel",
            "_view_count": null,
            "_view_module": "@jupyter-widgets/base",
            "_view_module_version": "1.2.0",
            "_view_name": "LayoutView",
            "align_content": null,
            "align_items": null,
            "align_self": null,
            "border": null,
            "bottom": null,
            "display": null,
            "flex": null,
            "flex_flow": null,
            "grid_area": null,
            "grid_auto_columns": null,
            "grid_auto_flow": null,
            "grid_auto_rows": null,
            "grid_column": null,
            "grid_gap": null,
            "grid_row": null,
            "grid_template_areas": null,
            "grid_template_columns": null,
            "grid_template_rows": null,
            "height": null,
            "justify_content": null,
            "justify_items": null,
            "left": null,
            "margin": null,
            "max_height": null,
            "max_width": null,
            "min_height": null,
            "min_width": null,
            "object_fit": null,
            "object_position": null,
            "order": null,
            "overflow": null,
            "overflow_x": null,
            "overflow_y": null,
            "padding": null,
            "right": null,
            "top": null,
            "visibility": null,
            "width": null
          }
        },
        "e78f8132292f4cf1b5acb45b58dce76f": {
          "model_module": "@jupyter-widgets/controls",
          "model_module_version": "1.5.0",
          "model_name": "HTMLModel",
          "state": {
            "_dom_classes": [],
            "_model_module": "@jupyter-widgets/controls",
            "_model_module_version": "1.5.0",
            "_model_name": "HTMLModel",
            "_view_count": null,
            "_view_module": "@jupyter-widgets/controls",
            "_view_module_version": "1.5.0",
            "_view_name": "HTMLView",
            "description": "",
            "description_tooltip": null,
            "layout": "IPY_MODEL_d2dc3143f7a14c9d9750d66372733f4d",
            "placeholder": "​",
            "style": "IPY_MODEL_94f168b1ed8c4ba69922a548f558f1f7",
            "value": " 37/37 [00:25&lt;00:00,  1.89it/s]"
          }
        },
        "e8ba6ce1d3db449f8b713e3e5548dfe2": {
          "model_module": "@jupyter-widgets/controls",
          "model_module_version": "1.5.0",
          "model_name": "DescriptionStyleModel",
          "state": {
            "_model_module": "@jupyter-widgets/controls",
            "_model_module_version": "1.5.0",
            "_model_name": "DescriptionStyleModel",
            "_view_count": null,
            "_view_module": "@jupyter-widgets/base",
            "_view_module_version": "1.2.0",
            "_view_name": "StyleView",
            "description_width": ""
          }
        },
        "e8cbacd1fb654fdea9c51bbf4066a38e": {
          "model_module": "@jupyter-widgets/controls",
          "model_module_version": "1.5.0",
          "model_name": "ProgressStyleModel",
          "state": {
            "_model_module": "@jupyter-widgets/controls",
            "_model_module_version": "1.5.0",
            "_model_name": "ProgressStyleModel",
            "_view_count": null,
            "_view_module": "@jupyter-widgets/base",
            "_view_module_version": "1.2.0",
            "_view_name": "StyleView",
            "bar_color": null,
            "description_width": ""
          }
        },
        "ea4d380b22f54c199af86aa5fdcce186": {
          "model_module": "@jupyter-widgets/controls",
          "model_module_version": "1.5.0",
          "model_name": "ProgressStyleModel",
          "state": {
            "_model_module": "@jupyter-widgets/controls",
            "_model_module_version": "1.5.0",
            "_model_name": "ProgressStyleModel",
            "_view_count": null,
            "_view_module": "@jupyter-widgets/base",
            "_view_module_version": "1.2.0",
            "_view_name": "StyleView",
            "bar_color": null,
            "description_width": ""
          }
        },
        "ea96316a2fea4f1ebede8a39a2bef75c": {
          "model_module": "@jupyter-widgets/controls",
          "model_module_version": "1.5.0",
          "model_name": "HBoxModel",
          "state": {
            "_dom_classes": [],
            "_model_module": "@jupyter-widgets/controls",
            "_model_module_version": "1.5.0",
            "_model_name": "HBoxModel",
            "_view_count": null,
            "_view_module": "@jupyter-widgets/controls",
            "_view_module_version": "1.5.0",
            "_view_name": "HBoxView",
            "box_style": "",
            "children": [
              "IPY_MODEL_9e3898d4f110491b9f4cd18a53ae4d29",
              "IPY_MODEL_177a26fb5d1340158780c6f5698e81e5",
              "IPY_MODEL_4b006230c1ca4d78beae68fdcb06529b"
            ],
            "layout": "IPY_MODEL_24e8402b13ee4654a01e25d652e82993"
          }
        },
        "ead90f3a43294073bad8f02251a8297c": {
          "model_module": "@jupyter-widgets/base",
          "model_module_version": "1.2.0",
          "model_name": "LayoutModel",
          "state": {
            "_model_module": "@jupyter-widgets/base",
            "_model_module_version": "1.2.0",
            "_model_name": "LayoutModel",
            "_view_count": null,
            "_view_module": "@jupyter-widgets/base",
            "_view_module_version": "1.2.0",
            "_view_name": "LayoutView",
            "align_content": null,
            "align_items": null,
            "align_self": null,
            "border": null,
            "bottom": null,
            "display": null,
            "flex": null,
            "flex_flow": null,
            "grid_area": null,
            "grid_auto_columns": null,
            "grid_auto_flow": null,
            "grid_auto_rows": null,
            "grid_column": null,
            "grid_gap": null,
            "grid_row": null,
            "grid_template_areas": null,
            "grid_template_columns": null,
            "grid_template_rows": null,
            "height": null,
            "justify_content": null,
            "justify_items": null,
            "left": null,
            "margin": null,
            "max_height": null,
            "max_width": null,
            "min_height": null,
            "min_width": null,
            "object_fit": null,
            "object_position": null,
            "order": null,
            "overflow": null,
            "overflow_x": null,
            "overflow_y": null,
            "padding": null,
            "right": null,
            "top": null,
            "visibility": null,
            "width": null
          }
        },
        "eb7a26525be84a67ae07057bebcfa36f": {
          "model_module": "@jupyter-widgets/controls",
          "model_module_version": "1.5.0",
          "model_name": "DescriptionStyleModel",
          "state": {
            "_model_module": "@jupyter-widgets/controls",
            "_model_module_version": "1.5.0",
            "_model_name": "DescriptionStyleModel",
            "_view_count": null,
            "_view_module": "@jupyter-widgets/base",
            "_view_module_version": "1.2.0",
            "_view_name": "StyleView",
            "description_width": ""
          }
        },
        "eb7fa2d470a84b44986d7971f4305407": {
          "model_module": "@jupyter-widgets/controls",
          "model_module_version": "1.5.0",
          "model_name": "DescriptionStyleModel",
          "state": {
            "_model_module": "@jupyter-widgets/controls",
            "_model_module_version": "1.5.0",
            "_model_name": "DescriptionStyleModel",
            "_view_count": null,
            "_view_module": "@jupyter-widgets/base",
            "_view_module_version": "1.2.0",
            "_view_name": "StyleView",
            "description_width": ""
          }
        },
        "ec87a7726acf4cf59d38c98bea9609e7": {
          "model_module": "@jupyter-widgets/controls",
          "model_module_version": "1.5.0",
          "model_name": "HBoxModel",
          "state": {
            "_dom_classes": [],
            "_model_module": "@jupyter-widgets/controls",
            "_model_module_version": "1.5.0",
            "_model_name": "HBoxModel",
            "_view_count": null,
            "_view_module": "@jupyter-widgets/controls",
            "_view_module_version": "1.5.0",
            "_view_name": "HBoxView",
            "box_style": "",
            "children": [
              "IPY_MODEL_9642d2bc669e4596bef486e5b79678f0",
              "IPY_MODEL_83e128637ee446ad818cf670474ea36c",
              "IPY_MODEL_08f45b9fff07409ea635a402e81e7c9b"
            ],
            "layout": "IPY_MODEL_3cb2c1b7d06145efac85778212af6e25"
          }
        },
        "ee8f9199b58641f3bae191e531f42abe": {
          "model_module": "@jupyter-widgets/base",
          "model_module_version": "1.2.0",
          "model_name": "LayoutModel",
          "state": {
            "_model_module": "@jupyter-widgets/base",
            "_model_module_version": "1.2.0",
            "_model_name": "LayoutModel",
            "_view_count": null,
            "_view_module": "@jupyter-widgets/base",
            "_view_module_version": "1.2.0",
            "_view_name": "LayoutView",
            "align_content": null,
            "align_items": null,
            "align_self": null,
            "border": null,
            "bottom": null,
            "display": null,
            "flex": null,
            "flex_flow": null,
            "grid_area": null,
            "grid_auto_columns": null,
            "grid_auto_flow": null,
            "grid_auto_rows": null,
            "grid_column": null,
            "grid_gap": null,
            "grid_row": null,
            "grid_template_areas": null,
            "grid_template_columns": null,
            "grid_template_rows": null,
            "height": null,
            "justify_content": null,
            "justify_items": null,
            "left": null,
            "margin": null,
            "max_height": null,
            "max_width": null,
            "min_height": null,
            "min_width": null,
            "object_fit": null,
            "object_position": null,
            "order": null,
            "overflow": null,
            "overflow_x": null,
            "overflow_y": null,
            "padding": null,
            "right": null,
            "top": null,
            "visibility": null,
            "width": null
          }
        },
        "ef5f393611fe451cb53fa1cc9b5dd2e7": {
          "model_module": "@jupyter-widgets/controls",
          "model_module_version": "1.5.0",
          "model_name": "HTMLModel",
          "state": {
            "_dom_classes": [],
            "_model_module": "@jupyter-widgets/controls",
            "_model_module_version": "1.5.0",
            "_model_name": "HTMLModel",
            "_view_count": null,
            "_view_module": "@jupyter-widgets/controls",
            "_view_module_version": "1.5.0",
            "_view_name": "HTMLView",
            "description": "",
            "description_tooltip": null,
            "layout": "IPY_MODEL_6b3aaaa79f304755be6e1ce16485ba9e",
            "placeholder": "​",
            "style": "IPY_MODEL_bdaf3e3402a4408fa0572d6922f8f1df",
            "value": "100%"
          }
        },
        "f01bc7bfa53642b7bc5361f1cf632a0a": {
          "model_module": "@jupyter-widgets/controls",
          "model_module_version": "1.5.0",
          "model_name": "HTMLModel",
          "state": {
            "_dom_classes": [],
            "_model_module": "@jupyter-widgets/controls",
            "_model_module_version": "1.5.0",
            "_model_name": "HTMLModel",
            "_view_count": null,
            "_view_module": "@jupyter-widgets/controls",
            "_view_module_version": "1.5.0",
            "_view_name": "HTMLView",
            "description": "",
            "description_tooltip": null,
            "layout": "IPY_MODEL_6051416676a64096a7bd232cc1dc2417",
            "placeholder": "​",
            "style": "IPY_MODEL_5446ddd3d4414b8b9afb0ac441328c5c",
            "value": " 5/5 [00:01&lt;00:00,  4.14it/s]"
          }
        },
        "f06488146e044800be32a9394cdd4529": {
          "model_module": "@jupyter-widgets/base",
          "model_module_version": "1.2.0",
          "model_name": "LayoutModel",
          "state": {
            "_model_module": "@jupyter-widgets/base",
            "_model_module_version": "1.2.0",
            "_model_name": "LayoutModel",
            "_view_count": null,
            "_view_module": "@jupyter-widgets/base",
            "_view_module_version": "1.2.0",
            "_view_name": "LayoutView",
            "align_content": null,
            "align_items": null,
            "align_self": null,
            "border": null,
            "bottom": null,
            "display": null,
            "flex": null,
            "flex_flow": null,
            "grid_area": null,
            "grid_auto_columns": null,
            "grid_auto_flow": null,
            "grid_auto_rows": null,
            "grid_column": null,
            "grid_gap": null,
            "grid_row": null,
            "grid_template_areas": null,
            "grid_template_columns": null,
            "grid_template_rows": null,
            "height": null,
            "justify_content": null,
            "justify_items": null,
            "left": null,
            "margin": null,
            "max_height": null,
            "max_width": null,
            "min_height": null,
            "min_width": null,
            "object_fit": null,
            "object_position": null,
            "order": null,
            "overflow": null,
            "overflow_x": null,
            "overflow_y": null,
            "padding": null,
            "right": null,
            "top": null,
            "visibility": null,
            "width": null
          }
        },
        "f0b56f7b732148428081d223d01702a4": {
          "model_module": "@jupyter-widgets/base",
          "model_module_version": "1.2.0",
          "model_name": "LayoutModel",
          "state": {
            "_model_module": "@jupyter-widgets/base",
            "_model_module_version": "1.2.0",
            "_model_name": "LayoutModel",
            "_view_count": null,
            "_view_module": "@jupyter-widgets/base",
            "_view_module_version": "1.2.0",
            "_view_name": "LayoutView",
            "align_content": null,
            "align_items": null,
            "align_self": null,
            "border": null,
            "bottom": null,
            "display": null,
            "flex": null,
            "flex_flow": null,
            "grid_area": null,
            "grid_auto_columns": null,
            "grid_auto_flow": null,
            "grid_auto_rows": null,
            "grid_column": null,
            "grid_gap": null,
            "grid_row": null,
            "grid_template_areas": null,
            "grid_template_columns": null,
            "grid_template_rows": null,
            "height": null,
            "justify_content": null,
            "justify_items": null,
            "left": null,
            "margin": null,
            "max_height": null,
            "max_width": null,
            "min_height": null,
            "min_width": null,
            "object_fit": null,
            "object_position": null,
            "order": null,
            "overflow": null,
            "overflow_x": null,
            "overflow_y": null,
            "padding": null,
            "right": null,
            "top": null,
            "visibility": null,
            "width": null
          }
        },
        "f0cb4ddddb394212b36780a635dfdb17": {
          "model_module": "@jupyter-widgets/controls",
          "model_module_version": "1.5.0",
          "model_name": "HTMLModel",
          "state": {
            "_dom_classes": [],
            "_model_module": "@jupyter-widgets/controls",
            "_model_module_version": "1.5.0",
            "_model_name": "HTMLModel",
            "_view_count": null,
            "_view_module": "@jupyter-widgets/controls",
            "_view_module_version": "1.5.0",
            "_view_name": "HTMLView",
            "description": "",
            "description_tooltip": null,
            "layout": "IPY_MODEL_a13752f6ff3c4b78934997bd559faf76",
            "placeholder": "​",
            "style": "IPY_MODEL_a6b717c8a9ed4e65a44d25ca0e4e99d8",
            "value": " 5/5 [00:01&lt;00:00,  4.16it/s]"
          }
        },
        "f13bf87fd7a6435c95c46ecec0501da2": {
          "model_module": "@jupyter-widgets/base",
          "model_module_version": "1.2.0",
          "model_name": "LayoutModel",
          "state": {
            "_model_module": "@jupyter-widgets/base",
            "_model_module_version": "1.2.0",
            "_model_name": "LayoutModel",
            "_view_count": null,
            "_view_module": "@jupyter-widgets/base",
            "_view_module_version": "1.2.0",
            "_view_name": "LayoutView",
            "align_content": null,
            "align_items": null,
            "align_self": null,
            "border": null,
            "bottom": null,
            "display": null,
            "flex": null,
            "flex_flow": null,
            "grid_area": null,
            "grid_auto_columns": null,
            "grid_auto_flow": null,
            "grid_auto_rows": null,
            "grid_column": null,
            "grid_gap": null,
            "grid_row": null,
            "grid_template_areas": null,
            "grid_template_columns": null,
            "grid_template_rows": null,
            "height": null,
            "justify_content": null,
            "justify_items": null,
            "left": null,
            "margin": null,
            "max_height": null,
            "max_width": null,
            "min_height": null,
            "min_width": null,
            "object_fit": null,
            "object_position": null,
            "order": null,
            "overflow": null,
            "overflow_x": null,
            "overflow_y": null,
            "padding": null,
            "right": null,
            "top": null,
            "visibility": null,
            "width": null
          }
        },
        "f13e920cd52e4907a92465f6e826e2c3": {
          "model_module": "@jupyter-widgets/controls",
          "model_module_version": "1.5.0",
          "model_name": "HTMLModel",
          "state": {
            "_dom_classes": [],
            "_model_module": "@jupyter-widgets/controls",
            "_model_module_version": "1.5.0",
            "_model_name": "HTMLModel",
            "_view_count": null,
            "_view_module": "@jupyter-widgets/controls",
            "_view_module_version": "1.5.0",
            "_view_name": "HTMLView",
            "description": "",
            "description_tooltip": null,
            "layout": "IPY_MODEL_e4fb5737178e4080b623dfb041d9ff5d",
            "placeholder": "​",
            "style": "IPY_MODEL_e66b5765bc21421f9d21fdac1c46ce75",
            "value": " 43%"
          }
        },
        "f1ddb511322346d18108f3e231664993": {
          "model_module": "@jupyter-widgets/base",
          "model_module_version": "1.2.0",
          "model_name": "LayoutModel",
          "state": {
            "_model_module": "@jupyter-widgets/base",
            "_model_module_version": "1.2.0",
            "_model_name": "LayoutModel",
            "_view_count": null,
            "_view_module": "@jupyter-widgets/base",
            "_view_module_version": "1.2.0",
            "_view_name": "LayoutView",
            "align_content": null,
            "align_items": null,
            "align_self": null,
            "border": null,
            "bottom": null,
            "display": null,
            "flex": null,
            "flex_flow": null,
            "grid_area": null,
            "grid_auto_columns": null,
            "grid_auto_flow": null,
            "grid_auto_rows": null,
            "grid_column": null,
            "grid_gap": null,
            "grid_row": null,
            "grid_template_areas": null,
            "grid_template_columns": null,
            "grid_template_rows": null,
            "height": null,
            "justify_content": null,
            "justify_items": null,
            "left": null,
            "margin": null,
            "max_height": null,
            "max_width": null,
            "min_height": null,
            "min_width": null,
            "object_fit": null,
            "object_position": null,
            "order": null,
            "overflow": null,
            "overflow_x": null,
            "overflow_y": null,
            "padding": null,
            "right": null,
            "top": null,
            "visibility": null,
            "width": null
          }
        },
        "f4ed1421d0c446ebaf76064f0eba60ca": {
          "model_module": "@jupyter-widgets/controls",
          "model_module_version": "1.5.0",
          "model_name": "HTMLModel",
          "state": {
            "_dom_classes": [],
            "_model_module": "@jupyter-widgets/controls",
            "_model_module_version": "1.5.0",
            "_model_name": "HTMLModel",
            "_view_count": null,
            "_view_module": "@jupyter-widgets/controls",
            "_view_module_version": "1.5.0",
            "_view_name": "HTMLView",
            "description": "",
            "description_tooltip": null,
            "layout": "IPY_MODEL_a6673e1627eb44a4b580aad7d98de1be",
            "placeholder": "​",
            "style": "IPY_MODEL_5d63b8c311cd420f859176225e61c37a",
            "value": " 37/37 [00:25&lt;00:00,  1.89it/s]"
          }
        },
        "f58e60ae966240f09d97764a91691dde": {
          "model_module": "@jupyter-widgets/base",
          "model_module_version": "1.2.0",
          "model_name": "LayoutModel",
          "state": {
            "_model_module": "@jupyter-widgets/base",
            "_model_module_version": "1.2.0",
            "_model_name": "LayoutModel",
            "_view_count": null,
            "_view_module": "@jupyter-widgets/base",
            "_view_module_version": "1.2.0",
            "_view_name": "LayoutView",
            "align_content": null,
            "align_items": null,
            "align_self": null,
            "border": null,
            "bottom": null,
            "display": null,
            "flex": null,
            "flex_flow": null,
            "grid_area": null,
            "grid_auto_columns": null,
            "grid_auto_flow": null,
            "grid_auto_rows": null,
            "grid_column": null,
            "grid_gap": null,
            "grid_row": null,
            "grid_template_areas": null,
            "grid_template_columns": null,
            "grid_template_rows": null,
            "height": null,
            "justify_content": null,
            "justify_items": null,
            "left": null,
            "margin": null,
            "max_height": null,
            "max_width": null,
            "min_height": null,
            "min_width": null,
            "object_fit": null,
            "object_position": null,
            "order": null,
            "overflow": null,
            "overflow_x": null,
            "overflow_y": null,
            "padding": null,
            "right": null,
            "top": null,
            "visibility": null,
            "width": null
          }
        },
        "f5c61b30fb804ebf9cc9144873b43743": {
          "model_module": "@jupyter-widgets/controls",
          "model_module_version": "1.5.0",
          "model_name": "HTMLModel",
          "state": {
            "_dom_classes": [],
            "_model_module": "@jupyter-widgets/controls",
            "_model_module_version": "1.5.0",
            "_model_name": "HTMLModel",
            "_view_count": null,
            "_view_module": "@jupyter-widgets/controls",
            "_view_module_version": "1.5.0",
            "_view_name": "HTMLView",
            "description": "",
            "description_tooltip": null,
            "layout": "IPY_MODEL_cb7da7e63ab74d89952ee8d7c118b5ea",
            "placeholder": "​",
            "style": "IPY_MODEL_cb162091fa7b44599289663622e54895",
            "value": "100%"
          }
        },
        "f60883e62b5d4b26871cb857646a87e5": {
          "model_module": "@jupyter-widgets/base",
          "model_module_version": "1.2.0",
          "model_name": "LayoutModel",
          "state": {
            "_model_module": "@jupyter-widgets/base",
            "_model_module_version": "1.2.0",
            "_model_name": "LayoutModel",
            "_view_count": null,
            "_view_module": "@jupyter-widgets/base",
            "_view_module_version": "1.2.0",
            "_view_name": "LayoutView",
            "align_content": null,
            "align_items": null,
            "align_self": null,
            "border": null,
            "bottom": null,
            "display": null,
            "flex": null,
            "flex_flow": null,
            "grid_area": null,
            "grid_auto_columns": null,
            "grid_auto_flow": null,
            "grid_auto_rows": null,
            "grid_column": null,
            "grid_gap": null,
            "grid_row": null,
            "grid_template_areas": null,
            "grid_template_columns": null,
            "grid_template_rows": null,
            "height": null,
            "justify_content": null,
            "justify_items": null,
            "left": null,
            "margin": null,
            "max_height": null,
            "max_width": null,
            "min_height": null,
            "min_width": null,
            "object_fit": null,
            "object_position": null,
            "order": null,
            "overflow": null,
            "overflow_x": null,
            "overflow_y": null,
            "padding": null,
            "right": null,
            "top": null,
            "visibility": null,
            "width": null
          }
        },
        "f7b0229f96434410b075cf9ad9997adc": {
          "model_module": "@jupyter-widgets/base",
          "model_module_version": "1.2.0",
          "model_name": "LayoutModel",
          "state": {
            "_model_module": "@jupyter-widgets/base",
            "_model_module_version": "1.2.0",
            "_model_name": "LayoutModel",
            "_view_count": null,
            "_view_module": "@jupyter-widgets/base",
            "_view_module_version": "1.2.0",
            "_view_name": "LayoutView",
            "align_content": null,
            "align_items": null,
            "align_self": null,
            "border": null,
            "bottom": null,
            "display": null,
            "flex": null,
            "flex_flow": null,
            "grid_area": null,
            "grid_auto_columns": null,
            "grid_auto_flow": null,
            "grid_auto_rows": null,
            "grid_column": null,
            "grid_gap": null,
            "grid_row": null,
            "grid_template_areas": null,
            "grid_template_columns": null,
            "grid_template_rows": null,
            "height": null,
            "justify_content": null,
            "justify_items": null,
            "left": null,
            "margin": null,
            "max_height": null,
            "max_width": null,
            "min_height": null,
            "min_width": null,
            "object_fit": null,
            "object_position": null,
            "order": null,
            "overflow": null,
            "overflow_x": null,
            "overflow_y": null,
            "padding": null,
            "right": null,
            "top": null,
            "visibility": null,
            "width": null
          }
        },
        "f8b5c1f77ef74b37a8666ced29f0ab0d": {
          "model_module": "@jupyter-widgets/controls",
          "model_module_version": "1.5.0",
          "model_name": "HTMLModel",
          "state": {
            "_dom_classes": [],
            "_model_module": "@jupyter-widgets/controls",
            "_model_module_version": "1.5.0",
            "_model_name": "HTMLModel",
            "_view_count": null,
            "_view_module": "@jupyter-widgets/controls",
            "_view_module_version": "1.5.0",
            "_view_name": "HTMLView",
            "description": "",
            "description_tooltip": null,
            "layout": "IPY_MODEL_06a6d3e9c6a04d569b84e869a9f89889",
            "placeholder": "​",
            "style": "IPY_MODEL_9ae50e148162482ea8457f5b3c247e37",
            "value": "100%"
          }
        },
        "f92ee0dc15194b1baaa950e750b087e0": {
          "model_module": "@jupyter-widgets/controls",
          "model_module_version": "1.5.0",
          "model_name": "DescriptionStyleModel",
          "state": {
            "_model_module": "@jupyter-widgets/controls",
            "_model_module_version": "1.5.0",
            "_model_name": "DescriptionStyleModel",
            "_view_count": null,
            "_view_module": "@jupyter-widgets/base",
            "_view_module_version": "1.2.0",
            "_view_name": "StyleView",
            "description_width": ""
          }
        },
        "f9d4b4bd59804a39964ba711d53e79d2": {
          "model_module": "@jupyter-widgets/base",
          "model_module_version": "1.2.0",
          "model_name": "LayoutModel",
          "state": {
            "_model_module": "@jupyter-widgets/base",
            "_model_module_version": "1.2.0",
            "_model_name": "LayoutModel",
            "_view_count": null,
            "_view_module": "@jupyter-widgets/base",
            "_view_module_version": "1.2.0",
            "_view_name": "LayoutView",
            "align_content": null,
            "align_items": null,
            "align_self": null,
            "border": null,
            "bottom": null,
            "display": null,
            "flex": null,
            "flex_flow": null,
            "grid_area": null,
            "grid_auto_columns": null,
            "grid_auto_flow": null,
            "grid_auto_rows": null,
            "grid_column": null,
            "grid_gap": null,
            "grid_row": null,
            "grid_template_areas": null,
            "grid_template_columns": null,
            "grid_template_rows": null,
            "height": null,
            "justify_content": null,
            "justify_items": null,
            "left": null,
            "margin": null,
            "max_height": null,
            "max_width": null,
            "min_height": null,
            "min_width": null,
            "object_fit": null,
            "object_position": null,
            "order": null,
            "overflow": null,
            "overflow_x": null,
            "overflow_y": null,
            "padding": null,
            "right": null,
            "top": null,
            "visibility": null,
            "width": null
          }
        },
        "fa0e9a3328ef4e958f5e0f8f7b930530": {
          "model_module": "@jupyter-widgets/controls",
          "model_module_version": "1.5.0",
          "model_name": "FloatProgressModel",
          "state": {
            "_dom_classes": [],
            "_model_module": "@jupyter-widgets/controls",
            "_model_module_version": "1.5.0",
            "_model_name": "FloatProgressModel",
            "_view_count": null,
            "_view_module": "@jupyter-widgets/controls",
            "_view_module_version": "1.5.0",
            "_view_name": "ProgressView",
            "bar_style": "success",
            "description": "",
            "description_tooltip": null,
            "layout": "IPY_MODEL_dd3629dff14a40e7a9c5667b86b838ac",
            "max": 37,
            "min": 0,
            "orientation": "horizontal",
            "style": "IPY_MODEL_9ce932a483644d23a536eda4c755e049",
            "value": 37
          }
        },
        "fa27f4b46ebb49f28c8f64b06f2e4334": {
          "model_module": "@jupyter-widgets/base",
          "model_module_version": "1.2.0",
          "model_name": "LayoutModel",
          "state": {
            "_model_module": "@jupyter-widgets/base",
            "_model_module_version": "1.2.0",
            "_model_name": "LayoutModel",
            "_view_count": null,
            "_view_module": "@jupyter-widgets/base",
            "_view_module_version": "1.2.0",
            "_view_name": "LayoutView",
            "align_content": null,
            "align_items": null,
            "align_self": null,
            "border": null,
            "bottom": null,
            "display": null,
            "flex": null,
            "flex_flow": null,
            "grid_area": null,
            "grid_auto_columns": null,
            "grid_auto_flow": null,
            "grid_auto_rows": null,
            "grid_column": null,
            "grid_gap": null,
            "grid_row": null,
            "grid_template_areas": null,
            "grid_template_columns": null,
            "grid_template_rows": null,
            "height": null,
            "justify_content": null,
            "justify_items": null,
            "left": null,
            "margin": null,
            "max_height": null,
            "max_width": null,
            "min_height": null,
            "min_width": null,
            "object_fit": null,
            "object_position": null,
            "order": null,
            "overflow": null,
            "overflow_x": null,
            "overflow_y": null,
            "padding": null,
            "right": null,
            "top": null,
            "visibility": null,
            "width": null
          }
        },
        "fa49b62955d24795b8dcac0a3e5797b8": {
          "model_module": "@jupyter-widgets/base",
          "model_module_version": "1.2.0",
          "model_name": "LayoutModel",
          "state": {
            "_model_module": "@jupyter-widgets/base",
            "_model_module_version": "1.2.0",
            "_model_name": "LayoutModel",
            "_view_count": null,
            "_view_module": "@jupyter-widgets/base",
            "_view_module_version": "1.2.0",
            "_view_name": "LayoutView",
            "align_content": null,
            "align_items": null,
            "align_self": null,
            "border": null,
            "bottom": null,
            "display": null,
            "flex": null,
            "flex_flow": null,
            "grid_area": null,
            "grid_auto_columns": null,
            "grid_auto_flow": null,
            "grid_auto_rows": null,
            "grid_column": null,
            "grid_gap": null,
            "grid_row": null,
            "grid_template_areas": null,
            "grid_template_columns": null,
            "grid_template_rows": null,
            "height": null,
            "justify_content": null,
            "justify_items": null,
            "left": null,
            "margin": null,
            "max_height": null,
            "max_width": null,
            "min_height": null,
            "min_width": null,
            "object_fit": null,
            "object_position": null,
            "order": null,
            "overflow": null,
            "overflow_x": null,
            "overflow_y": null,
            "padding": null,
            "right": null,
            "top": null,
            "visibility": null,
            "width": null
          }
        },
        "faadf6b09846483ebf6f59d93679426f": {
          "model_module": "@jupyter-widgets/controls",
          "model_module_version": "1.5.0",
          "model_name": "HTMLModel",
          "state": {
            "_dom_classes": [],
            "_model_module": "@jupyter-widgets/controls",
            "_model_module_version": "1.5.0",
            "_model_name": "HTMLModel",
            "_view_count": null,
            "_view_module": "@jupyter-widgets/controls",
            "_view_module_version": "1.5.0",
            "_view_name": "HTMLView",
            "description": "",
            "description_tooltip": null,
            "layout": "IPY_MODEL_d2bc9420a4e045d28a45451738319c65",
            "placeholder": "​",
            "style": "IPY_MODEL_592b2305dff1496186a4dd9652feefeb",
            "value": " 5/5 [00:01&lt;00:00,  4.20it/s]"
          }
        },
        "fb29c235ff2442d0ae1fba0b1fa949e4": {
          "model_module": "@jupyter-widgets/controls",
          "model_module_version": "1.5.0",
          "model_name": "HTMLModel",
          "state": {
            "_dom_classes": [],
            "_model_module": "@jupyter-widgets/controls",
            "_model_module_version": "1.5.0",
            "_model_name": "HTMLModel",
            "_view_count": null,
            "_view_module": "@jupyter-widgets/controls",
            "_view_module_version": "1.5.0",
            "_view_name": "HTMLView",
            "description": "",
            "description_tooltip": null,
            "layout": "IPY_MODEL_cbb35b2be6cc49c5812a01e91f51a21f",
            "placeholder": "​",
            "style": "IPY_MODEL_445a970c2fba44e893fedbc1559eb613",
            "value": " 37/37 [00:25&lt;00:00,  1.90it/s]"
          }
        },
        "fbb09beae98741ee977225fba6b4eef9": {
          "model_module": "@jupyter-widgets/controls",
          "model_module_version": "1.5.0",
          "model_name": "FloatProgressModel",
          "state": {
            "_dom_classes": [],
            "_model_module": "@jupyter-widgets/controls",
            "_model_module_version": "1.5.0",
            "_model_name": "FloatProgressModel",
            "_view_count": null,
            "_view_module": "@jupyter-widgets/controls",
            "_view_module_version": "1.5.0",
            "_view_name": "ProgressView",
            "bar_style": "success",
            "description": "",
            "description_tooltip": null,
            "layout": "IPY_MODEL_7a2d719cc19043fb8e986dc5c0ddc2d3",
            "max": 37,
            "min": 0,
            "orientation": "horizontal",
            "style": "IPY_MODEL_73ee6a911c8741ce9ffdd2f840172ad2",
            "value": 37
          }
        },
        "fbeff5321e28415c9c368b5032270bb0": {
          "model_module": "@jupyter-widgets/controls",
          "model_module_version": "1.5.0",
          "model_name": "FloatProgressModel",
          "state": {
            "_dom_classes": [],
            "_model_module": "@jupyter-widgets/controls",
            "_model_module_version": "1.5.0",
            "_model_name": "FloatProgressModel",
            "_view_count": null,
            "_view_module": "@jupyter-widgets/controls",
            "_view_module_version": "1.5.0",
            "_view_name": "ProgressView",
            "bar_style": "success",
            "description": "",
            "description_tooltip": null,
            "layout": "IPY_MODEL_f06488146e044800be32a9394cdd4529",
            "max": 5,
            "min": 0,
            "orientation": "horizontal",
            "style": "IPY_MODEL_ca0a7d194f1b44e6912c9cd73c95e20c",
            "value": 5
          }
        },
        "fc2a4f5a069f475a8d56e8b3738e19e5": {
          "model_module": "@jupyter-widgets/base",
          "model_module_version": "1.2.0",
          "model_name": "LayoutModel",
          "state": {
            "_model_module": "@jupyter-widgets/base",
            "_model_module_version": "1.2.0",
            "_model_name": "LayoutModel",
            "_view_count": null,
            "_view_module": "@jupyter-widgets/base",
            "_view_module_version": "1.2.0",
            "_view_name": "LayoutView",
            "align_content": null,
            "align_items": null,
            "align_self": null,
            "border": null,
            "bottom": null,
            "display": null,
            "flex": null,
            "flex_flow": null,
            "grid_area": null,
            "grid_auto_columns": null,
            "grid_auto_flow": null,
            "grid_auto_rows": null,
            "grid_column": null,
            "grid_gap": null,
            "grid_row": null,
            "grid_template_areas": null,
            "grid_template_columns": null,
            "grid_template_rows": null,
            "height": null,
            "justify_content": null,
            "justify_items": null,
            "left": null,
            "margin": null,
            "max_height": null,
            "max_width": null,
            "min_height": null,
            "min_width": null,
            "object_fit": null,
            "object_position": null,
            "order": null,
            "overflow": null,
            "overflow_x": null,
            "overflow_y": null,
            "padding": null,
            "right": null,
            "top": null,
            "visibility": null,
            "width": null
          }
        },
        "fcd6715c4efc4841bb158699a7fa3ef0": {
          "model_module": "@jupyter-widgets/controls",
          "model_module_version": "1.5.0",
          "model_name": "HBoxModel",
          "state": {
            "_dom_classes": [],
            "_model_module": "@jupyter-widgets/controls",
            "_model_module_version": "1.5.0",
            "_model_name": "HBoxModel",
            "_view_count": null,
            "_view_module": "@jupyter-widgets/controls",
            "_view_module_version": "1.5.0",
            "_view_name": "HBoxView",
            "box_style": "",
            "children": [
              "IPY_MODEL_4a6b087b1fd748fd907911e148fe35a0",
              "IPY_MODEL_0a335b09cb844c51999b5e3ff3e1a38d",
              "IPY_MODEL_807e1b4eafeb403d8b0cd96cd5d6230a"
            ],
            "layout": "IPY_MODEL_3ef233530ad345949747fad95e06a261"
          }
        },
        "fd071944805b42ca8ba6e058fef0fc24": {
          "model_module": "@jupyter-widgets/controls",
          "model_module_version": "1.5.0",
          "model_name": "DescriptionStyleModel",
          "state": {
            "_model_module": "@jupyter-widgets/controls",
            "_model_module_version": "1.5.0",
            "_model_name": "DescriptionStyleModel",
            "_view_count": null,
            "_view_module": "@jupyter-widgets/base",
            "_view_module_version": "1.2.0",
            "_view_name": "StyleView",
            "description_width": ""
          }
        },
        "fd858d486a3b4f978f494e9374c22a30": {
          "model_module": "@jupyter-widgets/controls",
          "model_module_version": "1.5.0",
          "model_name": "HTMLModel",
          "state": {
            "_dom_classes": [],
            "_model_module": "@jupyter-widgets/controls",
            "_model_module_version": "1.5.0",
            "_model_name": "HTMLModel",
            "_view_count": null,
            "_view_module": "@jupyter-widgets/controls",
            "_view_module_version": "1.5.0",
            "_view_name": "HTMLView",
            "description": "",
            "description_tooltip": null,
            "layout": "IPY_MODEL_1fe7d3a4910343a0947d6bbb74280496",
            "placeholder": "​",
            "style": "IPY_MODEL_982510f450b148f0a264854f101507f6",
            "value": " 5/5 [00:01&lt;00:00,  4.15it/s]"
          }
        },
        "fe19ee2eaf7e4c909d36035fed3a238b": {
          "model_module": "@jupyter-widgets/controls",
          "model_module_version": "1.5.0",
          "model_name": "HBoxModel",
          "state": {
            "_dom_classes": [],
            "_model_module": "@jupyter-widgets/controls",
            "_model_module_version": "1.5.0",
            "_model_name": "HBoxModel",
            "_view_count": null,
            "_view_module": "@jupyter-widgets/controls",
            "_view_module_version": "1.5.0",
            "_view_name": "HBoxView",
            "box_style": "",
            "children": [
              "IPY_MODEL_2f84533ad19f4a87981df887b85709bc",
              "IPY_MODEL_0463e28ca3ec4a5f8bbe6c0e6faffec6",
              "IPY_MODEL_92d37b2173e447ac804168bb7c98150b"
            ],
            "layout": "IPY_MODEL_4e30b3fe8eba4fe8be8374592e4e69bd"
          }
        },
        "ffaad55cb90d44cfa7e22b5f6da9a635": {
          "model_module": "@jupyter-widgets/controls",
          "model_module_version": "1.5.0",
          "model_name": "DescriptionStyleModel",
          "state": {
            "_model_module": "@jupyter-widgets/controls",
            "_model_module_version": "1.5.0",
            "_model_name": "DescriptionStyleModel",
            "_view_count": null,
            "_view_module": "@jupyter-widgets/base",
            "_view_module_version": "1.2.0",
            "_view_name": "StyleView",
            "description_width": ""
          }
        }
      }
    }
  },
  "nbformat": 4,
  "nbformat_minor": 0
}