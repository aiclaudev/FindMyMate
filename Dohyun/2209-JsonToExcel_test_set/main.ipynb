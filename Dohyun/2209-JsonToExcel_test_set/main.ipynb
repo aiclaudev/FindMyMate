{
 "cells": [
  {
   "cell_type": "code",
   "execution_count": 1,
   "metadata": {},
   "outputs": [],
   "source": [
    "import os\n",
    "import json"
   ]
  },
  {
   "cell_type": "code",
   "execution_count": 2,
   "metadata": {},
   "outputs": [
    {
     "name": "stdout",
     "output_type": "stream",
     "text": [
      "['노인남여_노인대화02_F_e7222879_61_수도권_실내', '노인남여_노인대화02_F_rudia2798_70_수도권_실내', '노인남여_노인대화02_M_bej211_61_수도권_실내', '노인남여_노인대화02_M_hsy5428_61_충청_실내', '노인남여_노인대화02_M_ssemilove_74_수도권_실내']\n"
     ]
    }
   ],
   "source": [
    "path_dir = 'C:/Users/82102/Desktop/Project/LIFLOW/Data/자유대화 음성(노인남녀)/Validation'\n",
    "folder_list = os.listdir(path_dir)\n",
    "print(folder_list[:5])"
   ]
  },
  {
   "cell_type": "code",
   "execution_count": 3,
   "metadata": {},
   "outputs": [],
   "source": [
    "sentence = []\n",
    "scriptId = []\n",
    "fileNm = []\n",
    "recrdTime = []\n",
    "recrdQuality = []\n",
    "recrdDt = []\n",
    "scriptSetNo = []\n",
    "recrdEnvrn = []\n",
    "colctUnitCode = []\n",
    "cityCode = []\n",
    "recrdUnit = []\n",
    "convrsThema = []\n",
    "gender = []\n",
    "recorderId = []\n",
    "age = []\n",
    "for fol in folder_list :\n",
    "    target_folder = path_dir + '/' + fol\n",
    "    json_files = os.listdir(target_folder)\n",
    "    for json_file in json_files :\n",
    "        a_json = open(target_folder + '/' + json_file, encoding='UTF8')\n",
    "        a_dict = json.load(a_json)\n",
    "        sentence.append(a_dict['발화정보']['stt'])\n",
    "        scriptId.append(a_dict['발화정보']['scriptId'])\n",
    "        fileNm.append(a_dict['발화정보']['fileNm'])\n",
    "        recrdTime.append(a_dict['발화정보']['recrdTime'])\n",
    "        recrdQuality.append(a_dict['발화정보']['recrdQuality'])\n",
    "        recrdDt.append(a_dict['발화정보']['recrdDt'])\n",
    "        scriptSetNo.append(a_dict['발화정보']['scriptSetNo'])\n",
    "        recrdEnvrn.append(a_dict['대화정보']['recrdEnvrn'])\n",
    "        colctUnitCode.append(a_dict['대화정보']['colctUnitCode'])\n",
    "        cityCode.append(a_dict['대화정보']['cityCode'])\n",
    "        recrdUnit.append(a_dict['대화정보']['recrdUnit'])\n",
    "        convrsThema.append(a_dict['대화정보']['convrsThema'])\n",
    "        gender.append(a_dict['녹음자정보']['gender'])\n",
    "        recorderId.append(a_dict['녹음자정보']['recorderId'])\n",
    "        age.append(a_dict['녹음자정보']['age'])\n",
    "    "
   ]
  },
  {
   "cell_type": "markdown",
   "metadata": {},
   "source": [
    "## 데이터프레임 만들기 and csv저장"
   ]
  },
  {
   "cell_type": "code",
   "execution_count": 31,
   "metadata": {},
   "outputs": [],
   "source": [
    "import pandas as pd"
   ]
  },
  {
   "cell_type": "code",
   "execution_count": 32,
   "metadata": {},
   "outputs": [],
   "source": [
    "_dict = {\n",
    "'sentence' : sentence,\n",
    "'Id' : scriptId,\n",
    "'fileNm' : fileNm,\n",
    "'recrdTime' : recrdTime,\n",
    "'recrdQuality' : recrdQuality,\n",
    "'recrdDt' : recrdDt,\n",
    "'scriptSetNo' : scriptSetNo,\n",
    "'recrdEnvrn' : recrdEnvrn,\n",
    "'colctUnitCode' : colctUnitCode,\n",
    "'cityCode' : cityCode,\n",
    "'recrdUnit' : recrdUnit,\n",
    "'convrsThema' : convrsThema,\n",
    "'gender' : gender,\n",
    "'recorderId' : recorderId,\n",
    "'age' : age}"
   ]
  },
  {
   "cell_type": "code",
   "execution_count": 33,
   "metadata": {},
   "outputs": [],
   "source": [
    "voice_collection_tool_dict = {\n",
    "'sentence' : voice_collection_tool_sentence,\n",
    "'Id' : voice_collection_tool_scriptId,\n",
    "'fileNm' : voice_collection_tool_fileNm,\n",
    "'recrdTime' : voice_collection_tool_recrdTime,\n",
    "'recrdQuality' : voice_collection_tool_recrdQuality,\n",
    "'recrdDt' : voice_collection_tool_recrdDt,\n",
    "'scriptSetNo' : voice_collection_tool_scriptSetNo,\n",
    "'recrdEnvrn' : voice_collection_tool_recrdEnvrn,\n",
    "'colctUnitCode' : voice_collection_tool_colctUnitCode,\n",
    "'cityCode' : voice_collection_tool_cityCode,\n",
    "'recrdUnit' : voice_collection_tool_recrdUnit,\n",
    "'convrsThema' : voice_collection_tool_convrsThema,\n",
    "'gender' : voice_collection_tool_gender,\n",
    "'recorderId' : voice_collection_tool_recorderId,\n",
    "'age' : voice_collection_tool_age}"
   ]
  },
  {
   "cell_type": "code",
   "execution_count": 34,
   "metadata": {},
   "outputs": [],
   "source": [
    "studio_dict = {\n",
    "'sentence' : studio_sentence,\n",
    "'Id' : studio_scriptId,\n",
    "'fileNm' : studio_fileNm,\n",
    "'recrdTime' : studio_recrdTime,\n",
    "'recrdQuality' : studio_recrdQuality,\n",
    "'recrdDt' : studio_recrdDt,\n",
    "'scriptSetNo' : studio_scriptSetNo,\n",
    "'recrdEnvrn' : studio_recrdEnvrn,\n",
    "'colctUnitCode' : studio_colctUnitCode,\n",
    "'cityCode' : studio_cityCode,\n",
    "'recrdUnit' : studio_recrdUnit,\n",
    "'convrsThema' : studio_convrsThema,\n",
    "'gender' : studio_gender,\n",
    "'recorderId' : studio_recorderId,\n",
    "'age' : studio_age}"
   ]
  },
  {
   "cell_type": "code",
   "execution_count": 35,
   "metadata": {},
   "outputs": [],
   "source": [
    "AI_speaker_dict = {\n",
    "'sentence' : AI_speaker_sentence,\n",
    "'Id' : AI_speaker_scriptId,\n",
    "'fileNm' : AI_speaker_fileNm,\n",
    "'recrdTime' : AI_speaker_recrdTime,\n",
    "'recrdQuality' : AI_speaker_recrdQuality,\n",
    "'recrdDt' : AI_speaker_recrdDt,\n",
    "'scriptSetNo' : AI_speaker_scriptSetNo,\n",
    "'recrdEnvrn' : AI_speaker_recrdEnvrn,\n",
    "'colctUnitCode' : AI_speaker_colctUnitCode,\n",
    "'cityCode' : AI_speaker_cityCode,\n",
    "'recrdUnit' : AI_speaker_recrdUnit,\n",
    "'convrsThema' : AI_speaker_convrsThema,\n",
    "'gender' : AI_speaker_gender,\n",
    "'recorderId' : AI_speaker_recorderId,\n",
    "'age' : AI_speaker_age}"
   ]
  },
  {
   "cell_type": "code",
   "execution_count": 36,
   "metadata": {},
   "outputs": [],
   "source": [
    "AI_chatBot_df = pd.DataFrame(AI_chatBot_dict)\n",
    "voice_collection_tool_df = pd.DataFrame(voice_collection_tool_dict)\n",
    "studio_df = pd.DataFrame(studio_dict)\n",
    "AI_speaker_df = pd.DataFrame(AI_speaker_dict)"
   ]
  },
  {
   "cell_type": "code",
   "execution_count": 37,
   "metadata": {},
   "outputs": [],
   "source": [
    "AI_chatBot_df.to_csv('AI_chatBot.csv', encoding='UTF8')\n",
    "voice_collection_tool_df.to_csv('voice_collection_tool.csv', encoding='UTF8')\n",
    "studio_df.to_csv('studio.csv', encoding='UTF8')\n",
    "AI_speaker_df.to_csv('AI_speaker.csv', encoding='UTF8')"
   ]
  }
 ],
 "metadata": {
  "kernelspec": {
   "display_name": "Python 3.10.6 64-bit",
   "language": "python",
   "name": "python3"
  },
  "language_info": {
   "codemirror_mode": {
    "name": "ipython",
    "version": 3
   },
   "file_extension": ".py",
   "mimetype": "text/x-python",
   "name": "python",
   "nbconvert_exporter": "python",
   "pygments_lexer": "ipython3",
   "version": "3.10.6"
  },
  "orig_nbformat": 4,
  "vscode": {
   "interpreter": {
    "hash": "acf61029c60ecddcf4c5fb8e9e05647c40915d4fd9295be9f6d34ee655fa00f2"
   }
  }
 },
 "nbformat": 4,
 "nbformat_minor": 2
}
