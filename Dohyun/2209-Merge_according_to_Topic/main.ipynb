{
 "cells": [
  {
   "cell_type": "code",
   "execution_count": 1,
   "metadata": {},
   "outputs": [],
   "source": [
    "import pandas as pd"
   ]
  },
  {
   "cell_type": "code",
   "execution_count": 2,
   "metadata": {},
   "outputs": [
    {
     "name": "stderr",
     "output_type": "stream",
     "text": [
      "C:\\Users\\82102\\AppData\\Local\\Temp\\ipykernel_15160\\2082979696.py:1: DtypeWarning: Columns (14) have mixed types. Specify dtype option on import or set low_memory=False.\n",
      "  df1 = pd.read_csv('C:/Users/82102/Desktop/Project/LIFLOW/Data/AI_chatBot.csv')\n"
     ]
    }
   ],
   "source": [
    "df1 = pd.read_csv('C:/Users/82102/Desktop/Project/LIFLOW/Data/AI_chatBot.csv')\n",
    "df2 = pd.read_csv('C:/Users/82102/Desktop/Project/LIFLOW/Data/voice_collection_tool.csv')\n",
    "df3 = pd.read_csv('C:/Users/82102/Desktop/Project/LIFLOW/Data/studio.csv')\n",
    "df4 = pd.read_csv('C:/Users/82102/Desktop/Project/LIFLOW/Data/AI_speaker.csv')"
   ]
  },
  {
   "cell_type": "code",
   "execution_count": 3,
   "metadata": {},
   "outputs": [
    {
     "data": {
      "text/plain": [
       "\"\\ndf1.drop(columns = ['Unnamed: 0', 'Id', 'fileNm', 'recrdTime', \\n'recrdQuality', 'recrdDt', 'scriptSetNo', \\n'recrdEnvrn', 'colctUnitCode', 'cityCode', \\n'recrdUnit', 'recorderId'], inplace = True)\\ndf2.drop(columns = ['Unnamed: 0', 'Id', 'fileNm', 'recrdTime', \\n'recrdQuality', 'recrdDt', 'scriptSetNo', \\n'recrdEnvrn', 'colctUnitCode', 'cityCode', \\n'recrdUnit', 'recorderId'], inplace = True)\\ndf3.drop(columns = ['Unnamed: 0', 'Id', 'fileNm', 'recrdTime', \\n'recrdQuality', 'recrdDt', 'scriptSetNo', \\n'recrdEnvrn', 'colctUnitCode', 'cityCode', \\n'recrdUnit', 'recorderId'], inplace = True)\\ndf4.drop(columns = ['Unnamed: 0', 'Id', 'fileNm', 'recrdTime', \\n'recrdQuality', 'recrdDt', 'scriptSetNo', \\n'recrdEnvrn', 'colctUnitCode', 'cityCode', \\n'recrdUnit', 'recorderId'], inplace = True)\\n\""
      ]
     },
     "execution_count": 3,
     "metadata": {},
     "output_type": "execute_result"
    }
   ],
   "source": [
    "\"\"\"\n",
    "df1.drop(columns = ['Unnamed: 0', 'Id', 'fileNm', 'recrdTime', \n",
    "'recrdQuality', 'recrdDt', 'scriptSetNo', \n",
    "'recrdEnvrn', 'colctUnitCode', 'cityCode', \n",
    "'recrdUnit', 'recorderId'], inplace = True)\n",
    "df2.drop(columns = ['Unnamed: 0', 'Id', 'fileNm', 'recrdTime', \n",
    "'recrdQuality', 'recrdDt', 'scriptSetNo', \n",
    "'recrdEnvrn', 'colctUnitCode', 'cityCode', \n",
    "'recrdUnit', 'recorderId'], inplace = True)\n",
    "df3.drop(columns = ['Unnamed: 0', 'Id', 'fileNm', 'recrdTime', \n",
    "'recrdQuality', 'recrdDt', 'scriptSetNo', \n",
    "'recrdEnvrn', 'colctUnitCode', 'cityCode', \n",
    "'recrdUnit', 'recorderId'], inplace = True)\n",
    "df4.drop(columns = ['Unnamed: 0', 'Id', 'fileNm', 'recrdTime', \n",
    "'recrdQuality', 'recrdDt', 'scriptSetNo', \n",
    "'recrdEnvrn', 'colctUnitCode', 'cityCode', \n",
    "'recrdUnit', 'recorderId'], inplace = True)\n",
    "\"\"\""
   ]
  },
  {
   "cell_type": "code",
   "execution_count": 4,
   "metadata": {},
   "outputs": [
    {
     "data": {
      "text/html": [
       "<div>\n",
       "<style scoped>\n",
       "    .dataframe tbody tr th:only-of-type {\n",
       "        vertical-align: middle;\n",
       "    }\n",
       "\n",
       "    .dataframe tbody tr th {\n",
       "        vertical-align: top;\n",
       "    }\n",
       "\n",
       "    .dataframe thead th {\n",
       "        text-align: right;\n",
       "    }\n",
       "</style>\n",
       "<table border=\"1\" class=\"dataframe\">\n",
       "  <thead>\n",
       "    <tr style=\"text-align: right;\">\n",
       "      <th></th>\n",
       "      <th>Unnamed: 0</th>\n",
       "      <th>sentence</th>\n",
       "      <th>Id</th>\n",
       "      <th>fileNm</th>\n",
       "      <th>recrdTime</th>\n",
       "      <th>recrdQuality</th>\n",
       "      <th>recrdDt</th>\n",
       "      <th>scriptSetNo</th>\n",
       "      <th>recrdEnvrn</th>\n",
       "      <th>colctUnitCode</th>\n",
       "      <th>cityCode</th>\n",
       "      <th>recrdUnit</th>\n",
       "      <th>convrsThema</th>\n",
       "      <th>gender</th>\n",
       "      <th>recorderId</th>\n",
       "      <th>age</th>\n",
       "    </tr>\n",
       "  </thead>\n",
       "  <tbody>\n",
       "    <tr>\n",
       "      <th>0</th>\n",
       "      <td>0</td>\n",
       "      <td>밥 한끼를 제대로 된 밥 한끼를 먹을 수 있다고 생각하면서</td>\n",
       "      <td>노인대화-08580</td>\n",
       "      <td>노인남여_노인대화07_F_1522434093_60_경상_실내_08580.wav</td>\n",
       "      <td>4.52</td>\n",
       "      <td>16K</td>\n",
       "      <td>2020-11-21 20:44:24</td>\n",
       "      <td>T_노인대화_7</td>\n",
       "      <td>실내</td>\n",
       "      <td>AI 챗봇</td>\n",
       "      <td>경상</td>\n",
       "      <td>AndroidOS</td>\n",
       "      <td>방송/연예</td>\n",
       "      <td>여</td>\n",
       "      <td>1522434093</td>\n",
       "      <td>60</td>\n",
       "    </tr>\n",
       "    <tr>\n",
       "      <th>1</th>\n",
       "      <td>1</td>\n",
       "      <td>감사하게 감사하게 생각하면서</td>\n",
       "      <td>노인대화-08581</td>\n",
       "      <td>노인남여_노인대화07_F_1522434093_60_경상_실내_08581.wav</td>\n",
       "      <td>3.67</td>\n",
       "      <td>16K</td>\n",
       "      <td>2020-11-21 20:44:31</td>\n",
       "      <td>T_노인대화_7</td>\n",
       "      <td>실내</td>\n",
       "      <td>AI 챗봇</td>\n",
       "      <td>경상</td>\n",
       "      <td>AndroidOS</td>\n",
       "      <td>방송/연예</td>\n",
       "      <td>여</td>\n",
       "      <td>1522434093</td>\n",
       "      <td>60</td>\n",
       "    </tr>\n",
       "    <tr>\n",
       "      <th>2</th>\n",
       "      <td>2</td>\n",
       "      <td>노후를 같이 보내야 되지 않을까 싶네요</td>\n",
       "      <td>노인대화-08582</td>\n",
       "      <td>노인남여_노인대화07_F_1522434093_60_경상_실내_08582.wav</td>\n",
       "      <td>3.58</td>\n",
       "      <td>16K</td>\n",
       "      <td>2020-11-21 20:44:38</td>\n",
       "      <td>T_노인대화_7</td>\n",
       "      <td>실내</td>\n",
       "      <td>AI 챗봇</td>\n",
       "      <td>경상</td>\n",
       "      <td>AndroidOS</td>\n",
       "      <td>방송/연예</td>\n",
       "      <td>여</td>\n",
       "      <td>1522434093</td>\n",
       "      <td>60</td>\n",
       "    </tr>\n",
       "    <tr>\n",
       "      <th>3</th>\n",
       "      <td>3</td>\n",
       "      <td>제가 가장 좋아하는 연예인은 별에서 온 그대에 전지현이고</td>\n",
       "      <td>노인대화-08583</td>\n",
       "      <td>노인남여_노인대화07_F_1522434093_60_경상_실내_08583.wav</td>\n",
       "      <td>4.52</td>\n",
       "      <td>16K</td>\n",
       "      <td>2020-11-21 20:44:46</td>\n",
       "      <td>T_노인대화_7</td>\n",
       "      <td>실내</td>\n",
       "      <td>AI 챗봇</td>\n",
       "      <td>경상</td>\n",
       "      <td>AndroidOS</td>\n",
       "      <td>방송/연예</td>\n",
       "      <td>여</td>\n",
       "      <td>1522434093</td>\n",
       "      <td>60</td>\n",
       "    </tr>\n",
       "    <tr>\n",
       "      <th>4</th>\n",
       "      <td>4</td>\n",
       "      <td>잔디씨가 좋아하는 연예인은 누구에요</td>\n",
       "      <td>노인대화-08584</td>\n",
       "      <td>노인남여_노인대화07_F_1522434093_60_경상_실내_08584.wav</td>\n",
       "      <td>3.41</td>\n",
       "      <td>16K</td>\n",
       "      <td>2020-11-21 20:44:53</td>\n",
       "      <td>T_노인대화_7</td>\n",
       "      <td>실내</td>\n",
       "      <td>AI 챗봇</td>\n",
       "      <td>경상</td>\n",
       "      <td>AndroidOS</td>\n",
       "      <td>방송/연예</td>\n",
       "      <td>여</td>\n",
       "      <td>1522434093</td>\n",
       "      <td>60</td>\n",
       "    </tr>\n",
       "  </tbody>\n",
       "</table>\n",
       "</div>"
      ],
      "text/plain": [
       "   Unnamed: 0                          sentence          Id  \\\n",
       "0           0  밥 한끼를 제대로 된 밥 한끼를 먹을 수 있다고 생각하면서  노인대화-08580   \n",
       "1           1                  감사하게 감사하게 생각하면서   노인대화-08581   \n",
       "2           2             노후를 같이 보내야 되지 않을까 싶네요  노인대화-08582   \n",
       "3           3   제가 가장 좋아하는 연예인은 별에서 온 그대에 전지현이고  노인대화-08583   \n",
       "4           4              잔디씨가 좋아하는 연예인은 누구에요   노인대화-08584   \n",
       "\n",
       "                                        fileNm  recrdTime recrdQuality  \\\n",
       "0  노인남여_노인대화07_F_1522434093_60_경상_실내_08580.wav       4.52          16K   \n",
       "1  노인남여_노인대화07_F_1522434093_60_경상_실내_08581.wav       3.67          16K   \n",
       "2  노인남여_노인대화07_F_1522434093_60_경상_실내_08582.wav       3.58          16K   \n",
       "3  노인남여_노인대화07_F_1522434093_60_경상_실내_08583.wav       4.52          16K   \n",
       "4  노인남여_노인대화07_F_1522434093_60_경상_실내_08584.wav       3.41          16K   \n",
       "\n",
       "               recrdDt scriptSetNo recrdEnvrn colctUnitCode cityCode  \\\n",
       "0  2020-11-21 20:44:24    T_노인대화_7         실내         AI 챗봇       경상   \n",
       "1  2020-11-21 20:44:31    T_노인대화_7         실내         AI 챗봇       경상   \n",
       "2  2020-11-21 20:44:38    T_노인대화_7         실내         AI 챗봇       경상   \n",
       "3  2020-11-21 20:44:46    T_노인대화_7         실내         AI 챗봇       경상   \n",
       "4  2020-11-21 20:44:53    T_노인대화_7         실내         AI 챗봇       경상   \n",
       "\n",
       "   recrdUnit convrsThema gender  recorderId  age  \n",
       "0  AndroidOS      방송/연예       여  1522434093   60  \n",
       "1  AndroidOS      방송/연예       여  1522434093   60  \n",
       "2  AndroidOS      방송/연예       여  1522434093   60  \n",
       "3  AndroidOS      방송/연예       여  1522434093   60  \n",
       "4  AndroidOS      방송/연예       여  1522434093   60  "
      ]
     },
     "execution_count": 4,
     "metadata": {},
     "output_type": "execute_result"
    }
   ],
   "source": [
    "main_df = pd.concat([df1, df2, df3, df4])\n",
    "main_df.reset_index(drop=True, inplace=True)\n",
    "main_df.head()"
   ]
  },
  {
   "cell_type": "code",
   "execution_count": 9,
   "metadata": {},
   "outputs": [
    {
     "data": {
      "text/plain": [
       "Index(['Unnamed: 0', 'sentence', 'Id', 'fileNm', 'recrdTime', 'recrdQuality',\n",
       "       'recrdDt', 'scriptSetNo', 'recrdEnvrn', 'colctUnitCode', 'cityCode',\n",
       "       'recrdUnit', 'convrsThema', 'gender', 'recorderId', 'age'],\n",
       "      dtype='object')"
      ]
     },
     "execution_count": 9,
     "metadata": {},
     "output_type": "execute_result"
    }
   ],
   "source": [
    "main_df.columns"
   ]
  },
  {
   "cell_type": "code",
   "execution_count": 5,
   "metadata": {},
   "outputs": [],
   "source": [
    "sentences = []\n",
    "cityCode = []\n",
    "convrsThema = []\n",
    "gender = []\n",
    "age = []\n",
    "\n",
    "tmp_convrsThema = ' 방송/연예 '\n",
    "tmp_sentence = ''\n",
    "for i in range(len(main_df)) :\n",
    "    if main_df.loc[i, 'convrsThema'] != tmp_convrsThema :\n",
    "        sentences.append(tmp_sentence)\n",
    "        convrsThema.append(tmp_convrsThema)\n",
    "        gender.append(main_df.loc[i-1, 'gender'])\n",
    "        age.append(main_df.loc[i-1, 'age'])\n",
    "        cityCode.append(main_df.loc[i-1, 'cityCode'])\n",
    "        tmp_sentence = ''\n",
    "        tmp_convrsThema = main_df.loc[i, 'convrsThema']\n",
    "    tmp_sentence += main_df.loc[i, 'sentence'] + ' '"
   ]
  },
  {
   "cell_type": "code",
   "execution_count": 6,
   "metadata": {},
   "outputs": [],
   "source": [
    "train_df = pd.DataFrame({'sentence' : sentences, 'convrsThema' : convrsThema, 'gender' : gender, 'age' : age})"
   ]
  },
  {
   "cell_type": "code",
   "execution_count": 7,
   "metadata": {},
   "outputs": [
    {
     "data": {
      "text/html": [
       "<div>\n",
       "<style scoped>\n",
       "    .dataframe tbody tr th:only-of-type {\n",
       "        vertical-align: middle;\n",
       "    }\n",
       "\n",
       "    .dataframe tbody tr th {\n",
       "        vertical-align: top;\n",
       "    }\n",
       "\n",
       "    .dataframe thead th {\n",
       "        text-align: right;\n",
       "    }\n",
       "</style>\n",
       "<table border=\"1\" class=\"dataframe\">\n",
       "  <thead>\n",
       "    <tr style=\"text-align: right;\">\n",
       "      <th></th>\n",
       "      <th>sentence</th>\n",
       "      <th>convrsThema</th>\n",
       "      <th>gender</th>\n",
       "      <th>age</th>\n",
       "    </tr>\n",
       "  </thead>\n",
       "  <tbody>\n",
       "    <tr>\n",
       "      <th>0</th>\n",
       "      <td>밥 한끼를 제대로 된 밥 한끼를 먹을 수 있다고 생각하면서 감사하게 감사하게 생각하...</td>\n",
       "      <td>방송/연예</td>\n",
       "      <td>여</td>\n",
       "      <td>60</td>\n",
       "    </tr>\n",
       "    <tr>\n",
       "      <th>1</th>\n",
       "      <td>그거 먹고 살아야 되는 거지 자식 물려줄 필요없고요 그걸로 모자라는 부분은 다른 곳...</td>\n",
       "      <td>경제/재태크</td>\n",
       "      <td>여</td>\n",
       "      <td>60</td>\n",
       "    </tr>\n",
       "    <tr>\n",
       "      <th>2</th>\n",
       "      <td>결국 주차 요금을 올릴 수밖에 없어요 결국 최씨는 수리를 삼십일로 미뤄야 했습니다 ...</td>\n",
       "      <td>PBS</td>\n",
       "      <td>여</td>\n",
       "      <td>60</td>\n",
       "    </tr>\n",
       "    <tr>\n",
       "      <th>3</th>\n",
       "      <td>저 사람이 나한테 저렇게 행동을 하는구나 저 사람이 원하는 게 무엇인가를 내가 생각...</td>\n",
       "      <td>휴일</td>\n",
       "      <td>여</td>\n",
       "      <td>60</td>\n",
       "    </tr>\n",
       "    <tr>\n",
       "      <th>4</th>\n",
       "      <td>이 사람의 입장은 이럴 수 있구나 라고 배울 수 있는거지 그런건 정말 중요하고 꼭 ...</td>\n",
       "      <td>먹거리</td>\n",
       "      <td>여</td>\n",
       "      <td>60</td>\n",
       "    </tr>\n",
       "  </tbody>\n",
       "</table>\n",
       "</div>"
      ],
      "text/plain": [
       "                                            sentence convrsThema gender  age\n",
       "0  밥 한끼를 제대로 된 밥 한끼를 먹을 수 있다고 생각하면서 감사하게 감사하게 생각하...      방송/연예       여   60\n",
       "1  그거 먹고 살아야 되는 거지 자식 물려줄 필요없고요 그걸로 모자라는 부분은 다른 곳...     경제/재태크       여   60\n",
       "2  결국 주차 요금을 올릴 수밖에 없어요 결국 최씨는 수리를 삼십일로 미뤄야 했습니다 ...         PBS      여   60\n",
       "3  저 사람이 나한테 저렇게 행동을 하는구나 저 사람이 원하는 게 무엇인가를 내가 생각...         휴일       여   60\n",
       "4  이 사람의 입장은 이럴 수 있구나 라고 배울 수 있는거지 그런건 정말 중요하고 꼭 ...        먹거리       여   60"
      ]
     },
     "execution_count": 7,
     "metadata": {},
     "output_type": "execute_result"
    }
   ],
   "source": [
    "train_df.head()"
   ]
  },
  {
   "cell_type": "code",
   "execution_count": 8,
   "metadata": {},
   "outputs": [],
   "source": [
    "train_df.to_csv('train.csv', encoding='UTF8')"
   ]
  },
  {
   "cell_type": "code",
   "execution_count": null,
   "metadata": {},
   "outputs": [],
   "source": []
  }
 ],
 "metadata": {
  "kernelspec": {
   "display_name": "Python 3.10.6 64-bit",
   "language": "python",
   "name": "python3"
  },
  "language_info": {
   "codemirror_mode": {
    "name": "ipython",
    "version": 3
   },
   "file_extension": ".py",
   "mimetype": "text/x-python",
   "name": "python",
   "nbconvert_exporter": "python",
   "pygments_lexer": "ipython3",
   "version": "3.10.6"
  },
  "orig_nbformat": 4,
  "vscode": {
   "interpreter": {
    "hash": "acf61029c60ecddcf4c5fb8e9e05647c40915d4fd9295be9f6d34ee655fa00f2"
   }
  }
 },
 "nbformat": 4,
 "nbformat_minor": 2
}
