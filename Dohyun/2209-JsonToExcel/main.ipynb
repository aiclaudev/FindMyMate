{
 "cells": [
  {
   "cell_type": "code",
   "execution_count": 1,
   "metadata": {},
   "outputs": [],
   "source": [
    "import os\n",
    "import json"
   ]
  },
  {
   "cell_type": "markdown",
   "metadata": {},
   "source": [
    "## AI 챗봇"
   ]
  },
  {
   "cell_type": "code",
   "execution_count": 10,
   "metadata": {},
   "outputs": [
    {
     "name": "stdout",
     "output_type": "stream",
     "text": [
      "['노인남여_노인대화07_F_1522434093_60_경상_실내', '노인남여_노인대화07_F_1524884567_60_기타_실내', '노인남여_노인대화07_F_1525154657_66_강원_실내', '노인남여_노인대화07_F_1526682663_63_수도권_실내', '노인남여_노인대화07_F_1526782828_62_수도권_실내']\n"
     ]
    }
   ],
   "source": [
    "top_dir = '[라벨]1.AI챗봇'\n",
    "path_dir = 'C:/Users/82102/Desktop/Project/LIFLOW/Data/자유대화 음성(노인남녀)/Training/'+top_dir\n",
    "folder_list = os.listdir(path_dir)\n",
    "print(folder_list[:5])"
   ]
  },
  {
   "cell_type": "code",
   "execution_count": 15,
   "metadata": {},
   "outputs": [
    {
     "ename": "KeyboardInterrupt",
     "evalue": "",
     "output_type": "error",
     "traceback": [
      "\u001b[1;31m---------------------------------------------------------------------------\u001b[0m",
      "\u001b[1;31mKeyboardInterrupt\u001b[0m                         Traceback (most recent call last)",
      "Cell \u001b[1;32mIn [15], line 20\u001b[0m\n\u001b[0;32m     18\u001b[0m json_files \u001b[38;5;241m=\u001b[39m os\u001b[38;5;241m.\u001b[39mlistdir(target_folder)\n\u001b[0;32m     19\u001b[0m \u001b[38;5;28;01mfor\u001b[39;00m json_file \u001b[38;5;129;01min\u001b[39;00m json_files :\n\u001b[1;32m---> 20\u001b[0m     a_json \u001b[38;5;241m=\u001b[39m \u001b[38;5;28;43mopen\u001b[39;49m\u001b[43m(\u001b[49m\u001b[43mtarget_folder\u001b[49m\u001b[43m \u001b[49m\u001b[38;5;241;43m+\u001b[39;49m\u001b[43m \u001b[49m\u001b[38;5;124;43m'\u001b[39;49m\u001b[38;5;124;43m/\u001b[39;49m\u001b[38;5;124;43m'\u001b[39;49m\u001b[43m \u001b[49m\u001b[38;5;241;43m+\u001b[39;49m\u001b[43m \u001b[49m\u001b[43mjson_file\u001b[49m\u001b[43m,\u001b[49m\u001b[43m \u001b[49m\u001b[43mencoding\u001b[49m\u001b[38;5;241;43m=\u001b[39;49m\u001b[38;5;124;43m'\u001b[39;49m\u001b[38;5;124;43mUTF8\u001b[39;49m\u001b[38;5;124;43m'\u001b[39;49m\u001b[43m)\u001b[49m\n\u001b[0;32m     21\u001b[0m     a_dict \u001b[38;5;241m=\u001b[39m json\u001b[38;5;241m.\u001b[39mload(a_json)\n\u001b[0;32m     22\u001b[0m     AI_chatBot_sentence\u001b[38;5;241m.\u001b[39mappend(a_dict[\u001b[38;5;124m'\u001b[39m\u001b[38;5;124m발화정보\u001b[39m\u001b[38;5;124m'\u001b[39m][\u001b[38;5;124m'\u001b[39m\u001b[38;5;124mstt\u001b[39m\u001b[38;5;124m'\u001b[39m])\n",
      "File \u001b[1;32mc:\\Users\\82102\\AppData\\Local\\Programs\\Python\\Python310\\lib\\codecs.py:309\u001b[0m, in \u001b[0;36mBufferedIncrementalDecoder.__init__\u001b[1;34m(self, errors)\u001b[0m\n\u001b[0;32m    303\u001b[0m \u001b[39mclass\u001b[39;00m \u001b[39mBufferedIncrementalDecoder\u001b[39;00m(IncrementalDecoder):\n\u001b[0;32m    304\u001b[0m     \u001b[39m\"\"\"\u001b[39;00m\n\u001b[0;32m    305\u001b[0m \u001b[39m    This subclass of IncrementalDecoder can be used as the baseclass for an\u001b[39;00m\n\u001b[0;32m    306\u001b[0m \u001b[39m    incremental decoder if the decoder must be able to handle incomplete\u001b[39;00m\n\u001b[0;32m    307\u001b[0m \u001b[39m    byte sequences.\u001b[39;00m\n\u001b[0;32m    308\u001b[0m \u001b[39m    \"\"\"\u001b[39;00m\n\u001b[1;32m--> 309\u001b[0m     \u001b[39mdef\u001b[39;00m \u001b[39m__init__\u001b[39m(\u001b[39mself\u001b[39m, errors\u001b[39m=\u001b[39m\u001b[39m'\u001b[39m\u001b[39mstrict\u001b[39m\u001b[39m'\u001b[39m):\n\u001b[0;32m    310\u001b[0m         IncrementalDecoder\u001b[39m.\u001b[39m\u001b[39m__init__\u001b[39m(\u001b[39mself\u001b[39m, errors)\n\u001b[0;32m    311\u001b[0m         \u001b[39m# undecoded input that is kept between calls to decode()\u001b[39;00m\n",
      "\u001b[1;31mKeyboardInterrupt\u001b[0m: "
     ]
    }
   ],
   "source": [
    "AI_chatBot_sentence = []\n",
    "AI_chatBot_scriptId = []\n",
    "AI_chatBot_fileNm = []\n",
    "AI_chatBot_recrdTime = []\n",
    "AI_chatBot_recrdQuality = []\n",
    "AI_chatBot_recrdDt = []\n",
    "AI_chatBot_scriptSetNo = []\n",
    "AI_chatBot_recrdEnvrn = []\n",
    "AI_chatBot_colctUnitCode = []\n",
    "AI_chatBot_cityCode = []\n",
    "AI_chatBot_recrdUnit = []\n",
    "AI_chatBot_convrsThema = []\n",
    "AI_chatBot_gender = []\n",
    "AI_chatBot_recorderId = []\n",
    "AI_chatBot_age = []\n",
    "for fol in folder_list :\n",
    "    target_folder = path_dir + '/' + fol\n",
    "    json_files = os.listdir(target_folder)\n",
    "    for json_file in json_files :\n",
    "        a_json = open(target_folder + '/' + json_file, encoding='UTF8')\n",
    "        a_dict = json.load(a_json)\n",
    "        AI_chatBot_sentence.append(a_dict['발화정보']['stt'])\n",
    "        AI_chatBot_scriptId.append(a_dict['발화정보']['scriptId'])\n",
    "        AI_chatBot_fileNm.append(a_dict['발화정보']['fileNm'])\n",
    "        AI_chatBot_recrdTime.append(a_dict['발화정보']['recrdTime'])\n",
    "        AI_chatBot_recrdQuality.append(a_dict['발화정보']['recrdQuality'])\n",
    "        AI_chatBot_recrdDt.append(a_dict['발화정보']['recrdDt'])\n",
    "        AI_chatBot_scriptSetNo.append(a_dict['발화정보']['scriptSetNo'])\n",
    "        AI_chatBot_recrdEnvrn.append(a_dict['대화정보']['recrdEnvrn'])\n",
    "        AI_chatBot_colctUnitCode.append(a_dict['대화정보']['colctUnitCode'])\n",
    "        AI_chatBot_cityCode.append(a_dict['대화정보']['cityCode'])\n",
    "        AI_chatBot_recrdUnit.append(a_dict['대화정보']['recrdUnit'])\n",
    "        AI_chatBot_convrsThema.append(a_dict['대화정보']['convrsThema'])\n",
    "        AI_chatBot_gender.append(a_dict['녹음자정보']['gender'])\n",
    "        AI_chatBot_recorderId.append(a_dict['녹음자정보']['recorderId'])\n",
    "        AI_chatBot_age.append(a_dict['녹음자정보']['age'])\n",
    "    "
   ]
  },
  {
   "cell_type": "markdown",
   "metadata": {},
   "source": [
    "## 음성수집도구"
   ]
  },
  {
   "cell_type": "code",
   "execution_count": null,
   "metadata": {},
   "outputs": [],
   "source": [
    "top_dir = '[라벨]2.음성수집도구'\n",
    "path_dir = 'C:/Users/82102/Desktop/Project/LIFLOW/Data/자유대화 음성(노인남녀)/Training/'+top_dir\n",
    "folder_list = os.listdir(path_dir)\n",
    "print(folder_list[:5])"
   ]
  },
  {
   "cell_type": "code",
   "execution_count": null,
   "metadata": {},
   "outputs": [],
   "source": [
    "voice_collection_tool_sentence = []\n",
    "voice_collection_tool_scriptId = []\n",
    "voice_collection_tool_fileNm = []\n",
    "voice_collection_tool_recrdTime = []\n",
    "voice_collection_tool_recrdQuality = []\n",
    "voice_collection_tool_recrdDt = []\n",
    "voice_collection_tool_scriptSetNo = []\n",
    "voice_collection_tool_recrdEnvrn = []\n",
    "voice_collection_tool_colctUnitCode = []\n",
    "voice_collection_tool_cityCode = []\n",
    "voice_collection_tool_recrdUnit = []\n",
    "voice_collection_tool_convrsThema = []\n",
    "voice_collection_tool_gender = []\n",
    "voice_collection_tool_recorderId = []\n",
    "voice_collection_tool_age = []\n",
    "for fol in folder_list :\n",
    "    target_folder = path_dir + '/' + fol\n",
    "    json_files = os.listdir(target_folder)\n",
    "    for json_file in json_files :\n",
    "        a_json = open(target_folder + '/' + json_file, encoding='UTF8')\n",
    "        a_dict = json.load(a_json)\n",
    "        voice_collection_tool_sentence.append(a_dict['발화정보']['stt'])\n",
    "        voice_collection_tool_scriptId.append(a_dict['발화정보']['scriptId'])\n",
    "        voice_collection_tool_fileNm.append(a_dict['발화정보']['fileNm'])\n",
    "        voice_collection_tool_recrdTime.append(a_dict['발화정보']['recrdTime'])\n",
    "        voice_collection_tool_recrdQuality.append(a_dict['발화정보']['recrdQuality'])\n",
    "        voice_collection_tool_recrdDt.append(a_dict['발화정보']['recrdDt'])\n",
    "        voice_collection_tool_scriptSetNo.append(a_dict['발화정보']['scriptSetNo'])\n",
    "        voice_collection_tool_recrdEnvrn.append(a_dict['대화정보']['recrdEnvrn'])\n",
    "        voice_collection_tool_colctUnitCode.append(a_dict['대화정보']['colctUnitCode'])\n",
    "        voice_collection_tool_cityCode.append(a_dict['대화정보']['cityCode'])\n",
    "        voice_collection_tool_recrdUnit.append(a_dict['대화정보']['recrdUnit'])\n",
    "        voice_collection_tool_convrsThema.append(a_dict['대화정보']['convrsThema'])\n",
    "        voice_collection_tool_gender.append(a_dict['녹음자정보']['gender'])\n",
    "        voice_collection_tool_recorderId.append(a_dict['녹음자정보']['recorderId'])\n",
    "        voice_collection_tool_age.append(a_dict['녹음자정보']['age'])\n",
    "    "
   ]
  },
  {
   "cell_type": "markdown",
   "metadata": {},
   "source": [
    "## 스튜디오"
   ]
  },
  {
   "cell_type": "code",
   "execution_count": null,
   "metadata": {},
   "outputs": [],
   "source": [
    "top_dir = '[라벨]3.스튜디오'\n",
    "path_dir = 'C:/Users/82102/Desktop/Project/LIFLOW/Data/자유대화 음성(노인남녀)/Training/'+top_dir\n",
    "folder_list = os.listdir(path_dir)\n",
    "print(folder_list[:5])"
   ]
  },
  {
   "cell_type": "code",
   "execution_count": null,
   "metadata": {},
   "outputs": [],
   "source": [
    "studio_sentence = []\n",
    "studio_scriptId = []\n",
    "studio_fileNm = []\n",
    "studio_recrdTime = []\n",
    "studio_recrdQuality = []\n",
    "studio_recrdDt = []\n",
    "studio_scriptSetNo = []\n",
    "studio_recrdEnvrn = []\n",
    "studio_colctUnitCode = []\n",
    "studio_cityCode = []\n",
    "studio_recrdUnit = []\n",
    "studio_convrsThema = []\n",
    "studio_gender = []\n",
    "studio_recorderId = []\n",
    "studio_age = []\n",
    "for fol in folder_list :\n",
    "    target_folder = path_dir + '/' + fol\n",
    "    json_files = os.listdir(target_folder)\n",
    "    for json_file in json_files :\n",
    "        a_json = open(target_folder + '/' + json_file, encoding='UTF8')\n",
    "        a_dict = json.load(a_json)\n",
    "        studio_sentence.append(a_dict['발화정보']['stt'])\n",
    "        studio_scriptId.append(a_dict['발화정보']['scriptId'])\n",
    "        studio_fileNm.append(a_dict['발화정보']['fileNm'])\n",
    "        studio_recrdTime.append(a_dict['발화정보']['recrdTime'])\n",
    "        studio_recrdQuality.append(a_dict['발화정보']['recrdQuality'])\n",
    "        studio_recrdDt.append(a_dict['발화정보']['recrdDt'])\n",
    "        studio_scriptSetNo.append(a_dict['발화정보']['scriptSetNo'])\n",
    "        studio_recrdEnvrn.append(a_dict['대화정보']['recrdEnvrn'])\n",
    "        studio_colctUnitCode.append(a_dict['대화정보']['colctUnitCode'])\n",
    "        studio_cityCode.append(a_dict['대화정보']['cityCode'])\n",
    "        studio_recrdUnit.append(a_dict['대화정보']['recrdUnit'])\n",
    "        studio_convrsThema.append(a_dict['대화정보']['convrsThema'])\n",
    "        studio_gender.append(a_dict['녹음자정보']['gender'])\n",
    "        studio_recorderId.append(a_dict['녹음자정보']['recorderId'])\n",
    "        studio_age.append(a_dict['녹음자정보']['age'])\n",
    "    "
   ]
  },
  {
   "cell_type": "markdown",
   "metadata": {},
   "source": [
    "## AI스피커"
   ]
  },
  {
   "cell_type": "code",
   "execution_count": null,
   "metadata": {},
   "outputs": [],
   "source": [
    "top_dir = '[라벨]4.AI스피커'\n",
    "path_dir = 'C:/Users/82102/Desktop/Project/LIFLOW/Data/자유대화 음성(노인남녀)/Training/'+top_dir\n",
    "folder_list = os.listdir(path_dir)\n",
    "print(folder_list[:5])"
   ]
  },
  {
   "cell_type": "code",
   "execution_count": null,
   "metadata": {},
   "outputs": [],
   "source": [
    "AI_speaker_sentence = []\n",
    "AI_speaker_scriptId = []\n",
    "AI_speaker_fileNm = []\n",
    "AI_speaker_recrdTime = []\n",
    "AI_speaker_recrdQuality = []\n",
    "AI_speaker_recrdDt = []\n",
    "AI_speaker_scriptSetNo = []\n",
    "AI_speaker_recrdEnvrn = []\n",
    "AI_speaker_colctUnitCode = []\n",
    "AI_speaker_cityCode = []\n",
    "AI_speaker_recrdUnit = []\n",
    "AI_speaker_convrsThema = []\n",
    "AI_speaker_gender = []\n",
    "AI_speaker_recorderId = []\n",
    "AI_speaker_age = []\n",
    "for fol in folder_list :\n",
    "    target_folder = path_dir + '/' + fol\n",
    "    json_files = os.listdir(target_folder)\n",
    "    for json_file in json_files :\n",
    "        a_json = open(target_folder + '/' + json_file, encoding='UTF8')\n",
    "        a_dict = json.load(a_json)\n",
    "        AI_speaker_sentence.append(a_dict['발화정보']['stt'])\n",
    "        AI_speaker_scriptId.append(a_dict['발화정보']['scriptId'])\n",
    "        AI_speaker_fileNm.append(a_dict['발화정보']['fileNm'])\n",
    "        AI_speaker_recrdTime.append(a_dict['발화정보']['recrdTime'])\n",
    "        AI_speaker_recrdQuality.append(a_dict['발화정보']['recrdQuality'])\n",
    "        AI_speaker_recrdDt.append(a_dict['발화정보']['recrdDt'])\n",
    "        AI_speaker_scriptSetNo.append(a_dict['발화정보']['scriptSetNo'])\n",
    "        AI_speaker_recrdEnvrn.append(a_dict['대화정보']['recrdEnvrn'])\n",
    "        AI_speaker_colctUnitCode.append(a_dict['대화정보']['colctUnitCode'])\n",
    "        AI_speaker_cityCode.append(a_dict['대화정보']['cityCode'])\n",
    "        AI_speaker_recrdUnit.append(a_dict['대화정보']['recrdUnit'])\n",
    "        AI_speaker_convrsThema.append(a_dict['대화정보']['convrsThema'])\n",
    "        AI_speaker_gender.append(a_dict['녹음자정보']['gender'])\n",
    "        AI_speaker_recorderId.append(a_dict['녹음자정보']['recorderId'])\n",
    "        AI_speaker_age.append(a_dict['녹음자정보']['age'])\n",
    "    "
   ]
  },
  {
   "cell_type": "markdown",
   "metadata": {},
   "source": [
    "## 데이터프레임 만들기"
   ]
  },
  {
   "cell_type": "code",
   "execution_count": null,
   "metadata": {},
   "outputs": [],
   "source": [
    "import pandas as pd"
   ]
  },
  {
   "cell_type": "code",
   "execution_count": null,
   "metadata": {},
   "outputs": [],
   "source": [
    "AI_chatBot_sentence_dict = {'sentence' : AI_chatBot_sentence}\n",
    "AI_chatBot_scriptId_dict = {'Id' : AI_chatBot_scriptId}\n",
    "AI_chatBot_fileNm_dict = {'fileNm' : AI_chatBot_fileNm}\n",
    "AI_chatBot_recrdTime_dict = {'recrdTime' : AI_chatBot_recrdTime}\n",
    "AI_chatBot_recrdQuality_dict = {'recrdQuality' : AI_chatBot_recrdQuality}\n",
    "AI_chatBot_recrdDt_dict = {'recrdDt' : AI_chatBot_recrdDt}\n",
    "AI_chatBot_scriptSetNo_dict = {'scriptSetNo' : AI_chatBot_scriptSetNo}\n",
    "AI_chatBot_recrdEnvrn_dict = {'recrdEnvrn' : AI_chatBot_recrdEnvrn}\n",
    "AI_chatBot_colctUnitCode_dict = {'colctUnitCode' : AI_chatBot_colctUnitCode}\n",
    "AI_chatBot_cityCode_dict = {'cityCode' : AI_chatBot_cityCode}\n",
    "AI_chatBot_recrdUnit_dict = {'recrdUnit' : AI_chatBot_recrdUnit}\n",
    "AI_chatBot_convrsThema_dict = {'convrsThema' : AI_chatBot_convrsThema}\n",
    "AI_chatBot_gender_dict = {'gender' : AI_chatBot_gender}\n",
    "AI_chatBot_recorderId_dict = {'recorderId' : AI_chatBot_recorderId}\n",
    "AI_chatBot_age_dict = {'age' : AI_chatBot_age}"
   ]
  },
  {
   "cell_type": "code",
   "execution_count": null,
   "metadata": {},
   "outputs": [],
   "source": [
    "voice_collection_tool_sentence_dict = {'sentence' : voice_collection_tool_sentence}\n",
    "voice_collection_tool_scriptId_dict = {'Id' : voice_collection_tool_scriptId}\n",
    "voice_collection_tool_fileNm_dict = {'fileNm' : voice_collection_tool_fileNm}\n",
    "voice_collection_tool_recrdTime_dict = {'recrdTime' : voice_collection_tool_recrdTime}\n",
    "voice_collection_tool_recrdQuality_dict = {'recrdQuality' : voice_collection_tool_recrdQuality}\n",
    "voice_collection_tool_recrdDt_dict = {'recrdDt' : voice_collection_tool_recrdDt}\n",
    "voice_collection_tool_scriptSetNo_dict = {'scriptSetNo' : voice_collection_tool_scriptSetNo}\n",
    "voice_collection_tool_recrdEnvrn_dict = {'recrdEnvrn' : voice_collection_tool_recrdEnvrn}\n",
    "voice_collection_tool_colctUnitCode_dict = {'colctUnitCode' : voice_collection_tool_colctUnitCode}\n",
    "voice_collection_tool_cityCode_dict = {'cityCode' : voice_collection_tool_cityCode}\n",
    "voice_collection_tool_recrdUnit_dict = {'recrdUnit' : voice_collection_tool_recrdUnit}\n",
    "voice_collection_tool_convrsThema_dict = {'convrsThema' : voice_collection_tool_convrsThema}\n",
    "voice_collection_tool_gender_dict = {'gender' : voice_collection_tool_gender}\n",
    "voice_collection_tool_recorderId_dict = {'recorderId' : voice_collection_tool_recorderId}\n",
    "voice_collection_tool_age_dict = {'age' : voice_collection_tool_age}"
   ]
  },
  {
   "cell_type": "code",
   "execution_count": null,
   "metadata": {},
   "outputs": [],
   "source": [
    "studio_sentence_dict = {'sentence' : studio_sentence}\n",
    "studio_scriptId_dict = {'Id' : studio_scriptId}\n",
    "studio_fileNm_dict = {'fileNm' : studio_fileNm}\n",
    "studio_recrdTime_dict = {'recrdTime' : studio_recrdTime}\n",
    "studio_recrdQuality_dict = {'recrdQuality' : studio_recrdQuality}\n",
    "studio_recrdDt_dict = {'recrdDt' : studio_recrdDt}\n",
    "studio_scriptSetNo_dict = {'scriptSetNo' : studio_scriptSetNo}\n",
    "studio_recrdEnvrn_dict = {'recrdEnvrn' : studio_recrdEnvrn}\n",
    "studio_colctUnitCode_dict = {'colctUnitCode' : studio_colctUnitCode}\n",
    "studio_cityCode_dict = {'cityCode' : studio_cityCode}\n",
    "studio_recrdUnit_dict = {'recrdUnit' : studio_recrdUnit}\n",
    "studio_convrsThema_dict = {'convrsThema' : studio_convrsThema}\n",
    "studio_gender_dict = {'gender' : studio_gender}\n",
    "studio_recorderId_dict = {'recorderId' : studio_recorderId}\n",
    "studio_age_dict = {'age' : studio_age}"
   ]
  },
  {
   "cell_type": "code",
   "execution_count": null,
   "metadata": {},
   "outputs": [],
   "source": [
    "AI_speaker_sentence_dict = {'sentence' : AI_speaker_sentence}\n",
    "AI_speaker_scriptId_dict = {'Id' : AI_speaker_scriptId}\n",
    "AI_speaker_fileNm_dict = {'fileNm' : AI_speaker_fileNm}\n",
    "AI_speaker_recrdTime_dict = {'recrdTime' : AI_speaker_recrdTime}\n",
    "AI_speaker_recrdQuality_dict = {'recrdQuality' : AI_speaker_recrdQuality}\n",
    "AI_speaker_recrdDt_dict = {'recrdDt' : AI_speaker_recrdDt}\n",
    "AI_speaker_scriptSetNo_dict = {'scriptSetNo' : AI_speaker_scriptSetNo}\n",
    "AI_speaker_recrdEnvrn_dict = {'recrdEnvrn' : AI_speaker_recrdEnvrn}\n",
    "AI_speaker_colctUnitCode_dict = {'colctUnitCode' : AI_speaker_colctUnitCode}\n",
    "AI_speaker_cityCode_dict = {'cityCode' : AI_speaker_cityCode}\n",
    "AI_speaker_recrdUnit_dict = {'recrdUnit' : AI_speaker_recrdUnit}\n",
    "AI_speaker_convrsThema_dict = {'convrsThema' : AI_speaker_convrsThema}\n",
    "AI_speaker_gender_dict = {'gender' : AI_speaker_gender}\n",
    "AI_speaker_recorderId_dict = {'recorderId' : AI_speaker_recorderId}\n",
    "AI_speaker_age_dict = {'age' : AI_speaker_age}"
   ]
  }
 ],
 "metadata": {
  "kernelspec": {
   "display_name": "Python 3.10.6 64-bit",
   "language": "python",
   "name": "python3"
  },
  "language_info": {
   "codemirror_mode": {
    "name": "ipython",
    "version": 3
   },
   "file_extension": ".py",
   "mimetype": "text/x-python",
   "name": "python",
   "nbconvert_exporter": "python",
   "pygments_lexer": "ipython3",
   "version": "3.10.6"
  },
  "orig_nbformat": 4,
  "vscode": {
   "interpreter": {
    "hash": "acf61029c60ecddcf4c5fb8e9e05647c40915d4fd9295be9f6d34ee655fa00f2"
   }
  }
 },
 "nbformat": 4,
 "nbformat_minor": 2
}
